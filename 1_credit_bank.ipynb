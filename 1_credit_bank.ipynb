{
  "cells": [
    {
      "cell_type": "markdown",
      "metadata": {
        "id": "view-in-github",
        "colab_type": "text"
      },
      "source": [
        "<a href=\"https://colab.research.google.com/github/alexOdin18/Yandex_Practicum/blob/main/1_credit_bank.ipynb\" target=\"_parent\"><img src=\"https://colab.research.google.com/assets/colab-badge.svg\" alt=\"Open In Colab\"/></a>"
      ]
    },
    {
      "cell_type": "markdown",
      "metadata": {
        "id": "cHIyQM2cUWRW"
      },
      "source": [
        "# Исследование надёжности заёмщиков\n",
        "\n",
        "Заказчик — кредитный отдел банка. Нужно разобраться, влияет ли семейное положение и количество детей клиента на факт погашения кредита в срок. Входные данные от банка — статистика о платёжеспособности клиентов.\n",
        "\n",
        "Результаты исследования будут учтены при построении модели **кредитного скоринга** — специальной системы, которая оценивает способность потенциального заёмщика вернуть кредит банку."
      ]
    },
    {
      "cell_type": "markdown",
      "metadata": {
        "id": "sOZgq6FJUWRX"
      },
      "source": [
        "## Шаг 1. Откройте файл с данными и изучите общую информацию"
      ]
    },
    {
      "cell_type": "code",
      "execution_count": null,
      "metadata": {
        "id": "Ljpn3dkcUWRZ"
      },
      "outputs": [],
      "source": [
        "import pandas as pd\n",
        "df = pd.read_csv('/datasets/data.csv')\n"
      ]
    },
    {
      "cell_type": "markdown",
      "metadata": {
        "id": "on2_q1WvUWRc"
      },
      "source": [
        "Посмотрим структуру таблицы"
      ]
    },
    {
      "cell_type": "code",
      "execution_count": null,
      "metadata": {
        "scrolled": true,
        "id": "atik5YZzUWRc",
        "outputId": "e19eaad4-e8a5-40b1-e680-d9980be14703"
      },
      "outputs": [
        {
          "data": {
            "text/html": [
              "<div>\n",
              "<style scoped>\n",
              "    .dataframe tbody tr th:only-of-type {\n",
              "        vertical-align: middle;\n",
              "    }\n",
              "\n",
              "    .dataframe tbody tr th {\n",
              "        vertical-align: top;\n",
              "    }\n",
              "\n",
              "    .dataframe thead th {\n",
              "        text-align: right;\n",
              "    }\n",
              "</style>\n",
              "<table border=\"1\" class=\"dataframe\">\n",
              "  <thead>\n",
              "    <tr style=\"text-align: right;\">\n",
              "      <th></th>\n",
              "      <th>children</th>\n",
              "      <th>days_employed</th>\n",
              "      <th>dob_years</th>\n",
              "      <th>education</th>\n",
              "      <th>education_id</th>\n",
              "      <th>family_status</th>\n",
              "      <th>family_status_id</th>\n",
              "      <th>gender</th>\n",
              "      <th>income_type</th>\n",
              "      <th>debt</th>\n",
              "      <th>total_income</th>\n",
              "      <th>purpose</th>\n",
              "    </tr>\n",
              "  </thead>\n",
              "  <tbody>\n",
              "    <tr>\n",
              "      <td>0</td>\n",
              "      <td>1</td>\n",
              "      <td>-8437.673028</td>\n",
              "      <td>42</td>\n",
              "      <td>высшее</td>\n",
              "      <td>0</td>\n",
              "      <td>женат / замужем</td>\n",
              "      <td>0</td>\n",
              "      <td>F</td>\n",
              "      <td>сотрудник</td>\n",
              "      <td>0</td>\n",
              "      <td>253875.639453</td>\n",
              "      <td>покупка жилья</td>\n",
              "    </tr>\n",
              "    <tr>\n",
              "      <td>1</td>\n",
              "      <td>1</td>\n",
              "      <td>-4024.803754</td>\n",
              "      <td>36</td>\n",
              "      <td>среднее</td>\n",
              "      <td>1</td>\n",
              "      <td>женат / замужем</td>\n",
              "      <td>0</td>\n",
              "      <td>F</td>\n",
              "      <td>сотрудник</td>\n",
              "      <td>0</td>\n",
              "      <td>112080.014102</td>\n",
              "      <td>приобретение автомобиля</td>\n",
              "    </tr>\n",
              "    <tr>\n",
              "      <td>2</td>\n",
              "      <td>0</td>\n",
              "      <td>-5623.422610</td>\n",
              "      <td>33</td>\n",
              "      <td>Среднее</td>\n",
              "      <td>1</td>\n",
              "      <td>женат / замужем</td>\n",
              "      <td>0</td>\n",
              "      <td>M</td>\n",
              "      <td>сотрудник</td>\n",
              "      <td>0</td>\n",
              "      <td>145885.952297</td>\n",
              "      <td>покупка жилья</td>\n",
              "    </tr>\n",
              "    <tr>\n",
              "      <td>3</td>\n",
              "      <td>3</td>\n",
              "      <td>-4124.747207</td>\n",
              "      <td>32</td>\n",
              "      <td>среднее</td>\n",
              "      <td>1</td>\n",
              "      <td>женат / замужем</td>\n",
              "      <td>0</td>\n",
              "      <td>M</td>\n",
              "      <td>сотрудник</td>\n",
              "      <td>0</td>\n",
              "      <td>267628.550329</td>\n",
              "      <td>дополнительное образование</td>\n",
              "    </tr>\n",
              "    <tr>\n",
              "      <td>4</td>\n",
              "      <td>0</td>\n",
              "      <td>340266.072047</td>\n",
              "      <td>53</td>\n",
              "      <td>среднее</td>\n",
              "      <td>1</td>\n",
              "      <td>гражданский брак</td>\n",
              "      <td>1</td>\n",
              "      <td>F</td>\n",
              "      <td>пенсионер</td>\n",
              "      <td>0</td>\n",
              "      <td>158616.077870</td>\n",
              "      <td>сыграть свадьбу</td>\n",
              "    </tr>\n",
              "    <tr>\n",
              "      <td>5</td>\n",
              "      <td>0</td>\n",
              "      <td>-926.185831</td>\n",
              "      <td>27</td>\n",
              "      <td>высшее</td>\n",
              "      <td>0</td>\n",
              "      <td>гражданский брак</td>\n",
              "      <td>1</td>\n",
              "      <td>M</td>\n",
              "      <td>компаньон</td>\n",
              "      <td>0</td>\n",
              "      <td>255763.565419</td>\n",
              "      <td>покупка жилья</td>\n",
              "    </tr>\n",
              "    <tr>\n",
              "      <td>6</td>\n",
              "      <td>0</td>\n",
              "      <td>-2879.202052</td>\n",
              "      <td>43</td>\n",
              "      <td>высшее</td>\n",
              "      <td>0</td>\n",
              "      <td>женат / замужем</td>\n",
              "      <td>0</td>\n",
              "      <td>F</td>\n",
              "      <td>компаньон</td>\n",
              "      <td>0</td>\n",
              "      <td>240525.971920</td>\n",
              "      <td>операции с жильем</td>\n",
              "    </tr>\n",
              "    <tr>\n",
              "      <td>7</td>\n",
              "      <td>0</td>\n",
              "      <td>-152.779569</td>\n",
              "      <td>50</td>\n",
              "      <td>СРЕДНЕЕ</td>\n",
              "      <td>1</td>\n",
              "      <td>женат / замужем</td>\n",
              "      <td>0</td>\n",
              "      <td>M</td>\n",
              "      <td>сотрудник</td>\n",
              "      <td>0</td>\n",
              "      <td>135823.934197</td>\n",
              "      <td>образование</td>\n",
              "    </tr>\n",
              "    <tr>\n",
              "      <td>8</td>\n",
              "      <td>2</td>\n",
              "      <td>-6929.865299</td>\n",
              "      <td>35</td>\n",
              "      <td>ВЫСШЕЕ</td>\n",
              "      <td>0</td>\n",
              "      <td>гражданский брак</td>\n",
              "      <td>1</td>\n",
              "      <td>F</td>\n",
              "      <td>сотрудник</td>\n",
              "      <td>0</td>\n",
              "      <td>95856.832424</td>\n",
              "      <td>на проведение свадьбы</td>\n",
              "    </tr>\n",
              "    <tr>\n",
              "      <td>9</td>\n",
              "      <td>0</td>\n",
              "      <td>-2188.756445</td>\n",
              "      <td>41</td>\n",
              "      <td>среднее</td>\n",
              "      <td>1</td>\n",
              "      <td>женат / замужем</td>\n",
              "      <td>0</td>\n",
              "      <td>M</td>\n",
              "      <td>сотрудник</td>\n",
              "      <td>0</td>\n",
              "      <td>144425.938277</td>\n",
              "      <td>покупка жилья для семьи</td>\n",
              "    </tr>\n",
              "  </tbody>\n",
              "</table>\n",
              "</div>"
            ],
            "text/plain": [
              "   children  days_employed  dob_years education  education_id  \\\n",
              "0         1   -8437.673028         42    высшее             0   \n",
              "1         1   -4024.803754         36   среднее             1   \n",
              "2         0   -5623.422610         33   Среднее             1   \n",
              "3         3   -4124.747207         32   среднее             1   \n",
              "4         0  340266.072047         53   среднее             1   \n",
              "5         0    -926.185831         27    высшее             0   \n",
              "6         0   -2879.202052         43    высшее             0   \n",
              "7         0    -152.779569         50   СРЕДНЕЕ             1   \n",
              "8         2   -6929.865299         35    ВЫСШЕЕ             0   \n",
              "9         0   -2188.756445         41   среднее             1   \n",
              "\n",
              "      family_status  family_status_id gender income_type  debt   total_income  \\\n",
              "0   женат / замужем                 0      F   сотрудник     0  253875.639453   \n",
              "1   женат / замужем                 0      F   сотрудник     0  112080.014102   \n",
              "2   женат / замужем                 0      M   сотрудник     0  145885.952297   \n",
              "3   женат / замужем                 0      M   сотрудник     0  267628.550329   \n",
              "4  гражданский брак                 1      F   пенсионер     0  158616.077870   \n",
              "5  гражданский брак                 1      M   компаньон     0  255763.565419   \n",
              "6   женат / замужем                 0      F   компаньон     0  240525.971920   \n",
              "7   женат / замужем                 0      M   сотрудник     0  135823.934197   \n",
              "8  гражданский брак                 1      F   сотрудник     0   95856.832424   \n",
              "9   женат / замужем                 0      M   сотрудник     0  144425.938277   \n",
              "\n",
              "                      purpose  \n",
              "0               покупка жилья  \n",
              "1     приобретение автомобиля  \n",
              "2               покупка жилья  \n",
              "3  дополнительное образование  \n",
              "4             сыграть свадьбу  \n",
              "5               покупка жилья  \n",
              "6           операции с жильем  \n",
              "7                 образование  \n",
              "8       на проведение свадьбы  \n",
              "9     покупка жилья для семьи  "
            ]
          },
          "execution_count": 68,
          "metadata": {},
          "output_type": "execute_result"
        }
      ],
      "source": [
        "df.head(10)"
      ]
    },
    {
      "cell_type": "markdown",
      "metadata": {
        "id": "bmgB73ShUWRf"
      },
      "source": [
        "Исходя из поставленной задачи можно предположить, что для оценки влияния кол-ва детей и семейного положения на факт погашения кредита в срок для анализа нам понадобятся столбцы: 'children', 'family_status_id' где 0 - это женат/замужем, а 1 - соответствует категории не женат/не замужем (гражданский брак) и 'debt' - где 0 - отсутсвие задолженности, а 1 - задолженность есть."
      ]
    },
    {
      "cell_type": "code",
      "execution_count": null,
      "metadata": {
        "id": "f5p7yT0TUWRg",
        "outputId": "9dbda3b5-89ba-4496-cb01-8273ca81463b"
      },
      "outputs": [
        {
          "name": "stdout",
          "output_type": "stream",
          "text": [
            "4177\n"
          ]
        }
      ],
      "source": [
        "print(df[df['family_status_id'] == 1]['family_status_id'].count())"
      ]
    },
    {
      "cell_type": "markdown",
      "metadata": {
        "id": "Szfcxhq9UWRh"
      },
      "source": [
        "Сводная информация по таблице"
      ]
    },
    {
      "cell_type": "code",
      "execution_count": null,
      "metadata": {
        "scrolled": false,
        "id": "iEBxfsuWUWRi",
        "outputId": "0bd86457-1eb0-4ae9-f49c-850b2e7e27e8"
      },
      "outputs": [
        {
          "name": "stdout",
          "output_type": "stream",
          "text": [
            "<class 'pandas.core.frame.DataFrame'>\n",
            "RangeIndex: 21525 entries, 0 to 21524\n",
            "Data columns (total 12 columns):\n",
            "children            21525 non-null int64\n",
            "days_employed       19351 non-null float64\n",
            "dob_years           21525 non-null int64\n",
            "education           21525 non-null object\n",
            "education_id        21525 non-null int64\n",
            "family_status       21525 non-null object\n",
            "family_status_id    21525 non-null int64\n",
            "gender              21525 non-null object\n",
            "income_type         21525 non-null object\n",
            "debt                21525 non-null int64\n",
            "total_income        19351 non-null float64\n",
            "purpose             21525 non-null object\n",
            "dtypes: float64(2), int64(5), object(5)\n",
            "memory usage: 2.0+ MB\n"
          ]
        }
      ],
      "source": [
        "df.info()"
      ]
    },
    {
      "cell_type": "markdown",
      "metadata": {
        "id": "1LlA0IrhUWRk"
      },
      "source": [
        "Из сводной информации по таблице df видно, что в стобцах \"days_employed\" и \"total_income\" количество записей данных отличается от данных из других колонок."
      ]
    },
    {
      "cell_type": "markdown",
      "metadata": {
        "id": "8gNtcjNRUWRk"
      },
      "source": [
        "Посмотрим есть ли в названиях столбцов лишние символы"
      ]
    },
    {
      "cell_type": "code",
      "execution_count": null,
      "metadata": {
        "scrolled": true,
        "id": "4xYfZ-w6UWRl",
        "outputId": "3ae7eebd-7de5-4760-a26e-c963c243c962"
      },
      "outputs": [
        {
          "data": {
            "text/plain": [
              "Index(['children', 'days_employed', 'dob_years', 'education', 'education_id',\n",
              "       'family_status', 'family_status_id', 'gender', 'income_type', 'debt',\n",
              "       'total_income', 'purpose'],\n",
              "      dtype='object')"
            ]
          },
          "execution_count": 71,
          "metadata": {},
          "output_type": "execute_result"
        }
      ],
      "source": [
        "df.columns "
      ]
    },
    {
      "cell_type": "markdown",
      "metadata": {
        "id": "GiqzQLmFUWRl"
      },
      "source": [
        "Названия столбцов корректны, лишних символов нет. "
      ]
    },
    {
      "cell_type": "markdown",
      "metadata": {
        "id": "2d716guIUWRm"
      },
      "source": [
        "## Шаг 2. Предобработка данных"
      ]
    },
    {
      "cell_type": "markdown",
      "metadata": {
        "id": "tIl0iSrrUWRm"
      },
      "source": [
        "### Обработка пропусков"
      ]
    },
    {
      "cell_type": "markdown",
      "metadata": {
        "id": "_7SWm8F2UWRn"
      },
      "source": [
        "Проверим данные на наличие пропусков и просуммируем их количество"
      ]
    },
    {
      "cell_type": "code",
      "execution_count": null,
      "metadata": {
        "scrolled": true,
        "id": "BnZvZMLFUWRn",
        "outputId": "be1692ed-87ca-414b-9500-c09b4c33fa49"
      },
      "outputs": [
        {
          "data": {
            "text/plain": [
              "children               0\n",
              "days_employed       2174\n",
              "dob_years              0\n",
              "education              0\n",
              "education_id           0\n",
              "family_status          0\n",
              "family_status_id       0\n",
              "gender                 0\n",
              "income_type            0\n",
              "debt                   0\n",
              "total_income        2174\n",
              "purpose                0\n",
              "dtype: int64"
            ]
          },
          "execution_count": 72,
          "metadata": {},
          "output_type": "execute_result"
        }
      ],
      "source": [
        "df.isna().sum()"
      ]
    },
    {
      "cell_type": "markdown",
      "metadata": {
        "id": "PneDEDghUWRo"
      },
      "source": [
        "<div class=\"alert alert-success\">\n",
        "🕵  Внес изменения: исправил метод isnull() на isna(). Это как типа более камильфо, как я понял)"
      ]
    },
    {
      "cell_type": "markdown",
      "metadata": {
        "id": "tPAF2YcNUWRq"
      },
      "source": [
        "В столбцах \"days_employed\" и \"total_income\" одинаковое количество пропусков - 2174, что наводит на мысль, что пропуски не случайны и характерны для определенной категории людей \"income_type\". Проверим эту гипотезу."
      ]
    },
    {
      "cell_type": "code",
      "execution_count": null,
      "metadata": {
        "scrolled": true,
        "id": "eQ39XytgUWRq",
        "outputId": "d8eb5899-d05c-42ab-dd5f-cc6ffda96618"
      },
      "outputs": [
        {
          "name": "stdout",
          "output_type": "stream",
          "text": [
            "['сотрудник' 'пенсионер' 'компаньон' 'госслужащий' 'безработный'\n",
            " 'предприниматель' 'студент' 'в декрете']\n"
          ]
        }
      ],
      "source": [
        "print(df['income_type'].unique())"
      ]
    },
    {
      "cell_type": "markdown",
      "metadata": {
        "id": "iVk6UGHbUWRr"
      },
      "source": [
        "Посмотрим первые 10 строк содержащих пропуски"
      ]
    },
    {
      "cell_type": "code",
      "execution_count": null,
      "metadata": {
        "id": "2FltRy9jUWRr",
        "outputId": "2197b4a6-55b0-46ca-f70d-5fa2de00d450"
      },
      "outputs": [
        {
          "data": {
            "text/html": [
              "<div>\n",
              "<style scoped>\n",
              "    .dataframe tbody tr th:only-of-type {\n",
              "        vertical-align: middle;\n",
              "    }\n",
              "\n",
              "    .dataframe tbody tr th {\n",
              "        vertical-align: top;\n",
              "    }\n",
              "\n",
              "    .dataframe thead th {\n",
              "        text-align: right;\n",
              "    }\n",
              "</style>\n",
              "<table border=\"1\" class=\"dataframe\">\n",
              "  <thead>\n",
              "    <tr style=\"text-align: right;\">\n",
              "      <th></th>\n",
              "      <th>children</th>\n",
              "      <th>days_employed</th>\n",
              "      <th>dob_years</th>\n",
              "      <th>education</th>\n",
              "      <th>education_id</th>\n",
              "      <th>family_status</th>\n",
              "      <th>family_status_id</th>\n",
              "      <th>gender</th>\n",
              "      <th>income_type</th>\n",
              "      <th>debt</th>\n",
              "      <th>total_income</th>\n",
              "      <th>purpose</th>\n",
              "    </tr>\n",
              "  </thead>\n",
              "  <tbody>\n",
              "    <tr>\n",
              "      <td>12</td>\n",
              "      <td>0</td>\n",
              "      <td>NaN</td>\n",
              "      <td>65</td>\n",
              "      <td>среднее</td>\n",
              "      <td>1</td>\n",
              "      <td>гражданский брак</td>\n",
              "      <td>1</td>\n",
              "      <td>M</td>\n",
              "      <td>пенсионер</td>\n",
              "      <td>0</td>\n",
              "      <td>NaN</td>\n",
              "      <td>сыграть свадьбу</td>\n",
              "    </tr>\n",
              "    <tr>\n",
              "      <td>26</td>\n",
              "      <td>0</td>\n",
              "      <td>NaN</td>\n",
              "      <td>41</td>\n",
              "      <td>среднее</td>\n",
              "      <td>1</td>\n",
              "      <td>женат / замужем</td>\n",
              "      <td>0</td>\n",
              "      <td>M</td>\n",
              "      <td>госслужащий</td>\n",
              "      <td>0</td>\n",
              "      <td>NaN</td>\n",
              "      <td>образование</td>\n",
              "    </tr>\n",
              "    <tr>\n",
              "      <td>29</td>\n",
              "      <td>0</td>\n",
              "      <td>NaN</td>\n",
              "      <td>63</td>\n",
              "      <td>среднее</td>\n",
              "      <td>1</td>\n",
              "      <td>Не женат / не замужем</td>\n",
              "      <td>4</td>\n",
              "      <td>F</td>\n",
              "      <td>пенсионер</td>\n",
              "      <td>0</td>\n",
              "      <td>NaN</td>\n",
              "      <td>строительство жилой недвижимости</td>\n",
              "    </tr>\n",
              "    <tr>\n",
              "      <td>41</td>\n",
              "      <td>0</td>\n",
              "      <td>NaN</td>\n",
              "      <td>50</td>\n",
              "      <td>среднее</td>\n",
              "      <td>1</td>\n",
              "      <td>женат / замужем</td>\n",
              "      <td>0</td>\n",
              "      <td>F</td>\n",
              "      <td>госслужащий</td>\n",
              "      <td>0</td>\n",
              "      <td>NaN</td>\n",
              "      <td>сделка с подержанным автомобилем</td>\n",
              "    </tr>\n",
              "    <tr>\n",
              "      <td>55</td>\n",
              "      <td>0</td>\n",
              "      <td>NaN</td>\n",
              "      <td>54</td>\n",
              "      <td>среднее</td>\n",
              "      <td>1</td>\n",
              "      <td>гражданский брак</td>\n",
              "      <td>1</td>\n",
              "      <td>F</td>\n",
              "      <td>пенсионер</td>\n",
              "      <td>1</td>\n",
              "      <td>NaN</td>\n",
              "      <td>сыграть свадьбу</td>\n",
              "    </tr>\n",
              "    <tr>\n",
              "      <td>65</td>\n",
              "      <td>0</td>\n",
              "      <td>NaN</td>\n",
              "      <td>21</td>\n",
              "      <td>среднее</td>\n",
              "      <td>1</td>\n",
              "      <td>Не женат / не замужем</td>\n",
              "      <td>4</td>\n",
              "      <td>M</td>\n",
              "      <td>компаньон</td>\n",
              "      <td>0</td>\n",
              "      <td>NaN</td>\n",
              "      <td>операции с коммерческой недвижимостью</td>\n",
              "    </tr>\n",
              "    <tr>\n",
              "      <td>67</td>\n",
              "      <td>0</td>\n",
              "      <td>NaN</td>\n",
              "      <td>52</td>\n",
              "      <td>высшее</td>\n",
              "      <td>0</td>\n",
              "      <td>женат / замужем</td>\n",
              "      <td>0</td>\n",
              "      <td>F</td>\n",
              "      <td>пенсионер</td>\n",
              "      <td>0</td>\n",
              "      <td>NaN</td>\n",
              "      <td>покупка жилья для семьи</td>\n",
              "    </tr>\n",
              "    <tr>\n",
              "      <td>72</td>\n",
              "      <td>1</td>\n",
              "      <td>NaN</td>\n",
              "      <td>32</td>\n",
              "      <td>высшее</td>\n",
              "      <td>0</td>\n",
              "      <td>женат / замужем</td>\n",
              "      <td>0</td>\n",
              "      <td>M</td>\n",
              "      <td>госслужащий</td>\n",
              "      <td>0</td>\n",
              "      <td>NaN</td>\n",
              "      <td>операции с коммерческой недвижимостью</td>\n",
              "    </tr>\n",
              "    <tr>\n",
              "      <td>82</td>\n",
              "      <td>2</td>\n",
              "      <td>NaN</td>\n",
              "      <td>50</td>\n",
              "      <td>высшее</td>\n",
              "      <td>0</td>\n",
              "      <td>женат / замужем</td>\n",
              "      <td>0</td>\n",
              "      <td>F</td>\n",
              "      <td>сотрудник</td>\n",
              "      <td>0</td>\n",
              "      <td>NaN</td>\n",
              "      <td>жилье</td>\n",
              "    </tr>\n",
              "    <tr>\n",
              "      <td>83</td>\n",
              "      <td>0</td>\n",
              "      <td>NaN</td>\n",
              "      <td>52</td>\n",
              "      <td>среднее</td>\n",
              "      <td>1</td>\n",
              "      <td>женат / замужем</td>\n",
              "      <td>0</td>\n",
              "      <td>M</td>\n",
              "      <td>сотрудник</td>\n",
              "      <td>0</td>\n",
              "      <td>NaN</td>\n",
              "      <td>жилье</td>\n",
              "    </tr>\n",
              "  </tbody>\n",
              "</table>\n",
              "</div>"
            ],
            "text/plain": [
              "    children  days_employed  dob_years education  education_id  \\\n",
              "12         0            NaN         65   среднее             1   \n",
              "26         0            NaN         41   среднее             1   \n",
              "29         0            NaN         63   среднее             1   \n",
              "41         0            NaN         50   среднее             1   \n",
              "55         0            NaN         54   среднее             1   \n",
              "65         0            NaN         21   среднее             1   \n",
              "67         0            NaN         52    высшее             0   \n",
              "72         1            NaN         32    высшее             0   \n",
              "82         2            NaN         50    высшее             0   \n",
              "83         0            NaN         52   среднее             1   \n",
              "\n",
              "            family_status  family_status_id gender  income_type  debt  \\\n",
              "12       гражданский брак                 1      M    пенсионер     0   \n",
              "26        женат / замужем                 0      M  госслужащий     0   \n",
              "29  Не женат / не замужем                 4      F    пенсионер     0   \n",
              "41        женат / замужем                 0      F  госслужащий     0   \n",
              "55       гражданский брак                 1      F    пенсионер     1   \n",
              "65  Не женат / не замужем                 4      M    компаньон     0   \n",
              "67        женат / замужем                 0      F    пенсионер     0   \n",
              "72        женат / замужем                 0      M  госслужащий     0   \n",
              "82        женат / замужем                 0      F    сотрудник     0   \n",
              "83        женат / замужем                 0      M    сотрудник     0   \n",
              "\n",
              "    total_income                                purpose  \n",
              "12           NaN                        сыграть свадьбу  \n",
              "26           NaN                            образование  \n",
              "29           NaN       строительство жилой недвижимости  \n",
              "41           NaN       сделка с подержанным автомобилем  \n",
              "55           NaN                        сыграть свадьбу  \n",
              "65           NaN  операции с коммерческой недвижимостью  \n",
              "67           NaN                покупка жилья для семьи  \n",
              "72           NaN  операции с коммерческой недвижимостью  \n",
              "82           NaN                                  жилье  \n",
              "83           NaN                                  жилье  "
            ]
          },
          "execution_count": 74,
          "metadata": {},
          "output_type": "execute_result"
        }
      ],
      "source": [
        "null_data = df[df.isnull().any(1)]\n",
        "null_data.head(10)"
      ]
    },
    {
      "cell_type": "code",
      "execution_count": null,
      "metadata": {
        "id": "6d5fayFJUWRs",
        "outputId": "2cde68c8-7569-4e41-e08e-9ea1aad6a900"
      },
      "outputs": [
        {
          "name": "stdout",
          "output_type": "stream",
          "text": [
            "сотрудник          1105\n",
            "компаньон           508\n",
            "пенсионер           413\n",
            "госслужащий         147\n",
            "предприниматель       1\n",
            "Name: income_type, dtype: int64\n"
          ]
        }
      ],
      "source": [
        "print(null_data['income_type'].value_counts())"
      ]
    },
    {
      "cell_type": "markdown",
      "metadata": {
        "id": "O_23my1MUWRt"
      },
      "source": [
        "Из отсортированной по пропускам таблице (только строки содержащие хотя бы 1 пропуск) видно, что категория людей не влияет на наличие пропусков: пропуски есть как у \"пенсионер\", так и у \"госслужащий\" и \"сотрудник\". Гипотеза не подтвердилась. \n",
        "Возможная причина пропусков связана с отсутствием жестких требований у банков по этим данным у заёмщиков. "
      ]
    },
    {
      "cell_type": "markdown",
      "metadata": {
        "id": "ePdSdZU5UWRt"
      },
      "source": [
        "Чтобы заполнить пропущенные значения и снизить влияния этих данных на результат нужно для каждой категории людей, в строках которых есть пропуски найти медианное значение в соответствующих столбцах и заполнить ими пропуски."
      ]
    },
    {
      "cell_type": "markdown",
      "metadata": {
        "id": "aX7Gied9UWRt"
      },
      "source": [
        "Используя функцию lambda и метод fillna() заполним пропущенные значения столбца 'total_income' на соответствующие каждой категории 'income_type' медианные значения."
      ]
    },
    {
      "cell_type": "code",
      "execution_count": null,
      "metadata": {
        "scrolled": false,
        "id": "kC0X6YB5UWRu",
        "outputId": "2572f5d4-8b8a-42ef-873f-78a32fa8a31a"
      },
      "outputs": [
        {
          "data": {
            "text/plain": [
              "children               0\n",
              "days_employed       2174\n",
              "dob_years              0\n",
              "education              0\n",
              "education_id           0\n",
              "family_status          0\n",
              "family_status_id       0\n",
              "gender                 0\n",
              "income_type            0\n",
              "debt                   0\n",
              "total_income           0\n",
              "purpose                0\n",
              "dtype: int64"
            ]
          },
          "execution_count": 76,
          "metadata": {},
          "output_type": "execute_result"
        }
      ],
      "source": [
        "df['total_income'] = df.groupby('income_type')['total_income'].apply(lambda x: x.fillna(x.median()))\n",
        "df.isna().sum()"
      ]
    },
    {
      "cell_type": "markdown",
      "metadata": {
        "id": "2mVg7Hx-UWRu"
      },
      "source": [
        "<div class=\"alert alert-success\">\n",
        "🕵 Исправил! Отличный вариант, спасибо! Он мне явно больше нравится, так как вариант с циклом немного замороченный! Честно сказать всегда ищу способ не писать цикл. Думаю в pandas куча методов и функций позволяющих делать то, что хочешь без написания цикла."
      ]
    },
    {
      "cell_type": "markdown",
      "metadata": {
        "id": "4dTg4PzgUWRw"
      },
      "source": [
        "Заполняем пропущенные значения в столбце 'days_employed'.\n",
        "Так как этот столбец не влияет на выводы, необходимые заказчику заполняем пропущенные значения нулем."
      ]
    },
    {
      "cell_type": "code",
      "execution_count": null,
      "metadata": {
        "id": "_YCr3hC0UWRw",
        "outputId": "fff15e64-0397-43dc-9f20-d624fb77ce0c"
      },
      "outputs": [
        {
          "data": {
            "text/plain": [
              "children            0\n",
              "days_employed       0\n",
              "dob_years           0\n",
              "education           0\n",
              "education_id        0\n",
              "family_status       0\n",
              "family_status_id    0\n",
              "gender              0\n",
              "income_type         0\n",
              "debt                0\n",
              "total_income        0\n",
              "purpose             0\n",
              "dtype: int64"
            ]
          },
          "execution_count": 77,
          "metadata": {},
          "output_type": "execute_result"
        }
      ],
      "source": [
        "df['days_employed'] = df['days_employed'].fillna(0)\n",
        "df.isnull().sum()"
      ]
    },
    {
      "cell_type": "markdown",
      "metadata": {
        "id": "zAYallvHUWRx"
      },
      "source": [
        "**Вывод**"
      ]
    },
    {
      "cell_type": "markdown",
      "metadata": {
        "id": "HQ6y0-VdUWRx"
      },
      "source": [
        "На этапе предобработке данных были обнаружены пропущенные значения в столбцах \"days_employed\" и \"total_income\". Вероятная гипотеза причины пропусков - отсутствие жестких требований у банка по этим данным у заёмщиков. \n",
        "Пропущенные значения в столбце \"total_income\" были заменены на медианные значения по каждому виду занятости.\n",
        "Пропущенные значения в столбце \"days_employed\" были заменены на нули."
      ]
    },
    {
      "cell_type": "markdown",
      "metadata": {
        "id": "QrLqf9-nUWRx"
      },
      "source": [
        "### Замена типа данных"
      ]
    },
    {
      "cell_type": "markdown",
      "metadata": {
        "id": "Bj6JQkz_UWRx"
      },
      "source": [
        "Для более удобного чтения и дальнейшей работы нужно изменить данные с float на целочисленные значения int. "
      ]
    },
    {
      "cell_type": "code",
      "execution_count": null,
      "metadata": {
        "scrolled": false,
        "id": "D_HCfF1DUWRy",
        "outputId": "02feac69-2b34-4b38-cf37-dd3b449de629"
      },
      "outputs": [
        {
          "data": {
            "text/plain": [
              "children              int64\n",
              "days_employed       float64\n",
              "dob_years             int64\n",
              "education            object\n",
              "education_id          int64\n",
              "family_status        object\n",
              "family_status_id      int64\n",
              "gender               object\n",
              "income_type          object\n",
              "debt                  int64\n",
              "total_income        float64\n",
              "purpose              object\n",
              "dtype: object"
            ]
          },
          "execution_count": 78,
          "metadata": {},
          "output_type": "execute_result"
        }
      ],
      "source": [
        "df.dtypes"
      ]
    },
    {
      "cell_type": "markdown",
      "metadata": {
        "id": "tLs70JNWUWRy"
      },
      "source": [
        "Используем метод astype для изменения типа данных в заданных столбцах."
      ]
    },
    {
      "cell_type": "code",
      "execution_count": null,
      "metadata": {
        "id": "nyTKlKHzUWRy",
        "outputId": "0e94288b-fcf3-430f-9b63-c115d07d78fb"
      },
      "outputs": [
        {
          "data": {
            "text/plain": [
              "children             int64\n",
              "days_employed        int64\n",
              "dob_years            int64\n",
              "education           object\n",
              "education_id         int64\n",
              "family_status       object\n",
              "family_status_id     int64\n",
              "gender              object\n",
              "income_type         object\n",
              "debt                 int64\n",
              "total_income         int64\n",
              "purpose             object\n",
              "dtype: object"
            ]
          },
          "execution_count": 79,
          "metadata": {},
          "output_type": "execute_result"
        }
      ],
      "source": [
        "df[['days_employed', 'total_income']] = df[['days_employed', 'total_income']].astype('int')\n",
        "\n",
        "#проверим изменения\n",
        "df.dtypes"
      ]
    },
    {
      "cell_type": "code",
      "execution_count": null,
      "metadata": {
        "id": "ctBv9lXGUWR0",
        "outputId": "6cf88b39-262a-4256-871c-e36fd2105ee6"
      },
      "outputs": [
        {
          "data": {
            "text/html": [
              "<div>\n",
              "<style scoped>\n",
              "    .dataframe tbody tr th:only-of-type {\n",
              "        vertical-align: middle;\n",
              "    }\n",
              "\n",
              "    .dataframe tbody tr th {\n",
              "        vertical-align: top;\n",
              "    }\n",
              "\n",
              "    .dataframe thead th {\n",
              "        text-align: right;\n",
              "    }\n",
              "</style>\n",
              "<table border=\"1\" class=\"dataframe\">\n",
              "  <thead>\n",
              "    <tr style=\"text-align: right;\">\n",
              "      <th></th>\n",
              "      <th>days_employed</th>\n",
              "      <th>total_income</th>\n",
              "    </tr>\n",
              "  </thead>\n",
              "  <tbody>\n",
              "    <tr>\n",
              "      <td>0</td>\n",
              "      <td>-8437</td>\n",
              "      <td>253875</td>\n",
              "    </tr>\n",
              "    <tr>\n",
              "      <td>1</td>\n",
              "      <td>-4024</td>\n",
              "      <td>112080</td>\n",
              "    </tr>\n",
              "    <tr>\n",
              "      <td>2</td>\n",
              "      <td>-5623</td>\n",
              "      <td>145885</td>\n",
              "    </tr>\n",
              "    <tr>\n",
              "      <td>3</td>\n",
              "      <td>-4124</td>\n",
              "      <td>267628</td>\n",
              "    </tr>\n",
              "    <tr>\n",
              "      <td>4</td>\n",
              "      <td>340266</td>\n",
              "      <td>158616</td>\n",
              "    </tr>\n",
              "  </tbody>\n",
              "</table>\n",
              "</div>"
            ],
            "text/plain": [
              "   days_employed  total_income\n",
              "0          -8437        253875\n",
              "1          -4024        112080\n",
              "2          -5623        145885\n",
              "3          -4124        267628\n",
              "4         340266        158616"
            ]
          },
          "execution_count": 80,
          "metadata": {},
          "output_type": "execute_result"
        }
      ],
      "source": [
        "df.loc[:, ['days_employed', 'total_income']].head()"
      ]
    },
    {
      "cell_type": "markdown",
      "metadata": {
        "id": "eW2G3EDyUWR0"
      },
      "source": [
        "**Вывод**"
      ]
    },
    {
      "cell_type": "markdown",
      "metadata": {
        "id": "yM_1gbjDUWR0"
      },
      "source": [
        "Были изменены типы данных с float на int. Для изменения типа данных в заданных столбцах был использован метод astype()."
      ]
    },
    {
      "cell_type": "markdown",
      "metadata": {
        "id": "bH-B9RoeUWR1"
      },
      "source": [
        "### Обработка дубликатов"
      ]
    },
    {
      "cell_type": "markdown",
      "metadata": {
        "id": "4NiQ7krSUWR1"
      },
      "source": [
        "Для точного определения дубликатов нужно привести все записи object в соответствующих столбцах привести к нижнем регистру и применить метод duplicated().sum() для подсчета количества дубликатов в таблице."
      ]
    },
    {
      "cell_type": "code",
      "execution_count": null,
      "metadata": {
        "scrolled": true,
        "id": "yLduSw3NUWR1",
        "outputId": "21652c7d-a305-437b-c65b-e5936139ab66"
      },
      "outputs": [
        {
          "data": {
            "text/plain": [
              "среднее                13750\n",
              "высшее                  4718\n",
              "СРЕДНЕЕ                  772\n",
              "Среднее                  711\n",
              "неоконченное высшее      668\n",
              "ВЫСШЕЕ                   274\n",
              "Высшее                   268\n",
              "начальное                250\n",
              "Неоконченное высшее       47\n",
              "НЕОКОНЧЕННОЕ ВЫСШЕЕ       29\n",
              "НАЧАЛЬНОЕ                 17\n",
              "Начальное                 15\n",
              "ученая степень             4\n",
              "УЧЕНАЯ СТЕПЕНЬ             1\n",
              "Ученая степень             1\n",
              "Name: education, dtype: int64"
            ]
          },
          "execution_count": 81,
          "metadata": {},
          "output_type": "execute_result"
        }
      ],
      "source": [
        "df['education'].value_counts()"
      ]
    },
    {
      "cell_type": "code",
      "execution_count": null,
      "metadata": {
        "scrolled": true,
        "id": "G4tgMQKTUWR2",
        "outputId": "9b7c8490-9596-4799-e65b-5ce1c041bffb"
      },
      "outputs": [
        {
          "data": {
            "text/html": [
              "<div>\n",
              "<style scoped>\n",
              "    .dataframe tbody tr th:only-of-type {\n",
              "        vertical-align: middle;\n",
              "    }\n",
              "\n",
              "    .dataframe tbody tr th {\n",
              "        vertical-align: top;\n",
              "    }\n",
              "\n",
              "    .dataframe thead th {\n",
              "        text-align: right;\n",
              "    }\n",
              "</style>\n",
              "<table border=\"1\" class=\"dataframe\">\n",
              "  <thead>\n",
              "    <tr style=\"text-align: right;\">\n",
              "      <th></th>\n",
              "      <th>education</th>\n",
              "      <th>family_status</th>\n",
              "      <th>gender</th>\n",
              "      <th>income_type</th>\n",
              "      <th>purpose</th>\n",
              "    </tr>\n",
              "  </thead>\n",
              "  <tbody>\n",
              "    <tr>\n",
              "      <td>0</td>\n",
              "      <td>высшее</td>\n",
              "      <td>женат / замужем</td>\n",
              "      <td>f</td>\n",
              "      <td>сотрудник</td>\n",
              "      <td>покупка жилья</td>\n",
              "    </tr>\n",
              "    <tr>\n",
              "      <td>1</td>\n",
              "      <td>среднее</td>\n",
              "      <td>женат / замужем</td>\n",
              "      <td>f</td>\n",
              "      <td>сотрудник</td>\n",
              "      <td>приобретение автомобиля</td>\n",
              "    </tr>\n",
              "    <tr>\n",
              "      <td>2</td>\n",
              "      <td>среднее</td>\n",
              "      <td>женат / замужем</td>\n",
              "      <td>m</td>\n",
              "      <td>сотрудник</td>\n",
              "      <td>покупка жилья</td>\n",
              "    </tr>\n",
              "    <tr>\n",
              "      <td>3</td>\n",
              "      <td>среднее</td>\n",
              "      <td>женат / замужем</td>\n",
              "      <td>m</td>\n",
              "      <td>сотрудник</td>\n",
              "      <td>дополнительное образование</td>\n",
              "    </tr>\n",
              "    <tr>\n",
              "      <td>4</td>\n",
              "      <td>среднее</td>\n",
              "      <td>гражданский брак</td>\n",
              "      <td>f</td>\n",
              "      <td>пенсионер</td>\n",
              "      <td>сыграть свадьбу</td>\n",
              "    </tr>\n",
              "  </tbody>\n",
              "</table>\n",
              "</div>"
            ],
            "text/plain": [
              "  education     family_status gender income_type                     purpose\n",
              "0    высшее   женат / замужем      f   сотрудник               покупка жилья\n",
              "1   среднее   женат / замужем      f   сотрудник     приобретение автомобиля\n",
              "2   среднее   женат / замужем      m   сотрудник               покупка жилья\n",
              "3   среднее   женат / замужем      m   сотрудник  дополнительное образование\n",
              "4   среднее  гражданский брак      f   пенсионер             сыграть свадьбу"
            ]
          },
          "execution_count": 82,
          "metadata": {},
          "output_type": "execute_result"
        }
      ],
      "source": [
        "df[['education', 'family_status', 'gender', 'income_type', 'purpose']] = df[['education', 'family_status', 'gender', 'income_type', 'purpose']].apply(lambda x: x.str.lower())\n",
        "df[['education', 'family_status', 'gender', 'income_type', 'purpose']].head()"
      ]
    },
    {
      "cell_type": "markdown",
      "metadata": {
        "id": "jwhe6rqhUWR2"
      },
      "source": [
        "<div class=\"alert alert-success\">\n",
        "🕵 Исправил. Это потому что раньше у меня apply(lamda x) не было 🙂"
      ]
    },
    {
      "cell_type": "code",
      "execution_count": null,
      "metadata": {
        "id": "WhHZ8l8IUWR3",
        "outputId": "bf0de1b0-66c2-4c84-8e0b-680cc8027f07"
      },
      "outputs": [
        {
          "data": {
            "text/plain": [
              "71"
            ]
          },
          "execution_count": 83,
          "metadata": {},
          "output_type": "execute_result"
        }
      ],
      "source": [
        "df.duplicated().sum()"
      ]
    },
    {
      "cell_type": "code",
      "execution_count": null,
      "metadata": {
        "scrolled": true,
        "id": "ZH36vIFDUWR3",
        "outputId": "61ce9b58-278b-45c5-af57-9f6348e6ab74"
      },
      "outputs": [
        {
          "data": {
            "text/plain": [
              "0"
            ]
          },
          "execution_count": 84,
          "metadata": {},
          "output_type": "execute_result"
        }
      ],
      "source": [
        "df = df.drop_duplicates().reset_index(drop=True)\n",
        "df.duplicated().sum()"
      ]
    },
    {
      "cell_type": "markdown",
      "metadata": {
        "id": "LFh2CT7xUWR4"
      },
      "source": [
        "#### Обработка случайных ошибок в данных."
      ]
    },
    {
      "cell_type": "markdown",
      "metadata": {
        "id": "CSmlNvPyUWR4"
      },
      "source": [
        "В данных могут содержаться случайные ошибки, связанные с неправильным вводом информации или технические ошибки при выгрузке данных. Для начала их нужно найти. \n",
        "По первым строкам таблицы было видно, что данные стобца 'days_employed' имеют, как отрицательные, так и положительные значения. "
      ]
    },
    {
      "cell_type": "code",
      "execution_count": null,
      "metadata": {
        "id": "GQV8dB37UWR5",
        "outputId": "d4024bb1-2092-43ba-8e13-087060bf34d9"
      },
      "outputs": [
        {
          "data": {
            "text/plain": [
              "0      8437\n",
              "1      4024\n",
              "2      5623\n",
              "3      4124\n",
              "4    340266\n",
              "Name: days_employed, dtype: int64"
            ]
          },
          "execution_count": 85,
          "metadata": {},
          "output_type": "execute_result"
        }
      ],
      "source": [
        "# приведем все значения столбца 'days_employed' в положительные методом abs()\n",
        "df['days_employed'] = df['days_employed'].abs()\n",
        "df['days_employed'].head()\n"
      ]
    },
    {
      "cell_type": "markdown",
      "metadata": {
        "id": "_ubuBezBUWR5"
      },
      "source": [
        "Посмотрим уникальные значеничения в столбце 'children'"
      ]
    },
    {
      "cell_type": "code",
      "execution_count": null,
      "metadata": {
        "scrolled": true,
        "id": "NVCzL0z_UWR5",
        "outputId": "99260e0f-c7f2-4e3c-c61b-7623401f3422"
      },
      "outputs": [
        {
          "data": {
            "text/plain": [
              " 0     14091\n",
              " 1      4808\n",
              " 2      2052\n",
              " 3       330\n",
              " 20       76\n",
              "-1        47\n",
              " 4        41\n",
              " 5         9\n",
              "Name: children, dtype: int64"
            ]
          },
          "execution_count": 86,
          "metadata": {},
          "output_type": "execute_result"
        }
      ],
      "source": [
        "df['children'].value_counts()"
      ]
    },
    {
      "cell_type": "markdown",
      "metadata": {
        "id": "crflygdXUWR6"
      },
      "source": [
        "Из сводки по уникальным значениям столбца 'children' видно,  значения -1 и 20 вылетают и не вписываются в логику: количество людей уменьшается с увеличением количества детей. Вероятнее всего в записи данных были допущены ошибки и под значением 20 подразумевалось 2, а -1 сделаем положительным."
      ]
    },
    {
      "cell_type": "code",
      "execution_count": null,
      "metadata": {
        "id": "ci6nmgBnUWR6",
        "outputId": "ee25f3f9-c339-47e0-c678-a58feede0759"
      },
      "outputs": [
        {
          "data": {
            "text/plain": [
              "0    14091\n",
              "1     4855\n",
              "2     2128\n",
              "3      330\n",
              "4       41\n",
              "5        9\n",
              "Name: children, dtype: int64"
            ]
          },
          "execution_count": 87,
          "metadata": {},
          "output_type": "execute_result"
        }
      ],
      "source": [
        "df['children'] = df['children'].abs()\n",
        "df['children'] = df['children'].replace({20 : 2})\n",
        "df['children'].value_counts()"
      ]
    },
    {
      "cell_type": "markdown",
      "metadata": {
        "id": "MU3QIuoPUWR7"
      },
      "source": [
        "**Вывод**"
      ]
    },
    {
      "cell_type": "markdown",
      "metadata": {
        "id": "UTd7J_3gUWR7"
      },
      "source": [
        "Все записи object были приведены к нижнему регистру. После было обнаружен 71 дубликат. Все повторяющиеся строки были удалены и обновлена индексация. \n",
        "Дубликаты могли появится вследствии сбоя в записи данных. Также были обнарежены и устранены случайные ошибки, которые могли исказить результаты."
      ]
    },
    {
      "cell_type": "markdown",
      "metadata": {
        "id": "unxCpU6-UWR7"
      },
      "source": [
        "### Лемматизация"
      ]
    },
    {
      "cell_type": "markdown",
      "metadata": {
        "id": "Xfos3JOFUWR7"
      },
      "source": [
        "Выделим леммы в значениях столбца с целями получения кредита \"purpose\".\n",
        "Для этого сначала импортируем библиотеку pymystem3"
      ]
    },
    {
      "cell_type": "code",
      "execution_count": null,
      "metadata": {
        "id": "kRyKykvdUWR8"
      },
      "outputs": [],
      "source": [
        "from pymystem3 import Mystem\n",
        "m = Mystem()\n",
        "from collections import Counter"
      ]
    },
    {
      "cell_type": "markdown",
      "metadata": {
        "id": "oQTBLsoKUWR8"
      },
      "source": [
        "Для того, чтобы лематизировать каждую ячейку строки нужно составить фукнцию, которая будет принимать значения из соответствующей ячейки, а на выходу отдавать лематизированные слова. \n",
        "\n",
        "Чтобы не лемматизировать одинаковые значения сначала создадим dataframe с уникальными значениями столбца \"purpose\". Далее к каждому уникальному значению применим лемматизацию и результат сохраним в новом столбце. Далее используем sum(), чтобы привести все лемматизированные слова в один список."
      ]
    },
    {
      "cell_type": "code",
      "execution_count": null,
      "metadata": {
        "scrolled": true,
        "id": "jbqrE7t4UWR8"
      },
      "outputs": [],
      "source": [
        "purpose_unique = df['purpose'].drop_duplicates().to_frame()\n",
        "purpose_unique['lemmas'] = purpose_unique['purpose'].apply(m.lemmatize)\n",
        "purpose_lemmas = purpose_unique['lemmas'].sum()"
      ]
    },
    {
      "cell_type": "markdown",
      "metadata": {
        "id": "f2bCm5OiUWR8"
      },
      "source": [
        "Применим метод Counter к списку для того, чтобы потом создать словарь для дальнейшей категоризации по целям кредита\n"
      ]
    },
    {
      "cell_type": "code",
      "execution_count": null,
      "metadata": {
        "id": "sxjcNrFLUWR9",
        "outputId": "a17abad4-a3ad-4e2f-acd5-7faed6e58cac"
      },
      "outputs": [
        {
          "name": "stdout",
          "output_type": "stream",
          "text": [
            "Counter({' ': 59, '\\n': 38, 'покупка': 10, 'недвижимость': 10, 'автомобиль': 9, 'образование': 9, 'жилье': 7, 'с': 5, 'операция': 4, 'на': 4, 'свой': 4, 'свадьба': 3, 'строительство': 3, 'получение': 3, 'высокий': 3, 'дополнительный': 2, 'для': 2, 'коммерческий': 2, 'жилой': 2, 'заниматься': 2, 'сделка': 2, 'приобретение': 1, 'сыграть': 1, 'проведение': 1, 'семья': 1, 'собственный': 1, 'подержать': 1, 'со': 1, 'подержанный': 1, 'профильный': 1, 'сдача': 1, 'ремонт': 1})\n"
          ]
        }
      ],
      "source": [
        "print(Counter(purpose_lemmas))\n",
        "\n",
        "# Список с категориями по целям кредита\n",
        "dict_purpose_category = ['недвижимость','автомобиль', 'образование', 'свадьба', 'ремонт']"
      ]
    },
    {
      "cell_type": "markdown",
      "metadata": {
        "id": "Ygom-wVUUWR-"
      },
      "source": [
        "Далее нам нужно написать функцию, которая как аргумент принимает значение столбца 'purpose', а возвращает название категории из словаря \"purpose_category\". Так как в некоторых значениях 'purpose' встречаются несколько слов из словаря, например, \"ремонт недвижимости\" и слова синонимы, например, \"жилье - недвижимость\" то для таких значений отдельно запишем условия, которое будет указывать на верную категорию по целям кредита. Так было оперделено, что \"ремонт недвижимости\" будет в категории \"ремонт\", потому что это совсем другая цель по сумме кредита относительно приобретения недвижимости. А все остальные цели связанные с недвижимостью будут относится к категории покупке жилья - коротко \"недвижимость\"."
      ]
    },
    {
      "cell_type": "code",
      "execution_count": null,
      "metadata": {
        "id": "OQO4_mQaUWR-"
      },
      "outputs": [],
      "source": [
        "  \n",
        "def check_purpose(purpose):\n",
        "    lemmas = m.lemmatize(purpose)\n",
        "    for element in dict_purpose_category:\n",
        "        if 'ремонт' in lemmas:\n",
        "            return 'ремонт'\n",
        "        if element in lemmas:\n",
        "            return element\n",
        "        if 'жилье' in lemmas:\n",
        "            return 'недвижимость'\n",
        "        \n",
        "            \n",
        "    return 'другое'"
      ]
    },
    {
      "cell_type": "markdown",
      "metadata": {
        "id": "vi5r5dKVUWSA"
      },
      "source": [
        "**Вывод**"
      ]
    },
    {
      "cell_type": "markdown",
      "metadata": {
        "id": "2kM8kOxbUWSA"
      },
      "source": [
        "Выделили леммы в значениях столбца \"purpose\" (цель получения кредита). На основании списка с количеством лемматизированных слов определили словарь категорий по цели получения кредита. Написали функцию, которая как аргумент принимает значение столбца 'purpose', а возвращает название категории из словаря \"purpose_category."
      ]
    },
    {
      "cell_type": "markdown",
      "metadata": {
        "id": "CJWj8LotUWSA"
      },
      "source": [
        "### Категоризация данных"
      ]
    },
    {
      "cell_type": "markdown",
      "metadata": {
        "id": "fv9bvXsBUWSA"
      },
      "source": [
        "Для того, что было легче интерпретировать данные и объеденять их в сводные таблицы создали несколько категорий, объединяющих данные по определенному признаку. "
      ]
    },
    {
      "cell_type": "markdown",
      "metadata": {
        "id": "FO4Q14mAUWSB"
      },
      "source": [
        "Вот какие категории были добавлены в таблицу: по целям кредита, по уровню дохода, наличие / отсутствие задолженности, наличие / отсутствие детей."
      ]
    },
    {
      "cell_type": "markdown",
      "metadata": {
        "id": "ZnYGgpM3UWSB"
      },
      "source": [
        "#### Категории по целям кредита"
      ]
    },
    {
      "cell_type": "code",
      "execution_count": null,
      "metadata": {
        "scrolled": true,
        "id": "Ez1y16MlUWSB",
        "outputId": "29e99d73-b18c-424c-fb00-350639ba33c5"
      },
      "outputs": [
        {
          "data": {
            "text/plain": [
              "недвижимость    10204\n",
              "автомобиль       4306\n",
              "образование      4013\n",
              "свадьба          2324\n",
              "ремонт            607\n",
              "Name: purpose_category, dtype: int64"
            ]
          },
          "execution_count": 93,
          "metadata": {},
          "output_type": "execute_result"
        }
      ],
      "source": [
        "# добавим в нашу исходную таблицу столбец с категорией по целям кредита, используя ранее написанную функцию check_purpose\n",
        "df['purpose_category'] = df['purpose'].apply(check_purpose)\n",
        "df['purpose_category'].value_counts()"
      ]
    },
    {
      "cell_type": "markdown",
      "metadata": {
        "id": "jZUASuKjUWSC"
      },
      "source": [
        "#### Категории по уровню дохода"
      ]
    },
    {
      "cell_type": "markdown",
      "metadata": {
        "id": "8GLfCO0gUWSC"
      },
      "source": [
        "С помощью метода discribe() данные столбца 'total_income' были разделены на 4 категории по уровню дохода: \"низкий\" от 20667 до 107623, \"ниже среднего\" от 107623 до 142594, \"выше среднего\" от 142594 до 195820, \"высокий\" от 195820 до 2265604.  "
      ]
    },
    {
      "cell_type": "code",
      "execution_count": null,
      "metadata": {
        "scrolled": true,
        "id": "LVWkRoEkUWSC",
        "outputId": "d2bce3f5-05f6-43e0-b6ea-262031eb360f"
      },
      "outputs": [
        {
          "data": {
            "text/plain": [
              "count    2.145400e+04\n",
              "mean     1.653196e+05\n",
              "std      9.818730e+04\n",
              "min      2.066700e+04\n",
              "25%      1.076230e+05\n",
              "50%      1.425940e+05\n",
              "75%      1.958202e+05\n",
              "max      2.265604e+06\n",
              "Name: total_income, dtype: float64"
            ]
          },
          "execution_count": 94,
          "metadata": {},
          "output_type": "execute_result"
        }
      ],
      "source": [
        "#посмотрим основные статистические показатели \n",
        "df['total_income'].describe()"
      ]
    },
    {
      "cell_type": "code",
      "execution_count": null,
      "metadata": {
        "id": "q2yqPsRLUWSC"
      },
      "outputs": [],
      "source": [
        "# напишем функцию, которая возвращает название категории по значению столбца общий доход \n",
        "def check_incom(income):\n",
        "    if income <= 2265604 and income > 195820:\n",
        "        return 'высокий'\n",
        "    if income <= 195820 and income > 142594:\n",
        "        return 'выше среднего'\n",
        "    if income <= 142594 and income > 107623:\n",
        "        return 'ниже среднего'\n",
        "    return 'низкий'"
      ]
    },
    {
      "cell_type": "code",
      "execution_count": null,
      "metadata": {
        "id": "q_U2ACzDUWSD",
        "outputId": "f2fd3b13-2f96-42ea-e680-032227719d74"
      },
      "outputs": [
        {
          "data": {
            "text/plain": [
              "ниже среднего    5479\n",
              "высокий          5364\n",
              "низкий           5364\n",
              "выше среднего    5247\n",
              "Name: category_income, dtype: int64"
            ]
          },
          "execution_count": 96,
          "metadata": {},
          "output_type": "execute_result"
        }
      ],
      "source": [
        "# добавим новый столбец в нашу исходную таблицу с категориями по доходу.\n",
        "df['category_income'] = df['total_income'].apply(check_incom)\n",
        "df['category_income'].value_counts()"
      ]
    },
    {
      "cell_type": "markdown",
      "metadata": {
        "id": "p0yMIaELUWSD"
      },
      "source": [
        "#### Категории по наличию детей"
      ]
    },
    {
      "cell_type": "markdown",
      "metadata": {
        "id": "2yVj4s-zUWSE"
      },
      "source": [
        "Составили простую функцию, которая принимает значение столбца \"children\", а возвращает наименование категории \"дети есть\" или \"детей нет\". Записали работу этой функции в новый столбец \"having_children\". "
      ]
    },
    {
      "cell_type": "code",
      "execution_count": null,
      "metadata": {
        "id": "vRcJiD_TUWSE"
      },
      "outputs": [],
      "source": [
        "def check_children(children):\n",
        "    if children > 0:\n",
        "        return 'дети есть'\n",
        "    return 'детей нет'"
      ]
    },
    {
      "cell_type": "code",
      "execution_count": null,
      "metadata": {
        "id": "9tmsThfBUWSE",
        "outputId": "35b13db7-bad6-4cd3-eafa-b4dc2a6561b3"
      },
      "outputs": [
        {
          "data": {
            "text/plain": [
              "детей нет    14091\n",
              "дети есть     7363\n",
              "Name: having_children, dtype: int64"
            ]
          },
          "execution_count": 98,
          "metadata": {},
          "output_type": "execute_result"
        }
      ],
      "source": [
        "df['having_children'] = df['children'].apply(check_children)\n",
        "df['having_children'].value_counts()"
      ]
    },
    {
      "cell_type": "markdown",
      "metadata": {
        "id": "4U3gMD2tUWSF"
      },
      "source": [
        "#### Категории по наличию задолженности"
      ]
    },
    {
      "cell_type": "markdown",
      "metadata": {
        "id": "WolCG4hjUWSF"
      },
      "source": [
        "Здесь добавили новый столбец \"debt_category\", куда записывали \"долг есть\", если в значении стобца \"debt\" есть 1 и \"дога нет\", если в значении есть 0."
      ]
    },
    {
      "cell_type": "code",
      "execution_count": null,
      "metadata": {
        "id": "Xu6JrEd9UWSF",
        "outputId": "40cae42e-41e0-495b-db44-f1bf65fb13e9"
      },
      "outputs": [
        {
          "data": {
            "text/plain": [
              "долга нет    19713\n",
              "долг есть     1741\n",
              "Name: debt_category, dtype: int64"
            ]
          },
          "execution_count": 99,
          "metadata": {},
          "output_type": "execute_result"
        }
      ],
      "source": [
        "df['debt_category'] = df['debt'].replace({1 : 'долг есть', 0 : 'долга нет'})\n",
        "df['debt_category'].value_counts()"
      ]
    },
    {
      "cell_type": "markdown",
      "metadata": {
        "id": "ikormlfrUWSG"
      },
      "source": [
        "Проверим сумму столбца \"debt\" (количество должников), чтобы сранить с полученным выше результатом."
      ]
    },
    {
      "cell_type": "code",
      "execution_count": null,
      "metadata": {
        "scrolled": true,
        "id": "49Z7xGdmUWSG",
        "outputId": "a767a839-6d2f-47d1-afc1-d025bc658099"
      },
      "outputs": [
        {
          "data": {
            "text/plain": [
              "1741"
            ]
          },
          "execution_count": 100,
          "metadata": {},
          "output_type": "execute_result"
        }
      ],
      "source": [
        "df['debt'].sum()"
      ]
    },
    {
      "cell_type": "markdown",
      "metadata": {
        "id": "aPxLwe7fUWSG"
      },
      "source": [
        "**Вывод**"
      ]
    },
    {
      "cell_type": "markdown",
      "metadata": {
        "id": "ivMJbqFeUWSG"
      },
      "source": [
        "На основе обработанных данных в исходную таблицу были добавлены следующие категории: по целям кредита, по уровню дохода, наличие / отсутствие задолженности, наличие / отсутствие детей. Теперь таблица готова к выводу результатов на основе сводных таблиц по сформированным категориям."
      ]
    },
    {
      "cell_type": "markdown",
      "metadata": {
        "id": "13nweyUCUWSH"
      },
      "source": [
        "## Шаг 3. Ответьте на вопросы"
      ]
    },
    {
      "cell_type": "markdown",
      "metadata": {
        "id": "WkOngDmlUWSH"
      },
      "source": [
        "- Есть ли зависимость между наличием детей и возвратом кредита в срок?"
      ]
    },
    {
      "cell_type": "markdown",
      "metadata": {
        "id": "AGA2MDA2UWSH"
      },
      "source": [
        "Составили сводную таблицу по категориям наличия детей относительно наличия / отсутствия долга."
      ]
    },
    {
      "cell_type": "code",
      "execution_count": null,
      "metadata": {
        "id": "lSilpwCzUWSH",
        "outputId": "2a6f0359-12b7-44e7-8129-8c19a930fbd9"
      },
      "outputs": [
        {
          "data": {
            "text/html": [
              "<div>\n",
              "<style scoped>\n",
              "    .dataframe tbody tr th:only-of-type {\n",
              "        vertical-align: middle;\n",
              "    }\n",
              "\n",
              "    .dataframe tbody tr th {\n",
              "        vertical-align: top;\n",
              "    }\n",
              "\n",
              "    .dataframe thead th {\n",
              "        text-align: right;\n",
              "    }\n",
              "</style>\n",
              "<table border=\"1\" class=\"dataframe\">\n",
              "  <thead>\n",
              "    <tr style=\"text-align: right;\">\n",
              "      <th>debt_category</th>\n",
              "      <th>долг есть</th>\n",
              "      <th>долга нет</th>\n",
              "      <th>долг есть, %</th>\n",
              "      <th>долга нет, %</th>\n",
              "    </tr>\n",
              "    <tr>\n",
              "      <th>having_children</th>\n",
              "      <th></th>\n",
              "      <th></th>\n",
              "      <th></th>\n",
              "      <th></th>\n",
              "    </tr>\n",
              "  </thead>\n",
              "  <tbody>\n",
              "    <tr>\n",
              "      <td>детей нет</td>\n",
              "      <td>1063</td>\n",
              "      <td>13028</td>\n",
              "      <td>7</td>\n",
              "      <td>93</td>\n",
              "    </tr>\n",
              "    <tr>\n",
              "      <td>дети есть</td>\n",
              "      <td>678</td>\n",
              "      <td>6685</td>\n",
              "      <td>9</td>\n",
              "      <td>91</td>\n",
              "    </tr>\n",
              "  </tbody>\n",
              "</table>\n",
              "</div>"
            ],
            "text/plain": [
              "debt_category    долг есть  долга нет  долг есть, %  долга нет, %\n",
              "having_children                                                  \n",
              "детей нет             1063      13028             7            93\n",
              "дети есть              678       6685             9            91"
            ]
          },
          "execution_count": 101,
          "metadata": {},
          "output_type": "execute_result"
        }
      ],
      "source": [
        "children_pivot_table = df.pivot_table(index='having_children', columns='debt_category', values='debt', aggfunc='count')\n",
        "children_pivot_table['долг есть, %'] = children_pivot_table['долг есть'].div(children_pivot_table.sum(axis=1), axis=0).multiply(100).astype('int')\n",
        "children_pivot_table['долга нет, %'] = 100 - children_pivot_table['долг есть, %']\n",
        "children_pivot_table"
      ]
    },
    {
      "cell_type": "markdown",
      "metadata": {
        "id": "naTv_9vZUWSI"
      },
      "source": [
        "**Вывод**"
      ]
    },
    {
      "cell_type": "markdown",
      "metadata": {
        "id": "a04KVKNqUWSJ"
      },
      "source": [
        "По результатам анализа сводной таблицы было установлено, что люди, у которых есть дети на 2 % реже возвращают кредит в срок."
      ]
    },
    {
      "cell_type": "markdown",
      "metadata": {
        "id": "2r0ew0wOUWSJ"
      },
      "source": [
        "- Есть ли зависимость между семейным положением и возвратом кредита в срок?"
      ]
    },
    {
      "cell_type": "code",
      "execution_count": null,
      "metadata": {
        "id": "pJbBwCOXUWSJ",
        "outputId": "13da07cd-567f-4db9-ce53-61c414f3829b"
      },
      "outputs": [
        {
          "data": {
            "text/html": [
              "<div>\n",
              "<style scoped>\n",
              "    .dataframe tbody tr th:only-of-type {\n",
              "        vertical-align: middle;\n",
              "    }\n",
              "\n",
              "    .dataframe tbody tr th {\n",
              "        vertical-align: top;\n",
              "    }\n",
              "\n",
              "    .dataframe thead th {\n",
              "        text-align: right;\n",
              "    }\n",
              "</style>\n",
              "<table border=\"1\" class=\"dataframe\">\n",
              "  <thead>\n",
              "    <tr style=\"text-align: right;\">\n",
              "      <th>debt_category</th>\n",
              "      <th>долг есть</th>\n",
              "      <th>долга нет</th>\n",
              "      <th>долг есть, %</th>\n",
              "      <th>долга нет, %</th>\n",
              "    </tr>\n",
              "    <tr>\n",
              "      <th>family_status</th>\n",
              "      <th></th>\n",
              "      <th></th>\n",
              "      <th></th>\n",
              "      <th></th>\n",
              "    </tr>\n",
              "  </thead>\n",
              "  <tbody>\n",
              "    <tr>\n",
              "      <td>в разводе</td>\n",
              "      <td>85</td>\n",
              "      <td>1110</td>\n",
              "      <td>7</td>\n",
              "      <td>93</td>\n",
              "    </tr>\n",
              "    <tr>\n",
              "      <td>вдовец / вдова</td>\n",
              "      <td>63</td>\n",
              "      <td>896</td>\n",
              "      <td>6</td>\n",
              "      <td>94</td>\n",
              "    </tr>\n",
              "    <tr>\n",
              "      <td>гражданский брак</td>\n",
              "      <td>388</td>\n",
              "      <td>3763</td>\n",
              "      <td>9</td>\n",
              "      <td>91</td>\n",
              "    </tr>\n",
              "    <tr>\n",
              "      <td>женат / замужем</td>\n",
              "      <td>931</td>\n",
              "      <td>11408</td>\n",
              "      <td>7</td>\n",
              "      <td>93</td>\n",
              "    </tr>\n",
              "    <tr>\n",
              "      <td>не женат / не замужем</td>\n",
              "      <td>274</td>\n",
              "      <td>2536</td>\n",
              "      <td>9</td>\n",
              "      <td>91</td>\n",
              "    </tr>\n",
              "  </tbody>\n",
              "</table>\n",
              "</div>"
            ],
            "text/plain": [
              "debt_category          долг есть  долга нет  долг есть, %  долга нет, %\n",
              "family_status                                                          \n",
              "в разводе                     85       1110             7            93\n",
              "вдовец / вдова                63        896             6            94\n",
              "гражданский брак             388       3763             9            91\n",
              "женат / замужем              931      11408             7            93\n",
              "не женат / не замужем        274       2536             9            91"
            ]
          },
          "execution_count": 103,
          "metadata": {},
          "output_type": "execute_result"
        }
      ],
      "source": [
        "family_status_pivot_table = df.pivot_table(index='family_status', columns='debt_category', values='debt', aggfunc='count')\n",
        "family_status_pivot_table['долг есть, %'] = family_status_pivot_table['долг есть'].div(family_status_pivot_table.sum(axis=1), axis=0).multiply(100).astype('int')\n",
        "family_status_pivot_table['долга нет, %'] = 100 - family_status_pivot_table['долг есть, %']\n",
        "family_status_pivot_table"
      ]
    },
    {
      "cell_type": "markdown",
      "metadata": {
        "id": "09_DKrKcUWSJ"
      },
      "source": [
        "**Вывод**"
      ]
    },
    {
      "cell_type": "markdown",
      "metadata": {
        "id": "6mFaUX2WUWSK"
      },
      "source": [
        "По результатам анализа сводной таблицы было установлено, что люди, которые не состоят в браке на 2 % меньше возвращают кредит в срок относительно людей в браке."
      ]
    },
    {
      "cell_type": "markdown",
      "metadata": {
        "id": "SbeYDul1UWSK"
      },
      "source": [
        "- Есть ли зависимость между уровнем дохода и возвратом кредита в срок?"
      ]
    },
    {
      "cell_type": "code",
      "execution_count": null,
      "metadata": {
        "id": "UwfuqKwlUWSK",
        "outputId": "6c45881f-54f3-41ae-b49e-74bb2fd0ee88"
      },
      "outputs": [
        {
          "data": {
            "text/html": [
              "<div>\n",
              "<style scoped>\n",
              "    .dataframe tbody tr th:only-of-type {\n",
              "        vertical-align: middle;\n",
              "    }\n",
              "\n",
              "    .dataframe tbody tr th {\n",
              "        vertical-align: top;\n",
              "    }\n",
              "\n",
              "    .dataframe thead th {\n",
              "        text-align: right;\n",
              "    }\n",
              "</style>\n",
              "<table border=\"1\" class=\"dataframe\">\n",
              "  <thead>\n",
              "    <tr style=\"text-align: right;\">\n",
              "      <th>debt_category</th>\n",
              "      <th>долг есть</th>\n",
              "      <th>долга нет</th>\n",
              "      <th>долг есть, %</th>\n",
              "      <th>долга нет, %</th>\n",
              "    </tr>\n",
              "    <tr>\n",
              "      <th>category_income</th>\n",
              "      <th></th>\n",
              "      <th></th>\n",
              "      <th></th>\n",
              "      <th></th>\n",
              "    </tr>\n",
              "  </thead>\n",
              "  <tbody>\n",
              "    <tr>\n",
              "      <td>высокий</td>\n",
              "      <td>383</td>\n",
              "      <td>4981</td>\n",
              "      <td>7</td>\n",
              "      <td>93</td>\n",
              "    </tr>\n",
              "    <tr>\n",
              "      <td>выше среднего</td>\n",
              "      <td>448</td>\n",
              "      <td>4799</td>\n",
              "      <td>8</td>\n",
              "      <td>92</td>\n",
              "    </tr>\n",
              "    <tr>\n",
              "      <td>ниже среднего</td>\n",
              "      <td>483</td>\n",
              "      <td>4996</td>\n",
              "      <td>8</td>\n",
              "      <td>92</td>\n",
              "    </tr>\n",
              "    <tr>\n",
              "      <td>низкий</td>\n",
              "      <td>427</td>\n",
              "      <td>4937</td>\n",
              "      <td>7</td>\n",
              "      <td>93</td>\n",
              "    </tr>\n",
              "  </tbody>\n",
              "</table>\n",
              "</div>"
            ],
            "text/plain": [
              "debt_category    долг есть  долга нет  долг есть, %  долга нет, %\n",
              "category_income                                                  \n",
              "высокий                383       4981             7            93\n",
              "выше среднего          448       4799             8            92\n",
              "ниже среднего          483       4996             8            92\n",
              "низкий                 427       4937             7            93"
            ]
          },
          "execution_count": 104,
          "metadata": {},
          "output_type": "execute_result"
        }
      ],
      "source": [
        "\n",
        "level_income_pivot_table = df.pivot_table(index='category_income', columns='debt_category', values='debt', aggfunc='count')\n",
        "level_income_pivot_table['долг есть, %'] = level_income_pivot_table['долг есть'].div(level_income_pivot_table.sum(axis=1), axis=0).multiply(100).astype('int')\n",
        "level_income_pivot_table['долга нет, %'] = 100 - level_income_pivot_table['долг есть, %']\n",
        "level_income_pivot_table"
      ]
    },
    {
      "cell_type": "markdown",
      "metadata": {
        "id": "8BR3jS9_UWSL"
      },
      "source": [
        "**Вывод**"
      ]
    },
    {
      "cell_type": "markdown",
      "metadata": {
        "id": "RG2yVdMiUWSL"
      },
      "source": [
        "Удивительно, но уровень дохода не влияет на возврат кредита в срок."
      ]
    },
    {
      "cell_type": "markdown",
      "metadata": {
        "id": "1ozBb-W-UWSM"
      },
      "source": [
        "- Как разные цели кредита влияют на его возврат в срок?"
      ]
    },
    {
      "cell_type": "markdown",
      "metadata": {
        "id": "yWjExgxlUWSM"
      },
      "source": [
        "Составили сводную таблицу по категориям целей кредита относительно наличия / отсутствия долга."
      ]
    },
    {
      "cell_type": "code",
      "execution_count": null,
      "metadata": {
        "scrolled": true,
        "id": "Te8snlS1UWSN",
        "outputId": "989dbbc1-5e13-495f-debd-4f9b89f08ea4"
      },
      "outputs": [
        {
          "data": {
            "text/html": [
              "<div>\n",
              "<style scoped>\n",
              "    .dataframe tbody tr th:only-of-type {\n",
              "        vertical-align: middle;\n",
              "    }\n",
              "\n",
              "    .dataframe tbody tr th {\n",
              "        vertical-align: top;\n",
              "    }\n",
              "\n",
              "    .dataframe thead th {\n",
              "        text-align: right;\n",
              "    }\n",
              "</style>\n",
              "<table border=\"1\" class=\"dataframe\">\n",
              "  <thead>\n",
              "    <tr style=\"text-align: right;\">\n",
              "      <th>debt_category</th>\n",
              "      <th>долг есть</th>\n",
              "      <th>долга нет</th>\n",
              "      <th>долг есть, %</th>\n",
              "      <th>долга нет, %</th>\n",
              "    </tr>\n",
              "    <tr>\n",
              "      <th>purpose_category</th>\n",
              "      <th></th>\n",
              "      <th></th>\n",
              "      <th></th>\n",
              "      <th></th>\n",
              "    </tr>\n",
              "  </thead>\n",
              "  <tbody>\n",
              "    <tr>\n",
              "      <td>автомобиль</td>\n",
              "      <td>403</td>\n",
              "      <td>3903</td>\n",
              "      <td>9</td>\n",
              "      <td>91</td>\n",
              "    </tr>\n",
              "    <tr>\n",
              "      <td>недвижимость</td>\n",
              "      <td>747</td>\n",
              "      <td>9457</td>\n",
              "      <td>7</td>\n",
              "      <td>93</td>\n",
              "    </tr>\n",
              "    <tr>\n",
              "      <td>образование</td>\n",
              "      <td>370</td>\n",
              "      <td>3643</td>\n",
              "      <td>9</td>\n",
              "      <td>91</td>\n",
              "    </tr>\n",
              "    <tr>\n",
              "      <td>ремонт</td>\n",
              "      <td>35</td>\n",
              "      <td>572</td>\n",
              "      <td>5</td>\n",
              "      <td>95</td>\n",
              "    </tr>\n",
              "    <tr>\n",
              "      <td>свадьба</td>\n",
              "      <td>186</td>\n",
              "      <td>2138</td>\n",
              "      <td>8</td>\n",
              "      <td>92</td>\n",
              "    </tr>\n",
              "  </tbody>\n",
              "</table>\n",
              "</div>"
            ],
            "text/plain": [
              "debt_category     долг есть  долга нет  долг есть, %  долга нет, %\n",
              "purpose_category                                                  \n",
              "автомобиль              403       3903             9            91\n",
              "недвижимость            747       9457             7            93\n",
              "образование             370       3643             9            91\n",
              "ремонт                   35        572             5            95\n",
              "свадьба                 186       2138             8            92"
            ]
          },
          "execution_count": 105,
          "metadata": {},
          "output_type": "execute_result"
        }
      ],
      "source": [
        "purpose_pivot_table = df.pivot_table(index='purpose_category', columns='debt_category', values='debt', aggfunc='count')\n",
        "purpose_pivot_table['долг есть, %'] = purpose_pivot_table['долг есть'].div(purpose_pivot_table.sum(axis=1), axis=0).multiply(100).astype('int')\n",
        "purpose_pivot_table['долга нет, %'] = 100 - purpose_pivot_table['долг есть, %']\n",
        "purpose_pivot_table"
      ]
    },
    {
      "cell_type": "markdown",
      "metadata": {
        "id": "YnSJHlxEUWSO"
      },
      "source": [
        "**Вывод**"
      ]
    },
    {
      "cell_type": "markdown",
      "metadata": {
        "id": "74YX6xrsUWSO"
      },
      "source": [
        "7 % людей не вернули кредит в срок в категории \"недвижимость\". В то время, как на образование и автомобиль 9 % людей не вернули кредит в срок. Вероятно, это связано с тем, что к большой покупке квартиры люди финансово подготавливаются более основательно, чем на краткосрочные цели, такие как автомобиль и образование, свадьба."
      ]
    },
    {
      "cell_type": "markdown",
      "metadata": {
        "id": "nGsMciNjUWSP"
      },
      "source": [
        "## Шаг 4. Общий вывод"
      ]
    },
    {
      "cell_type": "markdown",
      "metadata": {
        "id": "rzODaqHzUWSP"
      },
      "source": [
        "На основе предоставленных данных статистики о платежеспособности клиентов были сделаны следующие выводы:\n",
        "1. В данных были обнаружены дубликаты и артефакты, что говорит о том, что возможно были допущены технические ошибки на которые следует обратить внимание при следующих сборах информациии.\n",
        "2. Уровень дохода практически не влияет на возврат кредита в срок.\n",
        "3. Большие цели кредита, такие как покупка недвижимости, увеличивает вероятность возврата кредита в срок, чем краткосрочные: покупка машины, свадьба или образование.\n",
        "4. Люди, которые состоят в браке возвращают кредит в срок на 2 % больше, чем те, которые не состоят в браке."
      ]
    }
  ],
  "metadata": {
    "ExecuteTimeLog": [
      {
        "duration": 349,
        "start_time": "2021-09-26T14:18:21.006Z"
      },
      {
        "duration": 266,
        "start_time": "2021-09-26T14:18:38.423Z"
      },
      {
        "duration": 1074,
        "start_time": "2021-09-26T14:18:45.871Z"
      },
      {
        "duration": 64,
        "start_time": "2021-09-26T14:19:08.316Z"
      },
      {
        "duration": 13,
        "start_time": "2021-09-26T14:19:11.443Z"
      },
      {
        "duration": 27,
        "start_time": "2021-09-26T14:19:24.341Z"
      },
      {
        "duration": 16,
        "start_time": "2021-09-26T14:20:32.001Z"
      },
      {
        "duration": 28,
        "start_time": "2021-09-26T14:21:54.954Z"
      },
      {
        "duration": 13,
        "start_time": "2021-09-26T14:22:05.380Z"
      },
      {
        "duration": 6,
        "start_time": "2021-09-26T14:28:24.937Z"
      },
      {
        "duration": 77,
        "start_time": "2021-09-26T14:36:25.004Z"
      },
      {
        "duration": 7,
        "start_time": "2021-09-26T15:01:00.636Z"
      },
      {
        "duration": 5,
        "start_time": "2021-09-26T15:02:52.714Z"
      },
      {
        "duration": 3446,
        "start_time": "2021-09-26T15:07:59.906Z"
      },
      {
        "duration": 13,
        "start_time": "2021-09-26T15:08:26.784Z"
      },
      {
        "duration": 9,
        "start_time": "2021-09-26T15:10:02.868Z"
      },
      {
        "duration": 8,
        "start_time": "2021-09-26T15:10:52.979Z"
      },
      {
        "duration": 13,
        "start_time": "2021-09-26T15:11:12.874Z"
      },
      {
        "duration": 13,
        "start_time": "2021-09-26T15:11:36.206Z"
      },
      {
        "duration": 22,
        "start_time": "2021-09-26T15:12:47.307Z"
      },
      {
        "duration": 9,
        "start_time": "2021-09-26T15:14:47.914Z"
      },
      {
        "duration": 24,
        "start_time": "2021-09-26T15:15:21.732Z"
      },
      {
        "duration": 11,
        "start_time": "2021-09-26T15:19:07.610Z"
      },
      {
        "duration": 10,
        "start_time": "2021-09-26T15:20:24.405Z"
      },
      {
        "duration": 9,
        "start_time": "2021-09-26T15:20:40.826Z"
      },
      {
        "duration": 9,
        "start_time": "2021-09-26T15:21:03.901Z"
      },
      {
        "duration": 14,
        "start_time": "2021-09-26T15:21:19.756Z"
      },
      {
        "duration": 15,
        "start_time": "2021-09-26T15:21:34.331Z"
      },
      {
        "duration": 19,
        "start_time": "2021-09-26T15:28:59.962Z"
      },
      {
        "duration": 13,
        "start_time": "2021-09-26T15:32:08.866Z"
      },
      {
        "duration": 12,
        "start_time": "2021-09-26T15:32:34.113Z"
      },
      {
        "duration": 11,
        "start_time": "2021-09-26T15:33:46.392Z"
      },
      {
        "duration": 27,
        "start_time": "2021-09-26T15:37:59.304Z"
      },
      {
        "duration": 429,
        "start_time": "2021-09-27T07:31:32.933Z"
      },
      {
        "duration": 125,
        "start_time": "2021-09-27T07:31:49.179Z"
      },
      {
        "duration": 763,
        "start_time": "2021-09-27T07:32:03.040Z"
      },
      {
        "duration": 819,
        "start_time": "2021-09-27T07:32:25.261Z"
      },
      {
        "duration": 28,
        "start_time": "2021-09-27T07:32:28.446Z"
      },
      {
        "duration": 6,
        "start_time": "2021-09-27T07:32:39.486Z"
      },
      {
        "duration": 26,
        "start_time": "2021-09-27T07:32:42.003Z"
      },
      {
        "duration": 19,
        "start_time": "2021-09-27T07:32:56.540Z"
      },
      {
        "duration": 12,
        "start_time": "2021-09-27T07:44:07.889Z"
      },
      {
        "duration": 402,
        "start_time": "2021-09-27T07:45:20.794Z"
      },
      {
        "duration": 20,
        "start_time": "2021-09-27T07:45:33.743Z"
      },
      {
        "duration": 21,
        "start_time": "2021-09-27T07:46:32.232Z"
      },
      {
        "duration": 22,
        "start_time": "2021-09-27T07:51:19.593Z"
      },
      {
        "duration": 21,
        "start_time": "2021-09-27T07:52:05.969Z"
      },
      {
        "duration": 373,
        "start_time": "2021-09-27T07:53:32.794Z"
      },
      {
        "duration": 766,
        "start_time": "2021-09-27T07:53:40.106Z"
      },
      {
        "duration": 372,
        "start_time": "2021-09-27T07:53:44.618Z"
      },
      {
        "duration": 9,
        "start_time": "2021-09-27T07:53:59.090Z"
      },
      {
        "duration": 7,
        "start_time": "2021-09-27T07:55:46.843Z"
      },
      {
        "duration": 447,
        "start_time": "2021-09-27T08:00:04.557Z"
      },
      {
        "duration": 372,
        "start_time": "2021-09-27T08:01:05.475Z"
      },
      {
        "duration": 2409,
        "start_time": "2021-09-27T08:02:44.239Z"
      },
      {
        "duration": 1564,
        "start_time": "2021-09-27T08:03:03.199Z"
      },
      {
        "duration": 1506,
        "start_time": "2021-09-27T08:03:16.198Z"
      },
      {
        "duration": 386,
        "start_time": "2021-09-27T08:03:50.781Z"
      },
      {
        "duration": 7,
        "start_time": "2021-09-27T08:04:16.582Z"
      },
      {
        "duration": 2259,
        "start_time": "2021-09-27T08:04:53.637Z"
      },
      {
        "duration": 20,
        "start_time": "2021-09-27T08:05:48.047Z"
      },
      {
        "duration": 16,
        "start_time": "2021-09-27T08:06:15.998Z"
      },
      {
        "duration": 7,
        "start_time": "2021-09-27T08:07:25.278Z"
      },
      {
        "duration": 19,
        "start_time": "2021-09-27T08:09:35.514Z"
      },
      {
        "duration": 139,
        "start_time": "2021-09-27T08:25:17.804Z"
      },
      {
        "duration": 13,
        "start_time": "2021-09-27T08:35:39.896Z"
      },
      {
        "duration": 380,
        "start_time": "2021-09-27T08:35:52.910Z"
      },
      {
        "duration": 13,
        "start_time": "2021-09-27T08:37:13.873Z"
      },
      {
        "duration": 382,
        "start_time": "2021-09-27T08:38:08.112Z"
      },
      {
        "duration": 20,
        "start_time": "2021-09-27T08:38:29.273Z"
      },
      {
        "duration": 19,
        "start_time": "2021-09-27T08:39:43.440Z"
      },
      {
        "duration": 6,
        "start_time": "2021-09-27T08:40:29.192Z"
      },
      {
        "duration": 348,
        "start_time": "2021-09-27T08:41:44.997Z"
      },
      {
        "duration": 7,
        "start_time": "2021-09-27T08:42:15.762Z"
      },
      {
        "duration": 364,
        "start_time": "2021-09-27T09:04:08.577Z"
      },
      {
        "duration": 390,
        "start_time": "2021-09-27T09:04:32.848Z"
      },
      {
        "duration": 4,
        "start_time": "2021-09-27T09:05:23.313Z"
      },
      {
        "duration": 19,
        "start_time": "2021-09-27T09:05:36.856Z"
      },
      {
        "duration": 16,
        "start_time": "2021-09-27T09:07:13.922Z"
      },
      {
        "duration": 22,
        "start_time": "2021-09-27T09:07:49.285Z"
      },
      {
        "duration": 17,
        "start_time": "2021-09-27T09:08:08.257Z"
      },
      {
        "duration": 401,
        "start_time": "2021-09-27T09:09:02.434Z"
      },
      {
        "duration": 11,
        "start_time": "2021-09-27T09:09:08.194Z"
      },
      {
        "duration": 9,
        "start_time": "2021-09-27T09:09:57.002Z"
      },
      {
        "duration": 9,
        "start_time": "2021-09-27T09:16:31.549Z"
      },
      {
        "duration": 9,
        "start_time": "2021-09-27T09:16:42.477Z"
      },
      {
        "duration": 4,
        "start_time": "2021-09-27T13:46:02.489Z"
      },
      {
        "duration": 223,
        "start_time": "2021-09-27T13:50:37.368Z"
      },
      {
        "duration": 186,
        "start_time": "2021-09-27T13:51:48.686Z"
      },
      {
        "duration": 640,
        "start_time": "2021-09-27T13:51:56.286Z"
      },
      {
        "duration": 19,
        "start_time": "2021-09-27T13:52:01.884Z"
      },
      {
        "duration": 7,
        "start_time": "2021-09-27T13:52:04.027Z"
      },
      {
        "duration": 11,
        "start_time": "2021-09-27T13:52:05.731Z"
      },
      {
        "duration": 4,
        "start_time": "2021-09-27T13:52:14.542Z"
      },
      {
        "duration": 11,
        "start_time": "2021-09-27T13:52:20.079Z"
      },
      {
        "duration": 4,
        "start_time": "2021-09-27T13:52:23.267Z"
      },
      {
        "duration": 14,
        "start_time": "2021-09-27T13:52:25.826Z"
      },
      {
        "duration": 5,
        "start_time": "2021-09-27T13:52:28.472Z"
      },
      {
        "duration": 7,
        "start_time": "2021-09-27T13:52:32.983Z"
      },
      {
        "duration": 3,
        "start_time": "2021-09-27T13:52:37.582Z"
      },
      {
        "duration": 3,
        "start_time": "2021-09-27T13:52:38.656Z"
      },
      {
        "duration": 235,
        "start_time": "2021-09-27T14:17:31.571Z"
      },
      {
        "duration": 36,
        "start_time": "2021-09-27T14:17:53.849Z"
      },
      {
        "duration": 43,
        "start_time": "2021-09-27T14:20:20.556Z"
      },
      {
        "duration": 6,
        "start_time": "2021-09-27T14:28:14.533Z"
      },
      {
        "duration": 10,
        "start_time": "2021-09-27T14:28:36.500Z"
      },
      {
        "duration": 10,
        "start_time": "2021-09-27T14:28:46.124Z"
      },
      {
        "duration": 10,
        "start_time": "2021-09-27T14:28:50.871Z"
      },
      {
        "duration": 10,
        "start_time": "2021-09-27T14:40:42.380Z"
      },
      {
        "duration": 228,
        "start_time": "2021-09-27T14:55:12.176Z"
      },
      {
        "duration": 384,
        "start_time": "2021-09-27T14:55:19.702Z"
      },
      {
        "duration": 350,
        "start_time": "2021-09-27T14:56:00.478Z"
      },
      {
        "duration": 461,
        "start_time": "2021-09-27T14:56:11.283Z"
      },
      {
        "duration": 5,
        "start_time": "2021-09-27T14:56:22.322Z"
      },
      {
        "duration": 5124,
        "start_time": "2021-09-27T15:05:35.921Z"
      },
      {
        "duration": 4,
        "start_time": "2021-09-27T15:07:05.875Z"
      },
      {
        "duration": 4,
        "start_time": "2021-09-27T15:07:35.834Z"
      },
      {
        "duration": 7,
        "start_time": "2021-09-27T15:08:22.345Z"
      },
      {
        "duration": 6604,
        "start_time": "2021-09-27T15:14:53.314Z"
      },
      {
        "duration": 4550,
        "start_time": "2021-09-27T15:16:22.300Z"
      },
      {
        "duration": 186,
        "start_time": "2021-09-27T15:18:07.079Z"
      },
      {
        "duration": 8,
        "start_time": "2021-09-27T15:18:20.442Z"
      },
      {
        "duration": 6,
        "start_time": "2021-09-27T15:20:24.577Z"
      },
      {
        "duration": 7,
        "start_time": "2021-09-27T15:20:53.325Z"
      },
      {
        "duration": 16,
        "start_time": "2021-09-27T15:28:12.215Z"
      },
      {
        "duration": 170,
        "start_time": "2021-09-27T15:35:51.507Z"
      },
      {
        "duration": 68,
        "start_time": "2021-09-27T15:37:01.976Z"
      },
      {
        "duration": 7,
        "start_time": "2021-09-27T15:40:06.261Z"
      },
      {
        "duration": 7,
        "start_time": "2021-09-27T15:44:41.424Z"
      },
      {
        "duration": 182,
        "start_time": "2021-09-27T15:47:14.804Z"
      },
      {
        "duration": 454,
        "start_time": "2021-09-27T15:51:00.400Z"
      },
      {
        "duration": 66,
        "start_time": "2021-09-27T15:51:29.542Z"
      },
      {
        "duration": 181,
        "start_time": "2021-09-27T15:51:36.897Z"
      },
      {
        "duration": 12,
        "start_time": "2021-09-27T15:52:30.801Z"
      },
      {
        "duration": 10,
        "start_time": "2021-09-27T15:53:28.384Z"
      },
      {
        "duration": 46,
        "start_time": "2021-09-27T15:55:16.494Z"
      },
      {
        "duration": 177,
        "start_time": "2021-09-27T15:59:01.645Z"
      },
      {
        "duration": 60,
        "start_time": "2021-09-27T16:12:16.688Z"
      },
      {
        "duration": 26,
        "start_time": "2021-09-27T16:12:25.852Z"
      },
      {
        "duration": 35,
        "start_time": "2021-09-27T16:15:01.410Z"
      },
      {
        "duration": 36,
        "start_time": "2021-09-27T16:15:10.738Z"
      },
      {
        "duration": 19,
        "start_time": "2021-09-27T16:15:45.291Z"
      },
      {
        "duration": 230,
        "start_time": "2021-09-27T16:17:23.630Z"
      },
      {
        "duration": 33,
        "start_time": "2021-09-27T16:17:36.965Z"
      },
      {
        "duration": 807,
        "start_time": "2021-09-28T08:09:10.894Z"
      },
      {
        "duration": 30,
        "start_time": "2021-09-28T08:09:11.704Z"
      },
      {
        "duration": 11,
        "start_time": "2021-09-28T08:09:11.737Z"
      },
      {
        "duration": 15,
        "start_time": "2021-09-28T08:09:11.768Z"
      },
      {
        "duration": 6,
        "start_time": "2021-09-28T08:09:11.786Z"
      },
      {
        "duration": 22,
        "start_time": "2021-09-28T08:09:11.794Z"
      },
      {
        "duration": 11,
        "start_time": "2021-09-28T08:09:11.818Z"
      },
      {
        "duration": 22,
        "start_time": "2021-09-28T08:09:11.867Z"
      },
      {
        "duration": 7,
        "start_time": "2021-09-28T08:09:11.893Z"
      },
      {
        "duration": 18,
        "start_time": "2021-09-28T08:09:11.903Z"
      },
      {
        "duration": 96,
        "start_time": "2021-09-28T08:09:11.924Z"
      },
      {
        "duration": 16,
        "start_time": "2021-09-28T08:09:12.023Z"
      },
      {
        "duration": 29,
        "start_time": "2021-09-28T08:09:12.042Z"
      },
      {
        "duration": 13,
        "start_time": "2021-09-28T08:09:12.073Z"
      },
      {
        "duration": 15,
        "start_time": "2021-09-28T08:09:12.088Z"
      },
      {
        "duration": 17,
        "start_time": "2021-09-28T08:09:12.105Z"
      },
      {
        "duration": 100,
        "start_time": "2021-09-28T08:09:12.124Z"
      },
      {
        "duration": 49,
        "start_time": "2021-09-28T08:09:12.227Z"
      },
      {
        "duration": 51,
        "start_time": "2021-09-28T08:09:12.278Z"
      },
      {
        "duration": 9,
        "start_time": "2021-09-28T08:14:20.330Z"
      },
      {
        "duration": 342,
        "start_time": "2021-09-28T08:54:03.663Z"
      },
      {
        "duration": 314,
        "start_time": "2021-09-28T08:56:52.737Z"
      },
      {
        "duration": 304,
        "start_time": "2021-09-28T08:57:22.135Z"
      },
      {
        "duration": 10,
        "start_time": "2021-09-28T09:07:23.778Z"
      },
      {
        "duration": 10,
        "start_time": "2021-09-28T09:07:39.130Z"
      },
      {
        "duration": 27,
        "start_time": "2021-09-28T09:09:30.963Z"
      },
      {
        "duration": 9,
        "start_time": "2021-09-28T09:10:36.253Z"
      },
      {
        "duration": 450,
        "start_time": "2021-09-28T09:12:13.084Z"
      },
      {
        "duration": 272,
        "start_time": "2021-09-28T09:12:17.276Z"
      },
      {
        "duration": 10,
        "start_time": "2021-09-28T09:12:28.219Z"
      },
      {
        "duration": 246,
        "start_time": "2021-09-28T09:12:38.963Z"
      },
      {
        "duration": 10,
        "start_time": "2021-09-28T09:13:51.108Z"
      },
      {
        "duration": 12,
        "start_time": "2021-09-28T09:13:55.427Z"
      },
      {
        "duration": 17,
        "start_time": "2021-09-28T09:15:30.919Z"
      },
      {
        "duration": 17,
        "start_time": "2021-09-28T09:15:50.764Z"
      },
      {
        "duration": 10,
        "start_time": "2021-09-28T09:16:41.181Z"
      },
      {
        "duration": 438,
        "start_time": "2021-09-28T09:34:10.412Z"
      },
      {
        "duration": 329,
        "start_time": "2021-09-28T09:34:23.081Z"
      },
      {
        "duration": 326,
        "start_time": "2021-09-28T09:34:27.857Z"
      },
      {
        "duration": 10,
        "start_time": "2021-09-28T09:34:33.978Z"
      },
      {
        "duration": 11,
        "start_time": "2021-09-28T09:35:42.691Z"
      },
      {
        "duration": 12,
        "start_time": "2021-09-28T09:36:11.019Z"
      },
      {
        "duration": 13,
        "start_time": "2021-09-28T09:36:35.254Z"
      },
      {
        "duration": 14,
        "start_time": "2021-09-28T09:38:29.028Z"
      },
      {
        "duration": 9,
        "start_time": "2021-09-28T09:39:45.197Z"
      },
      {
        "duration": 54,
        "start_time": "2021-09-28T09:43:44.029Z"
      },
      {
        "duration": 290,
        "start_time": "2021-09-28T09:44:13.023Z"
      },
      {
        "duration": 15,
        "start_time": "2021-09-28T09:45:24.478Z"
      },
      {
        "duration": 21,
        "start_time": "2021-09-28T09:46:29.678Z"
      },
      {
        "duration": 13,
        "start_time": "2021-09-28T09:47:05.567Z"
      },
      {
        "duration": 15,
        "start_time": "2021-09-28T09:47:21.662Z"
      },
      {
        "duration": 13,
        "start_time": "2021-09-28T09:52:14.903Z"
      },
      {
        "duration": 13,
        "start_time": "2021-09-28T09:52:21.928Z"
      },
      {
        "duration": 13,
        "start_time": "2021-09-28T09:54:20.529Z"
      },
      {
        "duration": 15,
        "start_time": "2021-09-28T09:58:19.997Z"
      },
      {
        "duration": 13,
        "start_time": "2021-09-28T09:58:36.147Z"
      },
      {
        "duration": 345,
        "start_time": "2021-09-28T09:58:51.449Z"
      },
      {
        "duration": 400,
        "start_time": "2021-09-28T09:58:55.049Z"
      },
      {
        "duration": 14,
        "start_time": "2021-09-28T09:58:58.425Z"
      },
      {
        "duration": 18,
        "start_time": "2021-09-28T09:59:35.771Z"
      },
      {
        "duration": 18,
        "start_time": "2021-09-28T09:59:46.634Z"
      },
      {
        "duration": 24,
        "start_time": "2021-09-28T10:01:52.547Z"
      },
      {
        "duration": 12,
        "start_time": "2021-09-28T10:02:35.787Z"
      },
      {
        "duration": 17,
        "start_time": "2021-09-28T10:03:05.004Z"
      },
      {
        "duration": 14,
        "start_time": "2021-09-28T10:03:18.858Z"
      },
      {
        "duration": 13,
        "start_time": "2021-09-28T10:07:54.151Z"
      },
      {
        "duration": 274,
        "start_time": "2021-09-28T10:08:48.261Z"
      },
      {
        "duration": 13,
        "start_time": "2021-09-28T10:08:56.798Z"
      },
      {
        "duration": 14,
        "start_time": "2021-09-28T10:09:19.086Z"
      },
      {
        "duration": 15,
        "start_time": "2021-09-28T10:10:49.519Z"
      },
      {
        "duration": 15,
        "start_time": "2021-09-28T10:10:56.852Z"
      },
      {
        "duration": 12,
        "start_time": "2021-09-28T10:11:40.235Z"
      },
      {
        "duration": 14,
        "start_time": "2021-09-28T10:11:54.350Z"
      },
      {
        "duration": 12,
        "start_time": "2021-09-28T10:15:30.881Z"
      },
      {
        "duration": 14,
        "start_time": "2021-09-28T10:27:20.861Z"
      },
      {
        "duration": 14,
        "start_time": "2021-09-28T10:27:44.051Z"
      },
      {
        "duration": 128,
        "start_time": "2021-09-28T13:53:38.462Z"
      },
      {
        "duration": 261,
        "start_time": "2021-09-28T13:53:42.720Z"
      },
      {
        "duration": 87,
        "start_time": "2021-09-28T13:55:21.178Z"
      },
      {
        "duration": 323,
        "start_time": "2021-09-28T13:55:37.528Z"
      },
      {
        "duration": 816,
        "start_time": "2021-09-28T13:55:55.657Z"
      },
      {
        "duration": 31,
        "start_time": "2021-09-28T13:55:56.475Z"
      },
      {
        "duration": 11,
        "start_time": "2021-09-28T13:55:56.509Z"
      },
      {
        "duration": 19,
        "start_time": "2021-09-28T13:55:56.523Z"
      },
      {
        "duration": 6,
        "start_time": "2021-09-28T13:55:56.561Z"
      },
      {
        "duration": 24,
        "start_time": "2021-09-28T13:55:56.569Z"
      },
      {
        "duration": 6,
        "start_time": "2021-09-28T13:55:56.595Z"
      },
      {
        "duration": 20,
        "start_time": "2021-09-28T13:55:56.604Z"
      },
      {
        "duration": 36,
        "start_time": "2021-09-28T13:55:56.627Z"
      },
      {
        "duration": 9,
        "start_time": "2021-09-28T13:55:56.665Z"
      },
      {
        "duration": 86,
        "start_time": "2021-09-28T13:55:56.677Z"
      },
      {
        "duration": 14,
        "start_time": "2021-09-28T13:55:56.766Z"
      },
      {
        "duration": 9,
        "start_time": "2021-09-28T13:55:56.782Z"
      },
      {
        "duration": 11,
        "start_time": "2021-09-28T13:55:56.793Z"
      },
      {
        "duration": 27,
        "start_time": "2021-09-28T13:55:56.807Z"
      },
      {
        "duration": 34,
        "start_time": "2021-09-28T13:55:56.836Z"
      },
      {
        "duration": 74,
        "start_time": "2021-09-28T13:55:56.872Z"
      },
      {
        "duration": 46,
        "start_time": "2021-09-28T13:55:56.949Z"
      },
      {
        "duration": 66,
        "start_time": "2021-09-28T13:55:56.998Z"
      },
      {
        "duration": 9,
        "start_time": "2021-09-28T13:55:57.066Z"
      },
      {
        "duration": 12,
        "start_time": "2021-09-28T13:55:57.077Z"
      },
      {
        "duration": 7784,
        "start_time": "2021-09-28T14:01:11.745Z"
      },
      {
        "duration": 9920,
        "start_time": "2021-09-28T14:01:23.399Z"
      },
      {
        "duration": 85,
        "start_time": "2021-09-28T14:02:09.125Z"
      },
      {
        "duration": 16,
        "start_time": "2021-09-28T14:02:15.027Z"
      },
      {
        "duration": 94,
        "start_time": "2021-09-28T14:02:42.419Z"
      },
      {
        "duration": 92,
        "start_time": "2021-09-28T14:02:56.161Z"
      },
      {
        "duration": 11,
        "start_time": "2021-09-28T14:03:08.308Z"
      },
      {
        "duration": 282,
        "start_time": "2021-09-28T14:08:36.022Z"
      },
      {
        "duration": 6512,
        "start_time": "2021-09-28T14:11:03.617Z"
      },
      {
        "duration": 13,
        "start_time": "2021-09-28T14:11:23.954Z"
      },
      {
        "duration": 13,
        "start_time": "2021-09-28T14:15:00.959Z"
      },
      {
        "duration": 222,
        "start_time": "2021-09-28T14:18:26.199Z"
      },
      {
        "duration": 10,
        "start_time": "2021-09-28T14:31:05.844Z"
      },
      {
        "duration": 12,
        "start_time": "2021-09-28T14:31:20.937Z"
      },
      {
        "duration": 12,
        "start_time": "2021-09-28T14:32:23.666Z"
      },
      {
        "duration": 13,
        "start_time": "2021-09-28T14:32:42.345Z"
      },
      {
        "duration": 13,
        "start_time": "2021-09-28T14:47:30.394Z"
      },
      {
        "duration": 338,
        "start_time": "2021-09-28T14:48:09.727Z"
      },
      {
        "duration": 213,
        "start_time": "2021-09-28T14:48:57.517Z"
      },
      {
        "duration": 12,
        "start_time": "2021-09-28T14:49:21.533Z"
      },
      {
        "duration": 13,
        "start_time": "2021-09-28T14:49:45.812Z"
      },
      {
        "duration": 13,
        "start_time": "2021-09-28T14:50:06.874Z"
      },
      {
        "duration": 11,
        "start_time": "2021-09-28T14:50:26.572Z"
      },
      {
        "duration": 12,
        "start_time": "2021-09-28T14:50:37.056Z"
      },
      {
        "duration": 10,
        "start_time": "2021-09-28T14:50:47.343Z"
      },
      {
        "duration": 274,
        "start_time": "2021-09-28T14:54:05.215Z"
      },
      {
        "duration": 1946,
        "start_time": "2021-09-28T14:54:41.828Z"
      },
      {
        "duration": 316,
        "start_time": "2021-09-28T14:55:09.868Z"
      },
      {
        "duration": 15,
        "start_time": "2021-09-28T14:58:24.535Z"
      },
      {
        "duration": 14,
        "start_time": "2021-09-28T14:58:35.729Z"
      },
      {
        "duration": 296,
        "start_time": "2021-09-28T14:58:47.860Z"
      },
      {
        "duration": 12,
        "start_time": "2021-09-28T14:58:52.306Z"
      },
      {
        "duration": 268,
        "start_time": "2021-09-28T15:01:27.005Z"
      },
      {
        "duration": 248,
        "start_time": "2021-09-28T15:01:33.173Z"
      },
      {
        "duration": 259,
        "start_time": "2021-09-28T15:11:16.422Z"
      },
      {
        "duration": 12,
        "start_time": "2021-09-28T15:11:21.206Z"
      },
      {
        "duration": 14,
        "start_time": "2021-09-28T15:19:30.409Z"
      },
      {
        "duration": 9,
        "start_time": "2021-09-28T15:19:38.897Z"
      },
      {
        "duration": 906,
        "start_time": "2021-09-28T15:21:47.598Z"
      },
      {
        "duration": 452,
        "start_time": "2021-09-28T15:26:42.492Z"
      },
      {
        "duration": 254,
        "start_time": "2021-09-28T15:26:54.525Z"
      },
      {
        "duration": 353,
        "start_time": "2021-09-28T15:27:12.599Z"
      },
      {
        "duration": 710,
        "start_time": "2021-09-28T15:30:43.172Z"
      },
      {
        "duration": 47,
        "start_time": "2021-09-28T15:31:14.316Z"
      },
      {
        "duration": 50,
        "start_time": "2021-09-28T15:31:28.046Z"
      },
      {
        "duration": 38,
        "start_time": "2021-09-28T15:34:45.097Z"
      },
      {
        "duration": 748,
        "start_time": "2021-09-29T17:00:59.823Z"
      },
      {
        "duration": 21,
        "start_time": "2021-09-29T17:01:00.573Z"
      },
      {
        "duration": 11,
        "start_time": "2021-09-29T17:01:00.597Z"
      },
      {
        "duration": 30,
        "start_time": "2021-09-29T17:01:00.610Z"
      },
      {
        "duration": 17,
        "start_time": "2021-09-29T17:01:00.641Z"
      },
      {
        "duration": 27,
        "start_time": "2021-09-29T17:01:00.660Z"
      },
      {
        "duration": 20,
        "start_time": "2021-09-29T17:01:00.689Z"
      },
      {
        "duration": 31,
        "start_time": "2021-09-29T17:01:00.712Z"
      },
      {
        "duration": 16,
        "start_time": "2021-09-29T17:01:00.746Z"
      },
      {
        "duration": 38,
        "start_time": "2021-09-29T17:01:00.763Z"
      },
      {
        "duration": 66,
        "start_time": "2021-09-29T17:01:00.803Z"
      },
      {
        "duration": 11,
        "start_time": "2021-09-29T17:01:00.871Z"
      },
      {
        "duration": 17,
        "start_time": "2021-09-29T17:01:00.884Z"
      },
      {
        "duration": 17,
        "start_time": "2021-09-29T17:01:00.903Z"
      },
      {
        "duration": 30,
        "start_time": "2021-09-29T17:01:00.922Z"
      },
      {
        "duration": 25,
        "start_time": "2021-09-29T17:01:00.954Z"
      },
      {
        "duration": 68,
        "start_time": "2021-09-29T17:01:00.981Z"
      },
      {
        "duration": 29,
        "start_time": "2021-09-29T17:01:01.051Z"
      },
      {
        "duration": 44,
        "start_time": "2021-09-29T17:01:01.082Z"
      },
      {
        "duration": 21,
        "start_time": "2021-09-29T17:01:01.128Z"
      },
      {
        "duration": 399,
        "start_time": "2021-09-29T17:01:01.151Z"
      },
      {
        "duration": 662,
        "start_time": "2021-09-29T17:01:00.891Z"
      },
      {
        "duration": 689,
        "start_time": "2021-09-29T17:02:03.363Z"
      },
      {
        "duration": 324,
        "start_time": "2021-09-29T17:19:05.382Z"
      },
      {
        "duration": 13,
        "start_time": "2021-09-29T17:19:11.457Z"
      },
      {
        "duration": 11,
        "start_time": "2021-09-29T17:19:14.413Z"
      },
      {
        "duration": 12,
        "start_time": "2021-09-29T17:19:23.406Z"
      },
      {
        "duration": 51,
        "start_time": "2021-09-29T17:19:35.199Z"
      },
      {
        "duration": 12,
        "start_time": "2021-09-29T17:19:35.252Z"
      },
      {
        "duration": 8,
        "start_time": "2021-09-29T17:19:35.266Z"
      },
      {
        "duration": 10,
        "start_time": "2021-09-29T17:19:35.276Z"
      },
      {
        "duration": 4,
        "start_time": "2021-09-29T17:19:35.288Z"
      },
      {
        "duration": 15,
        "start_time": "2021-09-29T17:19:35.294Z"
      },
      {
        "duration": 38,
        "start_time": "2021-09-29T17:19:35.311Z"
      },
      {
        "duration": 16,
        "start_time": "2021-09-29T17:19:35.352Z"
      },
      {
        "duration": 5,
        "start_time": "2021-09-29T17:19:35.370Z"
      },
      {
        "duration": 13,
        "start_time": "2021-09-29T17:19:35.376Z"
      },
      {
        "duration": 67,
        "start_time": "2021-09-29T17:19:35.391Z"
      },
      {
        "duration": 11,
        "start_time": "2021-09-29T17:19:35.460Z"
      },
      {
        "duration": 5,
        "start_time": "2021-09-29T17:19:35.472Z"
      },
      {
        "duration": 11,
        "start_time": "2021-09-29T17:19:35.479Z"
      },
      {
        "duration": 10,
        "start_time": "2021-09-29T17:19:35.491Z"
      },
      {
        "duration": 16,
        "start_time": "2021-09-29T17:19:35.503Z"
      },
      {
        "duration": 73,
        "start_time": "2021-09-29T17:19:35.520Z"
      },
      {
        "duration": 27,
        "start_time": "2021-09-29T17:19:35.595Z"
      },
      {
        "duration": 58,
        "start_time": "2021-09-29T17:19:35.625Z"
      },
      {
        "duration": 24,
        "start_time": "2021-09-29T17:19:35.685Z"
      },
      {
        "duration": 706,
        "start_time": "2021-09-29T17:19:35.711Z"
      },
      {
        "duration": 25,
        "start_time": "2021-09-29T17:21:12.517Z"
      },
      {
        "duration": 19,
        "start_time": "2021-09-29T17:21:25.056Z"
      },
      {
        "duration": 15,
        "start_time": "2021-09-29T17:21:27.759Z"
      },
      {
        "duration": 54,
        "start_time": "2021-09-29T17:21:38.572Z"
      },
      {
        "duration": 14,
        "start_time": "2021-09-29T17:21:38.628Z"
      },
      {
        "duration": 13,
        "start_time": "2021-09-29T17:21:38.644Z"
      },
      {
        "duration": 13,
        "start_time": "2021-09-29T17:21:38.662Z"
      },
      {
        "duration": 7,
        "start_time": "2021-09-29T17:21:38.677Z"
      },
      {
        "duration": 26,
        "start_time": "2021-09-29T17:21:38.686Z"
      },
      {
        "duration": 9,
        "start_time": "2021-09-29T17:21:38.714Z"
      },
      {
        "duration": 35,
        "start_time": "2021-09-29T17:21:38.726Z"
      },
      {
        "duration": 6,
        "start_time": "2021-09-29T17:21:38.765Z"
      },
      {
        "duration": 26,
        "start_time": "2021-09-29T17:21:38.772Z"
      },
      {
        "duration": 50,
        "start_time": "2021-09-29T17:21:38.800Z"
      },
      {
        "duration": 14,
        "start_time": "2021-09-29T17:21:38.853Z"
      },
      {
        "duration": 10,
        "start_time": "2021-09-29T17:21:38.869Z"
      },
      {
        "duration": 21,
        "start_time": "2021-09-29T17:21:38.881Z"
      },
      {
        "duration": 15,
        "start_time": "2021-09-29T17:21:38.904Z"
      },
      {
        "duration": 22,
        "start_time": "2021-09-29T17:21:38.921Z"
      },
      {
        "duration": 56,
        "start_time": "2021-09-29T17:21:38.944Z"
      },
      {
        "duration": 26,
        "start_time": "2021-09-29T17:21:39.002Z"
      },
      {
        "duration": 57,
        "start_time": "2021-09-29T17:21:39.030Z"
      },
      {
        "duration": 24,
        "start_time": "2021-09-29T17:21:39.089Z"
      },
      {
        "duration": 782,
        "start_time": "2021-09-29T17:21:39.115Z"
      },
      {
        "duration": 7812,
        "start_time": "2021-09-29T17:34:46.795Z"
      },
      {
        "duration": 30,
        "start_time": "2021-09-29T17:35:16.658Z"
      },
      {
        "duration": 1891,
        "start_time": "2021-09-29T17:35:43.118Z"
      },
      {
        "duration": 1875,
        "start_time": "2021-09-29T17:37:06.545Z"
      },
      {
        "duration": 24,
        "start_time": "2021-09-29T17:37:42.648Z"
      },
      {
        "duration": 284,
        "start_time": "2021-09-29T17:40:08.112Z"
      },
      {
        "duration": 16,
        "start_time": "2021-09-29T17:43:07.393Z"
      },
      {
        "duration": 283,
        "start_time": "2021-09-29T17:43:21.180Z"
      },
      {
        "duration": 88,
        "start_time": "2021-09-29T17:46:00.305Z"
      },
      {
        "duration": 99,
        "start_time": "2021-09-29T17:46:13.870Z"
      },
      {
        "duration": 5,
        "start_time": "2021-09-29T17:46:22.300Z"
      },
      {
        "duration": 5,
        "start_time": "2021-09-29T17:47:47.627Z"
      },
      {
        "duration": 348,
        "start_time": "2021-09-29T17:49:07.815Z"
      },
      {
        "duration": 88,
        "start_time": "2021-09-29T17:51:57.319Z"
      },
      {
        "duration": 6,
        "start_time": "2021-09-29T17:52:02.728Z"
      },
      {
        "duration": 21,
        "start_time": "2021-09-29T17:52:21.514Z"
      },
      {
        "duration": 1855,
        "start_time": "2021-09-29T17:54:08.092Z"
      },
      {
        "duration": 1967,
        "start_time": "2021-09-29T17:55:05.741Z"
      },
      {
        "duration": 9,
        "start_time": "2021-09-29T17:56:48.858Z"
      },
      {
        "duration": 279,
        "start_time": "2021-09-29T17:57:32.666Z"
      },
      {
        "duration": 6,
        "start_time": "2021-09-29T17:57:45.736Z"
      },
      {
        "duration": 9030,
        "start_time": "2021-09-29T18:12:46.796Z"
      },
      {
        "duration": 2268,
        "start_time": "2021-09-29T18:13:29.042Z"
      },
      {
        "duration": 7153,
        "start_time": "2021-09-29T18:13:42.467Z"
      },
      {
        "duration": 67,
        "start_time": "2021-09-29T18:14:11.918Z"
      },
      {
        "duration": 6633,
        "start_time": "2021-09-29T18:21:50.135Z"
      },
      {
        "duration": 75,
        "start_time": "2021-09-29T18:22:27.320Z"
      },
      {
        "duration": 7955,
        "start_time": "2021-09-29T18:22:37.430Z"
      },
      {
        "duration": 93,
        "start_time": "2021-09-29T18:25:19.187Z"
      },
      {
        "duration": 2363,
        "start_time": "2021-09-29T18:25:27.036Z"
      },
      {
        "duration": 7395,
        "start_time": "2021-09-29T18:25:45.397Z"
      },
      {
        "duration": 87,
        "start_time": "2021-09-29T18:26:33.719Z"
      },
      {
        "duration": 7349,
        "start_time": "2021-09-29T18:30:59.762Z"
      },
      {
        "duration": 76,
        "start_time": "2021-09-29T18:32:20.069Z"
      },
      {
        "duration": 1902,
        "start_time": "2021-09-29T18:33:43.695Z"
      },
      {
        "duration": 75,
        "start_time": "2021-09-29T18:33:59.194Z"
      },
      {
        "duration": 99,
        "start_time": "2021-09-29T18:35:25.689Z"
      },
      {
        "duration": 95,
        "start_time": "2021-09-29T18:47:51.585Z"
      },
      {
        "duration": 84,
        "start_time": "2021-09-29T18:50:31.935Z"
      },
      {
        "duration": 74,
        "start_time": "2021-09-29T18:50:49.268Z"
      },
      {
        "duration": 43,
        "start_time": "2021-09-29T18:54:30.750Z"
      },
      {
        "duration": 19,
        "start_time": "2021-09-29T19:19:00.915Z"
      },
      {
        "duration": 17,
        "start_time": "2021-09-29T19:19:23.495Z"
      },
      {
        "duration": 2,
        "start_time": "2021-09-29T19:27:18.519Z"
      },
      {
        "duration": 3,
        "start_time": "2021-09-29T19:29:48.926Z"
      },
      {
        "duration": 3,
        "start_time": "2021-09-29T19:32:44.207Z"
      },
      {
        "duration": 1428,
        "start_time": "2021-09-29T19:33:47.063Z"
      },
      {
        "duration": 19,
        "start_time": "2021-09-29T19:34:16.153Z"
      },
      {
        "duration": 59,
        "start_time": "2021-09-29T19:34:22.951Z"
      },
      {
        "duration": 15,
        "start_time": "2021-09-29T19:34:23.013Z"
      },
      {
        "duration": 7,
        "start_time": "2021-09-29T19:34:23.053Z"
      },
      {
        "duration": 13,
        "start_time": "2021-09-29T19:34:23.062Z"
      },
      {
        "duration": 6,
        "start_time": "2021-09-29T19:34:23.078Z"
      },
      {
        "duration": 15,
        "start_time": "2021-09-29T19:34:23.086Z"
      },
      {
        "duration": 4,
        "start_time": "2021-09-29T19:34:23.103Z"
      },
      {
        "duration": 52,
        "start_time": "2021-09-29T19:34:23.110Z"
      },
      {
        "duration": 6,
        "start_time": "2021-09-29T19:34:23.165Z"
      },
      {
        "duration": 9,
        "start_time": "2021-09-29T19:34:23.173Z"
      },
      {
        "duration": 70,
        "start_time": "2021-09-29T19:34:23.185Z"
      },
      {
        "duration": 12,
        "start_time": "2021-09-29T19:34:23.257Z"
      },
      {
        "duration": 6,
        "start_time": "2021-09-29T19:34:23.270Z"
      },
      {
        "duration": 9,
        "start_time": "2021-09-29T19:34:23.277Z"
      },
      {
        "duration": 10,
        "start_time": "2021-09-29T19:34:23.287Z"
      },
      {
        "duration": 12,
        "start_time": "2021-09-29T19:34:23.298Z"
      },
      {
        "duration": 78,
        "start_time": "2021-09-29T19:34:23.312Z"
      },
      {
        "duration": 28,
        "start_time": "2021-09-29T19:34:23.392Z"
      },
      {
        "duration": 57,
        "start_time": "2021-09-29T19:34:23.422Z"
      },
      {
        "duration": 2,
        "start_time": "2021-09-29T19:34:23.481Z"
      },
      {
        "duration": 702,
        "start_time": "2021-09-29T19:34:23.485Z"
      },
      {
        "duration": 4,
        "start_time": "2021-09-29T19:34:24.189Z"
      },
      {
        "duration": 4,
        "start_time": "2021-09-29T19:34:24.196Z"
      },
      {
        "duration": 3182,
        "start_time": "2021-09-29T19:34:24.201Z"
      },
      {
        "duration": 3078,
        "start_time": "2021-09-29T19:35:12.719Z"
      },
      {
        "duration": 4,
        "start_time": "2021-09-29T19:44:10.529Z"
      },
      {
        "duration": 3092,
        "start_time": "2021-09-29T19:44:16.788Z"
      },
      {
        "duration": 3,
        "start_time": "2021-09-29T19:45:20.506Z"
      },
      {
        "duration": 3002,
        "start_time": "2021-09-29T19:45:24.470Z"
      },
      {
        "duration": 3286,
        "start_time": "2021-09-29T20:29:03.619Z"
      },
      {
        "duration": 2749,
        "start_time": "2021-09-29T20:29:35.138Z"
      },
      {
        "duration": 14,
        "start_time": "2021-09-29T20:31:01.941Z"
      },
      {
        "duration": 38,
        "start_time": "2021-09-29T20:32:19.811Z"
      },
      {
        "duration": 31,
        "start_time": "2021-09-29T20:37:55.349Z"
      },
      {
        "duration": 896,
        "start_time": "2021-09-29T20:44:15.814Z"
      },
      {
        "duration": 9,
        "start_time": "2021-09-29T20:44:22.676Z"
      },
      {
        "duration": 9,
        "start_time": "2021-09-29T20:44:52.793Z"
      },
      {
        "duration": 8,
        "start_time": "2021-09-29T20:45:48.496Z"
      },
      {
        "duration": 7,
        "start_time": "2021-09-29T20:46:06.624Z"
      },
      {
        "duration": 7,
        "start_time": "2021-09-29T20:46:09.340Z"
      },
      {
        "duration": 54,
        "start_time": "2021-09-29T20:46:15.417Z"
      },
      {
        "duration": 13,
        "start_time": "2021-09-29T20:46:15.473Z"
      },
      {
        "duration": 7,
        "start_time": "2021-09-29T20:46:15.488Z"
      },
      {
        "duration": 11,
        "start_time": "2021-09-29T20:46:15.497Z"
      },
      {
        "duration": 41,
        "start_time": "2021-09-29T20:46:15.510Z"
      },
      {
        "duration": 12,
        "start_time": "2021-09-29T20:46:15.553Z"
      },
      {
        "duration": 5,
        "start_time": "2021-09-29T20:46:15.567Z"
      },
      {
        "duration": 16,
        "start_time": "2021-09-29T20:46:15.574Z"
      },
      {
        "duration": 5,
        "start_time": "2021-09-29T20:46:15.593Z"
      },
      {
        "duration": 12,
        "start_time": "2021-09-29T20:46:15.600Z"
      },
      {
        "duration": 80,
        "start_time": "2021-09-29T20:46:15.613Z"
      },
      {
        "duration": 10,
        "start_time": "2021-09-29T20:46:15.695Z"
      },
      {
        "duration": 5,
        "start_time": "2021-09-29T20:46:15.707Z"
      },
      {
        "duration": 7,
        "start_time": "2021-09-29T20:46:15.713Z"
      },
      {
        "duration": 32,
        "start_time": "2021-09-29T20:46:15.722Z"
      },
      {
        "duration": 7,
        "start_time": "2021-09-29T20:46:15.755Z"
      },
      {
        "duration": 49,
        "start_time": "2021-09-29T20:46:15.764Z"
      },
      {
        "duration": 43,
        "start_time": "2021-09-29T20:46:15.815Z"
      },
      {
        "duration": 40,
        "start_time": "2021-09-29T20:46:15.860Z"
      },
      {
        "duration": 24,
        "start_time": "2021-09-29T20:46:15.902Z"
      },
      {
        "duration": 706,
        "start_time": "2021-09-29T20:46:15.928Z"
      },
      {
        "duration": 13,
        "start_time": "2021-09-29T20:46:16.636Z"
      },
      {
        "duration": 6,
        "start_time": "2021-09-29T20:46:16.652Z"
      },
      {
        "duration": 2941,
        "start_time": "2021-09-29T20:46:16.660Z"
      },
      {
        "duration": 9,
        "start_time": "2021-09-29T20:46:19.603Z"
      },
      {
        "duration": 21,
        "start_time": "2021-09-29T20:46:41.420Z"
      },
      {
        "duration": 13,
        "start_time": "2021-09-29T20:47:02.950Z"
      },
      {
        "duration": 58,
        "start_time": "2021-09-29T20:47:11.988Z"
      },
      {
        "duration": 13,
        "start_time": "2021-09-29T20:47:12.048Z"
      },
      {
        "duration": 17,
        "start_time": "2021-09-29T20:47:12.064Z"
      },
      {
        "duration": 18,
        "start_time": "2021-09-29T20:47:12.084Z"
      },
      {
        "duration": 5,
        "start_time": "2021-09-29T20:47:12.104Z"
      },
      {
        "duration": 19,
        "start_time": "2021-09-29T20:47:12.111Z"
      },
      {
        "duration": 19,
        "start_time": "2021-09-29T20:47:12.132Z"
      },
      {
        "duration": 23,
        "start_time": "2021-09-29T20:47:12.152Z"
      },
      {
        "duration": 16,
        "start_time": "2021-09-29T20:47:12.178Z"
      },
      {
        "duration": 15,
        "start_time": "2021-09-29T20:47:12.196Z"
      },
      {
        "duration": 67,
        "start_time": "2021-09-29T20:47:12.213Z"
      },
      {
        "duration": 10,
        "start_time": "2021-09-29T20:47:12.282Z"
      },
      {
        "duration": 5,
        "start_time": "2021-09-29T20:47:12.294Z"
      },
      {
        "duration": 8,
        "start_time": "2021-09-29T20:47:12.301Z"
      },
      {
        "duration": 8,
        "start_time": "2021-09-29T20:47:12.313Z"
      },
      {
        "duration": 29,
        "start_time": "2021-09-29T20:47:12.323Z"
      },
      {
        "duration": 48,
        "start_time": "2021-09-29T20:47:12.354Z"
      },
      {
        "duration": 48,
        "start_time": "2021-09-29T20:47:12.403Z"
      },
      {
        "duration": 40,
        "start_time": "2021-09-29T20:47:12.452Z"
      },
      {
        "duration": 25,
        "start_time": "2021-09-29T20:47:12.494Z"
      },
      {
        "duration": 738,
        "start_time": "2021-09-29T20:47:12.520Z"
      },
      {
        "duration": 3,
        "start_time": "2021-09-29T20:47:13.260Z"
      },
      {
        "duration": 5,
        "start_time": "2021-09-29T20:47:13.265Z"
      },
      {
        "duration": 3035,
        "start_time": "2021-09-29T20:47:13.272Z"
      },
      {
        "duration": 10,
        "start_time": "2021-09-29T20:47:16.309Z"
      },
      {
        "duration": 17,
        "start_time": "2021-09-29T20:48:35.353Z"
      },
      {
        "duration": 7,
        "start_time": "2021-09-29T20:48:37.889Z"
      },
      {
        "duration": 9,
        "start_time": "2021-09-29T20:49:34.813Z"
      },
      {
        "duration": 9,
        "start_time": "2021-09-29T20:50:02.751Z"
      },
      {
        "duration": 9,
        "start_time": "2021-09-29T20:50:07.749Z"
      },
      {
        "duration": 7,
        "start_time": "2021-09-29T20:51:23.606Z"
      },
      {
        "duration": 7,
        "start_time": "2021-09-29T20:51:26.718Z"
      },
      {
        "duration": 57,
        "start_time": "2021-09-29T20:51:33.884Z"
      },
      {
        "duration": 14,
        "start_time": "2021-09-29T20:51:33.943Z"
      },
      {
        "duration": 8,
        "start_time": "2021-09-29T20:51:33.959Z"
      },
      {
        "duration": 13,
        "start_time": "2021-09-29T20:51:33.969Z"
      },
      {
        "duration": 4,
        "start_time": "2021-09-29T20:51:33.984Z"
      },
      {
        "duration": 14,
        "start_time": "2021-09-29T20:51:33.989Z"
      },
      {
        "duration": 5,
        "start_time": "2021-09-29T20:51:34.004Z"
      },
      {
        "duration": 16,
        "start_time": "2021-09-29T20:51:34.048Z"
      },
      {
        "duration": 5,
        "start_time": "2021-09-29T20:51:34.066Z"
      },
      {
        "duration": 8,
        "start_time": "2021-09-29T20:51:34.074Z"
      },
      {
        "duration": 75,
        "start_time": "2021-09-29T20:51:34.084Z"
      },
      {
        "duration": 11,
        "start_time": "2021-09-29T20:51:34.161Z"
      },
      {
        "duration": 5,
        "start_time": "2021-09-29T20:51:34.173Z"
      },
      {
        "duration": 11,
        "start_time": "2021-09-29T20:51:34.180Z"
      },
      {
        "duration": 10,
        "start_time": "2021-09-29T20:51:34.193Z"
      },
      {
        "duration": 8,
        "start_time": "2021-09-29T20:51:34.205Z"
      },
      {
        "duration": 81,
        "start_time": "2021-09-29T20:51:34.215Z"
      },
      {
        "duration": 27,
        "start_time": "2021-09-29T20:51:34.298Z"
      },
      {
        "duration": 59,
        "start_time": "2021-09-29T20:51:34.327Z"
      },
      {
        "duration": 29,
        "start_time": "2021-09-29T20:51:34.388Z"
      },
      {
        "duration": 751,
        "start_time": "2021-09-29T20:51:34.419Z"
      },
      {
        "duration": 5,
        "start_time": "2021-09-29T20:51:35.173Z"
      },
      {
        "duration": 5,
        "start_time": "2021-09-29T20:51:35.183Z"
      },
      {
        "duration": 3390,
        "start_time": "2021-09-29T20:51:35.190Z"
      },
      {
        "duration": 9,
        "start_time": "2021-09-29T20:51:38.582Z"
      },
      {
        "duration": 10,
        "start_time": "2021-09-29T20:55:32.082Z"
      },
      {
        "duration": 11,
        "start_time": "2021-09-29T20:55:47.778Z"
      },
      {
        "duration": 9,
        "start_time": "2021-09-29T20:55:59.514Z"
      },
      {
        "duration": 284,
        "start_time": "2021-09-29T20:56:25.066Z"
      },
      {
        "duration": 251,
        "start_time": "2021-09-29T20:56:43.375Z"
      },
      {
        "duration": 9,
        "start_time": "2021-09-29T20:56:50.861Z"
      },
      {
        "duration": 35,
        "start_time": "2021-09-29T20:58:08.330Z"
      },
      {
        "duration": 26,
        "start_time": "2021-09-29T20:58:36.427Z"
      },
      {
        "duration": 9,
        "start_time": "2021-09-29T21:00:44.994Z"
      },
      {
        "duration": 677,
        "start_time": "2021-09-30T16:46:02.884Z"
      },
      {
        "duration": 20,
        "start_time": "2021-09-30T16:46:03.563Z"
      },
      {
        "duration": 8,
        "start_time": "2021-09-30T16:46:03.585Z"
      },
      {
        "duration": 14,
        "start_time": "2021-09-30T16:46:03.595Z"
      },
      {
        "duration": 9,
        "start_time": "2021-09-30T16:46:03.611Z"
      },
      {
        "duration": 31,
        "start_time": "2021-09-30T16:46:03.622Z"
      },
      {
        "duration": 8,
        "start_time": "2021-09-30T16:46:03.657Z"
      },
      {
        "duration": 34,
        "start_time": "2021-09-30T16:46:03.668Z"
      },
      {
        "duration": 5,
        "start_time": "2021-09-30T16:46:03.705Z"
      },
      {
        "duration": 19,
        "start_time": "2021-09-30T16:46:03.712Z"
      },
      {
        "duration": 61,
        "start_time": "2021-09-30T16:46:03.733Z"
      },
      {
        "duration": 10,
        "start_time": "2021-09-30T16:46:03.796Z"
      },
      {
        "duration": 19,
        "start_time": "2021-09-30T16:46:03.807Z"
      },
      {
        "duration": 12,
        "start_time": "2021-09-30T16:46:03.827Z"
      },
      {
        "duration": 26,
        "start_time": "2021-09-30T16:46:03.841Z"
      },
      {
        "duration": 8,
        "start_time": "2021-09-30T16:46:03.869Z"
      },
      {
        "duration": 64,
        "start_time": "2021-09-30T16:46:03.879Z"
      },
      {
        "duration": 35,
        "start_time": "2021-09-30T16:46:03.945Z"
      },
      {
        "duration": 40,
        "start_time": "2021-09-30T16:46:03.982Z"
      },
      {
        "duration": 7,
        "start_time": "2021-09-30T16:46:04.024Z"
      },
      {
        "duration": 832,
        "start_time": "2021-09-30T16:46:04.033Z"
      },
      {
        "duration": 3,
        "start_time": "2021-09-30T16:46:04.867Z"
      },
      {
        "duration": 3211,
        "start_time": "2021-09-30T16:46:04.873Z"
      },
      {
        "duration": 11,
        "start_time": "2021-09-30T16:46:08.086Z"
      },
      {
        "duration": 3,
        "start_time": "2021-09-30T16:49:04.111Z"
      },
      {
        "duration": 63,
        "start_time": "2021-09-30T16:59:35.711Z"
      },
      {
        "duration": 48,
        "start_time": "2021-09-30T17:00:05.230Z"
      },
      {
        "duration": 82,
        "start_time": "2021-09-30T17:20:27.461Z"
      },
      {
        "duration": 4,
        "start_time": "2021-09-30T17:21:00.603Z"
      },
      {
        "duration": 340,
        "start_time": "2021-09-30T17:23:05.140Z"
      },
      {
        "duration": 13,
        "start_time": "2021-09-30T17:23:17.743Z"
      },
      {
        "duration": 20,
        "start_time": "2021-09-30T17:23:26.833Z"
      },
      {
        "duration": 253,
        "start_time": "2021-09-30T17:25:46.019Z"
      },
      {
        "duration": 15,
        "start_time": "2021-09-30T17:26:05.519Z"
      },
      {
        "duration": 6,
        "start_time": "2021-09-30T17:41:28.297Z"
      },
      {
        "duration": 9,
        "start_time": "2021-09-30T17:41:50.115Z"
      },
      {
        "duration": 323,
        "start_time": "2021-09-30T17:42:01.722Z"
      },
      {
        "duration": 515,
        "start_time": "2021-09-30T17:42:05.934Z"
      },
      {
        "duration": 257,
        "start_time": "2021-09-30T17:42:11.744Z"
      },
      {
        "duration": 243,
        "start_time": "2021-09-30T17:42:31.550Z"
      },
      {
        "duration": 7,
        "start_time": "2021-09-30T17:42:45.079Z"
      },
      {
        "duration": 11,
        "start_time": "2021-09-30T17:42:58.813Z"
      },
      {
        "duration": 244,
        "start_time": "2021-09-30T17:43:15.339Z"
      },
      {
        "duration": 254,
        "start_time": "2021-09-30T17:43:19.688Z"
      },
      {
        "duration": 302,
        "start_time": "2021-09-30T17:43:27.166Z"
      },
      {
        "duration": 246,
        "start_time": "2021-09-30T17:43:38.883Z"
      },
      {
        "duration": 240,
        "start_time": "2021-09-30T17:43:46.738Z"
      },
      {
        "duration": 12,
        "start_time": "2021-09-30T17:45:20.107Z"
      },
      {
        "duration": 11,
        "start_time": "2021-09-30T17:45:54.797Z"
      },
      {
        "duration": 8,
        "start_time": "2021-09-30T18:40:51.033Z"
      },
      {
        "duration": 267,
        "start_time": "2021-09-30T18:52:46.972Z"
      },
      {
        "duration": 238,
        "start_time": "2021-09-30T18:54:18.991Z"
      },
      {
        "duration": 86,
        "start_time": "2021-09-30T18:54:24.847Z"
      },
      {
        "duration": 7204,
        "start_time": "2021-09-30T18:54:30.411Z"
      },
      {
        "duration": 6748,
        "start_time": "2021-09-30T18:55:08.726Z"
      },
      {
        "duration": 6916,
        "start_time": "2021-09-30T18:55:40.926Z"
      },
      {
        "duration": 19,
        "start_time": "2021-09-30T18:56:47.215Z"
      },
      {
        "duration": 15,
        "start_time": "2021-09-30T18:56:57.960Z"
      },
      {
        "duration": 277,
        "start_time": "2021-09-30T18:58:06.741Z"
      },
      {
        "duration": 257,
        "start_time": "2021-09-30T19:01:36.906Z"
      },
      {
        "duration": 240,
        "start_time": "2021-09-30T19:01:50.824Z"
      },
      {
        "duration": 3,
        "start_time": "2021-09-30T19:07:02.300Z"
      },
      {
        "duration": 7,
        "start_time": "2021-09-30T19:08:33.167Z"
      },
      {
        "duration": 7,
        "start_time": "2021-09-30T19:09:03.518Z"
      },
      {
        "duration": 17,
        "start_time": "2021-09-30T19:09:18.224Z"
      },
      {
        "duration": 18,
        "start_time": "2021-09-30T19:15:20.988Z"
      },
      {
        "duration": 7,
        "start_time": "2021-09-30T19:30:45.345Z"
      },
      {
        "duration": 255,
        "start_time": "2021-09-30T19:34:36.716Z"
      },
      {
        "duration": 254,
        "start_time": "2021-09-30T19:36:42.858Z"
      },
      {
        "duration": 256,
        "start_time": "2021-09-30T19:37:42.128Z"
      },
      {
        "duration": 265,
        "start_time": "2021-09-30T19:37:59.791Z"
      },
      {
        "duration": 25,
        "start_time": "2021-09-30T19:41:45.681Z"
      },
      {
        "duration": 26,
        "start_time": "2021-09-30T19:46:58.584Z"
      },
      {
        "duration": 253,
        "start_time": "2021-09-30T20:02:43.920Z"
      },
      {
        "duration": 23,
        "start_time": "2021-09-30T20:03:25.650Z"
      },
      {
        "duration": 25,
        "start_time": "2021-09-30T20:04:28.809Z"
      },
      {
        "duration": 26,
        "start_time": "2021-09-30T20:04:39.975Z"
      },
      {
        "duration": 27,
        "start_time": "2021-09-30T20:05:07.234Z"
      },
      {
        "duration": 26,
        "start_time": "2021-09-30T20:05:17.170Z"
      },
      {
        "duration": 28,
        "start_time": "2021-09-30T20:05:28.229Z"
      },
      {
        "duration": 16,
        "start_time": "2021-09-30T20:52:47.397Z"
      },
      {
        "duration": 14,
        "start_time": "2021-09-30T20:52:55.016Z"
      },
      {
        "duration": 60,
        "start_time": "2021-09-30T20:53:40.514Z"
      },
      {
        "duration": 14,
        "start_time": "2021-09-30T20:53:40.576Z"
      },
      {
        "duration": 11,
        "start_time": "2021-09-30T20:53:40.594Z"
      },
      {
        "duration": 17,
        "start_time": "2021-09-30T20:53:40.607Z"
      },
      {
        "duration": 6,
        "start_time": "2021-09-30T20:53:40.649Z"
      },
      {
        "duration": 23,
        "start_time": "2021-09-30T20:53:40.657Z"
      },
      {
        "duration": 9,
        "start_time": "2021-09-30T20:53:40.682Z"
      },
      {
        "duration": 15,
        "start_time": "2021-09-30T20:53:40.694Z"
      },
      {
        "duration": 6,
        "start_time": "2021-09-30T20:53:40.712Z"
      },
      {
        "duration": 13,
        "start_time": "2021-09-30T20:53:40.749Z"
      },
      {
        "duration": 90,
        "start_time": "2021-09-30T20:53:40.770Z"
      },
      {
        "duration": 14,
        "start_time": "2021-09-30T20:53:40.862Z"
      },
      {
        "duration": 4,
        "start_time": "2021-09-30T20:53:40.878Z"
      },
      {
        "duration": 13,
        "start_time": "2021-09-30T20:53:40.884Z"
      },
      {
        "duration": 10,
        "start_time": "2021-09-30T20:53:40.899Z"
      },
      {
        "duration": 10,
        "start_time": "2021-09-30T20:53:40.911Z"
      },
      {
        "duration": 93,
        "start_time": "2021-09-30T20:53:40.923Z"
      },
      {
        "duration": 37,
        "start_time": "2021-09-30T20:53:41.018Z"
      },
      {
        "duration": 45,
        "start_time": "2021-09-30T20:53:41.060Z"
      },
      {
        "duration": 3,
        "start_time": "2021-09-30T20:53:41.107Z"
      },
      {
        "duration": 728,
        "start_time": "2021-09-30T20:53:41.112Z"
      },
      {
        "duration": 8,
        "start_time": "2021-09-30T20:53:41.841Z"
      },
      {
        "duration": 3357,
        "start_time": "2021-09-30T20:53:41.853Z"
      },
      {
        "duration": 11,
        "start_time": "2021-09-30T20:53:45.212Z"
      },
      {
        "duration": 24,
        "start_time": "2021-09-30T20:53:45.225Z"
      },
      {
        "duration": 30,
        "start_time": "2021-09-30T20:53:45.255Z"
      },
      {
        "duration": 6,
        "start_time": "2021-09-30T20:53:45.287Z"
      },
      {
        "duration": 46,
        "start_time": "2021-09-30T20:53:45.295Z"
      },
      {
        "duration": 15,
        "start_time": "2021-09-30T20:53:45.342Z"
      },
      {
        "duration": 19,
        "start_time": "2021-09-30T20:53:54.549Z"
      },
      {
        "duration": 5,
        "start_time": "2021-09-30T20:54:07.330Z"
      },
      {
        "duration": 15,
        "start_time": "2021-09-30T20:54:10.994Z"
      },
      {
        "duration": 13,
        "start_time": "2021-09-30T20:54:18.566Z"
      },
      {
        "duration": 5,
        "start_time": "2021-09-30T20:54:33.493Z"
      },
      {
        "duration": 13,
        "start_time": "2021-09-30T20:54:36.590Z"
      },
      {
        "duration": 80,
        "start_time": "2021-09-30T20:54:55.354Z"
      },
      {
        "duration": 27,
        "start_time": "2021-09-30T20:54:55.436Z"
      },
      {
        "duration": 12,
        "start_time": "2021-09-30T20:54:55.466Z"
      },
      {
        "duration": 13,
        "start_time": "2021-09-30T20:54:55.480Z"
      },
      {
        "duration": 4,
        "start_time": "2021-09-30T20:54:55.495Z"
      },
      {
        "duration": 12,
        "start_time": "2021-09-30T20:54:55.501Z"
      },
      {
        "duration": 37,
        "start_time": "2021-09-30T20:54:55.514Z"
      },
      {
        "duration": 36,
        "start_time": "2021-09-30T20:54:55.554Z"
      },
      {
        "duration": 8,
        "start_time": "2021-09-30T20:54:55.594Z"
      },
      {
        "duration": 8,
        "start_time": "2021-09-30T20:54:55.605Z"
      },
      {
        "duration": 86,
        "start_time": "2021-09-30T20:54:55.615Z"
      },
      {
        "duration": 11,
        "start_time": "2021-09-30T20:54:55.703Z"
      },
      {
        "duration": 5,
        "start_time": "2021-09-30T20:54:55.716Z"
      },
      {
        "duration": 29,
        "start_time": "2021-09-30T20:54:55.722Z"
      },
      {
        "duration": 12,
        "start_time": "2021-09-30T20:54:55.753Z"
      },
      {
        "duration": 11,
        "start_time": "2021-09-30T20:54:55.768Z"
      },
      {
        "duration": 54,
        "start_time": "2021-09-30T20:54:55.781Z"
      },
      {
        "duration": 42,
        "start_time": "2021-09-30T20:54:55.837Z"
      },
      {
        "duration": 39,
        "start_time": "2021-09-30T20:54:55.881Z"
      },
      {
        "duration": 46,
        "start_time": "2021-09-30T20:54:55.922Z"
      },
      {
        "duration": 813,
        "start_time": "2021-09-30T20:54:55.970Z"
      },
      {
        "duration": 3,
        "start_time": "2021-09-30T20:54:56.785Z"
      },
      {
        "duration": 3276,
        "start_time": "2021-09-30T20:54:56.790Z"
      },
      {
        "duration": 9,
        "start_time": "2021-09-30T20:55:00.068Z"
      },
      {
        "duration": 7,
        "start_time": "2021-09-30T20:55:00.079Z"
      },
      {
        "duration": 20,
        "start_time": "2021-09-30T20:55:00.088Z"
      },
      {
        "duration": 3,
        "start_time": "2021-09-30T20:55:00.111Z"
      },
      {
        "duration": 70,
        "start_time": "2021-09-30T20:55:00.116Z"
      },
      {
        "duration": 9,
        "start_time": "2021-09-30T20:55:00.188Z"
      },
      {
        "duration": 12,
        "start_time": "2021-09-30T20:55:32.360Z"
      },
      {
        "duration": 13,
        "start_time": "2021-09-30T20:55:36.582Z"
      },
      {
        "duration": 14,
        "start_time": "2021-09-30T20:56:00.179Z"
      },
      {
        "duration": 14,
        "start_time": "2021-09-30T20:56:04.415Z"
      },
      {
        "duration": 65,
        "start_time": "2021-09-30T20:56:11.103Z"
      },
      {
        "duration": 14,
        "start_time": "2021-09-30T20:56:11.170Z"
      },
      {
        "duration": 9,
        "start_time": "2021-09-30T20:56:11.187Z"
      },
      {
        "duration": 11,
        "start_time": "2021-09-30T20:56:11.198Z"
      },
      {
        "duration": 39,
        "start_time": "2021-09-30T20:56:11.211Z"
      },
      {
        "duration": 11,
        "start_time": "2021-09-30T20:56:11.252Z"
      },
      {
        "duration": 5,
        "start_time": "2021-09-30T20:56:11.265Z"
      },
      {
        "duration": 17,
        "start_time": "2021-09-30T20:56:11.272Z"
      },
      {
        "duration": 6,
        "start_time": "2021-09-30T20:56:11.291Z"
      },
      {
        "duration": 11,
        "start_time": "2021-09-30T20:56:11.299Z"
      },
      {
        "duration": 50,
        "start_time": "2021-09-30T20:56:11.350Z"
      },
      {
        "duration": 13,
        "start_time": "2021-09-30T20:56:11.402Z"
      },
      {
        "duration": 5,
        "start_time": "2021-09-30T20:56:11.417Z"
      },
      {
        "duration": 9,
        "start_time": "2021-09-30T20:56:11.449Z"
      },
      {
        "duration": 11,
        "start_time": "2021-09-30T20:56:11.460Z"
      },
      {
        "duration": 8,
        "start_time": "2021-09-30T20:56:11.473Z"
      },
      {
        "duration": 88,
        "start_time": "2021-09-30T20:56:11.483Z"
      },
      {
        "duration": 27,
        "start_time": "2021-09-30T20:56:11.573Z"
      },
      {
        "duration": 56,
        "start_time": "2021-09-30T20:56:11.602Z"
      },
      {
        "duration": 30,
        "start_time": "2021-09-30T20:56:11.660Z"
      },
      {
        "duration": 717,
        "start_time": "2021-09-30T20:56:11.692Z"
      },
      {
        "duration": 4,
        "start_time": "2021-09-30T20:56:12.412Z"
      },
      {
        "duration": 3465,
        "start_time": "2021-09-30T20:56:12.419Z"
      },
      {
        "duration": 10,
        "start_time": "2021-09-30T20:56:15.886Z"
      },
      {
        "duration": 5,
        "start_time": "2021-09-30T20:56:15.898Z"
      },
      {
        "duration": 37,
        "start_time": "2021-09-30T20:56:15.905Z"
      },
      {
        "duration": 15,
        "start_time": "2021-09-30T20:56:15.948Z"
      },
      {
        "duration": 46,
        "start_time": "2021-09-30T20:56:15.965Z"
      },
      {
        "duration": 8,
        "start_time": "2021-09-30T20:56:16.014Z"
      },
      {
        "duration": 15,
        "start_time": "2021-09-30T20:59:03.997Z"
      },
      {
        "duration": 60,
        "start_time": "2021-09-30T20:59:16.285Z"
      },
      {
        "duration": 14,
        "start_time": "2021-09-30T20:59:16.347Z"
      },
      {
        "duration": 9,
        "start_time": "2021-09-30T20:59:16.363Z"
      },
      {
        "duration": 11,
        "start_time": "2021-09-30T20:59:16.374Z"
      },
      {
        "duration": 4,
        "start_time": "2021-09-30T20:59:16.386Z"
      },
      {
        "duration": 12,
        "start_time": "2021-09-30T20:59:16.392Z"
      },
      {
        "duration": 4,
        "start_time": "2021-09-30T20:59:16.406Z"
      },
      {
        "duration": 19,
        "start_time": "2021-09-30T20:59:16.449Z"
      },
      {
        "duration": 5,
        "start_time": "2021-09-30T20:59:16.471Z"
      },
      {
        "duration": 11,
        "start_time": "2021-09-30T20:59:16.478Z"
      },
      {
        "duration": 69,
        "start_time": "2021-09-30T20:59:16.491Z"
      },
      {
        "duration": 11,
        "start_time": "2021-09-30T20:59:16.562Z"
      },
      {
        "duration": 5,
        "start_time": "2021-09-30T20:59:16.575Z"
      },
      {
        "duration": 9,
        "start_time": "2021-09-30T20:59:16.582Z"
      },
      {
        "duration": 10,
        "start_time": "2021-09-30T20:59:16.593Z"
      },
      {
        "duration": 45,
        "start_time": "2021-09-30T20:59:16.605Z"
      },
      {
        "duration": 51,
        "start_time": "2021-09-30T20:59:16.652Z"
      },
      {
        "duration": 44,
        "start_time": "2021-09-30T20:59:16.706Z"
      },
      {
        "duration": 40,
        "start_time": "2021-09-30T20:59:16.752Z"
      },
      {
        "duration": 31,
        "start_time": "2021-09-30T20:59:16.794Z"
      },
      {
        "duration": 736,
        "start_time": "2021-09-30T20:59:16.827Z"
      },
      {
        "duration": 4,
        "start_time": "2021-09-30T20:59:17.565Z"
      },
      {
        "duration": 3218,
        "start_time": "2021-09-30T20:59:17.573Z"
      },
      {
        "duration": 8,
        "start_time": "2021-09-30T20:59:20.793Z"
      },
      {
        "duration": 16,
        "start_time": "2021-09-30T20:59:20.803Z"
      },
      {
        "duration": 34,
        "start_time": "2021-09-30T20:59:20.820Z"
      },
      {
        "duration": 9,
        "start_time": "2021-09-30T20:59:20.856Z"
      },
      {
        "duration": 59,
        "start_time": "2021-09-30T20:59:20.867Z"
      },
      {
        "duration": 9,
        "start_time": "2021-09-30T20:59:20.928Z"
      },
      {
        "duration": 7,
        "start_time": "2021-09-30T21:07:34.254Z"
      },
      {
        "duration": 242,
        "start_time": "2021-09-30T21:08:08.254Z"
      },
      {
        "duration": 7,
        "start_time": "2021-09-30T21:08:14.426Z"
      },
      {
        "duration": 238,
        "start_time": "2021-09-30T21:10:17.153Z"
      },
      {
        "duration": 8,
        "start_time": "2021-09-30T21:13:15.949Z"
      },
      {
        "duration": 5,
        "start_time": "2021-09-30T21:24:49.361Z"
      },
      {
        "duration": 8,
        "start_time": "2021-09-30T21:24:59.627Z"
      },
      {
        "duration": 55,
        "start_time": "2021-09-30T21:26:41.808Z"
      },
      {
        "duration": 14,
        "start_time": "2021-09-30T21:26:41.865Z"
      },
      {
        "duration": 9,
        "start_time": "2021-09-30T21:26:41.881Z"
      },
      {
        "duration": 12,
        "start_time": "2021-09-30T21:26:41.892Z"
      },
      {
        "duration": 5,
        "start_time": "2021-09-30T21:26:41.906Z"
      },
      {
        "duration": 11,
        "start_time": "2021-09-30T21:26:41.950Z"
      },
      {
        "duration": 5,
        "start_time": "2021-09-30T21:26:41.963Z"
      },
      {
        "duration": 16,
        "start_time": "2021-09-30T21:26:41.971Z"
      },
      {
        "duration": 5,
        "start_time": "2021-09-30T21:26:41.989Z"
      },
      {
        "duration": 55,
        "start_time": "2021-09-30T21:26:41.995Z"
      },
      {
        "duration": 96,
        "start_time": "2021-09-30T21:26:42.053Z"
      },
      {
        "duration": 17,
        "start_time": "2021-09-30T21:26:42.152Z"
      },
      {
        "duration": 7,
        "start_time": "2021-09-30T21:26:42.171Z"
      },
      {
        "duration": 11,
        "start_time": "2021-09-30T21:26:42.181Z"
      },
      {
        "duration": 13,
        "start_time": "2021-09-30T21:26:42.194Z"
      },
      {
        "duration": 41,
        "start_time": "2021-09-30T21:26:42.210Z"
      },
      {
        "duration": 81,
        "start_time": "2021-09-30T21:26:42.253Z"
      },
      {
        "duration": 53,
        "start_time": "2021-09-30T21:26:42.336Z"
      },
      {
        "duration": 66,
        "start_time": "2021-09-30T21:26:42.391Z"
      },
      {
        "duration": 7,
        "start_time": "2021-09-30T21:26:42.459Z"
      },
      {
        "duration": 11,
        "start_time": "2021-09-30T21:26:42.468Z"
      },
      {
        "duration": 11,
        "start_time": "2021-09-30T21:26:42.482Z"
      },
      {
        "duration": 57,
        "start_time": "2021-09-30T21:26:42.497Z"
      },
      {
        "duration": 1015,
        "start_time": "2021-09-30T21:26:42.556Z"
      },
      {
        "duration": 4,
        "start_time": "2021-09-30T21:26:43.573Z"
      },
      {
        "duration": 3703,
        "start_time": "2021-09-30T21:26:43.579Z"
      },
      {
        "duration": 9,
        "start_time": "2021-09-30T21:26:47.284Z"
      },
      {
        "duration": 6,
        "start_time": "2021-09-30T21:26:47.295Z"
      },
      {
        "duration": 23,
        "start_time": "2021-09-30T21:26:47.303Z"
      },
      {
        "duration": 4,
        "start_time": "2021-09-30T21:26:47.350Z"
      },
      {
        "duration": 57,
        "start_time": "2021-09-30T21:26:47.356Z"
      },
      {
        "duration": 10,
        "start_time": "2021-09-30T21:26:47.416Z"
      },
      {
        "duration": 858,
        "start_time": "2021-10-01T11:20:13.772Z"
      },
      {
        "duration": 28,
        "start_time": "2021-10-01T11:20:14.632Z"
      },
      {
        "duration": 11,
        "start_time": "2021-10-01T11:20:14.663Z"
      },
      {
        "duration": 14,
        "start_time": "2021-10-01T11:20:14.676Z"
      },
      {
        "duration": 7,
        "start_time": "2021-10-01T11:20:14.692Z"
      },
      {
        "duration": 16,
        "start_time": "2021-10-01T11:20:14.701Z"
      },
      {
        "duration": 38,
        "start_time": "2021-10-01T11:20:14.719Z"
      },
      {
        "duration": 27,
        "start_time": "2021-10-01T11:20:14.761Z"
      },
      {
        "duration": 7,
        "start_time": "2021-10-01T11:20:14.792Z"
      },
      {
        "duration": 13,
        "start_time": "2021-10-01T11:20:14.802Z"
      },
      {
        "duration": 102,
        "start_time": "2021-10-01T11:20:14.817Z"
      },
      {
        "duration": 14,
        "start_time": "2021-10-01T11:20:14.921Z"
      },
      {
        "duration": 25,
        "start_time": "2021-10-01T11:20:14.937Z"
      },
      {
        "duration": 18,
        "start_time": "2021-10-01T11:20:14.964Z"
      },
      {
        "duration": 14,
        "start_time": "2021-10-01T11:20:14.984Z"
      },
      {
        "duration": 10,
        "start_time": "2021-10-01T11:20:15.001Z"
      },
      {
        "duration": 100,
        "start_time": "2021-10-01T11:20:15.013Z"
      },
      {
        "duration": 43,
        "start_time": "2021-10-01T11:20:15.116Z"
      },
      {
        "duration": 48,
        "start_time": "2021-10-01T11:20:15.161Z"
      },
      {
        "duration": 7,
        "start_time": "2021-10-01T11:20:15.211Z"
      },
      {
        "duration": 39,
        "start_time": "2021-10-01T11:20:15.220Z"
      },
      {
        "duration": 10,
        "start_time": "2021-10-01T11:20:15.261Z"
      },
      {
        "duration": 22,
        "start_time": "2021-10-01T11:20:15.276Z"
      },
      {
        "duration": 921,
        "start_time": "2021-10-01T11:20:15.301Z"
      },
      {
        "duration": 5,
        "start_time": "2021-10-01T11:20:16.225Z"
      },
      {
        "duration": 3498,
        "start_time": "2021-10-01T11:20:16.233Z"
      },
      {
        "duration": 28,
        "start_time": "2021-10-01T11:20:19.733Z"
      },
      {
        "duration": 4,
        "start_time": "2021-10-01T11:20:19.764Z"
      },
      {
        "duration": 44,
        "start_time": "2021-10-01T11:20:19.771Z"
      },
      {
        "duration": 20,
        "start_time": "2021-10-01T11:20:19.817Z"
      },
      {
        "duration": 52,
        "start_time": "2021-10-01T11:20:19.839Z"
      },
      {
        "duration": 10,
        "start_time": "2021-10-01T11:20:19.894Z"
      },
      {
        "duration": 65,
        "start_time": "2021-10-01T11:30:28.325Z"
      },
      {
        "duration": 20,
        "start_time": "2021-10-01T11:30:28.393Z"
      },
      {
        "duration": 10,
        "start_time": "2021-10-01T11:30:28.417Z"
      },
      {
        "duration": 19,
        "start_time": "2021-10-01T11:30:28.459Z"
      },
      {
        "duration": 7,
        "start_time": "2021-10-01T11:30:28.481Z"
      },
      {
        "duration": 67,
        "start_time": "2021-10-01T11:30:28.491Z"
      },
      {
        "duration": 6,
        "start_time": "2021-10-01T11:30:28.560Z"
      },
      {
        "duration": 28,
        "start_time": "2021-10-01T11:30:28.569Z"
      },
      {
        "duration": 7,
        "start_time": "2021-10-01T11:30:28.600Z"
      },
      {
        "duration": 12,
        "start_time": "2021-10-01T11:30:28.609Z"
      },
      {
        "duration": 61,
        "start_time": "2021-10-01T11:30:28.657Z"
      },
      {
        "duration": 13,
        "start_time": "2021-10-01T11:30:28.720Z"
      },
      {
        "duration": 27,
        "start_time": "2021-10-01T11:30:28.736Z"
      },
      {
        "duration": 10,
        "start_time": "2021-10-01T11:30:28.765Z"
      },
      {
        "duration": 11,
        "start_time": "2021-10-01T11:30:28.777Z"
      },
      {
        "duration": 10,
        "start_time": "2021-10-01T11:30:28.790Z"
      },
      {
        "duration": 111,
        "start_time": "2021-10-01T11:30:28.802Z"
      },
      {
        "duration": 44,
        "start_time": "2021-10-01T11:30:28.915Z"
      },
      {
        "duration": 45,
        "start_time": "2021-10-01T11:30:28.961Z"
      },
      {
        "duration": 7,
        "start_time": "2021-10-01T11:30:29.008Z"
      },
      {
        "duration": 11,
        "start_time": "2021-10-01T11:30:29.017Z"
      },
      {
        "duration": 35,
        "start_time": "2021-10-01T11:30:29.030Z"
      },
      {
        "duration": 27,
        "start_time": "2021-10-01T11:30:29.070Z"
      },
      {
        "duration": 954,
        "start_time": "2021-10-01T11:30:29.100Z"
      },
      {
        "duration": 5,
        "start_time": "2021-10-01T11:30:30.058Z"
      },
      {
        "duration": 3528,
        "start_time": "2021-10-01T11:30:30.066Z"
      },
      {
        "duration": 11,
        "start_time": "2021-10-01T11:30:33.597Z"
      },
      {
        "duration": 4,
        "start_time": "2021-10-01T11:30:33.611Z"
      },
      {
        "duration": 47,
        "start_time": "2021-10-01T11:30:33.618Z"
      },
      {
        "duration": 4,
        "start_time": "2021-10-01T11:30:33.668Z"
      },
      {
        "duration": 54,
        "start_time": "2021-10-01T11:30:33.674Z"
      },
      {
        "duration": 36,
        "start_time": "2021-10-01T11:30:33.730Z"
      },
      {
        "duration": 65,
        "start_time": "2021-10-01T11:32:03.576Z"
      },
      {
        "duration": 19,
        "start_time": "2021-10-01T11:32:03.644Z"
      },
      {
        "duration": 10,
        "start_time": "2021-10-01T11:32:03.665Z"
      },
      {
        "duration": 18,
        "start_time": "2021-10-01T11:32:03.678Z"
      },
      {
        "duration": 8,
        "start_time": "2021-10-01T11:32:03.698Z"
      },
      {
        "duration": 51,
        "start_time": "2021-10-01T11:32:03.708Z"
      },
      {
        "duration": 6,
        "start_time": "2021-10-01T11:32:03.762Z"
      },
      {
        "duration": 28,
        "start_time": "2021-10-01T11:32:03.772Z"
      },
      {
        "duration": 7,
        "start_time": "2021-10-01T11:32:03.803Z"
      },
      {
        "duration": 47,
        "start_time": "2021-10-01T11:32:03.812Z"
      },
      {
        "duration": 63,
        "start_time": "2021-10-01T11:32:03.862Z"
      },
      {
        "duration": 32,
        "start_time": "2021-10-01T11:32:03.927Z"
      },
      {
        "duration": 7,
        "start_time": "2021-10-01T11:32:03.961Z"
      },
      {
        "duration": 12,
        "start_time": "2021-10-01T11:32:03.971Z"
      },
      {
        "duration": 11,
        "start_time": "2021-10-01T11:32:03.986Z"
      },
      {
        "duration": 10,
        "start_time": "2021-10-01T11:32:03.999Z"
      },
      {
        "duration": 107,
        "start_time": "2021-10-01T11:32:04.012Z"
      },
      {
        "duration": 53,
        "start_time": "2021-10-01T11:32:04.122Z"
      },
      {
        "duration": 47,
        "start_time": "2021-10-01T11:32:04.177Z"
      },
      {
        "duration": 8,
        "start_time": "2021-10-01T11:32:04.226Z"
      },
      {
        "duration": 8,
        "start_time": "2021-10-01T11:32:04.258Z"
      },
      {
        "duration": 20,
        "start_time": "2021-10-01T11:32:04.269Z"
      },
      {
        "duration": 34,
        "start_time": "2021-10-01T11:32:04.293Z"
      },
      {
        "duration": 941,
        "start_time": "2021-10-01T11:32:04.330Z"
      },
      {
        "duration": 5,
        "start_time": "2021-10-01T11:32:05.273Z"
      },
      {
        "duration": 3497,
        "start_time": "2021-10-01T11:32:05.281Z"
      },
      {
        "duration": 11,
        "start_time": "2021-10-01T11:32:08.780Z"
      },
      {
        "duration": 5,
        "start_time": "2021-10-01T11:32:08.793Z"
      },
      {
        "duration": 24,
        "start_time": "2021-10-01T11:32:08.800Z"
      },
      {
        "duration": 4,
        "start_time": "2021-10-01T11:32:08.858Z"
      },
      {
        "duration": 53,
        "start_time": "2021-10-01T11:32:08.864Z"
      },
      {
        "duration": 11,
        "start_time": "2021-10-01T11:32:08.919Z"
      },
      {
        "duration": 823,
        "start_time": "2021-10-01T16:57:30.553Z"
      },
      {
        "duration": 28,
        "start_time": "2021-10-01T16:57:31.379Z"
      },
      {
        "duration": 10,
        "start_time": "2021-10-01T16:57:31.410Z"
      },
      {
        "duration": 15,
        "start_time": "2021-10-01T16:57:31.422Z"
      },
      {
        "duration": 5,
        "start_time": "2021-10-01T16:57:31.439Z"
      },
      {
        "duration": 47,
        "start_time": "2021-10-01T16:57:31.446Z"
      },
      {
        "duration": 5,
        "start_time": "2021-10-01T16:57:31.495Z"
      },
      {
        "duration": 25,
        "start_time": "2021-10-01T16:57:31.504Z"
      },
      {
        "duration": 6,
        "start_time": "2021-10-01T16:57:31.532Z"
      },
      {
        "duration": 41,
        "start_time": "2021-10-01T16:57:31.541Z"
      },
      {
        "duration": 59,
        "start_time": "2021-10-01T16:57:31.585Z"
      },
      {
        "duration": 41,
        "start_time": "2021-10-01T16:57:31.647Z"
      },
      {
        "duration": 8,
        "start_time": "2021-10-01T16:57:31.691Z"
      },
      {
        "duration": 13,
        "start_time": "2021-10-01T16:57:31.701Z"
      },
      {
        "duration": 11,
        "start_time": "2021-10-01T16:57:31.716Z"
      },
      {
        "duration": 9,
        "start_time": "2021-10-01T16:57:31.730Z"
      },
      {
        "duration": 100,
        "start_time": "2021-10-01T16:57:31.741Z"
      },
      {
        "duration": 49,
        "start_time": "2021-10-01T16:57:31.843Z"
      },
      {
        "duration": 43,
        "start_time": "2021-10-01T16:57:31.894Z"
      },
      {
        "duration": 7,
        "start_time": "2021-10-01T16:57:31.940Z"
      },
      {
        "duration": 34,
        "start_time": "2021-10-01T16:57:31.949Z"
      },
      {
        "duration": 10,
        "start_time": "2021-10-01T16:57:31.986Z"
      },
      {
        "duration": 14,
        "start_time": "2021-10-01T16:57:32.001Z"
      },
      {
        "duration": 912,
        "start_time": "2021-10-01T16:57:32.018Z"
      },
      {
        "duration": 5,
        "start_time": "2021-10-01T16:57:32.933Z"
      },
      {
        "duration": 3469,
        "start_time": "2021-10-01T16:57:32.940Z"
      },
      {
        "duration": 12,
        "start_time": "2021-10-01T16:57:36.412Z"
      },
      {
        "duration": 6,
        "start_time": "2021-10-01T16:57:36.426Z"
      },
      {
        "duration": 6659,
        "start_time": "2021-10-01T16:57:36.434Z"
      },
      {
        "duration": 1126,
        "start_time": "2021-10-01T16:57:41.970Z"
      },
      {
        "duration": 1121,
        "start_time": "2021-10-01T16:57:41.976Z"
      },
      {
        "duration": 1118,
        "start_time": "2021-10-01T16:57:41.981Z"
      },
      {
        "duration": 61,
        "start_time": "2021-10-01T16:59:00.878Z"
      },
      {
        "duration": 19,
        "start_time": "2021-10-01T16:59:00.942Z"
      },
      {
        "duration": 12,
        "start_time": "2021-10-01T16:59:00.984Z"
      },
      {
        "duration": 20,
        "start_time": "2021-10-01T16:59:00.999Z"
      },
      {
        "duration": 7,
        "start_time": "2021-10-01T16:59:01.022Z"
      },
      {
        "duration": 55,
        "start_time": "2021-10-01T16:59:01.031Z"
      },
      {
        "duration": 6,
        "start_time": "2021-10-01T16:59:01.089Z"
      },
      {
        "duration": 34,
        "start_time": "2021-10-01T16:59:01.099Z"
      },
      {
        "duration": 7,
        "start_time": "2021-10-01T16:59:01.136Z"
      },
      {
        "duration": 43,
        "start_time": "2021-10-01T16:59:01.145Z"
      },
      {
        "duration": 67,
        "start_time": "2021-10-01T16:59:01.190Z"
      },
      {
        "duration": 34,
        "start_time": "2021-10-01T16:59:01.260Z"
      },
      {
        "duration": 6,
        "start_time": "2021-10-01T16:59:01.297Z"
      },
      {
        "duration": 13,
        "start_time": "2021-10-01T16:59:01.305Z"
      },
      {
        "duration": 15,
        "start_time": "2021-10-01T16:59:01.320Z"
      },
      {
        "duration": 50,
        "start_time": "2021-10-01T16:59:01.338Z"
      },
      {
        "duration": 91,
        "start_time": "2021-10-01T16:59:01.391Z"
      },
      {
        "duration": 34,
        "start_time": "2021-10-01T16:59:01.485Z"
      },
      {
        "duration": 71,
        "start_time": "2021-10-01T16:59:01.522Z"
      },
      {
        "duration": 8,
        "start_time": "2021-10-01T16:59:01.595Z"
      },
      {
        "duration": 12,
        "start_time": "2021-10-01T16:59:01.606Z"
      },
      {
        "duration": 12,
        "start_time": "2021-10-01T16:59:01.621Z"
      },
      {
        "duration": 68,
        "start_time": "2021-10-01T16:59:01.638Z"
      },
      {
        "duration": 1344,
        "start_time": "2021-10-01T16:59:01.708Z"
      },
      {
        "duration": 5,
        "start_time": "2021-10-01T16:59:03.054Z"
      },
      {
        "duration": 3941,
        "start_time": "2021-10-01T16:59:03.062Z"
      },
      {
        "duration": 12,
        "start_time": "2021-10-01T16:59:07.005Z"
      },
      {
        "duration": 5,
        "start_time": "2021-10-01T16:59:07.019Z"
      },
      {
        "duration": 59,
        "start_time": "2021-10-01T16:59:07.026Z"
      },
      {
        "duration": 4,
        "start_time": "2021-10-01T16:59:07.088Z"
      },
      {
        "duration": 55,
        "start_time": "2021-10-01T16:59:07.094Z"
      },
      {
        "duration": 36,
        "start_time": "2021-10-01T16:59:07.152Z"
      },
      {
        "duration": 16,
        "start_time": "2021-10-01T17:04:25.534Z"
      },
      {
        "duration": 9,
        "start_time": "2021-10-01T17:14:18.460Z"
      },
      {
        "duration": 261,
        "start_time": "2021-10-01T17:14:49.508Z"
      },
      {
        "duration": 13,
        "start_time": "2021-10-01T17:14:55.480Z"
      },
      {
        "duration": 6,
        "start_time": "2021-10-01T17:15:36.318Z"
      },
      {
        "duration": 15,
        "start_time": "2021-10-01T17:15:52.217Z"
      },
      {
        "duration": 14,
        "start_time": "2021-10-01T17:16:00.629Z"
      },
      {
        "duration": 7,
        "start_time": "2021-10-01T17:17:51.572Z"
      },
      {
        "duration": 33,
        "start_time": "2021-10-01T17:28:19.623Z"
      },
      {
        "duration": 26,
        "start_time": "2021-10-01T17:28:41.318Z"
      },
      {
        "duration": 33,
        "start_time": "2021-10-01T17:31:15.065Z"
      },
      {
        "duration": 38,
        "start_time": "2021-10-01T17:33:10.397Z"
      },
      {
        "duration": 38,
        "start_time": "2021-10-01T17:33:19.313Z"
      },
      {
        "duration": 37,
        "start_time": "2021-10-01T17:33:39.578Z"
      },
      {
        "duration": 283,
        "start_time": "2021-10-01T17:48:45.679Z"
      },
      {
        "duration": 35,
        "start_time": "2021-10-01T17:49:13.176Z"
      },
      {
        "duration": 688,
        "start_time": "2021-10-01T17:49:24.600Z"
      },
      {
        "duration": 30,
        "start_time": "2021-10-01T18:02:04.242Z"
      },
      {
        "duration": 53,
        "start_time": "2021-10-01T18:02:33.456Z"
      },
      {
        "duration": 30,
        "start_time": "2021-10-01T18:06:59.938Z"
      },
      {
        "duration": 32,
        "start_time": "2021-10-01T18:11:46.621Z"
      },
      {
        "duration": 32,
        "start_time": "2021-10-01T18:18:35.411Z"
      },
      {
        "duration": 36,
        "start_time": "2021-10-01T18:27:57.983Z"
      },
      {
        "duration": 236,
        "start_time": "2021-10-01T18:35:54.838Z"
      },
      {
        "duration": 7,
        "start_time": "2021-10-01T18:39:35.047Z"
      },
      {
        "duration": 35,
        "start_time": "2021-10-01T18:40:02.928Z"
      },
      {
        "duration": 33,
        "start_time": "2021-10-01T18:45:33.164Z"
      },
      {
        "duration": 63,
        "start_time": "2021-10-01T19:17:56.519Z"
      },
      {
        "duration": 19,
        "start_time": "2021-10-01T19:17:56.585Z"
      },
      {
        "duration": 7,
        "start_time": "2021-10-01T19:17:56.608Z"
      },
      {
        "duration": 17,
        "start_time": "2021-10-01T19:17:56.618Z"
      },
      {
        "duration": 50,
        "start_time": "2021-10-01T19:17:56.638Z"
      },
      {
        "duration": 17,
        "start_time": "2021-10-01T19:17:56.691Z"
      },
      {
        "duration": 5,
        "start_time": "2021-10-01T19:17:56.711Z"
      },
      {
        "duration": 64,
        "start_time": "2021-10-01T19:17:56.719Z"
      },
      {
        "duration": 7,
        "start_time": "2021-10-01T19:17:56.787Z"
      },
      {
        "duration": 12,
        "start_time": "2021-10-01T19:17:56.797Z"
      },
      {
        "duration": 108,
        "start_time": "2021-10-01T19:17:56.812Z"
      },
      {
        "duration": 13,
        "start_time": "2021-10-01T19:17:56.923Z"
      },
      {
        "duration": 6,
        "start_time": "2021-10-01T19:17:56.938Z"
      },
      {
        "duration": 37,
        "start_time": "2021-10-01T19:17:56.947Z"
      },
      {
        "duration": 15,
        "start_time": "2021-10-01T19:17:56.987Z"
      },
      {
        "duration": 9,
        "start_time": "2021-10-01T19:17:57.004Z"
      },
      {
        "duration": 91,
        "start_time": "2021-10-01T19:17:57.015Z"
      },
      {
        "duration": 34,
        "start_time": "2021-10-01T19:17:57.108Z"
      },
      {
        "duration": 65,
        "start_time": "2021-10-01T19:17:57.145Z"
      },
      {
        "duration": 7,
        "start_time": "2021-10-01T19:17:57.212Z"
      },
      {
        "duration": 10,
        "start_time": "2021-10-01T19:17:57.221Z"
      },
      {
        "duration": 10,
        "start_time": "2021-10-01T19:17:57.233Z"
      },
      {
        "duration": 36,
        "start_time": "2021-10-01T19:17:57.248Z"
      },
      {
        "duration": 891,
        "start_time": "2021-10-01T19:17:57.287Z"
      },
      {
        "duration": 5,
        "start_time": "2021-10-01T19:17:58.183Z"
      },
      {
        "duration": 3539,
        "start_time": "2021-10-01T19:17:58.190Z"
      },
      {
        "duration": 11,
        "start_time": "2021-10-01T19:18:01.731Z"
      },
      {
        "duration": 10,
        "start_time": "2021-10-01T19:18:01.744Z"
      },
      {
        "duration": 38,
        "start_time": "2021-10-01T19:18:01.756Z"
      },
      {
        "duration": 3,
        "start_time": "2021-10-01T19:18:01.797Z"
      },
      {
        "duration": 20,
        "start_time": "2021-10-01T19:18:01.802Z"
      },
      {
        "duration": 18,
        "start_time": "2021-10-01T19:18:01.824Z"
      },
      {
        "duration": 6,
        "start_time": "2021-10-01T19:18:01.844Z"
      },
      {
        "duration": 45,
        "start_time": "2021-10-01T19:18:01.882Z"
      },
      {
        "duration": 55,
        "start_time": "2021-10-01T19:18:01.930Z"
      },
      {
        "duration": 30,
        "start_time": "2021-10-01T19:18:01.987Z"
      },
      {
        "duration": 29,
        "start_time": "2021-10-01T19:18:02.019Z"
      },
      {
        "duration": 655,
        "start_time": "2021-10-02T16:42:25.718Z"
      },
      {
        "duration": 20,
        "start_time": "2021-10-02T16:42:26.375Z"
      },
      {
        "duration": 10,
        "start_time": "2021-10-02T16:42:26.397Z"
      },
      {
        "duration": 11,
        "start_time": "2021-10-02T16:42:26.409Z"
      },
      {
        "duration": 4,
        "start_time": "2021-10-02T16:42:26.422Z"
      },
      {
        "duration": 26,
        "start_time": "2021-10-02T16:42:26.427Z"
      },
      {
        "duration": 4,
        "start_time": "2021-10-02T16:42:26.454Z"
      },
      {
        "duration": 18,
        "start_time": "2021-10-02T16:42:26.460Z"
      },
      {
        "duration": 4,
        "start_time": "2021-10-02T16:42:26.480Z"
      },
      {
        "duration": 8,
        "start_time": "2021-10-02T16:42:26.486Z"
      },
      {
        "duration": 75,
        "start_time": "2021-10-02T16:42:26.496Z"
      },
      {
        "duration": 9,
        "start_time": "2021-10-02T16:42:26.573Z"
      },
      {
        "duration": 5,
        "start_time": "2021-10-02T16:42:26.583Z"
      },
      {
        "duration": 7,
        "start_time": "2021-10-02T16:42:26.589Z"
      },
      {
        "duration": 10,
        "start_time": "2021-10-02T16:42:26.598Z"
      },
      {
        "duration": 36,
        "start_time": "2021-10-02T16:42:26.609Z"
      },
      {
        "duration": 44,
        "start_time": "2021-10-02T16:42:26.647Z"
      },
      {
        "duration": 24,
        "start_time": "2021-10-02T16:42:26.693Z"
      },
      {
        "duration": 53,
        "start_time": "2021-10-02T16:42:26.719Z"
      },
      {
        "duration": 5,
        "start_time": "2021-10-02T16:42:26.774Z"
      },
      {
        "duration": 7,
        "start_time": "2021-10-02T16:42:26.781Z"
      },
      {
        "duration": 7,
        "start_time": "2021-10-02T16:42:26.790Z"
      },
      {
        "duration": 4,
        "start_time": "2021-10-02T16:42:26.800Z"
      },
      {
        "duration": 692,
        "start_time": "2021-10-02T16:42:26.806Z"
      },
      {
        "duration": 3,
        "start_time": "2021-10-02T16:42:27.500Z"
      },
      {
        "duration": 2829,
        "start_time": "2021-10-02T16:42:27.504Z"
      },
      {
        "duration": 16,
        "start_time": "2021-10-02T16:42:30.335Z"
      },
      {
        "duration": 22,
        "start_time": "2021-10-02T16:42:30.353Z"
      },
      {
        "duration": 25,
        "start_time": "2021-10-02T16:42:30.377Z"
      },
      {
        "duration": 12,
        "start_time": "2021-10-02T16:42:30.404Z"
      },
      {
        "duration": 22,
        "start_time": "2021-10-02T16:42:30.417Z"
      },
      {
        "duration": 25,
        "start_time": "2021-10-02T16:42:30.440Z"
      },
      {
        "duration": 5,
        "start_time": "2021-10-02T16:42:30.467Z"
      },
      {
        "duration": 42,
        "start_time": "2021-10-02T16:42:30.473Z"
      },
      {
        "duration": 19,
        "start_time": "2021-10-02T16:42:30.517Z"
      },
      {
        "duration": 19,
        "start_time": "2021-10-02T16:42:30.538Z"
      },
      {
        "duration": 19,
        "start_time": "2021-10-02T16:42:30.558Z"
      },
      {
        "duration": 55,
        "start_time": "2021-10-02T16:49:11.770Z"
      },
      {
        "duration": 1051,
        "start_time": "2021-10-02T16:50:39.985Z"
      },
      {
        "duration": 38,
        "start_time": "2021-10-02T16:50:50.080Z"
      },
      {
        "duration": 347,
        "start_time": "2021-10-02T17:17:18.897Z"
      },
      {
        "duration": 2149,
        "start_time": "2021-10-02T17:17:33.608Z"
      },
      {
        "duration": 29,
        "start_time": "2021-10-02T17:17:35.760Z"
      },
      {
        "duration": 10,
        "start_time": "2021-10-02T17:17:35.792Z"
      },
      {
        "duration": 20,
        "start_time": "2021-10-02T17:17:35.804Z"
      },
      {
        "duration": 6,
        "start_time": "2021-10-02T17:17:35.827Z"
      },
      {
        "duration": 66,
        "start_time": "2021-10-02T17:17:35.836Z"
      },
      {
        "duration": 7,
        "start_time": "2021-10-02T17:17:35.905Z"
      },
      {
        "duration": 26,
        "start_time": "2021-10-02T17:17:35.916Z"
      },
      {
        "duration": 7,
        "start_time": "2021-10-02T17:17:35.944Z"
      },
      {
        "duration": 43,
        "start_time": "2021-10-02T17:17:35.953Z"
      },
      {
        "duration": 96,
        "start_time": "2021-10-02T17:17:35.999Z"
      },
      {
        "duration": 17,
        "start_time": "2021-10-02T17:17:36.098Z"
      },
      {
        "duration": 9,
        "start_time": "2021-10-02T17:17:36.118Z"
      },
      {
        "duration": 11,
        "start_time": "2021-10-02T17:17:36.130Z"
      },
      {
        "duration": 49,
        "start_time": "2021-10-02T17:17:36.144Z"
      },
      {
        "duration": 17,
        "start_time": "2021-10-02T17:17:36.196Z"
      },
      {
        "duration": 133,
        "start_time": "2021-10-02T17:17:36.217Z"
      },
      {
        "duration": 51,
        "start_time": "2021-10-02T17:17:36.353Z"
      },
      {
        "duration": 48,
        "start_time": "2021-10-02T17:17:36.407Z"
      },
      {
        "duration": 29,
        "start_time": "2021-10-02T17:17:36.458Z"
      },
      {
        "duration": 8,
        "start_time": "2021-10-02T17:17:36.490Z"
      },
      {
        "duration": 12,
        "start_time": "2021-10-02T17:17:36.501Z"
      },
      {
        "duration": 6,
        "start_time": "2021-10-02T17:17:36.518Z"
      },
      {
        "duration": 988,
        "start_time": "2021-10-02T17:17:36.527Z"
      },
      {
        "duration": 4,
        "start_time": "2021-10-02T17:17:37.518Z"
      },
      {
        "duration": 86,
        "start_time": "2021-10-02T17:17:37.525Z"
      },
      {
        "duration": 3961,
        "start_time": "2021-10-02T17:17:37.613Z"
      },
      {
        "duration": 20,
        "start_time": "2021-10-02T17:17:41.577Z"
      },
      {
        "duration": 6,
        "start_time": "2021-10-02T17:17:41.599Z"
      },
      {
        "duration": 28,
        "start_time": "2021-10-02T17:17:41.607Z"
      },
      {
        "duration": 4,
        "start_time": "2021-10-02T17:17:41.638Z"
      },
      {
        "duration": 52,
        "start_time": "2021-10-02T17:17:41.645Z"
      },
      {
        "duration": 20,
        "start_time": "2021-10-02T17:17:41.702Z"
      },
      {
        "duration": 6,
        "start_time": "2021-10-02T17:17:41.725Z"
      },
      {
        "duration": 91,
        "start_time": "2021-10-02T17:17:41.734Z"
      },
      {
        "duration": 865,
        "start_time": "2021-10-02T17:17:41.827Z"
      },
      {
        "duration": 55,
        "start_time": "2021-10-02T17:17:42.696Z"
      },
      {
        "duration": 73,
        "start_time": "2021-10-02T17:17:42.754Z"
      },
      {
        "duration": 41,
        "start_time": "2021-10-02T17:17:42.830Z"
      },
      {
        "duration": 75,
        "start_time": "2021-10-02T18:01:27.928Z"
      },
      {
        "duration": 21,
        "start_time": "2021-10-02T18:01:28.007Z"
      },
      {
        "duration": 8,
        "start_time": "2021-10-02T18:01:28.031Z"
      },
      {
        "duration": 56,
        "start_time": "2021-10-02T18:01:28.042Z"
      },
      {
        "duration": 5,
        "start_time": "2021-10-02T18:01:28.102Z"
      },
      {
        "duration": 15,
        "start_time": "2021-10-02T18:01:28.109Z"
      },
      {
        "duration": 5,
        "start_time": "2021-10-02T18:01:28.127Z"
      },
      {
        "duration": 118,
        "start_time": "2021-10-02T18:01:28.136Z"
      },
      {
        "duration": 28,
        "start_time": "2021-10-02T18:01:28.258Z"
      },
      {
        "duration": 33,
        "start_time": "2021-10-02T18:01:28.289Z"
      },
      {
        "duration": 3,
        "start_time": "2021-10-02T18:01:28.325Z"
      },
      {
        "duration": 16,
        "start_time": "2021-10-02T18:01:28.330Z"
      },
      {
        "duration": 43,
        "start_time": "2021-10-02T18:01:28.349Z"
      },
      {
        "duration": 13,
        "start_time": "2021-10-02T18:01:28.395Z"
      },
      {
        "duration": 11,
        "start_time": "2021-10-02T18:01:28.410Z"
      },
      {
        "duration": 9,
        "start_time": "2021-10-02T18:01:28.423Z"
      },
      {
        "duration": 111,
        "start_time": "2021-10-02T18:01:28.434Z"
      },
      {
        "duration": 51,
        "start_time": "2021-10-02T18:01:28.547Z"
      },
      {
        "duration": 43,
        "start_time": "2021-10-02T18:01:28.600Z"
      },
      {
        "duration": 8,
        "start_time": "2021-10-02T18:01:28.645Z"
      },
      {
        "duration": 32,
        "start_time": "2021-10-02T18:01:28.655Z"
      },
      {
        "duration": 12,
        "start_time": "2021-10-02T18:01:28.690Z"
      },
      {
        "duration": 24,
        "start_time": "2021-10-02T18:01:28.707Z"
      },
      {
        "duration": 977,
        "start_time": "2021-10-02T18:01:28.734Z"
      },
      {
        "duration": 5,
        "start_time": "2021-10-02T18:01:29.714Z"
      },
      {
        "duration": 84,
        "start_time": "2021-10-02T18:01:29.722Z"
      },
      {
        "duration": 3639,
        "start_time": "2021-10-02T18:01:29.809Z"
      },
      {
        "duration": 12,
        "start_time": "2021-10-02T18:01:33.452Z"
      },
      {
        "duration": 8,
        "start_time": "2021-10-02T18:01:33.486Z"
      },
      {
        "duration": 23,
        "start_time": "2021-10-02T18:01:33.497Z"
      },
      {
        "duration": 3,
        "start_time": "2021-10-02T18:01:33.523Z"
      },
      {
        "duration": 19,
        "start_time": "2021-10-02T18:01:33.529Z"
      },
      {
        "duration": 57,
        "start_time": "2021-10-02T18:01:33.551Z"
      },
      {
        "duration": 5,
        "start_time": "2021-10-02T18:01:33.610Z"
      },
      {
        "duration": 43,
        "start_time": "2021-10-02T18:01:33.618Z"
      },
      {
        "duration": 84,
        "start_time": "2021-10-02T18:01:33.663Z"
      },
      {
        "duration": 55,
        "start_time": "2021-10-02T18:01:33.750Z"
      },
      {
        "duration": 33,
        "start_time": "2021-10-02T18:01:33.807Z"
      },
      {
        "duration": 58,
        "start_time": "2021-10-02T18:01:33.843Z"
      },
      {
        "duration": 312,
        "start_time": "2021-10-02T18:23:14.330Z"
      },
      {
        "duration": 272,
        "start_time": "2021-10-02T18:23:35.688Z"
      },
      {
        "duration": 346,
        "start_time": "2021-10-03T07:41:58.031Z"
      },
      {
        "duration": 808,
        "start_time": "2021-10-03T07:42:08.435Z"
      },
      {
        "duration": 30,
        "start_time": "2021-10-03T07:42:09.245Z"
      },
      {
        "duration": 15,
        "start_time": "2021-10-03T07:42:09.278Z"
      },
      {
        "duration": 32,
        "start_time": "2021-10-03T07:42:09.296Z"
      },
      {
        "duration": 5,
        "start_time": "2021-10-03T07:42:09.330Z"
      },
      {
        "duration": 22,
        "start_time": "2021-10-03T07:42:09.337Z"
      },
      {
        "duration": 13,
        "start_time": "2021-10-03T07:42:09.362Z"
      },
      {
        "duration": 48,
        "start_time": "2021-10-03T07:42:09.379Z"
      },
      {
        "duration": 6,
        "start_time": "2021-10-03T07:42:09.430Z"
      },
      {
        "duration": 36,
        "start_time": "2021-10-03T07:42:09.439Z"
      },
      {
        "duration": 15,
        "start_time": "2021-10-03T07:42:09.477Z"
      },
      {
        "duration": 29,
        "start_time": "2021-10-03T07:42:09.495Z"
      },
      {
        "duration": 15,
        "start_time": "2021-10-03T07:42:09.527Z"
      },
      {
        "duration": 32,
        "start_time": "2021-10-03T07:42:09.544Z"
      },
      {
        "duration": 9,
        "start_time": "2021-10-03T07:42:09.579Z"
      },
      {
        "duration": 331,
        "start_time": "2021-10-03T07:42:09.590Z"
      },
      {
        "duration": 404,
        "start_time": "2021-10-03T07:42:09.520Z"
      },
      {
        "duration": 398,
        "start_time": "2021-10-03T07:42:09.527Z"
      },
      {
        "duration": 392,
        "start_time": "2021-10-03T07:42:09.535Z"
      },
      {
        "duration": 383,
        "start_time": "2021-10-03T07:42:09.545Z"
      },
      {
        "duration": 376,
        "start_time": "2021-10-03T07:42:09.554Z"
      },
      {
        "duration": 369,
        "start_time": "2021-10-03T07:42:09.562Z"
      },
      {
        "duration": 361,
        "start_time": "2021-10-03T07:42:09.571Z"
      },
      {
        "duration": 356,
        "start_time": "2021-10-03T07:42:09.578Z"
      },
      {
        "duration": 351,
        "start_time": "2021-10-03T07:42:09.585Z"
      },
      {
        "duration": 205,
        "start_time": "2021-10-03T07:42:09.732Z"
      },
      {
        "duration": 191,
        "start_time": "2021-10-03T07:42:09.747Z"
      },
      {
        "duration": 184,
        "start_time": "2021-10-03T07:42:09.755Z"
      },
      {
        "duration": 176,
        "start_time": "2021-10-03T07:42:09.764Z"
      },
      {
        "duration": 170,
        "start_time": "2021-10-03T07:42:09.772Z"
      },
      {
        "duration": 162,
        "start_time": "2021-10-03T07:42:09.781Z"
      },
      {
        "duration": 155,
        "start_time": "2021-10-03T07:42:09.789Z"
      },
      {
        "duration": 147,
        "start_time": "2021-10-03T07:42:09.798Z"
      },
      {
        "duration": 140,
        "start_time": "2021-10-03T07:42:09.806Z"
      },
      {
        "duration": 131,
        "start_time": "2021-10-03T07:42:09.816Z"
      },
      {
        "duration": 124,
        "start_time": "2021-10-03T07:42:09.824Z"
      },
      {
        "duration": 116,
        "start_time": "2021-10-03T07:42:09.834Z"
      },
      {
        "duration": 109,
        "start_time": "2021-10-03T07:42:09.842Z"
      },
      {
        "duration": 91,
        "start_time": "2021-10-03T07:42:09.861Z"
      },
      {
        "duration": 334,
        "start_time": "2021-10-03T07:49:22.337Z"
      },
      {
        "duration": 85,
        "start_time": "2021-10-03T08:03:16.355Z"
      },
      {
        "duration": 155,
        "start_time": "2021-10-03T08:03:54.931Z"
      },
      {
        "duration": 16,
        "start_time": "2021-10-03T08:04:13.687Z"
      },
      {
        "duration": 16,
        "start_time": "2021-10-03T08:04:19.015Z"
      },
      {
        "duration": 17,
        "start_time": "2021-10-03T08:04:25.507Z"
      },
      {
        "duration": 160,
        "start_time": "2021-10-03T08:05:52.873Z"
      },
      {
        "duration": 61,
        "start_time": "2021-10-03T08:10:57.217Z"
      },
      {
        "duration": 19,
        "start_time": "2021-10-03T08:10:57.281Z"
      },
      {
        "duration": 8,
        "start_time": "2021-10-03T08:10:57.321Z"
      },
      {
        "duration": 24,
        "start_time": "2021-10-03T08:10:57.331Z"
      },
      {
        "duration": 12,
        "start_time": "2021-10-03T08:10:57.358Z"
      },
      {
        "duration": 22,
        "start_time": "2021-10-03T08:10:57.372Z"
      },
      {
        "duration": 29,
        "start_time": "2021-10-03T08:10:57.397Z"
      },
      {
        "duration": 33,
        "start_time": "2021-10-03T08:10:57.430Z"
      },
      {
        "duration": 7,
        "start_time": "2021-10-03T08:10:57.466Z"
      },
      {
        "duration": 61,
        "start_time": "2021-10-03T08:10:57.475Z"
      },
      {
        "duration": 14,
        "start_time": "2021-10-03T08:10:57.539Z"
      },
      {
        "duration": 9,
        "start_time": "2021-10-03T08:10:57.556Z"
      },
      {
        "duration": 23,
        "start_time": "2021-10-03T08:10:57.567Z"
      },
      {
        "duration": 38,
        "start_time": "2021-10-03T08:10:57.593Z"
      },
      {
        "duration": 10,
        "start_time": "2021-10-03T08:10:57.633Z"
      },
      {
        "duration": 133,
        "start_time": "2021-10-03T08:10:57.645Z"
      },
      {
        "duration": 51,
        "start_time": "2021-10-03T08:10:57.780Z"
      },
      {
        "duration": 50,
        "start_time": "2021-10-03T08:10:57.833Z"
      },
      {
        "duration": 7,
        "start_time": "2021-10-03T08:10:57.886Z"
      },
      {
        "duration": 33,
        "start_time": "2021-10-03T08:10:57.895Z"
      },
      {
        "duration": 24,
        "start_time": "2021-10-03T08:10:57.930Z"
      },
      {
        "duration": 21,
        "start_time": "2021-10-03T08:10:57.959Z"
      },
      {
        "duration": 1058,
        "start_time": "2021-10-03T08:10:57.982Z"
      },
      {
        "duration": 5,
        "start_time": "2021-10-03T08:10:59.042Z"
      },
      {
        "duration": 86,
        "start_time": "2021-10-03T08:10:59.049Z"
      },
      {
        "duration": 3830,
        "start_time": "2021-10-03T08:10:59.137Z"
      },
      {
        "duration": 12,
        "start_time": "2021-10-03T08:11:02.969Z"
      },
      {
        "duration": 10,
        "start_time": "2021-10-03T08:11:02.983Z"
      },
      {
        "duration": 45,
        "start_time": "2021-10-03T08:11:02.996Z"
      },
      {
        "duration": 6,
        "start_time": "2021-10-03T08:11:03.044Z"
      },
      {
        "duration": 25,
        "start_time": "2021-10-03T08:11:03.053Z"
      },
      {
        "duration": 42,
        "start_time": "2021-10-03T08:11:03.080Z"
      },
      {
        "duration": 6,
        "start_time": "2021-10-03T08:11:03.125Z"
      },
      {
        "duration": 61,
        "start_time": "2021-10-03T08:11:03.134Z"
      },
      {
        "duration": 834,
        "start_time": "2021-10-03T08:11:03.197Z"
      },
      {
        "duration": 38,
        "start_time": "2021-10-03T08:11:04.034Z"
      },
      {
        "duration": 56,
        "start_time": "2021-10-03T08:11:04.074Z"
      },
      {
        "duration": 33,
        "start_time": "2021-10-03T08:11:04.132Z"
      },
      {
        "duration": 20,
        "start_time": "2021-10-03T08:14:27.746Z"
      },
      {
        "duration": 5,
        "start_time": "2021-10-03T08:14:50.982Z"
      },
      {
        "duration": 3,
        "start_time": "2021-10-03T08:16:13.291Z"
      },
      {
        "duration": 5,
        "start_time": "2021-10-03T08:16:18.387Z"
      },
      {
        "duration": 64,
        "start_time": "2021-10-03T08:28:40.709Z"
      },
      {
        "duration": 19,
        "start_time": "2021-10-03T08:28:40.775Z"
      },
      {
        "duration": 28,
        "start_time": "2021-10-03T08:28:40.797Z"
      },
      {
        "duration": 22,
        "start_time": "2021-10-03T08:28:40.827Z"
      },
      {
        "duration": 11,
        "start_time": "2021-10-03T08:28:40.851Z"
      },
      {
        "duration": 17,
        "start_time": "2021-10-03T08:28:40.864Z"
      },
      {
        "duration": 39,
        "start_time": "2021-10-03T08:28:40.883Z"
      },
      {
        "duration": 33,
        "start_time": "2021-10-03T08:28:40.928Z"
      },
      {
        "duration": 9,
        "start_time": "2021-10-03T08:28:40.967Z"
      },
      {
        "duration": 27,
        "start_time": "2021-10-03T08:28:41.023Z"
      },
      {
        "duration": 13,
        "start_time": "2021-10-03T08:28:41.053Z"
      },
      {
        "duration": 7,
        "start_time": "2021-10-03T08:28:41.069Z"
      },
      {
        "duration": 51,
        "start_time": "2021-10-03T08:28:41.079Z"
      },
      {
        "duration": 11,
        "start_time": "2021-10-03T08:28:41.132Z"
      },
      {
        "duration": 9,
        "start_time": "2021-10-03T08:28:41.145Z"
      },
      {
        "duration": 125,
        "start_time": "2021-10-03T08:28:41.157Z"
      },
      {
        "duration": 95,
        "start_time": "2021-10-03T08:28:41.284Z"
      },
      {
        "duration": 57,
        "start_time": "2021-10-03T08:28:41.381Z"
      },
      {
        "duration": 7,
        "start_time": "2021-10-03T08:28:41.440Z"
      },
      {
        "duration": 15,
        "start_time": "2021-10-03T08:28:41.450Z"
      },
      {
        "duration": 11,
        "start_time": "2021-10-03T08:28:41.467Z"
      },
      {
        "duration": 60,
        "start_time": "2021-10-03T08:28:41.481Z"
      },
      {
        "duration": 897,
        "start_time": "2021-10-03T08:28:41.546Z"
      },
      {
        "duration": 5,
        "start_time": "2021-10-03T08:28:42.446Z"
      },
      {
        "duration": 6,
        "start_time": "2021-10-03T08:28:42.454Z"
      },
      {
        "duration": 85,
        "start_time": "2021-10-03T08:28:42.462Z"
      },
      {
        "duration": 3485,
        "start_time": "2021-10-03T08:28:42.549Z"
      },
      {
        "duration": 11,
        "start_time": "2021-10-03T08:28:46.037Z"
      },
      {
        "duration": 10,
        "start_time": "2021-10-03T08:28:46.051Z"
      },
      {
        "duration": 28,
        "start_time": "2021-10-03T08:28:46.064Z"
      },
      {
        "duration": 4,
        "start_time": "2021-10-03T08:28:46.095Z"
      },
      {
        "duration": 18,
        "start_time": "2021-10-03T08:28:46.121Z"
      },
      {
        "duration": 35,
        "start_time": "2021-10-03T08:28:46.141Z"
      },
      {
        "duration": 9,
        "start_time": "2021-10-03T08:28:46.179Z"
      },
      {
        "duration": 51,
        "start_time": "2021-10-03T08:28:46.190Z"
      },
      {
        "duration": 55,
        "start_time": "2021-10-03T08:28:46.243Z"
      },
      {
        "duration": 50,
        "start_time": "2021-10-03T08:28:46.300Z"
      },
      {
        "duration": 32,
        "start_time": "2021-10-03T08:28:46.352Z"
      },
      {
        "duration": 61,
        "start_time": "2021-10-03T08:28:46.387Z"
      }
    ],
    "kernelspec": {
      "display_name": "Python 3 (ipykernel)",
      "language": "python",
      "name": "python3"
    },
    "language_info": {
      "codemirror_mode": {
        "name": "ipython",
        "version": 3
      },
      "file_extension": ".py",
      "mimetype": "text/x-python",
      "name": "python",
      "nbconvert_exporter": "python",
      "pygments_lexer": "ipython3",
      "version": "3.9.5"
    },
    "toc": {
      "base_numbering": 1,
      "nav_menu": {},
      "number_sections": true,
      "sideBar": true,
      "skip_h1_title": true,
      "title_cell": "Table of Contents",
      "title_sidebar": "Contents",
      "toc_cell": false,
      "toc_position": {},
      "toc_section_display": true,
      "toc_window_display": false
    },
    "colab": {
      "name": "1. credit_bank.ipynb",
      "provenance": [],
      "collapsed_sections": [
        "QrLqf9-nUWRx",
        "bH-B9RoeUWR1",
        "LFh2CT7xUWR4",
        "unxCpU6-UWR7",
        "CJWj8LotUWSA",
        "ZnYGgpM3UWSB",
        "jZUASuKjUWSC",
        "p0yMIaELUWSD",
        "4U3gMD2tUWSF"
      ],
      "include_colab_link": true
    }
  },
  "nbformat": 4,
  "nbformat_minor": 0
}