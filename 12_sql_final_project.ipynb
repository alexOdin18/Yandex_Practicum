{
  "cells": [
    {
      "cell_type": "markdown",
      "metadata": {
        "id": "qC2rOQBJDslx"
      },
      "source": [
        "# Проект по SQL. Анализ базы данных сервиса для чтения книг по подписке"
      ]
    },
    {
      "cell_type": "markdown",
      "metadata": {
        "id": "hrrB17U-Dsl5"
      },
      "source": [
        "### Описание проекта"
      ]
    },
    {
      "cell_type": "markdown",
      "metadata": {
        "id": "liDsRQE1Dsl7"
      },
      "source": [
        "Проанализировать базу данных сервиса для чтения книг по подписке. В ней — информация о книгах, издательствах, авторах, а также пользовательские обзоры книг. Эти данные помогут сформулировать ценностное предложение для нового продукта."
      ]
    },
    {
      "cell_type": "markdown",
      "metadata": {
        "id": "ISk_QYOVDsl7"
      },
      "source": [
        "**Цель исследования:** составить ценностное предложение для клиента исходя из данных о книгах, авторах, оценок критиков, обзоров. По результату исследования можно ответить на вопрос: какие книги с наибольшей вероятностью принесут новой компании прибыль и популярность. "
      ]
    },
    {
      "cell_type": "markdown",
      "metadata": {
        "id": "1FBc3RlwDsl8"
      },
      "source": [
        "## Загрузка данных. Первый взгляд."
      ]
    },
    {
      "cell_type": "markdown",
      "metadata": {
        "id": "czlPd8EQDsl9"
      },
      "source": [
        "Загрузим библиотеки и посмотрим на структуру предоставленных данных."
      ]
    },
    {
      "cell_type": "code",
      "execution_count": null,
      "metadata": {
        "id": "jqOl2ZFsDsl-"
      },
      "outputs": [],
      "source": [
        "import pandas as pd\n",
        "from sqlalchemy import create_engine"
      ]
    },
    {
      "cell_type": "code",
      "execution_count": null,
      "metadata": {
        "id": "ejzItLZWDsmB"
      },
      "outputs": [],
      "source": [
        "# устанавливаем параметры\n",
        "db_config = {'user': 'praktikum_student', # имя пользователя\n",
        " 'pwd': 'Sdf4$2;d-d30pp', # пароль\n",
        " 'host': 'rc1b-wcoijxj3yxfsf3fs.mdb.yandexcloud.net',\n",
        " 'port': 6432, # порт подключения\n",
        " 'db': 'data-analyst-final-project-db'} # название базы данных\n",
        "connection_string = 'postgresql://{}:{}@{}:{}/{}'.format(db_config['user'],\n",
        " db_config['pwd'],\n",
        " db_config['host'],\n",
        " db_config['port'],\n",
        " db_config['db'])\n",
        "# сохраняем коннектор\n",
        "engine = create_engine(connection_string, connect_args={'sslmode':'require'})"
      ]
    },
    {
      "cell_type": "markdown",
      "metadata": {
        "id": "Uj8_synUDsmC"
      },
      "source": [
        "* Таблица **books** с информацией о книгах"
      ]
    },
    {
      "cell_type": "code",
      "execution_count": null,
      "metadata": {
        "id": "HaFdnaygDsmE",
        "outputId": "4789f3ba-ac4d-41ee-8db3-a013c265894c"
      },
      "outputs": [
        {
          "data": {
            "text/html": [
              "<div>\n",
              "<style scoped>\n",
              "    .dataframe tbody tr th:only-of-type {\n",
              "        vertical-align: middle;\n",
              "    }\n",
              "\n",
              "    .dataframe tbody tr th {\n",
              "        vertical-align: top;\n",
              "    }\n",
              "\n",
              "    .dataframe thead th {\n",
              "        text-align: right;\n",
              "    }\n",
              "</style>\n",
              "<table border=\"1\" class=\"dataframe\">\n",
              "  <thead>\n",
              "    <tr style=\"text-align: right;\">\n",
              "      <th></th>\n",
              "      <th>book_id</th>\n",
              "      <th>author_id</th>\n",
              "      <th>title</th>\n",
              "      <th>num_pages</th>\n",
              "      <th>publication_date</th>\n",
              "      <th>publisher_id</th>\n",
              "    </tr>\n",
              "  </thead>\n",
              "  <tbody>\n",
              "    <tr>\n",
              "      <th>0</th>\n",
              "      <td>1</td>\n",
              "      <td>546</td>\n",
              "      <td>'Salem's Lot</td>\n",
              "      <td>594</td>\n",
              "      <td>2005-11-01</td>\n",
              "      <td>93</td>\n",
              "    </tr>\n",
              "    <tr>\n",
              "      <th>1</th>\n",
              "      <td>2</td>\n",
              "      <td>465</td>\n",
              "      <td>1 000 Places to See Before You Die</td>\n",
              "      <td>992</td>\n",
              "      <td>2003-05-22</td>\n",
              "      <td>336</td>\n",
              "    </tr>\n",
              "    <tr>\n",
              "      <th>2</th>\n",
              "      <td>3</td>\n",
              "      <td>407</td>\n",
              "      <td>13 Little Blue Envelopes (Little Blue Envelope...</td>\n",
              "      <td>322</td>\n",
              "      <td>2010-12-21</td>\n",
              "      <td>135</td>\n",
              "    </tr>\n",
              "    <tr>\n",
              "      <th>3</th>\n",
              "      <td>4</td>\n",
              "      <td>82</td>\n",
              "      <td>1491: New Revelations of the Americas Before C...</td>\n",
              "      <td>541</td>\n",
              "      <td>2006-10-10</td>\n",
              "      <td>309</td>\n",
              "    </tr>\n",
              "    <tr>\n",
              "      <th>4</th>\n",
              "      <td>5</td>\n",
              "      <td>125</td>\n",
              "      <td>1776</td>\n",
              "      <td>386</td>\n",
              "      <td>2006-07-04</td>\n",
              "      <td>268</td>\n",
              "    </tr>\n",
              "  </tbody>\n",
              "</table>\n",
              "</div>"
            ],
            "text/plain": [
              "   book_id  author_id                                              title  \\\n",
              "0        1        546                                       'Salem's Lot   \n",
              "1        2        465                 1 000 Places to See Before You Die   \n",
              "2        3        407  13 Little Blue Envelopes (Little Blue Envelope...   \n",
              "3        4         82  1491: New Revelations of the Americas Before C...   \n",
              "4        5        125                                               1776   \n",
              "\n",
              "   num_pages publication_date  publisher_id  \n",
              "0        594       2005-11-01            93  \n",
              "1        992       2003-05-22           336  \n",
              "2        322       2010-12-21           135  \n",
              "3        541       2006-10-10           309  \n",
              "4        386       2006-07-04           268  "
            ]
          },
          "execution_count": 3,
          "metadata": {},
          "output_type": "execute_result"
        }
      ],
      "source": [
        "query = '''\n",
        "        SELECT *\n",
        "        FROM books\n",
        "        LIMIT 5;\n",
        "        '''\n",
        "pd.io.sql.read_sql(query, con = engine) "
      ]
    },
    {
      "cell_type": "markdown",
      "metadata": {
        "id": "0dCe1tjdDsmG"
      },
      "source": [
        "* Таблица **authors** с информацией об авторах книг"
      ]
    },
    {
      "cell_type": "code",
      "execution_count": null,
      "metadata": {
        "id": "c2FNWVf_DsmH",
        "outputId": "0e050649-50ba-4689-870d-7d86fdb789df"
      },
      "outputs": [
        {
          "data": {
            "text/html": [
              "<div>\n",
              "<style scoped>\n",
              "    .dataframe tbody tr th:only-of-type {\n",
              "        vertical-align: middle;\n",
              "    }\n",
              "\n",
              "    .dataframe tbody tr th {\n",
              "        vertical-align: top;\n",
              "    }\n",
              "\n",
              "    .dataframe thead th {\n",
              "        text-align: right;\n",
              "    }\n",
              "</style>\n",
              "<table border=\"1\" class=\"dataframe\">\n",
              "  <thead>\n",
              "    <tr style=\"text-align: right;\">\n",
              "      <th></th>\n",
              "      <th>author_id</th>\n",
              "      <th>author</th>\n",
              "    </tr>\n",
              "  </thead>\n",
              "  <tbody>\n",
              "    <tr>\n",
              "      <th>0</th>\n",
              "      <td>1</td>\n",
              "      <td>A.S. Byatt</td>\n",
              "    </tr>\n",
              "    <tr>\n",
              "      <th>1</th>\n",
              "      <td>2</td>\n",
              "      <td>Aesop/Laura Harris/Laura Gibbs</td>\n",
              "    </tr>\n",
              "    <tr>\n",
              "      <th>2</th>\n",
              "      <td>3</td>\n",
              "      <td>Agatha Christie</td>\n",
              "    </tr>\n",
              "    <tr>\n",
              "      <th>3</th>\n",
              "      <td>4</td>\n",
              "      <td>Alan Brennert</td>\n",
              "    </tr>\n",
              "    <tr>\n",
              "      <th>4</th>\n",
              "      <td>5</td>\n",
              "      <td>Alan Moore/David   Lloyd</td>\n",
              "    </tr>\n",
              "  </tbody>\n",
              "</table>\n",
              "</div>"
            ],
            "text/plain": [
              "   author_id                          author\n",
              "0          1                      A.S. Byatt\n",
              "1          2  Aesop/Laura Harris/Laura Gibbs\n",
              "2          3                 Agatha Christie\n",
              "3          4                   Alan Brennert\n",
              "4          5        Alan Moore/David   Lloyd"
            ]
          },
          "execution_count": 4,
          "metadata": {},
          "output_type": "execute_result"
        }
      ],
      "source": [
        "query = '''\n",
        "        SELECT *\n",
        "        FROM authors\n",
        "        LIMIT 5;\n",
        "        '''\n",
        "pd.io.sql.read_sql(query, con = engine) "
      ]
    },
    {
      "cell_type": "markdown",
      "metadata": {
        "id": "H2yd2lF2DsmI"
      },
      "source": [
        "* Таблица **publishers** с информацией об авторах книг"
      ]
    },
    {
      "cell_type": "code",
      "execution_count": null,
      "metadata": {
        "id": "c38kMYosDsmJ",
        "outputId": "248cdf9e-34cf-42d2-d772-7c2ed774dbb0"
      },
      "outputs": [
        {
          "data": {
            "text/html": [
              "<div>\n",
              "<style scoped>\n",
              "    .dataframe tbody tr th:only-of-type {\n",
              "        vertical-align: middle;\n",
              "    }\n",
              "\n",
              "    .dataframe tbody tr th {\n",
              "        vertical-align: top;\n",
              "    }\n",
              "\n",
              "    .dataframe thead th {\n",
              "        text-align: right;\n",
              "    }\n",
              "</style>\n",
              "<table border=\"1\" class=\"dataframe\">\n",
              "  <thead>\n",
              "    <tr style=\"text-align: right;\">\n",
              "      <th></th>\n",
              "      <th>publisher_id</th>\n",
              "      <th>publisher</th>\n",
              "    </tr>\n",
              "  </thead>\n",
              "  <tbody>\n",
              "    <tr>\n",
              "      <th>0</th>\n",
              "      <td>1</td>\n",
              "      <td>Ace</td>\n",
              "    </tr>\n",
              "    <tr>\n",
              "      <th>1</th>\n",
              "      <td>2</td>\n",
              "      <td>Ace Book</td>\n",
              "    </tr>\n",
              "    <tr>\n",
              "      <th>2</th>\n",
              "      <td>3</td>\n",
              "      <td>Ace Books</td>\n",
              "    </tr>\n",
              "    <tr>\n",
              "      <th>3</th>\n",
              "      <td>4</td>\n",
              "      <td>Ace Hardcover</td>\n",
              "    </tr>\n",
              "    <tr>\n",
              "      <th>4</th>\n",
              "      <td>5</td>\n",
              "      <td>Addison Wesley Publishing Company</td>\n",
              "    </tr>\n",
              "  </tbody>\n",
              "</table>\n",
              "</div>"
            ],
            "text/plain": [
              "   publisher_id                          publisher\n",
              "0             1                                Ace\n",
              "1             2                           Ace Book\n",
              "2             3                          Ace Books\n",
              "3             4                      Ace Hardcover\n",
              "4             5  Addison Wesley Publishing Company"
            ]
          },
          "execution_count": 5,
          "metadata": {},
          "output_type": "execute_result"
        }
      ],
      "source": [
        "query = '''\n",
        "        SELECT *\n",
        "        FROM publishers\n",
        "        LIMIT 5;\n",
        "        '''\n",
        "pd.io.sql.read_sql(query, con = engine) "
      ]
    },
    {
      "cell_type": "markdown",
      "metadata": {
        "id": "z5nTBF1cDsmJ"
      },
      "source": [
        "* Таблица **ratings** с информацией об авторах книг"
      ]
    },
    {
      "cell_type": "code",
      "execution_count": null,
      "metadata": {
        "id": "A0m3x0naDsmK",
        "outputId": "6243e894-04a8-4ace-c959-6162f9d65a81"
      },
      "outputs": [
        {
          "data": {
            "text/html": [
              "<div>\n",
              "<style scoped>\n",
              "    .dataframe tbody tr th:only-of-type {\n",
              "        vertical-align: middle;\n",
              "    }\n",
              "\n",
              "    .dataframe tbody tr th {\n",
              "        vertical-align: top;\n",
              "    }\n",
              "\n",
              "    .dataframe thead th {\n",
              "        text-align: right;\n",
              "    }\n",
              "</style>\n",
              "<table border=\"1\" class=\"dataframe\">\n",
              "  <thead>\n",
              "    <tr style=\"text-align: right;\">\n",
              "      <th></th>\n",
              "      <th>rating_id</th>\n",
              "      <th>book_id</th>\n",
              "      <th>username</th>\n",
              "      <th>rating</th>\n",
              "    </tr>\n",
              "  </thead>\n",
              "  <tbody>\n",
              "    <tr>\n",
              "      <th>0</th>\n",
              "      <td>1</td>\n",
              "      <td>1</td>\n",
              "      <td>ryanfranco</td>\n",
              "      <td>4</td>\n",
              "    </tr>\n",
              "    <tr>\n",
              "      <th>1</th>\n",
              "      <td>2</td>\n",
              "      <td>1</td>\n",
              "      <td>grantpatricia</td>\n",
              "      <td>2</td>\n",
              "    </tr>\n",
              "    <tr>\n",
              "      <th>2</th>\n",
              "      <td>3</td>\n",
              "      <td>1</td>\n",
              "      <td>brandtandrea</td>\n",
              "      <td>5</td>\n",
              "    </tr>\n",
              "    <tr>\n",
              "      <th>3</th>\n",
              "      <td>4</td>\n",
              "      <td>2</td>\n",
              "      <td>lorichen</td>\n",
              "      <td>3</td>\n",
              "    </tr>\n",
              "    <tr>\n",
              "      <th>4</th>\n",
              "      <td>5</td>\n",
              "      <td>2</td>\n",
              "      <td>mariokeller</td>\n",
              "      <td>2</td>\n",
              "    </tr>\n",
              "  </tbody>\n",
              "</table>\n",
              "</div>"
            ],
            "text/plain": [
              "   rating_id  book_id       username  rating\n",
              "0          1        1     ryanfranco       4\n",
              "1          2        1  grantpatricia       2\n",
              "2          3        1   brandtandrea       5\n",
              "3          4        2       lorichen       3\n",
              "4          5        2    mariokeller       2"
            ]
          },
          "execution_count": 6,
          "metadata": {},
          "output_type": "execute_result"
        }
      ],
      "source": [
        "query = '''\n",
        "        SELECT *\n",
        "        FROM ratings\n",
        "        LIMIT 5;\n",
        "        '''\n",
        "pd.io.sql.read_sql(query, con = engine) "
      ]
    },
    {
      "cell_type": "markdown",
      "metadata": {
        "id": "m2yTyPw4DsmL"
      },
      "source": [
        "* Таблица **reviews** с информацией об авторах книг"
      ]
    },
    {
      "cell_type": "code",
      "execution_count": null,
      "metadata": {
        "id": "a_Gq0WQ7DsmL",
        "outputId": "fc849eb9-8c74-406f-ce68-b7013fb5efb5"
      },
      "outputs": [
        {
          "data": {
            "text/html": [
              "<div>\n",
              "<style scoped>\n",
              "    .dataframe tbody tr th:only-of-type {\n",
              "        vertical-align: middle;\n",
              "    }\n",
              "\n",
              "    .dataframe tbody tr th {\n",
              "        vertical-align: top;\n",
              "    }\n",
              "\n",
              "    .dataframe thead th {\n",
              "        text-align: right;\n",
              "    }\n",
              "</style>\n",
              "<table border=\"1\" class=\"dataframe\">\n",
              "  <thead>\n",
              "    <tr style=\"text-align: right;\">\n",
              "      <th></th>\n",
              "      <th>review_id</th>\n",
              "      <th>book_id</th>\n",
              "      <th>username</th>\n",
              "      <th>text</th>\n",
              "    </tr>\n",
              "  </thead>\n",
              "  <tbody>\n",
              "    <tr>\n",
              "      <th>0</th>\n",
              "      <td>1</td>\n",
              "      <td>1</td>\n",
              "      <td>brandtandrea</td>\n",
              "      <td>Mention society tell send professor analysis. ...</td>\n",
              "    </tr>\n",
              "    <tr>\n",
              "      <th>1</th>\n",
              "      <td>2</td>\n",
              "      <td>1</td>\n",
              "      <td>ryanfranco</td>\n",
              "      <td>Foot glass pretty audience hit themselves. Amo...</td>\n",
              "    </tr>\n",
              "    <tr>\n",
              "      <th>2</th>\n",
              "      <td>3</td>\n",
              "      <td>2</td>\n",
              "      <td>lorichen</td>\n",
              "      <td>Listen treat keep worry. Miss husband tax but ...</td>\n",
              "    </tr>\n",
              "    <tr>\n",
              "      <th>3</th>\n",
              "      <td>4</td>\n",
              "      <td>3</td>\n",
              "      <td>johnsonamanda</td>\n",
              "      <td>Finally month interesting blue could nature cu...</td>\n",
              "    </tr>\n",
              "    <tr>\n",
              "      <th>4</th>\n",
              "      <td>5</td>\n",
              "      <td>3</td>\n",
              "      <td>scotttamara</td>\n",
              "      <td>Nation purpose heavy give wait song will. List...</td>\n",
              "    </tr>\n",
              "  </tbody>\n",
              "</table>\n",
              "</div>"
            ],
            "text/plain": [
              "   review_id  book_id       username  \\\n",
              "0          1        1   brandtandrea   \n",
              "1          2        1     ryanfranco   \n",
              "2          3        2       lorichen   \n",
              "3          4        3  johnsonamanda   \n",
              "4          5        3    scotttamara   \n",
              "\n",
              "                                                text  \n",
              "0  Mention society tell send professor analysis. ...  \n",
              "1  Foot glass pretty audience hit themselves. Amo...  \n",
              "2  Listen treat keep worry. Miss husband tax but ...  \n",
              "3  Finally month interesting blue could nature cu...  \n",
              "4  Nation purpose heavy give wait song will. List...  "
            ]
          },
          "execution_count": 7,
          "metadata": {},
          "output_type": "execute_result"
        }
      ],
      "source": [
        "query = '''\n",
        "        SELECT *\n",
        "        FROM reviews\n",
        "        LIMIT 5;\n",
        "        '''\n",
        "pd.io.sql.read_sql(query, con = engine) "
      ]
    },
    {
      "cell_type": "markdown",
      "metadata": {
        "id": "x8BYnfIgDsmM"
      },
      "source": [
        ""
      ]
    },
    {
      "cell_type": "markdown",
      "metadata": {
        "id": "fHTq7sckDsmM"
      },
      "source": [
        "### Посчитаем, сколько книг вышло после 1 января 2000 года;"
      ]
    },
    {
      "cell_type": "markdown",
      "metadata": {
        "id": "cP3_XrzyDsmM"
      },
      "source": [
        "Напишем функцию для упрощения вывода результата запроса."
      ]
    },
    {
      "cell_type": "code",
      "execution_count": null,
      "metadata": {
        "id": "Wp_7DADgDsmN"
      },
      "outputs": [],
      "source": [
        "def reqst(q):\n",
        "    query = q\n",
        "    return pd.io.sql.read_sql(query, con = engine) "
      ]
    },
    {
      "cell_type": "code",
      "execution_count": null,
      "metadata": {
        "id": "Ib8ifMJmDsmN",
        "outputId": "5b20d817-213c-40ae-c88d-1f22b96f45c1"
      },
      "outputs": [
        {
          "data": {
            "text/html": [
              "<div>\n",
              "<style scoped>\n",
              "    .dataframe tbody tr th:only-of-type {\n",
              "        vertical-align: middle;\n",
              "    }\n",
              "\n",
              "    .dataframe tbody tr th {\n",
              "        vertical-align: top;\n",
              "    }\n",
              "\n",
              "    .dataframe thead th {\n",
              "        text-align: right;\n",
              "    }\n",
              "</style>\n",
              "<table border=\"1\" class=\"dataframe\">\n",
              "  <thead>\n",
              "    <tr style=\"text-align: right;\">\n",
              "      <th></th>\n",
              "      <th>count</th>\n",
              "    </tr>\n",
              "  </thead>\n",
              "  <tbody>\n",
              "    <tr>\n",
              "      <th>0</th>\n",
              "      <td>819</td>\n",
              "    </tr>\n",
              "  </tbody>\n",
              "</table>\n",
              "</div>"
            ],
            "text/plain": [
              "   count\n",
              "0    819"
            ]
          },
          "execution_count": 9,
          "metadata": {},
          "output_type": "execute_result"
        }
      ],
      "source": [
        "reqst(\n",
        "'''\n",
        "SELECT COUNT(book_id)\n",
        "FROM books\n",
        "WHERE publication_date > '2000-01-01';\n",
        "'''\n",
        ")"
      ]
    },
    {
      "cell_type": "markdown",
      "metadata": {
        "id": "LUnpeyefDsmO"
      },
      "source": [
        "### Вывод"
      ]
    },
    {
      "cell_type": "markdown",
      "metadata": {
        "id": "h7DzDIBbDsmP"
      },
      "source": [
        "После 1 января 2000 года вышло **819 книг.** Новые книги появляются. Их необходимо продвигать и предлагать пользователям."
      ]
    },
    {
      "cell_type": "markdown",
      "metadata": {
        "id": "hLYh0oqyDsmP"
      },
      "source": [
        "<div class=\"alert alert-success\">\n",
        "    Отлично\n",
        "</div>"
      ]
    },
    {
      "cell_type": "markdown",
      "metadata": {
        "id": "pSQK63DBDsmP"
      },
      "source": [
        "### Для каждой книги посчитаем количество обзоров и среднюю оценку"
      ]
    },
    {
      "cell_type": "code",
      "execution_count": null,
      "metadata": {
        "id": "g_Tt8ZecDsmQ",
        "outputId": "e0f798a0-a667-41bc-8497-d7d9445be0ca"
      },
      "outputs": [
        {
          "data": {
            "text/html": [
              "<div>\n",
              "<style scoped>\n",
              "    .dataframe tbody tr th:only-of-type {\n",
              "        vertical-align: middle;\n",
              "    }\n",
              "\n",
              "    .dataframe tbody tr th {\n",
              "        vertical-align: top;\n",
              "    }\n",
              "\n",
              "    .dataframe thead th {\n",
              "        text-align: right;\n",
              "    }\n",
              "</style>\n",
              "<table border=\"1\" class=\"dataframe\">\n",
              "  <thead>\n",
              "    <tr style=\"text-align: right;\">\n",
              "      <th></th>\n",
              "      <th>title</th>\n",
              "      <th>amount_review</th>\n",
              "      <th>avg_rating</th>\n",
              "    </tr>\n",
              "  </thead>\n",
              "  <tbody>\n",
              "    <tr>\n",
              "      <th>0</th>\n",
              "      <td>A Dirty Job (Grim Reaper  #1)</td>\n",
              "      <td>4.0</td>\n",
              "      <td>5.00</td>\n",
              "    </tr>\n",
              "    <tr>\n",
              "      <th>1</th>\n",
              "      <td>Tai-Pan (Asian Saga  #2)</td>\n",
              "      <td>2.0</td>\n",
              "      <td>5.00</td>\n",
              "    </tr>\n",
              "    <tr>\n",
              "      <th>2</th>\n",
              "      <td>School's Out—Forever (Maximum Ride  #2)</td>\n",
              "      <td>3.0</td>\n",
              "      <td>5.00</td>\n",
              "    </tr>\n",
              "    <tr>\n",
              "      <th>3</th>\n",
              "      <td>Piercing the Darkness (Darkness  #2)</td>\n",
              "      <td>2.0</td>\n",
              "      <td>5.00</td>\n",
              "    </tr>\n",
              "    <tr>\n",
              "      <th>4</th>\n",
              "      <td>The War of Art: Break Through the Blocks &amp; Win...</td>\n",
              "      <td>2.0</td>\n",
              "      <td>5.00</td>\n",
              "    </tr>\n",
              "    <tr>\n",
              "      <th>...</th>\n",
              "      <td>...</td>\n",
              "      <td>...</td>\n",
              "      <td>...</td>\n",
              "    </tr>\n",
              "    <tr>\n",
              "      <th>995</th>\n",
              "      <td>The World Is Flat: A Brief History of the Twen...</td>\n",
              "      <td>3.0</td>\n",
              "      <td>2.25</td>\n",
              "    </tr>\n",
              "    <tr>\n",
              "      <th>996</th>\n",
              "      <td>His Excellency: George Washington</td>\n",
              "      <td>2.0</td>\n",
              "      <td>2.00</td>\n",
              "    </tr>\n",
              "    <tr>\n",
              "      <th>997</th>\n",
              "      <td>Junky</td>\n",
              "      <td>2.0</td>\n",
              "      <td>2.00</td>\n",
              "    </tr>\n",
              "    <tr>\n",
              "      <th>998</th>\n",
              "      <td>Drowning Ruth</td>\n",
              "      <td>3.0</td>\n",
              "      <td>2.00</td>\n",
              "    </tr>\n",
              "    <tr>\n",
              "      <th>999</th>\n",
              "      <td>Harvesting the Heart</td>\n",
              "      <td>2.0</td>\n",
              "      <td>1.50</td>\n",
              "    </tr>\n",
              "  </tbody>\n",
              "</table>\n",
              "<p>1000 rows × 3 columns</p>\n",
              "</div>"
            ],
            "text/plain": [
              "                                                 title  amount_review  \\\n",
              "0                        A Dirty Job (Grim Reaper  #1)            4.0   \n",
              "1                             Tai-Pan (Asian Saga  #2)            2.0   \n",
              "2              School's Out—Forever (Maximum Ride  #2)            3.0   \n",
              "3                 Piercing the Darkness (Darkness  #2)            2.0   \n",
              "4    The War of Art: Break Through the Blocks & Win...            2.0   \n",
              "..                                                 ...            ...   \n",
              "995  The World Is Flat: A Brief History of the Twen...            3.0   \n",
              "996                  His Excellency: George Washington            2.0   \n",
              "997                                              Junky            2.0   \n",
              "998                                      Drowning Ruth            3.0   \n",
              "999                               Harvesting the Heart            2.0   \n",
              "\n",
              "     avg_rating  \n",
              "0          5.00  \n",
              "1          5.00  \n",
              "2          5.00  \n",
              "3          5.00  \n",
              "4          5.00  \n",
              "..          ...  \n",
              "995        2.25  \n",
              "996        2.00  \n",
              "997        2.00  \n",
              "998        2.00  \n",
              "999        1.50  \n",
              "\n",
              "[1000 rows x 3 columns]"
            ]
          },
          "execution_count": 10,
          "metadata": {},
          "output_type": "execute_result"
        }
      ],
      "source": [
        "reqst(\n",
        "'''\n",
        "WITH\n",
        "    i AS (\n",
        "SELECT book_id,\n",
        "        COUNT(review_id) AS amount_review        \n",
        "FROM reviews\n",
        "GROUP BY book_id\n",
        "),\n",
        "    a AS (\n",
        "SELECT book_id,\n",
        "        AVG(rating) AS avg_rating\n",
        "FROM ratings\n",
        "GROUP BY book_id\n",
        ")\n",
        "\n",
        "SELECT title,\n",
        "        i.amount_review,\n",
        "        a.avg_rating\n",
        "FROM books AS b\n",
        "LEFT JOIN a ON b.book_id = a.book_id\n",
        "LEFT JOIN i ON b.book_id = i.book_id\n",
        "ORDER BY avg_rating DESC;\n",
        "\n",
        "'''\n",
        ")"
      ]
    },
    {
      "cell_type": "markdown",
      "metadata": {
        "id": "hdMIdsFWDsmR"
      },
      "source": [
        "### Вывод"
      ]
    },
    {
      "cell_type": "markdown",
      "metadata": {
        "id": "Eq4Resw7DsmR"
      },
      "source": [
        "Не у всех книг есть обзоры. Данные отсортированы по убыванию рейтинга. Этот список поможет понять, как ранжировать книги в библиотеке и рекомендательном сервисе. Хороший пользовательский опыт важен для удержания клиента. "
      ]
    },
    {
      "cell_type": "markdown",
      "metadata": {
        "id": "iMSzbhNtDsmR"
      },
      "source": [
        "<div class=\"alert alert-success\">\n",
        "    Отлично\n",
        "</div>"
      ]
    },
    {
      "cell_type": "markdown",
      "metadata": {
        "id": "FU4YFdLoDsmS"
      },
      "source": [
        "### Определим издательство, которое выпустило наибольшее число книг толще 50 страниц — так исключим из анализа брошюры"
      ]
    },
    {
      "cell_type": "code",
      "execution_count": null,
      "metadata": {
        "scrolled": true,
        "id": "4k_mO6pUDsmS",
        "outputId": "2cb5bc9a-4a72-4575-f526-c0a0e461ce52"
      },
      "outputs": [
        {
          "data": {
            "text/html": [
              "<div>\n",
              "<style scoped>\n",
              "    .dataframe tbody tr th:only-of-type {\n",
              "        vertical-align: middle;\n",
              "    }\n",
              "\n",
              "    .dataframe tbody tr th {\n",
              "        vertical-align: top;\n",
              "    }\n",
              "\n",
              "    .dataframe thead th {\n",
              "        text-align: right;\n",
              "    }\n",
              "</style>\n",
              "<table border=\"1\" class=\"dataframe\">\n",
              "  <thead>\n",
              "    <tr style=\"text-align: right;\">\n",
              "      <th></th>\n",
              "      <th>publisher</th>\n",
              "      <th>amount_books</th>\n",
              "    </tr>\n",
              "  </thead>\n",
              "  <tbody>\n",
              "    <tr>\n",
              "      <th>0</th>\n",
              "      <td>Penguin Books</td>\n",
              "      <td>42</td>\n",
              "    </tr>\n",
              "    <tr>\n",
              "      <th>1</th>\n",
              "      <td>Vintage</td>\n",
              "      <td>31</td>\n",
              "    </tr>\n",
              "    <tr>\n",
              "      <th>2</th>\n",
              "      <td>Grand Central Publishing</td>\n",
              "      <td>25</td>\n",
              "    </tr>\n",
              "    <tr>\n",
              "      <th>3</th>\n",
              "      <td>Penguin Classics</td>\n",
              "      <td>24</td>\n",
              "    </tr>\n",
              "    <tr>\n",
              "      <th>4</th>\n",
              "      <td>Bantam</td>\n",
              "      <td>19</td>\n",
              "    </tr>\n",
              "  </tbody>\n",
              "</table>\n",
              "</div>"
            ],
            "text/plain": [
              "                  publisher  amount_books\n",
              "0             Penguin Books            42\n",
              "1                   Vintage            31\n",
              "2  Grand Central Publishing            25\n",
              "3          Penguin Classics            24\n",
              "4                    Bantam            19"
            ]
          },
          "execution_count": 11,
          "metadata": {},
          "output_type": "execute_result"
        }
      ],
      "source": [
        "reqst(\n",
        "'''\n",
        "WITH\n",
        "    i AS (\n",
        "SELECT publisher_id,\n",
        "        COUNT(book_id) AS amount_books\n",
        "FROM books\n",
        "WHERE num_pages > 50\n",
        "GROUP BY publisher_id\n",
        "        )\n",
        "        \n",
        "SELECT publisher,\n",
        "        amount_books\n",
        "FROM publishers AS p\n",
        "INNER JOIN i ON p.publisher_id = i.publisher_id\n",
        "ORDER BY i.amount_books DESC\n",
        "LIMIT 5;\n",
        "'''\n",
        ")"
      ]
    },
    {
      "cell_type": "markdown",
      "metadata": {
        "id": "FKg-KapTDsmS"
      },
      "source": [
        "### Вывод"
      ]
    },
    {
      "cell_type": "markdown",
      "metadata": {
        "id": "ZxqppqfnDsmT"
      },
      "source": [
        "Penguin Books лидирует по количеству, выпущенных книг свыше 50 страниц."
      ]
    },
    {
      "cell_type": "markdown",
      "metadata": {
        "id": "UEtyTdRrDsmT"
      },
      "source": [
        "<div class=\"alert alert-success\">\n",
        "    Отлично\n",
        "</div>"
      ]
    },
    {
      "cell_type": "markdown",
      "metadata": {
        "id": "Joes1yADDsmT"
      },
      "source": [
        "### Определим автора с самой высокой средней оценкой книг — учитывайте только книги с 50 и более оценками;"
      ]
    },
    {
      "cell_type": "code",
      "execution_count": null,
      "metadata": {
        "id": "IlydKr99DsmU",
        "outputId": "5bb29bde-9ee7-42a8-8e82-b28e26fa9feb"
      },
      "outputs": [
        {
          "data": {
            "text/html": [
              "<div>\n",
              "<style scoped>\n",
              "    .dataframe tbody tr th:only-of-type {\n",
              "        vertical-align: middle;\n",
              "    }\n",
              "\n",
              "    .dataframe tbody tr th {\n",
              "        vertical-align: top;\n",
              "    }\n",
              "\n",
              "    .dataframe thead th {\n",
              "        text-align: right;\n",
              "    }\n",
              "</style>\n",
              "<table border=\"1\" class=\"dataframe\">\n",
              "  <thead>\n",
              "    <tr style=\"text-align: right;\">\n",
              "      <th></th>\n",
              "      <th>author</th>\n",
              "      <th>avg_rating</th>\n",
              "    </tr>\n",
              "  </thead>\n",
              "  <tbody>\n",
              "    <tr>\n",
              "      <th>0</th>\n",
              "      <td>J.K. Rowling/Mary GrandPré</td>\n",
              "      <td>4.287097</td>\n",
              "    </tr>\n",
              "    <tr>\n",
              "      <th>1</th>\n",
              "      <td>Markus Zusak/Cao Xuân Việt Khương</td>\n",
              "      <td>4.264151</td>\n",
              "    </tr>\n",
              "    <tr>\n",
              "      <th>2</th>\n",
              "      <td>J.R.R. Tolkien</td>\n",
              "      <td>4.246914</td>\n",
              "    </tr>\n",
              "    <tr>\n",
              "      <th>3</th>\n",
              "      <td>Louisa May Alcott</td>\n",
              "      <td>4.192308</td>\n",
              "    </tr>\n",
              "    <tr>\n",
              "      <th>4</th>\n",
              "      <td>Rick Riordan</td>\n",
              "      <td>4.080645</td>\n",
              "    </tr>\n",
              "    <tr>\n",
              "      <th>5</th>\n",
              "      <td>William Golding</td>\n",
              "      <td>3.901408</td>\n",
              "    </tr>\n",
              "    <tr>\n",
              "      <th>6</th>\n",
              "      <td>J.D. Salinger</td>\n",
              "      <td>3.825581</td>\n",
              "    </tr>\n",
              "    <tr>\n",
              "      <th>7</th>\n",
              "      <td>Paulo Coelho/Alan R. Clarke/Özdemir İnce</td>\n",
              "      <td>3.789474</td>\n",
              "    </tr>\n",
              "    <tr>\n",
              "      <th>8</th>\n",
              "      <td>William Shakespeare/Paul Werstine/Barbara A. M...</td>\n",
              "      <td>3.787879</td>\n",
              "    </tr>\n",
              "    <tr>\n",
              "      <th>9</th>\n",
              "      <td>Lois Lowry</td>\n",
              "      <td>3.750000</td>\n",
              "    </tr>\n",
              "    <tr>\n",
              "      <th>10</th>\n",
              "      <td>Dan Brown</td>\n",
              "      <td>3.741259</td>\n",
              "    </tr>\n",
              "    <tr>\n",
              "      <th>11</th>\n",
              "      <td>George Orwell/Boris Grabnar/Peter Škerl</td>\n",
              "      <td>3.729730</td>\n",
              "    </tr>\n",
              "    <tr>\n",
              "      <th>12</th>\n",
              "      <td>Stephenie Meyer</td>\n",
              "      <td>3.662500</td>\n",
              "    </tr>\n",
              "    <tr>\n",
              "      <th>13</th>\n",
              "      <td>John Steinbeck</td>\n",
              "      <td>3.622951</td>\n",
              "    </tr>\n",
              "  </tbody>\n",
              "</table>\n",
              "</div>"
            ],
            "text/plain": [
              "                                               author  avg_rating\n",
              "0                          J.K. Rowling/Mary GrandPré    4.287097\n",
              "1                   Markus Zusak/Cao Xuân Việt Khương    4.264151\n",
              "2                                      J.R.R. Tolkien    4.246914\n",
              "3                                   Louisa May Alcott    4.192308\n",
              "4                                        Rick Riordan    4.080645\n",
              "5                                     William Golding    3.901408\n",
              "6                                       J.D. Salinger    3.825581\n",
              "7            Paulo Coelho/Alan R. Clarke/Özdemir İnce    3.789474\n",
              "8   William Shakespeare/Paul Werstine/Barbara A. M...    3.787879\n",
              "9                                          Lois Lowry    3.750000\n",
              "10                                          Dan Brown    3.741259\n",
              "11            George Orwell/Boris Grabnar/Peter Škerl    3.729730\n",
              "12                                    Stephenie Meyer    3.662500\n",
              "13                                     John Steinbeck    3.622951"
            ]
          },
          "execution_count": 12,
          "metadata": {},
          "output_type": "execute_result"
        }
      ],
      "source": [
        "reqst(\n",
        "'''\n",
        "WITH\n",
        "    i AS (\n",
        "SELECT book_id,\n",
        "       COUNT(rating) AS amount_rating\n",
        "FROM ratings\n",
        "GROUP BY book_id\n",
        "HAVING COUNT(rating) > 50\n",
        "        ),\n",
        "    p AS (\n",
        "SELECT rs.book_id,\n",
        "       rs.rating \n",
        "FROM ratings AS rs\n",
        "INNER JOIN i ON rs.book_id = i.book_id\n",
        "        ),\n",
        "    b AS (\n",
        "SELECT bs.author_id,\n",
        "       AVG(p.rating) AS avg_rating \n",
        "FROM books AS bs\n",
        "INNER JOIN p ON bs.book_id = p.book_id\n",
        "GROUP BY bs.author_id\n",
        "        )\n",
        "SELECT at.author,\n",
        "       b.avg_rating\n",
        "FROM authors AS at\n",
        "INNER JOIN b ON at.author_id = b.author_id\n",
        "ORDER BY b.avg_rating DESC;\n",
        "'''\n",
        ")"
      ]
    },
    {
      "cell_type": "markdown",
      "metadata": {
        "id": "sfobBgW5DsmV"
      },
      "source": [
        "### Вывод"
      ]
    },
    {
      "cell_type": "markdown",
      "metadata": {
        "id": "PBIf0ZI1DsmV"
      },
      "source": [
        "Получили список с авторами у которых есть книги с 50 и более оценками. Ранжировали их по среднему рейтингу. Дж. Роулинг лидирует. Гарри Поттер рулит) А вот второе место мне неизвестный, но нагуглил, что \"книжный вор\" его работа. Замыкает тройку Толкиен и \"Властелин Колец\". В целом ожидаемый результат, кроме 2-го места. "
      ]
    },
    {
      "cell_type": "markdown",
      "metadata": {
        "id": "JWVQn416DsmW"
      },
      "source": [
        "### Посчитаем среднее количество обзоров от пользователей, которые поставили больше 50 оценок."
      ]
    },
    {
      "cell_type": "code",
      "execution_count": null,
      "metadata": {
        "id": "bxPOc7rUDsmW",
        "outputId": "a53a08f8-4a80-4d28-f81b-8518ea33f0ec"
      },
      "outputs": [
        {
          "data": {
            "text/html": [
              "<div>\n",
              "<style scoped>\n",
              "    .dataframe tbody tr th:only-of-type {\n",
              "        vertical-align: middle;\n",
              "    }\n",
              "\n",
              "    .dataframe tbody tr th {\n",
              "        vertical-align: top;\n",
              "    }\n",
              "\n",
              "    .dataframe thead th {\n",
              "        text-align: right;\n",
              "    }\n",
              "</style>\n",
              "<table border=\"1\" class=\"dataframe\">\n",
              "  <thead>\n",
              "    <tr style=\"text-align: right;\">\n",
              "      <th></th>\n",
              "      <th>average_amount_reviews</th>\n",
              "    </tr>\n",
              "  </thead>\n",
              "  <tbody>\n",
              "    <tr>\n",
              "      <th>0</th>\n",
              "      <td>24.333333</td>\n",
              "    </tr>\n",
              "  </tbody>\n",
              "</table>\n",
              "</div>"
            ],
            "text/plain": [
              "   average_amount_reviews\n",
              "0               24.333333"
            ]
          },
          "execution_count": 13,
          "metadata": {},
          "output_type": "execute_result"
        }
      ],
      "source": [
        "reqst(\n",
        "'''\n",
        "WITH\n",
        "    i AS (\n",
        "SELECT username,\n",
        "       COUNT(rating)\n",
        "FROM ratings\n",
        "GROUP BY username\n",
        "HAVING COUNT(rating) > 50\n",
        "    ),\n",
        "    a AS (\n",
        "SELECT COUNT(review_id) AS amount_reviews\n",
        "FROM reviews AS rs\n",
        "INNER JOIN i ON i.username = rs.username\n",
        "GROUP BY rs.username\n",
        "            )\n",
        "SELECT AVG(amount_reviews) AS average_amount_reviews\n",
        "FROM a\n",
        "'''\n",
        ")"
      ]
    },
    {
      "cell_type": "markdown",
      "metadata": {
        "id": "sgbheB7hDsmX"
      },
      "source": [
        "### Вывод"
      ]
    },
    {
      "cell_type": "markdown",
      "metadata": {
        "id": "lfnfoAwbDsmY"
      },
      "source": [
        "В среднем **24** обзора делают пользователи, оценившие более 50 книг. Это пользователи проактивные. Уникальный контент от пользователей хороший буст в продажах. Хорошо знать таких пользователей для того, чтобы предложить им релевантные книжные новинки, которые они с большей вероятностью оценят и дадут подробную обратную связь в виде обзора. Если это сработает, то будет хорошее промо для книги.  "
      ]
    }
  ],
  "metadata": {
    "ExecuteTimeLog": [
      {
        "duration": 165,
        "start_time": "2022-03-24T09:59:59.336Z"
      },
      {
        "duration": 10910,
        "start_time": "2022-03-24T10:00:09.960Z"
      },
      {
        "duration": 927,
        "start_time": "2022-03-24T10:01:18.378Z"
      },
      {
        "duration": 10710,
        "start_time": "2022-03-24T10:01:19.310Z"
      },
      {
        "duration": 399,
        "start_time": "2022-03-24T10:25:02.141Z"
      },
      {
        "duration": 78,
        "start_time": "2022-03-24T10:29:44.582Z"
      },
      {
        "duration": 74,
        "start_time": "2022-03-24T10:33:36.963Z"
      },
      {
        "duration": 75,
        "start_time": "2022-03-24T10:34:21.184Z"
      },
      {
        "duration": 77,
        "start_time": "2022-03-24T10:35:07.557Z"
      },
      {
        "duration": 84,
        "start_time": "2022-03-24T10:37:01.320Z"
      },
      {
        "duration": 5,
        "start_time": "2022-03-24T10:51:03.710Z"
      },
      {
        "duration": 77,
        "start_time": "2022-03-24T10:51:50.531Z"
      },
      {
        "duration": 4,
        "start_time": "2022-03-24T10:52:07.931Z"
      },
      {
        "duration": 75,
        "start_time": "2022-03-24T10:52:09.494Z"
      },
      {
        "duration": 403,
        "start_time": "2022-03-24T10:57:26.175Z"
      },
      {
        "duration": 302,
        "start_time": "2022-03-24T10:58:20.777Z"
      },
      {
        "duration": 73,
        "start_time": "2022-03-24T11:00:27.402Z"
      },
      {
        "duration": 75,
        "start_time": "2022-03-24T11:00:43.123Z"
      },
      {
        "duration": 276,
        "start_time": "2022-03-24T11:33:35.385Z"
      },
      {
        "duration": 240,
        "start_time": "2022-03-24T11:35:05.758Z"
      },
      {
        "duration": 281,
        "start_time": "2022-03-24T11:44:02.461Z"
      },
      {
        "duration": 251,
        "start_time": "2022-03-24T11:44:33.885Z"
      },
      {
        "duration": 352,
        "start_time": "2022-03-24T11:46:35.748Z"
      },
      {
        "duration": 242,
        "start_time": "2022-03-24T11:48:46.303Z"
      },
      {
        "duration": 247,
        "start_time": "2022-03-24T11:51:11.973Z"
      },
      {
        "duration": 84,
        "start_time": "2022-03-24T11:53:00.005Z"
      },
      {
        "duration": 98,
        "start_time": "2022-03-24T11:53:28.425Z"
      },
      {
        "duration": 91,
        "start_time": "2022-03-24T11:54:44.568Z"
      },
      {
        "duration": 90,
        "start_time": "2022-03-24T11:55:14.099Z"
      },
      {
        "duration": 92,
        "start_time": "2022-03-24T11:55:21.537Z"
      },
      {
        "duration": 246,
        "start_time": "2022-03-24T11:56:23.431Z"
      },
      {
        "duration": 108,
        "start_time": "2022-03-24T11:57:34.460Z"
      },
      {
        "duration": 248,
        "start_time": "2022-03-24T11:59:16.695Z"
      },
      {
        "duration": 108,
        "start_time": "2022-03-24T11:59:22.160Z"
      },
      {
        "duration": 108,
        "start_time": "2022-03-24T11:59:38.127Z"
      },
      {
        "duration": 122,
        "start_time": "2022-03-24T11:59:50.281Z"
      },
      {
        "duration": 111,
        "start_time": "2022-03-24T12:00:08.753Z"
      },
      {
        "duration": 108,
        "start_time": "2022-03-24T12:00:20.720Z"
      },
      {
        "duration": 108,
        "start_time": "2022-03-24T12:02:38.015Z"
      },
      {
        "duration": 109,
        "start_time": "2022-03-24T12:03:54.201Z"
      },
      {
        "duration": 106,
        "start_time": "2022-03-24T12:04:23.427Z"
      },
      {
        "duration": 81,
        "start_time": "2022-03-24T12:05:16.977Z"
      },
      {
        "duration": 81,
        "start_time": "2022-03-24T12:05:24.800Z"
      },
      {
        "duration": 81,
        "start_time": "2022-03-24T12:05:53.006Z"
      },
      {
        "duration": 84,
        "start_time": "2022-03-24T12:06:11.654Z"
      },
      {
        "duration": 83,
        "start_time": "2022-03-24T12:06:37.004Z"
      },
      {
        "duration": 111,
        "start_time": "2022-03-24T12:06:43.427Z"
      },
      {
        "duration": 351,
        "start_time": "2022-03-24T12:21:48.530Z"
      },
      {
        "duration": 75,
        "start_time": "2022-03-24T12:22:32.863Z"
      },
      {
        "duration": 75,
        "start_time": "2022-03-24T12:23:29.876Z"
      },
      {
        "duration": 286,
        "start_time": "2022-03-24T12:44:30.239Z"
      },
      {
        "duration": 533,
        "start_time": "2022-03-24T18:39:46.626Z"
      },
      {
        "duration": 6416,
        "start_time": "2022-03-24T18:39:47.161Z"
      },
      {
        "duration": 238,
        "start_time": "2022-03-24T18:39:53.578Z"
      },
      {
        "duration": 76,
        "start_time": "2022-03-24T18:39:53.818Z"
      },
      {
        "duration": 73,
        "start_time": "2022-03-24T18:39:53.896Z"
      },
      {
        "duration": 71,
        "start_time": "2022-03-24T18:39:53.971Z"
      },
      {
        "duration": 76,
        "start_time": "2022-03-24T18:39:54.043Z"
      },
      {
        "duration": 3,
        "start_time": "2022-03-24T18:39:54.120Z"
      },
      {
        "duration": 85,
        "start_time": "2022-03-24T18:39:54.125Z"
      },
      {
        "duration": 105,
        "start_time": "2022-03-24T18:39:54.213Z"
      },
      {
        "duration": 74,
        "start_time": "2022-03-24T18:39:54.319Z"
      },
      {
        "duration": 384,
        "start_time": "2022-03-24T18:39:54.394Z"
      },
      {
        "duration": 197,
        "start_time": "2022-03-24T18:41:59.848Z"
      },
      {
        "duration": 233,
        "start_time": "2022-03-24T18:43:11.309Z"
      },
      {
        "duration": 76,
        "start_time": "2022-03-24T18:46:14.183Z"
      },
      {
        "duration": 87,
        "start_time": "2022-03-24T18:49:17.096Z"
      },
      {
        "duration": 190,
        "start_time": "2022-03-24T19:13:34.511Z"
      },
      {
        "duration": 215,
        "start_time": "2022-03-24T19:13:54.694Z"
      },
      {
        "duration": 199,
        "start_time": "2022-03-24T19:15:04.289Z"
      },
      {
        "duration": 206,
        "start_time": "2022-03-24T19:15:49.297Z"
      },
      {
        "duration": 80,
        "start_time": "2022-03-24T19:16:24.813Z"
      },
      {
        "duration": 73,
        "start_time": "2022-03-24T19:19:07.537Z"
      },
      {
        "duration": 73,
        "start_time": "2022-03-24T19:21:07.183Z"
      },
      {
        "duration": 539,
        "start_time": "2022-03-24T19:41:39.564Z"
      },
      {
        "duration": 6339,
        "start_time": "2022-03-24T19:41:40.105Z"
      },
      {
        "duration": 249,
        "start_time": "2022-03-24T19:41:46.446Z"
      },
      {
        "duration": 73,
        "start_time": "2022-03-24T19:41:46.697Z"
      },
      {
        "duration": 74,
        "start_time": "2022-03-24T19:41:46.771Z"
      },
      {
        "duration": 76,
        "start_time": "2022-03-24T19:41:46.847Z"
      },
      {
        "duration": 74,
        "start_time": "2022-03-24T19:41:46.925Z"
      },
      {
        "duration": 3,
        "start_time": "2022-03-24T19:41:47.001Z"
      },
      {
        "duration": 78,
        "start_time": "2022-03-24T19:41:47.005Z"
      },
      {
        "duration": 107,
        "start_time": "2022-03-24T19:41:47.085Z"
      },
      {
        "duration": 75,
        "start_time": "2022-03-24T19:41:47.194Z"
      },
      {
        "duration": 79,
        "start_time": "2022-03-24T19:41:47.271Z"
      },
      {
        "duration": 76,
        "start_time": "2022-03-24T19:41:47.352Z"
      },
      {
        "duration": 649,
        "start_time": "2022-03-25T08:49:04.727Z"
      },
      {
        "duration": 9140,
        "start_time": "2022-03-25T08:49:06.083Z"
      },
      {
        "duration": 270,
        "start_time": "2022-03-25T08:49:15.226Z"
      },
      {
        "duration": 4,
        "start_time": "2022-03-25T08:49:15.499Z"
      },
      {
        "duration": 73,
        "start_time": "2022-03-25T08:49:16.914Z"
      },
      {
        "duration": 120,
        "start_time": "2022-03-25T08:51:04.454Z"
      },
      {
        "duration": 181,
        "start_time": "2022-03-25T08:52:33.837Z"
      },
      {
        "duration": 83,
        "start_time": "2022-03-25T08:52:40.042Z"
      },
      {
        "duration": 88,
        "start_time": "2022-03-25T08:52:50.985Z"
      },
      {
        "duration": 615,
        "start_time": "2022-03-25T11:34:46.205Z"
      },
      {
        "duration": 11145,
        "start_time": "2022-03-25T11:34:46.822Z"
      },
      {
        "duration": 35,
        "start_time": "2022-03-25T11:34:57.969Z"
      },
      {
        "duration": 11,
        "start_time": "2022-03-25T11:34:58.006Z"
      },
      {
        "duration": 12,
        "start_time": "2022-03-25T11:34:58.019Z"
      },
      {
        "duration": 10,
        "start_time": "2022-03-25T11:34:58.032Z"
      },
      {
        "duration": 11,
        "start_time": "2022-03-25T11:34:58.043Z"
      },
      {
        "duration": 2,
        "start_time": "2022-03-25T11:34:58.055Z"
      },
      {
        "duration": 13,
        "start_time": "2022-03-25T11:34:58.058Z"
      },
      {
        "duration": 22,
        "start_time": "2022-03-25T11:34:58.072Z"
      },
      {
        "duration": 12,
        "start_time": "2022-03-25T11:34:58.095Z"
      },
      {
        "duration": 288,
        "start_time": "2022-03-25T11:34:58.109Z"
      },
      {
        "duration": 0,
        "start_time": "2022-03-25T11:34:58.399Z"
      },
      {
        "duration": 0,
        "start_time": "2022-03-25T11:34:58.400Z"
      },
      {
        "duration": 310,
        "start_time": "2022-03-25T11:35:54.038Z"
      },
      {
        "duration": 210,
        "start_time": "2022-03-25T11:38:08.343Z"
      },
      {
        "duration": 222,
        "start_time": "2022-03-25T11:38:23.660Z"
      },
      {
        "duration": 16,
        "start_time": "2022-03-25T11:39:25.157Z"
      },
      {
        "duration": 14,
        "start_time": "2022-03-25T11:39:36.931Z"
      },
      {
        "duration": 512,
        "start_time": "2022-03-25T11:43:03.454Z"
      },
      {
        "duration": 11303,
        "start_time": "2022-03-25T11:43:03.968Z"
      },
      {
        "duration": 30,
        "start_time": "2022-03-25T11:43:15.273Z"
      },
      {
        "duration": 10,
        "start_time": "2022-03-25T11:43:15.305Z"
      },
      {
        "duration": 11,
        "start_time": "2022-03-25T11:43:15.317Z"
      },
      {
        "duration": 12,
        "start_time": "2022-03-25T11:43:15.330Z"
      },
      {
        "duration": 13,
        "start_time": "2022-03-25T11:43:15.344Z"
      },
      {
        "duration": 3,
        "start_time": "2022-03-25T11:43:15.358Z"
      },
      {
        "duration": 30,
        "start_time": "2022-03-25T11:43:15.363Z"
      },
      {
        "duration": 32,
        "start_time": "2022-03-25T11:43:15.396Z"
      },
      {
        "duration": 12,
        "start_time": "2022-03-25T11:43:15.430Z"
      },
      {
        "duration": 20,
        "start_time": "2022-03-25T11:43:15.444Z"
      },
      {
        "duration": 12,
        "start_time": "2022-03-25T11:43:15.465Z"
      }
    ],
    "kernelspec": {
      "display_name": "Python 3 (ipykernel)",
      "language": "python",
      "name": "python3"
    },
    "language_info": {
      "codemirror_mode": {
        "name": "ipython",
        "version": 3
      },
      "file_extension": ".py",
      "mimetype": "text/x-python",
      "name": "python",
      "nbconvert_exporter": "python",
      "pygments_lexer": "ipython3",
      "version": "3.9.5"
    },
    "toc": {
      "base_numbering": 1,
      "nav_menu": {},
      "number_sections": false,
      "sideBar": true,
      "skip_h1_title": true,
      "title_cell": "Table of Contents",
      "title_sidebar": "Contents",
      "toc_cell": false,
      "toc_position": {},
      "toc_section_display": true,
      "toc_window_display": true
    },
    "colab": {
      "name": "12. sql final project.ipynb",
      "provenance": [],
      "collapsed_sections": []
    }
  },
  "nbformat": 4,
  "nbformat_minor": 0
}