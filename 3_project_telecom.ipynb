{
  "cells": [
    {
      "cell_type": "markdown",
      "metadata": {
        "id": "td1ws1j-cV2x"
      },
      "source": [
        "# Описание и цели проекта"
      ]
    },
    {
      "cell_type": "markdown",
      "metadata": {
        "id": "r3A3QYQ-cV2x"
      },
      "source": [
        "Компания «Мегалайн» — федеральный оператор сотовой связи. Клиентам предлагают два тарифных плана: «Смарт» и «Ультра». Чтобы скорректировать рекламный бюджет, коммерческий департамент хочет понять, какой тариф приносит больше денег.  \n",
        "**Цель:**  \n",
        "Сделать предварительный анализ тарифов на небольшой выборке клиентов. Также провести исследование \"портрета\": кто они, откуда, каким тарифом пользуются, сколько звонков и сообщений каждый отправил за 2018 год. Нужно проанализировать поведение клиентов и сделать вывод — какой тариф лучше."
      ]
    },
    {
      "cell_type": "markdown",
      "metadata": {
        "id": "9oGSWc6acV2z"
      },
      "source": [
        "## 1. Импорт библиотек. Предварительное изучение данных"
      ]
    },
    {
      "cell_type": "code",
      "execution_count": null,
      "metadata": {
        "id": "2UG9PoSQcV21"
      },
      "outputs": [],
      "source": [
        "import pandas as pd\n",
        "import numpy as np\n",
        "import matplotlib.pyplot as plt\n",
        "from math import factorial\n",
        "from scipy import stats as st\n",
        "np.warnings.filterwarnings('ignore', category=np.VisibleDeprecationWarning)"
      ]
    },
    {
      "cell_type": "markdown",
      "metadata": {
        "id": "d69b-uW8cV27"
      },
      "source": [
        "Прочитаем данные из файлов и изучем общую информацию."
      ]
    },
    {
      "cell_type": "code",
      "execution_count": null,
      "metadata": {
        "id": "EJAvgADhcV28"
      },
      "outputs": [],
      "source": [
        "def description(name):\n",
        "    display(name.head())\n",
        "    display(name.info())\n",
        "    display(name.describe())\n",
        "    print('Количество дубликатов:', name.duplicated().sum())"
      ]
    },
    {
      "cell_type": "markdown",
      "metadata": {
        "id": "Z79_pVM_cV29"
      },
      "source": [
        "1. Данные пользователей."
      ]
    },
    {
      "cell_type": "code",
      "execution_count": null,
      "metadata": {
        "scrolled": false,
        "id": "5jdLdJQMcV29",
        "outputId": "fefaa893-3d16-4abe-ba67-c0e141f31933"
      },
      "outputs": [
        {
          "data": {
            "text/html": [
              "<div>\n",
              "<style scoped>\n",
              "    .dataframe tbody tr th:only-of-type {\n",
              "        vertical-align: middle;\n",
              "    }\n",
              "\n",
              "    .dataframe tbody tr th {\n",
              "        vertical-align: top;\n",
              "    }\n",
              "\n",
              "    .dataframe thead th {\n",
              "        text-align: right;\n",
              "    }\n",
              "</style>\n",
              "<table border=\"1\" class=\"dataframe\">\n",
              "  <thead>\n",
              "    <tr style=\"text-align: right;\">\n",
              "      <th></th>\n",
              "      <th>user_id</th>\n",
              "      <th>age</th>\n",
              "      <th>churn_date</th>\n",
              "      <th>city</th>\n",
              "      <th>first_name</th>\n",
              "      <th>last_name</th>\n",
              "      <th>reg_date</th>\n",
              "      <th>tariff</th>\n",
              "    </tr>\n",
              "  </thead>\n",
              "  <tbody>\n",
              "    <tr>\n",
              "      <td>0</td>\n",
              "      <td>1000</td>\n",
              "      <td>52</td>\n",
              "      <td>NaN</td>\n",
              "      <td>Краснодар</td>\n",
              "      <td>Рафаил</td>\n",
              "      <td>Верещагин</td>\n",
              "      <td>2018-05-25</td>\n",
              "      <td>ultra</td>\n",
              "    </tr>\n",
              "    <tr>\n",
              "      <td>1</td>\n",
              "      <td>1001</td>\n",
              "      <td>41</td>\n",
              "      <td>NaN</td>\n",
              "      <td>Москва</td>\n",
              "      <td>Иван</td>\n",
              "      <td>Ежов</td>\n",
              "      <td>2018-11-01</td>\n",
              "      <td>smart</td>\n",
              "    </tr>\n",
              "    <tr>\n",
              "      <td>2</td>\n",
              "      <td>1002</td>\n",
              "      <td>59</td>\n",
              "      <td>NaN</td>\n",
              "      <td>Стерлитамак</td>\n",
              "      <td>Евгений</td>\n",
              "      <td>Абрамович</td>\n",
              "      <td>2018-06-17</td>\n",
              "      <td>smart</td>\n",
              "    </tr>\n",
              "    <tr>\n",
              "      <td>3</td>\n",
              "      <td>1003</td>\n",
              "      <td>23</td>\n",
              "      <td>NaN</td>\n",
              "      <td>Москва</td>\n",
              "      <td>Белла</td>\n",
              "      <td>Белякова</td>\n",
              "      <td>2018-08-17</td>\n",
              "      <td>ultra</td>\n",
              "    </tr>\n",
              "    <tr>\n",
              "      <td>4</td>\n",
              "      <td>1004</td>\n",
              "      <td>68</td>\n",
              "      <td>NaN</td>\n",
              "      <td>Новокузнецк</td>\n",
              "      <td>Татьяна</td>\n",
              "      <td>Авдеенко</td>\n",
              "      <td>2018-05-14</td>\n",
              "      <td>ultra</td>\n",
              "    </tr>\n",
              "  </tbody>\n",
              "</table>\n",
              "</div>"
            ],
            "text/plain": [
              "   user_id  age churn_date         city first_name  last_name    reg_date  \\\n",
              "0     1000   52        NaN    Краснодар     Рафаил  Верещагин  2018-05-25   \n",
              "1     1001   41        NaN       Москва       Иван       Ежов  2018-11-01   \n",
              "2     1002   59        NaN  Стерлитамак    Евгений  Абрамович  2018-06-17   \n",
              "3     1003   23        NaN       Москва      Белла   Белякова  2018-08-17   \n",
              "4     1004   68        NaN  Новокузнецк    Татьяна   Авдеенко  2018-05-14   \n",
              "\n",
              "  tariff  \n",
              "0  ultra  \n",
              "1  smart  \n",
              "2  smart  \n",
              "3  ultra  \n",
              "4  ultra  "
            ]
          },
          "metadata": {},
          "output_type": "display_data"
        },
        {
          "name": "stdout",
          "output_type": "stream",
          "text": [
            "<class 'pandas.core.frame.DataFrame'>\n",
            "RangeIndex: 500 entries, 0 to 499\n",
            "Data columns (total 8 columns):\n",
            "user_id       500 non-null int64\n",
            "age           500 non-null int64\n",
            "churn_date    38 non-null object\n",
            "city          500 non-null object\n",
            "first_name    500 non-null object\n",
            "last_name     500 non-null object\n",
            "reg_date      500 non-null object\n",
            "tariff        500 non-null object\n",
            "dtypes: int64(2), object(6)\n",
            "memory usage: 31.4+ KB\n"
          ]
        },
        {
          "data": {
            "text/plain": [
              "None"
            ]
          },
          "metadata": {},
          "output_type": "display_data"
        },
        {
          "data": {
            "text/html": [
              "<div>\n",
              "<style scoped>\n",
              "    .dataframe tbody tr th:only-of-type {\n",
              "        vertical-align: middle;\n",
              "    }\n",
              "\n",
              "    .dataframe tbody tr th {\n",
              "        vertical-align: top;\n",
              "    }\n",
              "\n",
              "    .dataframe thead th {\n",
              "        text-align: right;\n",
              "    }\n",
              "</style>\n",
              "<table border=\"1\" class=\"dataframe\">\n",
              "  <thead>\n",
              "    <tr style=\"text-align: right;\">\n",
              "      <th></th>\n",
              "      <th>user_id</th>\n",
              "      <th>age</th>\n",
              "    </tr>\n",
              "  </thead>\n",
              "  <tbody>\n",
              "    <tr>\n",
              "      <td>count</td>\n",
              "      <td>500.000000</td>\n",
              "      <td>500.00000</td>\n",
              "    </tr>\n",
              "    <tr>\n",
              "      <td>mean</td>\n",
              "      <td>1249.500000</td>\n",
              "      <td>46.58800</td>\n",
              "    </tr>\n",
              "    <tr>\n",
              "      <td>std</td>\n",
              "      <td>144.481833</td>\n",
              "      <td>16.66763</td>\n",
              "    </tr>\n",
              "    <tr>\n",
              "      <td>min</td>\n",
              "      <td>1000.000000</td>\n",
              "      <td>18.00000</td>\n",
              "    </tr>\n",
              "    <tr>\n",
              "      <td>25%</td>\n",
              "      <td>1124.750000</td>\n",
              "      <td>32.00000</td>\n",
              "    </tr>\n",
              "    <tr>\n",
              "      <td>50%</td>\n",
              "      <td>1249.500000</td>\n",
              "      <td>46.00000</td>\n",
              "    </tr>\n",
              "    <tr>\n",
              "      <td>75%</td>\n",
              "      <td>1374.250000</td>\n",
              "      <td>62.00000</td>\n",
              "    </tr>\n",
              "    <tr>\n",
              "      <td>max</td>\n",
              "      <td>1499.000000</td>\n",
              "      <td>75.00000</td>\n",
              "    </tr>\n",
              "  </tbody>\n",
              "</table>\n",
              "</div>"
            ],
            "text/plain": [
              "           user_id        age\n",
              "count   500.000000  500.00000\n",
              "mean   1249.500000   46.58800\n",
              "std     144.481833   16.66763\n",
              "min    1000.000000   18.00000\n",
              "25%    1124.750000   32.00000\n",
              "50%    1249.500000   46.00000\n",
              "75%    1374.250000   62.00000\n",
              "max    1499.000000   75.00000"
            ]
          },
          "metadata": {},
          "output_type": "display_data"
        },
        {
          "name": "stdout",
          "output_type": "stream",
          "text": [
            "Количество дубликатов: 0\n"
          ]
        }
      ],
      "source": [
        "user_data = pd.read_csv('/datasets/users.csv')\n",
        "description(user_data)"
      ]
    },
    {
      "cell_type": "markdown",
      "metadata": {
        "id": "RoSGm15UcV2-"
      },
      "source": [
        "В столбце \"churn_date\" есть пропуски. Они связаны с тем, что на момент выгрузки данных пользователи продолжали использовать тариф. "
      ]
    },
    {
      "cell_type": "markdown",
      "metadata": {
        "id": "smDhfooTcV2_"
      },
      "source": [
        "2. Данные о звонках"
      ]
    },
    {
      "cell_type": "code",
      "execution_count": null,
      "metadata": {
        "scrolled": false,
        "id": "dm_ZLKq0cV2_",
        "outputId": "37d35328-a189-4d1e-dd97-8fb3a4d75281"
      },
      "outputs": [
        {
          "data": {
            "text/html": [
              "<div>\n",
              "<style scoped>\n",
              "    .dataframe tbody tr th:only-of-type {\n",
              "        vertical-align: middle;\n",
              "    }\n",
              "\n",
              "    .dataframe tbody tr th {\n",
              "        vertical-align: top;\n",
              "    }\n",
              "\n",
              "    .dataframe thead th {\n",
              "        text-align: right;\n",
              "    }\n",
              "</style>\n",
              "<table border=\"1\" class=\"dataframe\">\n",
              "  <thead>\n",
              "    <tr style=\"text-align: right;\">\n",
              "      <th></th>\n",
              "      <th>id</th>\n",
              "      <th>call_date</th>\n",
              "      <th>duration</th>\n",
              "      <th>user_id</th>\n",
              "    </tr>\n",
              "  </thead>\n",
              "  <tbody>\n",
              "    <tr>\n",
              "      <td>0</td>\n",
              "      <td>1000_0</td>\n",
              "      <td>2018-07-25</td>\n",
              "      <td>0.00</td>\n",
              "      <td>1000</td>\n",
              "    </tr>\n",
              "    <tr>\n",
              "      <td>1</td>\n",
              "      <td>1000_1</td>\n",
              "      <td>2018-08-17</td>\n",
              "      <td>0.00</td>\n",
              "      <td>1000</td>\n",
              "    </tr>\n",
              "    <tr>\n",
              "      <td>2</td>\n",
              "      <td>1000_2</td>\n",
              "      <td>2018-06-11</td>\n",
              "      <td>2.85</td>\n",
              "      <td>1000</td>\n",
              "    </tr>\n",
              "    <tr>\n",
              "      <td>3</td>\n",
              "      <td>1000_3</td>\n",
              "      <td>2018-09-21</td>\n",
              "      <td>13.80</td>\n",
              "      <td>1000</td>\n",
              "    </tr>\n",
              "    <tr>\n",
              "      <td>4</td>\n",
              "      <td>1000_4</td>\n",
              "      <td>2018-12-15</td>\n",
              "      <td>5.18</td>\n",
              "      <td>1000</td>\n",
              "    </tr>\n",
              "  </tbody>\n",
              "</table>\n",
              "</div>"
            ],
            "text/plain": [
              "       id   call_date  duration  user_id\n",
              "0  1000_0  2018-07-25      0.00     1000\n",
              "1  1000_1  2018-08-17      0.00     1000\n",
              "2  1000_2  2018-06-11      2.85     1000\n",
              "3  1000_3  2018-09-21     13.80     1000\n",
              "4  1000_4  2018-12-15      5.18     1000"
            ]
          },
          "metadata": {},
          "output_type": "display_data"
        },
        {
          "name": "stdout",
          "output_type": "stream",
          "text": [
            "<class 'pandas.core.frame.DataFrame'>\n",
            "RangeIndex: 202607 entries, 0 to 202606\n",
            "Data columns (total 4 columns):\n",
            "id           202607 non-null object\n",
            "call_date    202607 non-null object\n",
            "duration     202607 non-null float64\n",
            "user_id      202607 non-null int64\n",
            "dtypes: float64(1), int64(1), object(2)\n",
            "memory usage: 6.2+ MB\n"
          ]
        },
        {
          "data": {
            "text/plain": [
              "None"
            ]
          },
          "metadata": {},
          "output_type": "display_data"
        },
        {
          "data": {
            "text/html": [
              "<div>\n",
              "<style scoped>\n",
              "    .dataframe tbody tr th:only-of-type {\n",
              "        vertical-align: middle;\n",
              "    }\n",
              "\n",
              "    .dataframe tbody tr th {\n",
              "        vertical-align: top;\n",
              "    }\n",
              "\n",
              "    .dataframe thead th {\n",
              "        text-align: right;\n",
              "    }\n",
              "</style>\n",
              "<table border=\"1\" class=\"dataframe\">\n",
              "  <thead>\n",
              "    <tr style=\"text-align: right;\">\n",
              "      <th></th>\n",
              "      <th>duration</th>\n",
              "      <th>user_id</th>\n",
              "    </tr>\n",
              "  </thead>\n",
              "  <tbody>\n",
              "    <tr>\n",
              "      <td>count</td>\n",
              "      <td>202607.000000</td>\n",
              "      <td>202607.000000</td>\n",
              "    </tr>\n",
              "    <tr>\n",
              "      <td>mean</td>\n",
              "      <td>6.755887</td>\n",
              "      <td>1253.940619</td>\n",
              "    </tr>\n",
              "    <tr>\n",
              "      <td>std</td>\n",
              "      <td>5.843365</td>\n",
              "      <td>144.722751</td>\n",
              "    </tr>\n",
              "    <tr>\n",
              "      <td>min</td>\n",
              "      <td>0.000000</td>\n",
              "      <td>1000.000000</td>\n",
              "    </tr>\n",
              "    <tr>\n",
              "      <td>25%</td>\n",
              "      <td>1.300000</td>\n",
              "      <td>1126.000000</td>\n",
              "    </tr>\n",
              "    <tr>\n",
              "      <td>50%</td>\n",
              "      <td>6.000000</td>\n",
              "      <td>1260.000000</td>\n",
              "    </tr>\n",
              "    <tr>\n",
              "      <td>75%</td>\n",
              "      <td>10.700000</td>\n",
              "      <td>1379.000000</td>\n",
              "    </tr>\n",
              "    <tr>\n",
              "      <td>max</td>\n",
              "      <td>38.000000</td>\n",
              "      <td>1499.000000</td>\n",
              "    </tr>\n",
              "  </tbody>\n",
              "</table>\n",
              "</div>"
            ],
            "text/plain": [
              "            duration        user_id\n",
              "count  202607.000000  202607.000000\n",
              "mean        6.755887    1253.940619\n",
              "std         5.843365     144.722751\n",
              "min         0.000000    1000.000000\n",
              "25%         1.300000    1126.000000\n",
              "50%         6.000000    1260.000000\n",
              "75%        10.700000    1379.000000\n",
              "max        38.000000    1499.000000"
            ]
          },
          "metadata": {},
          "output_type": "display_data"
        },
        {
          "name": "stdout",
          "output_type": "stream",
          "text": [
            "Количество дубликатов: 0\n"
          ]
        }
      ],
      "source": [
        "calls_data = pd.read_csv('/datasets/calls.csv')\n",
        "description(calls_data)"
      ]
    },
    {
      "cell_type": "markdown",
      "metadata": {
        "id": "ixXmqJ4_cV3A"
      },
      "source": [
        "3. Данные об отправленных сообщениях"
      ]
    },
    {
      "cell_type": "code",
      "execution_count": null,
      "metadata": {
        "id": "zjGVZEPXcV3B",
        "outputId": "ae36c750-75ec-4457-cb46-7b1a83a546ac"
      },
      "outputs": [
        {
          "data": {
            "text/html": [
              "<div>\n",
              "<style scoped>\n",
              "    .dataframe tbody tr th:only-of-type {\n",
              "        vertical-align: middle;\n",
              "    }\n",
              "\n",
              "    .dataframe tbody tr th {\n",
              "        vertical-align: top;\n",
              "    }\n",
              "\n",
              "    .dataframe thead th {\n",
              "        text-align: right;\n",
              "    }\n",
              "</style>\n",
              "<table border=\"1\" class=\"dataframe\">\n",
              "  <thead>\n",
              "    <tr style=\"text-align: right;\">\n",
              "      <th></th>\n",
              "      <th>id</th>\n",
              "      <th>message_date</th>\n",
              "      <th>user_id</th>\n",
              "    </tr>\n",
              "  </thead>\n",
              "  <tbody>\n",
              "    <tr>\n",
              "      <td>0</td>\n",
              "      <td>1000_0</td>\n",
              "      <td>2018-06-27</td>\n",
              "      <td>1000</td>\n",
              "    </tr>\n",
              "    <tr>\n",
              "      <td>1</td>\n",
              "      <td>1000_1</td>\n",
              "      <td>2018-10-08</td>\n",
              "      <td>1000</td>\n",
              "    </tr>\n",
              "    <tr>\n",
              "      <td>2</td>\n",
              "      <td>1000_2</td>\n",
              "      <td>2018-08-04</td>\n",
              "      <td>1000</td>\n",
              "    </tr>\n",
              "    <tr>\n",
              "      <td>3</td>\n",
              "      <td>1000_3</td>\n",
              "      <td>2018-06-16</td>\n",
              "      <td>1000</td>\n",
              "    </tr>\n",
              "    <tr>\n",
              "      <td>4</td>\n",
              "      <td>1000_4</td>\n",
              "      <td>2018-12-05</td>\n",
              "      <td>1000</td>\n",
              "    </tr>\n",
              "  </tbody>\n",
              "</table>\n",
              "</div>"
            ],
            "text/plain": [
              "       id message_date  user_id\n",
              "0  1000_0   2018-06-27     1000\n",
              "1  1000_1   2018-10-08     1000\n",
              "2  1000_2   2018-08-04     1000\n",
              "3  1000_3   2018-06-16     1000\n",
              "4  1000_4   2018-12-05     1000"
            ]
          },
          "metadata": {},
          "output_type": "display_data"
        },
        {
          "name": "stdout",
          "output_type": "stream",
          "text": [
            "<class 'pandas.core.frame.DataFrame'>\n",
            "RangeIndex: 123036 entries, 0 to 123035\n",
            "Data columns (total 3 columns):\n",
            "id              123036 non-null object\n",
            "message_date    123036 non-null object\n",
            "user_id         123036 non-null int64\n",
            "dtypes: int64(1), object(2)\n",
            "memory usage: 2.8+ MB\n"
          ]
        },
        {
          "data": {
            "text/plain": [
              "None"
            ]
          },
          "metadata": {},
          "output_type": "display_data"
        },
        {
          "data": {
            "text/html": [
              "<div>\n",
              "<style scoped>\n",
              "    .dataframe tbody tr th:only-of-type {\n",
              "        vertical-align: middle;\n",
              "    }\n",
              "\n",
              "    .dataframe tbody tr th {\n",
              "        vertical-align: top;\n",
              "    }\n",
              "\n",
              "    .dataframe thead th {\n",
              "        text-align: right;\n",
              "    }\n",
              "</style>\n",
              "<table border=\"1\" class=\"dataframe\">\n",
              "  <thead>\n",
              "    <tr style=\"text-align: right;\">\n",
              "      <th></th>\n",
              "      <th>user_id</th>\n",
              "    </tr>\n",
              "  </thead>\n",
              "  <tbody>\n",
              "    <tr>\n",
              "      <td>count</td>\n",
              "      <td>123036.000000</td>\n",
              "    </tr>\n",
              "    <tr>\n",
              "      <td>mean</td>\n",
              "      <td>1256.989410</td>\n",
              "    </tr>\n",
              "    <tr>\n",
              "      <td>std</td>\n",
              "      <td>143.523967</td>\n",
              "    </tr>\n",
              "    <tr>\n",
              "      <td>min</td>\n",
              "      <td>1000.000000</td>\n",
              "    </tr>\n",
              "    <tr>\n",
              "      <td>25%</td>\n",
              "      <td>1134.000000</td>\n",
              "    </tr>\n",
              "    <tr>\n",
              "      <td>50%</td>\n",
              "      <td>1271.000000</td>\n",
              "    </tr>\n",
              "    <tr>\n",
              "      <td>75%</td>\n",
              "      <td>1381.000000</td>\n",
              "    </tr>\n",
              "    <tr>\n",
              "      <td>max</td>\n",
              "      <td>1499.000000</td>\n",
              "    </tr>\n",
              "  </tbody>\n",
              "</table>\n",
              "</div>"
            ],
            "text/plain": [
              "             user_id\n",
              "count  123036.000000\n",
              "mean     1256.989410\n",
              "std       143.523967\n",
              "min      1000.000000\n",
              "25%      1134.000000\n",
              "50%      1271.000000\n",
              "75%      1381.000000\n",
              "max      1499.000000"
            ]
          },
          "metadata": {},
          "output_type": "display_data"
        },
        {
          "name": "stdout",
          "output_type": "stream",
          "text": [
            "Количество дубликатов: 0\n"
          ]
        }
      ],
      "source": [
        "messages_data = pd.read_csv('/datasets/messages.csv')\n",
        "description(messages_data)"
      ]
    },
    {
      "cell_type": "markdown",
      "metadata": {
        "id": "an65bf62cV3B"
      },
      "source": [
        "4. Данные об интернет-сессиях"
      ]
    },
    {
      "cell_type": "code",
      "execution_count": null,
      "metadata": {
        "id": "Q_bOI-SwcV3C",
        "outputId": "061a3bc5-0039-41aa-a19c-435c2539f1bb"
      },
      "outputs": [
        {
          "data": {
            "text/html": [
              "<div>\n",
              "<style scoped>\n",
              "    .dataframe tbody tr th:only-of-type {\n",
              "        vertical-align: middle;\n",
              "    }\n",
              "\n",
              "    .dataframe tbody tr th {\n",
              "        vertical-align: top;\n",
              "    }\n",
              "\n",
              "    .dataframe thead th {\n",
              "        text-align: right;\n",
              "    }\n",
              "</style>\n",
              "<table border=\"1\" class=\"dataframe\">\n",
              "  <thead>\n",
              "    <tr style=\"text-align: right;\">\n",
              "      <th></th>\n",
              "      <th>Unnamed: 0</th>\n",
              "      <th>id</th>\n",
              "      <th>mb_used</th>\n",
              "      <th>session_date</th>\n",
              "      <th>user_id</th>\n",
              "    </tr>\n",
              "  </thead>\n",
              "  <tbody>\n",
              "    <tr>\n",
              "      <td>0</td>\n",
              "      <td>0</td>\n",
              "      <td>1000_0</td>\n",
              "      <td>112.95</td>\n",
              "      <td>2018-11-25</td>\n",
              "      <td>1000</td>\n",
              "    </tr>\n",
              "    <tr>\n",
              "      <td>1</td>\n",
              "      <td>1</td>\n",
              "      <td>1000_1</td>\n",
              "      <td>1052.81</td>\n",
              "      <td>2018-09-07</td>\n",
              "      <td>1000</td>\n",
              "    </tr>\n",
              "    <tr>\n",
              "      <td>2</td>\n",
              "      <td>2</td>\n",
              "      <td>1000_2</td>\n",
              "      <td>1197.26</td>\n",
              "      <td>2018-06-25</td>\n",
              "      <td>1000</td>\n",
              "    </tr>\n",
              "    <tr>\n",
              "      <td>3</td>\n",
              "      <td>3</td>\n",
              "      <td>1000_3</td>\n",
              "      <td>550.27</td>\n",
              "      <td>2018-08-22</td>\n",
              "      <td>1000</td>\n",
              "    </tr>\n",
              "    <tr>\n",
              "      <td>4</td>\n",
              "      <td>4</td>\n",
              "      <td>1000_4</td>\n",
              "      <td>302.56</td>\n",
              "      <td>2018-09-24</td>\n",
              "      <td>1000</td>\n",
              "    </tr>\n",
              "  </tbody>\n",
              "</table>\n",
              "</div>"
            ],
            "text/plain": [
              "   Unnamed: 0      id  mb_used session_date  user_id\n",
              "0           0  1000_0   112.95   2018-11-25     1000\n",
              "1           1  1000_1  1052.81   2018-09-07     1000\n",
              "2           2  1000_2  1197.26   2018-06-25     1000\n",
              "3           3  1000_3   550.27   2018-08-22     1000\n",
              "4           4  1000_4   302.56   2018-09-24     1000"
            ]
          },
          "metadata": {},
          "output_type": "display_data"
        },
        {
          "name": "stdout",
          "output_type": "stream",
          "text": [
            "<class 'pandas.core.frame.DataFrame'>\n",
            "RangeIndex: 149396 entries, 0 to 149395\n",
            "Data columns (total 5 columns):\n",
            "Unnamed: 0      149396 non-null int64\n",
            "id              149396 non-null object\n",
            "mb_used         149396 non-null float64\n",
            "session_date    149396 non-null object\n",
            "user_id         149396 non-null int64\n",
            "dtypes: float64(1), int64(2), object(2)\n",
            "memory usage: 5.7+ MB\n"
          ]
        },
        {
          "data": {
            "text/plain": [
              "None"
            ]
          },
          "metadata": {},
          "output_type": "display_data"
        },
        {
          "data": {
            "text/html": [
              "<div>\n",
              "<style scoped>\n",
              "    .dataframe tbody tr th:only-of-type {\n",
              "        vertical-align: middle;\n",
              "    }\n",
              "\n",
              "    .dataframe tbody tr th {\n",
              "        vertical-align: top;\n",
              "    }\n",
              "\n",
              "    .dataframe thead th {\n",
              "        text-align: right;\n",
              "    }\n",
              "</style>\n",
              "<table border=\"1\" class=\"dataframe\">\n",
              "  <thead>\n",
              "    <tr style=\"text-align: right;\">\n",
              "      <th></th>\n",
              "      <th>Unnamed: 0</th>\n",
              "      <th>mb_used</th>\n",
              "      <th>user_id</th>\n",
              "    </tr>\n",
              "  </thead>\n",
              "  <tbody>\n",
              "    <tr>\n",
              "      <td>count</td>\n",
              "      <td>149396.000000</td>\n",
              "      <td>149396.000000</td>\n",
              "      <td>149396.000000</td>\n",
              "    </tr>\n",
              "    <tr>\n",
              "      <td>mean</td>\n",
              "      <td>74697.500000</td>\n",
              "      <td>370.192426</td>\n",
              "      <td>1252.099842</td>\n",
              "    </tr>\n",
              "    <tr>\n",
              "      <td>std</td>\n",
              "      <td>43127.054745</td>\n",
              "      <td>278.300951</td>\n",
              "      <td>144.050823</td>\n",
              "    </tr>\n",
              "    <tr>\n",
              "      <td>min</td>\n",
              "      <td>0.000000</td>\n",
              "      <td>0.000000</td>\n",
              "      <td>1000.000000</td>\n",
              "    </tr>\n",
              "    <tr>\n",
              "      <td>25%</td>\n",
              "      <td>37348.750000</td>\n",
              "      <td>138.187500</td>\n",
              "      <td>1130.000000</td>\n",
              "    </tr>\n",
              "    <tr>\n",
              "      <td>50%</td>\n",
              "      <td>74697.500000</td>\n",
              "      <td>348.015000</td>\n",
              "      <td>1251.000000</td>\n",
              "    </tr>\n",
              "    <tr>\n",
              "      <td>75%</td>\n",
              "      <td>112046.250000</td>\n",
              "      <td>559.552500</td>\n",
              "      <td>1380.000000</td>\n",
              "    </tr>\n",
              "    <tr>\n",
              "      <td>max</td>\n",
              "      <td>149395.000000</td>\n",
              "      <td>1724.830000</td>\n",
              "      <td>1499.000000</td>\n",
              "    </tr>\n",
              "  </tbody>\n",
              "</table>\n",
              "</div>"
            ],
            "text/plain": [
              "          Unnamed: 0        mb_used        user_id\n",
              "count  149396.000000  149396.000000  149396.000000\n",
              "mean    74697.500000     370.192426    1252.099842\n",
              "std     43127.054745     278.300951     144.050823\n",
              "min         0.000000       0.000000    1000.000000\n",
              "25%     37348.750000     138.187500    1130.000000\n",
              "50%     74697.500000     348.015000    1251.000000\n",
              "75%    112046.250000     559.552500    1380.000000\n",
              "max    149395.000000    1724.830000    1499.000000"
            ]
          },
          "metadata": {},
          "output_type": "display_data"
        },
        {
          "name": "stdout",
          "output_type": "stream",
          "text": [
            "Количество дубликатов: 0\n"
          ]
        }
      ],
      "source": [
        "internet_data = pd.read_csv('/datasets/internet.csv')\n",
        "description(internet_data)"
      ]
    },
    {
      "cell_type": "markdown",
      "metadata": {
        "id": "y5x6B2gkcV3D"
      },
      "source": [
        "В данных об интернет-сессиях столбец с именем \"Unnamed: 0\" содержит числа от 0 до 149395 полностью дублируя индексы датафрейма. Вероятно это связано с технической ошибкой выгрузки данных. Для дальнейшей работы нужно будет избавиться от этого столбца, чтобы исключить ошибки в дальнейшем."
      ]
    },
    {
      "cell_type": "markdown",
      "metadata": {
        "id": "kT540ye5cV3D"
      },
      "source": [
        "5. Данные о тарифах"
      ]
    },
    {
      "cell_type": "code",
      "execution_count": null,
      "metadata": {
        "id": "1Wn7Mo8gcV3E",
        "outputId": "e322e473-ecc2-4a3d-9792-d6ac0d148e6d"
      },
      "outputs": [
        {
          "data": {
            "text/html": [
              "<div>\n",
              "<style scoped>\n",
              "    .dataframe tbody tr th:only-of-type {\n",
              "        vertical-align: middle;\n",
              "    }\n",
              "\n",
              "    .dataframe tbody tr th {\n",
              "        vertical-align: top;\n",
              "    }\n",
              "\n",
              "    .dataframe thead th {\n",
              "        text-align: right;\n",
              "    }\n",
              "</style>\n",
              "<table border=\"1\" class=\"dataframe\">\n",
              "  <thead>\n",
              "    <tr style=\"text-align: right;\">\n",
              "      <th></th>\n",
              "      <th>messages_included</th>\n",
              "      <th>mb_per_month_included</th>\n",
              "      <th>minutes_included</th>\n",
              "      <th>rub_monthly_fee</th>\n",
              "      <th>rub_per_gb</th>\n",
              "      <th>rub_per_message</th>\n",
              "      <th>rub_per_minute</th>\n",
              "      <th>tariff_name</th>\n",
              "    </tr>\n",
              "  </thead>\n",
              "  <tbody>\n",
              "    <tr>\n",
              "      <td>0</td>\n",
              "      <td>50</td>\n",
              "      <td>15360</td>\n",
              "      <td>500</td>\n",
              "      <td>550</td>\n",
              "      <td>200</td>\n",
              "      <td>3</td>\n",
              "      <td>3</td>\n",
              "      <td>smart</td>\n",
              "    </tr>\n",
              "    <tr>\n",
              "      <td>1</td>\n",
              "      <td>1000</td>\n",
              "      <td>30720</td>\n",
              "      <td>3000</td>\n",
              "      <td>1950</td>\n",
              "      <td>150</td>\n",
              "      <td>1</td>\n",
              "      <td>1</td>\n",
              "      <td>ultra</td>\n",
              "    </tr>\n",
              "  </tbody>\n",
              "</table>\n",
              "</div>"
            ],
            "text/plain": [
              "   messages_included  mb_per_month_included  minutes_included  \\\n",
              "0                 50                  15360               500   \n",
              "1               1000                  30720              3000   \n",
              "\n",
              "   rub_monthly_fee  rub_per_gb  rub_per_message  rub_per_minute tariff_name  \n",
              "0              550         200                3               3       smart  \n",
              "1             1950         150                1               1       ultra  "
            ]
          },
          "metadata": {},
          "output_type": "display_data"
        },
        {
          "name": "stdout",
          "output_type": "stream",
          "text": [
            "<class 'pandas.core.frame.DataFrame'>\n",
            "RangeIndex: 2 entries, 0 to 1\n",
            "Data columns (total 8 columns):\n",
            "messages_included        2 non-null int64\n",
            "mb_per_month_included    2 non-null int64\n",
            "minutes_included         2 non-null int64\n",
            "rub_monthly_fee          2 non-null int64\n",
            "rub_per_gb               2 non-null int64\n",
            "rub_per_message          2 non-null int64\n",
            "rub_per_minute           2 non-null int64\n",
            "tariff_name              2 non-null object\n",
            "dtypes: int64(7), object(1)\n",
            "memory usage: 256.0+ bytes\n"
          ]
        },
        {
          "data": {
            "text/plain": [
              "None"
            ]
          },
          "metadata": {},
          "output_type": "display_data"
        },
        {
          "data": {
            "text/html": [
              "<div>\n",
              "<style scoped>\n",
              "    .dataframe tbody tr th:only-of-type {\n",
              "        vertical-align: middle;\n",
              "    }\n",
              "\n",
              "    .dataframe tbody tr th {\n",
              "        vertical-align: top;\n",
              "    }\n",
              "\n",
              "    .dataframe thead th {\n",
              "        text-align: right;\n",
              "    }\n",
              "</style>\n",
              "<table border=\"1\" class=\"dataframe\">\n",
              "  <thead>\n",
              "    <tr style=\"text-align: right;\">\n",
              "      <th></th>\n",
              "      <th>messages_included</th>\n",
              "      <th>mb_per_month_included</th>\n",
              "      <th>minutes_included</th>\n",
              "      <th>rub_monthly_fee</th>\n",
              "      <th>rub_per_gb</th>\n",
              "      <th>rub_per_message</th>\n",
              "      <th>rub_per_minute</th>\n",
              "    </tr>\n",
              "  </thead>\n",
              "  <tbody>\n",
              "    <tr>\n",
              "      <td>count</td>\n",
              "      <td>2.000000</td>\n",
              "      <td>2.000000</td>\n",
              "      <td>2.000000</td>\n",
              "      <td>2.000000</td>\n",
              "      <td>2.000000</td>\n",
              "      <td>2.000000</td>\n",
              "      <td>2.000000</td>\n",
              "    </tr>\n",
              "    <tr>\n",
              "      <td>mean</td>\n",
              "      <td>525.000000</td>\n",
              "      <td>23040.000000</td>\n",
              "      <td>1750.000000</td>\n",
              "      <td>1250.000000</td>\n",
              "      <td>175.000000</td>\n",
              "      <td>2.000000</td>\n",
              "      <td>2.000000</td>\n",
              "    </tr>\n",
              "    <tr>\n",
              "      <td>std</td>\n",
              "      <td>671.751442</td>\n",
              "      <td>10861.160159</td>\n",
              "      <td>1767.766953</td>\n",
              "      <td>989.949494</td>\n",
              "      <td>35.355339</td>\n",
              "      <td>1.414214</td>\n",
              "      <td>1.414214</td>\n",
              "    </tr>\n",
              "    <tr>\n",
              "      <td>min</td>\n",
              "      <td>50.000000</td>\n",
              "      <td>15360.000000</td>\n",
              "      <td>500.000000</td>\n",
              "      <td>550.000000</td>\n",
              "      <td>150.000000</td>\n",
              "      <td>1.000000</td>\n",
              "      <td>1.000000</td>\n",
              "    </tr>\n",
              "    <tr>\n",
              "      <td>25%</td>\n",
              "      <td>287.500000</td>\n",
              "      <td>19200.000000</td>\n",
              "      <td>1125.000000</td>\n",
              "      <td>900.000000</td>\n",
              "      <td>162.500000</td>\n",
              "      <td>1.500000</td>\n",
              "      <td>1.500000</td>\n",
              "    </tr>\n",
              "    <tr>\n",
              "      <td>50%</td>\n",
              "      <td>525.000000</td>\n",
              "      <td>23040.000000</td>\n",
              "      <td>1750.000000</td>\n",
              "      <td>1250.000000</td>\n",
              "      <td>175.000000</td>\n",
              "      <td>2.000000</td>\n",
              "      <td>2.000000</td>\n",
              "    </tr>\n",
              "    <tr>\n",
              "      <td>75%</td>\n",
              "      <td>762.500000</td>\n",
              "      <td>26880.000000</td>\n",
              "      <td>2375.000000</td>\n",
              "      <td>1600.000000</td>\n",
              "      <td>187.500000</td>\n",
              "      <td>2.500000</td>\n",
              "      <td>2.500000</td>\n",
              "    </tr>\n",
              "    <tr>\n",
              "      <td>max</td>\n",
              "      <td>1000.000000</td>\n",
              "      <td>30720.000000</td>\n",
              "      <td>3000.000000</td>\n",
              "      <td>1950.000000</td>\n",
              "      <td>200.000000</td>\n",
              "      <td>3.000000</td>\n",
              "      <td>3.000000</td>\n",
              "    </tr>\n",
              "  </tbody>\n",
              "</table>\n",
              "</div>"
            ],
            "text/plain": [
              "       messages_included  mb_per_month_included  minutes_included  \\\n",
              "count           2.000000               2.000000          2.000000   \n",
              "mean          525.000000           23040.000000       1750.000000   \n",
              "std           671.751442           10861.160159       1767.766953   \n",
              "min            50.000000           15360.000000        500.000000   \n",
              "25%           287.500000           19200.000000       1125.000000   \n",
              "50%           525.000000           23040.000000       1750.000000   \n",
              "75%           762.500000           26880.000000       2375.000000   \n",
              "max          1000.000000           30720.000000       3000.000000   \n",
              "\n",
              "       rub_monthly_fee  rub_per_gb  rub_per_message  rub_per_minute  \n",
              "count         2.000000    2.000000         2.000000        2.000000  \n",
              "mean       1250.000000  175.000000         2.000000        2.000000  \n",
              "std         989.949494   35.355339         1.414214        1.414214  \n",
              "min         550.000000  150.000000         1.000000        1.000000  \n",
              "25%         900.000000  162.500000         1.500000        1.500000  \n",
              "50%        1250.000000  175.000000         2.000000        2.000000  \n",
              "75%        1600.000000  187.500000         2.500000        2.500000  \n",
              "max        1950.000000  200.000000         3.000000        3.000000  "
            ]
          },
          "metadata": {},
          "output_type": "display_data"
        },
        {
          "name": "stdout",
          "output_type": "stream",
          "text": [
            "Количество дубликатов: 0\n"
          ]
        }
      ],
      "source": [
        "tariffs_data = pd.read_csv('/datasets/tariffs.csv')\n",
        "description(tariffs_data)"
      ]
    },
    {
      "cell_type": "markdown",
      "metadata": {
        "id": "9dZDazh7cV3E"
      },
      "source": [
        "Поменяем название столбца tariff_name на tariff, как в таблице user_data для дальнейшего объединения."
      ]
    },
    {
      "cell_type": "code",
      "execution_count": null,
      "metadata": {
        "id": "LRS9rau2cV3F"
      },
      "outputs": [],
      "source": [
        "tariffs_data.rename(columns={'tariff_name': 'tariff'}, inplace=True)"
      ]
    },
    {
      "cell_type": "markdown",
      "metadata": {
        "id": "BYc-v6XkcV3G"
      },
      "source": [
        "### Вывод"
      ]
    },
    {
      "cell_type": "markdown",
      "metadata": {
        "id": "dG7x4MK8cV3G"
      },
      "source": [
        "Были загружены и получена первичная сводная информация по предоставленным данным. Дубликатов в данных не обнаружено. Все числа имеют тип данных float или int, что позволяет проводить с ними математические операции. Для дальнейшего исследователького анализа приведем дату к типу данных datetime, удалим дублирующие столбцы. Также округлим минуты и мегабайты в соответствии с тарифом и проведем необходимые расчеты с определением помесячной выручки с каждого пользователя. "
      ]
    },
    {
      "cell_type": "markdown",
      "metadata": {
        "id": "bzq6l8TdcV3G"
      },
      "source": [
        "## 2. Предобработка данных"
      ]
    },
    {
      "cell_type": "markdown",
      "metadata": {
        "id": "hzW7kVIhcV3H"
      },
      "source": [
        "Удалим дублирующий столбец Unnamed: 0 в датафрейме internet_data"
      ]
    },
    {
      "cell_type": "code",
      "execution_count": null,
      "metadata": {
        "id": "CTcHu-wecV3H"
      },
      "outputs": [],
      "source": [
        "internet_data.drop('Unnamed: 0', axis=1, inplace=True)"
      ]
    },
    {
      "cell_type": "markdown",
      "metadata": {
        "id": "z5TTcwjNcV3I"
      },
      "source": [
        "У нас в каждом наборе данных дата имеет тип object. Поменяем на нужный формат даты datetime."
      ]
    },
    {
      "cell_type": "code",
      "execution_count": null,
      "metadata": {
        "id": "V8JliPlAcV3I"
      },
      "outputs": [],
      "source": [
        "user_data['reg_date'] = pd.to_datetime(user_data['reg_date'], yearfirst=True)\n",
        "calls_data['call_date'] = pd.to_datetime(calls_data['call_date'], yearfirst=True)\n",
        "messages_data['message_date'] = pd.to_datetime(messages_data['message_date'], yearfirst=True)\n",
        "internet_data['session_date'] = pd.to_datetime(internet_data['session_date'], yearfirst=True)"
      ]
    },
    {
      "cell_type": "code",
      "execution_count": null,
      "metadata": {
        "id": "bMAk62VWcV3I",
        "outputId": "8ba81022-ce5d-4867-a498-9899d48fbd22"
      },
      "outputs": [
        {
          "data": {
            "text/html": [
              "<div>\n",
              "<style scoped>\n",
              "    .dataframe tbody tr th:only-of-type {\n",
              "        vertical-align: middle;\n",
              "    }\n",
              "\n",
              "    .dataframe tbody tr th {\n",
              "        vertical-align: top;\n",
              "    }\n",
              "\n",
              "    .dataframe thead th {\n",
              "        text-align: right;\n",
              "    }\n",
              "</style>\n",
              "<table border=\"1\" class=\"dataframe\">\n",
              "  <thead>\n",
              "    <tr style=\"text-align: right;\">\n",
              "      <th></th>\n",
              "      <th>id</th>\n",
              "      <th>call_date</th>\n",
              "      <th>duration</th>\n",
              "      <th>user_id</th>\n",
              "    </tr>\n",
              "  </thead>\n",
              "  <tbody>\n",
              "    <tr>\n",
              "      <td>0</td>\n",
              "      <td>1000_0</td>\n",
              "      <td>2018-07-25</td>\n",
              "      <td>0.00</td>\n",
              "      <td>1000</td>\n",
              "    </tr>\n",
              "    <tr>\n",
              "      <td>1</td>\n",
              "      <td>1000_1</td>\n",
              "      <td>2018-08-17</td>\n",
              "      <td>0.00</td>\n",
              "      <td>1000</td>\n",
              "    </tr>\n",
              "    <tr>\n",
              "      <td>2</td>\n",
              "      <td>1000_2</td>\n",
              "      <td>2018-06-11</td>\n",
              "      <td>2.85</td>\n",
              "      <td>1000</td>\n",
              "    </tr>\n",
              "    <tr>\n",
              "      <td>3</td>\n",
              "      <td>1000_3</td>\n",
              "      <td>2018-09-21</td>\n",
              "      <td>13.80</td>\n",
              "      <td>1000</td>\n",
              "    </tr>\n",
              "    <tr>\n",
              "      <td>4</td>\n",
              "      <td>1000_4</td>\n",
              "      <td>2018-12-15</td>\n",
              "      <td>5.18</td>\n",
              "      <td>1000</td>\n",
              "    </tr>\n",
              "  </tbody>\n",
              "</table>\n",
              "</div>"
            ],
            "text/plain": [
              "       id  call_date  duration  user_id\n",
              "0  1000_0 2018-07-25      0.00     1000\n",
              "1  1000_1 2018-08-17      0.00     1000\n",
              "2  1000_2 2018-06-11      2.85     1000\n",
              "3  1000_3 2018-09-21     13.80     1000\n",
              "4  1000_4 2018-12-15      5.18     1000"
            ]
          },
          "execution_count": 11,
          "metadata": {},
          "output_type": "execute_result"
        }
      ],
      "source": [
        "calls_data.head()"
      ]
    },
    {
      "cell_type": "code",
      "execution_count": null,
      "metadata": {
        "id": "4hZQr5OecV3J"
      },
      "outputs": [],
      "source": [
        "def rounding(x):\n",
        "    if x > round(x):\n",
        "        return round(x+1)\n",
        "    return round(x)"
      ]
    },
    {
      "cell_type": "markdown",
      "metadata": {
        "id": "6jm0i48JcV3K"
      },
      "source": [
        "Добавим в calls_data новый столбец с длительностью разговора округленного до минут в соответствии с тарифом."
      ]
    },
    {
      "cell_type": "code",
      "execution_count": null,
      "metadata": {
        "id": "u1g0pbT3cV3K"
      },
      "outputs": [],
      "source": [
        "calls_data['duration_tariff'] = calls_data['duration'].apply(rounding)"
      ]
    },
    {
      "cell_type": "markdown",
      "metadata": {
        "id": "3x8ZcdnEcV3L"
      },
      "source": [
        "Добавим новый столбец, куда запишем месяц в котором была какая-либо операция по тарифу."
      ]
    },
    {
      "cell_type": "code",
      "execution_count": null,
      "metadata": {
        "id": "mvnc4oClcV3L"
      },
      "outputs": [],
      "source": [
        "calls_data['month'] = calls_data['call_date'].dt.month\n",
        "messages_data['month'] = messages_data['message_date'].dt.month\n",
        "internet_data['month'] = internet_data['session_date'].dt.month"
      ]
    },
    {
      "cell_type": "markdown",
      "metadata": {
        "id": "226sdxBRcV3M"
      },
      "source": [
        "Рассчитаем количество звонков по каждому месяцу для всех пользователей."
      ]
    },
    {
      "cell_type": "code",
      "execution_count": null,
      "metadata": {
        "scrolled": false,
        "id": "ZD5kYxXxcV3M",
        "outputId": "a8fcc776-3f09-4bde-e7bb-d32b2989670f"
      },
      "outputs": [
        {
          "data": {
            "text/html": [
              "<div>\n",
              "<style scoped>\n",
              "    .dataframe tbody tr th:only-of-type {\n",
              "        vertical-align: middle;\n",
              "    }\n",
              "\n",
              "    .dataframe tbody tr th {\n",
              "        vertical-align: top;\n",
              "    }\n",
              "\n",
              "    .dataframe thead th {\n",
              "        text-align: right;\n",
              "    }\n",
              "</style>\n",
              "<table border=\"1\" class=\"dataframe\">\n",
              "  <thead>\n",
              "    <tr style=\"text-align: right;\">\n",
              "      <th></th>\n",
              "      <th>month</th>\n",
              "      <th>user_id</th>\n",
              "      <th>count</th>\n",
              "      <th>sum</th>\n",
              "    </tr>\n",
              "  </thead>\n",
              "  <tbody>\n",
              "    <tr>\n",
              "      <td>0</td>\n",
              "      <td>1</td>\n",
              "      <td>1005</td>\n",
              "      <td>15</td>\n",
              "      <td>95</td>\n",
              "    </tr>\n",
              "    <tr>\n",
              "      <td>1</td>\n",
              "      <td>1</td>\n",
              "      <td>1032</td>\n",
              "      <td>61</td>\n",
              "      <td>380</td>\n",
              "    </tr>\n",
              "    <tr>\n",
              "      <td>2</td>\n",
              "      <td>1</td>\n",
              "      <td>1045</td>\n",
              "      <td>1</td>\n",
              "      <td>9</td>\n",
              "    </tr>\n",
              "    <tr>\n",
              "      <td>3</td>\n",
              "      <td>1</td>\n",
              "      <td>1055</td>\n",
              "      <td>64</td>\n",
              "      <td>551</td>\n",
              "    </tr>\n",
              "    <tr>\n",
              "      <td>4</td>\n",
              "      <td>1</td>\n",
              "      <td>1071</td>\n",
              "      <td>24</td>\n",
              "      <td>194</td>\n",
              "    </tr>\n",
              "  </tbody>\n",
              "</table>\n",
              "</div>"
            ],
            "text/plain": [
              "   month  user_id  count  sum\n",
              "0      1     1005     15   95\n",
              "1      1     1032     61  380\n",
              "2      1     1045      1    9\n",
              "3      1     1055     64  551\n",
              "4      1     1071     24  194"
            ]
          },
          "execution_count": 15,
          "metadata": {},
          "output_type": "execute_result"
        }
      ],
      "source": [
        "calls_data_group = calls_data.groupby(['month', 'user_id'])['duration_tariff']\\\n",
        ".agg(['count', 'sum'])\\\n",
        ".reset_index()\n",
        "calls_data_group.head()"
      ]
    },
    {
      "cell_type": "code",
      "execution_count": null,
      "metadata": {
        "id": "DGJAQ0ZbcV3N",
        "outputId": "d631b530-6a1b-4341-ce71-1783a5e4f3ef"
      },
      "outputs": [
        {
          "data": {
            "text/plain": [
              "month      0\n",
              "user_id    0\n",
              "count      0\n",
              "sum        0\n",
              "dtype: int64"
            ]
          },
          "execution_count": 16,
          "metadata": {},
          "output_type": "execute_result"
        }
      ],
      "source": [
        "calls_data_group.isna().sum()"
      ]
    },
    {
      "cell_type": "markdown",
      "metadata": {
        "id": "aVzSMuOxcV3N"
      },
      "source": [
        "Изменим названия столбцов в сводной таблице."
      ]
    },
    {
      "cell_type": "code",
      "execution_count": null,
      "metadata": {
        "id": "DOF2vg2bcV3O",
        "outputId": "8f15e640-f3c9-426b-dbdd-a64b8bbda86c"
      },
      "outputs": [
        {
          "data": {
            "text/html": [
              "<div>\n",
              "<style scoped>\n",
              "    .dataframe tbody tr th:only-of-type {\n",
              "        vertical-align: middle;\n",
              "    }\n",
              "\n",
              "    .dataframe tbody tr th {\n",
              "        vertical-align: top;\n",
              "    }\n",
              "\n",
              "    .dataframe thead th {\n",
              "        text-align: right;\n",
              "    }\n",
              "</style>\n",
              "<table border=\"1\" class=\"dataframe\">\n",
              "  <thead>\n",
              "    <tr style=\"text-align: right;\">\n",
              "      <th></th>\n",
              "      <th>month</th>\n",
              "      <th>user_id</th>\n",
              "      <th>count_calls</th>\n",
              "      <th>sum_duration_min</th>\n",
              "    </tr>\n",
              "  </thead>\n",
              "  <tbody>\n",
              "    <tr>\n",
              "      <td>0</td>\n",
              "      <td>1</td>\n",
              "      <td>1005</td>\n",
              "      <td>15</td>\n",
              "      <td>95</td>\n",
              "    </tr>\n",
              "    <tr>\n",
              "      <td>1</td>\n",
              "      <td>1</td>\n",
              "      <td>1032</td>\n",
              "      <td>61</td>\n",
              "      <td>380</td>\n",
              "    </tr>\n",
              "    <tr>\n",
              "      <td>2</td>\n",
              "      <td>1</td>\n",
              "      <td>1045</td>\n",
              "      <td>1</td>\n",
              "      <td>9</td>\n",
              "    </tr>\n",
              "    <tr>\n",
              "      <td>3</td>\n",
              "      <td>1</td>\n",
              "      <td>1055</td>\n",
              "      <td>64</td>\n",
              "      <td>551</td>\n",
              "    </tr>\n",
              "    <tr>\n",
              "      <td>4</td>\n",
              "      <td>1</td>\n",
              "      <td>1071</td>\n",
              "      <td>24</td>\n",
              "      <td>194</td>\n",
              "    </tr>\n",
              "  </tbody>\n",
              "</table>\n",
              "</div>"
            ],
            "text/plain": [
              "   month  user_id  count_calls  sum_duration_min\n",
              "0      1     1005           15                95\n",
              "1      1     1032           61               380\n",
              "2      1     1045            1                 9\n",
              "3      1     1055           64               551\n",
              "4      1     1071           24               194"
            ]
          },
          "execution_count": 17,
          "metadata": {},
          "output_type": "execute_result"
        }
      ],
      "source": [
        "calls_data_group.rename(columns={'count': 'count_calls', 'sum': 'sum_duration_min'}, inplace=True)\n",
        "calls_data_group.head()"
      ]
    },
    {
      "cell_type": "markdown",
      "metadata": {
        "id": "PPDX7qYicV3P"
      },
      "source": [
        "Количество сообщений в месяц"
      ]
    },
    {
      "cell_type": "code",
      "execution_count": null,
      "metadata": {
        "id": "vgia0_8UcV3P",
        "outputId": "be8abb36-8636-4b00-8d95-6bcce4e94d21"
      },
      "outputs": [
        {
          "data": {
            "text/html": [
              "<div>\n",
              "<style scoped>\n",
              "    .dataframe tbody tr th:only-of-type {\n",
              "        vertical-align: middle;\n",
              "    }\n",
              "\n",
              "    .dataframe tbody tr th {\n",
              "        vertical-align: top;\n",
              "    }\n",
              "\n",
              "    .dataframe thead th {\n",
              "        text-align: right;\n",
              "    }\n",
              "</style>\n",
              "<table border=\"1\" class=\"dataframe\">\n",
              "  <thead>\n",
              "    <tr style=\"text-align: right;\">\n",
              "      <th></th>\n",
              "      <th>id</th>\n",
              "      <th>message_date</th>\n",
              "      <th>user_id</th>\n",
              "      <th>month</th>\n",
              "    </tr>\n",
              "  </thead>\n",
              "  <tbody>\n",
              "    <tr>\n",
              "      <td>0</td>\n",
              "      <td>1000_0</td>\n",
              "      <td>2018-06-27</td>\n",
              "      <td>1000</td>\n",
              "      <td>6</td>\n",
              "    </tr>\n",
              "    <tr>\n",
              "      <td>1</td>\n",
              "      <td>1000_1</td>\n",
              "      <td>2018-10-08</td>\n",
              "      <td>1000</td>\n",
              "      <td>10</td>\n",
              "    </tr>\n",
              "    <tr>\n",
              "      <td>2</td>\n",
              "      <td>1000_2</td>\n",
              "      <td>2018-08-04</td>\n",
              "      <td>1000</td>\n",
              "      <td>8</td>\n",
              "    </tr>\n",
              "    <tr>\n",
              "      <td>3</td>\n",
              "      <td>1000_3</td>\n",
              "      <td>2018-06-16</td>\n",
              "      <td>1000</td>\n",
              "      <td>6</td>\n",
              "    </tr>\n",
              "    <tr>\n",
              "      <td>4</td>\n",
              "      <td>1000_4</td>\n",
              "      <td>2018-12-05</td>\n",
              "      <td>1000</td>\n",
              "      <td>12</td>\n",
              "    </tr>\n",
              "  </tbody>\n",
              "</table>\n",
              "</div>"
            ],
            "text/plain": [
              "       id message_date  user_id  month\n",
              "0  1000_0   2018-06-27     1000      6\n",
              "1  1000_1   2018-10-08     1000     10\n",
              "2  1000_2   2018-08-04     1000      8\n",
              "3  1000_3   2018-06-16     1000      6\n",
              "4  1000_4   2018-12-05     1000     12"
            ]
          },
          "execution_count": 18,
          "metadata": {},
          "output_type": "execute_result"
        }
      ],
      "source": [
        "messages_data.head()"
      ]
    },
    {
      "cell_type": "code",
      "execution_count": null,
      "metadata": {
        "id": "BZgizFCocV3Q",
        "outputId": "5c360c7d-7cbe-4717-a21e-3bd311d9e033"
      },
      "outputs": [
        {
          "data": {
            "text/html": [
              "<div>\n",
              "<style scoped>\n",
              "    .dataframe tbody tr th:only-of-type {\n",
              "        vertical-align: middle;\n",
              "    }\n",
              "\n",
              "    .dataframe tbody tr th {\n",
              "        vertical-align: top;\n",
              "    }\n",
              "\n",
              "    .dataframe thead th {\n",
              "        text-align: right;\n",
              "    }\n",
              "</style>\n",
              "<table border=\"1\" class=\"dataframe\">\n",
              "  <thead>\n",
              "    <tr style=\"text-align: right;\">\n",
              "      <th></th>\n",
              "      <th>month</th>\n",
              "      <th>user_id</th>\n",
              "      <th>count_messages_inmonth</th>\n",
              "    </tr>\n",
              "  </thead>\n",
              "  <tbody>\n",
              "    <tr>\n",
              "      <td>0</td>\n",
              "      <td>1</td>\n",
              "      <td>1005</td>\n",
              "      <td>7</td>\n",
              "    </tr>\n",
              "    <tr>\n",
              "      <td>1</td>\n",
              "      <td>1</td>\n",
              "      <td>1032</td>\n",
              "      <td>38</td>\n",
              "    </tr>\n",
              "    <tr>\n",
              "      <td>2</td>\n",
              "      <td>1</td>\n",
              "      <td>1045</td>\n",
              "      <td>5</td>\n",
              "    </tr>\n",
              "    <tr>\n",
              "      <td>3</td>\n",
              "      <td>1</td>\n",
              "      <td>1055</td>\n",
              "      <td>30</td>\n",
              "    </tr>\n",
              "    <tr>\n",
              "      <td>4</td>\n",
              "      <td>1</td>\n",
              "      <td>1071</td>\n",
              "      <td>16</td>\n",
              "    </tr>\n",
              "  </tbody>\n",
              "</table>\n",
              "</div>"
            ],
            "text/plain": [
              "   month  user_id  count_messages_inmonth\n",
              "0      1     1005                       7\n",
              "1      1     1032                      38\n",
              "2      1     1045                       5\n",
              "3      1     1055                      30\n",
              "4      1     1071                      16"
            ]
          },
          "execution_count": 19,
          "metadata": {},
          "output_type": "execute_result"
        }
      ],
      "source": [
        "messages_data_group = messages_data.groupby(['month', 'user_id'])['id']\\\n",
        ".agg('count')\\\n",
        ".reset_index()\\\n",
        ".rename(columns={'id': 'count_messages_inmonth'})\n",
        "messages_data_group.head()"
      ]
    },
    {
      "cell_type": "code",
      "execution_count": null,
      "metadata": {
        "id": "6Roz7gV1cV3Q",
        "outputId": "976a3213-0b8a-4811-89e5-93dc4420db48"
      },
      "outputs": [
        {
          "data": {
            "text/html": [
              "<div>\n",
              "<style scoped>\n",
              "    .dataframe tbody tr th:only-of-type {\n",
              "        vertical-align: middle;\n",
              "    }\n",
              "\n",
              "    .dataframe tbody tr th {\n",
              "        vertical-align: top;\n",
              "    }\n",
              "\n",
              "    .dataframe thead th {\n",
              "        text-align: right;\n",
              "    }\n",
              "</style>\n",
              "<table border=\"1\" class=\"dataframe\">\n",
              "  <thead>\n",
              "    <tr style=\"text-align: right;\">\n",
              "      <th></th>\n",
              "      <th>id</th>\n",
              "      <th>mb_used</th>\n",
              "      <th>session_date</th>\n",
              "      <th>user_id</th>\n",
              "      <th>month</th>\n",
              "    </tr>\n",
              "  </thead>\n",
              "  <tbody>\n",
              "    <tr>\n",
              "      <td>0</td>\n",
              "      <td>1000_0</td>\n",
              "      <td>112.95</td>\n",
              "      <td>2018-11-25</td>\n",
              "      <td>1000</td>\n",
              "      <td>11</td>\n",
              "    </tr>\n",
              "    <tr>\n",
              "      <td>1</td>\n",
              "      <td>1000_1</td>\n",
              "      <td>1052.81</td>\n",
              "      <td>2018-09-07</td>\n",
              "      <td>1000</td>\n",
              "      <td>9</td>\n",
              "    </tr>\n",
              "    <tr>\n",
              "      <td>2</td>\n",
              "      <td>1000_2</td>\n",
              "      <td>1197.26</td>\n",
              "      <td>2018-06-25</td>\n",
              "      <td>1000</td>\n",
              "      <td>6</td>\n",
              "    </tr>\n",
              "    <tr>\n",
              "      <td>3</td>\n",
              "      <td>1000_3</td>\n",
              "      <td>550.27</td>\n",
              "      <td>2018-08-22</td>\n",
              "      <td>1000</td>\n",
              "      <td>8</td>\n",
              "    </tr>\n",
              "    <tr>\n",
              "      <td>4</td>\n",
              "      <td>1000_4</td>\n",
              "      <td>302.56</td>\n",
              "      <td>2018-09-24</td>\n",
              "      <td>1000</td>\n",
              "      <td>9</td>\n",
              "    </tr>\n",
              "  </tbody>\n",
              "</table>\n",
              "</div>"
            ],
            "text/plain": [
              "       id  mb_used session_date  user_id  month\n",
              "0  1000_0   112.95   2018-11-25     1000     11\n",
              "1  1000_1  1052.81   2018-09-07     1000      9\n",
              "2  1000_2  1197.26   2018-06-25     1000      6\n",
              "3  1000_3   550.27   2018-08-22     1000      8\n",
              "4  1000_4   302.56   2018-09-24     1000      9"
            ]
          },
          "execution_count": 20,
          "metadata": {},
          "output_type": "execute_result"
        }
      ],
      "source": [
        "internet_data.head()"
      ]
    },
    {
      "cell_type": "code",
      "execution_count": null,
      "metadata": {
        "id": "_jMKsQ1KcV3R",
        "outputId": "978656a2-ace7-444f-d168-111ed04a0afb"
      },
      "outputs": [
        {
          "data": {
            "text/html": [
              "<div>\n",
              "<style scoped>\n",
              "    .dataframe tbody tr th:only-of-type {\n",
              "        vertical-align: middle;\n",
              "    }\n",
              "\n",
              "    .dataframe tbody tr th {\n",
              "        vertical-align: top;\n",
              "    }\n",
              "\n",
              "    .dataframe thead th {\n",
              "        text-align: right;\n",
              "    }\n",
              "</style>\n",
              "<table border=\"1\" class=\"dataframe\">\n",
              "  <thead>\n",
              "    <tr style=\"text-align: right;\">\n",
              "      <th></th>\n",
              "      <th>month</th>\n",
              "      <th>user_id</th>\n",
              "      <th>mb_used_inmonth</th>\n",
              "    </tr>\n",
              "  </thead>\n",
              "  <tbody>\n",
              "    <tr>\n",
              "      <td>0</td>\n",
              "      <td>1</td>\n",
              "      <td>1005</td>\n",
              "      <td>2727.97</td>\n",
              "    </tr>\n",
              "    <tr>\n",
              "      <td>1</td>\n",
              "      <td>1</td>\n",
              "      <td>1032</td>\n",
              "      <td>24127.69</td>\n",
              "    </tr>\n",
              "    <tr>\n",
              "      <td>2</td>\n",
              "      <td>1</td>\n",
              "      <td>1045</td>\n",
              "      <td>2346.71</td>\n",
              "    </tr>\n",
              "    <tr>\n",
              "      <td>3</td>\n",
              "      <td>1</td>\n",
              "      <td>1055</td>\n",
              "      <td>17090.88</td>\n",
              "    </tr>\n",
              "    <tr>\n",
              "      <td>4</td>\n",
              "      <td>1</td>\n",
              "      <td>1071</td>\n",
              "      <td>15604.34</td>\n",
              "    </tr>\n",
              "  </tbody>\n",
              "</table>\n",
              "</div>"
            ],
            "text/plain": [
              "   month  user_id  mb_used_inmonth\n",
              "0      1     1005          2727.97\n",
              "1      1     1032         24127.69\n",
              "2      1     1045          2346.71\n",
              "3      1     1055         17090.88\n",
              "4      1     1071         15604.34"
            ]
          },
          "execution_count": 21,
          "metadata": {},
          "output_type": "execute_result"
        }
      ],
      "source": [
        "internet_data_group = internet_data.groupby(['month', 'user_id'])['mb_used']\\\n",
        ".sum()\\\n",
        ".reset_index()\\\n",
        ".rename(columns={'mb_used': 'mb_used_inmonth'})\n",
        "internet_data_group.head()"
      ]
    },
    {
      "cell_type": "markdown",
      "metadata": {
        "id": "fSpgdgw1cV3R"
      },
      "source": [
        "Добавим в датафрейм новый столбец с объемом трафика в гигабайтах, округленных в большую сторону в соответствии с тарифом за перерасход."
      ]
    },
    {
      "cell_type": "code",
      "execution_count": null,
      "metadata": {
        "id": "7Jia8hA7cV3S"
      },
      "outputs": [],
      "source": [
        "internet_data_group['gb_total_month'] = np.ceil(internet_data_group['mb_used_inmonth']/1024)\n",
        "internet_data_group['gb_total_month'] = internet_data_group['gb_total_month'].astype('int')"
      ]
    },
    {
      "cell_type": "code",
      "execution_count": null,
      "metadata": {
        "id": "WqlcO34QcV3S",
        "outputId": "152e4739-d8a4-4fc5-9937-3af9e7587e64"
      },
      "outputs": [
        {
          "data": {
            "text/html": [
              "<div>\n",
              "<style scoped>\n",
              "    .dataframe tbody tr th:only-of-type {\n",
              "        vertical-align: middle;\n",
              "    }\n",
              "\n",
              "    .dataframe tbody tr th {\n",
              "        vertical-align: top;\n",
              "    }\n",
              "\n",
              "    .dataframe thead th {\n",
              "        text-align: right;\n",
              "    }\n",
              "</style>\n",
              "<table border=\"1\" class=\"dataframe\">\n",
              "  <thead>\n",
              "    <tr style=\"text-align: right;\">\n",
              "      <th></th>\n",
              "      <th>month</th>\n",
              "      <th>user_id</th>\n",
              "      <th>mb_used_inmonth</th>\n",
              "      <th>gb_total_month</th>\n",
              "    </tr>\n",
              "  </thead>\n",
              "  <tbody>\n",
              "    <tr>\n",
              "      <td>0</td>\n",
              "      <td>1</td>\n",
              "      <td>1005</td>\n",
              "      <td>2727.97</td>\n",
              "      <td>3</td>\n",
              "    </tr>\n",
              "    <tr>\n",
              "      <td>1</td>\n",
              "      <td>1</td>\n",
              "      <td>1032</td>\n",
              "      <td>24127.69</td>\n",
              "      <td>24</td>\n",
              "    </tr>\n",
              "    <tr>\n",
              "      <td>2</td>\n",
              "      <td>1</td>\n",
              "      <td>1045</td>\n",
              "      <td>2346.71</td>\n",
              "      <td>3</td>\n",
              "    </tr>\n",
              "    <tr>\n",
              "      <td>3</td>\n",
              "      <td>1</td>\n",
              "      <td>1055</td>\n",
              "      <td>17090.88</td>\n",
              "      <td>17</td>\n",
              "    </tr>\n",
              "    <tr>\n",
              "      <td>4</td>\n",
              "      <td>1</td>\n",
              "      <td>1071</td>\n",
              "      <td>15604.34</td>\n",
              "      <td>16</td>\n",
              "    </tr>\n",
              "  </tbody>\n",
              "</table>\n",
              "</div>"
            ],
            "text/plain": [
              "   month  user_id  mb_used_inmonth  gb_total_month\n",
              "0      1     1005          2727.97               3\n",
              "1      1     1032         24127.69              24\n",
              "2      1     1045          2346.71               3\n",
              "3      1     1055         17090.88              17\n",
              "4      1     1071         15604.34              16"
            ]
          },
          "execution_count": 23,
          "metadata": {},
          "output_type": "execute_result"
        }
      ],
      "source": [
        "internet_data_group.head()"
      ]
    },
    {
      "cell_type": "markdown",
      "metadata": {
        "id": "ik91WWo4cV3T"
      },
      "source": [
        "Теперь объединим сводные таблицы по месяцу и user_id для того, чтобы дальше работать с одной таблицей. Это необходимо, чтобы посчитать выручку по месяцу для каждого пользователя."
      ]
    },
    {
      "cell_type": "code",
      "execution_count": null,
      "metadata": {
        "id": "5IpUIIALcV3T",
        "outputId": "50f3552b-105e-4cd5-dcb1-c2c738abe10f"
      },
      "outputs": [
        {
          "data": {
            "text/html": [
              "<div>\n",
              "<style scoped>\n",
              "    .dataframe tbody tr th:only-of-type {\n",
              "        vertical-align: middle;\n",
              "    }\n",
              "\n",
              "    .dataframe tbody tr th {\n",
              "        vertical-align: top;\n",
              "    }\n",
              "\n",
              "    .dataframe thead th {\n",
              "        text-align: right;\n",
              "    }\n",
              "</style>\n",
              "<table border=\"1\" class=\"dataframe\">\n",
              "  <thead>\n",
              "    <tr style=\"text-align: right;\">\n",
              "      <th></th>\n",
              "      <th>month</th>\n",
              "      <th>user_id</th>\n",
              "      <th>count_calls</th>\n",
              "      <th>sum_duration_min</th>\n",
              "      <th>count_messages_inmonth</th>\n",
              "    </tr>\n",
              "  </thead>\n",
              "  <tbody>\n",
              "    <tr>\n",
              "      <td>0</td>\n",
              "      <td>1</td>\n",
              "      <td>1005</td>\n",
              "      <td>15.0</td>\n",
              "      <td>95.0</td>\n",
              "      <td>7.0</td>\n",
              "    </tr>\n",
              "    <tr>\n",
              "      <td>1</td>\n",
              "      <td>1</td>\n",
              "      <td>1032</td>\n",
              "      <td>61.0</td>\n",
              "      <td>380.0</td>\n",
              "      <td>38.0</td>\n",
              "    </tr>\n",
              "    <tr>\n",
              "      <td>2</td>\n",
              "      <td>1</td>\n",
              "      <td>1045</td>\n",
              "      <td>1.0</td>\n",
              "      <td>9.0</td>\n",
              "      <td>5.0</td>\n",
              "    </tr>\n",
              "    <tr>\n",
              "      <td>3</td>\n",
              "      <td>1</td>\n",
              "      <td>1055</td>\n",
              "      <td>64.0</td>\n",
              "      <td>551.0</td>\n",
              "      <td>30.0</td>\n",
              "    </tr>\n",
              "    <tr>\n",
              "      <td>4</td>\n",
              "      <td>1</td>\n",
              "      <td>1071</td>\n",
              "      <td>24.0</td>\n",
              "      <td>194.0</td>\n",
              "      <td>16.0</td>\n",
              "    </tr>\n",
              "  </tbody>\n",
              "</table>\n",
              "</div>"
            ],
            "text/plain": [
              "   month  user_id  count_calls  sum_duration_min  count_messages_inmonth\n",
              "0      1     1005         15.0              95.0                     7.0\n",
              "1      1     1032         61.0             380.0                    38.0\n",
              "2      1     1045          1.0               9.0                     5.0\n",
              "3      1     1055         64.0             551.0                    30.0\n",
              "4      1     1071         24.0             194.0                    16.0"
            ]
          },
          "execution_count": 24,
          "metadata": {},
          "output_type": "execute_result"
        }
      ],
      "source": [
        "data_total = calls_data_group.merge(messages_data_group, how='outer', on=['month', 'user_id'])\n",
        "data_total.head()"
      ]
    },
    {
      "cell_type": "code",
      "execution_count": null,
      "metadata": {
        "id": "DXsPeGAhcV3T"
      },
      "outputs": [],
      "source": [
        "data_total = data_total.merge(internet_data_group, on=['month', 'user_id'], how='outer')"
      ]
    },
    {
      "cell_type": "markdown",
      "metadata": {
        "id": "pZGx0BIqcV3U"
      },
      "source": [
        "Получим итоговую таблицу data_total, соеденив с данными о пользователях и тарифах, которым они подключены."
      ]
    },
    {
      "cell_type": "code",
      "execution_count": null,
      "metadata": {
        "id": "xR16wHg2cV3U"
      },
      "outputs": [],
      "source": [
        "data_total = data_total.merge(user_data, how='outer', on='user_id')"
      ]
    },
    {
      "cell_type": "code",
      "execution_count": null,
      "metadata": {
        "id": "WFzww5RXcV3U"
      },
      "outputs": [],
      "source": [
        "data_total = data_total.merge(tariffs_data, how='left', on='tariff')"
      ]
    },
    {
      "cell_type": "code",
      "execution_count": null,
      "metadata": {
        "id": "WLnJpE2WcV3U",
        "outputId": "c54b6e12-c8db-4a1c-9604-69512c508867"
      },
      "outputs": [
        {
          "name": "stdout",
          "output_type": "stream",
          "text": [
            "<class 'pandas.core.frame.DataFrame'>\n",
            "Int64Index: 3216 entries, 0 to 3215\n",
            "Data columns (total 21 columns):\n",
            "month                     3214 non-null float64\n",
            "user_id                   3216 non-null int64\n",
            "count_calls               3174 non-null float64\n",
            "sum_duration_min          3174 non-null float64\n",
            "count_messages_inmonth    2717 non-null float64\n",
            "mb_used_inmonth           3203 non-null float64\n",
            "gb_total_month            3203 non-null float64\n",
            "age                       3216 non-null int64\n",
            "churn_date                189 non-null object\n",
            "city                      3216 non-null object\n",
            "first_name                3216 non-null object\n",
            "last_name                 3216 non-null object\n",
            "reg_date                  3216 non-null datetime64[ns]\n",
            "tariff                    3216 non-null object\n",
            "messages_included         3216 non-null int64\n",
            "mb_per_month_included     3216 non-null int64\n",
            "minutes_included          3216 non-null int64\n",
            "rub_monthly_fee           3216 non-null int64\n",
            "rub_per_gb                3216 non-null int64\n",
            "rub_per_message           3216 non-null int64\n",
            "rub_per_minute            3216 non-null int64\n",
            "dtypes: datetime64[ns](1), float64(6), int64(9), object(5)\n",
            "memory usage: 552.8+ KB\n"
          ]
        }
      ],
      "source": [
        "data_total.info()"
      ]
    },
    {
      "cell_type": "markdown",
      "metadata": {
        "id": "q4E5EzlkcV3V"
      },
      "source": [
        "Посмотрим итоговую таблицу на пропуски."
      ]
    },
    {
      "cell_type": "code",
      "execution_count": null,
      "metadata": {
        "id": "SMqU6MgZcV3V",
        "outputId": "bc37f8b6-50fe-4a4b-bab9-762a42a7ae49"
      },
      "outputs": [
        {
          "data": {
            "text/plain": [
              "month                        2\n",
              "user_id                      0\n",
              "count_calls                 42\n",
              "sum_duration_min            42\n",
              "count_messages_inmonth     499\n",
              "mb_used_inmonth             13\n",
              "gb_total_month              13\n",
              "age                          0\n",
              "churn_date                3027\n",
              "city                         0\n",
              "first_name                   0\n",
              "last_name                    0\n",
              "reg_date                     0\n",
              "tariff                       0\n",
              "messages_included            0\n",
              "mb_per_month_included        0\n",
              "minutes_included             0\n",
              "rub_monthly_fee              0\n",
              "rub_per_gb                   0\n",
              "rub_per_message              0\n",
              "rub_per_minute               0\n",
              "dtype: int64"
            ]
          },
          "execution_count": 29,
          "metadata": {},
          "output_type": "execute_result"
        }
      ],
      "source": [
        "data_total.isna().sum()"
      ]
    },
    {
      "cell_type": "markdown",
      "metadata": {
        "id": "-NfiKQ-IcV3V"
      },
      "source": [
        "В таблице есть пропуски в столбце month. Это очень странно потому что все операции датируются и этот столбец есть во всех исходных таблицах. Посмотрим на эти строчки."
      ]
    },
    {
      "cell_type": "code",
      "execution_count": null,
      "metadata": {
        "id": "tSJs695vcV3V",
        "outputId": "9a5a0eb7-a835-42ff-9867-a7eff736f91b"
      },
      "outputs": [
        {
          "data": {
            "text/html": [
              "<div>\n",
              "<style scoped>\n",
              "    .dataframe tbody tr th:only-of-type {\n",
              "        vertical-align: middle;\n",
              "    }\n",
              "\n",
              "    .dataframe tbody tr th {\n",
              "        vertical-align: top;\n",
              "    }\n",
              "\n",
              "    .dataframe thead th {\n",
              "        text-align: right;\n",
              "    }\n",
              "</style>\n",
              "<table border=\"1\" class=\"dataframe\">\n",
              "  <thead>\n",
              "    <tr style=\"text-align: right;\">\n",
              "      <th></th>\n",
              "      <th>month</th>\n",
              "      <th>user_id</th>\n",
              "      <th>count_calls</th>\n",
              "      <th>sum_duration_min</th>\n",
              "      <th>count_messages_inmonth</th>\n",
              "      <th>mb_used_inmonth</th>\n",
              "      <th>gb_total_month</th>\n",
              "      <th>age</th>\n",
              "      <th>churn_date</th>\n",
              "      <th>city</th>\n",
              "      <th>...</th>\n",
              "      <th>last_name</th>\n",
              "      <th>reg_date</th>\n",
              "      <th>tariff</th>\n",
              "      <th>messages_included</th>\n",
              "      <th>mb_per_month_included</th>\n",
              "      <th>minutes_included</th>\n",
              "      <th>rub_monthly_fee</th>\n",
              "      <th>rub_per_gb</th>\n",
              "      <th>rub_per_message</th>\n",
              "      <th>rub_per_minute</th>\n",
              "    </tr>\n",
              "  </thead>\n",
              "  <tbody>\n",
              "    <tr>\n",
              "      <td>3214</td>\n",
              "      <td>NaN</td>\n",
              "      <td>1128</td>\n",
              "      <td>NaN</td>\n",
              "      <td>NaN</td>\n",
              "      <td>NaN</td>\n",
              "      <td>NaN</td>\n",
              "      <td>NaN</td>\n",
              "      <td>51</td>\n",
              "      <td>2018-12-23</td>\n",
              "      <td>Волжский</td>\n",
              "      <td>...</td>\n",
              "      <td>Агаева</td>\n",
              "      <td>2018-12-15</td>\n",
              "      <td>ultra</td>\n",
              "      <td>1000</td>\n",
              "      <td>30720</td>\n",
              "      <td>3000</td>\n",
              "      <td>1950</td>\n",
              "      <td>150</td>\n",
              "      <td>1</td>\n",
              "      <td>1</td>\n",
              "    </tr>\n",
              "    <tr>\n",
              "      <td>3215</td>\n",
              "      <td>NaN</td>\n",
              "      <td>1371</td>\n",
              "      <td>NaN</td>\n",
              "      <td>NaN</td>\n",
              "      <td>NaN</td>\n",
              "      <td>NaN</td>\n",
              "      <td>NaN</td>\n",
              "      <td>50</td>\n",
              "      <td>2018-12-30</td>\n",
              "      <td>Омск</td>\n",
              "      <td>...</td>\n",
              "      <td>Трофимов</td>\n",
              "      <td>2018-12-25</td>\n",
              "      <td>smart</td>\n",
              "      <td>50</td>\n",
              "      <td>15360</td>\n",
              "      <td>500</td>\n",
              "      <td>550</td>\n",
              "      <td>200</td>\n",
              "      <td>3</td>\n",
              "      <td>3</td>\n",
              "    </tr>\n",
              "  </tbody>\n",
              "</table>\n",
              "<p>2 rows × 21 columns</p>\n",
              "</div>"
            ],
            "text/plain": [
              "      month  user_id  count_calls  sum_duration_min  count_messages_inmonth  \\\n",
              "3214    NaN     1128          NaN               NaN                     NaN   \n",
              "3215    NaN     1371          NaN               NaN                     NaN   \n",
              "\n",
              "      mb_used_inmonth  gb_total_month  age  churn_date      city  ...  \\\n",
              "3214              NaN             NaN   51  2018-12-23  Волжский  ...   \n",
              "3215              NaN             NaN   50  2018-12-30      Омск  ...   \n",
              "\n",
              "     last_name   reg_date tariff messages_included  mb_per_month_included  \\\n",
              "3214    Агаева 2018-12-15  ultra              1000                  30720   \n",
              "3215  Трофимов 2018-12-25  smart                50                  15360   \n",
              "\n",
              "      minutes_included  rub_monthly_fee  rub_per_gb  rub_per_message  \\\n",
              "3214              3000             1950         150                1   \n",
              "3215               500              550         200                3   \n",
              "\n",
              "      rub_per_minute  \n",
              "3214               1  \n",
              "3215               3  \n",
              "\n",
              "[2 rows x 21 columns]"
            ]
          },
          "execution_count": 30,
          "metadata": {},
          "output_type": "execute_result"
        }
      ],
      "source": [
        "data_total[data_total['month'].isnull()]"
      ]
    },
    {
      "cell_type": "markdown",
      "metadata": {
        "id": "N0Fa5eHecV3W"
      },
      "source": [
        "Видно, что эти пользователи зарегистрировались в конце года. Возможно получили в подарок от оператора и не успели воспользоваться или не планируют пользоваться (сам так делал =)). Уберем этих пользователей из таблицы. "
      ]
    },
    {
      "cell_type": "code",
      "execution_count": null,
      "metadata": {
        "id": "PHH1FBZlcV3W"
      },
      "outputs": [],
      "source": [
        "data_total.dropna(subset=['month'], axis='index', inplace=True)"
      ]
    },
    {
      "cell_type": "code",
      "execution_count": null,
      "metadata": {
        "scrolled": false,
        "id": "Uw1v6BtPcV3X",
        "outputId": "5ef56cb2-78cd-4a79-b7af-4f3240ab001e"
      },
      "outputs": [
        {
          "data": {
            "text/plain": [
              "month                        0\n",
              "user_id                      0\n",
              "count_calls                 40\n",
              "sum_duration_min            40\n",
              "count_messages_inmonth     497\n",
              "mb_used_inmonth             11\n",
              "gb_total_month              11\n",
              "age                          0\n",
              "churn_date                3027\n",
              "city                         0\n",
              "first_name                   0\n",
              "last_name                    0\n",
              "reg_date                     0\n",
              "tariff                       0\n",
              "messages_included            0\n",
              "mb_per_month_included        0\n",
              "minutes_included             0\n",
              "rub_monthly_fee              0\n",
              "rub_per_gb                   0\n",
              "rub_per_message              0\n",
              "rub_per_minute               0\n",
              "dtype: int64"
            ]
          },
          "execution_count": 32,
          "metadata": {},
          "output_type": "execute_result"
        }
      ],
      "source": [
        "data_total.isna().sum()"
      ]
    },
    {
      "cell_type": "markdown",
      "metadata": {
        "id": "FlP4zIqzcV3X"
      },
      "source": [
        "Заполним остальные пропуски нулем, так как очевидно, что эти пропуски характеризуют отсутствие операций по тарифу."
      ]
    },
    {
      "cell_type": "code",
      "execution_count": null,
      "metadata": {
        "scrolled": false,
        "id": "kgKhis8zcV3X"
      },
      "outputs": [],
      "source": [
        "data_total[['count_calls', 'sum_duration_min', 'count_messages_inmonth', 'mb_used_inmonth', 'gb_total_month']] = data_total[['count_calls', 'sum_duration_min', 'count_messages_inmonth', 'mb_used_inmonth', 'gb_total_month']].fillna(0)"
      ]
    },
    {
      "cell_type": "markdown",
      "metadata": {
        "id": "cJ924dHacV3Y"
      },
      "source": [
        "Осталось изменить тип данных в столбце churn_date на datetime, но сначала заполним пропуски на последнюю дату года 2018 года. Так мы будем знать, что эта дата соответствует пользователям, которые использовали тариф в течении этого периода и не ушли от оператора. "
      ]
    },
    {
      "cell_type": "code",
      "execution_count": null,
      "metadata": {
        "id": "unNUYLArcV3Y"
      },
      "outputs": [],
      "source": [
        "data_total['churn_date'] = data_total['churn_date'].fillna('2018-12-31')"
      ]
    },
    {
      "cell_type": "code",
      "execution_count": null,
      "metadata": {
        "id": "ytoTFkaxcV3Y"
      },
      "outputs": [],
      "source": [
        "data_total['churn_date'] = pd.to_datetime(data_total['churn_date'], yearfirst=True)"
      ]
    },
    {
      "cell_type": "markdown",
      "metadata": {
        "id": "xek1phJncV3Y"
      },
      "source": [
        "Проверим все изменения."
      ]
    },
    {
      "cell_type": "code",
      "execution_count": null,
      "metadata": {
        "id": "LONWRCpxcV3Z",
        "outputId": "df6fb90e-37af-4a34-9a24-3639c5437e4e"
      },
      "outputs": [
        {
          "data": {
            "text/plain": [
              "month                     0\n",
              "user_id                   0\n",
              "count_calls               0\n",
              "sum_duration_min          0\n",
              "count_messages_inmonth    0\n",
              "mb_used_inmonth           0\n",
              "gb_total_month            0\n",
              "age                       0\n",
              "churn_date                0\n",
              "city                      0\n",
              "first_name                0\n",
              "last_name                 0\n",
              "reg_date                  0\n",
              "tariff                    0\n",
              "messages_included         0\n",
              "mb_per_month_included     0\n",
              "minutes_included          0\n",
              "rub_monthly_fee           0\n",
              "rub_per_gb                0\n",
              "rub_per_message           0\n",
              "rub_per_minute            0\n",
              "dtype: int64"
            ]
          },
          "execution_count": 36,
          "metadata": {},
          "output_type": "execute_result"
        }
      ],
      "source": [
        "data_total.isna().sum()"
      ]
    },
    {
      "cell_type": "markdown",
      "metadata": {
        "id": "9LRCFNe0cV3Z"
      },
      "source": [
        "Теперь посчитаем выручку с каждого пользователя по каждому месяцу."
      ]
    },
    {
      "cell_type": "code",
      "execution_count": null,
      "metadata": {
        "id": "MMB99zPqcV3Z",
        "outputId": "b94d259b-6741-426f-8906-45e6eba7f27a"
      },
      "outputs": [
        {
          "data": {
            "text/html": [
              "<div>\n",
              "<style scoped>\n",
              "    .dataframe tbody tr th:only-of-type {\n",
              "        vertical-align: middle;\n",
              "    }\n",
              "\n",
              "    .dataframe tbody tr th {\n",
              "        vertical-align: top;\n",
              "    }\n",
              "\n",
              "    .dataframe thead th {\n",
              "        text-align: right;\n",
              "    }\n",
              "</style>\n",
              "<table border=\"1\" class=\"dataframe\">\n",
              "  <thead>\n",
              "    <tr style=\"text-align: right;\">\n",
              "      <th></th>\n",
              "      <th>month</th>\n",
              "      <th>user_id</th>\n",
              "      <th>count_calls</th>\n",
              "      <th>sum_duration_min</th>\n",
              "      <th>count_messages_inmonth</th>\n",
              "      <th>mb_used_inmonth</th>\n",
              "      <th>gb_total_month</th>\n",
              "      <th>age</th>\n",
              "      <th>churn_date</th>\n",
              "      <th>city</th>\n",
              "      <th>...</th>\n",
              "      <th>last_name</th>\n",
              "      <th>reg_date</th>\n",
              "      <th>tariff</th>\n",
              "      <th>messages_included</th>\n",
              "      <th>mb_per_month_included</th>\n",
              "      <th>minutes_included</th>\n",
              "      <th>rub_monthly_fee</th>\n",
              "      <th>rub_per_gb</th>\n",
              "      <th>rub_per_message</th>\n",
              "      <th>rub_per_minute</th>\n",
              "    </tr>\n",
              "  </thead>\n",
              "  <tbody>\n",
              "    <tr>\n",
              "      <td>0</td>\n",
              "      <td>1.0</td>\n",
              "      <td>1005</td>\n",
              "      <td>15.0</td>\n",
              "      <td>95.0</td>\n",
              "      <td>7.0</td>\n",
              "      <td>2727.97</td>\n",
              "      <td>3.0</td>\n",
              "      <td>67</td>\n",
              "      <td>2018-12-31</td>\n",
              "      <td>Набережные Челны</td>\n",
              "      <td>...</td>\n",
              "      <td>Горлов</td>\n",
              "      <td>2018-01-25</td>\n",
              "      <td>smart</td>\n",
              "      <td>50</td>\n",
              "      <td>15360</td>\n",
              "      <td>500</td>\n",
              "      <td>550</td>\n",
              "      <td>200</td>\n",
              "      <td>3</td>\n",
              "      <td>3</td>\n",
              "    </tr>\n",
              "    <tr>\n",
              "      <td>1</td>\n",
              "      <td>2.0</td>\n",
              "      <td>1005</td>\n",
              "      <td>69.0</td>\n",
              "      <td>456.0</td>\n",
              "      <td>38.0</td>\n",
              "      <td>7383.93</td>\n",
              "      <td>8.0</td>\n",
              "      <td>67</td>\n",
              "      <td>2018-12-31</td>\n",
              "      <td>Набережные Челны</td>\n",
              "      <td>...</td>\n",
              "      <td>Горлов</td>\n",
              "      <td>2018-01-25</td>\n",
              "      <td>smart</td>\n",
              "      <td>50</td>\n",
              "      <td>15360</td>\n",
              "      <td>500</td>\n",
              "      <td>550</td>\n",
              "      <td>200</td>\n",
              "      <td>3</td>\n",
              "      <td>3</td>\n",
              "    </tr>\n",
              "    <tr>\n",
              "      <td>2</td>\n",
              "      <td>3.0</td>\n",
              "      <td>1005</td>\n",
              "      <td>77.0</td>\n",
              "      <td>607.0</td>\n",
              "      <td>56.0</td>\n",
              "      <td>11104.25</td>\n",
              "      <td>11.0</td>\n",
              "      <td>67</td>\n",
              "      <td>2018-12-31</td>\n",
              "      <td>Набережные Челны</td>\n",
              "      <td>...</td>\n",
              "      <td>Горлов</td>\n",
              "      <td>2018-01-25</td>\n",
              "      <td>smart</td>\n",
              "      <td>50</td>\n",
              "      <td>15360</td>\n",
              "      <td>500</td>\n",
              "      <td>550</td>\n",
              "      <td>200</td>\n",
              "      <td>3</td>\n",
              "      <td>3</td>\n",
              "    </tr>\n",
              "    <tr>\n",
              "      <td>3</td>\n",
              "      <td>4.0</td>\n",
              "      <td>1005</td>\n",
              "      <td>101.0</td>\n",
              "      <td>712.0</td>\n",
              "      <td>41.0</td>\n",
              "      <td>9351.72</td>\n",
              "      <td>10.0</td>\n",
              "      <td>67</td>\n",
              "      <td>2018-12-31</td>\n",
              "      <td>Набережные Челны</td>\n",
              "      <td>...</td>\n",
              "      <td>Горлов</td>\n",
              "      <td>2018-01-25</td>\n",
              "      <td>smart</td>\n",
              "      <td>50</td>\n",
              "      <td>15360</td>\n",
              "      <td>500</td>\n",
              "      <td>550</td>\n",
              "      <td>200</td>\n",
              "      <td>3</td>\n",
              "      <td>3</td>\n",
              "    </tr>\n",
              "    <tr>\n",
              "      <td>4</td>\n",
              "      <td>5.0</td>\n",
              "      <td>1005</td>\n",
              "      <td>73.0</td>\n",
              "      <td>595.0</td>\n",
              "      <td>42.0</td>\n",
              "      <td>7865.53</td>\n",
              "      <td>8.0</td>\n",
              "      <td>67</td>\n",
              "      <td>2018-12-31</td>\n",
              "      <td>Набережные Челны</td>\n",
              "      <td>...</td>\n",
              "      <td>Горлов</td>\n",
              "      <td>2018-01-25</td>\n",
              "      <td>smart</td>\n",
              "      <td>50</td>\n",
              "      <td>15360</td>\n",
              "      <td>500</td>\n",
              "      <td>550</td>\n",
              "      <td>200</td>\n",
              "      <td>3</td>\n",
              "      <td>3</td>\n",
              "    </tr>\n",
              "  </tbody>\n",
              "</table>\n",
              "<p>5 rows × 21 columns</p>\n",
              "</div>"
            ],
            "text/plain": [
              "   month  user_id  count_calls  sum_duration_min  count_messages_inmonth  \\\n",
              "0    1.0     1005         15.0              95.0                     7.0   \n",
              "1    2.0     1005         69.0             456.0                    38.0   \n",
              "2    3.0     1005         77.0             607.0                    56.0   \n",
              "3    4.0     1005        101.0             712.0                    41.0   \n",
              "4    5.0     1005         73.0             595.0                    42.0   \n",
              "\n",
              "   mb_used_inmonth  gb_total_month  age churn_date              city  ...  \\\n",
              "0          2727.97             3.0   67 2018-12-31  Набережные Челны  ...   \n",
              "1          7383.93             8.0   67 2018-12-31  Набережные Челны  ...   \n",
              "2         11104.25            11.0   67 2018-12-31  Набережные Челны  ...   \n",
              "3          9351.72            10.0   67 2018-12-31  Набережные Челны  ...   \n",
              "4          7865.53             8.0   67 2018-12-31  Набережные Челны  ...   \n",
              "\n",
              "  last_name   reg_date tariff messages_included  mb_per_month_included  \\\n",
              "0    Горлов 2018-01-25  smart                50                  15360   \n",
              "1    Горлов 2018-01-25  smart                50                  15360   \n",
              "2    Горлов 2018-01-25  smart                50                  15360   \n",
              "3    Горлов 2018-01-25  smart                50                  15360   \n",
              "4    Горлов 2018-01-25  smart                50                  15360   \n",
              "\n",
              "   minutes_included  rub_monthly_fee  rub_per_gb  rub_per_message  \\\n",
              "0               500              550         200                3   \n",
              "1               500              550         200                3   \n",
              "2               500              550         200                3   \n",
              "3               500              550         200                3   \n",
              "4               500              550         200                3   \n",
              "\n",
              "   rub_per_minute  \n",
              "0               3  \n",
              "1               3  \n",
              "2               3  \n",
              "3               3  \n",
              "4               3  \n",
              "\n",
              "[5 rows x 21 columns]"
            ]
          },
          "execution_count": 37,
          "metadata": {},
          "output_type": "execute_result"
        }
      ],
      "source": [
        "data_total.head()"
      ]
    },
    {
      "cell_type": "code",
      "execution_count": null,
      "metadata": {
        "id": "rBdocyp-cV3a"
      },
      "outputs": [],
      "source": [
        "def func(row):\n",
        "    minutes = row['sum_duration_min'] - row['minutes_included']\n",
        "    messages = row['count_messages_inmonth'] - row['messages_included']\n",
        "    internet = row['gb_total_month'] - (row['mb_per_month_included']/1024)\n",
        "    if minutes < 0:\n",
        "        minutes = 0\n",
        "    if messages < 0:\n",
        "        messages = 0\n",
        "    if internet < 0:\n",
        "        internet = 0\n",
        "    value = minutes * row['rub_per_minute'] + messages * row['rub_per_message'] + internet * row['rub_per_gb'] + row['rub_monthly_fee']\n",
        "    return value"
      ]
    },
    {
      "cell_type": "markdown",
      "metadata": {
        "id": "W3uriPI0cV3a"
      },
      "source": [
        "Применим функцию к нашему датафрейму"
      ]
    },
    {
      "cell_type": "code",
      "execution_count": null,
      "metadata": {
        "id": "fnipLpq1cV3b"
      },
      "outputs": [],
      "source": [
        "data_total['revenue_month'] = data_total.apply(func, axis=1)"
      ]
    },
    {
      "cell_type": "code",
      "execution_count": null,
      "metadata": {
        "scrolled": true,
        "id": "j7N6UXdFcV3b",
        "outputId": "96d8b5b5-9a8c-4824-ca2f-41d69b953e85"
      },
      "outputs": [
        {
          "data": {
            "text/plain": [
              "0        550.0\n",
              "1        550.0\n",
              "2        889.0\n",
              "3       1186.0\n",
              "4        835.0\n",
              "         ...  \n",
              "3209    1150.0\n",
              "3210     950.0\n",
              "3211    1950.0\n",
              "3212    2700.0\n",
              "3213    3300.0\n",
              "Name: revenue_month, Length: 3214, dtype: float64"
            ]
          },
          "execution_count": 40,
          "metadata": {},
          "output_type": "execute_result"
        }
      ],
      "source": [
        "data_total['revenue_month']"
      ]
    },
    {
      "cell_type": "markdown",
      "metadata": {
        "id": "AABiTywzcV3b"
      },
      "source": [
        "Проверим расчеты по строчке с индексом 2."
      ]
    },
    {
      "cell_type": "code",
      "execution_count": null,
      "metadata": {
        "scrolled": false,
        "id": "A36GWR8rcV3b",
        "outputId": "ad093548-459e-4388-fa70-bae81582f422"
      },
      "outputs": [
        {
          "data": {
            "text/plain": [
              "month                                       3\n",
              "user_id                                  1005\n",
              "count_calls                                77\n",
              "sum_duration_min                          607\n",
              "count_messages_inmonth                     56\n",
              "mb_used_inmonth                       11104.2\n",
              "gb_total_month                             11\n",
              "age                                        67\n",
              "churn_date                2018-12-31 00:00:00\n",
              "city                         Набережные Челны\n",
              "first_name                           Афанасий\n",
              "last_name                              Горлов\n",
              "reg_date                  2018-01-25 00:00:00\n",
              "tariff                                  smart\n",
              "messages_included                          50\n",
              "mb_per_month_included                   15360\n",
              "minutes_included                          500\n",
              "rub_monthly_fee                           550\n",
              "rub_per_gb                                200\n",
              "rub_per_message                             3\n",
              "rub_per_minute                              3\n",
              "revenue_month                             889\n",
              "Name: 2, dtype: object"
            ]
          },
          "execution_count": 41,
          "metadata": {},
          "output_type": "execute_result"
        }
      ],
      "source": [
        "data_total.loc[2, :]"
      ]
    },
    {
      "cell_type": "markdown",
      "metadata": {
        "id": "RHqngUHDcV3c"
      },
      "source": [
        "Результат = 889 руб Афанасий заплатил в марте, что сходится с работой фукнции."
      ]
    },
    {
      "cell_type": "markdown",
      "metadata": {
        "id": "RFdDjAwIcV3c"
      },
      "source": [
        "Теперь сделаем удобный порядок стобцов. Чтобы вначале были столбцы, которые далее понадобятся нам для работы."
      ]
    },
    {
      "cell_type": "code",
      "execution_count": null,
      "metadata": {
        "scrolled": true,
        "id": "SJzS6aoecV3c",
        "outputId": "32fc4f0c-12ca-412c-8ef7-b1aecc2b588d"
      },
      "outputs": [
        {
          "data": {
            "text/plain": [
              "['month',\n",
              " 'user_id',\n",
              " 'count_calls',\n",
              " 'sum_duration_min',\n",
              " 'count_messages_inmonth',\n",
              " 'mb_used_inmonth',\n",
              " 'gb_total_month',\n",
              " 'age',\n",
              " 'churn_date',\n",
              " 'city',\n",
              " 'first_name',\n",
              " 'last_name',\n",
              " 'reg_date',\n",
              " 'tariff',\n",
              " 'messages_included',\n",
              " 'mb_per_month_included',\n",
              " 'minutes_included',\n",
              " 'rub_monthly_fee',\n",
              " 'rub_per_gb',\n",
              " 'rub_per_message',\n",
              " 'rub_per_minute',\n",
              " 'revenue_month']"
            ]
          },
          "execution_count": 42,
          "metadata": {},
          "output_type": "execute_result"
        }
      ],
      "source": [
        "cols = data_total.columns.tolist()\n",
        "cols"
      ]
    },
    {
      "cell_type": "code",
      "execution_count": null,
      "metadata": {
        "id": "uIly5FbBcV3d"
      },
      "outputs": [],
      "source": [
        "data_total = data_total[[\n",
        " 'month',\n",
        " 'user_id',\n",
        " 'count_calls',\n",
        " 'sum_duration_min',\n",
        " 'count_messages_inmonth',\n",
        " 'gb_total_month',\n",
        " 'revenue_month',\n",
        " 'mb_used_inmonth',\n",
        " 'age',\n",
        " 'churn_date',\n",
        " 'city',\n",
        " 'first_name',\n",
        " 'last_name',\n",
        " 'reg_date',\n",
        " 'tariff',\n",
        " 'messages_included',\n",
        " 'mb_per_month_included',\n",
        " 'minutes_included',\n",
        " 'rub_monthly_fee',\n",
        " 'rub_per_gb',\n",
        " 'rub_per_message',\n",
        " 'rub_per_minute'\n",
        " ]]"
      ]
    },
    {
      "cell_type": "code",
      "execution_count": null,
      "metadata": {
        "id": "X0Kxmh6ucV3d"
      },
      "outputs": [],
      "source": [
        "data_total['month'] = data_total['month'].astype('int')"
      ]
    },
    {
      "cell_type": "code",
      "execution_count": null,
      "metadata": {
        "id": "68nfVcqpcV3e",
        "outputId": "97500b45-5ead-4142-9c6e-91607d171792"
      },
      "outputs": [
        {
          "data": {
            "text/html": [
              "<div>\n",
              "<style scoped>\n",
              "    .dataframe tbody tr th:only-of-type {\n",
              "        vertical-align: middle;\n",
              "    }\n",
              "\n",
              "    .dataframe tbody tr th {\n",
              "        vertical-align: top;\n",
              "    }\n",
              "\n",
              "    .dataframe thead th {\n",
              "        text-align: right;\n",
              "    }\n",
              "</style>\n",
              "<table border=\"1\" class=\"dataframe\">\n",
              "  <thead>\n",
              "    <tr style=\"text-align: right;\">\n",
              "      <th></th>\n",
              "      <th>month</th>\n",
              "      <th>user_id</th>\n",
              "      <th>count_calls</th>\n",
              "      <th>sum_duration_min</th>\n",
              "      <th>count_messages_inmonth</th>\n",
              "      <th>gb_total_month</th>\n",
              "      <th>revenue_month</th>\n",
              "      <th>mb_used_inmonth</th>\n",
              "      <th>age</th>\n",
              "      <th>churn_date</th>\n",
              "      <th>...</th>\n",
              "      <th>last_name</th>\n",
              "      <th>reg_date</th>\n",
              "      <th>tariff</th>\n",
              "      <th>messages_included</th>\n",
              "      <th>mb_per_month_included</th>\n",
              "      <th>minutes_included</th>\n",
              "      <th>rub_monthly_fee</th>\n",
              "      <th>rub_per_gb</th>\n",
              "      <th>rub_per_message</th>\n",
              "      <th>rub_per_minute</th>\n",
              "    </tr>\n",
              "  </thead>\n",
              "  <tbody>\n",
              "    <tr>\n",
              "      <td>0</td>\n",
              "      <td>1</td>\n",
              "      <td>1005</td>\n",
              "      <td>15.0</td>\n",
              "      <td>95.0</td>\n",
              "      <td>7.0</td>\n",
              "      <td>3.0</td>\n",
              "      <td>550.0</td>\n",
              "      <td>2727.97</td>\n",
              "      <td>67</td>\n",
              "      <td>2018-12-31</td>\n",
              "      <td>...</td>\n",
              "      <td>Горлов</td>\n",
              "      <td>2018-01-25</td>\n",
              "      <td>smart</td>\n",
              "      <td>50</td>\n",
              "      <td>15360</td>\n",
              "      <td>500</td>\n",
              "      <td>550</td>\n",
              "      <td>200</td>\n",
              "      <td>3</td>\n",
              "      <td>3</td>\n",
              "    </tr>\n",
              "    <tr>\n",
              "      <td>1</td>\n",
              "      <td>2</td>\n",
              "      <td>1005</td>\n",
              "      <td>69.0</td>\n",
              "      <td>456.0</td>\n",
              "      <td>38.0</td>\n",
              "      <td>8.0</td>\n",
              "      <td>550.0</td>\n",
              "      <td>7383.93</td>\n",
              "      <td>67</td>\n",
              "      <td>2018-12-31</td>\n",
              "      <td>...</td>\n",
              "      <td>Горлов</td>\n",
              "      <td>2018-01-25</td>\n",
              "      <td>smart</td>\n",
              "      <td>50</td>\n",
              "      <td>15360</td>\n",
              "      <td>500</td>\n",
              "      <td>550</td>\n",
              "      <td>200</td>\n",
              "      <td>3</td>\n",
              "      <td>3</td>\n",
              "    </tr>\n",
              "    <tr>\n",
              "      <td>2</td>\n",
              "      <td>3</td>\n",
              "      <td>1005</td>\n",
              "      <td>77.0</td>\n",
              "      <td>607.0</td>\n",
              "      <td>56.0</td>\n",
              "      <td>11.0</td>\n",
              "      <td>889.0</td>\n",
              "      <td>11104.25</td>\n",
              "      <td>67</td>\n",
              "      <td>2018-12-31</td>\n",
              "      <td>...</td>\n",
              "      <td>Горлов</td>\n",
              "      <td>2018-01-25</td>\n",
              "      <td>smart</td>\n",
              "      <td>50</td>\n",
              "      <td>15360</td>\n",
              "      <td>500</td>\n",
              "      <td>550</td>\n",
              "      <td>200</td>\n",
              "      <td>3</td>\n",
              "      <td>3</td>\n",
              "    </tr>\n",
              "    <tr>\n",
              "      <td>3</td>\n",
              "      <td>4</td>\n",
              "      <td>1005</td>\n",
              "      <td>101.0</td>\n",
              "      <td>712.0</td>\n",
              "      <td>41.0</td>\n",
              "      <td>10.0</td>\n",
              "      <td>1186.0</td>\n",
              "      <td>9351.72</td>\n",
              "      <td>67</td>\n",
              "      <td>2018-12-31</td>\n",
              "      <td>...</td>\n",
              "      <td>Горлов</td>\n",
              "      <td>2018-01-25</td>\n",
              "      <td>smart</td>\n",
              "      <td>50</td>\n",
              "      <td>15360</td>\n",
              "      <td>500</td>\n",
              "      <td>550</td>\n",
              "      <td>200</td>\n",
              "      <td>3</td>\n",
              "      <td>3</td>\n",
              "    </tr>\n",
              "    <tr>\n",
              "      <td>4</td>\n",
              "      <td>5</td>\n",
              "      <td>1005</td>\n",
              "      <td>73.0</td>\n",
              "      <td>595.0</td>\n",
              "      <td>42.0</td>\n",
              "      <td>8.0</td>\n",
              "      <td>835.0</td>\n",
              "      <td>7865.53</td>\n",
              "      <td>67</td>\n",
              "      <td>2018-12-31</td>\n",
              "      <td>...</td>\n",
              "      <td>Горлов</td>\n",
              "      <td>2018-01-25</td>\n",
              "      <td>smart</td>\n",
              "      <td>50</td>\n",
              "      <td>15360</td>\n",
              "      <td>500</td>\n",
              "      <td>550</td>\n",
              "      <td>200</td>\n",
              "      <td>3</td>\n",
              "      <td>3</td>\n",
              "    </tr>\n",
              "  </tbody>\n",
              "</table>\n",
              "<p>5 rows × 22 columns</p>\n",
              "</div>"
            ],
            "text/plain": [
              "   month  user_id  count_calls  sum_duration_min  count_messages_inmonth  \\\n",
              "0      1     1005         15.0              95.0                     7.0   \n",
              "1      2     1005         69.0             456.0                    38.0   \n",
              "2      3     1005         77.0             607.0                    56.0   \n",
              "3      4     1005        101.0             712.0                    41.0   \n",
              "4      5     1005         73.0             595.0                    42.0   \n",
              "\n",
              "   gb_total_month  revenue_month  mb_used_inmonth  age churn_date  ...  \\\n",
              "0             3.0          550.0          2727.97   67 2018-12-31  ...   \n",
              "1             8.0          550.0          7383.93   67 2018-12-31  ...   \n",
              "2            11.0          889.0         11104.25   67 2018-12-31  ...   \n",
              "3            10.0         1186.0          9351.72   67 2018-12-31  ...   \n",
              "4             8.0          835.0          7865.53   67 2018-12-31  ...   \n",
              "\n",
              "  last_name   reg_date tariff messages_included mb_per_month_included  \\\n",
              "0    Горлов 2018-01-25  smart                50                 15360   \n",
              "1    Горлов 2018-01-25  smart                50                 15360   \n",
              "2    Горлов 2018-01-25  smart                50                 15360   \n",
              "3    Горлов 2018-01-25  smart                50                 15360   \n",
              "4    Горлов 2018-01-25  smart                50                 15360   \n",
              "\n",
              "   minutes_included  rub_monthly_fee  rub_per_gb  rub_per_message  \\\n",
              "0               500              550         200                3   \n",
              "1               500              550         200                3   \n",
              "2               500              550         200                3   \n",
              "3               500              550         200                3   \n",
              "4               500              550         200                3   \n",
              "\n",
              "   rub_per_minute  \n",
              "0               3  \n",
              "1               3  \n",
              "2               3  \n",
              "3               3  \n",
              "4               3  \n",
              "\n",
              "[5 rows x 22 columns]"
            ]
          },
          "execution_count": 45,
          "metadata": {},
          "output_type": "execute_result"
        }
      ],
      "source": [
        "data_total.head()"
      ]
    },
    {
      "cell_type": "markdown",
      "metadata": {
        "id": "1iNSlboZcV3e"
      },
      "source": [
        "### Вывод"
      ]
    },
    {
      "cell_type": "markdown",
      "metadata": {
        "id": "mE8wU3f1cV3e"
      },
      "source": [
        "Полученные на исследование данные были агрегированы: получены общие расходы по тарифу за месяц для каждого пользователя. Итоговая таблица data_total содержит все необходимые данные для проверки гипотез. На данном этапе можно считать, что предоставленные данные готовы для дальнейшего анализа и решения поставленной задачи. Напомним, что нам нужно выбрать наиболее выгодный, с точки зрения прибыли, тариф для того, чтобы отдел маркетинга спланировали бюджет продвижения. "
      ]
    },
    {
      "cell_type": "markdown",
      "metadata": {
        "id": "T4Iuvy0xcV3e"
      },
      "source": [
        "## 3. Исследование даных"
      ]
    },
    {
      "cell_type": "markdown",
      "metadata": {
        "id": "0h6LHDBRcV3f"
      },
      "source": [
        "Посмотрим на поведение клиентов оператора. Сколько минут разговора, сколько сообщений и какой объём интернет-трафика требуется пользователям каждого тарифа в месяц? Посчитаем среднее количество, дисперсию и стандартное отклонение."
      ]
    },
    {
      "cell_type": "code",
      "execution_count": null,
      "metadata": {
        "scrolled": false,
        "id": "mpPk8J4JcV3f",
        "outputId": "2268ec7d-6c6e-4e2e-fb75-66ce456e2224"
      },
      "outputs": [
        {
          "data": {
            "image/png": "[encoded data removed]",
            "text/plain": [
              "<Figure size 432x288 with 1 Axes>"
            ]
          },
          "metadata": {
            "needs_background": "light"
          },
          "output_type": "display_data"
        },
        {
          "data": {
            "image/png": "[encoded data removed]",
            "text/plain": [
              "<Figure size 432x288 with 1 Axes>"
            ]
          },
          "metadata": {
            "needs_background": "light"
          },
          "output_type": "display_data"
        },
        {
          "data": {
            "image/png": "[encoded data removed]",
            "text/plain": [
              "<Figure size 432x288 with 1 Axes>"
            ]
          },
          "metadata": {
            "needs_background": "light"
          },
          "output_type": "display_data"
        }
      ],
      "source": [
        "colum_list = ['sum_duration_min', 'count_messages_inmonth', 'gb_total_month']\n",
        "for column in colum_list:\n",
        "    data_total.query('tariff == \"smart\"')[column].plot(kind='hist', bins=30)\n",
        "    data_total.query('tariff == \"ultra\"')[column].plot(kind='hist', bins=30, alpha=0.8)\n",
        "    plt.title('Гисторграмма сравнения smart - \"s\" и ultra - \"u\" по ' + column)\n",
        "    plt.legend('su')\n",
        "    plt.show()\n",
        "    #display(data[column].describe())"
      ]
    },
    {
      "cell_type": "markdown",
      "metadata": {
        "id": "8t7M6qk-cV3g"
      },
      "source": [
        "Из гистограмм видно, что в целом виды распределения совпадают у обоих тарифов. Пользователи тарифа ultra не привязаны к ограничению в тарифе, поэтому распределения по количеству потраченных минут имеет более тяжелый \"хост\" вплоть до 1500 мин, тогда, как на тарифе smart практически все количество данных лежит до 1000 мин."
      ]
    },
    {
      "cell_type": "markdown",
      "metadata": {
        "id": "3NhrH6FCcV3g"
      },
      "source": [
        "Посмотрим на статистические показатели"
      ]
    },
    {
      "cell_type": "code",
      "execution_count": null,
      "metadata": {
        "scrolled": false,
        "id": "s6D2WLpbcV3g",
        "outputId": "4d19a0a2-37b0-413d-9c04-7e5b0249c1ac"
      },
      "outputs": [
        {
          "name": "stdout",
          "output_type": "stream",
          "text": [
            "Статистические показатели smart\n",
            "count    2229.000000\n",
            "mean      418.165994\n",
            "std       190.407345\n",
            "min         0.000000\n",
            "25%       282.000000\n",
            "50%       422.000000\n",
            "75%       546.000000\n",
            "max      1435.000000\n",
            "Name: sum_duration_min, dtype: float64\n",
            "\n",
            "Статистические показатели ultra\n",
            "count     985.000000\n",
            "mean      526.920812\n",
            "std       317.779487\n",
            "min         0.000000\n",
            "25%       284.000000\n",
            "50%       518.000000\n",
            "75%       752.000000\n",
            "max      1674.000000\n",
            "Name: sum_duration_min, dtype: float64\n",
            "\n",
            "Статистические показатели smart\n",
            "count    2229.000000\n",
            "mean       33.384029\n",
            "std        28.227876\n",
            "min         0.000000\n",
            "25%        10.000000\n",
            "50%        28.000000\n",
            "75%        51.000000\n",
            "max       143.000000\n",
            "Name: count_messages_inmonth, dtype: float64\n",
            "\n",
            "Статистические показатели ultra\n",
            "count    985.000000\n",
            "mean      49.363452\n",
            "std       47.804457\n",
            "min        0.000000\n",
            "25%        6.000000\n",
            "50%       38.000000\n",
            "75%       79.000000\n",
            "max      224.000000\n",
            "Name: count_messages_inmonth, dtype: float64\n",
            "\n",
            "Статистические показатели smart\n",
            "count    2229.000000\n",
            "mean       16.328847\n",
            "std         5.747061\n",
            "min         0.000000\n",
            "25%        13.000000\n",
            "50%        17.000000\n",
            "75%        20.000000\n",
            "max        38.000000\n",
            "Name: gb_total_month, dtype: float64\n",
            "\n",
            "Статистические показатели ultra\n",
            "count    985.000000\n",
            "mean      19.494416\n",
            "std        9.853511\n",
            "min        0.000000\n",
            "25%       12.000000\n",
            "50%       19.000000\n",
            "75%       27.000000\n",
            "max       49.000000\n",
            "Name: gb_total_month, dtype: float64\n",
            "\n"
          ]
        },
        {
          "data": {
            "image/png": "[encoded data removed]",
            "text/plain": [
              "<Figure size 360x360 with 1 Axes>"
            ]
          },
          "metadata": {
            "needs_background": "light"
          },
          "output_type": "display_data"
        },
        {
          "data": {
            "image/png": "[encoded data removed]",
            "text/plain": [
              "<Figure size 360x360 with 1 Axes>"
            ]
          },
          "metadata": {
            "needs_background": "light"
          },
          "output_type": "display_data"
        },
        {
          "data": {
            "image/png": "[encoded data removed]",
            "text/plain": [
              "<Figure size 360x360 with 1 Axes>"
            ]
          },
          "metadata": {
            "needs_background": "light"
          },
          "output_type": "display_data"
        }
      ],
      "source": [
        "for col in colum_list:\n",
        "    print('Статистические показатели smart')\n",
        "    print(data_total.query('tariff == \"smart\"')[col].describe())\n",
        "    print()\n",
        "    print('Статистические показатели ultra')\n",
        "    print(data_total.query('tariff == \"ultra\"')[col].describe())\n",
        "    print()\n",
        "    data_total.boxplot(col, by='tariff', figsize=(5, 5))"
      ]
    },
    {
      "cell_type": "markdown",
      "metadata": {
        "id": "s9_uFlzKcV3h"
      },
      "source": [
        "По диаграме разброса подверждается наша гипотеза о том, что пользователи тарифа ultra имеют более широкое распределение значений. "
      ]
    },
    {
      "cell_type": "markdown",
      "metadata": {
        "id": "HqAMnzUWcV3i"
      },
      "source": [
        "### Вывод"
      ]
    },
    {
      "cell_type": "markdown",
      "metadata": {
        "id": "BTM3t9IWcV3i"
      },
      "source": [
        "В ходе исследовательского анализа были обнаружены отличия в поведении пользователей тарфиов smart и ultra:\n",
        "- Пользователи тарифа smart имеют ограничения в рамках тарифа в значениях количество минут: 500 мин, количество сообщений: 50 и объем трафика: 15 Гб. Ввиду этих ограничений около 70 % пользователей этого тарифа используют его бесплатный лимит для звонков и смс. Пик гистограммы распределения значений приходится на границу значений по тарифу. Примечательно, что за пределы лимита по использованию интернета выходят более 50 % пользователей и соответственно платят за перерасход. \n",
        "- Пользователи тарифа ultra имеют ограничения в рамках тарифа в значениях количество минут: 3000 мин, количество сообщений: 1000 и объем трафика: 30 Гб. Практически 100 % пользователей данного тарифа остаются в рамках лимита по звонкам и смс. Только по объему трафика за пределы лимита выходят около 20% пользователей и платят за перерасход. "
      ]
    },
    {
      "cell_type": "markdown",
      "metadata": {
        "id": "y1NIfimucV3i"
      },
      "source": [
        "## Проверка гипотез"
      ]
    },
    {
      "cell_type": "markdown",
      "metadata": {
        "id": "R4mrH9OrcV3j"
      },
      "source": [
        "В данном разделе на основе статистических показателей выясним, как отличается выручка по пользователям разных тарифов smart и ultra. Также посмотрим, как средняя выручка по пользователям из Москвы отличается от выручки по пользователям из других регионов."
      ]
    },
    {
      "cell_type": "markdown",
      "metadata": {
        "id": "cVWF045ZcV3j"
      },
      "source": [
        "Для начала вызуально оценим, как распределяются данные  по выручке по интересующим нас условиям."
      ]
    },
    {
      "cell_type": "code",
      "execution_count": null,
      "metadata": {
        "scrolled": false,
        "id": "huDr61zWcV3j",
        "outputId": "f4d8f4d2-4eda-4845-d950-336ea8f35b55"
      },
      "outputs": [
        {
          "data": {
            "image/png": "[encoded data removed]",
            "text/plain": [
              "<Figure size 432x288 with 1 Axes>"
            ]
          },
          "metadata": {
            "needs_background": "light"
          },
          "output_type": "display_data"
        },
        {
          "data": {
            "text/plain": [
              "Text(0.5, 1.0, 'Гисторграмма тарифа \"ultra\" по выручке')"
            ]
          },
          "execution_count": 48,
          "metadata": {},
          "output_type": "execute_result"
        },
        {
          "data": {
            "image/png": "[encoded data removed]",
            "text/plain": [
              "<Figure size 432x288 with 1 Axes>"
            ]
          },
          "metadata": {
            "needs_background": "light"
          },
          "output_type": "display_data"
        }
      ],
      "source": [
        "data_total.query('tariff == \"smart\"')['revenue_month'].hist(density=True, range=(0, 4000), bins=30)\n",
        "plt.title('Гисторграмма тарифа \"smart\" по выручке')\n",
        "plt.show()\n",
        "data_total.query('tariff == \"ultra\"')['revenue_month'].hist(density=True, range=(1500, 5000), bins=30)\n",
        "plt.title('Гисторграмма тарифа \"ultra\" по выручке')"
      ]
    },
    {
      "cell_type": "markdown",
      "metadata": {
        "id": "XJ8KDjVvcV3j"
      },
      "source": [
        "По распределению данных относительно выручки выидно, что пользователи тарифа smart чаще переплачивают сверх тарифного плана. В то же время пользователи тарифа ultra с большей вероятностью укладываются в лимиты тарифа. "
      ]
    },
    {
      "cell_type": "markdown",
      "metadata": {
        "id": "VM2fgNV7cV3k"
      },
      "source": [
        "Посмотрим на среднее и стандартное отклонение."
      ]
    },
    {
      "cell_type": "code",
      "execution_count": null,
      "metadata": {
        "id": "LWcAc-mWcV3k",
        "outputId": "a9c2e6d4-a56b-4d07-f9b5-a3e32ed637c1"
      },
      "outputs": [
        {
          "data": {
            "text/plain": [
              "count    2229.000000\n",
              "mean     1290.335576\n",
              "std       818.543215\n",
              "min       550.000000\n",
              "25%       550.000000\n",
              "50%      1023.000000\n",
              "75%      1750.000000\n",
              "max      6770.000000\n",
              "Name: revenue_month, dtype: float64"
            ]
          },
          "execution_count": 49,
          "metadata": {},
          "output_type": "execute_result"
        }
      ],
      "source": [
        "data_total.query('tariff == \"smart\"')['revenue_month'].describe()"
      ]
    },
    {
      "cell_type": "code",
      "execution_count": null,
      "metadata": {
        "scrolled": false,
        "id": "mc4XJ_4TcV3l",
        "outputId": "269fa780-ef7d-4efe-d1a5-7d681418e359"
      },
      "outputs": [
        {
          "data": {
            "text/plain": [
              "count     985.000000\n",
              "mean     2070.152284\n",
              "std       376.187114\n",
              "min      1950.000000\n",
              "25%      1950.000000\n",
              "50%      1950.000000\n",
              "75%      1950.000000\n",
              "max      4800.000000\n",
              "Name: revenue_month, dtype: float64"
            ]
          },
          "execution_count": 50,
          "metadata": {},
          "output_type": "execute_result"
        }
      ],
      "source": [
        "data_total.query('tariff == \"ultra\"')['revenue_month'].describe()"
      ]
    },
    {
      "cell_type": "markdown",
      "metadata": {
        "id": "ZVQ6pMffcV3l"
      },
      "source": [
        "По статичстическим показателям видно, как отличаются распределения по 2-м тарифам. В том числе стандартное отклонение отличается более, чем в 2 раза. Это дает нам сигнал о том, что мы сравниваем 2 независимые выборки. Поэтому мы будем проверять гипотезу о равенстве средних двух независимых генеральных совокупностей с отличающимися дисперсиями. Эти выводы подводят нас к определенному методу для проверки выдвинутых гипотез. "
      ]
    },
    {
      "cell_type": "markdown",
      "metadata": {
        "id": "yzOdWa5ccV3m"
      },
      "source": [
        "Для сравнения 2-х независимых выборок будем использовать t-критерий Стьюдента."
      ]
    },
    {
      "cell_type": "markdown",
      "metadata": {
        "id": "93j4Y_PCcV3n"
      },
      "source": [
        "Сформулируем нулевую и альтернативную гипотезы о равенстве средних двух генеральных совокупностей."
      ]
    },
    {
      "cell_type": "markdown",
      "metadata": {
        "id": "7atHSbd_cV3o"
      },
      "source": [
        "Нулевая гипотеза H0: средняя выручка пользователей тарифа smart и ultra равны.\n",
        "Альтернативная гипотеза H1: средняя выручка пользователей тарифа smart и ultra не равны."
      ]
    },
    {
      "cell_type": "markdown",
      "metadata": {
        "id": "qSBy96aXcV3o"
      },
      "source": [
        "По гистограммам было видно, что в наших сраниваемых наборах данных присутствуют выбросы. Так как статистические показатели чувствительны к выбросам для начала нам нужно отфильтровать наш датасет и сравнивать уже очищенные данные. "
      ]
    },
    {
      "cell_type": "code",
      "execution_count": null,
      "metadata": {
        "id": "SMEFPwmBcV3o"
      },
      "outputs": [],
      "source": [
        "q1 = data_total['revenue_month'].quantile(0.25)\n",
        "q3 = data_total['revenue_month'].quantile(0.75)\n",
        "iqr = q3-q1\n",
        "smart = data_total.query('tariff == \"smart\" and revenue_month < (@q3 + 1.5*@iqr) and revenue_month > (@q1 - 1.5*@iqr)')\n",
        "ultra = data_total.query('tariff == \"ultra\" and revenue_month < (@q3 + 1.5*@iqr) and revenue_month > (@q1 - 1.5*@iqr)')"
      ]
    },
    {
      "cell_type": "markdown",
      "metadata": {
        "id": "w1O4HVqNcV3p"
      },
      "source": [
        "Проверям:"
      ]
    },
    {
      "cell_type": "code",
      "execution_count": null,
      "metadata": {
        "id": "b1TAvfpqcV3p",
        "outputId": "f5dc794c-533b-444c-f26c-756cc498f715"
      },
      "outputs": [
        {
          "data": {
            "image/png": "[encoded data removed]",
            "text/plain": [
              "<Figure size 432x288 with 1 Axes>"
            ]
          },
          "metadata": {
            "needs_background": "light"
          },
          "output_type": "display_data"
        },
        {
          "data": {
            "text/plain": [
              "<matplotlib.axes._subplots.AxesSubplot at 0x7fe4035a4790>"
            ]
          },
          "execution_count": 52,
          "metadata": {},
          "output_type": "execute_result"
        },
        {
          "data": {
            "image/png": "[encoded data removed]",
            "text/plain": [
              "<Figure size 432x288 with 1 Axes>"
            ]
          },
          "metadata": {
            "needs_background": "light"
          },
          "output_type": "display_data"
        }
      ],
      "source": [
        "smart['revenue_month'].hist()\n",
        "plt.show()\n",
        "ultra['revenue_month'].hist()"
      ]
    },
    {
      "cell_type": "markdown",
      "metadata": {
        "id": "NuKemK9VcV3q"
      },
      "source": [
        "Проверяем гипотезу. Зададим уровень статистической значимости равным 0,05. Если вероятность p-value > 0.05, то гипотезу не отвергаем, а если меньше, то отвергаем и это будет говорить нам о том, что средняя выручка по пользователям разных тарифов отличается! "
      ]
    },
    {
      "cell_type": "code",
      "execution_count": null,
      "metadata": {
        "scrolled": true,
        "id": "MHim70YNcV3q",
        "outputId": "b3b61dea-3579-408c-bc31-d6fc7af4b0cc"
      },
      "outputs": [
        {
          "name": "stdout",
          "output_type": "stream",
          "text": [
            "Вероятность равенства выручки двух тарифов равна:  6.39772647487267e-196\n"
          ]
        }
      ],
      "source": [
        "alpha = 0.05\n",
        "comparing_tariff = st.ttest_ind(smart['revenue_month'], ultra['revenue_month'])\n",
        "print('Вероятность равенства выручки двух тарифов равна: ', comparing_tariff.pvalue)"
      ]
    },
    {
      "cell_type": "code",
      "execution_count": null,
      "metadata": {
        "scrolled": true,
        "id": "FWeQSnyQcV3q",
        "outputId": "89b85e68-1a32-49af-8f39-470cc9785c27"
      },
      "outputs": [
        {
          "name": "stdout",
          "output_type": "stream",
          "text": [
            "Отвергаем нулевую гипотезу\n"
          ]
        }
      ],
      "source": [
        "if comparing_tariff.pvalue < alpha:\n",
        "    print('Отвергаем нулевую гипотезу')\n",
        "else: \n",
        "    print('Не отвергаем нулевую гипотезу')"
      ]
    },
    {
      "cell_type": "markdown",
      "metadata": {
        "id": "U2WT0l2WcV3r"
      },
      "source": [
        "Это было видно и без сравнения, но все же мы проверили статистическим методом вероятность равенства 2-х генеральных совокупностей. Как видно из результата такая вероятность стремиться к нулю или простыми словами: выручка по пользователям разных тарифов сильно отличается!"
      ]
    },
    {
      "cell_type": "markdown",
      "metadata": {
        "id": "GoJToHUFcV3t"
      },
      "source": [
        "Пользователи тарифа ultra с большей вероятностью принесут компании больше выручки, чем пользователи тарифа smart даже с учетом того, что пользователи этого тарифа постоянно перепачивают сверх лимита."
      ]
    },
    {
      "cell_type": "markdown",
      "metadata": {
        "id": "Ia_PtmWFcV3t"
      },
      "source": [
        "Теперь проверим, как локация пользователей влияет на выручку."
      ]
    },
    {
      "cell_type": "markdown",
      "metadata": {
        "id": "IN5K2IGXcV3t"
      },
      "source": [
        "Нулевая гипотеза: Средняя вырчка по пользователям из Москвы и других регионов равна. Альтернативная гипотеза: Средняя вырчка по пользователям из Москвы и других регионов отличается."
      ]
    },
    {
      "cell_type": "code",
      "execution_count": null,
      "metadata": {
        "id": "VGDjdCzIcV3u",
        "outputId": "7b5af714-f56e-45d7-dfd6-2e6b635cae7c"
      },
      "outputs": [
        {
          "data": {
            "text/plain": [
              "array(['Набережные Челны', 'Ульяновск', 'Улан-Удэ', 'Казань', 'Омск',\n",
              "       'Чита', 'Краснодар', 'Санкт-Петербург', 'Красноярск',\n",
              "       'Архангельск', 'Ставрополь', 'Кострома', 'Волгоград', 'Тамбов',\n",
              "       'Москва', 'Киров', 'Ростов-на-Дону', 'Уфа', 'Вологда', 'Пенза',\n",
              "       'Магнитогорск', 'Иркутск', 'Орёл', 'Астрахань', 'Подольск',\n",
              "       'Ярославль', 'Новокузнецк', 'Нижний Тагил', 'Мурманск', 'Самара',\n",
              "       'Воронеж', 'Пермь', 'Саранск', 'Новосибирск', 'Владивосток',\n",
              "       'Нижний Новгород', 'Новороссийск', 'Брянск', 'Челябинск',\n",
              "       'Калининград', 'Барнаул', 'Якутск', 'Тольятти', 'Курган', 'Томск',\n",
              "       'Балашиха', 'Саратов', 'Петрозаводск', 'Тюмень', 'Курск', 'Тула',\n",
              "       'Сочи', 'Оренбург', 'Смоленск', 'Хабаровск', 'Рязань', 'Махачкала',\n",
              "       'Тверь', 'Ижевск', 'Чебоксары', 'Белгород', 'Череповец',\n",
              "       'Стерлитамак', 'Владимир', 'Волжский', 'Калуга', 'Екатеринбург',\n",
              "       'Севастополь', 'Нижневартовск', 'Грозный', 'Владикавказ', 'Химки',\n",
              "       'Сургут', 'Липецк', 'Кемерово', 'Иваново'], dtype=object)"
            ]
          },
          "execution_count": 56,
          "metadata": {},
          "output_type": "execute_result"
        }
      ],
      "source": [
        "data_total['city'].unique()"
      ]
    },
    {
      "cell_type": "code",
      "execution_count": null,
      "metadata": {
        "id": "Ye5qxrIkcV3u"
      },
      "outputs": [],
      "source": [
        "moscow = data_total.query('city == \"Москва\" and revenue_month < (@q3 + 1.5*@iqr) and revenue_month > (@q1 - 1.5*@iqr)')['revenue_month']\n",
        "other_city = data_total.query('city != \"Москва\" and revenue_month < (@q3 + 1.5*@iqr) and revenue_month > (@q1 - 1.5*@iqr)')['revenue_month']"
      ]
    },
    {
      "cell_type": "code",
      "execution_count": null,
      "metadata": {
        "id": "8eUOHg6ncV3u",
        "outputId": "233efef6-8989-4d35-9d1d-8ea2a0e5dd13"
      },
      "outputs": [
        {
          "name": "stdout",
          "output_type": "stream",
          "text": [
            "Вероятность равенства выручки в Москве и других регионах:  0.18319549980221056\n"
          ]
        }
      ],
      "source": [
        "comparing_city = st.ttest_ind(moscow, other_city)\n",
        "print('Вероятность равенства выручки в Москве и других регионах: ', comparing_city.pvalue)"
      ]
    },
    {
      "cell_type": "code",
      "execution_count": null,
      "metadata": {
        "id": "9JwYt52ncV3v",
        "outputId": "bbe0a3e2-4f6e-4ff4-cdc1-3aac87047e18"
      },
      "outputs": [
        {
          "name": "stdout",
          "output_type": "stream",
          "text": [
            "Не отвергаем нулевую гипотезу\n"
          ]
        }
      ],
      "source": [
        "if comparing_city.pvalue < alpha:\n",
        "    print('Отвергаем нулевую гипотезу')\n",
        "else:\n",
        "    print(\"Не отвергаем нулевую гипотезу\")"
      ]
    },
    {
      "cell_type": "markdown",
      "metadata": {
        "id": "2TgwOR6NcV3w"
      },
      "source": [
        "Отбросить гипотезу о том, что выручка по пользователям из Москвы и других регионов равна нельзя. Что говорит нам о том, что в целом нет различия в том, где находятся наши пользователи, гораздо важнее каким тарифом он пользуется. Наиболее выгодный для компании тариф и предстоит рекламировать отделу маркетинга."
      ]
    },
    {
      "cell_type": "markdown",
      "metadata": {
        "id": "oYIFAKBbcV3w"
      },
      "source": [
        "На сколько процентов отличаются средние значения для разных тарифов."
      ]
    },
    {
      "cell_type": "code",
      "execution_count": null,
      "metadata": {
        "id": "J08fe5jGcV3x",
        "outputId": "ec9daf61-a6ed-4fea-a03f-5226f445d28a"
      },
      "outputs": [
        {
          "data": {
            "text/plain": [
              "61.51576556284179"
            ]
          },
          "execution_count": 60,
          "metadata": {},
          "output_type": "execute_result"
        }
      ],
      "source": [
        "smart['revenue_month'].mean() / ultra['revenue_month'].mean() * 100"
      ]
    },
    {
      "cell_type": "markdown",
      "metadata": {
        "id": "EhiejzT0cV3x"
      },
      "source": [
        "### Вывод"
      ]
    },
    {
      "cell_type": "markdown",
      "metadata": {
        "id": "gP7gyo6TcV3y"
      },
      "source": [
        "В данном разделе нашего исследования были проверены гипотезы относительно вида тарифа и локации пользователей. Было выявлено, что пользователи тарифа ultra с большей вероятностью принесут компании больше выручки, чем пользователи тарифа smart. Это связано с изначально высокой стоимостью ежемесячного платежа. Переплаты сверх тарифа ultra оказывают минимальный эффект на среднюю выручку пользователя. Также была проверена гипотеза относительно локации пользователя. Здесь результат позволяет нам сказать, что с большей вероятностью, что пользователи Москвы и других регионов в среднем тратят на мобильную связь одинаковую сумму. "
      ]
    },
    {
      "cell_type": "markdown",
      "metadata": {
        "id": "47vN7hvacV3y"
      },
      "source": [
        "## 4. Общие выводы"
      ]
    },
    {
      "cell_type": "markdown",
      "metadata": {
        "id": "O9zKJqiScV3y"
      },
      "source": [
        "Целью даного исследования было определения наиболее выгодного для компании тарифа. В ходе исследования были сделаны следующие выводы:\n",
        "- Полученные данные были предобработаны и объеденены в общую таблицу. В данных были обнаружены пользователи, которые не провели ни одну операцию по симкарте. Данные по этим пользователям были удалены из общей таблице. \n",
        "- Поведенчиские модели сильно отличаются в зависимости от тарифа пользователя. Пользователи тарифа smart имеют ограничения в рамках тарифа в значениях количество минут: 500 мин, количество сообщений: 50 и объем трафика: 15 Гб. Эти ограничения оказывают сильный сдерживающий эффект и поэтому большое количество данных распределено возле границ лимита. Можно сделать вывод о том, что большей части пользователей этого тарифа не хватает бесплатного лимита и либо они ограничивают использование либо выходят за его лимиты. Примечательно, что за пределы лимита по использованию интернета выходят более 50 % пользователей и соответственно платят за перерасход. \n",
        "- Пользователи тарифа ultra имеют ограничения в рамках тарифа в значениях количество минут: 3000 мин, количество сообщений: 1000 и объем трафика: 30 Гб. Практически 100 % пользователей данного тарифа остаются в рамках лимита по звонкам и смс. Только по объему трафика за пределы лимита выходят около 20% пользователей и платят за перерасход.\n",
        "- Статистическим методом было определено, что выручка по пользователям разных тарифов сильно отличается. В среднем выручка с пользователей тарифа ultra выше примерно на 40 %\n",
        "- Было выявлено, что в среднем пользователи из Москвы и других регионов тратят сравнимое количество денег на использование мобильной связи. \n",
        "<p> Конечную рекомендацию можно сформулировать следующим способом: отделу маркетинга следует подготовить рекламную компанию тарифа ultra причем не нужно диференциировать креативы для разных регионов. Также возможно следует рассмотреть возможность введния нового тарифа: что-то среднее между smart и ultra. Это позволит увеличить средний чек от ежемесячной оплаты и увеличить лояльность пользователей, которые сейчас используют тариф smart и регулярно переплачивают."
      ]
    }
  ],
  "metadata": {
    "ExecuteTimeLog": [
      {
        "duration": 1117,
        "start_time": "2021-10-25T16:37:39.735Z"
      },
      {
        "duration": 42,
        "start_time": "2021-10-25T16:47:30.093Z"
      },
      {
        "duration": 162,
        "start_time": "2021-10-25T16:49:28.850Z"
      },
      {
        "duration": 3,
        "start_time": "2021-10-25T16:56:10.569Z"
      },
      {
        "duration": 9,
        "start_time": "2021-10-25T16:56:10.575Z"
      },
      {
        "duration": 34,
        "start_time": "2021-10-25T16:56:10.586Z"
      },
      {
        "duration": 32,
        "start_time": "2021-10-25T16:56:19.527Z"
      },
      {
        "duration": 1214,
        "start_time": "2021-10-25T16:56:40.037Z"
      },
      {
        "duration": 10,
        "start_time": "2021-10-25T16:56:41.253Z"
      },
      {
        "duration": 568,
        "start_time": "2021-10-25T16:56:41.266Z"
      },
      {
        "duration": 783,
        "start_time": "2021-10-25T16:56:41.053Z"
      },
      {
        "duration": 775,
        "start_time": "2021-10-25T16:56:41.062Z"
      },
      {
        "duration": 768,
        "start_time": "2021-10-25T16:56:41.070Z"
      },
      {
        "duration": 45,
        "start_time": "2021-10-25T16:59:06.052Z"
      },
      {
        "duration": 46,
        "start_time": "2021-10-25T16:59:21.037Z"
      },
      {
        "duration": 46,
        "start_time": "2021-10-25T16:59:38.543Z"
      },
      {
        "duration": 42,
        "start_time": "2021-10-25T16:59:56.384Z"
      },
      {
        "duration": 37,
        "start_time": "2021-10-25T17:04:19.253Z"
      },
      {
        "duration": 8,
        "start_time": "2021-10-25T17:05:09.432Z"
      },
      {
        "duration": 15,
        "start_time": "2021-10-25T17:05:22.442Z"
      },
      {
        "duration": 3,
        "start_time": "2021-10-25T17:12:35.844Z"
      },
      {
        "duration": 6,
        "start_time": "2021-10-25T17:12:35.849Z"
      },
      {
        "duration": 362,
        "start_time": "2021-10-25T17:15:59.932Z"
      },
      {
        "duration": 2,
        "start_time": "2021-10-25T17:16:20.612Z"
      },
      {
        "duration": 376,
        "start_time": "2021-10-25T17:16:24.518Z"
      },
      {
        "duration": 636,
        "start_time": "2021-10-25T17:16:48.158Z"
      },
      {
        "duration": 567,
        "start_time": "2021-10-25T17:17:50.631Z"
      },
      {
        "duration": 3,
        "start_time": "2021-10-25T17:17:57.056Z"
      },
      {
        "duration": 421,
        "start_time": "2021-10-25T17:17:57.062Z"
      },
      {
        "duration": 3,
        "start_time": "2021-10-25T17:21:07.963Z"
      },
      {
        "duration": 526,
        "start_time": "2021-10-25T17:21:27.213Z"
      },
      {
        "duration": 3,
        "start_time": "2021-10-25T17:22:09.162Z"
      },
      {
        "duration": 47,
        "start_time": "2021-10-25T17:22:12.692Z"
      },
      {
        "duration": 90,
        "start_time": "2021-10-25T17:24:11.022Z"
      },
      {
        "duration": 4,
        "start_time": "2021-10-25T17:24:40.531Z"
      },
      {
        "duration": 107,
        "start_time": "2021-10-25T17:24:40.537Z"
      },
      {
        "duration": 799,
        "start_time": "2021-10-25T17:24:39.847Z"
      },
      {
        "duration": 3,
        "start_time": "2021-10-25T17:24:51.282Z"
      },
      {
        "duration": 54,
        "start_time": "2021-10-25T17:24:54.378Z"
      },
      {
        "duration": 208,
        "start_time": "2021-10-25T17:26:15.902Z"
      },
      {
        "duration": 115,
        "start_time": "2021-10-25T17:26:53.546Z"
      },
      {
        "duration": 186,
        "start_time": "2021-10-25T17:29:00.941Z"
      },
      {
        "duration": 51,
        "start_time": "2021-10-25T18:04:25.076Z"
      },
      {
        "duration": 248,
        "start_time": "2021-10-25T19:31:05.301Z"
      },
      {
        "duration": 246,
        "start_time": "2021-10-25T19:31:11.681Z"
      },
      {
        "duration": 4,
        "start_time": "2021-10-25T19:31:21.433Z"
      },
      {
        "duration": 227,
        "start_time": "2021-10-25T19:56:24.240Z"
      },
      {
        "duration": 241,
        "start_time": "2021-10-25T19:56:31.161Z"
      },
      {
        "duration": 9,
        "start_time": "2021-10-25T19:57:22.229Z"
      },
      {
        "duration": 8,
        "start_time": "2021-10-25T19:57:33.148Z"
      },
      {
        "duration": 4,
        "start_time": "2021-10-25T20:01:32.800Z"
      },
      {
        "duration": 6,
        "start_time": "2021-10-25T20:01:32.806Z"
      },
      {
        "duration": 61,
        "start_time": "2021-10-25T20:01:32.864Z"
      },
      {
        "duration": 310,
        "start_time": "2021-10-25T20:01:32.926Z"
      },
      {
        "duration": 170,
        "start_time": "2021-10-25T20:01:33.238Z"
      },
      {
        "duration": 259,
        "start_time": "2021-10-25T20:01:33.410Z"
      },
      {
        "duration": 52,
        "start_time": "2021-10-25T20:01:33.671Z"
      },
      {
        "duration": 3,
        "start_time": "2021-10-25T20:02:28.485Z"
      },
      {
        "duration": 6,
        "start_time": "2021-10-25T20:02:28.489Z"
      },
      {
        "duration": 56,
        "start_time": "2021-10-25T20:02:28.497Z"
      },
      {
        "duration": 196,
        "start_time": "2021-10-25T20:02:28.555Z"
      },
      {
        "duration": 119,
        "start_time": "2021-10-25T20:02:28.763Z"
      },
      {
        "duration": 180,
        "start_time": "2021-10-25T20:02:28.884Z"
      },
      {
        "duration": 48,
        "start_time": "2021-10-25T20:02:29.066Z"
      },
      {
        "duration": 3,
        "start_time": "2021-10-25T20:02:56.543Z"
      },
      {
        "duration": 6,
        "start_time": "2021-10-25T20:02:56.548Z"
      },
      {
        "duration": 57,
        "start_time": "2021-10-25T20:02:56.556Z"
      },
      {
        "duration": 6,
        "start_time": "2021-10-25T20:03:44.681Z"
      },
      {
        "duration": 15,
        "start_time": "2021-10-25T20:04:07.025Z"
      },
      {
        "duration": 3,
        "start_time": "2021-10-25T20:05:08.877Z"
      },
      {
        "duration": 10,
        "start_time": "2021-10-25T20:05:08.881Z"
      },
      {
        "duration": 58,
        "start_time": "2021-10-25T20:05:08.893Z"
      },
      {
        "duration": 3,
        "start_time": "2021-10-25T20:06:07.694Z"
      },
      {
        "duration": 11,
        "start_time": "2021-10-25T20:06:07.699Z"
      },
      {
        "duration": 61,
        "start_time": "2021-10-25T20:06:07.712Z"
      },
      {
        "duration": 277,
        "start_time": "2021-10-25T20:06:07.775Z"
      },
      {
        "duration": 153,
        "start_time": "2021-10-25T20:06:08.054Z"
      },
      {
        "duration": 227,
        "start_time": "2021-10-25T20:06:08.209Z"
      },
      {
        "duration": 52,
        "start_time": "2021-10-25T20:06:08.439Z"
      },
      {
        "duration": 257,
        "start_time": "2021-10-25T20:20:14.834Z"
      },
      {
        "duration": 271,
        "start_time": "2021-10-25T20:20:42.553Z"
      },
      {
        "duration": 9,
        "start_time": "2021-10-25T20:20:52.735Z"
      },
      {
        "duration": 332,
        "start_time": "2021-10-26T13:39:06.426Z"
      },
      {
        "duration": 997,
        "start_time": "2021-10-26T13:39:17.660Z"
      },
      {
        "duration": 3,
        "start_time": "2021-10-26T13:39:18.659Z"
      },
      {
        "duration": 70,
        "start_time": "2021-10-26T13:39:18.664Z"
      },
      {
        "duration": 264,
        "start_time": "2021-10-26T13:39:18.736Z"
      },
      {
        "duration": 126,
        "start_time": "2021-10-26T13:39:19.002Z"
      },
      {
        "duration": 215,
        "start_time": "2021-10-26T13:39:19.129Z"
      },
      {
        "duration": 52,
        "start_time": "2021-10-26T13:39:19.346Z"
      },
      {
        "duration": 7,
        "start_time": "2021-10-26T13:39:19.401Z"
      },
      {
        "duration": 319,
        "start_time": "2021-10-26T13:39:19.409Z"
      },
      {
        "duration": 6920,
        "start_time": "2021-10-26T13:44:44.054Z"
      },
      {
        "duration": 10151,
        "start_time": "2021-10-26T13:45:03.672Z"
      },
      {
        "duration": 3,
        "start_time": "2021-10-26T13:45:34.772Z"
      },
      {
        "duration": 39,
        "start_time": "2021-10-26T13:52:55.149Z"
      },
      {
        "duration": 7,
        "start_time": "2021-10-26T13:53:15.843Z"
      },
      {
        "duration": 34,
        "start_time": "2021-10-26T13:56:27.745Z"
      },
      {
        "duration": 38,
        "start_time": "2021-10-26T13:56:41.791Z"
      },
      {
        "duration": 38,
        "start_time": "2021-10-26T13:57:42.088Z"
      },
      {
        "duration": 389,
        "start_time": "2021-10-26T13:58:00.714Z"
      },
      {
        "duration": 306,
        "start_time": "2021-10-26T13:58:09.712Z"
      },
      {
        "duration": 39,
        "start_time": "2021-10-26T13:58:23.599Z"
      },
      {
        "duration": 273,
        "start_time": "2021-10-26T13:59:01.530Z"
      },
      {
        "duration": 34,
        "start_time": "2021-10-26T13:59:10.463Z"
      },
      {
        "duration": 38,
        "start_time": "2021-10-26T14:10:26.300Z"
      },
      {
        "duration": 36,
        "start_time": "2021-10-26T14:11:08.420Z"
      },
      {
        "duration": 7,
        "start_time": "2021-10-26T14:13:33.618Z"
      },
      {
        "duration": 36,
        "start_time": "2021-10-26T14:13:53.027Z"
      },
      {
        "duration": 35,
        "start_time": "2021-10-26T14:13:59.967Z"
      },
      {
        "duration": 36,
        "start_time": "2021-10-26T14:14:04.384Z"
      },
      {
        "duration": 38,
        "start_time": "2021-10-26T14:14:15.457Z"
      },
      {
        "duration": 6,
        "start_time": "2021-10-26T14:19:00.706Z"
      },
      {
        "duration": 56,
        "start_time": "2021-10-26T14:21:25.489Z"
      },
      {
        "duration": 5,
        "start_time": "2021-10-26T14:21:50.861Z"
      },
      {
        "duration": 8,
        "start_time": "2021-10-26T14:58:46.923Z"
      },
      {
        "duration": 768,
        "start_time": "2021-10-26T15:20:29.435Z"
      },
      {
        "duration": 4,
        "start_time": "2021-10-26T15:26:25.930Z"
      },
      {
        "duration": 3,
        "start_time": "2021-10-26T15:42:18.596Z"
      },
      {
        "duration": 4,
        "start_time": "2021-10-26T15:42:36.981Z"
      },
      {
        "duration": 3,
        "start_time": "2021-10-26T15:43:40.832Z"
      },
      {
        "duration": 2,
        "start_time": "2021-10-26T15:43:51.812Z"
      },
      {
        "duration": 3,
        "start_time": "2021-10-26T15:46:11.716Z"
      },
      {
        "duration": 3,
        "start_time": "2021-10-26T15:46:17.414Z"
      },
      {
        "duration": 4,
        "start_time": "2021-10-26T15:46:19.445Z"
      },
      {
        "duration": 4,
        "start_time": "2021-10-26T15:46:34.159Z"
      },
      {
        "duration": 4,
        "start_time": "2021-10-26T15:48:12.931Z"
      },
      {
        "duration": 4,
        "start_time": "2021-10-26T15:48:23.229Z"
      },
      {
        "duration": 3,
        "start_time": "2021-10-26T15:48:27.497Z"
      },
      {
        "duration": 4,
        "start_time": "2021-10-26T15:50:10.379Z"
      },
      {
        "duration": 134,
        "start_time": "2021-10-26T15:51:51.718Z"
      },
      {
        "duration": 7,
        "start_time": "2021-10-26T15:52:16.324Z"
      },
      {
        "duration": 194,
        "start_time": "2021-10-26T15:54:30.201Z"
      },
      {
        "duration": 23,
        "start_time": "2021-10-26T16:04:58.005Z"
      },
      {
        "duration": 158,
        "start_time": "2021-10-26T16:05:10.502Z"
      },
      {
        "duration": 39,
        "start_time": "2021-10-26T16:15:13.415Z"
      },
      {
        "duration": 46,
        "start_time": "2021-10-26T16:17:15.035Z"
      },
      {
        "duration": 186,
        "start_time": "2021-10-26T16:25:49.995Z"
      },
      {
        "duration": 61,
        "start_time": "2021-10-26T16:26:59.903Z"
      },
      {
        "duration": 63,
        "start_time": "2021-10-26T16:29:41.632Z"
      },
      {
        "duration": 202,
        "start_time": "2021-10-26T16:31:16.285Z"
      },
      {
        "duration": 9,
        "start_time": "2021-10-26T16:31:38.358Z"
      },
      {
        "duration": 91,
        "start_time": "2021-10-26T17:22:27.508Z"
      },
      {
        "duration": 63,
        "start_time": "2021-10-26T17:25:06.945Z"
      },
      {
        "duration": 52,
        "start_time": "2021-10-26T17:31:39.650Z"
      },
      {
        "duration": 37,
        "start_time": "2021-10-26T17:42:51.314Z"
      },
      {
        "duration": 212,
        "start_time": "2021-10-26T17:43:32.266Z"
      },
      {
        "duration": 63,
        "start_time": "2021-10-26T17:47:47.694Z"
      },
      {
        "duration": 54,
        "start_time": "2021-10-26T17:49:18.930Z"
      },
      {
        "duration": 49,
        "start_time": "2021-10-26T18:23:34.608Z"
      },
      {
        "duration": 72,
        "start_time": "2021-10-26T18:26:25.215Z"
      },
      {
        "duration": 3,
        "start_time": "2021-10-26T18:40:20.948Z"
      },
      {
        "duration": 30,
        "start_time": "2021-10-26T18:40:20.953Z"
      },
      {
        "duration": 84,
        "start_time": "2021-10-26T18:40:20.985Z"
      },
      {
        "duration": 288,
        "start_time": "2021-10-26T18:40:21.071Z"
      },
      {
        "duration": 149,
        "start_time": "2021-10-26T18:40:21.361Z"
      },
      {
        "duration": 216,
        "start_time": "2021-10-26T18:40:21.512Z"
      },
      {
        "duration": 51,
        "start_time": "2021-10-26T18:40:21.744Z"
      },
      {
        "duration": 8,
        "start_time": "2021-10-26T18:40:21.797Z"
      },
      {
        "duration": 87,
        "start_time": "2021-10-26T18:40:21.807Z"
      },
      {
        "duration": 8,
        "start_time": "2021-10-26T18:40:21.896Z"
      },
      {
        "duration": 20,
        "start_time": "2021-10-26T18:40:21.905Z"
      },
      {
        "duration": 150,
        "start_time": "2021-10-26T18:40:21.927Z"
      },
      {
        "duration": 199,
        "start_time": "2021-10-26T18:40:22.079Z"
      },
      {
        "duration": 50,
        "start_time": "2021-10-26T18:40:22.280Z"
      },
      {
        "duration": 210,
        "start_time": "2021-10-26T18:40:22.331Z"
      },
      {
        "duration": 60,
        "start_time": "2021-10-26T18:40:22.544Z"
      },
      {
        "duration": 57,
        "start_time": "2021-10-26T18:40:36.566Z"
      },
      {
        "duration": 861,
        "start_time": "2021-10-26T18:47:06.084Z"
      },
      {
        "duration": 553,
        "start_time": "2021-10-26T18:47:19.671Z"
      },
      {
        "duration": 3,
        "start_time": "2021-10-26T18:48:04.932Z"
      },
      {
        "duration": 25,
        "start_time": "2021-10-26T18:48:04.939Z"
      },
      {
        "duration": 64,
        "start_time": "2021-10-26T18:48:04.966Z"
      },
      {
        "duration": 262,
        "start_time": "2021-10-26T18:48:05.032Z"
      },
      {
        "duration": 134,
        "start_time": "2021-10-26T18:48:05.296Z"
      },
      {
        "duration": 217,
        "start_time": "2021-10-26T18:48:05.431Z"
      },
      {
        "duration": 48,
        "start_time": "2021-10-26T18:48:05.649Z"
      },
      {
        "duration": 7,
        "start_time": "2021-10-26T18:48:05.698Z"
      },
      {
        "duration": 76,
        "start_time": "2021-10-26T18:48:05.707Z"
      },
      {
        "duration": 7,
        "start_time": "2021-10-26T18:48:05.785Z"
      },
      {
        "duration": 13,
        "start_time": "2021-10-26T18:48:05.794Z"
      },
      {
        "duration": 122,
        "start_time": "2021-10-26T18:48:05.809Z"
      },
      {
        "duration": 179,
        "start_time": "2021-10-26T18:48:05.933Z"
      },
      {
        "duration": 57,
        "start_time": "2021-10-26T18:48:06.113Z"
      },
      {
        "duration": 375,
        "start_time": "2021-10-26T18:48:06.171Z"
      },
      {
        "duration": 56,
        "start_time": "2021-10-26T18:48:06.547Z"
      },
      {
        "duration": 22,
        "start_time": "2021-10-26T18:48:06.605Z"
      },
      {
        "duration": 4,
        "start_time": "2021-10-26T18:56:45.326Z"
      },
      {
        "duration": 20,
        "start_time": "2021-10-26T19:05:48.911Z"
      },
      {
        "duration": 10,
        "start_time": "2021-10-26T19:06:44.730Z"
      },
      {
        "duration": 5,
        "start_time": "2021-10-26T19:06:56.406Z"
      },
      {
        "duration": 35,
        "start_time": "2021-10-26T19:12:23.694Z"
      },
      {
        "duration": 4,
        "start_time": "2021-10-26T19:12:27.169Z"
      },
      {
        "duration": 30,
        "start_time": "2021-10-26T19:12:34.854Z"
      },
      {
        "duration": 1351,
        "start_time": "2021-10-27T17:54:40.499Z"
      },
      {
        "duration": 4,
        "start_time": "2021-10-27T17:54:41.852Z"
      },
      {
        "duration": 83,
        "start_time": "2021-10-27T17:54:41.859Z"
      },
      {
        "duration": 420,
        "start_time": "2021-10-27T17:54:41.944Z"
      },
      {
        "duration": 213,
        "start_time": "2021-10-27T17:54:42.367Z"
      },
      {
        "duration": 336,
        "start_time": "2021-10-27T17:54:42.582Z"
      },
      {
        "duration": 80,
        "start_time": "2021-10-27T17:54:42.920Z"
      },
      {
        "duration": 11,
        "start_time": "2021-10-27T17:54:43.004Z"
      },
      {
        "duration": 122,
        "start_time": "2021-10-27T17:54:43.018Z"
      },
      {
        "duration": 23,
        "start_time": "2021-10-27T17:54:43.143Z"
      },
      {
        "duration": 4,
        "start_time": "2021-10-27T17:54:43.169Z"
      },
      {
        "duration": 213,
        "start_time": "2021-10-27T17:54:43.175Z"
      },
      {
        "duration": 335,
        "start_time": "2021-10-27T17:54:43.391Z"
      },
      {
        "duration": 87,
        "start_time": "2021-10-27T17:54:43.728Z"
      },
      {
        "duration": 6,
        "start_time": "2021-10-27T17:54:43.818Z"
      },
      {
        "duration": 110,
        "start_time": "2021-10-27T17:54:43.826Z"
      },
      {
        "duration": 41,
        "start_time": "2021-10-27T17:54:43.938Z"
      },
      {
        "duration": 34,
        "start_time": "2021-10-27T17:54:43.982Z"
      },
      {
        "duration": 49,
        "start_time": "2021-10-27T17:54:44.018Z"
      },
      {
        "duration": 429,
        "start_time": "2021-10-27T17:58:47.903Z"
      },
      {
        "duration": 13,
        "start_time": "2021-10-27T17:58:57.713Z"
      },
      {
        "duration": 37,
        "start_time": "2021-10-27T18:00:03.911Z"
      },
      {
        "duration": 35,
        "start_time": "2021-10-27T18:00:29.103Z"
      },
      {
        "duration": 7,
        "start_time": "2021-10-27T18:01:02.377Z"
      },
      {
        "duration": 21,
        "start_time": "2021-10-27T18:06:19.519Z"
      },
      {
        "duration": 54,
        "start_time": "2021-10-27T18:06:25.495Z"
      },
      {
        "duration": 50,
        "start_time": "2021-10-27T18:06:34.651Z"
      },
      {
        "duration": 14,
        "start_time": "2021-10-27T18:08:36.171Z"
      },
      {
        "duration": 87,
        "start_time": "2021-10-27T18:10:46.367Z"
      },
      {
        "duration": 316,
        "start_time": "2021-10-27T18:14:54.387Z"
      },
      {
        "duration": 47,
        "start_time": "2021-10-27T18:15:41.723Z"
      },
      {
        "duration": 40,
        "start_time": "2021-10-27T18:16:01.228Z"
      },
      {
        "duration": 36,
        "start_time": "2021-10-27T18:16:07.049Z"
      },
      {
        "duration": 25,
        "start_time": "2021-10-27T18:17:26.378Z"
      },
      {
        "duration": 26,
        "start_time": "2021-10-27T18:17:36.417Z"
      },
      {
        "duration": 32,
        "start_time": "2021-10-27T18:20:08.618Z"
      },
      {
        "duration": 93,
        "start_time": "2021-10-27T18:23:53.043Z"
      },
      {
        "duration": 94,
        "start_time": "2021-10-27T18:26:58.825Z"
      },
      {
        "duration": 306,
        "start_time": "2021-10-27T18:27:29.678Z"
      },
      {
        "duration": 61,
        "start_time": "2021-10-27T18:28:31.030Z"
      },
      {
        "duration": 62,
        "start_time": "2021-10-27T18:29:33.881Z"
      },
      {
        "duration": 16,
        "start_time": "2021-10-27T18:42:50.602Z"
      },
      {
        "duration": 5,
        "start_time": "2021-10-27T18:43:04.234Z"
      },
      {
        "duration": 11,
        "start_time": "2021-10-27T18:49:39.546Z"
      },
      {
        "duration": 12,
        "start_time": "2021-10-27T18:50:03.252Z"
      },
      {
        "duration": 11,
        "start_time": "2021-10-27T18:50:07.450Z"
      },
      {
        "duration": 12,
        "start_time": "2021-10-27T18:50:16.987Z"
      },
      {
        "duration": 4,
        "start_time": "2021-10-27T18:50:27.071Z"
      },
      {
        "duration": 13,
        "start_time": "2021-10-27T18:50:27.078Z"
      },
      {
        "duration": 80,
        "start_time": "2021-10-27T18:50:27.094Z"
      },
      {
        "duration": 416,
        "start_time": "2021-10-27T18:50:27.177Z"
      },
      {
        "duration": 230,
        "start_time": "2021-10-27T18:50:27.596Z"
      },
      {
        "duration": 374,
        "start_time": "2021-10-27T18:50:27.829Z"
      },
      {
        "duration": 85,
        "start_time": "2021-10-27T18:50:28.208Z"
      },
      {
        "duration": 12,
        "start_time": "2021-10-27T18:50:28.295Z"
      },
      {
        "duration": 121,
        "start_time": "2021-10-27T18:50:28.310Z"
      },
      {
        "duration": 12,
        "start_time": "2021-10-27T18:50:28.433Z"
      },
      {
        "duration": 5,
        "start_time": "2021-10-27T18:50:28.447Z"
      },
      {
        "duration": 211,
        "start_time": "2021-10-27T18:50:28.466Z"
      },
      {
        "duration": 71,
        "start_time": "2021-10-27T18:50:28.679Z"
      },
      {
        "duration": 80,
        "start_time": "2021-10-27T18:50:28.752Z"
      },
      {
        "duration": 32,
        "start_time": "2021-10-27T18:50:28.835Z"
      },
      {
        "duration": 12,
        "start_time": "2021-10-27T18:51:04.025Z"
      },
      {
        "duration": 300,
        "start_time": "2021-10-27T18:54:39.091Z"
      },
      {
        "duration": 29,
        "start_time": "2021-10-27T18:54:55.782Z"
      },
      {
        "duration": 42,
        "start_time": "2021-10-27T18:56:08.191Z"
      },
      {
        "duration": 13,
        "start_time": "2021-10-27T18:57:01.282Z"
      },
      {
        "duration": 95,
        "start_time": "2021-10-27T19:00:22.268Z"
      },
      {
        "duration": 23,
        "start_time": "2021-10-27T19:00:30.535Z"
      },
      {
        "duration": 22,
        "start_time": "2021-10-27T19:01:05.890Z"
      },
      {
        "duration": 312,
        "start_time": "2021-10-27T19:01:59.839Z"
      },
      {
        "duration": 26,
        "start_time": "2021-10-27T19:02:15.700Z"
      },
      {
        "duration": 9,
        "start_time": "2021-10-27T19:16:06.338Z"
      },
      {
        "duration": 13,
        "start_time": "2021-10-27T19:16:25.353Z"
      },
      {
        "duration": 316,
        "start_time": "2021-10-27T19:17:31.820Z"
      },
      {
        "duration": 7,
        "start_time": "2021-10-27T19:17:45.893Z"
      },
      {
        "duration": 15,
        "start_time": "2021-10-27T19:17:48.252Z"
      },
      {
        "duration": 4,
        "start_time": "2021-10-27T20:11:56.749Z"
      },
      {
        "duration": 8,
        "start_time": "2021-10-27T20:11:56.755Z"
      },
      {
        "duration": 94,
        "start_time": "2021-10-27T20:11:56.766Z"
      },
      {
        "duration": 412,
        "start_time": "2021-10-27T20:11:56.863Z"
      },
      {
        "duration": 213,
        "start_time": "2021-10-27T20:11:57.277Z"
      },
      {
        "duration": 343,
        "start_time": "2021-10-27T20:11:57.493Z"
      },
      {
        "duration": 74,
        "start_time": "2021-10-27T20:11:57.839Z"
      },
      {
        "duration": 11,
        "start_time": "2021-10-27T20:11:57.916Z"
      },
      {
        "duration": 126,
        "start_time": "2021-10-27T20:11:57.930Z"
      },
      {
        "duration": 18,
        "start_time": "2021-10-27T20:11:58.058Z"
      },
      {
        "duration": 6,
        "start_time": "2021-10-27T20:11:58.078Z"
      },
      {
        "duration": 225,
        "start_time": "2021-10-27T20:11:58.087Z"
      },
      {
        "duration": 84,
        "start_time": "2021-10-27T20:11:58.314Z"
      },
      {
        "duration": 73,
        "start_time": "2021-10-27T20:11:58.402Z"
      },
      {
        "duration": 11,
        "start_time": "2021-10-27T20:11:58.478Z"
      },
      {
        "duration": 14,
        "start_time": "2021-10-27T20:11:58.492Z"
      },
      {
        "duration": 60,
        "start_time": "2021-10-27T20:11:58.509Z"
      },
      {
        "duration": 13,
        "start_time": "2021-10-27T20:11:58.571Z"
      },
      {
        "duration": 30,
        "start_time": "2021-10-27T20:11:58.587Z"
      },
      {
        "duration": 7,
        "start_time": "2021-10-27T20:11:58.619Z"
      },
      {
        "duration": 45,
        "start_time": "2021-10-27T20:11:58.628Z"
      },
      {
        "duration": 14,
        "start_time": "2021-10-27T20:16:00.581Z"
      },
      {
        "duration": 22,
        "start_time": "2021-10-27T20:16:16.418Z"
      },
      {
        "duration": 9,
        "start_time": "2021-10-27T20:17:48.915Z"
      },
      {
        "duration": 8,
        "start_time": "2021-10-27T20:18:06.548Z"
      },
      {
        "duration": 12,
        "start_time": "2021-10-27T20:18:20.601Z"
      },
      {
        "duration": 312,
        "start_time": "2021-10-28T18:05:17.459Z"
      },
      {
        "duration": 987,
        "start_time": "2021-10-28T18:05:33.397Z"
      },
      {
        "duration": 3,
        "start_time": "2021-10-28T18:05:34.386Z"
      },
      {
        "duration": 71,
        "start_time": "2021-10-28T18:05:34.391Z"
      },
      {
        "duration": 261,
        "start_time": "2021-10-28T18:05:34.464Z"
      },
      {
        "duration": 142,
        "start_time": "2021-10-28T18:05:34.727Z"
      },
      {
        "duration": 217,
        "start_time": "2021-10-28T18:05:34.871Z"
      },
      {
        "duration": 48,
        "start_time": "2021-10-28T18:05:35.090Z"
      },
      {
        "duration": 9,
        "start_time": "2021-10-28T18:05:35.140Z"
      },
      {
        "duration": 76,
        "start_time": "2021-10-28T18:05:35.151Z"
      },
      {
        "duration": 16,
        "start_time": "2021-10-28T18:05:35.229Z"
      },
      {
        "duration": 12,
        "start_time": "2021-10-28T18:05:35.247Z"
      },
      {
        "duration": 132,
        "start_time": "2021-10-28T18:05:35.260Z"
      },
      {
        "duration": 52,
        "start_time": "2021-10-28T18:05:35.394Z"
      },
      {
        "duration": 50,
        "start_time": "2021-10-28T18:05:35.448Z"
      },
      {
        "duration": 9,
        "start_time": "2021-10-28T18:05:35.500Z"
      },
      {
        "duration": 9,
        "start_time": "2021-10-28T18:05:35.510Z"
      },
      {
        "duration": 20,
        "start_time": "2021-10-28T18:05:35.545Z"
      },
      {
        "duration": 8,
        "start_time": "2021-10-28T18:05:35.567Z"
      },
      {
        "duration": 20,
        "start_time": "2021-10-28T18:05:35.576Z"
      },
      {
        "duration": 4,
        "start_time": "2021-10-28T18:05:35.598Z"
      },
      {
        "duration": 15,
        "start_time": "2021-10-28T18:05:35.604Z"
      },
      {
        "duration": 28,
        "start_time": "2021-10-28T18:05:35.621Z"
      },
      {
        "duration": 7,
        "start_time": "2021-10-28T18:05:35.652Z"
      },
      {
        "duration": 19,
        "start_time": "2021-10-28T18:05:35.660Z"
      },
      {
        "duration": 5,
        "start_time": "2021-10-28T18:05:35.681Z"
      },
      {
        "duration": 11,
        "start_time": "2021-10-28T18:05:35.688Z"
      },
      {
        "duration": 11,
        "start_time": "2021-10-28T18:08:29.484Z"
      },
      {
        "duration": 15,
        "start_time": "2021-10-28T18:08:38.433Z"
      },
      {
        "duration": 8,
        "start_time": "2021-10-28T18:09:49.623Z"
      },
      {
        "duration": 6,
        "start_time": "2021-10-28T18:10:25.942Z"
      },
      {
        "duration": 14,
        "start_time": "2021-10-28T18:10:55.854Z"
      },
      {
        "duration": 14,
        "start_time": "2021-10-28T18:13:42.536Z"
      },
      {
        "duration": 6,
        "start_time": "2021-10-28T18:15:44.767Z"
      },
      {
        "duration": 3,
        "start_time": "2021-10-28T18:16:45.891Z"
      },
      {
        "duration": 3,
        "start_time": "2021-10-28T18:16:45.898Z"
      },
      {
        "duration": 64,
        "start_time": "2021-10-28T18:16:45.905Z"
      },
      {
        "duration": 306,
        "start_time": "2021-10-28T18:16:45.971Z"
      },
      {
        "duration": 142,
        "start_time": "2021-10-28T18:16:46.279Z"
      },
      {
        "duration": 237,
        "start_time": "2021-10-28T18:16:46.423Z"
      },
      {
        "duration": 47,
        "start_time": "2021-10-28T18:16:46.662Z"
      },
      {
        "duration": 8,
        "start_time": "2021-10-28T18:16:46.711Z"
      },
      {
        "duration": 74,
        "start_time": "2021-10-28T18:16:46.720Z"
      },
      {
        "duration": 8,
        "start_time": "2021-10-28T18:16:46.797Z"
      },
      {
        "duration": 15,
        "start_time": "2021-10-28T18:16:46.807Z"
      },
      {
        "duration": 142,
        "start_time": "2021-10-28T18:16:46.824Z"
      },
      {
        "duration": 49,
        "start_time": "2021-10-28T18:16:46.967Z"
      },
      {
        "duration": 34,
        "start_time": "2021-10-28T18:16:47.018Z"
      },
      {
        "duration": 8,
        "start_time": "2021-10-28T18:16:47.054Z"
      },
      {
        "duration": 10,
        "start_time": "2021-10-28T18:16:47.063Z"
      },
      {
        "duration": 21,
        "start_time": "2021-10-28T18:16:47.074Z"
      },
      {
        "duration": 7,
        "start_time": "2021-10-28T18:16:47.097Z"
      },
      {
        "duration": 49,
        "start_time": "2021-10-28T18:16:47.106Z"
      },
      {
        "duration": 4,
        "start_time": "2021-10-28T18:16:47.157Z"
      },
      {
        "duration": 11,
        "start_time": "2021-10-28T18:16:47.163Z"
      },
      {
        "duration": 25,
        "start_time": "2021-10-28T18:16:47.176Z"
      },
      {
        "duration": 11,
        "start_time": "2021-10-28T18:16:47.203Z"
      },
      {
        "duration": 35,
        "start_time": "2021-10-28T18:16:47.215Z"
      },
      {
        "duration": 15,
        "start_time": "2021-10-28T18:16:47.254Z"
      },
      {
        "duration": 15,
        "start_time": "2021-10-28T18:16:47.271Z"
      },
      {
        "duration": 3,
        "start_time": "2021-10-28T18:19:48.358Z"
      },
      {
        "duration": 6,
        "start_time": "2021-10-28T18:19:48.365Z"
      },
      {
        "duration": 50,
        "start_time": "2021-10-28T18:19:48.373Z"
      },
      {
        "duration": 259,
        "start_time": "2021-10-28T18:19:48.425Z"
      },
      {
        "duration": 138,
        "start_time": "2021-10-28T18:19:48.685Z"
      },
      {
        "duration": 203,
        "start_time": "2021-10-28T18:19:48.824Z"
      },
      {
        "duration": 46,
        "start_time": "2021-10-28T18:19:49.029Z"
      },
      {
        "duration": 7,
        "start_time": "2021-10-28T18:19:49.077Z"
      },
      {
        "duration": 80,
        "start_time": "2021-10-28T18:19:49.085Z"
      },
      {
        "duration": 8,
        "start_time": "2021-10-28T18:19:49.167Z"
      },
      {
        "duration": 9,
        "start_time": "2021-10-28T18:19:49.177Z"
      },
      {
        "duration": 133,
        "start_time": "2021-10-28T18:19:49.187Z"
      },
      {
        "duration": 52,
        "start_time": "2021-10-28T18:19:49.322Z"
      },
      {
        "duration": 26,
        "start_time": "2021-10-28T18:19:49.376Z"
      },
      {
        "duration": 6,
        "start_time": "2021-10-28T18:19:49.403Z"
      },
      {
        "duration": 5,
        "start_time": "2021-10-28T18:25:04.448Z"
      },
      {
        "duration": 4,
        "start_time": "2021-10-28T18:25:04.456Z"
      },
      {
        "duration": 56,
        "start_time": "2021-10-28T18:25:04.462Z"
      },
      {
        "duration": 257,
        "start_time": "2021-10-28T18:25:04.519Z"
      },
      {
        "duration": 137,
        "start_time": "2021-10-28T18:25:04.777Z"
      },
      {
        "duration": 206,
        "start_time": "2021-10-28T18:25:04.916Z"
      },
      {
        "duration": 54,
        "start_time": "2021-10-28T18:25:05.124Z"
      },
      {
        "duration": 7,
        "start_time": "2021-10-28T18:25:05.180Z"
      },
      {
        "duration": 83,
        "start_time": "2021-10-28T18:25:05.189Z"
      },
      {
        "duration": 7,
        "start_time": "2021-10-28T18:25:05.274Z"
      },
      {
        "duration": 6,
        "start_time": "2021-10-28T18:25:05.283Z"
      },
      {
        "duration": 132,
        "start_time": "2021-10-28T18:25:05.291Z"
      },
      {
        "duration": 51,
        "start_time": "2021-10-28T18:25:05.425Z"
      },
      {
        "duration": 24,
        "start_time": "2021-10-28T18:25:05.477Z"
      },
      {
        "duration": 5,
        "start_time": "2021-10-28T18:25:05.503Z"
      },
      {
        "duration": 16,
        "start_time": "2021-10-28T18:25:05.509Z"
      },
      {
        "duration": 19,
        "start_time": "2021-10-28T18:25:05.526Z"
      },
      {
        "duration": 18,
        "start_time": "2021-10-28T18:25:05.546Z"
      },
      {
        "duration": 8,
        "start_time": "2021-10-28T18:25:05.566Z"
      },
      {
        "duration": 26,
        "start_time": "2021-10-28T18:25:05.575Z"
      },
      {
        "duration": 11,
        "start_time": "2021-10-28T18:25:05.603Z"
      },
      {
        "duration": 30,
        "start_time": "2021-10-28T18:25:05.616Z"
      },
      {
        "duration": 15,
        "start_time": "2021-10-28T18:25:05.648Z"
      },
      {
        "duration": 10,
        "start_time": "2021-10-28T18:25:05.665Z"
      },
      {
        "duration": 17,
        "start_time": "2021-10-28T18:25:05.676Z"
      },
      {
        "duration": 20,
        "start_time": "2021-10-28T18:25:05.697Z"
      },
      {
        "duration": 26,
        "start_time": "2021-10-28T18:25:05.719Z"
      },
      {
        "duration": 14,
        "start_time": "2021-10-28T18:25:05.748Z"
      },
      {
        "duration": 349,
        "start_time": "2021-10-28T18:27:38.953Z"
      },
      {
        "duration": 279,
        "start_time": "2021-10-28T18:28:01.980Z"
      },
      {
        "duration": 5,
        "start_time": "2021-10-28T18:28:23.162Z"
      },
      {
        "duration": 5,
        "start_time": "2021-10-28T18:28:33.182Z"
      },
      {
        "duration": 4,
        "start_time": "2021-10-28T18:35:30.972Z"
      },
      {
        "duration": 267,
        "start_time": "2021-10-28T18:35:51.817Z"
      },
      {
        "duration": 274,
        "start_time": "2021-10-28T18:36:15.533Z"
      },
      {
        "duration": 5,
        "start_time": "2021-10-28T18:37:34.831Z"
      },
      {
        "duration": 3820,
        "start_time": "2021-10-28T18:39:31.537Z"
      },
      {
        "duration": 4779,
        "start_time": "2021-10-28T18:39:55.639Z"
      },
      {
        "duration": 3520,
        "start_time": "2021-10-28T18:40:18.775Z"
      },
      {
        "duration": 3684,
        "start_time": "2021-10-28T18:40:35.828Z"
      },
      {
        "duration": 3,
        "start_time": "2021-10-28T18:41:06.255Z"
      },
      {
        "duration": 5,
        "start_time": "2021-10-28T18:41:06.260Z"
      },
      {
        "duration": 52,
        "start_time": "2021-10-28T18:41:06.267Z"
      },
      {
        "duration": 282,
        "start_time": "2021-10-28T18:41:06.321Z"
      },
      {
        "duration": 159,
        "start_time": "2021-10-28T18:41:06.605Z"
      },
      {
        "duration": 254,
        "start_time": "2021-10-28T18:41:06.766Z"
      },
      {
        "duration": 69,
        "start_time": "2021-10-28T18:41:07.022Z"
      },
      {
        "duration": 9,
        "start_time": "2021-10-28T18:41:07.093Z"
      },
      {
        "duration": 85,
        "start_time": "2021-10-28T18:41:07.103Z"
      },
      {
        "duration": 7,
        "start_time": "2021-10-28T18:41:07.190Z"
      },
      {
        "duration": 8,
        "start_time": "2021-10-28T18:41:07.199Z"
      },
      {
        "duration": 128,
        "start_time": "2021-10-28T18:41:07.208Z"
      },
      {
        "duration": 52,
        "start_time": "2021-10-28T18:41:07.338Z"
      },
      {
        "duration": 25,
        "start_time": "2021-10-28T18:41:07.392Z"
      },
      {
        "duration": 5,
        "start_time": "2021-10-28T18:41:07.419Z"
      },
      {
        "duration": 23,
        "start_time": "2021-10-28T18:41:07.425Z"
      },
      {
        "duration": 7,
        "start_time": "2021-10-28T18:41:07.450Z"
      },
      {
        "duration": 21,
        "start_time": "2021-10-28T18:41:07.458Z"
      },
      {
        "duration": 8,
        "start_time": "2021-10-28T18:41:07.480Z"
      },
      {
        "duration": 28,
        "start_time": "2021-10-28T18:41:07.490Z"
      },
      {
        "duration": 26,
        "start_time": "2021-10-28T18:41:07.520Z"
      },
      {
        "duration": 19,
        "start_time": "2021-10-28T18:41:07.547Z"
      },
      {
        "duration": 15,
        "start_time": "2021-10-28T18:41:07.567Z"
      },
      {
        "duration": 8,
        "start_time": "2021-10-28T18:41:07.584Z"
      },
      {
        "duration": 8,
        "start_time": "2021-10-28T18:41:07.595Z"
      },
      {
        "duration": 46,
        "start_time": "2021-10-28T18:41:07.605Z"
      },
      {
        "duration": 6,
        "start_time": "2021-10-28T18:41:07.653Z"
      },
      {
        "duration": 12,
        "start_time": "2021-10-28T18:41:07.661Z"
      },
      {
        "duration": 4,
        "start_time": "2021-10-28T18:41:07.675Z"
      },
      {
        "duration": 14,
        "start_time": "2021-10-28T18:41:14.332Z"
      },
      {
        "duration": 11,
        "start_time": "2021-10-28T18:41:20.840Z"
      },
      {
        "duration": 7,
        "start_time": "2021-10-28T18:41:33.770Z"
      },
      {
        "duration": 278,
        "start_time": "2021-10-28T18:44:28.597Z"
      },
      {
        "duration": 278,
        "start_time": "2021-10-28T18:45:07.085Z"
      },
      {
        "duration": 3,
        "start_time": "2021-10-28T18:47:02.774Z"
      },
      {
        "duration": 7,
        "start_time": "2021-10-28T18:47:02.778Z"
      },
      {
        "duration": 52,
        "start_time": "2021-10-28T18:47:02.787Z"
      },
      {
        "duration": 273,
        "start_time": "2021-10-28T18:47:02.840Z"
      },
      {
        "duration": 159,
        "start_time": "2021-10-28T18:47:03.116Z"
      },
      {
        "duration": 202,
        "start_time": "2021-10-28T18:47:03.277Z"
      },
      {
        "duration": 49,
        "start_time": "2021-10-28T18:47:03.481Z"
      },
      {
        "duration": 18,
        "start_time": "2021-10-28T18:47:03.532Z"
      },
      {
        "duration": 62,
        "start_time": "2021-10-28T18:47:03.552Z"
      },
      {
        "duration": 8,
        "start_time": "2021-10-28T18:47:03.617Z"
      },
      {
        "duration": 19,
        "start_time": "2021-10-28T18:47:03.627Z"
      },
      {
        "duration": 140,
        "start_time": "2021-10-28T18:47:03.648Z"
      },
      {
        "duration": 55,
        "start_time": "2021-10-28T18:47:03.790Z"
      },
      {
        "duration": 26,
        "start_time": "2021-10-28T18:47:03.847Z"
      },
      {
        "duration": 5,
        "start_time": "2021-10-28T18:47:03.875Z"
      },
      {
        "duration": 8,
        "start_time": "2021-10-28T18:47:03.881Z"
      },
      {
        "duration": 11,
        "start_time": "2021-10-28T18:47:03.890Z"
      },
      {
        "duration": 47,
        "start_time": "2021-10-28T18:47:03.903Z"
      },
      {
        "duration": 8,
        "start_time": "2021-10-28T18:47:03.952Z"
      },
      {
        "duration": 25,
        "start_time": "2021-10-28T18:47:03.962Z"
      },
      {
        "duration": 4,
        "start_time": "2021-10-28T18:47:03.989Z"
      },
      {
        "duration": 16,
        "start_time": "2021-10-28T18:47:03.995Z"
      },
      {
        "duration": 14,
        "start_time": "2021-10-28T18:47:04.013Z"
      },
      {
        "duration": 22,
        "start_time": "2021-10-28T18:47:04.029Z"
      },
      {
        "duration": 9,
        "start_time": "2021-10-28T18:47:04.054Z"
      },
      {
        "duration": 7,
        "start_time": "2021-10-28T18:47:04.065Z"
      },
      {
        "duration": 6,
        "start_time": "2021-10-28T18:47:51.708Z"
      },
      {
        "duration": 13,
        "start_time": "2021-10-28T18:47:57.613Z"
      },
      {
        "duration": 282,
        "start_time": "2021-10-28T18:48:55.715Z"
      },
      {
        "duration": 7,
        "start_time": "2021-10-28T18:50:14.763Z"
      },
      {
        "duration": 7,
        "start_time": "2021-10-28T18:50:25.800Z"
      },
      {
        "duration": 3,
        "start_time": "2021-10-28T18:58:12.907Z"
      },
      {
        "duration": 8,
        "start_time": "2021-10-28T18:58:12.913Z"
      },
      {
        "duration": 62,
        "start_time": "2021-10-28T18:58:12.922Z"
      },
      {
        "duration": 258,
        "start_time": "2021-10-28T18:58:12.986Z"
      },
      {
        "duration": 142,
        "start_time": "2021-10-28T18:58:13.246Z"
      },
      {
        "duration": 216,
        "start_time": "2021-10-28T18:58:13.389Z"
      },
      {
        "duration": 49,
        "start_time": "2021-10-28T18:58:13.606Z"
      },
      {
        "duration": 7,
        "start_time": "2021-10-28T18:58:13.657Z"
      },
      {
        "duration": 60,
        "start_time": "2021-10-28T18:58:13.666Z"
      },
      {
        "duration": 22,
        "start_time": "2021-10-28T18:58:13.728Z"
      },
      {
        "duration": 6,
        "start_time": "2021-10-28T18:58:13.752Z"
      },
      {
        "duration": 150,
        "start_time": "2021-10-28T18:58:13.759Z"
      },
      {
        "duration": 60,
        "start_time": "2021-10-28T18:58:13.910Z"
      },
      {
        "duration": 29,
        "start_time": "2021-10-28T18:58:13.971Z"
      },
      {
        "duration": 6,
        "start_time": "2021-10-28T18:58:14.002Z"
      },
      {
        "duration": 8,
        "start_time": "2021-10-28T18:58:14.010Z"
      },
      {
        "duration": 32,
        "start_time": "2021-10-28T18:58:14.020Z"
      },
      {
        "duration": 19,
        "start_time": "2021-10-28T18:58:14.054Z"
      },
      {
        "duration": 7,
        "start_time": "2021-10-28T18:58:14.075Z"
      },
      {
        "duration": 22,
        "start_time": "2021-10-28T18:58:14.086Z"
      },
      {
        "duration": 5,
        "start_time": "2021-10-28T18:58:14.110Z"
      },
      {
        "duration": 8,
        "start_time": "2021-10-28T18:58:14.144Z"
      },
      {
        "duration": 15,
        "start_time": "2021-10-28T18:58:14.153Z"
      },
      {
        "duration": 8,
        "start_time": "2021-10-28T18:58:14.170Z"
      },
      {
        "duration": 10,
        "start_time": "2021-10-28T18:58:14.179Z"
      },
      {
        "duration": 351,
        "start_time": "2021-10-28T18:58:14.190Z"
      },
      {
        "duration": 3,
        "start_time": "2021-10-28T19:02:38.846Z"
      },
      {
        "duration": 13,
        "start_time": "2021-10-28T19:02:38.852Z"
      },
      {
        "duration": 50,
        "start_time": "2021-10-28T19:02:38.867Z"
      },
      {
        "duration": 251,
        "start_time": "2021-10-28T19:02:38.919Z"
      },
      {
        "duration": 132,
        "start_time": "2021-10-28T19:02:39.172Z"
      },
      {
        "duration": 206,
        "start_time": "2021-10-28T19:02:39.306Z"
      },
      {
        "duration": 54,
        "start_time": "2021-10-28T19:02:39.513Z"
      },
      {
        "duration": 3,
        "start_time": "2021-10-28T19:02:39.569Z"
      },
      {
        "duration": 3,
        "start_time": "2021-10-28T19:03:00.946Z"
      },
      {
        "duration": 18,
        "start_time": "2021-10-28T19:03:00.951Z"
      },
      {
        "duration": 65,
        "start_time": "2021-10-28T19:03:00.971Z"
      },
      {
        "duration": 268,
        "start_time": "2021-10-28T19:03:01.038Z"
      },
      {
        "duration": 145,
        "start_time": "2021-10-28T19:03:01.307Z"
      },
      {
        "duration": 213,
        "start_time": "2021-10-28T19:03:01.454Z"
      },
      {
        "duration": 58,
        "start_time": "2021-10-28T19:03:01.669Z"
      },
      {
        "duration": 4,
        "start_time": "2021-10-28T19:03:01.728Z"
      },
      {
        "duration": 38,
        "start_time": "2021-10-28T19:03:01.745Z"
      },
      {
        "duration": 73,
        "start_time": "2021-10-28T19:03:01.784Z"
      },
      {
        "duration": 8,
        "start_time": "2021-10-28T19:03:01.859Z"
      },
      {
        "duration": 18,
        "start_time": "2021-10-28T19:03:01.868Z"
      },
      {
        "duration": 144,
        "start_time": "2021-10-28T19:03:01.887Z"
      },
      {
        "duration": 49,
        "start_time": "2021-10-28T19:03:02.034Z"
      },
      {
        "duration": 25,
        "start_time": "2021-10-28T19:03:02.085Z"
      },
      {
        "duration": 5,
        "start_time": "2021-10-28T19:03:02.112Z"
      },
      {
        "duration": 27,
        "start_time": "2021-10-28T19:03:02.118Z"
      },
      {
        "duration": 28,
        "start_time": "2021-10-28T19:03:02.147Z"
      },
      {
        "duration": 44,
        "start_time": "2021-10-28T19:03:02.178Z"
      },
      {
        "duration": 9,
        "start_time": "2021-10-28T19:03:02.224Z"
      },
      {
        "duration": 31,
        "start_time": "2021-10-28T19:03:02.235Z"
      },
      {
        "duration": 5,
        "start_time": "2021-10-28T19:03:02.268Z"
      },
      {
        "duration": 42,
        "start_time": "2021-10-28T19:03:02.275Z"
      },
      {
        "duration": 27,
        "start_time": "2021-10-28T19:03:02.318Z"
      },
      {
        "duration": 18,
        "start_time": "2021-10-28T19:03:02.347Z"
      },
      {
        "duration": 12,
        "start_time": "2021-10-28T19:03:02.367Z"
      },
      {
        "duration": 15,
        "start_time": "2021-10-28T19:03:02.381Z"
      },
      {
        "duration": 8,
        "start_time": "2021-10-28T19:03:27.794Z"
      },
      {
        "duration": 7,
        "start_time": "2021-10-28T19:03:47.566Z"
      },
      {
        "duration": 1030,
        "start_time": "2021-10-28T19:05:58.549Z"
      },
      {
        "duration": 3,
        "start_time": "2021-10-28T19:05:59.580Z"
      },
      {
        "duration": 67,
        "start_time": "2021-10-28T19:05:59.585Z"
      },
      {
        "duration": 268,
        "start_time": "2021-10-28T19:05:59.654Z"
      },
      {
        "duration": 155,
        "start_time": "2021-10-28T19:05:59.924Z"
      },
      {
        "duration": 215,
        "start_time": "2021-10-28T19:06:00.081Z"
      },
      {
        "duration": 55,
        "start_time": "2021-10-28T19:06:00.297Z"
      },
      {
        "duration": 4,
        "start_time": "2021-10-28T19:06:00.353Z"
      },
      {
        "duration": 18,
        "start_time": "2021-10-28T19:06:00.359Z"
      },
      {
        "duration": 71,
        "start_time": "2021-10-28T19:06:00.380Z"
      },
      {
        "duration": 8,
        "start_time": "2021-10-28T19:06:00.453Z"
      },
      {
        "duration": 20,
        "start_time": "2021-10-28T19:06:00.462Z"
      },
      {
        "duration": 133,
        "start_time": "2021-10-28T19:06:00.483Z"
      },
      {
        "duration": 49,
        "start_time": "2021-10-28T19:06:00.617Z"
      },
      {
        "duration": 31,
        "start_time": "2021-10-28T19:06:00.668Z"
      },
      {
        "duration": 4,
        "start_time": "2021-10-28T19:06:00.701Z"
      },
      {
        "duration": 18,
        "start_time": "2021-10-28T19:06:00.707Z"
      },
      {
        "duration": 37,
        "start_time": "2021-10-28T19:06:00.726Z"
      },
      {
        "duration": 32,
        "start_time": "2021-10-28T19:06:00.764Z"
      },
      {
        "duration": 14,
        "start_time": "2021-10-28T19:06:00.798Z"
      },
      {
        "duration": 33,
        "start_time": "2021-10-28T19:06:00.814Z"
      },
      {
        "duration": 9,
        "start_time": "2021-10-28T19:06:00.849Z"
      },
      {
        "duration": 13,
        "start_time": "2021-10-28T19:06:00.860Z"
      },
      {
        "duration": 25,
        "start_time": "2021-10-28T19:06:00.874Z"
      },
      {
        "duration": 22,
        "start_time": "2021-10-28T19:06:00.901Z"
      },
      {
        "duration": 25,
        "start_time": "2021-10-28T19:06:00.924Z"
      },
      {
        "duration": 10,
        "start_time": "2021-10-28T19:06:00.952Z"
      },
      {
        "duration": 17,
        "start_time": "2021-10-28T19:06:00.964Z"
      },
      {
        "duration": 14,
        "start_time": "2021-10-28T19:06:00.982Z"
      },
      {
        "duration": 37,
        "start_time": "2021-10-28T19:06:00.998Z"
      },
      {
        "duration": 35,
        "start_time": "2021-10-28T19:06:01.037Z"
      },
      {
        "duration": 25,
        "start_time": "2021-10-28T19:06:01.073Z"
      },
      {
        "duration": 13,
        "start_time": "2021-10-28T19:13:26.225Z"
      },
      {
        "duration": 7,
        "start_time": "2021-10-28T19:14:33.184Z"
      },
      {
        "duration": 6,
        "start_time": "2021-10-28T19:17:28.271Z"
      },
      {
        "duration": 6,
        "start_time": "2021-10-28T19:17:39.135Z"
      },
      {
        "duration": 10,
        "start_time": "2021-10-28T19:22:40.836Z"
      },
      {
        "duration": 9,
        "start_time": "2021-10-28T19:22:59.798Z"
      },
      {
        "duration": 4,
        "start_time": "2021-10-28T19:41:16.563Z"
      },
      {
        "duration": 5,
        "start_time": "2021-10-28T19:42:55.898Z"
      },
      {
        "duration": 7,
        "start_time": "2021-10-28T19:43:51.601Z"
      },
      {
        "duration": 3,
        "start_time": "2021-10-28T21:04:10.745Z"
      },
      {
        "duration": 8058,
        "start_time": "2021-10-28T21:07:38.492Z"
      },
      {
        "duration": 3,
        "start_time": "2021-10-28T21:08:48.396Z"
      },
      {
        "duration": 9,
        "start_time": "2021-10-28T21:08:48.403Z"
      },
      {
        "duration": 56,
        "start_time": "2021-10-28T21:08:48.414Z"
      },
      {
        "duration": 295,
        "start_time": "2021-10-28T21:08:48.472Z"
      },
      {
        "duration": 142,
        "start_time": "2021-10-28T21:08:48.769Z"
      },
      {
        "duration": 209,
        "start_time": "2021-10-28T21:08:48.913Z"
      },
      {
        "duration": 52,
        "start_time": "2021-10-28T21:08:49.124Z"
      },
      {
        "duration": 3,
        "start_time": "2021-10-28T21:08:49.179Z"
      },
      {
        "duration": 11,
        "start_time": "2021-10-28T21:08:49.184Z"
      },
      {
        "duration": 91,
        "start_time": "2021-10-28T21:08:49.197Z"
      },
      {
        "duration": 8,
        "start_time": "2021-10-28T21:08:49.290Z"
      },
      {
        "duration": 8,
        "start_time": "2021-10-28T21:08:49.299Z"
      },
      {
        "duration": 139,
        "start_time": "2021-10-28T21:08:49.308Z"
      },
      {
        "duration": 77,
        "start_time": "2021-10-28T21:08:49.448Z"
      },
      {
        "duration": 27,
        "start_time": "2021-10-28T21:08:49.526Z"
      },
      {
        "duration": 5,
        "start_time": "2021-10-28T21:08:49.554Z"
      },
      {
        "duration": 10,
        "start_time": "2021-10-28T21:08:49.560Z"
      },
      {
        "duration": 11,
        "start_time": "2021-10-28T21:08:49.571Z"
      },
      {
        "duration": 19,
        "start_time": "2021-10-28T21:08:49.583Z"
      },
      {
        "duration": 7,
        "start_time": "2021-10-28T21:08:49.605Z"
      },
      {
        "duration": 40,
        "start_time": "2021-10-28T21:08:49.614Z"
      },
      {
        "duration": 4,
        "start_time": "2021-10-28T21:08:49.656Z"
      },
      {
        "duration": 10,
        "start_time": "2021-10-28T21:08:49.662Z"
      },
      {
        "duration": 13,
        "start_time": "2021-10-28T21:08:49.674Z"
      },
      {
        "duration": 8,
        "start_time": "2021-10-28T21:08:49.689Z"
      },
      {
        "duration": 7,
        "start_time": "2021-10-28T21:08:49.699Z"
      },
      {
        "duration": 41,
        "start_time": "2021-10-28T21:08:49.707Z"
      },
      {
        "duration": 8,
        "start_time": "2021-10-28T21:08:49.749Z"
      },
      {
        "duration": 6,
        "start_time": "2021-10-28T21:08:49.758Z"
      },
      {
        "duration": 18,
        "start_time": "2021-10-28T21:08:49.766Z"
      },
      {
        "duration": 6,
        "start_time": "2021-10-28T21:08:49.786Z"
      },
      {
        "duration": 9,
        "start_time": "2021-10-28T21:08:49.793Z"
      },
      {
        "duration": 43,
        "start_time": "2021-10-28T21:08:49.803Z"
      },
      {
        "duration": 3,
        "start_time": "2021-10-28T21:08:49.848Z"
      },
      {
        "duration": 8,
        "start_time": "2021-10-28T21:08:49.852Z"
      },
      {
        "duration": 10,
        "start_time": "2021-10-28T21:08:49.861Z"
      },
      {
        "duration": 4,
        "start_time": "2021-10-28T21:08:49.872Z"
      },
      {
        "duration": 9331,
        "start_time": "2021-10-28T21:08:49.877Z"
      },
      {
        "duration": 20,
        "start_time": "2021-10-28T21:10:03.216Z"
      },
      {
        "duration": 8764,
        "start_time": "2021-10-28T21:19:30.038Z"
      },
      {
        "duration": 2,
        "start_time": "2021-10-28T21:20:18.057Z"
      },
      {
        "duration": 8,
        "start_time": "2021-10-28T21:20:18.064Z"
      },
      {
        "duration": 55,
        "start_time": "2021-10-28T21:20:18.074Z"
      },
      {
        "duration": 282,
        "start_time": "2021-10-28T21:20:18.131Z"
      },
      {
        "duration": 146,
        "start_time": "2021-10-28T21:20:18.415Z"
      },
      {
        "duration": 207,
        "start_time": "2021-10-28T21:20:18.562Z"
      },
      {
        "duration": 49,
        "start_time": "2021-10-28T21:20:18.770Z"
      },
      {
        "duration": 3,
        "start_time": "2021-10-28T21:20:18.821Z"
      },
      {
        "duration": 23,
        "start_time": "2021-10-28T21:20:18.826Z"
      },
      {
        "duration": 58,
        "start_time": "2021-10-28T21:20:18.850Z"
      },
      {
        "duration": 8,
        "start_time": "2021-10-28T21:20:18.910Z"
      },
      {
        "duration": 6,
        "start_time": "2021-10-28T21:20:18.919Z"
      },
      {
        "duration": 137,
        "start_time": "2021-10-28T21:20:18.926Z"
      },
      {
        "duration": 46,
        "start_time": "2021-10-28T21:20:19.065Z"
      },
      {
        "duration": 35,
        "start_time": "2021-10-28T21:20:19.113Z"
      },
      {
        "duration": 5,
        "start_time": "2021-10-28T21:20:19.150Z"
      },
      {
        "duration": 8,
        "start_time": "2021-10-28T21:20:19.157Z"
      },
      {
        "duration": 13,
        "start_time": "2021-10-28T21:20:19.167Z"
      },
      {
        "duration": 21,
        "start_time": "2021-10-28T21:20:19.181Z"
      },
      {
        "duration": 12,
        "start_time": "2021-10-28T21:20:19.205Z"
      },
      {
        "duration": 40,
        "start_time": "2021-10-28T21:20:19.219Z"
      },
      {
        "duration": 4,
        "start_time": "2021-10-28T21:20:19.261Z"
      },
      {
        "duration": 19,
        "start_time": "2021-10-28T21:20:19.267Z"
      },
      {
        "duration": 25,
        "start_time": "2021-10-28T21:20:19.288Z"
      },
      {
        "duration": 14,
        "start_time": "2021-10-28T21:20:19.314Z"
      },
      {
        "duration": 12,
        "start_time": "2021-10-28T21:20:19.329Z"
      },
      {
        "duration": 16,
        "start_time": "2021-10-28T21:20:19.343Z"
      },
      {
        "duration": 19,
        "start_time": "2021-10-28T21:20:19.361Z"
      },
      {
        "duration": 13,
        "start_time": "2021-10-28T21:20:19.382Z"
      },
      {
        "duration": 30,
        "start_time": "2021-10-28T21:20:19.397Z"
      },
      {
        "duration": 6,
        "start_time": "2021-10-28T21:20:19.429Z"
      },
      {
        "duration": 21,
        "start_time": "2021-10-28T21:20:19.436Z"
      },
      {
        "duration": 19,
        "start_time": "2021-10-28T21:20:19.458Z"
      },
      {
        "duration": 14,
        "start_time": "2021-10-28T21:20:19.479Z"
      },
      {
        "duration": 25,
        "start_time": "2021-10-28T21:20:19.495Z"
      },
      {
        "duration": 17,
        "start_time": "2021-10-28T21:20:19.522Z"
      },
      {
        "duration": 27,
        "start_time": "2021-10-28T21:20:19.540Z"
      },
      {
        "duration": 6,
        "start_time": "2021-10-28T21:20:19.569Z"
      },
      {
        "duration": 155,
        "start_time": "2021-10-28T21:20:19.577Z"
      },
      {
        "duration": 6,
        "start_time": "2021-10-28T21:20:32.381Z"
      },
      {
        "duration": 104,
        "start_time": "2021-10-28T21:21:20.812Z"
      },
      {
        "duration": 4,
        "start_time": "2021-10-28T21:21:58.999Z"
      },
      {
        "duration": 200,
        "start_time": "2021-10-28T21:22:11.538Z"
      },
      {
        "duration": 5,
        "start_time": "2021-10-28T21:22:13.501Z"
      },
      {
        "duration": 406,
        "start_time": "2021-10-29T11:08:57.381Z"
      },
      {
        "duration": 1367,
        "start_time": "2021-10-29T11:09:06.377Z"
      },
      {
        "duration": 4,
        "start_time": "2021-10-29T11:09:07.747Z"
      },
      {
        "duration": 127,
        "start_time": "2021-10-29T11:09:07.754Z"
      },
      {
        "duration": 415,
        "start_time": "2021-10-29T11:09:07.884Z"
      },
      {
        "duration": 215,
        "start_time": "2021-10-29T11:09:08.301Z"
      },
      {
        "duration": 324,
        "start_time": "2021-10-29T11:09:08.519Z"
      },
      {
        "duration": 69,
        "start_time": "2021-10-29T11:09:08.845Z"
      },
      {
        "duration": 5,
        "start_time": "2021-10-29T11:09:08.918Z"
      },
      {
        "duration": 46,
        "start_time": "2021-10-29T11:09:08.926Z"
      },
      {
        "duration": 103,
        "start_time": "2021-10-29T11:09:08.975Z"
      },
      {
        "duration": 13,
        "start_time": "2021-10-29T11:09:09.081Z"
      },
      {
        "duration": 6,
        "start_time": "2021-10-29T11:09:09.098Z"
      },
      {
        "duration": 226,
        "start_time": "2021-10-29T11:09:09.107Z"
      },
      {
        "duration": 84,
        "start_time": "2021-10-29T11:09:09.336Z"
      },
      {
        "duration": 53,
        "start_time": "2021-10-29T11:09:09.422Z"
      },
      {
        "duration": 7,
        "start_time": "2021-10-29T11:09:09.477Z"
      },
      {
        "duration": 13,
        "start_time": "2021-10-29T11:09:09.486Z"
      },
      {
        "duration": 13,
        "start_time": "2021-10-29T11:09:09.501Z"
      },
      {
        "duration": 63,
        "start_time": "2021-10-29T11:09:09.516Z"
      },
      {
        "duration": 12,
        "start_time": "2021-10-29T11:09:09.581Z"
      },
      {
        "duration": 27,
        "start_time": "2021-10-29T11:09:09.595Z"
      },
      {
        "duration": 12,
        "start_time": "2021-10-29T11:09:09.625Z"
      },
      {
        "duration": 11,
        "start_time": "2021-10-29T11:09:09.670Z"
      },
      {
        "duration": 22,
        "start_time": "2021-10-29T11:09:09.684Z"
      },
      {
        "duration": 13,
        "start_time": "2021-10-29T11:09:09.708Z"
      },
      {
        "duration": 46,
        "start_time": "2021-10-29T11:09:09.723Z"
      },
      {
        "duration": 12,
        "start_time": "2021-10-29T11:09:09.771Z"
      },
      {
        "duration": 17,
        "start_time": "2021-10-29T11:09:09.785Z"
      },
      {
        "duration": 8,
        "start_time": "2021-10-29T11:09:09.804Z"
      },
      {
        "duration": 63,
        "start_time": "2021-10-29T11:09:09.815Z"
      },
      {
        "duration": 8,
        "start_time": "2021-10-29T11:09:09.880Z"
      },
      {
        "duration": 14,
        "start_time": "2021-10-29T11:09:09.890Z"
      },
      {
        "duration": 7,
        "start_time": "2021-10-29T11:09:09.907Z"
      },
      {
        "duration": 6,
        "start_time": "2021-10-29T11:09:09.916Z"
      },
      {
        "duration": 42,
        "start_time": "2021-10-29T11:09:09.925Z"
      },
      {
        "duration": 9,
        "start_time": "2021-10-29T11:09:09.970Z"
      },
      {
        "duration": 33,
        "start_time": "2021-10-29T11:09:09.981Z"
      },
      {
        "duration": 7,
        "start_time": "2021-10-29T11:09:10.016Z"
      },
      {
        "duration": 423,
        "start_time": "2021-10-29T11:09:10.025Z"
      },
      {
        "duration": 8,
        "start_time": "2021-10-29T11:09:10.450Z"
      },
      {
        "duration": 8,
        "start_time": "2021-10-29T11:09:10.467Z"
      },
      {
        "duration": 8,
        "start_time": "2021-10-29T11:10:42.106Z"
      },
      {
        "duration": 493,
        "start_time": "2021-10-29T15:55:38.183Z"
      },
      {
        "duration": 1722,
        "start_time": "2021-10-29T15:55:46.159Z"
      },
      {
        "duration": 6,
        "start_time": "2021-10-29T15:55:47.884Z"
      },
      {
        "duration": 95,
        "start_time": "2021-10-29T15:55:47.900Z"
      },
      {
        "duration": 416,
        "start_time": "2021-10-29T15:55:47.998Z"
      },
      {
        "duration": 230,
        "start_time": "2021-10-29T15:55:48.417Z"
      },
      {
        "duration": 343,
        "start_time": "2021-10-29T15:55:48.650Z"
      },
      {
        "duration": 77,
        "start_time": "2021-10-29T15:55:49.001Z"
      },
      {
        "duration": 22,
        "start_time": "2021-10-29T15:55:49.082Z"
      },
      {
        "duration": 14,
        "start_time": "2021-10-29T15:55:49.109Z"
      },
      {
        "duration": 137,
        "start_time": "2021-10-29T15:55:49.125Z"
      },
      {
        "duration": 13,
        "start_time": "2021-10-29T15:55:49.265Z"
      },
      {
        "duration": 22,
        "start_time": "2021-10-29T15:55:49.280Z"
      },
      {
        "duration": 224,
        "start_time": "2021-10-29T15:55:49.305Z"
      },
      {
        "duration": 86,
        "start_time": "2021-10-29T15:55:49.531Z"
      },
      {
        "duration": 42,
        "start_time": "2021-10-29T15:55:49.619Z"
      },
      {
        "duration": 8,
        "start_time": "2021-10-29T15:55:49.664Z"
      },
      {
        "duration": 33,
        "start_time": "2021-10-29T15:55:49.674Z"
      },
      {
        "duration": 11,
        "start_time": "2021-10-29T15:55:49.709Z"
      },
      {
        "duration": 30,
        "start_time": "2021-10-29T15:55:49.722Z"
      },
      {
        "duration": 46,
        "start_time": "2021-10-29T15:55:49.754Z"
      },
      {
        "duration": 27,
        "start_time": "2021-10-29T15:55:49.802Z"
      },
      {
        "duration": 12,
        "start_time": "2021-10-29T15:55:49.831Z"
      },
      {
        "duration": 11,
        "start_time": "2021-10-29T15:55:49.848Z"
      },
      {
        "duration": 67,
        "start_time": "2021-10-29T15:55:49.862Z"
      },
      {
        "duration": 15,
        "start_time": "2021-10-29T15:55:49.932Z"
      },
      {
        "duration": 13,
        "start_time": "2021-10-29T15:55:49.949Z"
      },
      {
        "duration": 36,
        "start_time": "2021-10-29T15:55:49.965Z"
      },
      {
        "duration": 14,
        "start_time": "2021-10-29T15:55:50.003Z"
      },
      {
        "duration": 14,
        "start_time": "2021-10-29T15:55:50.020Z"
      },
      {
        "duration": 73,
        "start_time": "2021-10-29T15:55:50.037Z"
      },
      {
        "duration": 11,
        "start_time": "2021-10-29T15:55:50.113Z"
      },
      {
        "duration": 12,
        "start_time": "2021-10-29T15:55:50.127Z"
      },
      {
        "duration": 12,
        "start_time": "2021-10-29T15:55:50.142Z"
      },
      {
        "duration": 43,
        "start_time": "2021-10-29T15:55:50.157Z"
      },
      {
        "duration": 13,
        "start_time": "2021-10-29T15:55:50.203Z"
      },
      {
        "duration": 13,
        "start_time": "2021-10-29T15:55:50.218Z"
      },
      {
        "duration": 31,
        "start_time": "2021-10-29T15:55:50.234Z"
      },
      {
        "duration": 37,
        "start_time": "2021-10-29T15:55:50.268Z"
      },
      {
        "duration": 386,
        "start_time": "2021-10-29T15:55:50.308Z"
      },
      {
        "duration": 6,
        "start_time": "2021-10-29T15:55:50.697Z"
      },
      {
        "duration": 10,
        "start_time": "2021-10-29T15:55:50.705Z"
      },
      {
        "duration": 4,
        "start_time": "2021-10-29T15:55:50.717Z"
      },
      {
        "duration": 6,
        "start_time": "2021-10-29T15:56:01.364Z"
      },
      {
        "duration": 7,
        "start_time": "2021-10-29T16:01:10.751Z"
      },
      {
        "duration": 35,
        "start_time": "2021-10-29T16:01:21.150Z"
      },
      {
        "duration": 4,
        "start_time": "2021-10-29T16:02:44.813Z"
      },
      {
        "duration": 5,
        "start_time": "2021-10-29T16:02:44.822Z"
      },
      {
        "duration": 96,
        "start_time": "2021-10-29T16:02:44.830Z"
      },
      {
        "duration": 444,
        "start_time": "2021-10-29T16:02:44.929Z"
      },
      {
        "duration": 203,
        "start_time": "2021-10-29T16:02:45.375Z"
      },
      {
        "duration": 342,
        "start_time": "2021-10-29T16:02:45.601Z"
      },
      {
        "duration": 82,
        "start_time": "2021-10-29T16:02:45.945Z"
      },
      {
        "duration": 5,
        "start_time": "2021-10-29T16:02:46.031Z"
      },
      {
        "duration": 15,
        "start_time": "2021-10-29T16:02:46.039Z"
      },
      {
        "duration": 117,
        "start_time": "2021-10-29T16:02:46.056Z"
      },
      {
        "duration": 24,
        "start_time": "2021-10-29T16:02:46.176Z"
      },
      {
        "duration": 4,
        "start_time": "2021-10-29T16:02:46.202Z"
      },
      {
        "duration": 214,
        "start_time": "2021-10-29T16:02:46.209Z"
      },
      {
        "duration": 77,
        "start_time": "2021-10-29T16:02:46.426Z"
      },
      {
        "duration": 34,
        "start_time": "2021-10-29T16:02:46.505Z"
      },
      {
        "duration": 9,
        "start_time": "2021-10-29T16:02:46.542Z"
      },
      {
        "duration": 46,
        "start_time": "2021-10-29T16:02:46.554Z"
      },
      {
        "duration": 14,
        "start_time": "2021-10-29T16:02:46.603Z"
      },
      {
        "duration": 32,
        "start_time": "2021-10-29T16:02:46.620Z"
      },
      {
        "duration": 54,
        "start_time": "2021-10-29T16:02:46.659Z"
      },
      {
        "duration": 28,
        "start_time": "2021-10-29T16:02:46.717Z"
      },
      {
        "duration": 7,
        "start_time": "2021-10-29T16:02:46.748Z"
      },
      {
        "duration": 50,
        "start_time": "2021-10-29T16:02:46.758Z"
      },
      {
        "duration": 22,
        "start_time": "2021-10-29T16:02:46.811Z"
      },
      {
        "duration": 13,
        "start_time": "2021-10-29T16:02:46.835Z"
      },
      {
        "duration": 14,
        "start_time": "2021-10-29T16:02:46.851Z"
      },
      {
        "duration": 12,
        "start_time": "2021-10-29T16:02:46.901Z"
      },
      {
        "duration": 15,
        "start_time": "2021-10-29T16:02:46.916Z"
      },
      {
        "duration": 8,
        "start_time": "2021-10-29T16:02:46.933Z"
      },
      {
        "duration": 64,
        "start_time": "2021-10-29T16:02:46.944Z"
      },
      {
        "duration": 11,
        "start_time": "2021-10-29T16:02:47.010Z"
      },
      {
        "duration": 11,
        "start_time": "2021-10-29T16:02:47.024Z"
      },
      {
        "duration": 7,
        "start_time": "2021-10-29T16:02:47.037Z"
      },
      {
        "duration": 7,
        "start_time": "2021-10-29T16:02:47.046Z"
      },
      {
        "duration": 47,
        "start_time": "2021-10-29T16:02:47.056Z"
      },
      {
        "duration": 9,
        "start_time": "2021-10-29T16:02:47.106Z"
      },
      {
        "duration": 31,
        "start_time": "2021-10-29T16:02:47.118Z"
      },
      {
        "duration": 5,
        "start_time": "2021-10-29T16:02:47.152Z"
      },
      {
        "duration": 437,
        "start_time": "2021-10-29T16:02:47.159Z"
      },
      {
        "duration": 7,
        "start_time": "2021-10-29T16:02:47.598Z"
      },
      {
        "duration": 14,
        "start_time": "2021-10-29T16:02:47.607Z"
      },
      {
        "duration": 6,
        "start_time": "2021-10-29T16:02:47.623Z"
      },
      {
        "duration": 8,
        "start_time": "2021-10-29T16:02:47.631Z"
      },
      {
        "duration": 66,
        "start_time": "2021-10-29T16:02:47.641Z"
      },
      {
        "duration": 5,
        "start_time": "2021-10-29T16:04:47.971Z"
      },
      {
        "duration": 35,
        "start_time": "2021-10-29T16:05:03.026Z"
      },
      {
        "duration": 9736,
        "start_time": "2021-10-29T16:06:42.362Z"
      },
      {
        "duration": 381,
        "start_time": "2021-10-29T16:07:03.775Z"
      },
      {
        "duration": 306,
        "start_time": "2021-10-29T16:27:04.730Z"
      },
      {
        "duration": 416,
        "start_time": "2021-10-29T16:45:41.886Z"
      },
      {
        "duration": 3114,
        "start_time": "2021-10-29T16:46:09.482Z"
      },
      {
        "duration": 9,
        "start_time": "2021-10-29T16:47:21.204Z"
      },
      {
        "duration": 12,
        "start_time": "2021-10-29T16:48:13.187Z"
      },
      {
        "duration": 461,
        "start_time": "2021-10-29T16:55:23.200Z"
      },
      {
        "duration": 1858,
        "start_time": "2021-10-29T16:55:42.332Z"
      },
      {
        "duration": 2023,
        "start_time": "2021-10-29T16:57:51.246Z"
      },
      {
        "duration": 2775,
        "start_time": "2021-10-29T17:14:37.236Z"
      },
      {
        "duration": 1064,
        "start_time": "2021-10-29T17:14:59.082Z"
      },
      {
        "duration": 914,
        "start_time": "2021-10-29T17:15:10.496Z"
      },
      {
        "duration": 2953,
        "start_time": "2021-10-29T17:15:20.482Z"
      },
      {
        "duration": 764,
        "start_time": "2021-10-29T17:15:39.362Z"
      },
      {
        "duration": 928,
        "start_time": "2021-10-29T17:15:48.147Z"
      },
      {
        "duration": 382,
        "start_time": "2021-10-29T17:16:01.831Z"
      },
      {
        "duration": 2697,
        "start_time": "2021-10-29T17:17:31.790Z"
      },
      {
        "duration": 452,
        "start_time": "2021-10-29T17:22:55.812Z"
      },
      {
        "duration": 368,
        "start_time": "2021-10-29T17:23:10.037Z"
      },
      {
        "duration": 2860,
        "start_time": "2021-10-29T17:23:43.253Z"
      },
      {
        "duration": 2994,
        "start_time": "2021-10-29T17:25:29.942Z"
      },
      {
        "duration": 7,
        "start_time": "2021-10-29T17:28:33.110Z"
      },
      {
        "duration": 52,
        "start_time": "2021-10-29T17:31:47.361Z"
      },
      {
        "duration": 366,
        "start_time": "2021-10-29T17:34:21.023Z"
      },
      {
        "duration": 379,
        "start_time": "2021-10-29T17:34:41.489Z"
      },
      {
        "duration": 61,
        "start_time": "2021-10-29T17:34:48.140Z"
      },
      {
        "duration": 2780,
        "start_time": "2021-10-29T17:36:09.734Z"
      },
      {
        "duration": 4,
        "start_time": "2021-10-29T17:37:32.897Z"
      },
      {
        "duration": 5,
        "start_time": "2021-10-29T17:37:32.906Z"
      },
      {
        "duration": 87,
        "start_time": "2021-10-29T17:37:32.918Z"
      },
      {
        "duration": 447,
        "start_time": "2021-10-29T17:37:33.009Z"
      },
      {
        "duration": 208,
        "start_time": "2021-10-29T17:37:33.460Z"
      },
      {
        "duration": 356,
        "start_time": "2021-10-29T17:37:33.671Z"
      },
      {
        "duration": 85,
        "start_time": "2021-10-29T17:37:34.030Z"
      },
      {
        "duration": 5,
        "start_time": "2021-10-29T17:37:34.117Z"
      },
      {
        "duration": 16,
        "start_time": "2021-10-29T17:37:34.124Z"
      },
      {
        "duration": 119,
        "start_time": "2021-10-29T17:37:34.144Z"
      },
      {
        "duration": 12,
        "start_time": "2021-10-29T17:37:34.267Z"
      },
      {
        "duration": 19,
        "start_time": "2021-10-29T17:37:34.281Z"
      },
      {
        "duration": 210,
        "start_time": "2021-10-29T17:37:34.302Z"
      },
      {
        "duration": 72,
        "start_time": "2021-10-29T17:37:34.515Z"
      },
      {
        "duration": 47,
        "start_time": "2021-10-29T17:37:34.589Z"
      },
      {
        "duration": 7,
        "start_time": "2021-10-29T17:37:34.638Z"
      },
      {
        "duration": 18,
        "start_time": "2021-10-29T17:37:34.648Z"
      },
      {
        "duration": 41,
        "start_time": "2021-10-29T17:37:34.668Z"
      },
      {
        "duration": 30,
        "start_time": "2021-10-29T17:37:34.711Z"
      },
      {
        "duration": 13,
        "start_time": "2021-10-29T17:37:34.743Z"
      },
      {
        "duration": 58,
        "start_time": "2021-10-29T17:37:34.759Z"
      },
      {
        "duration": 6,
        "start_time": "2021-10-29T17:37:34.820Z"
      },
      {
        "duration": 17,
        "start_time": "2021-10-29T17:37:34.829Z"
      },
      {
        "duration": 64,
        "start_time": "2021-10-29T17:37:34.849Z"
      },
      {
        "duration": 13,
        "start_time": "2021-10-29T17:37:34.920Z"
      },
      {
        "duration": 14,
        "start_time": "2021-10-29T17:37:34.935Z"
      },
      {
        "duration": 10,
        "start_time": "2021-10-29T17:37:34.951Z"
      },
      {
        "duration": 46,
        "start_time": "2021-10-29T17:37:34.964Z"
      },
      {
        "duration": 9,
        "start_time": "2021-10-29T17:37:35.013Z"
      },
      {
        "duration": 34,
        "start_time": "2021-10-29T17:37:35.025Z"
      },
      {
        "duration": 43,
        "start_time": "2021-10-29T17:37:35.062Z"
      },
      {
        "duration": 12,
        "start_time": "2021-10-29T17:37:35.109Z"
      },
      {
        "duration": 9,
        "start_time": "2021-10-29T17:37:35.123Z"
      },
      {
        "duration": 5,
        "start_time": "2021-10-29T17:37:35.135Z"
      },
      {
        "duration": 11,
        "start_time": "2021-10-29T17:37:35.143Z"
      },
      {
        "duration": 13,
        "start_time": "2021-10-29T17:37:35.201Z"
      },
      {
        "duration": 36,
        "start_time": "2021-10-29T17:37:35.217Z"
      },
      {
        "duration": 7,
        "start_time": "2021-10-29T17:37:35.256Z"
      },
      {
        "duration": 540,
        "start_time": "2021-10-29T17:37:35.301Z"
      },
      {
        "duration": 8,
        "start_time": "2021-10-29T17:37:35.843Z"
      },
      {
        "duration": 11,
        "start_time": "2021-10-29T17:37:35.853Z"
      },
      {
        "duration": 5,
        "start_time": "2021-10-29T17:37:35.866Z"
      },
      {
        "duration": 7,
        "start_time": "2021-10-29T17:37:35.900Z"
      },
      {
        "duration": 12,
        "start_time": "2021-10-29T17:37:35.910Z"
      },
      {
        "duration": 35,
        "start_time": "2021-10-29T17:37:35.925Z"
      },
      {
        "duration": 352,
        "start_time": "2021-10-29T17:37:35.963Z"
      },
      {
        "duration": 13,
        "start_time": "2021-10-29T17:37:36.318Z"
      },
      {
        "duration": 2735,
        "start_time": "2021-10-29T17:37:36.334Z"
      },
      {
        "duration": 405,
        "start_time": "2021-10-29T17:39:54.166Z"
      },
      {
        "duration": 12,
        "start_time": "2021-10-29T17:40:40.012Z"
      },
      {
        "duration": 552,
        "start_time": "2021-10-29T17:42:16.248Z"
      },
      {
        "duration": 11,
        "start_time": "2021-10-29T17:42:37.795Z"
      },
      {
        "duration": 1192,
        "start_time": "2021-10-29T17:45:42.693Z"
      },
      {
        "duration": 1172,
        "start_time": "2021-10-29T17:45:50.083Z"
      },
      {
        "duration": 2922,
        "start_time": "2021-10-29T17:46:15.237Z"
      },
      {
        "duration": 2929,
        "start_time": "2021-10-29T17:50:17.330Z"
      },
      {
        "duration": 4,
        "start_time": "2021-10-29T18:07:11.811Z"
      },
      {
        "duration": 7,
        "start_time": "2021-10-29T18:07:11.819Z"
      },
      {
        "duration": 80,
        "start_time": "2021-10-29T18:07:11.829Z"
      },
      {
        "duration": 413,
        "start_time": "2021-10-29T18:07:11.912Z"
      },
      {
        "duration": 220,
        "start_time": "2021-10-29T18:07:12.328Z"
      },
      {
        "duration": 334,
        "start_time": "2021-10-29T18:07:12.551Z"
      },
      {
        "duration": 73,
        "start_time": "2021-10-29T18:07:12.887Z"
      },
      {
        "duration": 5,
        "start_time": "2021-10-29T18:07:12.963Z"
      },
      {
        "duration": 39,
        "start_time": "2021-10-29T18:07:12.971Z"
      },
      {
        "duration": 109,
        "start_time": "2021-10-29T18:07:13.012Z"
      },
      {
        "duration": 11,
        "start_time": "2021-10-29T18:07:13.124Z"
      },
      {
        "duration": 10,
        "start_time": "2021-10-29T18:07:13.137Z"
      },
      {
        "duration": 209,
        "start_time": "2021-10-29T18:07:13.149Z"
      },
      {
        "duration": 78,
        "start_time": "2021-10-29T18:07:13.361Z"
      },
      {
        "duration": 33,
        "start_time": "2021-10-29T18:07:13.442Z"
      },
      {
        "duration": 25,
        "start_time": "2021-10-29T18:07:13.477Z"
      },
      {
        "duration": 12,
        "start_time": "2021-10-29T18:07:13.505Z"
      },
      {
        "duration": 14,
        "start_time": "2021-10-29T18:07:13.520Z"
      },
      {
        "duration": 29,
        "start_time": "2021-10-29T18:07:13.537Z"
      },
      {
        "duration": 41,
        "start_time": "2021-10-29T18:07:13.571Z"
      },
      {
        "duration": 29,
        "start_time": "2021-10-29T18:07:13.615Z"
      },
      {
        "duration": 6,
        "start_time": "2021-10-29T18:07:13.646Z"
      },
      {
        "duration": 47,
        "start_time": "2021-10-29T18:07:13.655Z"
      },
      {
        "duration": 22,
        "start_time": "2021-10-29T18:07:13.705Z"
      },
      {
        "duration": 12,
        "start_time": "2021-10-29T18:07:13.730Z"
      },
      {
        "duration": 13,
        "start_time": "2021-10-29T18:07:13.744Z"
      },
      {
        "duration": 34,
        "start_time": "2021-10-29T18:07:13.767Z"
      },
      {
        "duration": 13,
        "start_time": "2021-10-29T18:07:13.804Z"
      },
      {
        "duration": 8,
        "start_time": "2021-10-29T18:07:13.819Z"
      },
      {
        "duration": 33,
        "start_time": "2021-10-29T18:07:13.830Z"
      },
      {
        "duration": 41,
        "start_time": "2021-10-29T18:07:13.865Z"
      },
      {
        "duration": 13,
        "start_time": "2021-10-29T18:07:13.908Z"
      },
      {
        "duration": 8,
        "start_time": "2021-10-29T18:07:13.924Z"
      },
      {
        "duration": 12,
        "start_time": "2021-10-29T18:07:13.935Z"
      },
      {
        "duration": 11,
        "start_time": "2021-10-29T18:07:13.950Z"
      },
      {
        "duration": 40,
        "start_time": "2021-10-29T18:07:13.963Z"
      },
      {
        "duration": 39,
        "start_time": "2021-10-29T18:07:14.005Z"
      },
      {
        "duration": 6,
        "start_time": "2021-10-29T18:07:14.047Z"
      },
      {
        "duration": 404,
        "start_time": "2021-10-29T18:07:14.055Z"
      },
      {
        "duration": 8,
        "start_time": "2021-10-29T18:07:14.462Z"
      },
      {
        "duration": 28,
        "start_time": "2021-10-29T18:07:14.472Z"
      },
      {
        "duration": 6,
        "start_time": "2021-10-29T18:07:14.503Z"
      },
      {
        "duration": 7,
        "start_time": "2021-10-29T18:07:14.511Z"
      },
      {
        "duration": 18,
        "start_time": "2021-10-29T18:07:14.520Z"
      },
      {
        "duration": 34,
        "start_time": "2021-10-29T18:07:14.540Z"
      },
      {
        "duration": 340,
        "start_time": "2021-10-29T18:07:14.600Z"
      },
      {
        "duration": 14,
        "start_time": "2021-10-29T18:07:23.101Z"
      },
      {
        "duration": 315,
        "start_time": "2021-10-29T18:08:16.094Z"
      },
      {
        "duration": 344,
        "start_time": "2021-10-29T18:09:07.367Z"
      },
      {
        "duration": 348,
        "start_time": "2021-10-29T18:09:24.187Z"
      },
      {
        "duration": 350,
        "start_time": "2021-10-29T18:09:46.556Z"
      },
      {
        "duration": 338,
        "start_time": "2021-10-29T18:09:58.042Z"
      },
      {
        "duration": 425,
        "start_time": "2021-10-29T18:10:42.479Z"
      },
      {
        "duration": 363,
        "start_time": "2021-10-29T18:11:20.898Z"
      },
      {
        "duration": 700,
        "start_time": "2021-10-29T18:20:23.625Z"
      },
      {
        "duration": 361,
        "start_time": "2021-10-29T18:20:35.915Z"
      },
      {
        "duration": 672,
        "start_time": "2021-10-29T18:22:44.510Z"
      },
      {
        "duration": 824,
        "start_time": "2021-10-29T18:23:09.856Z"
      },
      {
        "duration": 670,
        "start_time": "2021-10-29T18:23:26.335Z"
      },
      {
        "duration": 328,
        "start_time": "2021-10-29T18:24:46.747Z"
      },
      {
        "duration": 353,
        "start_time": "2021-10-29T18:25:03.695Z"
      },
      {
        "duration": 372,
        "start_time": "2021-10-29T18:26:29.139Z"
      },
      {
        "duration": 331,
        "start_time": "2021-10-29T18:26:55.362Z"
      },
      {
        "duration": 340,
        "start_time": "2021-10-29T18:28:38.046Z"
      },
      {
        "duration": 365,
        "start_time": "2021-10-29T18:29:12.756Z"
      },
      {
        "duration": 372,
        "start_time": "2021-10-29T18:31:35.836Z"
      },
      {
        "duration": 386,
        "start_time": "2021-10-29T18:33:28.338Z"
      },
      {
        "duration": 381,
        "start_time": "2021-10-29T18:33:37.995Z"
      },
      {
        "duration": 386,
        "start_time": "2021-10-29T18:33:57.482Z"
      },
      {
        "duration": 373,
        "start_time": "2021-10-29T18:34:13.398Z"
      },
      {
        "duration": 376,
        "start_time": "2021-10-29T18:37:08.880Z"
      },
      {
        "duration": 776,
        "start_time": "2021-10-29T18:38:48.910Z"
      },
      {
        "duration": 376,
        "start_time": "2021-10-29T18:38:53.841Z"
      },
      {
        "duration": 481,
        "start_time": "2021-10-29T18:39:21.898Z"
      },
      {
        "duration": 571,
        "start_time": "2021-10-29T18:39:53.103Z"
      },
      {
        "duration": 366,
        "start_time": "2021-10-29T18:40:20.535Z"
      },
      {
        "duration": 380,
        "start_time": "2021-10-29T18:41:25.857Z"
      },
      {
        "duration": 382,
        "start_time": "2021-10-29T18:41:33.528Z"
      },
      {
        "duration": 775,
        "start_time": "2021-10-29T18:51:23.194Z"
      },
      {
        "duration": 1391,
        "start_time": "2021-10-29T18:51:45.313Z"
      },
      {
        "duration": 1316,
        "start_time": "2021-10-29T18:53:33.268Z"
      },
      {
        "duration": 1414,
        "start_time": "2021-10-29T18:56:11.659Z"
      },
      {
        "duration": 4,
        "start_time": "2021-10-29T18:56:13.075Z"
      },
      {
        "duration": 106,
        "start_time": "2021-10-29T18:56:13.082Z"
      },
      {
        "duration": 427,
        "start_time": "2021-10-29T18:56:13.191Z"
      },
      {
        "duration": 220,
        "start_time": "2021-10-29T18:56:13.620Z"
      },
      {
        "duration": 355,
        "start_time": "2021-10-29T18:56:13.842Z"
      },
      {
        "duration": 76,
        "start_time": "2021-10-29T18:56:14.201Z"
      },
      {
        "duration": 20,
        "start_time": "2021-10-29T18:56:14.280Z"
      },
      {
        "duration": 15,
        "start_time": "2021-10-29T18:56:14.303Z"
      },
      {
        "duration": 119,
        "start_time": "2021-10-29T18:56:14.321Z"
      },
      {
        "duration": 14,
        "start_time": "2021-10-29T18:56:14.442Z"
      },
      {
        "duration": 10,
        "start_time": "2021-10-29T18:56:14.458Z"
      },
      {
        "duration": 223,
        "start_time": "2021-10-29T18:56:14.470Z"
      },
      {
        "duration": 75,
        "start_time": "2021-10-29T18:56:14.695Z"
      },
      {
        "duration": 61,
        "start_time": "2021-10-29T18:56:14.772Z"
      },
      {
        "duration": 9,
        "start_time": "2021-10-29T18:56:14.836Z"
      },
      {
        "duration": 14,
        "start_time": "2021-10-29T18:56:14.848Z"
      },
      {
        "duration": 43,
        "start_time": "2021-10-29T18:56:14.864Z"
      },
      {
        "duration": 32,
        "start_time": "2021-10-29T18:56:14.910Z"
      },
      {
        "duration": 12,
        "start_time": "2021-10-29T18:56:14.944Z"
      },
      {
        "duration": 61,
        "start_time": "2021-10-29T18:56:14.958Z"
      },
      {
        "duration": 14,
        "start_time": "2021-10-29T18:56:15.022Z"
      },
      {
        "duration": 11,
        "start_time": "2021-10-29T18:56:15.043Z"
      },
      {
        "duration": 49,
        "start_time": "2021-10-29T18:56:15.058Z"
      },
      {
        "duration": 13,
        "start_time": "2021-10-29T18:56:15.110Z"
      },
      {
        "duration": 12,
        "start_time": "2021-10-29T18:56:15.126Z"
      },
      {
        "duration": 20,
        "start_time": "2021-10-29T18:56:15.140Z"
      },
      {
        "duration": 19,
        "start_time": "2021-10-29T18:56:15.162Z"
      },
      {
        "duration": 28,
        "start_time": "2021-10-29T18:56:15.183Z"
      },
      {
        "duration": 31,
        "start_time": "2021-10-29T18:56:15.213Z"
      },
      {
        "duration": 19,
        "start_time": "2021-10-29T18:56:15.246Z"
      },
      {
        "duration": 36,
        "start_time": "2021-10-29T18:56:15.268Z"
      },
      {
        "duration": 8,
        "start_time": "2021-10-29T18:56:15.306Z"
      },
      {
        "duration": 7,
        "start_time": "2021-10-29T18:56:15.316Z"
      },
      {
        "duration": 15,
        "start_time": "2021-10-29T18:56:15.325Z"
      },
      {
        "duration": 13,
        "start_time": "2021-10-29T18:56:15.342Z"
      },
      {
        "duration": 54,
        "start_time": "2021-10-29T18:56:15.358Z"
      },
      {
        "duration": 5,
        "start_time": "2021-10-29T18:56:15.415Z"
      },
      {
        "duration": 399,
        "start_time": "2021-10-29T18:56:15.422Z"
      },
      {
        "duration": 8,
        "start_time": "2021-10-29T18:56:15.824Z"
      },
      {
        "duration": 18,
        "start_time": "2021-10-29T18:56:15.835Z"
      },
      {
        "duration": 5,
        "start_time": "2021-10-29T18:56:15.856Z"
      },
      {
        "duration": 36,
        "start_time": "2021-10-29T18:56:15.864Z"
      },
      {
        "duration": 5,
        "start_time": "2021-10-29T18:56:15.903Z"
      },
      {
        "duration": 40,
        "start_time": "2021-10-29T18:56:15.910Z"
      },
      {
        "duration": 351,
        "start_time": "2021-10-29T18:56:15.953Z"
      },
      {
        "duration": 2,
        "start_time": "2021-10-29T18:56:16.307Z"
      },
      {
        "duration": 559,
        "start_time": "2021-10-29T18:56:16.312Z"
      },
      {
        "duration": 674,
        "start_time": "2021-10-29T18:56:16.199Z"
      },
      {
        "duration": 666,
        "start_time": "2021-10-29T18:56:16.209Z"
      },
      {
        "duration": 659,
        "start_time": "2021-10-29T18:56:16.217Z"
      },
      {
        "duration": 652,
        "start_time": "2021-10-29T18:56:16.226Z"
      },
      {
        "duration": 645,
        "start_time": "2021-10-29T18:56:16.234Z"
      },
      {
        "duration": 639,
        "start_time": "2021-10-29T18:56:16.242Z"
      },
      {
        "duration": 1411,
        "start_time": "2021-10-29T18:56:47.780Z"
      },
      {
        "duration": 1130,
        "start_time": "2021-10-29T18:57:03.403Z"
      },
      {
        "duration": 1185,
        "start_time": "2021-10-29T18:57:49.289Z"
      },
      {
        "duration": 1173,
        "start_time": "2021-10-29T18:59:40.431Z"
      },
      {
        "duration": 1148,
        "start_time": "2021-10-29T18:59:56.177Z"
      },
      {
        "duration": 727,
        "start_time": "2021-10-29T19:00:44.800Z"
      },
      {
        "duration": 2087,
        "start_time": "2021-10-29T19:01:17.913Z"
      },
      {
        "duration": 1569,
        "start_time": "2021-10-29T19:01:36.217Z"
      },
      {
        "duration": 1664,
        "start_time": "2021-10-29T19:01:47.005Z"
      },
      {
        "duration": 2369,
        "start_time": "2021-10-29T19:03:54.816Z"
      },
      {
        "duration": 1718,
        "start_time": "2021-10-29T19:04:46.422Z"
      },
      {
        "duration": 48,
        "start_time": "2021-10-29T19:24:19.983Z"
      },
      {
        "duration": 44,
        "start_time": "2021-10-29T19:24:52.041Z"
      },
      {
        "duration": 44,
        "start_time": "2021-10-29T19:25:20.724Z"
      },
      {
        "duration": 14,
        "start_time": "2021-10-29T19:25:46.334Z"
      },
      {
        "duration": 14,
        "start_time": "2021-10-29T19:26:24.396Z"
      },
      {
        "duration": 16,
        "start_time": "2021-10-29T19:26:29.565Z"
      },
      {
        "duration": 51,
        "start_time": "2021-10-29T19:26:57.873Z"
      },
      {
        "duration": 54,
        "start_time": "2021-10-29T19:27:13.185Z"
      },
      {
        "duration": 53,
        "start_time": "2021-10-29T19:27:23.577Z"
      },
      {
        "duration": 231,
        "start_time": "2021-10-29T19:31:02.873Z"
      },
      {
        "duration": 270,
        "start_time": "2021-10-29T19:31:30.688Z"
      },
      {
        "duration": 294,
        "start_time": "2021-10-29T19:33:35.236Z"
      },
      {
        "duration": 630,
        "start_time": "2021-10-29T19:34:07.384Z"
      },
      {
        "duration": 295,
        "start_time": "2021-10-29T19:34:14.284Z"
      },
      {
        "duration": 395,
        "start_time": "2021-10-29T19:36:04.792Z"
      },
      {
        "duration": 1229,
        "start_time": "2021-10-29T19:37:53.849Z"
      },
      {
        "duration": 831,
        "start_time": "2021-10-29T19:38:46.438Z"
      },
      {
        "duration": 4,
        "start_time": "2021-10-29T19:41:12.578Z"
      },
      {
        "duration": 851,
        "start_time": "2021-10-29T19:41:15.892Z"
      },
      {
        "duration": 1483,
        "start_time": "2021-10-31T09:55:36.807Z"
      },
      {
        "duration": 4,
        "start_time": "2021-10-31T09:55:38.293Z"
      },
      {
        "duration": 99,
        "start_time": "2021-10-31T09:55:38.300Z"
      },
      {
        "duration": 461,
        "start_time": "2021-10-31T09:55:38.403Z"
      },
      {
        "duration": 238,
        "start_time": "2021-10-31T09:55:38.867Z"
      },
      {
        "duration": 394,
        "start_time": "2021-10-31T09:55:39.107Z"
      },
      {
        "duration": 86,
        "start_time": "2021-10-31T09:55:39.504Z"
      },
      {
        "duration": 6,
        "start_time": "2021-10-31T09:55:39.594Z"
      },
      {
        "duration": 29,
        "start_time": "2021-10-31T09:55:39.604Z"
      },
      {
        "duration": 132,
        "start_time": "2021-10-31T09:55:39.637Z"
      },
      {
        "duration": 15,
        "start_time": "2021-10-31T09:55:39.772Z"
      },
      {
        "duration": 5,
        "start_time": "2021-10-31T09:55:39.789Z"
      },
      {
        "duration": 246,
        "start_time": "2021-10-31T09:55:39.797Z"
      },
      {
        "duration": 81,
        "start_time": "2021-10-31T09:55:40.045Z"
      },
      {
        "duration": 44,
        "start_time": "2021-10-31T09:55:40.138Z"
      },
      {
        "duration": 7,
        "start_time": "2021-10-31T09:55:40.185Z"
      },
      {
        "duration": 35,
        "start_time": "2021-10-31T09:55:40.194Z"
      },
      {
        "duration": 15,
        "start_time": "2021-10-31T09:55:40.232Z"
      },
      {
        "duration": 27,
        "start_time": "2021-10-31T09:55:40.250Z"
      },
      {
        "duration": 11,
        "start_time": "2021-10-31T09:55:40.280Z"
      },
      {
        "duration": 55,
        "start_time": "2021-10-31T09:55:40.294Z"
      },
      {
        "duration": 12,
        "start_time": "2021-10-31T09:55:40.352Z"
      },
      {
        "duration": 10,
        "start_time": "2021-10-31T09:55:40.369Z"
      },
      {
        "duration": 60,
        "start_time": "2021-10-31T09:55:40.381Z"
      },
      {
        "duration": 14,
        "start_time": "2021-10-31T09:55:40.443Z"
      },
      {
        "duration": 13,
        "start_time": "2021-10-31T09:55:40.459Z"
      },
      {
        "duration": 14,
        "start_time": "2021-10-31T09:55:40.474Z"
      },
      {
        "duration": 41,
        "start_time": "2021-10-31T09:55:40.490Z"
      },
      {
        "duration": 16,
        "start_time": "2021-10-31T09:55:40.535Z"
      },
      {
        "duration": 31,
        "start_time": "2021-10-31T09:55:40.556Z"
      },
      {
        "duration": 41,
        "start_time": "2021-10-31T09:55:40.589Z"
      },
      {
        "duration": 12,
        "start_time": "2021-10-31T09:55:40.632Z"
      },
      {
        "duration": 12,
        "start_time": "2021-10-31T09:55:40.646Z"
      },
      {
        "duration": 5,
        "start_time": "2021-10-31T09:55:40.661Z"
      },
      {
        "duration": 11,
        "start_time": "2021-10-31T09:55:40.668Z"
      },
      {
        "duration": 9,
        "start_time": "2021-10-31T09:55:40.681Z"
      },
      {
        "duration": 66,
        "start_time": "2021-10-31T09:55:40.692Z"
      },
      {
        "duration": 6,
        "start_time": "2021-10-31T09:55:40.761Z"
      },
      {
        "duration": 433,
        "start_time": "2021-10-31T09:55:40.769Z"
      },
      {
        "duration": 7,
        "start_time": "2021-10-31T09:55:41.204Z"
      },
      {
        "duration": 12,
        "start_time": "2021-10-31T09:55:41.223Z"
      },
      {
        "duration": 10,
        "start_time": "2021-10-31T09:55:41.240Z"
      },
      {
        "duration": 7,
        "start_time": "2021-10-31T09:55:41.255Z"
      },
      {
        "duration": 8,
        "start_time": "2021-10-31T09:55:41.265Z"
      },
      {
        "duration": 64,
        "start_time": "2021-10-31T09:55:41.276Z"
      },
      {
        "duration": 1607,
        "start_time": "2021-10-31T09:55:41.347Z"
      },
      {
        "duration": 851,
        "start_time": "2021-10-31T09:55:42.956Z"
      },
      {
        "duration": 100,
        "start_time": "2021-10-31T10:03:27.621Z"
      },
      {
        "duration": 635,
        "start_time": "2021-10-31T10:03:40.939Z"
      },
      {
        "duration": 511,
        "start_time": "2021-10-31T10:04:21.914Z"
      },
      {
        "duration": 398,
        "start_time": "2021-10-31T10:04:38.709Z"
      },
      {
        "duration": 281,
        "start_time": "2021-10-31T10:05:17.848Z"
      },
      {
        "duration": 291,
        "start_time": "2021-10-31T10:05:30.616Z"
      },
      {
        "duration": 94,
        "start_time": "2021-10-31T10:06:13.206Z"
      },
      {
        "duration": 303,
        "start_time": "2021-10-31T10:06:29.707Z"
      },
      {
        "duration": 583,
        "start_time": "2021-10-31T10:07:09.112Z"
      },
      {
        "duration": 654,
        "start_time": "2021-10-31T10:07:39.631Z"
      },
      {
        "duration": 705,
        "start_time": "2021-10-31T10:08:08.668Z"
      },
      {
        "duration": 708,
        "start_time": "2021-10-31T10:08:38.714Z"
      },
      {
        "duration": 789,
        "start_time": "2021-10-31T10:08:46.350Z"
      },
      {
        "duration": 718,
        "start_time": "2021-10-31T10:10:15.744Z"
      },
      {
        "duration": 15,
        "start_time": "2021-10-31T10:15:24.604Z"
      },
      {
        "duration": 14,
        "start_time": "2021-10-31T10:15:37.006Z"
      },
      {
        "duration": 400,
        "start_time": "2021-10-31T10:55:45.173Z"
      },
      {
        "duration": 334,
        "start_time": "2021-10-31T10:56:10.483Z"
      },
      {
        "duration": 15,
        "start_time": "2021-10-31T10:56:49.949Z"
      },
      {
        "duration": 291,
        "start_time": "2021-10-31T10:57:18.022Z"
      },
      {
        "duration": 5,
        "start_time": "2021-10-31T10:57:32.593Z"
      },
      {
        "duration": 5,
        "start_time": "2021-10-31T10:57:57.496Z"
      },
      {
        "duration": 15,
        "start_time": "2021-10-31T10:58:12.427Z"
      },
      {
        "duration": 5,
        "start_time": "2021-10-31T10:58:13.886Z"
      },
      {
        "duration": 53,
        "start_time": "2021-10-31T10:58:20.263Z"
      },
      {
        "duration": 7,
        "start_time": "2021-10-31T10:58:33.335Z"
      },
      {
        "duration": 275,
        "start_time": "2021-10-31T10:58:58.289Z"
      },
      {
        "duration": 20,
        "start_time": "2021-10-31T10:59:54.217Z"
      },
      {
        "duration": 547,
        "start_time": "2021-10-31T11:00:21.391Z"
      },
      {
        "duration": 551,
        "start_time": "2021-10-31T11:00:48.521Z"
      },
      {
        "duration": 1010,
        "start_time": "2021-10-31T11:15:12.065Z"
      },
      {
        "duration": 293,
        "start_time": "2021-10-31T11:16:03.970Z"
      },
      {
        "duration": 6,
        "start_time": "2021-10-31T11:16:18.849Z"
      },
      {
        "duration": 613,
        "start_time": "2021-10-31T11:19:56.515Z"
      },
      {
        "duration": 621,
        "start_time": "2021-10-31T11:20:19.542Z"
      },
      {
        "duration": 485,
        "start_time": "2021-10-31T11:20:54.052Z"
      },
      {
        "duration": 276,
        "start_time": "2021-10-31T11:21:47.031Z"
      },
      {
        "duration": 6,
        "start_time": "2021-10-31T11:21:57.138Z"
      },
      {
        "duration": 291,
        "start_time": "2021-10-31T11:22:03.237Z"
      },
      {
        "duration": 1380,
        "start_time": "2021-10-31T11:22:44.100Z"
      },
      {
        "duration": 5,
        "start_time": "2021-10-31T11:22:45.482Z"
      },
      {
        "duration": 77,
        "start_time": "2021-10-31T11:22:45.490Z"
      },
      {
        "duration": 412,
        "start_time": "2021-10-31T11:22:45.569Z"
      },
      {
        "duration": 204,
        "start_time": "2021-10-31T11:22:45.984Z"
      },
      {
        "duration": 334,
        "start_time": "2021-10-31T11:22:46.191Z"
      },
      {
        "duration": 75,
        "start_time": "2021-10-31T11:22:46.527Z"
      },
      {
        "duration": 6,
        "start_time": "2021-10-31T11:22:46.622Z"
      },
      {
        "duration": 15,
        "start_time": "2021-10-31T11:22:46.632Z"
      },
      {
        "duration": 128,
        "start_time": "2021-10-31T11:22:46.649Z"
      },
      {
        "duration": 13,
        "start_time": "2021-10-31T11:22:46.780Z"
      },
      {
        "duration": 6,
        "start_time": "2021-10-31T11:22:46.796Z"
      },
      {
        "duration": 207,
        "start_time": "2021-10-31T11:22:46.824Z"
      },
      {
        "duration": 70,
        "start_time": "2021-10-31T11:22:47.034Z"
      },
      {
        "duration": 54,
        "start_time": "2021-10-31T11:22:47.107Z"
      },
      {
        "duration": 7,
        "start_time": "2021-10-31T11:22:47.164Z"
      },
      {
        "duration": 11,
        "start_time": "2021-10-31T11:22:47.173Z"
      },
      {
        "duration": 43,
        "start_time": "2021-10-31T11:22:47.186Z"
      },
      {
        "duration": 27,
        "start_time": "2021-10-31T11:22:47.231Z"
      },
      {
        "duration": 11,
        "start_time": "2021-10-31T11:22:47.260Z"
      },
      {
        "duration": 56,
        "start_time": "2021-10-31T11:22:47.274Z"
      },
      {
        "duration": 12,
        "start_time": "2021-10-31T11:22:47.332Z"
      },
      {
        "duration": 10,
        "start_time": "2021-10-31T11:22:47.349Z"
      },
      {
        "duration": 20,
        "start_time": "2021-10-31T11:22:47.362Z"
      },
      {
        "duration": 42,
        "start_time": "2021-10-31T11:22:47.384Z"
      },
      {
        "duration": 13,
        "start_time": "2021-10-31T11:22:47.429Z"
      },
      {
        "duration": 11,
        "start_time": "2021-10-31T11:22:47.444Z"
      },
      {
        "duration": 16,
        "start_time": "2021-10-31T11:22:47.457Z"
      },
      {
        "duration": 48,
        "start_time": "2021-10-31T11:22:47.476Z"
      },
      {
        "duration": 31,
        "start_time": "2021-10-31T11:22:47.527Z"
      },
      {
        "duration": 10,
        "start_time": "2021-10-31T11:22:47.561Z"
      },
      {
        "duration": 11,
        "start_time": "2021-10-31T11:22:47.573Z"
      },
      {
        "duration": 7,
        "start_time": "2021-10-31T11:22:47.623Z"
      },
      {
        "duration": 8,
        "start_time": "2021-10-31T11:22:47.633Z"
      },
      {
        "duration": 11,
        "start_time": "2021-10-31T11:22:47.643Z"
      },
      {
        "duration": 12,
        "start_time": "2021-10-31T11:22:47.656Z"
      },
      {
        "duration": 76,
        "start_time": "2021-10-31T11:22:47.671Z"
      },
      {
        "duration": 7,
        "start_time": "2021-10-31T11:22:47.750Z"
      },
      {
        "duration": 388,
        "start_time": "2021-10-31T11:22:47.760Z"
      },
      {
        "duration": 7,
        "start_time": "2021-10-31T11:22:48.151Z"
      },
      {
        "duration": 9,
        "start_time": "2021-10-31T11:22:48.160Z"
      },
      {
        "duration": 6,
        "start_time": "2021-10-31T11:22:48.172Z"
      },
      {
        "duration": 42,
        "start_time": "2021-10-31T11:22:48.181Z"
      },
      {
        "duration": 8,
        "start_time": "2021-10-31T11:22:48.225Z"
      },
      {
        "duration": 34,
        "start_time": "2021-10-31T11:22:48.235Z"
      },
      {
        "duration": 1611,
        "start_time": "2021-10-31T11:22:48.272Z"
      },
      {
        "duration": 801,
        "start_time": "2021-10-31T11:22:49.886Z"
      },
      {
        "duration": 917,
        "start_time": "2021-10-31T11:22:50.690Z"
      },
      {
        "duration": 23,
        "start_time": "2021-10-31T11:22:51.610Z"
      },
      {
        "duration": 17,
        "start_time": "2021-10-31T11:22:51.635Z"
      },
      {
        "duration": 24,
        "start_time": "2021-10-31T11:22:51.654Z"
      },
      {
        "duration": 574,
        "start_time": "2021-10-31T11:22:51.681Z"
      },
      {
        "duration": 6,
        "start_time": "2021-10-31T11:22:52.257Z"
      },
      {
        "duration": 438,
        "start_time": "2021-10-31T11:22:52.265Z"
      },
      {
        "duration": 5,
        "start_time": "2021-10-31T11:23:44.812Z"
      },
      {
        "duration": 137,
        "start_time": "2021-10-31T11:42:33.348Z"
      },
      {
        "duration": 385,
        "start_time": "2021-10-31T11:47:52.007Z"
      },
      {
        "duration": 5,
        "start_time": "2021-10-31T11:49:05.897Z"
      },
      {
        "duration": 293,
        "start_time": "2021-10-31T11:49:19.485Z"
      },
      {
        "duration": 8,
        "start_time": "2021-10-31T11:49:31.175Z"
      },
      {
        "duration": 8,
        "start_time": "2021-10-31T11:50:42.725Z"
      },
      {
        "duration": 9,
        "start_time": "2021-10-31T11:51:18.534Z"
      },
      {
        "duration": 8,
        "start_time": "2021-10-31T11:51:47.192Z"
      },
      {
        "duration": 8,
        "start_time": "2021-10-31T11:56:46.007Z"
      },
      {
        "duration": 254,
        "start_time": "2021-10-31T11:57:32.948Z"
      },
      {
        "duration": 9,
        "start_time": "2021-10-31T11:57:39.213Z"
      },
      {
        "duration": 9,
        "start_time": "2021-10-31T11:57:46.996Z"
      },
      {
        "duration": 9,
        "start_time": "2021-10-31T11:57:51.081Z"
      },
      {
        "duration": 8,
        "start_time": "2021-10-31T11:57:57.555Z"
      },
      {
        "duration": 9,
        "start_time": "2021-10-31T11:58:00.900Z"
      },
      {
        "duration": 8,
        "start_time": "2021-10-31T11:58:05.827Z"
      },
      {
        "duration": 9,
        "start_time": "2021-10-31T11:58:18.935Z"
      },
      {
        "duration": 9,
        "start_time": "2021-10-31T11:58:27.918Z"
      },
      {
        "duration": 9,
        "start_time": "2021-10-31T11:58:39.522Z"
      },
      {
        "duration": 9,
        "start_time": "2021-10-31T11:58:49.788Z"
      },
      {
        "duration": 8,
        "start_time": "2021-10-31T11:58:54.834Z"
      },
      {
        "duration": 8,
        "start_time": "2021-10-31T12:05:57.407Z"
      },
      {
        "duration": 8,
        "start_time": "2021-10-31T12:07:18.196Z"
      },
      {
        "duration": 6,
        "start_time": "2021-10-31T12:08:19.048Z"
      },
      {
        "duration": 5,
        "start_time": "2021-10-31T12:08:27.362Z"
      },
      {
        "duration": 7,
        "start_time": "2021-10-31T12:08:43.092Z"
      },
      {
        "duration": 1430,
        "start_time": "2021-10-31T12:08:51.156Z"
      },
      {
        "duration": 6,
        "start_time": "2021-10-31T12:08:52.589Z"
      },
      {
        "duration": 99,
        "start_time": "2021-10-31T12:08:52.598Z"
      },
      {
        "duration": 397,
        "start_time": "2021-10-31T12:08:52.700Z"
      },
      {
        "duration": 195,
        "start_time": "2021-10-31T12:08:53.099Z"
      },
      {
        "duration": 350,
        "start_time": "2021-10-31T12:08:53.296Z"
      },
      {
        "duration": 91,
        "start_time": "2021-10-31T12:08:53.648Z"
      },
      {
        "duration": 6,
        "start_time": "2021-10-31T12:08:53.745Z"
      },
      {
        "duration": 12,
        "start_time": "2021-10-31T12:08:53.755Z"
      },
      {
        "duration": 127,
        "start_time": "2021-10-31T12:08:53.770Z"
      },
      {
        "duration": 12,
        "start_time": "2021-10-31T12:08:53.900Z"
      },
      {
        "duration": 4,
        "start_time": "2021-10-31T12:08:53.922Z"
      },
      {
        "duration": 222,
        "start_time": "2021-10-31T12:08:53.928Z"
      },
      {
        "duration": 80,
        "start_time": "2021-10-31T12:08:54.152Z"
      },
      {
        "duration": 40,
        "start_time": "2021-10-31T12:08:54.235Z"
      },
      {
        "duration": 7,
        "start_time": "2021-10-31T12:08:54.278Z"
      },
      {
        "duration": 39,
        "start_time": "2021-10-31T12:08:54.287Z"
      },
      {
        "duration": 12,
        "start_time": "2021-10-31T12:08:54.328Z"
      },
      {
        "duration": 31,
        "start_time": "2021-10-31T12:08:54.342Z"
      },
      {
        "duration": 12,
        "start_time": "2021-10-31T12:08:54.376Z"
      },
      {
        "duration": 27,
        "start_time": "2021-10-31T12:08:54.422Z"
      },
      {
        "duration": 13,
        "start_time": "2021-10-31T12:08:54.451Z"
      },
      {
        "duration": 11,
        "start_time": "2021-10-31T12:08:54.469Z"
      },
      {
        "duration": 48,
        "start_time": "2021-10-31T12:08:54.483Z"
      },
      {
        "duration": 12,
        "start_time": "2021-10-31T12:08:54.534Z"
      },
      {
        "duration": 12,
        "start_time": "2021-10-31T12:08:54.549Z"
      },
      {
        "duration": 11,
        "start_time": "2021-10-31T12:08:54.564Z"
      },
      {
        "duration": 47,
        "start_time": "2021-10-31T12:08:54.577Z"
      },
      {
        "duration": 11,
        "start_time": "2021-10-31T12:08:54.626Z"
      },
      {
        "duration": 31,
        "start_time": "2021-10-31T12:08:54.639Z"
      },
      {
        "duration": 10,
        "start_time": "2021-10-31T12:08:54.672Z"
      },
      {
        "duration": 45,
        "start_time": "2021-10-31T12:08:54.684Z"
      },
      {
        "duration": 10,
        "start_time": "2021-10-31T12:08:54.732Z"
      },
      {
        "duration": 7,
        "start_time": "2021-10-31T12:08:54.745Z"
      },
      {
        "duration": 11,
        "start_time": "2021-10-31T12:08:54.754Z"
      },
      {
        "duration": 11,
        "start_time": "2021-10-31T12:08:54.768Z"
      },
      {
        "duration": 34,
        "start_time": "2021-10-31T12:08:54.823Z"
      },
      {
        "duration": 6,
        "start_time": "2021-10-31T12:08:54.859Z"
      },
      {
        "duration": 390,
        "start_time": "2021-10-31T12:08:54.868Z"
      },
      {
        "duration": 8,
        "start_time": "2021-10-31T12:08:55.260Z"
      },
      {
        "duration": 14,
        "start_time": "2021-10-31T12:08:55.270Z"
      },
      {
        "duration": 6,
        "start_time": "2021-10-31T12:08:55.286Z"
      },
      {
        "duration": 8,
        "start_time": "2021-10-31T12:08:55.322Z"
      },
      {
        "duration": 11,
        "start_time": "2021-10-31T12:08:55.332Z"
      },
      {
        "duration": 33,
        "start_time": "2021-10-31T12:08:55.345Z"
      },
      {
        "duration": 1668,
        "start_time": "2021-10-31T12:08:55.380Z"
      },
      {
        "duration": 848,
        "start_time": "2021-10-31T12:08:57.051Z"
      },
      {
        "duration": 831,
        "start_time": "2021-10-31T12:08:57.902Z"
      },
      {
        "duration": 16,
        "start_time": "2021-10-31T12:08:58.736Z"
      },
      {
        "duration": 34,
        "start_time": "2021-10-31T12:08:58.755Z"
      },
      {
        "duration": 38,
        "start_time": "2021-10-31T12:08:58.792Z"
      },
      {
        "duration": 562,
        "start_time": "2021-10-31T12:08:58.833Z"
      },
      {
        "duration": 6,
        "start_time": "2021-10-31T12:08:59.398Z"
      },
      {
        "duration": 17,
        "start_time": "2021-10-31T12:08:59.407Z"
      },
      {
        "duration": 8,
        "start_time": "2021-10-31T12:08:59.427Z"
      },
      {
        "duration": 6,
        "start_time": "2021-10-31T12:08:59.438Z"
      },
      {
        "duration": 6,
        "start_time": "2021-10-31T12:08:59.447Z"
      },
      {
        "duration": 5,
        "start_time": "2021-10-31T12:09:15.478Z"
      },
      {
        "duration": 8,
        "start_time": "2021-10-31T12:09:47.596Z"
      },
      {
        "duration": 8,
        "start_time": "2021-10-31T12:15:21.675Z"
      },
      {
        "duration": 10,
        "start_time": "2021-10-31T12:23:41.080Z"
      },
      {
        "duration": 7,
        "start_time": "2021-10-31T12:23:51.951Z"
      },
      {
        "duration": 23,
        "start_time": "2021-10-31T12:26:21.416Z"
      },
      {
        "duration": 19,
        "start_time": "2021-10-31T12:26:56.401Z"
      },
      {
        "duration": 6,
        "start_time": "2021-10-31T12:28:39.210Z"
      },
      {
        "duration": 7,
        "start_time": "2021-10-31T12:29:04.532Z"
      },
      {
        "duration": 8,
        "start_time": "2021-10-31T12:29:19.393Z"
      },
      {
        "duration": 6,
        "start_time": "2021-10-31T12:29:45.375Z"
      },
      {
        "duration": 389,
        "start_time": "2021-10-31T12:33:13.043Z"
      },
      {
        "duration": 5,
        "start_time": "2021-10-31T12:33:33.394Z"
      },
      {
        "duration": 6,
        "start_time": "2021-10-31T13:06:13.408Z"
      },
      {
        "duration": 1342,
        "start_time": "2021-10-31T13:17:05.241Z"
      },
      {
        "duration": 4,
        "start_time": "2021-10-31T13:17:06.586Z"
      },
      {
        "duration": 91,
        "start_time": "2021-10-31T13:17:06.593Z"
      },
      {
        "duration": 415,
        "start_time": "2021-10-31T13:17:06.687Z"
      },
      {
        "duration": 218,
        "start_time": "2021-10-31T13:17:07.104Z"
      },
      {
        "duration": 349,
        "start_time": "2021-10-31T13:17:07.324Z"
      },
      {
        "duration": 86,
        "start_time": "2021-10-31T13:17:07.676Z"
      },
      {
        "duration": 5,
        "start_time": "2021-10-31T13:17:07.766Z"
      },
      {
        "duration": 15,
        "start_time": "2021-10-31T13:17:07.775Z"
      },
      {
        "duration": 129,
        "start_time": "2021-10-31T13:17:07.793Z"
      },
      {
        "duration": 12,
        "start_time": "2021-10-31T13:17:07.925Z"
      },
      {
        "duration": 4,
        "start_time": "2021-10-31T13:17:07.940Z"
      },
      {
        "duration": 227,
        "start_time": "2021-10-31T13:17:07.947Z"
      },
      {
        "duration": 81,
        "start_time": "2021-10-31T13:17:08.177Z"
      },
      {
        "duration": 41,
        "start_time": "2021-10-31T13:17:08.260Z"
      },
      {
        "duration": 25,
        "start_time": "2021-10-31T13:17:08.303Z"
      },
      {
        "duration": 22,
        "start_time": "2021-10-31T13:17:08.330Z"
      },
      {
        "duration": 16,
        "start_time": "2021-10-31T13:17:08.354Z"
      },
      {
        "duration": 50,
        "start_time": "2021-10-31T13:17:08.373Z"
      },
      {
        "duration": 13,
        "start_time": "2021-10-31T13:17:08.426Z"
      },
      {
        "duration": 28,
        "start_time": "2021-10-31T13:17:08.442Z"
      },
      {
        "duration": 12,
        "start_time": "2021-10-31T13:17:08.473Z"
      },
      {
        "duration": 40,
        "start_time": "2021-10-31T13:17:08.491Z"
      },
      {
        "duration": 27,
        "start_time": "2021-10-31T13:17:08.534Z"
      },
      {
        "duration": 15,
        "start_time": "2021-10-31T13:17:08.563Z"
      },
      {
        "duration": 41,
        "start_time": "2021-10-31T13:17:08.581Z"
      },
      {
        "duration": 20,
        "start_time": "2021-10-31T13:17:08.625Z"
      },
      {
        "duration": 25,
        "start_time": "2021-10-31T13:17:08.648Z"
      },
      {
        "duration": 13,
        "start_time": "2021-10-31T13:17:08.676Z"
      },
      {
        "duration": 53,
        "start_time": "2021-10-31T13:17:08.692Z"
      },
      {
        "duration": 10,
        "start_time": "2021-10-31T13:17:08.748Z"
      },
      {
        "duration": 20,
        "start_time": "2021-10-31T13:17:08.761Z"
      },
      {
        "duration": 11,
        "start_time": "2021-10-31T13:17:08.784Z"
      },
      {
        "duration": 27,
        "start_time": "2021-10-31T13:17:08.797Z"
      },
      {
        "duration": 12,
        "start_time": "2021-10-31T13:17:08.826Z"
      },
      {
        "duration": 10,
        "start_time": "2021-10-31T13:17:08.841Z"
      },
      {
        "duration": 31,
        "start_time": "2021-10-31T13:17:08.854Z"
      },
      {
        "duration": 6,
        "start_time": "2021-10-31T13:17:08.923Z"
      },
      {
        "duration": 370,
        "start_time": "2021-10-31T13:17:08.931Z"
      },
      {
        "duration": 8,
        "start_time": "2021-10-31T13:17:09.304Z"
      },
      {
        "duration": 8,
        "start_time": "2021-10-31T13:17:09.323Z"
      },
      {
        "duration": 24,
        "start_time": "2021-10-31T13:17:09.333Z"
      },
      {
        "duration": 14,
        "start_time": "2021-10-31T13:17:09.359Z"
      },
      {
        "duration": 23,
        "start_time": "2021-10-31T13:17:09.375Z"
      },
      {
        "duration": 38,
        "start_time": "2021-10-31T13:17:09.400Z"
      },
      {
        "duration": 1532,
        "start_time": "2021-10-31T13:17:09.441Z"
      },
      {
        "duration": 849,
        "start_time": "2021-10-31T13:17:10.976Z"
      },
      {
        "duration": 822,
        "start_time": "2021-10-31T13:17:11.827Z"
      },
      {
        "duration": 16,
        "start_time": "2021-10-31T13:17:12.652Z"
      },
      {
        "duration": 15,
        "start_time": "2021-10-31T13:17:12.671Z"
      },
      {
        "duration": 58,
        "start_time": "2021-10-31T13:17:12.689Z"
      },
      {
        "duration": 801,
        "start_time": "2021-10-31T13:17:12.750Z"
      },
      {
        "duration": 8,
        "start_time": "2021-10-31T13:17:13.554Z"
      },
      {
        "duration": 15,
        "start_time": "2021-10-31T13:17:13.565Z"
      },
      {
        "duration": 27,
        "start_time": "2021-10-31T13:17:13.582Z"
      },
      {
        "duration": 21,
        "start_time": "2021-10-31T13:17:13.612Z"
      },
      {
        "duration": 30,
        "start_time": "2021-10-31T13:17:13.636Z"
      },
      {
        "duration": 30,
        "start_time": "2021-10-31T13:17:13.668Z"
      },
      {
        "duration": 15,
        "start_time": "2021-10-31T13:17:13.701Z"
      },
      {
        "duration": 8,
        "start_time": "2021-10-31T13:17:13.719Z"
      },
      {
        "duration": 90,
        "start_time": "2021-10-31T21:56:38.187Z"
      }
    ],
    "kernelspec": {
      "display_name": "Python 3 (ipykernel)",
      "language": "python",
      "name": "python3"
    },
    "language_info": {
      "codemirror_mode": {
        "name": "ipython",
        "version": 3
      },
      "file_extension": ".py",
      "mimetype": "text/x-python",
      "name": "python",
      "nbconvert_exporter": "python",
      "pygments_lexer": "ipython3",
      "version": "3.9.5"
    },
    "toc": {
      "base_numbering": 1,
      "nav_menu": {},
      "number_sections": true,
      "sideBar": true,
      "skip_h1_title": true,
      "title_cell": "Table of Contents",
      "title_sidebar": "Contents",
      "toc_cell": false,
      "toc_position": {
        "height": "calc(100% - 180px)",
        "left": "10px",
        "top": "150px",
        "width": "210.488px"
      },
      "toc_section_display": true,
      "toc_window_display": true
    },
    "colab": {
      "provenance": [],
      "collapsed_sections": []
    }
  },
  "nbformat": 4,
  "nbformat_minor": 0
}