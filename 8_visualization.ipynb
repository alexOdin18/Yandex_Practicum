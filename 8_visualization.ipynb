{
  "cells": [
    {
      "cell_type": "markdown",
      "metadata": {
        "id": "pmtjmtVXkRjU"
      },
      "source": [
        "# Описание и цели проекта\n",
        "Цель проекта провести исследование рынка общественного питания Москвы.  \n",
        "**Данные:**  \n",
        "На исследование получены данные об объектах общественного питания с указанием названия, типа заведения, адреса и данных о вместимости.\n"
      ]
    },
    {
      "cell_type": "markdown",
      "metadata": {
        "id": "KAyN2Xa1kRjU"
      },
      "source": [
        "## 1. Импорт данных. Предварительный анализ. "
      ]
    },
    {
      "cell_type": "markdown",
      "metadata": {
        "id": "537umYpKkRjV"
      },
      "source": [
        "Импортируем необходимые библиотеки."
      ]
    },
    {
      "cell_type": "code",
      "execution_count": null,
      "metadata": {
        "id": "fqYceEATkRjX"
      },
      "outputs": [],
      "source": [
        "import pandas as pd\n",
        "import seaborn as sns\n",
        "import matplotlib.pyplot as plt\n",
        "import plotly.express as px\n",
        "import numpy as np\n",
        "pd.options.display.float_format ='{:,.2f}'.format\n",
        "#pd.set_option('display.width', 500)\n",
        "import json"
      ]
    },
    {
      "cell_type": "markdown",
      "metadata": {
        "id": "nNr0Lw4NkRjZ"
      },
      "source": [
        "Прочитаем файл и сохраним датафрейм в переменную rest_data."
      ]
    },
    {
      "cell_type": "code",
      "execution_count": null,
      "metadata": {
        "scrolled": true,
        "id": "7hEC-ARUkRjb",
        "outputId": "78fef225-0395-4fa5-ae4d-634123ec2bca"
      },
      "outputs": [
        {
          "data": {
            "text/html": [
              "<div>\n",
              "<style scoped>\n",
              "    .dataframe tbody tr th:only-of-type {\n",
              "        vertical-align: middle;\n",
              "    }\n",
              "\n",
              "    .dataframe tbody tr th {\n",
              "        vertical-align: top;\n",
              "    }\n",
              "\n",
              "    .dataframe thead th {\n",
              "        text-align: right;\n",
              "    }\n",
              "</style>\n",
              "<table border=\"1\" class=\"dataframe\">\n",
              "  <thead>\n",
              "    <tr style=\"text-align: right;\">\n",
              "      <th></th>\n",
              "      <th>id</th>\n",
              "      <th>object_name</th>\n",
              "      <th>chain</th>\n",
              "      <th>object_type</th>\n",
              "      <th>address</th>\n",
              "      <th>number</th>\n",
              "    </tr>\n",
              "  </thead>\n",
              "  <tbody>\n",
              "    <tr>\n",
              "      <td>0</td>\n",
              "      <td>151635</td>\n",
              "      <td>СМЕТАНА</td>\n",
              "      <td>нет</td>\n",
              "      <td>кафе</td>\n",
              "      <td>город Москва, улица Егора Абакумова, дом 9</td>\n",
              "      <td>48</td>\n",
              "    </tr>\n",
              "    <tr>\n",
              "      <td>1</td>\n",
              "      <td>77874</td>\n",
              "      <td>Родник</td>\n",
              "      <td>нет</td>\n",
              "      <td>кафе</td>\n",
              "      <td>город Москва, улица Талалихина, дом 2/1, корпус 1</td>\n",
              "      <td>35</td>\n",
              "    </tr>\n",
              "    <tr>\n",
              "      <td>2</td>\n",
              "      <td>24309</td>\n",
              "      <td>Кафе «Академия»</td>\n",
              "      <td>нет</td>\n",
              "      <td>кафе</td>\n",
              "      <td>город Москва, Абельмановская улица, дом 6</td>\n",
              "      <td>95</td>\n",
              "    </tr>\n",
              "    <tr>\n",
              "      <td>3</td>\n",
              "      <td>21894</td>\n",
              "      <td>ПИЦЦЕТОРИЯ</td>\n",
              "      <td>да</td>\n",
              "      <td>кафе</td>\n",
              "      <td>город Москва, Абрамцевская улица, дом 1</td>\n",
              "      <td>40</td>\n",
              "    </tr>\n",
              "    <tr>\n",
              "      <td>4</td>\n",
              "      <td>119365</td>\n",
              "      <td>Кафе «Вишневая метель»</td>\n",
              "      <td>нет</td>\n",
              "      <td>кафе</td>\n",
              "      <td>город Москва, Абрамцевская улица, дом 9, корпус 1</td>\n",
              "      <td>50</td>\n",
              "    </tr>\n",
              "  </tbody>\n",
              "</table>\n",
              "</div>"
            ],
            "text/plain": [
              "       id             object_name chain object_type  \\\n",
              "0  151635                 СМЕТАНА   нет        кафе   \n",
              "1   77874                  Родник   нет        кафе   \n",
              "2   24309         Кафе «Академия»   нет        кафе   \n",
              "3   21894              ПИЦЦЕТОРИЯ    да        кафе   \n",
              "4  119365  Кафе «Вишневая метель»   нет        кафе   \n",
              "\n",
              "                                             address  number  \n",
              "0         город Москва, улица Егора Абакумова, дом 9      48  \n",
              "1  город Москва, улица Талалихина, дом 2/1, корпус 1      35  \n",
              "2          город Москва, Абельмановская улица, дом 6      95  \n",
              "3            город Москва, Абрамцевская улица, дом 1      40  \n",
              "4  город Москва, Абрамцевская улица, дом 9, корпус 1      50  "
            ]
          },
          "execution_count": 2,
          "metadata": {},
          "output_type": "execute_result"
        }
      ],
      "source": [
        "rest_data = pd.read_csv('/datasets/rest_data.csv')\n",
        "rest_data.head()"
      ]
    },
    {
      "cell_type": "markdown",
      "metadata": {
        "id": "I5C9xtFZkRjc"
      },
      "source": [
        "В столбце с названиями данные нужно привести к нижнему регистру. Название столбца number нужно изменить на number_seats так будет понятнее."
      ]
    },
    {
      "cell_type": "code",
      "execution_count": null,
      "metadata": {
        "scrolled": true,
        "id": "G9H3fRHFkRjd",
        "outputId": "c69931a6-b5cd-4de9-acc3-bf6c67cfe7a8"
      },
      "outputs": [
        {
          "name": "stdout",
          "output_type": "stream",
          "text": [
            "<class 'pandas.core.frame.DataFrame'>\n",
            "RangeIndex: 15366 entries, 0 to 15365\n",
            "Data columns (total 6 columns):\n",
            "id             15366 non-null int64\n",
            "object_name    15366 non-null object\n",
            "chain          15366 non-null object\n",
            "object_type    15366 non-null object\n",
            "address        15366 non-null object\n",
            "number         15366 non-null int64\n",
            "dtypes: int64(2), object(4)\n",
            "memory usage: 720.4+ KB\n"
          ]
        }
      ],
      "source": [
        "rest_data.info()"
      ]
    },
    {
      "cell_type": "markdown",
      "metadata": {
        "id": "Dm3khzoGkRje"
      },
      "source": [
        "Пропусков в данных нет. Типы данных соответствуют требуемым"
      ]
    },
    {
      "cell_type": "markdown",
      "metadata": {
        "id": "5NZmA-GfkRje"
      },
      "source": [
        "Посмотрим на некоторые стобцы более детально."
      ]
    },
    {
      "cell_type": "code",
      "execution_count": null,
      "metadata": {
        "id": "VsAR2Ks1kRjf",
        "outputId": "c6ddc256-fe51-450e-821a-cf81abb9e9a3"
      },
      "outputs": [
        {
          "data": {
            "text/plain": [
              "Столовая                     267\n",
              "Кафе                         236\n",
              "Шаурма                       234\n",
              "KFC                          155\n",
              "Шоколадница                  142\n",
              "                            ... \n",
              "Кафе «WOODWOODBURGERS»         1\n",
              "Буфет «Вкусный мир»            1\n",
              "Салаты                         1\n",
              "БАНКЕТНЫЙ ЗАЛ «ГАЛАКТИКА»      1\n",
              "Cevicheria.Tartaria            1\n",
              "Name: object_name, Length: 10393, dtype: int64"
            ]
          },
          "execution_count": 4,
          "metadata": {},
          "output_type": "execute_result"
        }
      ],
      "source": [
        "rest_data['object_name'].value_counts()"
      ]
    },
    {
      "cell_type": "code",
      "execution_count": null,
      "metadata": {
        "id": "A3WhMWp2kRjg",
        "outputId": "b0d1d6ee-2233-4e05-b228-ed8faa1c6b17"
      },
      "outputs": [
        {
          "data": {
            "text/plain": [
              "кафе                                 6099\n",
              "столовая                             2587\n",
              "ресторан                             2285\n",
              "предприятие быстрого обслуживания    1923\n",
              "бар                                   856\n",
              "буфет                                 585\n",
              "кафетерий                             398\n",
              "закусочная                            360\n",
              "магазин (отдел кулинарии)             273\n",
              "Name: object_type, dtype: int64"
            ]
          },
          "execution_count": 5,
          "metadata": {},
          "output_type": "execute_result"
        }
      ],
      "source": [
        "rest_data['object_type'].value_counts()"
      ]
    },
    {
      "cell_type": "code",
      "execution_count": null,
      "metadata": {
        "scrolled": true,
        "id": "wxFu-iX7kRjh",
        "outputId": "88c06694-201e-49da-de74-897cc18ba4ba"
      },
      "outputs": [
        {
          "data": {
            "text/plain": [
              "нет    12398\n",
              "да      2968\n",
              "Name: chain, dtype: int64"
            ]
          },
          "execution_count": 6,
          "metadata": {},
          "output_type": "execute_result"
        }
      ],
      "source": [
        "rest_data['chain'].value_counts()"
      ]
    },
    {
      "cell_type": "code",
      "execution_count": null,
      "metadata": {
        "id": "wccPvdSnkRji",
        "outputId": "6fa897bf-a7cb-4b40-dd90-d757fce19bc3"
      },
      "outputs": [
        {
          "data": {
            "text/plain": [
              "id             0\n",
              "object_name    0\n",
              "chain          0\n",
              "object_type    0\n",
              "address        0\n",
              "number         0\n",
              "dtype: int64"
            ]
          },
          "execution_count": 7,
          "metadata": {},
          "output_type": "execute_result"
        }
      ],
      "source": [
        "rest_data.isna().sum()"
      ]
    },
    {
      "cell_type": "markdown",
      "metadata": {
        "id": "5QN766WWkRjj"
      },
      "source": [
        "## 2. Предобработка данных"
      ]
    },
    {
      "cell_type": "markdown",
      "metadata": {
        "id": "3FqeRFdRkRjk"
      },
      "source": [
        "Приведем данные к нижнему регистру."
      ]
    },
    {
      "cell_type": "code",
      "execution_count": null,
      "metadata": {
        "id": "7oPwKr9pkRjk"
      },
      "outputs": [],
      "source": [
        "rest_data['object_name'] = rest_data['object_name'].str.lower()\n",
        "rest_data['address'] = rest_data['address'].str.lower()"
      ]
    },
    {
      "cell_type": "markdown",
      "metadata": {
        "id": "e_T5NzqTkRjl"
      },
      "source": [
        "Переименуем столбец number"
      ]
    },
    {
      "cell_type": "code",
      "execution_count": null,
      "metadata": {
        "id": "g9KACs3PkRjl"
      },
      "outputs": [],
      "source": [
        "rest_data = rest_data.rename(columns={'number': 'number_seats'})"
      ]
    },
    {
      "cell_type": "code",
      "execution_count": null,
      "metadata": {
        "id": "KKpyNu94kRjm",
        "outputId": "7debd8be-9224-4659-c66e-17da59098f65"
      },
      "outputs": [
        {
          "data": {
            "text/html": [
              "<div>\n",
              "<style scoped>\n",
              "    .dataframe tbody tr th:only-of-type {\n",
              "        vertical-align: middle;\n",
              "    }\n",
              "\n",
              "    .dataframe tbody tr th {\n",
              "        vertical-align: top;\n",
              "    }\n",
              "\n",
              "    .dataframe thead th {\n",
              "        text-align: right;\n",
              "    }\n",
              "</style>\n",
              "<table border=\"1\" class=\"dataframe\">\n",
              "  <thead>\n",
              "    <tr style=\"text-align: right;\">\n",
              "      <th></th>\n",
              "      <th>id</th>\n",
              "      <th>object_name</th>\n",
              "      <th>chain</th>\n",
              "      <th>object_type</th>\n",
              "      <th>address</th>\n",
              "      <th>number_seats</th>\n",
              "    </tr>\n",
              "  </thead>\n",
              "  <tbody>\n",
              "    <tr>\n",
              "      <td>0</td>\n",
              "      <td>151635</td>\n",
              "      <td>сметана</td>\n",
              "      <td>нет</td>\n",
              "      <td>кафе</td>\n",
              "      <td>город москва, улица егора абакумова, дом 9</td>\n",
              "      <td>48</td>\n",
              "    </tr>\n",
              "    <tr>\n",
              "      <td>1</td>\n",
              "      <td>77874</td>\n",
              "      <td>родник</td>\n",
              "      <td>нет</td>\n",
              "      <td>кафе</td>\n",
              "      <td>город москва, улица талалихина, дом 2/1, корпус 1</td>\n",
              "      <td>35</td>\n",
              "    </tr>\n",
              "    <tr>\n",
              "      <td>2</td>\n",
              "      <td>24309</td>\n",
              "      <td>кафе «академия»</td>\n",
              "      <td>нет</td>\n",
              "      <td>кафе</td>\n",
              "      <td>город москва, абельмановская улица, дом 6</td>\n",
              "      <td>95</td>\n",
              "    </tr>\n",
              "    <tr>\n",
              "      <td>3</td>\n",
              "      <td>21894</td>\n",
              "      <td>пиццетория</td>\n",
              "      <td>да</td>\n",
              "      <td>кафе</td>\n",
              "      <td>город москва, абрамцевская улица, дом 1</td>\n",
              "      <td>40</td>\n",
              "    </tr>\n",
              "    <tr>\n",
              "      <td>4</td>\n",
              "      <td>119365</td>\n",
              "      <td>кафе «вишневая метель»</td>\n",
              "      <td>нет</td>\n",
              "      <td>кафе</td>\n",
              "      <td>город москва, абрамцевская улица, дом 9, корпус 1</td>\n",
              "      <td>50</td>\n",
              "    </tr>\n",
              "    <tr>\n",
              "      <td>...</td>\n",
              "      <td>...</td>\n",
              "      <td>...</td>\n",
              "      <td>...</td>\n",
              "      <td>...</td>\n",
              "      <td>...</td>\n",
              "      <td>...</td>\n",
              "    </tr>\n",
              "    <tr>\n",
              "      <td>15361</td>\n",
              "      <td>208537</td>\n",
              "      <td>шоколадница</td>\n",
              "      <td>да</td>\n",
              "      <td>кафе</td>\n",
              "      <td>город москва, 3-й крутицкий переулок, дом 18</td>\n",
              "      <td>50</td>\n",
              "    </tr>\n",
              "    <tr>\n",
              "      <td>15362</td>\n",
              "      <td>209264</td>\n",
              "      <td>шоколадница</td>\n",
              "      <td>да</td>\n",
              "      <td>кафе</td>\n",
              "      <td>город москва, улица земляной вал, дом 33</td>\n",
              "      <td>10</td>\n",
              "    </tr>\n",
              "    <tr>\n",
              "      <td>15363</td>\n",
              "      <td>209186</td>\n",
              "      <td>шоколадница</td>\n",
              "      <td>да</td>\n",
              "      <td>кафе</td>\n",
              "      <td>город москва, улица земляной вал, дом 33</td>\n",
              "      <td>20</td>\n",
              "    </tr>\n",
              "    <tr>\n",
              "      <td>15364</td>\n",
              "      <td>221900</td>\n",
              "      <td>шоколадница</td>\n",
              "      <td>да</td>\n",
              "      <td>кафе</td>\n",
              "      <td>город москва, поселение московский, киевское ш...</td>\n",
              "      <td>36</td>\n",
              "    </tr>\n",
              "    <tr>\n",
              "      <td>15365</td>\n",
              "      <td>222535</td>\n",
              "      <td>шоколадница</td>\n",
              "      <td>да</td>\n",
              "      <td>кафе</td>\n",
              "      <td>город москва, ходынский бульвар, дом 4</td>\n",
              "      <td>10</td>\n",
              "    </tr>\n",
              "  </tbody>\n",
              "</table>\n",
              "<p>15366 rows × 6 columns</p>\n",
              "</div>"
            ],
            "text/plain": [
              "           id             object_name chain object_type  \\\n",
              "0      151635                 сметана   нет        кафе   \n",
              "1       77874                  родник   нет        кафе   \n",
              "2       24309         кафе «академия»   нет        кафе   \n",
              "3       21894              пиццетория    да        кафе   \n",
              "4      119365  кафе «вишневая метель»   нет        кафе   \n",
              "...       ...                     ...   ...         ...   \n",
              "15361  208537             шоколадница    да        кафе   \n",
              "15362  209264             шоколадница    да        кафе   \n",
              "15363  209186             шоколадница    да        кафе   \n",
              "15364  221900             шоколадница    да        кафе   \n",
              "15365  222535             шоколадница    да        кафе   \n",
              "\n",
              "                                                 address  number_seats  \n",
              "0             город москва, улица егора абакумова, дом 9            48  \n",
              "1      город москва, улица талалихина, дом 2/1, корпус 1            35  \n",
              "2              город москва, абельмановская улица, дом 6            95  \n",
              "3                город москва, абрамцевская улица, дом 1            40  \n",
              "4      город москва, абрамцевская улица, дом 9, корпус 1            50  \n",
              "...                                                  ...           ...  \n",
              "15361       город москва, 3-й крутицкий переулок, дом 18            50  \n",
              "15362           город москва, улица земляной вал, дом 33            10  \n",
              "15363           город москва, улица земляной вал, дом 33            20  \n",
              "15364  город москва, поселение московский, киевское ш...            36  \n",
              "15365             город москва, ходынский бульвар, дом 4            10  \n",
              "\n",
              "[15366 rows x 6 columns]"
            ]
          },
          "execution_count": 10,
          "metadata": {},
          "output_type": "execute_result"
        }
      ],
      "source": [
        "rest_data"
      ]
    },
    {
      "cell_type": "markdown",
      "metadata": {
        "id": "haXv8JYwkRjm"
      },
      "source": [
        "Поменяем некоторые длинные названия в столбце object_type и добавим название для сетевого и несетевого заведения "
      ]
    },
    {
      "cell_type": "code",
      "execution_count": null,
      "metadata": {
        "id": "y7nCTVyHkRjn"
      },
      "outputs": [],
      "source": [
        "rest_data['object_type'] = rest_data['object_type'].replace({'предприятие быстрого обслуживания': 'фастфуд', 'магазин (отдел кулинарии)': 'магазин'})\n",
        "rest_data['chain'] = rest_data['chain'].replace({'да': 'сетевое', 'нет': 'несетевое'})"
      ]
    },
    {
      "cell_type": "code",
      "execution_count": null,
      "metadata": {
        "id": "tKuUAYRYkRjn",
        "outputId": "2e056e17-733b-4ee1-af38-52b3c05119a3"
      },
      "outputs": [
        {
          "data": {
            "text/html": [
              "<div>\n",
              "<style scoped>\n",
              "    .dataframe tbody tr th:only-of-type {\n",
              "        vertical-align: middle;\n",
              "    }\n",
              "\n",
              "    .dataframe tbody tr th {\n",
              "        vertical-align: top;\n",
              "    }\n",
              "\n",
              "    .dataframe thead th {\n",
              "        text-align: right;\n",
              "    }\n",
              "</style>\n",
              "<table border=\"1\" class=\"dataframe\">\n",
              "  <thead>\n",
              "    <tr style=\"text-align: right;\">\n",
              "      <th></th>\n",
              "      <th>id</th>\n",
              "      <th>object_name</th>\n",
              "      <th>chain</th>\n",
              "      <th>object_type</th>\n",
              "      <th>address</th>\n",
              "      <th>number_seats</th>\n",
              "    </tr>\n",
              "  </thead>\n",
              "  <tbody>\n",
              "    <tr>\n",
              "      <td>0</td>\n",
              "      <td>151635</td>\n",
              "      <td>сметана</td>\n",
              "      <td>несетевое</td>\n",
              "      <td>кафе</td>\n",
              "      <td>город москва, улица егора абакумова, дом 9</td>\n",
              "      <td>48</td>\n",
              "    </tr>\n",
              "    <tr>\n",
              "      <td>1</td>\n",
              "      <td>77874</td>\n",
              "      <td>родник</td>\n",
              "      <td>несетевое</td>\n",
              "      <td>кафе</td>\n",
              "      <td>город москва, улица талалихина, дом 2/1, корпус 1</td>\n",
              "      <td>35</td>\n",
              "    </tr>\n",
              "    <tr>\n",
              "      <td>2</td>\n",
              "      <td>24309</td>\n",
              "      <td>кафе «академия»</td>\n",
              "      <td>несетевое</td>\n",
              "      <td>кафе</td>\n",
              "      <td>город москва, абельмановская улица, дом 6</td>\n",
              "      <td>95</td>\n",
              "    </tr>\n",
              "    <tr>\n",
              "      <td>3</td>\n",
              "      <td>21894</td>\n",
              "      <td>пиццетория</td>\n",
              "      <td>сетевое</td>\n",
              "      <td>кафе</td>\n",
              "      <td>город москва, абрамцевская улица, дом 1</td>\n",
              "      <td>40</td>\n",
              "    </tr>\n",
              "    <tr>\n",
              "      <td>4</td>\n",
              "      <td>119365</td>\n",
              "      <td>кафе «вишневая метель»</td>\n",
              "      <td>несетевое</td>\n",
              "      <td>кафе</td>\n",
              "      <td>город москва, абрамцевская улица, дом 9, корпус 1</td>\n",
              "      <td>50</td>\n",
              "    </tr>\n",
              "    <tr>\n",
              "      <td>...</td>\n",
              "      <td>...</td>\n",
              "      <td>...</td>\n",
              "      <td>...</td>\n",
              "      <td>...</td>\n",
              "      <td>...</td>\n",
              "      <td>...</td>\n",
              "    </tr>\n",
              "    <tr>\n",
              "      <td>15361</td>\n",
              "      <td>208537</td>\n",
              "      <td>шоколадница</td>\n",
              "      <td>сетевое</td>\n",
              "      <td>кафе</td>\n",
              "      <td>город москва, 3-й крутицкий переулок, дом 18</td>\n",
              "      <td>50</td>\n",
              "    </tr>\n",
              "    <tr>\n",
              "      <td>15362</td>\n",
              "      <td>209264</td>\n",
              "      <td>шоколадница</td>\n",
              "      <td>сетевое</td>\n",
              "      <td>кафе</td>\n",
              "      <td>город москва, улица земляной вал, дом 33</td>\n",
              "      <td>10</td>\n",
              "    </tr>\n",
              "    <tr>\n",
              "      <td>15363</td>\n",
              "      <td>209186</td>\n",
              "      <td>шоколадница</td>\n",
              "      <td>сетевое</td>\n",
              "      <td>кафе</td>\n",
              "      <td>город москва, улица земляной вал, дом 33</td>\n",
              "      <td>20</td>\n",
              "    </tr>\n",
              "    <tr>\n",
              "      <td>15364</td>\n",
              "      <td>221900</td>\n",
              "      <td>шоколадница</td>\n",
              "      <td>сетевое</td>\n",
              "      <td>кафе</td>\n",
              "      <td>город москва, поселение московский, киевское ш...</td>\n",
              "      <td>36</td>\n",
              "    </tr>\n",
              "    <tr>\n",
              "      <td>15365</td>\n",
              "      <td>222535</td>\n",
              "      <td>шоколадница</td>\n",
              "      <td>сетевое</td>\n",
              "      <td>кафе</td>\n",
              "      <td>город москва, ходынский бульвар, дом 4</td>\n",
              "      <td>10</td>\n",
              "    </tr>\n",
              "  </tbody>\n",
              "</table>\n",
              "<p>15366 rows × 6 columns</p>\n",
              "</div>"
            ],
            "text/plain": [
              "           id             object_name      chain object_type  \\\n",
              "0      151635                 сметана  несетевое        кафе   \n",
              "1       77874                  родник  несетевое        кафе   \n",
              "2       24309         кафе «академия»  несетевое        кафе   \n",
              "3       21894              пиццетория    сетевое        кафе   \n",
              "4      119365  кафе «вишневая метель»  несетевое        кафе   \n",
              "...       ...                     ...        ...         ...   \n",
              "15361  208537             шоколадница    сетевое        кафе   \n",
              "15362  209264             шоколадница    сетевое        кафе   \n",
              "15363  209186             шоколадница    сетевое        кафе   \n",
              "15364  221900             шоколадница    сетевое        кафе   \n",
              "15365  222535             шоколадница    сетевое        кафе   \n",
              "\n",
              "                                                 address  number_seats  \n",
              "0             город москва, улица егора абакумова, дом 9            48  \n",
              "1      город москва, улица талалихина, дом 2/1, корпус 1            35  \n",
              "2              город москва, абельмановская улица, дом 6            95  \n",
              "3                город москва, абрамцевская улица, дом 1            40  \n",
              "4      город москва, абрамцевская улица, дом 9, корпус 1            50  \n",
              "...                                                  ...           ...  \n",
              "15361       город москва, 3-й крутицкий переулок, дом 18            50  \n",
              "15362           город москва, улица земляной вал, дом 33            10  \n",
              "15363           город москва, улица земляной вал, дом 33            20  \n",
              "15364  город москва, поселение московский, киевское ш...            36  \n",
              "15365             город москва, ходынский бульвар, дом 4            10  \n",
              "\n",
              "[15366 rows x 6 columns]"
            ]
          },
          "execution_count": 12,
          "metadata": {},
          "output_type": "execute_result"
        }
      ],
      "source": [
        "rest_data"
      ]
    },
    {
      "cell_type": "markdown",
      "metadata": {
        "id": "Boxo76ZjkRjo"
      },
      "source": [
        "## 3. Исследовательский анализ данных"
      ]
    },
    {
      "cell_type": "markdown",
      "metadata": {
        "id": "1JuvRIgBkRjo"
      },
      "source": [
        "* Посмотрим на соотношение видов объектов общественного питания по количеству."
      ]
    },
    {
      "cell_type": "code",
      "execution_count": null,
      "metadata": {
        "scrolled": false,
        "id": "NZJ9GiIZkRjo",
        "outputId": "d3db1aad-509f-436c-8f9c-a500261b0c2a"
      },
      "outputs": [
        {
          "data": {
            "text/plain": [
              "Text(0, 0.5, 'Количество объектов')"
            ]
          },
          "execution_count": 13,
          "metadata": {},
          "output_type": "execute_result"
        },
        {
          "data": {
            "image/png": "[encoded data removed]",
            "text/plain": [
              "<Figure size 576x396 with 1 Axes>"
            ]
          },
          "metadata": {},
          "output_type": "display_data"
        }
      ],
      "source": [
        "plt.style.use('seaborn')\n",
        "rest_data.groupby('object_type')['id'].count().sort_values(ascending=False).plot(kind='bar')\n",
        "plt.xticks(rotation=45)\n",
        "plt.title('Количество объектов по виду заведения в Москве')\n",
        "plt.xlabel('Вид заведения')\n",
        "plt.ylabel('Количество объектов')"
      ]
    },
    {
      "cell_type": "code",
      "execution_count": null,
      "metadata": {
        "scrolled": true,
        "id": "8naxN2JskRjq",
        "outputId": "cd7debe2-8e43-4484-cb7b-88ab12301cfa"
      },
      "outputs": [
        {
          "name": "stdout",
          "output_type": "stream",
          "text": [
            "Доля заведений вида кафе: 40%\n",
            "Доля заведений вида столовая: 17%\n",
            "Доля заведений вида ресторан: 15%\n",
            "Доля заведений вида фастфуд: 13%\n",
            "Доля заведений вида бар: 6%\n",
            "Доля заведений вида буфет: 4%\n",
            "Доля заведений вида кафетерий: 3%\n",
            "Доля заведений вида закусочная: 2%\n",
            "Доля заведений вида магазин: 2%\n"
          ]
        }
      ],
      "source": [
        "for i in ['кафе', 'столовая', 'ресторан', 'фастфуд', 'бар', 'буфет', 'кафетерий', 'закусочная', 'магазин']:\n",
        "    print('Доля заведений вида ' + i + ': {:.0%}'.format(rest_data.query('object_type == @i').groupby('object_type')['id'].count().sum()/rest_data.groupby('object_type')['id'].count().sum()))"
      ]
    },
    {
      "cell_type": "markdown",
      "metadata": {
        "id": "NJl0vBVIkRjs"
      },
      "source": [
        "Как видим, кафе самый распространенный тип заведений в Москве. В тройку самых популярных также вхожят столовая и ресторан. Немного меньше по количеству заведений типа Фастфуд. "
      ]
    },
    {
      "cell_type": "markdown",
      "metadata": {
        "id": "tLp7ME9KkRjs"
      },
      "source": [
        "* Посмотрим на соотношение сетевых и несетевых заведений по количеству."
      ]
    },
    {
      "cell_type": "code",
      "execution_count": null,
      "metadata": {
        "id": "UNnwr4a8kRjs",
        "outputId": "37440c50-a8cb-409f-bf3d-8742fa9a0243"
      },
      "outputs": [
        {
          "data": {
            "image/png": "[encoded data removed]",
            "text/plain": [
              "<Figure size 576x396 with 1 Axes>"
            ]
          },
          "metadata": {},
          "output_type": "display_data"
        }
      ],
      "source": [
        "#plt.style.use('seaborn')\n",
        "rest_data.groupby('chain')['id'].count().sort_values(ascending=False).plot(kind='pie', autopct='%.0f', shadow=True, fontsize=16)\n",
        "plt.xticks(rotation=45)\n",
        "plt.title('Доля сетевых заведений в Москве, %', fontsize=16)\n",
        "#plt.xlabel('Принадлежность к сети')\n",
        "plt.ylabel('')\n",
        "plt.show()"
      ]
    },
    {
      "cell_type": "code",
      "execution_count": null,
      "metadata": {
        "id": "n7ctgsEFkRju",
        "outputId": "50c215af-3837-4b41-a8dd-3e8d330b758b"
      },
      "outputs": [
        {
          "data": {
            "text/plain": [
              "несетевое    12398\n",
              "сетевое       2968\n",
              "Name: chain, dtype: int64"
            ]
          },
          "execution_count": 16,
          "metadata": {},
          "output_type": "execute_result"
        }
      ],
      "source": [
        "rest_data['chain'].value_counts()"
      ]
    },
    {
      "cell_type": "markdown",
      "metadata": {
        "id": "pBkEyxZkkRjv"
      },
      "source": [
        "* Посмотрим для какого вида объекта общественного питания характерно сетевое распространение."
      ]
    },
    {
      "cell_type": "code",
      "execution_count": null,
      "metadata": {
        "scrolled": false,
        "id": "K4JBuVZGkRjw",
        "outputId": "cdf2f832-b1ea-431b-ed9d-29608286d4e5"
      },
      "outputs": [
        {
          "data": {
            "image/png": "[encoded data removed]",
            "text/plain": [
              "<Figure size 576x396 with 1 Axes>"
            ]
          },
          "metadata": {},
          "output_type": "display_data"
        }
      ],
      "source": [
        "rest_data.query('chain == \"сетевое\"').groupby('object_type')['id'].count().sort_values(ascending=False).plot(kind='bar')\n",
        "plt.xticks(rotation=45)\n",
        "plt.title('Количество объектов по виду сетевого заведения в Москве')\n",
        "plt.xlabel('Вид заведения')\n",
        "plt.ylabel('Количество объектов')\n",
        "plt.show()"
      ]
    },
    {
      "cell_type": "markdown",
      "metadata": {
        "id": "3o0ZC95xkRjx"
      },
      "source": [
        "Кафе, фастфуд и ресторан наиболее распространенные виды сетевых заведений. Однако посмотрим на долю сетевых заведений от общего количества объектов соответствующего вида."
      ]
    },
    {
      "cell_type": "code",
      "execution_count": null,
      "metadata": {
        "id": "Jp10W7yykRjy"
      },
      "outputs": [],
      "source": [
        "total_amount_type = rest_data.groupby('object_type', as_index=False)['object_name'].count()\n",
        "total_amount_chain = rest_data.query('chain == \"сетевое\"').groupby('object_type', as_index=False)['id'].count()"
      ]
    },
    {
      "cell_type": "code",
      "execution_count": null,
      "metadata": {
        "scrolled": true,
        "id": "-k0XvsJykRjz",
        "outputId": "23985470-74c2-4342-8e20-662df5d0786b"
      },
      "outputs": [
        {
          "data": {
            "text/html": [
              "<div>\n",
              "<style scoped>\n",
              "    .dataframe tbody tr th:only-of-type {\n",
              "        vertical-align: middle;\n",
              "    }\n",
              "\n",
              "    .dataframe tbody tr th {\n",
              "        vertical-align: top;\n",
              "    }\n",
              "\n",
              "    .dataframe thead th {\n",
              "        text-align: right;\n",
              "    }\n",
              "</style>\n",
              "<table border=\"1\" class=\"dataframe\">\n",
              "  <thead>\n",
              "    <tr style=\"text-align: right;\">\n",
              "      <th></th>\n",
              "      <th>object_type</th>\n",
              "      <th>amount_total</th>\n",
              "      <th>amount_chain</th>\n",
              "      <th>share_net</th>\n",
              "    </tr>\n",
              "  </thead>\n",
              "  <tbody>\n",
              "    <tr>\n",
              "      <td>0</td>\n",
              "      <td>бар</td>\n",
              "      <td>856</td>\n",
              "      <td>37</td>\n",
              "      <td>4.30</td>\n",
              "    </tr>\n",
              "    <tr>\n",
              "      <td>1</td>\n",
              "      <td>буфет</td>\n",
              "      <td>585</td>\n",
              "      <td>11</td>\n",
              "      <td>1.90</td>\n",
              "    </tr>\n",
              "    <tr>\n",
              "      <td>2</td>\n",
              "      <td>закусочная</td>\n",
              "      <td>360</td>\n",
              "      <td>56</td>\n",
              "      <td>15.60</td>\n",
              "    </tr>\n",
              "    <tr>\n",
              "      <td>3</td>\n",
              "      <td>кафе</td>\n",
              "      <td>6099</td>\n",
              "      <td>1396</td>\n",
              "      <td>22.90</td>\n",
              "    </tr>\n",
              "    <tr>\n",
              "      <td>4</td>\n",
              "      <td>кафетерий</td>\n",
              "      <td>398</td>\n",
              "      <td>52</td>\n",
              "      <td>13.10</td>\n",
              "    </tr>\n",
              "    <tr>\n",
              "      <td>5</td>\n",
              "      <td>магазин</td>\n",
              "      <td>273</td>\n",
              "      <td>78</td>\n",
              "      <td>28.60</td>\n",
              "    </tr>\n",
              "    <tr>\n",
              "      <td>6</td>\n",
              "      <td>ресторан</td>\n",
              "      <td>2285</td>\n",
              "      <td>544</td>\n",
              "      <td>23.80</td>\n",
              "    </tr>\n",
              "    <tr>\n",
              "      <td>7</td>\n",
              "      <td>столовая</td>\n",
              "      <td>2587</td>\n",
              "      <td>3</td>\n",
              "      <td>0.10</td>\n",
              "    </tr>\n",
              "    <tr>\n",
              "      <td>8</td>\n",
              "      <td>фастфуд</td>\n",
              "      <td>1923</td>\n",
              "      <td>791</td>\n",
              "      <td>41.10</td>\n",
              "    </tr>\n",
              "  </tbody>\n",
              "</table>\n",
              "</div>"
            ],
            "text/plain": [
              "  object_type  amount_total  amount_chain  share_net\n",
              "0         бар           856            37       4.30\n",
              "1       буфет           585            11       1.90\n",
              "2  закусочная           360            56      15.60\n",
              "3        кафе          6099          1396      22.90\n",
              "4   кафетерий           398            52      13.10\n",
              "5     магазин           273            78      28.60\n",
              "6    ресторан          2285           544      23.80\n",
              "7    столовая          2587             3       0.10\n",
              "8     фастфуд          1923           791      41.10"
            ]
          },
          "execution_count": 19,
          "metadata": {},
          "output_type": "execute_result"
        }
      ],
      "source": [
        "share_chain = total_amount_type.merge(total_amount_chain, on='object_type').rename(columns={'object_name': 'amount_total', 'id': 'amount_chain'})\n",
        "share_chain['share_net'] =  (share_chain['amount_chain']/share_chain['amount_total']*100).round(1)\n",
        "share_chain"
      ]
    },
    {
      "cell_type": "code",
      "execution_count": null,
      "metadata": {
        "scrolled": false,
        "id": "0FAzi_89kRjz",
        "outputId": "876729e7-ca5e-49a7-c3ab-b0fa082d8023"
      },
      "outputs": [
        {
          "data": {
            "image/png": "[encoded data removed]",
            "text/plain": [
              "<Figure size 576x396 with 1 Axes>"
            ]
          },
          "metadata": {},
          "output_type": "display_data"
        }
      ],
      "source": [
        "share_chain.sort_values('share_net', ascending=False).plot(kind='bar', x='object_type', y='share_net')\n",
        "plt.xticks(rotation=45)\n",
        "plt.title('Доля сетевых объектов от общего количества заведений в Москве')\n",
        "plt.xlabel('Вид заведения')\n",
        "plt.ylabel('Доля объектов, %')\n",
        "plt.show()"
      ]
    },
    {
      "cell_type": "markdown",
      "metadata": {
        "id": "6oiz6Q5WkRj0"
      },
      "source": [
        "Как видим, среди общего количества больше всего заведений вида фастфуд, магазин и ресторан. Сетей кафе всего около 23% от общего количества. "
      ]
    },
    {
      "cell_type": "markdown",
      "metadata": {
        "id": "AwWbY0NckRj2"
      },
      "source": [
        "* Посмотрим, что характерно для сетевых заведений: много заведений с небольшим числом посадочных мест в каждом или мало заведений с большим количеством посадочных мест?"
      ]
    },
    {
      "cell_type": "code",
      "execution_count": null,
      "metadata": {
        "id": "maK8lCoAkRj3",
        "outputId": "439e9319-6fab-411a-9051-6f1172a8ec24"
      },
      "outputs": [
        {
          "data": {
            "image/png": "[encoded data removed]",
            "text/plain": [
              "<Figure size 576x396 with 1 Axes>"
            ]
          },
          "metadata": {},
          "output_type": "display_data"
        }
      ],
      "source": [
        "rest_data.query('chain == \"сетевое\"')['number_seats'].hist(bins=30, range=(0,300))\n",
        "plt.title('Распределение количества посадочных мест в сетевых заведениях Москвы')\n",
        "plt.show()"
      ]
    },
    {
      "cell_type": "code",
      "execution_count": null,
      "metadata": {
        "id": "PkBzsVCXkRj4",
        "outputId": "5f51fdbd-7b1f-4e88-8a5f-9224d77b5134"
      },
      "outputs": [
        {
          "data": {
            "image/png": "[encoded data removed]",
            "text/plain": [
              "<Figure size 576x396 with 1 Axes>"
            ]
          },
          "metadata": {},
          "output_type": "display_data"
        }
      ],
      "source": [
        "sns.boxplot(x=rest_data.query('chain == \"сетевое\"')['number_seats'])\n",
        "plt.xlim(0,200)\n",
        "plt.title('Диаграмма распределения количества посадочных мест в сетевых заведениях Москвы')\n",
        "plt.xlabel('Количество посадочных мест')\n",
        "plt.show()"
      ]
    },
    {
      "cell_type": "code",
      "execution_count": null,
      "metadata": {
        "id": "U7DHWwUEkRj4",
        "outputId": "182fc4d6-b13d-4c85-ab07-794db955d461"
      },
      "outputs": [
        {
          "data": {
            "text/plain": [
              "count   2,968.00\n",
              "mean       52.92\n",
              "std        57.14\n",
              "min         0.00\n",
              "25%        15.00\n",
              "50%        40.00\n",
              "75%        72.00\n",
              "max       580.00\n",
              "Name: number_seats, dtype: float64"
            ]
          },
          "execution_count": 23,
          "metadata": {},
          "output_type": "execute_result"
        }
      ],
      "source": [
        "rest_data.query('chain == \"сетевое\"')['number_seats'].describe()"
      ]
    },
    {
      "cell_type": "markdown",
      "metadata": {
        "id": "shctQoFIkRj5"
      },
      "source": [
        "Для сетевых заведений характерно много объектов с малым количеством посадочных мест. И хотя выбросов (количество посадочных мест более 160) достаточно много, все же большая часть (75% объектов) с количеством мест менее 72. "
      ]
    },
    {
      "cell_type": "markdown",
      "metadata": {
        "id": "N0npjpWBkRj6"
      },
      "source": [
        "* Посмотрим для каждого вида объекта общественного питания среднее количество посадочных мест. А также определим какой вид предоставляет в среднем самое большое количество посадочных мест."
      ]
    },
    {
      "cell_type": "code",
      "execution_count": null,
      "metadata": {
        "id": "Y6MY0pJekRj7",
        "outputId": "7933f619-0271-4d38-94b7-debbed937a56"
      },
      "outputs": [
        {
          "data": {
            "image/png": "[encoded data removed]",
            "text/plain": [
              "<Figure size 864x648 with 1 Axes>"
            ]
          },
          "metadata": {},
          "output_type": "display_data"
        }
      ],
      "source": [
        "plt.figure(figsize=(12,9))\n",
        "sns.barplot(x='object_type', y='number_seats', data=rest_data, estimator=np.median, order=rest_data.groupby('object_type')['number_seats'].describe().sort_values(by='50%', ascending=False).index)\n",
        "#plt.ylim(0,500)\n",
        "plt.title('Средние количества посадочных мест по виду заведения в Москве', fontsize=16)\n",
        "plt.xlabel('Вид объекта общественного питания', fontsize=16)\n",
        "plt.ylabel('Медианное количество посадочных мест', fontsize=16)\n",
        "plt.show()"
      ]
    },
    {
      "cell_type": "code",
      "execution_count": null,
      "metadata": {
        "id": "t7-mAksbkRj9",
        "outputId": "a4ae1b0a-4dee-471c-d602-0130760dfeab"
      },
      "outputs": [
        {
          "data": {
            "text/html": [
              "<div>\n",
              "<style scoped>\n",
              "    .dataframe tbody tr th:only-of-type {\n",
              "        vertical-align: middle;\n",
              "    }\n",
              "\n",
              "    .dataframe tbody tr th {\n",
              "        vertical-align: top;\n",
              "    }\n",
              "\n",
              "    .dataframe thead th {\n",
              "        text-align: right;\n",
              "    }\n",
              "</style>\n",
              "<table border=\"1\" class=\"dataframe\">\n",
              "  <thead>\n",
              "    <tr style=\"text-align: right;\">\n",
              "      <th></th>\n",
              "      <th>count</th>\n",
              "      <th>mean</th>\n",
              "      <th>std</th>\n",
              "      <th>min</th>\n",
              "      <th>25%</th>\n",
              "      <th>50%</th>\n",
              "      <th>75%</th>\n",
              "      <th>max</th>\n",
              "    </tr>\n",
              "    <tr>\n",
              "      <th>object_type</th>\n",
              "      <th></th>\n",
              "      <th></th>\n",
              "      <th></th>\n",
              "      <th></th>\n",
              "      <th></th>\n",
              "      <th></th>\n",
              "      <th></th>\n",
              "      <th></th>\n",
              "    </tr>\n",
              "  </thead>\n",
              "  <tbody>\n",
              "    <tr>\n",
              "      <td>столовая</td>\n",
              "      <td>2,587.00</td>\n",
              "      <td>130.25</td>\n",
              "      <td>95.18</td>\n",
              "      <td>0.00</td>\n",
              "      <td>50.00</td>\n",
              "      <td>103.00</td>\n",
              "      <td>200.00</td>\n",
              "      <td>1,400.00</td>\n",
              "    </tr>\n",
              "    <tr>\n",
              "      <td>ресторан</td>\n",
              "      <td>2,285.00</td>\n",
              "      <td>96.83</td>\n",
              "      <td>94.76</td>\n",
              "      <td>0.00</td>\n",
              "      <td>46.00</td>\n",
              "      <td>80.00</td>\n",
              "      <td>114.00</td>\n",
              "      <td>1,500.00</td>\n",
              "    </tr>\n",
              "    <tr>\n",
              "      <td>бар</td>\n",
              "      <td>856.00</td>\n",
              "      <td>43.49</td>\n",
              "      <td>67.08</td>\n",
              "      <td>0.00</td>\n",
              "      <td>20.00</td>\n",
              "      <td>35.00</td>\n",
              "      <td>50.00</td>\n",
              "      <td>1,700.00</td>\n",
              "    </tr>\n",
              "    <tr>\n",
              "      <td>буфет</td>\n",
              "      <td>585.00</td>\n",
              "      <td>51.13</td>\n",
              "      <td>56.33</td>\n",
              "      <td>0.00</td>\n",
              "      <td>14.00</td>\n",
              "      <td>32.00</td>\n",
              "      <td>80.00</td>\n",
              "      <td>320.00</td>\n",
              "    </tr>\n",
              "    <tr>\n",
              "      <td>кафе</td>\n",
              "      <td>6,099.00</td>\n",
              "      <td>39.72</td>\n",
              "      <td>37.72</td>\n",
              "      <td>0.00</td>\n",
              "      <td>15.00</td>\n",
              "      <td>30.00</td>\n",
              "      <td>50.00</td>\n",
              "      <td>533.00</td>\n",
              "    </tr>\n",
              "    <tr>\n",
              "      <td>кафетерий</td>\n",
              "      <td>398.00</td>\n",
              "      <td>9.12</td>\n",
              "      <td>14.64</td>\n",
              "      <td>0.00</td>\n",
              "      <td>0.00</td>\n",
              "      <td>6.00</td>\n",
              "      <td>12.00</td>\n",
              "      <td>200.00</td>\n",
              "    </tr>\n",
              "    <tr>\n",
              "      <td>фастфуд</td>\n",
              "      <td>1,923.00</td>\n",
              "      <td>20.55</td>\n",
              "      <td>38.37</td>\n",
              "      <td>0.00</td>\n",
              "      <td>0.00</td>\n",
              "      <td>5.00</td>\n",
              "      <td>25.00</td>\n",
              "      <td>580.00</td>\n",
              "    </tr>\n",
              "    <tr>\n",
              "      <td>закусочная</td>\n",
              "      <td>360.00</td>\n",
              "      <td>7.61</td>\n",
              "      <td>16.65</td>\n",
              "      <td>0.00</td>\n",
              "      <td>0.00</td>\n",
              "      <td>0.00</td>\n",
              "      <td>10.00</td>\n",
              "      <td>216.00</td>\n",
              "    </tr>\n",
              "    <tr>\n",
              "      <td>магазин</td>\n",
              "      <td>273.00</td>\n",
              "      <td>5.59</td>\n",
              "      <td>9.87</td>\n",
              "      <td>0.00</td>\n",
              "      <td>0.00</td>\n",
              "      <td>0.00</td>\n",
              "      <td>8.00</td>\n",
              "      <td>50.00</td>\n",
              "    </tr>\n",
              "  </tbody>\n",
              "</table>\n",
              "</div>"
            ],
            "text/plain": [
              "               count   mean   std  min   25%    50%    75%      max\n",
              "object_type                                                        \n",
              "столовая    2,587.00 130.25 95.18 0.00 50.00 103.00 200.00 1,400.00\n",
              "ресторан    2,285.00  96.83 94.76 0.00 46.00  80.00 114.00 1,500.00\n",
              "бар           856.00  43.49 67.08 0.00 20.00  35.00  50.00 1,700.00\n",
              "буфет         585.00  51.13 56.33 0.00 14.00  32.00  80.00   320.00\n",
              "кафе        6,099.00  39.72 37.72 0.00 15.00  30.00  50.00   533.00\n",
              "кафетерий     398.00   9.12 14.64 0.00  0.00   6.00  12.00   200.00\n",
              "фастфуд     1,923.00  20.55 38.37 0.00  0.00   5.00  25.00   580.00\n",
              "закусочная    360.00   7.61 16.65 0.00  0.00   0.00  10.00   216.00\n",
              "магазин       273.00   5.59  9.87 0.00  0.00   0.00   8.00    50.00"
            ]
          },
          "execution_count": 25,
          "metadata": {},
          "output_type": "execute_result"
        }
      ],
      "source": [
        "rest_data.groupby('object_type')['number_seats'].describe().sort_values(by='50%', ascending=False)"
      ]
    },
    {
      "cell_type": "markdown",
      "metadata": {
        "id": "D1x-YSMGkRj-"
      },
      "source": [
        "Все зависит от бизнес модели. Там, где количество посадочных мест напрямую влияет на выручку соответсвенно стремяться увеличить пропускную способность заведения - это характерно для столовых, ресторана. У столовых пиковая нагрузка в обеденное время, соответственно подбирают помещение, которое сможет вместить большое количество людей. Ресторан - это долгое время обсуживания клиента, соответсвенно нужно всегда иметь места, чтобы обслужить больше клиентов и получить больше прибыли. \n",
        "<p> Другая бизнем модель - это быстрое обслуживание. Здесь нужно иметь немного посадочных мест, но быстрый сервис. Кафе что-то среднее между рестораном и фастфудом. </p>  "
      ]
    },
    {
      "cell_type": "markdown",
      "metadata": {
        "id": "1xyPoQYQkRj_"
      },
      "source": [
        "* Выделим в отдельный столбец информацию об улице из столбца address."
      ]
    },
    {
      "cell_type": "code",
      "execution_count": null,
      "metadata": {
        "id": "juLb7kU4kRkA",
        "outputId": "f4e84bfa-f447-48e0-aec9-9ed6062afb82"
      },
      "outputs": [
        {
          "data": {
            "text/html": [
              "<div>\n",
              "<style scoped>\n",
              "    .dataframe tbody tr th:only-of-type {\n",
              "        vertical-align: middle;\n",
              "    }\n",
              "\n",
              "    .dataframe tbody tr th {\n",
              "        vertical-align: top;\n",
              "    }\n",
              "\n",
              "    .dataframe thead th {\n",
              "        text-align: right;\n",
              "    }\n",
              "</style>\n",
              "<table border=\"1\" class=\"dataframe\">\n",
              "  <thead>\n",
              "    <tr style=\"text-align: right;\">\n",
              "      <th></th>\n",
              "      <th>id</th>\n",
              "      <th>object_name</th>\n",
              "      <th>chain</th>\n",
              "      <th>object_type</th>\n",
              "      <th>address</th>\n",
              "      <th>number_seats</th>\n",
              "    </tr>\n",
              "  </thead>\n",
              "  <tbody>\n",
              "    <tr>\n",
              "      <td>0</td>\n",
              "      <td>151635</td>\n",
              "      <td>сметана</td>\n",
              "      <td>несетевое</td>\n",
              "      <td>кафе</td>\n",
              "      <td>город москва, улица егора абакумова, дом 9</td>\n",
              "      <td>48</td>\n",
              "    </tr>\n",
              "    <tr>\n",
              "      <td>1</td>\n",
              "      <td>77874</td>\n",
              "      <td>родник</td>\n",
              "      <td>несетевое</td>\n",
              "      <td>кафе</td>\n",
              "      <td>город москва, улица талалихина, дом 2/1, корпус 1</td>\n",
              "      <td>35</td>\n",
              "    </tr>\n",
              "    <tr>\n",
              "      <td>2</td>\n",
              "      <td>24309</td>\n",
              "      <td>кафе «академия»</td>\n",
              "      <td>несетевое</td>\n",
              "      <td>кафе</td>\n",
              "      <td>город москва, абельмановская улица, дом 6</td>\n",
              "      <td>95</td>\n",
              "    </tr>\n",
              "    <tr>\n",
              "      <td>3</td>\n",
              "      <td>21894</td>\n",
              "      <td>пиццетория</td>\n",
              "      <td>сетевое</td>\n",
              "      <td>кафе</td>\n",
              "      <td>город москва, абрамцевская улица, дом 1</td>\n",
              "      <td>40</td>\n",
              "    </tr>\n",
              "    <tr>\n",
              "      <td>4</td>\n",
              "      <td>119365</td>\n",
              "      <td>кафе «вишневая метель»</td>\n",
              "      <td>несетевое</td>\n",
              "      <td>кафе</td>\n",
              "      <td>город москва, абрамцевская улица, дом 9, корпус 1</td>\n",
              "      <td>50</td>\n",
              "    </tr>\n",
              "  </tbody>\n",
              "</table>\n",
              "</div>"
            ],
            "text/plain": [
              "       id             object_name      chain object_type  \\\n",
              "0  151635                 сметана  несетевое        кафе   \n",
              "1   77874                  родник  несетевое        кафе   \n",
              "2   24309         кафе «академия»  несетевое        кафе   \n",
              "3   21894              пиццетория    сетевое        кафе   \n",
              "4  119365  кафе «вишневая метель»  несетевое        кафе   \n",
              "\n",
              "                                             address  number_seats  \n",
              "0         город москва, улица егора абакумова, дом 9            48  \n",
              "1  город москва, улица талалихина, дом 2/1, корпус 1            35  \n",
              "2          город москва, абельмановская улица, дом 6            95  \n",
              "3            город москва, абрамцевская улица, дом 1            40  \n",
              "4  город москва, абрамцевская улица, дом 9, корпус 1            50  "
            ]
          },
          "execution_count": 26,
          "metadata": {},
          "output_type": "execute_result"
        }
      ],
      "source": [
        "rest_data.head()"
      ]
    },
    {
      "cell_type": "markdown",
      "metadata": {
        "id": "5-KeV4fBkRkA"
      },
      "source": [
        "Напишем фукнцию, которая будет выделять из полного адреса только название улицы. Для этого создадим список с возможными синонимами слова улица, которое может встречаться в строке адреса."
      ]
    },
    {
      "cell_type": "code",
      "execution_count": null,
      "metadata": {
        "id": "4I9tFdI8kRkB"
      },
      "outputs": [],
      "source": [
        "def split(x):\n",
        "    streets_names = ['улица', 'проспект', 'шоссе', 'проезд', 'бульвар', 'переулок', 'набережная', 'площадь', 'вал', 'аллея']\n",
        "    street_list = x.split(\", \")\n",
        "    for element in street_list:\n",
        "        for i in streets_names:\n",
        "            if i in element:\n",
        "                return element\n",
        "#            return np.nan"
      ]
    },
    {
      "cell_type": "code",
      "execution_count": null,
      "metadata": {
        "id": "inUNevVvkRkB"
      },
      "outputs": [],
      "source": [
        "rest_data['streets'] = rest_data['address'].apply(split)"
      ]
    },
    {
      "cell_type": "markdown",
      "metadata": {
        "id": "9b3bZFNekRkC"
      },
      "source": [
        "Проверяем работу функции."
      ]
    },
    {
      "cell_type": "code",
      "execution_count": null,
      "metadata": {
        "scrolled": true,
        "id": "_g_kCbTwkRkC",
        "outputId": "3bf37b21-0b7a-4bcc-c677-a35669b6e0a2"
      },
      "outputs": [
        {
          "data": {
            "text/html": [
              "<div>\n",
              "<style scoped>\n",
              "    .dataframe tbody tr th:only-of-type {\n",
              "        vertical-align: middle;\n",
              "    }\n",
              "\n",
              "    .dataframe tbody tr th {\n",
              "        vertical-align: top;\n",
              "    }\n",
              "\n",
              "    .dataframe thead th {\n",
              "        text-align: right;\n",
              "    }\n",
              "</style>\n",
              "<table border=\"1\" class=\"dataframe\">\n",
              "  <thead>\n",
              "    <tr style=\"text-align: right;\">\n",
              "      <th></th>\n",
              "      <th>id</th>\n",
              "      <th>object_name</th>\n",
              "      <th>chain</th>\n",
              "      <th>object_type</th>\n",
              "      <th>address</th>\n",
              "      <th>number_seats</th>\n",
              "      <th>streets</th>\n",
              "    </tr>\n",
              "  </thead>\n",
              "  <tbody>\n",
              "    <tr>\n",
              "      <td>15346</td>\n",
              "      <td>208599</td>\n",
              "      <td>мята lounge</td>\n",
              "      <td>сетевое</td>\n",
              "      <td>кафе</td>\n",
              "      <td>город москва, куликовская улица, дом 1а</td>\n",
              "      <td>30</td>\n",
              "      <td>куликовская улица</td>\n",
              "    </tr>\n",
              "    <tr>\n",
              "      <td>15347</td>\n",
              "      <td>222491</td>\n",
              "      <td>кальянная «мята lounge»</td>\n",
              "      <td>сетевое</td>\n",
              "      <td>кафе</td>\n",
              "      <td>город москва, профсоюзная улица, дом 142, корп...</td>\n",
              "      <td>40</td>\n",
              "      <td>профсоюзная улица</td>\n",
              "    </tr>\n",
              "    <tr>\n",
              "      <td>15348</td>\n",
              "      <td>212216</td>\n",
              "      <td>мята lounge</td>\n",
              "      <td>сетевое</td>\n",
              "      <td>кафе</td>\n",
              "      <td>город москва, привольная улица, дом 11</td>\n",
              "      <td>56</td>\n",
              "      <td>привольная улица</td>\n",
              "    </tr>\n",
              "    <tr>\n",
              "      <td>15349</td>\n",
              "      <td>206341</td>\n",
              "      <td>мята lounge</td>\n",
              "      <td>сетевое</td>\n",
              "      <td>кафе</td>\n",
              "      <td>город москва, салтыковская улица, дом 7г</td>\n",
              "      <td>100</td>\n",
              "      <td>салтыковская улица</td>\n",
              "    </tr>\n",
              "    <tr>\n",
              "      <td>15350</td>\n",
              "      <td>213061</td>\n",
              "      <td>мята</td>\n",
              "      <td>сетевое</td>\n",
              "      <td>кафетерий</td>\n",
              "      <td>город москва, каширское шоссе, дом 96, корпус 1</td>\n",
              "      <td>35</td>\n",
              "      <td>каширское шоссе</td>\n",
              "    </tr>\n",
              "    <tr>\n",
              "      <td>15351</td>\n",
              "      <td>223036</td>\n",
              "      <td>якитория</td>\n",
              "      <td>сетевое</td>\n",
              "      <td>ресторан</td>\n",
              "      <td>город москва, авиационная улица, дом 66</td>\n",
              "      <td>92</td>\n",
              "      <td>авиационная улица</td>\n",
              "    </tr>\n",
              "    <tr>\n",
              "      <td>15352</td>\n",
              "      <td>213602</td>\n",
              "      <td>тануки</td>\n",
              "      <td>сетевое</td>\n",
              "      <td>кафе</td>\n",
              "      <td>город москва, привольная улица, дом 65/32</td>\n",
              "      <td>50</td>\n",
              "      <td>привольная улица</td>\n",
              "    </tr>\n",
              "    <tr>\n",
              "      <td>15353</td>\n",
              "      <td>213772</td>\n",
              "      <td>тануки</td>\n",
              "      <td>сетевое</td>\n",
              "      <td>ресторан</td>\n",
              "      <td>город москва, осенний бульвар, дом 9</td>\n",
              "      <td>98</td>\n",
              "      <td>осенний бульвар</td>\n",
              "    </tr>\n",
              "    <tr>\n",
              "      <td>15354</td>\n",
              "      <td>210400</td>\n",
              "      <td>шоколадница</td>\n",
              "      <td>сетевое</td>\n",
              "      <td>кафе</td>\n",
              "      <td>город москва, театральный проезд, дом 5, строе...</td>\n",
              "      <td>45</td>\n",
              "      <td>театральный проезд</td>\n",
              "    </tr>\n",
              "    <tr>\n",
              "      <td>15355</td>\n",
              "      <td>74972</td>\n",
              "      <td>шоколадница</td>\n",
              "      <td>сетевое</td>\n",
              "      <td>кафе</td>\n",
              "      <td>город москва, улица новый арбат, дом 13</td>\n",
              "      <td>30</td>\n",
              "      <td>улица новый арбат</td>\n",
              "    </tr>\n",
              "    <tr>\n",
              "      <td>15356</td>\n",
              "      <td>220618</td>\n",
              "      <td>шоколадница</td>\n",
              "      <td>сетевое</td>\n",
              "      <td>кафе</td>\n",
              "      <td>город москва, митинская улица, дом 36, корпус 1</td>\n",
              "      <td>100</td>\n",
              "      <td>митинская улица</td>\n",
              "    </tr>\n",
              "    <tr>\n",
              "      <td>15357</td>\n",
              "      <td>218692</td>\n",
              "      <td>шоколадница</td>\n",
              "      <td>сетевое</td>\n",
              "      <td>кафе</td>\n",
              "      <td>город москва, площадь джавахарлала неру, дом 1</td>\n",
              "      <td>30</td>\n",
              "      <td>площадь джавахарлала неру</td>\n",
              "    </tr>\n",
              "    <tr>\n",
              "      <td>15358</td>\n",
              "      <td>213724</td>\n",
              "      <td>шоколадница</td>\n",
              "      <td>сетевое</td>\n",
              "      <td>кафе</td>\n",
              "      <td>город москва, варшавское шоссе, дом 87б</td>\n",
              "      <td>54</td>\n",
              "      <td>варшавское шоссе</td>\n",
              "    </tr>\n",
              "    <tr>\n",
              "      <td>15359</td>\n",
              "      <td>222077</td>\n",
              "      <td>кофейня «шоколадница»</td>\n",
              "      <td>сетевое</td>\n",
              "      <td>кафе</td>\n",
              "      <td>город москва, кантемировская улица, дом 47</td>\n",
              "      <td>72</td>\n",
              "      <td>кантемировская улица</td>\n",
              "    </tr>\n",
              "    <tr>\n",
              "      <td>15360</td>\n",
              "      <td>219759</td>\n",
              "      <td>шоколадница</td>\n",
              "      <td>сетевое</td>\n",
              "      <td>кафе</td>\n",
              "      <td>город москва, улица вавилова, дом 3</td>\n",
              "      <td>36</td>\n",
              "      <td>улица вавилова</td>\n",
              "    </tr>\n",
              "    <tr>\n",
              "      <td>15361</td>\n",
              "      <td>208537</td>\n",
              "      <td>шоколадница</td>\n",
              "      <td>сетевое</td>\n",
              "      <td>кафе</td>\n",
              "      <td>город москва, 3-й крутицкий переулок, дом 18</td>\n",
              "      <td>50</td>\n",
              "      <td>3-й крутицкий переулок</td>\n",
              "    </tr>\n",
              "    <tr>\n",
              "      <td>15362</td>\n",
              "      <td>209264</td>\n",
              "      <td>шоколадница</td>\n",
              "      <td>сетевое</td>\n",
              "      <td>кафе</td>\n",
              "      <td>город москва, улица земляной вал, дом 33</td>\n",
              "      <td>10</td>\n",
              "      <td>улица земляной вал</td>\n",
              "    </tr>\n",
              "    <tr>\n",
              "      <td>15363</td>\n",
              "      <td>209186</td>\n",
              "      <td>шоколадница</td>\n",
              "      <td>сетевое</td>\n",
              "      <td>кафе</td>\n",
              "      <td>город москва, улица земляной вал, дом 33</td>\n",
              "      <td>20</td>\n",
              "      <td>улица земляной вал</td>\n",
              "    </tr>\n",
              "    <tr>\n",
              "      <td>15364</td>\n",
              "      <td>221900</td>\n",
              "      <td>шоколадница</td>\n",
              "      <td>сетевое</td>\n",
              "      <td>кафе</td>\n",
              "      <td>город москва, поселение московский, киевское ш...</td>\n",
              "      <td>36</td>\n",
              "      <td>киевское шоссе</td>\n",
              "    </tr>\n",
              "    <tr>\n",
              "      <td>15365</td>\n",
              "      <td>222535</td>\n",
              "      <td>шоколадница</td>\n",
              "      <td>сетевое</td>\n",
              "      <td>кафе</td>\n",
              "      <td>город москва, ходынский бульвар, дом 4</td>\n",
              "      <td>10</td>\n",
              "      <td>ходынский бульвар</td>\n",
              "    </tr>\n",
              "  </tbody>\n",
              "</table>\n",
              "</div>"
            ],
            "text/plain": [
              "           id              object_name    chain object_type  \\\n",
              "15346  208599              мята lounge  сетевое        кафе   \n",
              "15347  222491  кальянная «мята lounge»  сетевое        кафе   \n",
              "15348  212216              мята lounge  сетевое        кафе   \n",
              "15349  206341              мята lounge  сетевое        кафе   \n",
              "15350  213061                     мята  сетевое   кафетерий   \n",
              "15351  223036                 якитория  сетевое    ресторан   \n",
              "15352  213602                   тануки  сетевое        кафе   \n",
              "15353  213772                   тануки  сетевое    ресторан   \n",
              "15354  210400              шоколадница  сетевое        кафе   \n",
              "15355   74972              шоколадница  сетевое        кафе   \n",
              "15356  220618              шоколадница  сетевое        кафе   \n",
              "15357  218692              шоколадница  сетевое        кафе   \n",
              "15358  213724              шоколадница  сетевое        кафе   \n",
              "15359  222077    кофейня «шоколадница»  сетевое        кафе   \n",
              "15360  219759              шоколадница  сетевое        кафе   \n",
              "15361  208537              шоколадница  сетевое        кафе   \n",
              "15362  209264              шоколадница  сетевое        кафе   \n",
              "15363  209186              шоколадница  сетевое        кафе   \n",
              "15364  221900              шоколадница  сетевое        кафе   \n",
              "15365  222535              шоколадница  сетевое        кафе   \n",
              "\n",
              "                                                 address  number_seats  \\\n",
              "15346            город москва, куликовская улица, дом 1а            30   \n",
              "15347  город москва, профсоюзная улица, дом 142, корп...            40   \n",
              "15348             город москва, привольная улица, дом 11            56   \n",
              "15349           город москва, салтыковская улица, дом 7г           100   \n",
              "15350    город москва, каширское шоссе, дом 96, корпус 1            35   \n",
              "15351            город москва, авиационная улица, дом 66            92   \n",
              "15352          город москва, привольная улица, дом 65/32            50   \n",
              "15353               город москва, осенний бульвар, дом 9            98   \n",
              "15354  город москва, театральный проезд, дом 5, строе...            45   \n",
              "15355            город москва, улица новый арбат, дом 13            30   \n",
              "15356    город москва, митинская улица, дом 36, корпус 1           100   \n",
              "15357     город москва, площадь джавахарлала неру, дом 1            30   \n",
              "15358            город москва, варшавское шоссе, дом 87б            54   \n",
              "15359         город москва, кантемировская улица, дом 47            72   \n",
              "15360                город москва, улица вавилова, дом 3            36   \n",
              "15361       город москва, 3-й крутицкий переулок, дом 18            50   \n",
              "15362           город москва, улица земляной вал, дом 33            10   \n",
              "15363           город москва, улица земляной вал, дом 33            20   \n",
              "15364  город москва, поселение московский, киевское ш...            36   \n",
              "15365             город москва, ходынский бульвар, дом 4            10   \n",
              "\n",
              "                         streets  \n",
              "15346          куликовская улица  \n",
              "15347          профсоюзная улица  \n",
              "15348           привольная улица  \n",
              "15349         салтыковская улица  \n",
              "15350            каширское шоссе  \n",
              "15351          авиационная улица  \n",
              "15352           привольная улица  \n",
              "15353            осенний бульвар  \n",
              "15354         театральный проезд  \n",
              "15355          улица новый арбат  \n",
              "15356            митинская улица  \n",
              "15357  площадь джавахарлала неру  \n",
              "15358           варшавское шоссе  \n",
              "15359       кантемировская улица  \n",
              "15360             улица вавилова  \n",
              "15361     3-й крутицкий переулок  \n",
              "15362         улица земляной вал  \n",
              "15363         улица земляной вал  \n",
              "15364             киевское шоссе  \n",
              "15365          ходынский бульвар  "
            ]
          },
          "execution_count": 29,
          "metadata": {},
          "output_type": "execute_result"
        }
      ],
      "source": [
        "rest_data.tail(20)"
      ]
    },
    {
      "cell_type": "markdown",
      "metadata": {
        "id": "WYb9jb_pkRkD"
      },
      "source": [
        "* Построим график топ-10 улиц по количеству объектов общественного питания. А также найдем в каких районах Москвы находятся эти улицы."
      ]
    },
    {
      "cell_type": "code",
      "execution_count": null,
      "metadata": {
        "id": "jwL-bl6hkRkD",
        "outputId": "0f6e5363-1175-42dc-d79d-9cc338d50394"
      },
      "outputs": [
        {
          "data": {
            "image/png": "[encoded data removed]",
            "text/plain": [
              "<Figure size 864x648 with 1 Axes>"
            ]
          },
          "metadata": {},
          "output_type": "display_data"
        }
      ],
      "source": [
        "rest_data.groupby('streets')['id'].count().sort_values(ascending=False).head(10).plot(kind='bar', fontsize=12, figsize=(12,9))\n",
        "#plt.figure(figsize=(12,9))\n",
        "plt.xticks(rotation=45)\n",
        "plt.title('Топ-10 улиц Москвы по количеству заведений общественного питания', fontsize=14)\n",
        "plt.xlabel('Название улицы', fontsize=14)\n",
        "plt.ylabel('Количество заведений', fontsize=14)\n",
        "plt.show()"
      ]
    },
    {
      "cell_type": "code",
      "execution_count": null,
      "metadata": {
        "id": "0jqjuTuVkRkE"
      },
      "outputs": [],
      "source": [
        "top_streets = rest_data.groupby('streets')['id'].count().sort_values(ascending=False).reset_index().rename(columns={'id': 'amount'}).head(10)"
      ]
    },
    {
      "cell_type": "code",
      "execution_count": null,
      "metadata": {
        "id": "-HV8c2q3kRkF",
        "outputId": "bae5660a-9698-492f-8575-00dd40de5b93"
      },
      "outputs": [
        {
          "data": {
            "text/html": [
              "<div>\n",
              "<style scoped>\n",
              "    .dataframe tbody tr th:only-of-type {\n",
              "        vertical-align: middle;\n",
              "    }\n",
              "\n",
              "    .dataframe tbody tr th {\n",
              "        vertical-align: top;\n",
              "    }\n",
              "\n",
              "    .dataframe thead th {\n",
              "        text-align: right;\n",
              "    }\n",
              "</style>\n",
              "<table border=\"1\" class=\"dataframe\">\n",
              "  <thead>\n",
              "    <tr style=\"text-align: right;\">\n",
              "      <th></th>\n",
              "      <th>streets</th>\n",
              "      <th>amount</th>\n",
              "    </tr>\n",
              "  </thead>\n",
              "  <tbody>\n",
              "    <tr>\n",
              "      <td>0</td>\n",
              "      <td>проспект мира</td>\n",
              "      <td>204</td>\n",
              "    </tr>\n",
              "    <tr>\n",
              "      <td>1</td>\n",
              "      <td>профсоюзная улица</td>\n",
              "      <td>183</td>\n",
              "    </tr>\n",
              "    <tr>\n",
              "      <td>2</td>\n",
              "      <td>ленинградский проспект</td>\n",
              "      <td>173</td>\n",
              "    </tr>\n",
              "    <tr>\n",
              "      <td>3</td>\n",
              "      <td>пресненская набережная</td>\n",
              "      <td>167</td>\n",
              "    </tr>\n",
              "    <tr>\n",
              "      <td>4</td>\n",
              "      <td>варшавское шоссе</td>\n",
              "      <td>165</td>\n",
              "    </tr>\n",
              "    <tr>\n",
              "      <td>5</td>\n",
              "      <td>ленинский проспект</td>\n",
              "      <td>148</td>\n",
              "    </tr>\n",
              "    <tr>\n",
              "      <td>6</td>\n",
              "      <td>проспект вернадского</td>\n",
              "      <td>132</td>\n",
              "    </tr>\n",
              "    <tr>\n",
              "      <td>7</td>\n",
              "      <td>кутузовский проспект</td>\n",
              "      <td>114</td>\n",
              "    </tr>\n",
              "    <tr>\n",
              "      <td>8</td>\n",
              "      <td>каширское шоссе</td>\n",
              "      <td>112</td>\n",
              "    </tr>\n",
              "    <tr>\n",
              "      <td>9</td>\n",
              "      <td>кировоградская улица</td>\n",
              "      <td>110</td>\n",
              "    </tr>\n",
              "  </tbody>\n",
              "</table>\n",
              "</div>"
            ],
            "text/plain": [
              "                  streets  amount\n",
              "0           проспект мира     204\n",
              "1       профсоюзная улица     183\n",
              "2  ленинградский проспект     173\n",
              "3  пресненская набережная     167\n",
              "4        варшавское шоссе     165\n",
              "5      ленинский проспект     148\n",
              "6    проспект вернадского     132\n",
              "7    кутузовский проспект     114\n",
              "8         каширское шоссе     112\n",
              "9    кировоградская улица     110"
            ]
          },
          "execution_count": 32,
          "metadata": {},
          "output_type": "execute_result"
        }
      ],
      "source": [
        "top_streets"
      ]
    },
    {
      "cell_type": "markdown",
      "metadata": {
        "id": "E1V1Z-D0kRkF"
      },
      "source": [
        "Теперь, используя внешний источник информации посмотрим в каких районах находятся улицы."
      ]
    },
    {
      "cell_type": "markdown",
      "metadata": {
        "id": "ROgD4AjlkRkG"
      },
      "source": [
        "В качестве источника информации по соответсвию улицы району использовал портал открытых данных г. Москвы. Ссылка: <https://data.mos.ru/opendata/60562>"
      ]
    },
    {
      "cell_type": "markdown",
      "metadata": {
        "id": "j-2ZitY-kRkG"
      },
      "source": [
        "Предварительно предобработал этот набор данных на локальном компьтере до 2-х столбцов: название улицы москвы, район москвы, где находится эта улица. Так как некоторые улицы пересекают сразу несколько районов, то при агрегировании получился список районов для соответсвующей улицы. Далее импортируем полученные внешние данные. "
      ]
    },
    {
      "cell_type": "markdown",
      "metadata": {
        "id": "g4WEGA6kkRkG"
      },
      "source": [
        "https://docs.google.com/spreadsheets/d/1Sf-ZXyyfIMLdqElaQN2qvCIXp0HsLvp-VVQ1FQ0mhnc/edit?usp=sharing"
      ]
    },
    {
      "cell_type": "code",
      "execution_count": null,
      "metadata": {
        "id": "bM9GJd2XkRkG"
      },
      "outputs": [],
      "source": [
        "from io import BytesIO\n",
        "import requests"
      ]
    },
    {
      "cell_type": "code",
      "execution_count": null,
      "metadata": {
        "id": "3wGHX5i_kRkH"
      },
      "outputs": [],
      "source": [
        "spreadsheet_id = '1Sf-ZXyyfIMLdqElaQN2qvCIXp0HsLvp-VVQ1FQ0mhnc'\n",
        "file_name = 'https://docs.google.com/spreadsheets/d/{}/export?format=xlsx'.format(spreadsheet_id)\n",
        "r = requests.get(file_name)\n",
        "district_list = pd.read_excel(BytesIO(r.content))"
      ]
    },
    {
      "cell_type": "code",
      "execution_count": null,
      "metadata": {
        "id": "1zChhcdxkRkH"
      },
      "outputs": [],
      "source": [
        "pd.set_option('display.max_colwidth', 500)"
      ]
    },
    {
      "cell_type": "markdown",
      "metadata": {
        "id": "BnX0K5j0kRkI"
      },
      "source": [
        "Теперь посмотрим какие районы соответствут топ-10 улиц Москвы."
      ]
    },
    {
      "cell_type": "code",
      "execution_count": null,
      "metadata": {
        "scrolled": false,
        "id": "R_4NJDQDkRkI",
        "outputId": "693e2f6a-779f-410b-bba2-2c1e365b666d"
      },
      "outputs": [
        {
          "data": {
            "text/html": [
              "<div>\n",
              "<style scoped>\n",
              "    .dataframe tbody tr th:only-of-type {\n",
              "        vertical-align: middle;\n",
              "    }\n",
              "\n",
              "    .dataframe tbody tr th {\n",
              "        vertical-align: top;\n",
              "    }\n",
              "\n",
              "    .dataframe thead th {\n",
              "        text-align: right;\n",
              "    }\n",
              "</style>\n",
              "<table border=\"1\" class=\"dataframe\">\n",
              "  <thead>\n",
              "    <tr style=\"text-align: right;\">\n",
              "      <th></th>\n",
              "      <th>streets</th>\n",
              "      <th>amount</th>\n",
              "      <th>district</th>\n",
              "    </tr>\n",
              "  </thead>\n",
              "  <tbody>\n",
              "    <tr>\n",
              "      <td>0</td>\n",
              "      <td>проспект мира</td>\n",
              "      <td>204</td>\n",
              "      <td>['район Алексеевский' 'район Ростокино'\\n 'район Мещанский' 'район Останкинский'\\n 'район Ярославский' 'район Свиблово'\\n 'район Гагаринский' 'район Тверской']</td>\n",
              "    </tr>\n",
              "    <tr>\n",
              "      <td>1</td>\n",
              "      <td>профсоюзная улица</td>\n",
              "      <td>183</td>\n",
              "      <td>['район Ясенево' 'район Коньково'\\n 'район Теплый Стан' 'район Академический'\\n 'район Черемушки' 'район Обручевский']</td>\n",
              "    </tr>\n",
              "    <tr>\n",
              "      <td>2</td>\n",
              "      <td>ленинградский проспект</td>\n",
              "      <td>173</td>\n",
              "      <td>['район Сокол' 'район Хорошевский'\\n 'район Аэропорт' 'район Беговой'\\n 'район Гагаринский']</td>\n",
              "    </tr>\n",
              "    <tr>\n",
              "      <td>3</td>\n",
              "      <td>пресненская набережная</td>\n",
              "      <td>167</td>\n",
              "      <td>['район Пресненский']</td>\n",
              "    </tr>\n",
              "    <tr>\n",
              "      <td>4</td>\n",
              "      <td>варшавское шоссе</td>\n",
              "      <td>165</td>\n",
              "      <td>['район Донской' 'район Нагатино-Садовники'\\n 'район Нагорный' 'район Чертаново Северное'\\n 'район Чертаново Южное'\\n 'район Северное Бутово'\\n 'район Чертаново Центральное'\\n 'район Южное Бутово']</td>\n",
              "    </tr>\n",
              "    <tr>\n",
              "      <td>5</td>\n",
              "      <td>ленинский проспект</td>\n",
              "      <td>148</td>\n",
              "      <td>['район Гагаринский' 'район Ломоносовский'\\n 'район Проспект Вернадского' 'район Якиманка'\\n 'район Тропарево-Никулино'\\n 'район Обручевский' 'район Донской'\\n 'район Теплый Стан']</td>\n",
              "    </tr>\n",
              "    <tr>\n",
              "      <td>6</td>\n",
              "      <td>проспект вернадского</td>\n",
              "      <td>132</td>\n",
              "      <td>['район Проспект Вернадского'\\n 'район Тропарево-Никулино'\\n 'район Ломоносовский' 'район Раменки'\\n 'район Гагаринский' 'район Ростокино']</td>\n",
              "    </tr>\n",
              "    <tr>\n",
              "      <td>7</td>\n",
              "      <td>кутузовский проспект</td>\n",
              "      <td>114</td>\n",
              "      <td>['район Дорогомилово' 'район Фили-Давыдково']</td>\n",
              "    </tr>\n",
              "    <tr>\n",
              "      <td>8</td>\n",
              "      <td>каширское шоссе</td>\n",
              "      <td>112</td>\n",
              "      <td>['район Нагатино-Садовники'\\n 'район Москворечье-Сабурово'\\n 'район Орехово-Борисово Южное'\\n 'район Орехово-Борисово Северное'\\n 'район Нагатинский Затон']</td>\n",
              "    </tr>\n",
              "    <tr>\n",
              "      <td>9</td>\n",
              "      <td>кировоградская улица</td>\n",
              "      <td>110</td>\n",
              "      <td>['район Чертаново Южное'\\n 'район Чертаново Северное'\\n 'район Чертаново Центральное']</td>\n",
              "    </tr>\n",
              "  </tbody>\n",
              "</table>\n",
              "</div>"
            ],
            "text/plain": [
              "                  streets  amount  \\\n",
              "0           проспект мира     204   \n",
              "1       профсоюзная улица     183   \n",
              "2  ленинградский проспект     173   \n",
              "3  пресненская набережная     167   \n",
              "4        варшавское шоссе     165   \n",
              "5      ленинский проспект     148   \n",
              "6    проспект вернадского     132   \n",
              "7    кутузовский проспект     114   \n",
              "8         каширское шоссе     112   \n",
              "9    кировоградская улица     110   \n",
              "\n",
              "                                                                                                                                                                                                district  \n",
              "0                                        ['район Алексеевский' 'район Ростокино'\\n 'район Мещанский' 'район Останкинский'\\n 'район Ярославский' 'район Свиблово'\\n 'район Гагаринский' 'район Тверской']  \n",
              "1                                                                                 ['район Ясенево' 'район Коньково'\\n 'район Теплый Стан' 'район Академический'\\n 'район Черемушки' 'район Обручевский']  \n",
              "2                                                                                                           ['район Сокол' 'район Хорошевский'\\n 'район Аэропорт' 'район Беговой'\\n 'район Гагаринский']  \n",
              "3                                                                                                                                                                                  ['район Пресненский']  \n",
              "4  ['район Донской' 'район Нагатино-Садовники'\\n 'район Нагорный' 'район Чертаново Северное'\\n 'район Чертаново Южное'\\n 'район Северное Бутово'\\n 'район Чертаново Центральное'\\n 'район Южное Бутово']  \n",
              "5                   ['район Гагаринский' 'район Ломоносовский'\\n 'район Проспект Вернадского' 'район Якиманка'\\n 'район Тропарево-Никулино'\\n 'район Обручевский' 'район Донской'\\n 'район Теплый Стан']  \n",
              "6                                                            ['район Проспект Вернадского'\\n 'район Тропарево-Никулино'\\n 'район Ломоносовский' 'район Раменки'\\n 'район Гагаринский' 'район Ростокино']  \n",
              "7                                                                                                                                                          ['район Дорогомилово' 'район Фили-Давыдково']  \n",
              "8                                           ['район Нагатино-Садовники'\\n 'район Москворечье-Сабурово'\\n 'район Орехово-Борисово Южное'\\n 'район Орехово-Борисово Северное'\\n 'район Нагатинский Затон']  \n",
              "9                                                                                                                 ['район Чертаново Южное'\\n 'район Чертаново Северное'\\n 'район Чертаново Центральное']  "
            ]
          },
          "execution_count": 36,
          "metadata": {},
          "output_type": "execute_result"
        }
      ],
      "source": [
        "top_streets_district = top_streets.merge(district_list, on='streets')\n",
        "top_streets_district"
      ]
    },
    {
      "cell_type": "markdown",
      "metadata": {
        "id": "7sLuh_k3kRkJ"
      },
      "source": [
        "* Найдем число улиц с одним объектом общественного питания. А также, пользуясь внещними источниками, посмотрим в каких районах Москвы находятся эти улицы."
      ]
    },
    {
      "cell_type": "code",
      "execution_count": null,
      "metadata": {
        "id": "lCHmkwN-kRkJ",
        "outputId": "0785f7b0-003a-4965-ad0c-e6249ab9b12c"
      },
      "outputs": [
        {
          "data": {
            "text/html": [
              "<div>\n",
              "<style scoped>\n",
              "    .dataframe tbody tr th:only-of-type {\n",
              "        vertical-align: middle;\n",
              "    }\n",
              "\n",
              "    .dataframe tbody tr th {\n",
              "        vertical-align: top;\n",
              "    }\n",
              "\n",
              "    .dataframe thead th {\n",
              "        text-align: right;\n",
              "    }\n",
              "</style>\n",
              "<table border=\"1\" class=\"dataframe\">\n",
              "  <thead>\n",
              "    <tr style=\"text-align: right;\">\n",
              "      <th></th>\n",
              "      <th>streets</th>\n",
              "      <th>amount</th>\n",
              "    </tr>\n",
              "  </thead>\n",
              "  <tbody>\n",
              "  </tbody>\n",
              "</table>\n",
              "</div>"
            ],
            "text/plain": [
              "Empty DataFrame\n",
              "Columns: [streets, amount]\n",
              "Index: []"
            ]
          },
          "execution_count": 37,
          "metadata": {},
          "output_type": "execute_result"
        }
      ],
      "source": [
        "one_object_streets = top_streets.query('amount == 1').reset_index(drop=True)\n",
        "one_object_streets"
      ]
    },
    {
      "cell_type": "markdown",
      "metadata": {
        "id": "yyYOBG88kRkK"
      },
      "source": [
        "Всего 579 улиц на которых расположен всего 1 объект общественного питания."
      ]
    },
    {
      "cell_type": "markdown",
      "metadata": {
        "id": "rG2l8AHVkRkK"
      },
      "source": [
        "Объединяем наш датасет с улицами, где есть 1 объект со списком районов."
      ]
    },
    {
      "cell_type": "code",
      "execution_count": null,
      "metadata": {
        "id": "yg-Ufvf4kRkK"
      },
      "outputs": [],
      "source": [
        "streets_area_merge = one_object_streets.merge(district_list, on='streets').drop('amount', axis=1)"
      ]
    },
    {
      "cell_type": "code",
      "execution_count": null,
      "metadata": {
        "id": "NVGFwA_hkRkL",
        "outputId": "2c8aad8a-4ff8-4c15-ac9a-e382d06d0a12"
      },
      "outputs": [
        {
          "data": {
            "text/html": [
              "<div>\n",
              "<style scoped>\n",
              "    .dataframe tbody tr th:only-of-type {\n",
              "        vertical-align: middle;\n",
              "    }\n",
              "\n",
              "    .dataframe tbody tr th {\n",
              "        vertical-align: top;\n",
              "    }\n",
              "\n",
              "    .dataframe thead th {\n",
              "        text-align: right;\n",
              "    }\n",
              "</style>\n",
              "<table border=\"1\" class=\"dataframe\">\n",
              "  <thead>\n",
              "    <tr style=\"text-align: right;\">\n",
              "      <th></th>\n",
              "      <th>streets</th>\n",
              "      <th>district</th>\n",
              "    </tr>\n",
              "  </thead>\n",
              "  <tbody>\n",
              "  </tbody>\n",
              "</table>\n",
              "</div>"
            ],
            "text/plain": [
              "Empty DataFrame\n",
              "Columns: [streets, district]\n",
              "Index: []"
            ]
          },
          "execution_count": 39,
          "metadata": {},
          "output_type": "execute_result"
        }
      ],
      "source": [
        "streets_area_merge"
      ]
    },
    {
      "cell_type": "markdown",
      "metadata": {
        "id": "2lMd9DISkRkL"
      },
      "source": [
        "Получили данные для улиц с одним объектом и название соответствующего района. Посмотрим в каком районе встречается чаще всего улиц с одним объектом. Это возможно потенциальный район для открытия ресторана. "
      ]
    },
    {
      "cell_type": "code",
      "execution_count": null,
      "metadata": {
        "scrolled": false,
        "id": "8ElFET_zkRkM",
        "outputId": "4a0e87f9-b6ed-42e9-e7b0-4d4784375c0f"
      },
      "outputs": [
        {
          "data": {
            "text/plain": [
              "Series([], Name: district, dtype: int64)"
            ]
          },
          "execution_count": 40,
          "metadata": {},
          "output_type": "execute_result"
        }
      ],
      "source": [
        "top10_district = streets_area_merge['district'].value_counts()\n",
        "top10_district.head(10)"
      ]
    },
    {
      "cell_type": "markdown",
      "metadata": {
        "id": "y442tb5dkRkM"
      },
      "source": [
        "Общий список районов."
      ]
    },
    {
      "cell_type": "code",
      "execution_count": null,
      "metadata": {
        "id": "FFAcmPwVkRkN",
        "outputId": "d5e6f212-4a56-479a-b09c-21a639969ec5"
      },
      "outputs": [
        {
          "data": {
            "text/plain": [
              "array([], dtype=object)"
            ]
          },
          "execution_count": 41,
          "metadata": {},
          "output_type": "execute_result"
        }
      ],
      "source": [
        "streets_area_merge['district'].replace({'[': '', ']': ''}).unique()"
      ]
    },
    {
      "cell_type": "markdown",
      "metadata": {
        "id": "IeZ0bP9LkRkN"
      },
      "source": [
        "* Посмотрим на распределение количества посадочных мест для улиц с большим количеством объектов общественного питания."
      ]
    },
    {
      "cell_type": "markdown",
      "metadata": {
        "id": "dGIinrt-kRkN"
      },
      "source": [
        "Выделим список улиц с наибольшим количеством объектов."
      ]
    },
    {
      "cell_type": "code",
      "execution_count": null,
      "metadata": {
        "id": "aHt1NQCNkRkO",
        "outputId": "32cdda82-bb9f-456c-ffe7-a730c3c68531"
      },
      "outputs": [
        {
          "data": {
            "text/plain": [
              "['проспект мира',\n",
              " 'профсоюзная улица',\n",
              " 'ленинградский проспект',\n",
              " 'пресненская набережная',\n",
              " 'варшавское шоссе',\n",
              " 'ленинский проспект',\n",
              " 'проспект вернадского',\n",
              " 'кутузовский проспект',\n",
              " 'каширское шоссе',\n",
              " 'кировоградская улица']"
            ]
          },
          "execution_count": 42,
          "metadata": {},
          "output_type": "execute_result"
        }
      ],
      "source": [
        "streets_top10_list = top_streets['streets'].head(10).to_list()\n",
        "streets_top10_list"
      ]
    },
    {
      "cell_type": "markdown",
      "metadata": {
        "id": "nNss_OK2kRkO"
      },
      "source": [
        "Теперь получим данные для этих улиц."
      ]
    },
    {
      "cell_type": "code",
      "execution_count": null,
      "metadata": {
        "id": "8099byb6kRkP",
        "outputId": "5614db1e-fbb9-4bbc-c0b8-34a4abcbfd90"
      },
      "outputs": [
        {
          "data": {
            "text/html": [
              "<div>\n",
              "<style scoped>\n",
              "    .dataframe tbody tr th:only-of-type {\n",
              "        vertical-align: middle;\n",
              "    }\n",
              "\n",
              "    .dataframe tbody tr th {\n",
              "        vertical-align: top;\n",
              "    }\n",
              "\n",
              "    .dataframe thead th {\n",
              "        text-align: right;\n",
              "    }\n",
              "</style>\n",
              "<table border=\"1\" class=\"dataframe\">\n",
              "  <thead>\n",
              "    <tr style=\"text-align: right;\">\n",
              "      <th></th>\n",
              "      <th>id</th>\n",
              "      <th>object_name</th>\n",
              "      <th>chain</th>\n",
              "      <th>object_type</th>\n",
              "      <th>address</th>\n",
              "      <th>number_seats</th>\n",
              "      <th>streets</th>\n",
              "    </tr>\n",
              "  </thead>\n",
              "  <tbody>\n",
              "    <tr>\n",
              "      <td>151</td>\n",
              "      <td>155973</td>\n",
              "      <td>кафе «андерсон»</td>\n",
              "      <td>сетевое</td>\n",
              "      <td>кафе</td>\n",
              "      <td>город москва, варшавское шоссе, дом 2</td>\n",
              "      <td>150</td>\n",
              "      <td>варшавское шоссе</td>\n",
              "    </tr>\n",
              "    <tr>\n",
              "      <td>152</td>\n",
              "      <td>23618</td>\n",
              "      <td>кафе «subway»</td>\n",
              "      <td>сетевое</td>\n",
              "      <td>кафе</td>\n",
              "      <td>город москва, варшавское шоссе, дом 7, корпус 1</td>\n",
              "      <td>36</td>\n",
              "      <td>варшавское шоссе</td>\n",
              "    </tr>\n",
              "    <tr>\n",
              "      <td>153</td>\n",
              "      <td>155852</td>\n",
              "      <td>кафе «ламаджо»</td>\n",
              "      <td>несетевое</td>\n",
              "      <td>кафе</td>\n",
              "      <td>город москва, варшавское шоссе, дом 29</td>\n",
              "      <td>30</td>\n",
              "      <td>варшавское шоссе</td>\n",
              "    </tr>\n",
              "    <tr>\n",
              "      <td>154</td>\n",
              "      <td>152556</td>\n",
              "      <td>шаурма в пите</td>\n",
              "      <td>несетевое</td>\n",
              "      <td>фастфуд</td>\n",
              "      <td>город москва, варшавское шоссе, дом 72, корпус 2</td>\n",
              "      <td>0</td>\n",
              "      <td>варшавское шоссе</td>\n",
              "    </tr>\n",
              "    <tr>\n",
              "      <td>155</td>\n",
              "      <td>120658</td>\n",
              "      <td>выпечка</td>\n",
              "      <td>несетевое</td>\n",
              "      <td>кафетерий</td>\n",
              "      <td>город москва, варшавское шоссе, дом 100</td>\n",
              "      <td>2</td>\n",
              "      <td>варшавское шоссе</td>\n",
              "    </tr>\n",
              "    <tr>\n",
              "      <td>...</td>\n",
              "      <td>...</td>\n",
              "      <td>...</td>\n",
              "      <td>...</td>\n",
              "      <td>...</td>\n",
              "      <td>...</td>\n",
              "      <td>...</td>\n",
              "      <td>...</td>\n",
              "    </tr>\n",
              "    <tr>\n",
              "      <td>15308</td>\n",
              "      <td>213629</td>\n",
              "      <td>додо пицца</td>\n",
              "      <td>сетевое</td>\n",
              "      <td>кафе</td>\n",
              "      <td>город москва, пресненская набережная, дом 12</td>\n",
              "      <td>25</td>\n",
              "      <td>пресненская набережная</td>\n",
              "    </tr>\n",
              "    <tr>\n",
              "      <td>15325</td>\n",
              "      <td>198436</td>\n",
              "      <td>милти</td>\n",
              "      <td>сетевое</td>\n",
              "      <td>фастфуд</td>\n",
              "      <td>город москва, ленинградский проспект, дом 80, корпус 17</td>\n",
              "      <td>0</td>\n",
              "      <td>ленинградский проспект</td>\n",
              "    </tr>\n",
              "    <tr>\n",
              "      <td>15347</td>\n",
              "      <td>222491</td>\n",
              "      <td>кальянная «мята lounge»</td>\n",
              "      <td>сетевое</td>\n",
              "      <td>кафе</td>\n",
              "      <td>город москва, профсоюзная улица, дом 142, корпус 1, строение 1</td>\n",
              "      <td>40</td>\n",
              "      <td>профсоюзная улица</td>\n",
              "    </tr>\n",
              "    <tr>\n",
              "      <td>15350</td>\n",
              "      <td>213061</td>\n",
              "      <td>мята</td>\n",
              "      <td>сетевое</td>\n",
              "      <td>кафетерий</td>\n",
              "      <td>город москва, каширское шоссе, дом 96, корпус 1</td>\n",
              "      <td>35</td>\n",
              "      <td>каширское шоссе</td>\n",
              "    </tr>\n",
              "    <tr>\n",
              "      <td>15358</td>\n",
              "      <td>213724</td>\n",
              "      <td>шоколадница</td>\n",
              "      <td>сетевое</td>\n",
              "      <td>кафе</td>\n",
              "      <td>город москва, варшавское шоссе, дом 87б</td>\n",
              "      <td>54</td>\n",
              "      <td>варшавское шоссе</td>\n",
              "    </tr>\n",
              "  </tbody>\n",
              "</table>\n",
              "<p>1508 rows × 7 columns</p>\n",
              "</div>"
            ],
            "text/plain": [
              "           id              object_name      chain object_type  \\\n",
              "151    155973          кафе «андерсон»    сетевое        кафе   \n",
              "152     23618            кафе «subway»    сетевое        кафе   \n",
              "153    155852           кафе «ламаджо»  несетевое        кафе   \n",
              "154    152556            шаурма в пите  несетевое     фастфуд   \n",
              "155    120658                  выпечка  несетевое   кафетерий   \n",
              "...       ...                      ...        ...         ...   \n",
              "15308  213629               додо пицца    сетевое        кафе   \n",
              "15325  198436                    милти    сетевое     фастфуд   \n",
              "15347  222491  кальянная «мята lounge»    сетевое        кафе   \n",
              "15350  213061                     мята    сетевое   кафетерий   \n",
              "15358  213724              шоколадница    сетевое        кафе   \n",
              "\n",
              "                                                              address  \\\n",
              "151                             город москва, варшавское шоссе, дом 2   \n",
              "152                   город москва, варшавское шоссе, дом 7, корпус 1   \n",
              "153                            город москва, варшавское шоссе, дом 29   \n",
              "154                  город москва, варшавское шоссе, дом 72, корпус 2   \n",
              "155                           город москва, варшавское шоссе, дом 100   \n",
              "...                                                               ...   \n",
              "15308                    город москва, пресненская набережная, дом 12   \n",
              "15325         город москва, ленинградский проспект, дом 80, корпус 17   \n",
              "15347  город москва, профсоюзная улица, дом 142, корпус 1, строение 1   \n",
              "15350                 город москва, каширское шоссе, дом 96, корпус 1   \n",
              "15358                         город москва, варшавское шоссе, дом 87б   \n",
              "\n",
              "       number_seats                 streets  \n",
              "151             150        варшавское шоссе  \n",
              "152              36        варшавское шоссе  \n",
              "153              30        варшавское шоссе  \n",
              "154               0        варшавское шоссе  \n",
              "155               2        варшавское шоссе  \n",
              "...             ...                     ...  \n",
              "15308            25  пресненская набережная  \n",
              "15325             0  ленинградский проспект  \n",
              "15347            40       профсоюзная улица  \n",
              "15350            35         каширское шоссе  \n",
              "15358            54        варшавское шоссе  \n",
              "\n",
              "[1508 rows x 7 columns]"
            ]
          },
          "execution_count": 43,
          "metadata": {},
          "output_type": "execute_result"
        }
      ],
      "source": [
        "data_top10 = rest_data.query('streets in @streets_top10_list')\n",
        "data_top10"
      ]
    },
    {
      "cell_type": "code",
      "execution_count": null,
      "metadata": {
        "id": "KH3-zVvPkRkP",
        "outputId": "34bf5763-e65c-41b0-913d-ba39be87c51b"
      },
      "outputs": [
        {
          "data": {
            "text/plain": [
              "Text(0, 0.5, 'Название улицы')"
            ]
          },
          "execution_count": 44,
          "metadata": {},
          "output_type": "execute_result"
        },
        {
          "data": {
            "image/png": "[encoded data removed]",
            "text/plain": [
              "<Figure size 1080x648 with 1 Axes>"
            ]
          },
          "metadata": {},
          "output_type": "display_data"
        }
      ],
      "source": [
        "plt.figure(figsize=(15,9))\n",
        "sns.boxplot(x='number_seats', y='streets', data=data_top10)\n",
        "plt.xlim(0,250)\n",
        "plt.title('Диаграмма распределения количества посадочных мест для топ-10 улиц в Москве по кол-во объектов', fontsize=16)\n",
        "plt.xlabel('Количество посадочных мест', fontsize=16)\n",
        "plt.ylabel('Название улицы', fontsize=16)\n"
      ]
    },
    {
      "cell_type": "code",
      "execution_count": null,
      "metadata": {
        "id": "bJHtHkZQkRkQ",
        "outputId": "00504bc7-0562-4758-a6ef-bbca9b8602a3"
      },
      "outputs": [
        {
          "data": {
            "text/html": [
              "<div>\n",
              "<style scoped>\n",
              "    .dataframe tbody tr th:only-of-type {\n",
              "        vertical-align: middle;\n",
              "    }\n",
              "\n",
              "    .dataframe tbody tr th {\n",
              "        vertical-align: top;\n",
              "    }\n",
              "\n",
              "    .dataframe thead th {\n",
              "        text-align: right;\n",
              "    }\n",
              "</style>\n",
              "<table border=\"1\" class=\"dataframe\">\n",
              "  <thead>\n",
              "    <tr style=\"text-align: right;\">\n",
              "      <th></th>\n",
              "      <th>count</th>\n",
              "      <th>mean</th>\n",
              "      <th>std</th>\n",
              "      <th>min</th>\n",
              "      <th>25%</th>\n",
              "      <th>50%</th>\n",
              "      <th>75%</th>\n",
              "      <th>max</th>\n",
              "    </tr>\n",
              "    <tr>\n",
              "      <th>streets</th>\n",
              "      <th></th>\n",
              "      <th></th>\n",
              "      <th></th>\n",
              "      <th></th>\n",
              "      <th></th>\n",
              "      <th></th>\n",
              "      <th></th>\n",
              "      <th></th>\n",
              "    </tr>\n",
              "  </thead>\n",
              "  <tbody>\n",
              "    <tr>\n",
              "      <td>проспект мира</td>\n",
              "      <td>204.00</td>\n",
              "      <td>62.70</td>\n",
              "      <td>58.97</td>\n",
              "      <td>0.00</td>\n",
              "      <td>20.00</td>\n",
              "      <td>46.50</td>\n",
              "      <td>90.00</td>\n",
              "      <td>326.00</td>\n",
              "    </tr>\n",
              "    <tr>\n",
              "      <td>ленинский проспект</td>\n",
              "      <td>148.00</td>\n",
              "      <td>63.15</td>\n",
              "      <td>67.85</td>\n",
              "      <td>0.00</td>\n",
              "      <td>20.00</td>\n",
              "      <td>45.00</td>\n",
              "      <td>80.00</td>\n",
              "      <td>495.00</td>\n",
              "    </tr>\n",
              "    <tr>\n",
              "      <td>кутузовский проспект</td>\n",
              "      <td>114.00</td>\n",
              "      <td>85.06</td>\n",
              "      <td>194.46</td>\n",
              "      <td>0.00</td>\n",
              "      <td>20.00</td>\n",
              "      <td>40.00</td>\n",
              "      <td>96.00</td>\n",
              "      <td>1,700.00</td>\n",
              "    </tr>\n",
              "    <tr>\n",
              "      <td>ленинградский проспект</td>\n",
              "      <td>173.00</td>\n",
              "      <td>52.27</td>\n",
              "      <td>62.94</td>\n",
              "      <td>0.00</td>\n",
              "      <td>15.00</td>\n",
              "      <td>40.00</td>\n",
              "      <td>70.00</td>\n",
              "      <td>625.00</td>\n",
              "    </tr>\n",
              "    <tr>\n",
              "      <td>проспект вернадского</td>\n",
              "      <td>132.00</td>\n",
              "      <td>66.97</td>\n",
              "      <td>121.86</td>\n",
              "      <td>0.00</td>\n",
              "      <td>20.00</td>\n",
              "      <td>40.00</td>\n",
              "      <td>80.00</td>\n",
              "      <td>1,288.00</td>\n",
              "    </tr>\n",
              "    <tr>\n",
              "      <td>варшавское шоссе</td>\n",
              "      <td>165.00</td>\n",
              "      <td>52.28</td>\n",
              "      <td>74.35</td>\n",
              "      <td>0.00</td>\n",
              "      <td>8.00</td>\n",
              "      <td>30.00</td>\n",
              "      <td>64.00</td>\n",
              "      <td>500.00</td>\n",
              "    </tr>\n",
              "    <tr>\n",
              "      <td>кировоградская улица</td>\n",
              "      <td>110.00</td>\n",
              "      <td>59.79</td>\n",
              "      <td>79.17</td>\n",
              "      <td>0.00</td>\n",
              "      <td>6.00</td>\n",
              "      <td>30.00</td>\n",
              "      <td>68.50</td>\n",
              "      <td>300.00</td>\n",
              "    </tr>\n",
              "    <tr>\n",
              "      <td>пресненская набережная</td>\n",
              "      <td>167.00</td>\n",
              "      <td>45.84</td>\n",
              "      <td>65.32</td>\n",
              "      <td>0.00</td>\n",
              "      <td>8.50</td>\n",
              "      <td>30.00</td>\n",
              "      <td>50.00</td>\n",
              "      <td>478.00</td>\n",
              "    </tr>\n",
              "    <tr>\n",
              "      <td>каширское шоссе</td>\n",
              "      <td>112.00</td>\n",
              "      <td>55.10</td>\n",
              "      <td>87.67</td>\n",
              "      <td>0.00</td>\n",
              "      <td>7.50</td>\n",
              "      <td>25.00</td>\n",
              "      <td>76.25</td>\n",
              "      <td>680.00</td>\n",
              "    </tr>\n",
              "    <tr>\n",
              "      <td>профсоюзная улица</td>\n",
              "      <td>183.00</td>\n",
              "      <td>47.36</td>\n",
              "      <td>57.44</td>\n",
              "      <td>0.00</td>\n",
              "      <td>5.00</td>\n",
              "      <td>24.00</td>\n",
              "      <td>67.50</td>\n",
              "      <td>240.00</td>\n",
              "    </tr>\n",
              "  </tbody>\n",
              "</table>\n",
              "</div>"
            ],
            "text/plain": [
              "                        count  mean    std  min   25%   50%   75%      max\n",
              "streets                                                                   \n",
              "проспект мира          204.00 62.70  58.97 0.00 20.00 46.50 90.00   326.00\n",
              "ленинский проспект     148.00 63.15  67.85 0.00 20.00 45.00 80.00   495.00\n",
              "кутузовский проспект   114.00 85.06 194.46 0.00 20.00 40.00 96.00 1,700.00\n",
              "ленинградский проспект 173.00 52.27  62.94 0.00 15.00 40.00 70.00   625.00\n",
              "проспект вернадского   132.00 66.97 121.86 0.00 20.00 40.00 80.00 1,288.00\n",
              "варшавское шоссе       165.00 52.28  74.35 0.00  8.00 30.00 64.00   500.00\n",
              "кировоградская улица   110.00 59.79  79.17 0.00  6.00 30.00 68.50   300.00\n",
              "пресненская набережная 167.00 45.84  65.32 0.00  8.50 30.00 50.00   478.00\n",
              "каширское шоссе        112.00 55.10  87.67 0.00  7.50 25.00 76.25   680.00\n",
              "профсоюзная улица      183.00 47.36  57.44 0.00  5.00 24.00 67.50   240.00"
            ]
          },
          "execution_count": 45,
          "metadata": {},
          "output_type": "execute_result"
        }
      ],
      "source": [
        "data_top10.groupby('streets')['number_seats'].describe().sort_values(by='50%', ascending=False)"
      ]
    },
    {
      "cell_type": "markdown",
      "metadata": {
        "id": "lD3-7wEdkRkR"
      },
      "source": [
        "Как видим, больше 50% объектов на этих улицах имеют посадочных мест менее 50."
      ]
    },
    {
      "cell_type": "markdown",
      "metadata": {
        "id": "UVzi1EEkkRkS"
      },
      "source": [
        "## 4. Выводы"
      ]
    },
    {
      "cell_type": "markdown",
      "metadata": {
        "id": "7PpbCDELkRkS"
      },
      "source": [
        "* Топ 4 популярных вида объекта: кафе, столовая, ресторан и фастфуд. На долю кафе приходится большая часть объектов около 40 %.\n",
        "* Доля сетевых заведений составляет около 20 %\n",
        "* Среди сетевых заведений топ 3 вида объектов: кафе, фастфуд, ресторан. Кафе также лидирует по количеству.\n",
        "* Для сетевых заведений характерно много объектов с малым количеством посадочных мест. большая часть объектов (75%) с количеством мест менее 72.\n",
        "* Среднее количество посадочных мест убывает в ряду: столовая - 100, ресторан - 80, кафе - 30.\n",
        "* Топ 10 улиц Москвы по количеству объектов: проспект мира - 204, профсоюзная улица - 183, ленинградский проспект - 173, пресненская набережная - 167, варшавское шоссе - 165.\n",
        "* Были найдены улицы на которых расположен всего 1 объект. Для таких улиц были определены районы Москвы. Топ 5 районов Москвы, где наиболее часто встречаются улицы на которых расположен всего 1 объект: район Таганский, район Хамовники, район Басманный, район Тверской, район Пресненский."
      ]
    },
    {
      "cell_type": "markdown",
      "metadata": {
        "id": "EXuZ-L5-kRkT"
      },
      "source": [
        "### Рекомендации"
      ]
    },
    {
      "cell_type": "markdown",
      "metadata": {
        "id": "W7gWtQqdkRkT"
      },
      "source": [
        "Любой бизне- проект оценивают по нескольким большим критериям: 1. объем рынка, 2. команда 3. возможность быстрого роста - часто это прорывные технологии, которые позволяют значительно превосходить конкурентов. "
      ]
    },
    {
      "cell_type": "markdown",
      "metadata": {
        "id": "HBL3aMMWkRkT"
      },
      "source": [
        "Вспомним цель нашего исследования: мы (в составе команды) хотим проверить гипотезу, что новые технологии в обслуживании клиентов позволят нам открыть кафе, способное приносить хорошую прибыль. У этой идеи есть отличная возможность масштабирования, что потенциально может вырасти в большую сеть. "
      ]
    },
    {
      "cell_type": "markdown",
      "metadata": {
        "id": "Atq4oZmDkRkU"
      },
      "source": [
        "<strong>Объем рынка:</strong> По итогу нашего исследования можно сказать, что кафе - самый популярный вид общественного заведения. Кафе занимает большую часть рынка общественного питания по количеству объектов. Кроме любви клиентов к кофе и пончикам это еще объясняется сравнительно небольшим объемом первоначальных инвестиций, т.к требуемое помещение должно вмещать около 30 посадочных мест, что сразу сокращает постоянные расходы на аренду и делает более привлекательным юнит-экономику. Главный минус данного вида заведения - это сравнительно небольшой средний чек и в данном контексте технология в виде робота, который наливает кофе, значительно сокращает расходы на персонал и быстрее окупает вложенные инвестиции. Относительно района расположения первого кафе следует опираться на данные по самым популярным улицам Москва (с самым большим количеством объектов) - это даст кафе отличную возможность выделиться среди большого количества однотипных объектов, но также и обеспечит достаточным трафиком.   "
      ]
    },
    {
      "cell_type": "markdown",
      "metadata": {
        "id": "ducOgfdekRkU"
      },
      "source": [
        "<strong>Команда:</strong> С таким аналитиком вам ничего не страшно 😎😄"
      ]
    },
    {
      "cell_type": "markdown",
      "metadata": {
        "id": "wVqYmYMekRkV"
      },
      "source": [
        "<strong>Возможность быстрого роста:</strong> Наличие на борту технологии, которая сокращает постоянные издержки, а также является, на первое время, хорошим инструментом маркетинга позволит окупить первую точку в короткие сроки. Что более важно потенциальный рост бизнеса огромен. Возможно расширяться не только соседствуюя с конкурентами, но и заполнять привлекательные районы, на которых еще очень мало объектов. Например: район Таганский, район Хамовники, район Басманный, район Тверской, район Пресненский."
      ]
    },
    {
      "cell_type": "markdown",
      "metadata": {
        "id": "0b0W7Yp_kRkV"
      },
      "source": [
        "## Презентация"
      ]
    },
    {
      "cell_type": "markdown",
      "metadata": {
        "id": "i-7AZ4yskRkW"
      },
      "source": [
        "Презентация ссылка: <https://drive.google.com/file/d/1AOQfl4tkkzpU3qtJduWb4cHRxC39BpD1/view?usp=sharing>"
      ]
    }
  ],
  "metadata": {
    "ExecuteTimeLog": [
      {
        "duration": 1543,
        "start_time": "2022-01-12T14:59:45.303Z"
      },
      {
        "duration": 56,
        "start_time": "2022-01-12T15:02:57.014Z"
      },
      {
        "duration": 10,
        "start_time": "2022-01-12T15:04:49.573Z"
      },
      {
        "duration": 13,
        "start_time": "2022-01-12T15:16:49.869Z"
      },
      {
        "duration": 8,
        "start_time": "2022-01-12T15:17:33.945Z"
      },
      {
        "duration": 7,
        "start_time": "2022-01-12T15:18:23.446Z"
      },
      {
        "duration": 20,
        "start_time": "2022-01-12T15:21:27.645Z"
      },
      {
        "duration": 8,
        "start_time": "2022-01-12T15:22:15.546Z"
      },
      {
        "duration": 11,
        "start_time": "2022-01-12T15:24:10.155Z"
      },
      {
        "duration": 6,
        "start_time": "2022-01-12T15:24:20.410Z"
      },
      {
        "duration": 23,
        "start_time": "2022-01-12T15:25:54.803Z"
      },
      {
        "duration": 7,
        "start_time": "2022-01-12T15:29:03.302Z"
      },
      {
        "duration": 13,
        "start_time": "2022-01-12T15:29:06.414Z"
      },
      {
        "duration": 1612,
        "start_time": "2022-01-12T15:57:24.737Z"
      },
      {
        "duration": 55,
        "start_time": "2022-01-12T15:57:26.350Z"
      },
      {
        "duration": 8,
        "start_time": "2022-01-12T15:57:26.407Z"
      },
      {
        "duration": 16,
        "start_time": "2022-01-12T15:57:26.417Z"
      },
      {
        "duration": 19,
        "start_time": "2022-01-12T15:57:26.434Z"
      },
      {
        "duration": 16,
        "start_time": "2022-01-12T15:57:26.455Z"
      },
      {
        "duration": 37,
        "start_time": "2022-01-12T15:57:26.472Z"
      },
      {
        "duration": 9,
        "start_time": "2022-01-12T15:57:26.511Z"
      },
      {
        "duration": 32,
        "start_time": "2022-01-12T15:57:26.522Z"
      },
      {
        "duration": 15,
        "start_time": "2022-01-12T15:57:26.556Z"
      },
      {
        "duration": 22,
        "start_time": "2022-01-12T15:57:26.573Z"
      },
      {
        "duration": 298187,
        "start_time": "2022-01-12T15:57:26.597Z"
      },
      {
        "duration": 14,
        "start_time": "2022-01-12T16:31:15.118Z"
      },
      {
        "duration": 319,
        "start_time": "2022-01-12T16:33:19.929Z"
      },
      {
        "duration": 13,
        "start_time": "2022-01-12T16:33:33.756Z"
      },
      {
        "duration": 14,
        "start_time": "2022-01-12T16:33:59.284Z"
      },
      {
        "duration": 185,
        "start_time": "2022-01-12T16:35:41.686Z"
      },
      {
        "duration": 203,
        "start_time": "2022-01-12T16:36:21.816Z"
      },
      {
        "duration": 188,
        "start_time": "2022-01-12T16:36:34.690Z"
      },
      {
        "duration": 10,
        "start_time": "2022-01-12T16:36:41.077Z"
      },
      {
        "duration": 407,
        "start_time": "2022-01-12T16:36:55.585Z"
      },
      {
        "duration": 168,
        "start_time": "2022-01-12T16:37:07.530Z"
      },
      {
        "duration": 186,
        "start_time": "2022-01-12T16:37:23.877Z"
      },
      {
        "duration": 303,
        "start_time": "2022-01-12T16:40:17.940Z"
      },
      {
        "duration": 189,
        "start_time": "2022-01-12T16:40:23.571Z"
      },
      {
        "duration": 464,
        "start_time": "2022-01-12T16:41:53.705Z"
      },
      {
        "duration": 4,
        "start_time": "2022-01-12T16:42:24.377Z"
      },
      {
        "duration": 1592,
        "start_time": "2022-01-12T16:42:34.896Z"
      },
      {
        "duration": 55,
        "start_time": "2022-01-12T16:42:36.490Z"
      },
      {
        "duration": 9,
        "start_time": "2022-01-12T16:42:36.546Z"
      },
      {
        "duration": 11,
        "start_time": "2022-01-12T16:42:36.557Z"
      },
      {
        "duration": 6,
        "start_time": "2022-01-12T16:42:36.570Z"
      },
      {
        "duration": 10,
        "start_time": "2022-01-12T16:42:36.577Z"
      },
      {
        "duration": 22,
        "start_time": "2022-01-12T16:42:36.589Z"
      },
      {
        "duration": 9,
        "start_time": "2022-01-12T16:42:36.613Z"
      },
      {
        "duration": 48,
        "start_time": "2022-01-12T16:42:36.623Z"
      },
      {
        "duration": 6,
        "start_time": "2022-01-12T16:42:36.672Z"
      },
      {
        "duration": 26,
        "start_time": "2022-01-12T16:42:36.680Z"
      },
      {
        "duration": 213,
        "start_time": "2022-01-12T16:42:36.708Z"
      },
      {
        "duration": 177,
        "start_time": "2022-01-12T16:42:54.889Z"
      },
      {
        "duration": 5,
        "start_time": "2022-01-12T16:47:58.731Z"
      },
      {
        "duration": 4,
        "start_time": "2022-01-12T16:48:04.145Z"
      },
      {
        "duration": 95,
        "start_time": "2022-01-12T16:48:04.154Z"
      },
      {
        "duration": 10,
        "start_time": "2022-01-12T16:48:04.252Z"
      },
      {
        "duration": 47,
        "start_time": "2022-01-12T16:48:04.264Z"
      },
      {
        "duration": 33,
        "start_time": "2022-01-12T16:48:04.314Z"
      },
      {
        "duration": 29,
        "start_time": "2022-01-12T16:48:04.350Z"
      },
      {
        "duration": 43,
        "start_time": "2022-01-12T16:48:04.381Z"
      },
      {
        "duration": 23,
        "start_time": "2022-01-12T16:48:04.427Z"
      },
      {
        "duration": 57,
        "start_time": "2022-01-12T16:48:04.451Z"
      },
      {
        "duration": 5,
        "start_time": "2022-01-12T16:48:04.510Z"
      },
      {
        "duration": 27,
        "start_time": "2022-01-12T16:48:04.517Z"
      },
      {
        "duration": 18,
        "start_time": "2022-01-12T16:48:04.546Z"
      },
      {
        "duration": 421,
        "start_time": "2022-01-12T16:48:04.565Z"
      },
      {
        "duration": 6,
        "start_time": "2022-01-12T16:48:35.973Z"
      },
      {
        "duration": 3272,
        "start_time": "2022-01-12T16:50:18.195Z"
      },
      {
        "duration": 4,
        "start_time": "2022-01-12T16:50:36.734Z"
      },
      {
        "duration": 96,
        "start_time": "2022-01-12T16:50:36.740Z"
      },
      {
        "duration": 13,
        "start_time": "2022-01-12T16:50:36.838Z"
      },
      {
        "duration": 33,
        "start_time": "2022-01-12T16:50:36.853Z"
      },
      {
        "duration": 21,
        "start_time": "2022-01-12T16:50:36.888Z"
      },
      {
        "duration": 29,
        "start_time": "2022-01-12T16:50:36.911Z"
      },
      {
        "duration": 34,
        "start_time": "2022-01-12T16:50:36.942Z"
      },
      {
        "duration": 10,
        "start_time": "2022-01-12T16:50:36.980Z"
      },
      {
        "duration": 39,
        "start_time": "2022-01-12T16:50:36.991Z"
      },
      {
        "duration": 14,
        "start_time": "2022-01-12T16:50:37.032Z"
      },
      {
        "duration": 32,
        "start_time": "2022-01-12T16:50:37.048Z"
      },
      {
        "duration": 23,
        "start_time": "2022-01-12T16:50:37.082Z"
      },
      {
        "duration": 37,
        "start_time": "2022-01-12T16:50:37.106Z"
      },
      {
        "duration": 300,
        "start_time": "2022-01-12T16:50:37.145Z"
      },
      {
        "duration": 4,
        "start_time": "2022-01-12T16:51:06.478Z"
      },
      {
        "duration": 50,
        "start_time": "2022-01-12T16:51:06.504Z"
      },
      {
        "duration": 9,
        "start_time": "2022-01-12T16:51:06.555Z"
      },
      {
        "duration": 14,
        "start_time": "2022-01-12T16:51:06.566Z"
      },
      {
        "duration": 7,
        "start_time": "2022-01-12T16:51:06.581Z"
      },
      {
        "duration": 9,
        "start_time": "2022-01-12T16:51:06.590Z"
      },
      {
        "duration": 32,
        "start_time": "2022-01-12T16:51:06.601Z"
      },
      {
        "duration": 33,
        "start_time": "2022-01-12T16:51:06.635Z"
      },
      {
        "duration": 34,
        "start_time": "2022-01-12T16:51:06.670Z"
      },
      {
        "duration": 6,
        "start_time": "2022-01-12T16:51:06.708Z"
      },
      {
        "duration": 19,
        "start_time": "2022-01-12T16:51:06.716Z"
      },
      {
        "duration": 5,
        "start_time": "2022-01-12T16:51:09.125Z"
      },
      {
        "duration": 14,
        "start_time": "2022-01-12T16:51:11.133Z"
      },
      {
        "duration": 1464,
        "start_time": "2022-01-12T16:51:38.296Z"
      },
      {
        "duration": 57,
        "start_time": "2022-01-12T16:51:39.762Z"
      },
      {
        "duration": 9,
        "start_time": "2022-01-12T16:51:39.824Z"
      },
      {
        "duration": 15,
        "start_time": "2022-01-12T16:51:39.835Z"
      },
      {
        "duration": 8,
        "start_time": "2022-01-12T16:51:39.861Z"
      },
      {
        "duration": 10,
        "start_time": "2022-01-12T16:51:39.871Z"
      },
      {
        "duration": 22,
        "start_time": "2022-01-12T16:51:39.883Z"
      },
      {
        "duration": 8,
        "start_time": "2022-01-12T16:51:39.907Z"
      },
      {
        "duration": 54,
        "start_time": "2022-01-12T16:51:39.917Z"
      },
      {
        "duration": 5,
        "start_time": "2022-01-12T16:51:39.973Z"
      },
      {
        "duration": 19,
        "start_time": "2022-01-12T16:51:39.980Z"
      },
      {
        "duration": 8,
        "start_time": "2022-01-12T16:51:40.000Z"
      },
      {
        "duration": 19,
        "start_time": "2022-01-12T16:51:40.010Z"
      },
      {
        "duration": 192,
        "start_time": "2022-01-12T16:51:40.031Z"
      },
      {
        "duration": 441,
        "start_time": "2022-01-12T16:52:59.876Z"
      },
      {
        "duration": 175,
        "start_time": "2022-01-12T17:00:06.184Z"
      },
      {
        "duration": 218,
        "start_time": "2022-01-12T17:00:29.941Z"
      },
      {
        "duration": 199,
        "start_time": "2022-01-12T17:00:55.771Z"
      },
      {
        "duration": 202,
        "start_time": "2022-01-12T17:01:00.296Z"
      },
      {
        "duration": 198,
        "start_time": "2022-01-12T17:01:24.499Z"
      },
      {
        "duration": 296,
        "start_time": "2022-01-12T17:02:55.354Z"
      },
      {
        "duration": 208,
        "start_time": "2022-01-12T17:03:44.717Z"
      },
      {
        "duration": 8,
        "start_time": "2022-01-12T17:15:07.706Z"
      },
      {
        "duration": 308,
        "start_time": "2022-01-12T17:16:18.498Z"
      },
      {
        "duration": 6,
        "start_time": "2022-01-12T17:16:29.468Z"
      },
      {
        "duration": 157,
        "start_time": "2022-01-12T17:16:33.169Z"
      },
      {
        "duration": 8,
        "start_time": "2022-01-12T17:16:41.993Z"
      },
      {
        "duration": 4,
        "start_time": "2022-01-12T17:34:46.190Z"
      },
      {
        "duration": 65,
        "start_time": "2022-01-12T17:34:46.196Z"
      },
      {
        "duration": 8,
        "start_time": "2022-01-12T17:34:46.263Z"
      },
      {
        "duration": 25,
        "start_time": "2022-01-12T17:34:46.273Z"
      },
      {
        "duration": 25,
        "start_time": "2022-01-12T17:34:46.299Z"
      },
      {
        "duration": 34,
        "start_time": "2022-01-12T17:34:46.326Z"
      },
      {
        "duration": 50,
        "start_time": "2022-01-12T17:34:46.362Z"
      },
      {
        "duration": 13,
        "start_time": "2022-01-12T17:34:46.414Z"
      },
      {
        "duration": 47,
        "start_time": "2022-01-12T17:34:46.429Z"
      },
      {
        "duration": 14,
        "start_time": "2022-01-12T17:34:46.478Z"
      },
      {
        "duration": 24,
        "start_time": "2022-01-12T17:34:46.494Z"
      },
      {
        "duration": 18,
        "start_time": "2022-01-12T17:34:46.519Z"
      },
      {
        "duration": 13,
        "start_time": "2022-01-12T17:34:49.472Z"
      },
      {
        "duration": 183,
        "start_time": "2022-01-12T17:36:16.050Z"
      },
      {
        "duration": 187,
        "start_time": "2022-01-12T17:41:20.766Z"
      },
      {
        "duration": 190,
        "start_time": "2022-01-12T17:41:26.591Z"
      },
      {
        "duration": 115,
        "start_time": "2022-01-12T17:42:46.602Z"
      },
      {
        "duration": 451,
        "start_time": "2022-01-12T17:46:57.740Z"
      },
      {
        "duration": 475,
        "start_time": "2022-01-12T17:47:02.934Z"
      },
      {
        "duration": 105,
        "start_time": "2022-01-12T17:47:12.726Z"
      },
      {
        "duration": 448,
        "start_time": "2022-01-12T17:49:21.811Z"
      },
      {
        "duration": 109,
        "start_time": "2022-01-12T17:49:31.544Z"
      },
      {
        "duration": 113,
        "start_time": "2022-01-12T17:53:50.437Z"
      },
      {
        "duration": 453,
        "start_time": "2022-01-12T17:57:37.858Z"
      },
      {
        "duration": 110,
        "start_time": "2022-01-12T17:59:57.736Z"
      },
      {
        "duration": 120,
        "start_time": "2022-01-12T18:00:15.644Z"
      },
      {
        "duration": 111,
        "start_time": "2022-01-12T18:00:50.343Z"
      },
      {
        "duration": 110,
        "start_time": "2022-01-12T18:01:13.828Z"
      },
      {
        "duration": 98,
        "start_time": "2022-01-12T18:01:19.792Z"
      },
      {
        "duration": 454,
        "start_time": "2022-01-12T18:01:38.100Z"
      },
      {
        "duration": 208,
        "start_time": "2022-01-12T18:01:44.647Z"
      },
      {
        "duration": 478,
        "start_time": "2022-01-12T18:02:24.343Z"
      },
      {
        "duration": 101,
        "start_time": "2022-01-12T18:02:34.824Z"
      },
      {
        "duration": 102,
        "start_time": "2022-01-12T18:06:39.819Z"
      },
      {
        "duration": 97,
        "start_time": "2022-01-12T18:08:47.727Z"
      },
      {
        "duration": 111,
        "start_time": "2022-01-12T18:20:11.379Z"
      },
      {
        "duration": 106,
        "start_time": "2022-01-12T18:20:24.816Z"
      },
      {
        "duration": 95,
        "start_time": "2022-01-12T18:21:11.850Z"
      },
      {
        "duration": 10,
        "start_time": "2022-01-12T18:22:34.466Z"
      },
      {
        "duration": 266,
        "start_time": "2022-01-12T19:05:41.911Z"
      },
      {
        "duration": 214,
        "start_time": "2022-01-12T19:06:48.704Z"
      },
      {
        "duration": 220,
        "start_time": "2022-01-12T19:07:30.849Z"
      },
      {
        "duration": 225,
        "start_time": "2022-01-12T19:17:02.500Z"
      },
      {
        "duration": 259,
        "start_time": "2022-01-12T19:17:09.858Z"
      },
      {
        "duration": 207,
        "start_time": "2022-01-12T19:17:17.320Z"
      },
      {
        "duration": 204,
        "start_time": "2022-01-12T19:17:27.956Z"
      },
      {
        "duration": 329,
        "start_time": "2022-01-12T19:17:39.533Z"
      },
      {
        "duration": 245,
        "start_time": "2022-01-12T19:17:45.092Z"
      },
      {
        "duration": 354,
        "start_time": "2022-01-12T19:17:51.757Z"
      },
      {
        "duration": 244,
        "start_time": "2022-01-12T19:42:16.535Z"
      },
      {
        "duration": 274,
        "start_time": "2022-01-12T19:45:27.030Z"
      },
      {
        "duration": 233,
        "start_time": "2022-01-12T19:45:41.188Z"
      },
      {
        "duration": 272,
        "start_time": "2022-01-12T19:47:10.650Z"
      },
      {
        "duration": 266,
        "start_time": "2022-01-12T19:51:19.395Z"
      },
      {
        "duration": 266,
        "start_time": "2022-01-12T19:51:57.526Z"
      },
      {
        "duration": 269,
        "start_time": "2022-01-12T19:52:44.347Z"
      },
      {
        "duration": 309,
        "start_time": "2022-01-12T19:53:37.938Z"
      },
      {
        "duration": 291,
        "start_time": "2022-01-12T19:54:42.889Z"
      },
      {
        "duration": 1565,
        "start_time": "2022-01-12T19:55:11.528Z"
      },
      {
        "duration": 55,
        "start_time": "2022-01-12T19:55:13.095Z"
      },
      {
        "duration": 9,
        "start_time": "2022-01-12T19:55:13.152Z"
      },
      {
        "duration": 28,
        "start_time": "2022-01-12T19:55:13.164Z"
      },
      {
        "duration": 7,
        "start_time": "2022-01-12T19:55:13.194Z"
      },
      {
        "duration": 8,
        "start_time": "2022-01-12T19:55:13.202Z"
      },
      {
        "duration": 20,
        "start_time": "2022-01-12T19:55:13.212Z"
      },
      {
        "duration": 8,
        "start_time": "2022-01-12T19:55:13.234Z"
      },
      {
        "duration": 26,
        "start_time": "2022-01-12T19:55:13.266Z"
      },
      {
        "duration": 5,
        "start_time": "2022-01-12T19:55:13.294Z"
      },
      {
        "duration": 17,
        "start_time": "2022-01-12T19:55:13.300Z"
      },
      {
        "duration": 8,
        "start_time": "2022-01-12T19:55:13.318Z"
      },
      {
        "duration": 42,
        "start_time": "2022-01-12T19:55:13.328Z"
      },
      {
        "duration": 225,
        "start_time": "2022-01-12T19:55:13.372Z"
      },
      {
        "duration": 111,
        "start_time": "2022-01-12T19:55:13.599Z"
      },
      {
        "duration": 8,
        "start_time": "2022-01-12T19:55:13.712Z"
      },
      {
        "duration": 245,
        "start_time": "2022-01-12T19:55:13.722Z"
      },
      {
        "duration": 264,
        "start_time": "2022-01-12T19:55:13.970Z"
      },
      {
        "duration": 387,
        "start_time": "2022-01-12T19:55:14.236Z"
      },
      {
        "duration": 175,
        "start_time": "2022-01-12T19:56:53.028Z"
      },
      {
        "duration": 159,
        "start_time": "2022-01-12T19:57:17.851Z"
      },
      {
        "duration": 159,
        "start_time": "2022-01-12T19:57:48.491Z"
      },
      {
        "duration": 254,
        "start_time": "2022-01-12T19:57:58.581Z"
      },
      {
        "duration": 14,
        "start_time": "2022-01-12T20:00:08.649Z"
      },
      {
        "duration": 201,
        "start_time": "2022-01-12T20:09:50.242Z"
      },
      {
        "duration": 2324,
        "start_time": "2022-01-13T18:06:10.356Z"
      },
      {
        "duration": 72,
        "start_time": "2022-01-13T18:06:12.684Z"
      },
      {
        "duration": 14,
        "start_time": "2022-01-13T18:06:12.760Z"
      },
      {
        "duration": 21,
        "start_time": "2022-01-13T18:06:12.778Z"
      },
      {
        "duration": 11,
        "start_time": "2022-01-13T18:06:12.802Z"
      },
      {
        "duration": 48,
        "start_time": "2022-01-13T18:06:12.815Z"
      },
      {
        "duration": 37,
        "start_time": "2022-01-13T18:06:12.866Z"
      },
      {
        "duration": 15,
        "start_time": "2022-01-13T18:06:12.908Z"
      },
      {
        "duration": 61,
        "start_time": "2022-01-13T18:06:12.927Z"
      },
      {
        "duration": 6,
        "start_time": "2022-01-13T18:06:12.991Z"
      },
      {
        "duration": 26,
        "start_time": "2022-01-13T18:06:13.000Z"
      },
      {
        "duration": 36,
        "start_time": "2022-01-13T18:06:13.029Z"
      },
      {
        "duration": 19,
        "start_time": "2022-01-13T18:06:13.068Z"
      },
      {
        "duration": 381,
        "start_time": "2022-01-13T18:06:13.090Z"
      },
      {
        "duration": 235,
        "start_time": "2022-01-13T18:06:13.475Z"
      },
      {
        "duration": 10,
        "start_time": "2022-01-13T18:06:13.713Z"
      },
      {
        "duration": 371,
        "start_time": "2022-01-13T18:06:13.726Z"
      },
      {
        "duration": 416,
        "start_time": "2022-01-13T18:06:14.100Z"
      },
      {
        "duration": 303,
        "start_time": "2022-01-13T18:06:14.519Z"
      },
      {
        "duration": 14,
        "start_time": "2022-01-13T18:06:14.824Z"
      },
      {
        "duration": 607,
        "start_time": "2022-01-13T18:08:38.996Z"
      },
      {
        "duration": 1133,
        "start_time": "2022-01-13T18:09:10.955Z"
      },
      {
        "duration": 5942,
        "start_time": "2022-01-13T18:10:06.451Z"
      },
      {
        "duration": 2288,
        "start_time": "2022-01-13T18:10:13.675Z"
      },
      {
        "duration": 491,
        "start_time": "2022-01-13T18:11:07.755Z"
      },
      {
        "duration": 653,
        "start_time": "2022-01-13T18:13:57.584Z"
      },
      {
        "duration": 513,
        "start_time": "2022-01-13T18:14:14.530Z"
      },
      {
        "duration": 917,
        "start_time": "2022-01-13T18:15:36.836Z"
      },
      {
        "duration": 935,
        "start_time": "2022-01-13T18:16:35.748Z"
      },
      {
        "duration": 676,
        "start_time": "2022-01-13T18:16:44.330Z"
      },
      {
        "duration": 743,
        "start_time": "2022-01-13T18:18:14.709Z"
      },
      {
        "duration": 646,
        "start_time": "2022-01-13T18:21:44.697Z"
      },
      {
        "duration": 653,
        "start_time": "2022-01-13T18:22:05.110Z"
      },
      {
        "duration": 46,
        "start_time": "2022-01-13T18:42:15.417Z"
      },
      {
        "duration": 72,
        "start_time": "2022-01-13T18:43:53.173Z"
      },
      {
        "duration": 16,
        "start_time": "2022-01-13T19:49:18.779Z"
      },
      {
        "duration": 356,
        "start_time": "2022-01-13T20:03:10.005Z"
      },
      {
        "duration": 2012,
        "start_time": "2022-01-14T15:11:15.911Z"
      },
      {
        "duration": 2408,
        "start_time": "2022-01-14T15:11:17.925Z"
      },
      {
        "duration": 3120,
        "start_time": "2022-01-14T15:11:20.335Z"
      },
      {
        "duration": 770,
        "start_time": "2022-01-14T15:11:23.457Z"
      },
      {
        "duration": 198,
        "start_time": "2022-01-14T15:11:24.229Z"
      },
      {
        "duration": 235,
        "start_time": "2022-01-14T15:11:24.429Z"
      },
      {
        "duration": 257,
        "start_time": "2022-01-14T15:11:24.665Z"
      },
      {
        "duration": 195,
        "start_time": "2022-01-14T15:11:24.924Z"
      },
      {
        "duration": 214,
        "start_time": "2022-01-14T15:11:25.121Z"
      },
      {
        "duration": 168,
        "start_time": "2022-01-14T15:11:25.337Z"
      },
      {
        "duration": 163,
        "start_time": "2022-01-14T15:11:25.507Z"
      },
      {
        "duration": 221,
        "start_time": "2022-01-14T15:11:25.671Z"
      },
      {
        "duration": 236,
        "start_time": "2022-01-14T15:11:25.893Z"
      },
      {
        "duration": 365,
        "start_time": "2022-01-14T15:11:26.130Z"
      },
      {
        "duration": 107,
        "start_time": "2022-01-14T15:11:26.497Z"
      },
      {
        "duration": 104,
        "start_time": "2022-01-14T15:11:26.605Z"
      },
      {
        "duration": 371,
        "start_time": "2022-01-14T15:11:26.711Z"
      },
      {
        "duration": 266,
        "start_time": "2022-01-14T15:11:27.084Z"
      },
      {
        "duration": 199,
        "start_time": "2022-01-14T15:11:27.352Z"
      },
      {
        "duration": 73,
        "start_time": "2022-01-14T15:11:27.553Z"
      },
      {
        "duration": 1025,
        "start_time": "2022-01-14T15:11:27.628Z"
      },
      {
        "duration": 28,
        "start_time": "2022-01-14T15:11:28.654Z"
      },
      {
        "duration": 7,
        "start_time": "2022-01-14T15:11:28.693Z"
      },
      {
        "duration": 101,
        "start_time": "2022-01-14T15:15:37.297Z"
      },
      {
        "duration": 9,
        "start_time": "2022-01-14T15:17:15.945Z"
      },
      {
        "duration": 9,
        "start_time": "2022-01-14T15:19:02.949Z"
      },
      {
        "duration": 9,
        "start_time": "2022-01-14T15:19:06.710Z"
      },
      {
        "duration": 9,
        "start_time": "2022-01-14T15:19:25.576Z"
      },
      {
        "duration": 1381,
        "start_time": "2022-01-14T15:19:32.992Z"
      },
      {
        "duration": 52,
        "start_time": "2022-01-14T15:19:34.375Z"
      },
      {
        "duration": 9,
        "start_time": "2022-01-14T15:19:34.429Z"
      },
      {
        "duration": 13,
        "start_time": "2022-01-14T15:19:34.440Z"
      },
      {
        "duration": 6,
        "start_time": "2022-01-14T15:19:34.454Z"
      },
      {
        "duration": 32,
        "start_time": "2022-01-14T15:19:34.462Z"
      },
      {
        "duration": 18,
        "start_time": "2022-01-14T15:19:34.495Z"
      },
      {
        "duration": 7,
        "start_time": "2022-01-14T15:19:34.515Z"
      },
      {
        "duration": 23,
        "start_time": "2022-01-14T15:19:34.524Z"
      },
      {
        "duration": 8,
        "start_time": "2022-01-14T15:19:34.549Z"
      },
      {
        "duration": 38,
        "start_time": "2022-01-14T15:19:34.558Z"
      },
      {
        "duration": 14,
        "start_time": "2022-01-14T15:19:34.597Z"
      },
      {
        "duration": 13,
        "start_time": "2022-01-14T15:19:34.612Z"
      },
      {
        "duration": 234,
        "start_time": "2022-01-14T15:19:34.627Z"
      },
      {
        "duration": 104,
        "start_time": "2022-01-14T15:19:34.863Z"
      },
      {
        "duration": 7,
        "start_time": "2022-01-14T15:19:34.969Z"
      },
      {
        "duration": 245,
        "start_time": "2022-01-14T15:19:34.978Z"
      },
      {
        "duration": 256,
        "start_time": "2022-01-14T15:19:35.225Z"
      },
      {
        "duration": 186,
        "start_time": "2022-01-14T15:19:35.482Z"
      },
      {
        "duration": 22,
        "start_time": "2022-01-14T15:19:35.670Z"
      },
      {
        "duration": 400,
        "start_time": "2022-01-14T15:19:35.693Z"
      },
      {
        "duration": 28,
        "start_time": "2022-01-14T15:19:36.094Z"
      },
      {
        "duration": 8,
        "start_time": "2022-01-14T15:19:36.125Z"
      },
      {
        "duration": 117,
        "start_time": "2022-01-14T15:19:36.135Z"
      },
      {
        "duration": 9,
        "start_time": "2022-01-14T15:19:36.254Z"
      },
      {
        "duration": 25,
        "start_time": "2022-01-14T15:24:38.251Z"
      },
      {
        "duration": 27,
        "start_time": "2022-01-14T15:24:48.813Z"
      },
      {
        "duration": 28,
        "start_time": "2022-01-14T15:24:53.439Z"
      },
      {
        "duration": 28,
        "start_time": "2022-01-14T15:33:10.957Z"
      },
      {
        "duration": 29,
        "start_time": "2022-01-14T15:33:19.318Z"
      },
      {
        "duration": 302,
        "start_time": "2022-01-14T15:34:44.133Z"
      },
      {
        "duration": 6,
        "start_time": "2022-01-14T15:34:54.245Z"
      },
      {
        "duration": 185,
        "start_time": "2022-01-14T15:35:47.389Z"
      },
      {
        "duration": 124,
        "start_time": "2022-01-14T15:40:27.630Z"
      },
      {
        "duration": 40,
        "start_time": "2022-01-14T15:41:15.766Z"
      },
      {
        "duration": 41,
        "start_time": "2022-01-14T15:41:31.837Z"
      },
      {
        "duration": 24,
        "start_time": "2022-01-14T15:41:53.556Z"
      },
      {
        "duration": 12,
        "start_time": "2022-01-14T15:42:06.264Z"
      },
      {
        "duration": 3236,
        "start_time": "2022-01-14T15:43:42.771Z"
      },
      {
        "duration": 5,
        "start_time": "2022-01-14T15:43:50.575Z"
      },
      {
        "duration": 10,
        "start_time": "2022-01-14T15:44:00.977Z"
      },
      {
        "duration": 22,
        "start_time": "2022-01-14T15:55:45.978Z"
      },
      {
        "duration": 64,
        "start_time": "2022-01-14T16:01:11.280Z"
      },
      {
        "duration": 4,
        "start_time": "2022-01-14T16:01:46.346Z"
      },
      {
        "duration": 867,
        "start_time": "2022-01-14T16:02:18.700Z"
      },
      {
        "duration": 4,
        "start_time": "2022-01-14T16:13:23.998Z"
      },
      {
        "duration": 882,
        "start_time": "2022-01-14T16:13:28.993Z"
      },
      {
        "duration": 891,
        "start_time": "2022-01-14T16:14:11.801Z"
      },
      {
        "duration": 4,
        "start_time": "2022-01-14T16:14:20.560Z"
      },
      {
        "duration": 1045,
        "start_time": "2022-01-14T16:14:23.515Z"
      },
      {
        "duration": 4,
        "start_time": "2022-01-14T16:14:36.801Z"
      },
      {
        "duration": 26,
        "start_time": "2022-01-14T16:14:38.767Z"
      },
      {
        "duration": 24,
        "start_time": "2022-01-14T16:18:16.830Z"
      },
      {
        "duration": 12,
        "start_time": "2022-01-14T16:18:27.227Z"
      },
      {
        "duration": 11,
        "start_time": "2022-01-14T16:18:55.296Z"
      },
      {
        "duration": 24,
        "start_time": "2022-01-14T16:26:46.247Z"
      },
      {
        "duration": 6,
        "start_time": "2022-01-14T16:26:49.423Z"
      },
      {
        "duration": 184,
        "start_time": "2022-01-14T16:28:36.472Z"
      },
      {
        "duration": 10,
        "start_time": "2022-01-14T16:28:48.900Z"
      },
      {
        "duration": 250,
        "start_time": "2022-01-14T16:30:56.875Z"
      },
      {
        "duration": 412,
        "start_time": "2022-01-14T16:36:21.722Z"
      },
      {
        "duration": 491,
        "start_time": "2022-01-14T16:36:28.117Z"
      },
      {
        "duration": 258,
        "start_time": "2022-01-14T16:36:37.337Z"
      },
      {
        "duration": 334,
        "start_time": "2022-01-14T16:36:57.655Z"
      },
      {
        "duration": 247,
        "start_time": "2022-01-14T16:37:06.632Z"
      },
      {
        "duration": 243,
        "start_time": "2022-01-14T16:37:13.517Z"
      },
      {
        "duration": 309,
        "start_time": "2022-01-14T16:37:40.201Z"
      },
      {
        "duration": 351,
        "start_time": "2022-01-14T16:40:10.743Z"
      },
      {
        "duration": 11,
        "start_time": "2022-01-14T17:16:50.265Z"
      },
      {
        "duration": 202,
        "start_time": "2022-01-14T17:18:58.331Z"
      },
      {
        "duration": 186,
        "start_time": "2022-01-14T17:19:18.631Z"
      },
      {
        "duration": 195,
        "start_time": "2022-01-14T17:23:42.154Z"
      },
      {
        "duration": 185,
        "start_time": "2022-01-14T17:24:03.515Z"
      },
      {
        "duration": 204,
        "start_time": "2022-01-14T17:24:10.524Z"
      },
      {
        "duration": 167,
        "start_time": "2022-01-14T17:24:39.792Z"
      },
      {
        "duration": 1927,
        "start_time": "2022-01-16T10:11:18.393Z"
      },
      {
        "duration": 70,
        "start_time": "2022-01-16T10:11:20.323Z"
      },
      {
        "duration": 23,
        "start_time": "2022-01-16T10:11:20.397Z"
      },
      {
        "duration": 18,
        "start_time": "2022-01-16T10:11:20.423Z"
      },
      {
        "duration": 9,
        "start_time": "2022-01-16T10:11:20.444Z"
      },
      {
        "duration": 9,
        "start_time": "2022-01-16T10:11:20.455Z"
      },
      {
        "duration": 69,
        "start_time": "2022-01-16T10:11:20.466Z"
      },
      {
        "duration": 13,
        "start_time": "2022-01-16T10:11:20.539Z"
      },
      {
        "duration": 41,
        "start_time": "2022-01-16T10:11:20.555Z"
      },
      {
        "duration": 24,
        "start_time": "2022-01-16T10:11:20.599Z"
      },
      {
        "duration": 18,
        "start_time": "2022-01-16T10:11:20.625Z"
      },
      {
        "duration": 10,
        "start_time": "2022-01-16T10:11:20.645Z"
      },
      {
        "duration": 19,
        "start_time": "2022-01-16T10:11:20.657Z"
      },
      {
        "duration": 448,
        "start_time": "2022-01-16T10:11:20.718Z"
      },
      {
        "duration": 171,
        "start_time": "2022-01-16T10:11:21.169Z"
      },
      {
        "duration": 9,
        "start_time": "2022-01-16T10:11:21.342Z"
      },
      {
        "duration": 379,
        "start_time": "2022-01-16T10:11:21.354Z"
      },
      {
        "duration": 414,
        "start_time": "2022-01-16T10:11:21.735Z"
      },
      {
        "duration": 302,
        "start_time": "2022-01-16T10:11:22.152Z"
      },
      {
        "duration": 16,
        "start_time": "2022-01-16T10:11:22.456Z"
      },
      {
        "duration": 682,
        "start_time": "2022-01-16T10:11:22.474Z"
      },
      {
        "duration": 60,
        "start_time": "2022-01-16T10:11:23.159Z"
      },
      {
        "duration": 13,
        "start_time": "2022-01-16T10:11:23.223Z"
      },
      {
        "duration": 7,
        "start_time": "2022-01-16T10:11:23.239Z"
      },
      {
        "duration": 41,
        "start_time": "2022-01-16T10:11:23.248Z"
      },
      {
        "duration": 43,
        "start_time": "2022-01-16T10:11:23.292Z"
      },
      {
        "duration": 623,
        "start_time": "2022-01-16T10:11:23.338Z"
      },
      {
        "duration": 14,
        "start_time": "2022-01-16T10:11:23.963Z"
      },
      {
        "duration": 14,
        "start_time": "2022-01-16T10:36:37.933Z"
      },
      {
        "duration": 13,
        "start_time": "2022-01-16T10:37:01.612Z"
      },
      {
        "duration": 2001,
        "start_time": "2022-01-16T15:53:06.240Z"
      },
      {
        "duration": 71,
        "start_time": "2022-01-16T15:53:08.244Z"
      },
      {
        "duration": 39,
        "start_time": "2022-01-16T15:53:08.323Z"
      },
      {
        "duration": 18,
        "start_time": "2022-01-16T15:53:08.365Z"
      },
      {
        "duration": 9,
        "start_time": "2022-01-16T15:53:08.386Z"
      },
      {
        "duration": 9,
        "start_time": "2022-01-16T15:53:08.398Z"
      },
      {
        "duration": 69,
        "start_time": "2022-01-16T15:53:08.410Z"
      },
      {
        "duration": 11,
        "start_time": "2022-01-16T15:53:08.481Z"
      },
      {
        "duration": 32,
        "start_time": "2022-01-16T15:53:08.495Z"
      },
      {
        "duration": 34,
        "start_time": "2022-01-16T15:53:08.529Z"
      },
      {
        "duration": 18,
        "start_time": "2022-01-16T15:53:08.566Z"
      },
      {
        "duration": 11,
        "start_time": "2022-01-16T15:53:08.587Z"
      },
      {
        "duration": 21,
        "start_time": "2022-01-16T15:53:08.601Z"
      },
      {
        "duration": 388,
        "start_time": "2022-01-16T15:53:08.624Z"
      },
      {
        "duration": 173,
        "start_time": "2022-01-16T15:53:09.015Z"
      },
      {
        "duration": 9,
        "start_time": "2022-01-16T15:53:09.191Z"
      },
      {
        "duration": 384,
        "start_time": "2022-01-16T15:53:09.202Z"
      },
      {
        "duration": 405,
        "start_time": "2022-01-16T15:53:09.589Z"
      },
      {
        "duration": 290,
        "start_time": "2022-01-16T15:53:09.997Z"
      },
      {
        "duration": 14,
        "start_time": "2022-01-16T15:53:10.289Z"
      },
      {
        "duration": 645,
        "start_time": "2022-01-16T15:53:10.306Z"
      },
      {
        "duration": 55,
        "start_time": "2022-01-16T15:53:10.956Z"
      },
      {
        "duration": 17,
        "start_time": "2022-01-16T15:53:11.015Z"
      },
      {
        "duration": 29,
        "start_time": "2022-01-16T15:53:11.035Z"
      },
      {
        "duration": 50,
        "start_time": "2022-01-16T15:53:11.068Z"
      },
      {
        "duration": 47,
        "start_time": "2022-01-16T15:53:11.121Z"
      },
      {
        "duration": 649,
        "start_time": "2022-01-16T15:53:11.171Z"
      },
      {
        "duration": 14,
        "start_time": "2022-01-16T15:53:11.822Z"
      },
      {
        "duration": 2680,
        "start_time": "2022-01-16T18:03:04.526Z"
      },
      {
        "duration": 103,
        "start_time": "2022-01-16T18:03:07.209Z"
      },
      {
        "duration": 20,
        "start_time": "2022-01-16T18:03:07.316Z"
      },
      {
        "duration": 28,
        "start_time": "2022-01-16T18:03:07.339Z"
      },
      {
        "duration": 11,
        "start_time": "2022-01-16T18:03:07.370Z"
      },
      {
        "duration": 10,
        "start_time": "2022-01-16T18:03:07.383Z"
      },
      {
        "duration": 64,
        "start_time": "2022-01-16T18:03:07.395Z"
      },
      {
        "duration": 17,
        "start_time": "2022-01-16T18:03:07.465Z"
      },
      {
        "duration": 34,
        "start_time": "2022-01-16T18:03:07.487Z"
      },
      {
        "duration": 38,
        "start_time": "2022-01-16T18:03:07.524Z"
      },
      {
        "duration": 21,
        "start_time": "2022-01-16T18:03:07.564Z"
      },
      {
        "duration": 11,
        "start_time": "2022-01-16T18:03:07.588Z"
      },
      {
        "duration": 61,
        "start_time": "2022-01-16T18:03:07.602Z"
      },
      {
        "duration": 367,
        "start_time": "2022-01-16T18:03:07.665Z"
      },
      {
        "duration": 170,
        "start_time": "2022-01-16T18:03:08.035Z"
      },
      {
        "duration": 9,
        "start_time": "2022-01-16T18:03:08.208Z"
      },
      {
        "duration": 366,
        "start_time": "2022-01-16T18:03:08.220Z"
      },
      {
        "duration": 400,
        "start_time": "2022-01-16T18:03:08.588Z"
      },
      {
        "duration": 291,
        "start_time": "2022-01-16T18:03:08.990Z"
      },
      {
        "duration": 14,
        "start_time": "2022-01-16T18:03:09.283Z"
      },
      {
        "duration": 650,
        "start_time": "2022-01-16T18:03:09.300Z"
      },
      {
        "duration": 49,
        "start_time": "2022-01-16T18:03:09.952Z"
      },
      {
        "duration": 12,
        "start_time": "2022-01-16T18:03:10.006Z"
      },
      {
        "duration": 5,
        "start_time": "2022-01-16T18:03:10.020Z"
      },
      {
        "duration": 73,
        "start_time": "2022-01-16T18:03:10.028Z"
      },
      {
        "duration": 20,
        "start_time": "2022-01-16T18:03:10.103Z"
      },
      {
        "duration": 649,
        "start_time": "2022-01-16T18:03:10.126Z"
      },
      {
        "duration": 10,
        "start_time": "2022-01-16T18:03:10.778Z"
      },
      {
        "duration": 6,
        "start_time": "2022-01-16T18:03:34.294Z"
      },
      {
        "duration": 537,
        "start_time": "2022-01-16T18:04:11.675Z"
      },
      {
        "duration": 14,
        "start_time": "2022-01-16T18:04:41.214Z"
      },
      {
        "duration": 10,
        "start_time": "2022-01-16T18:04:42.205Z"
      },
      {
        "duration": 13,
        "start_time": "2022-01-16T18:05:49.339Z"
      },
      {
        "duration": 11,
        "start_time": "2022-01-16T18:05:50.338Z"
      },
      {
        "duration": 20,
        "start_time": "2022-01-16T18:06:01.979Z"
      },
      {
        "duration": 12,
        "start_time": "2022-01-16T18:11:27.118Z"
      },
      {
        "duration": 16,
        "start_time": "2022-01-16T18:11:34.185Z"
      },
      {
        "duration": 7,
        "start_time": "2022-01-16T18:27:38.922Z"
      },
      {
        "duration": 11,
        "start_time": "2022-01-16T18:27:47.785Z"
      },
      {
        "duration": 394,
        "start_time": "2022-01-16T18:28:10.942Z"
      },
      {
        "duration": 13,
        "start_time": "2022-01-16T18:28:18.732Z"
      },
      {
        "duration": 18,
        "start_time": "2022-01-16T18:28:38.958Z"
      },
      {
        "duration": 12,
        "start_time": "2022-01-16T18:28:48.185Z"
      },
      {
        "duration": 5,
        "start_time": "2022-01-16T18:54:57.558Z"
      },
      {
        "duration": 179,
        "start_time": "2022-01-16T19:02:33.022Z"
      },
      {
        "duration": 363,
        "start_time": "2022-01-16T19:05:03.092Z"
      },
      {
        "duration": 134,
        "start_time": "2022-01-16T19:09:09.682Z"
      },
      {
        "duration": 1275,
        "start_time": "2022-01-16T19:09:11.408Z"
      },
      {
        "duration": 11,
        "start_time": "2022-01-16T19:09:27.563Z"
      },
      {
        "duration": 3,
        "start_time": "2022-01-16T19:10:20.251Z"
      },
      {
        "duration": 1240,
        "start_time": "2022-01-16T19:10:23.758Z"
      },
      {
        "duration": 10,
        "start_time": "2022-01-16T19:10:31.654Z"
      },
      {
        "duration": 8,
        "start_time": "2022-01-16T19:10:57.177Z"
      },
      {
        "duration": 1283,
        "start_time": "2022-01-16T19:13:23.020Z"
      },
      {
        "duration": 10,
        "start_time": "2022-01-16T19:13:31.977Z"
      },
      {
        "duration": 373,
        "start_time": "2022-01-16T19:17:41.154Z"
      },
      {
        "duration": 359,
        "start_time": "2022-01-16T19:18:05.544Z"
      },
      {
        "duration": 5,
        "start_time": "2022-01-16T19:19:46.276Z"
      },
      {
        "duration": 7,
        "start_time": "2022-01-16T19:20:00.018Z"
      },
      {
        "duration": 6,
        "start_time": "2022-01-16T19:20:45.219Z"
      },
      {
        "duration": 13,
        "start_time": "2022-01-16T19:20:46.629Z"
      },
      {
        "duration": 4818,
        "start_time": "2022-01-16T19:25:52.882Z"
      },
      {
        "duration": 4625,
        "start_time": "2022-01-16T19:42:09.617Z"
      },
      {
        "duration": 12,
        "start_time": "2022-01-16T19:42:21.060Z"
      },
      {
        "duration": 19,
        "start_time": "2022-01-16T19:46:59.264Z"
      },
      {
        "duration": 10,
        "start_time": "2022-01-16T19:48:08.093Z"
      },
      {
        "duration": 15,
        "start_time": "2022-01-16T19:48:12.159Z"
      },
      {
        "duration": 9,
        "start_time": "2022-01-16T19:49:17.993Z"
      },
      {
        "duration": 16,
        "start_time": "2022-01-16T19:50:09.454Z"
      },
      {
        "duration": 8,
        "start_time": "2022-01-16T19:50:38.240Z"
      },
      {
        "duration": 11,
        "start_time": "2022-01-16T19:51:48.873Z"
      },
      {
        "duration": 12,
        "start_time": "2022-01-16T19:52:00.033Z"
      },
      {
        "duration": 1996,
        "start_time": "2022-01-16T19:53:54.199Z"
      },
      {
        "duration": 72,
        "start_time": "2022-01-16T19:53:56.197Z"
      },
      {
        "duration": 12,
        "start_time": "2022-01-16T19:53:56.272Z"
      },
      {
        "duration": 15,
        "start_time": "2022-01-16T19:53:56.288Z"
      },
      {
        "duration": 8,
        "start_time": "2022-01-16T19:53:56.305Z"
      },
      {
        "duration": 9,
        "start_time": "2022-01-16T19:53:56.316Z"
      },
      {
        "duration": 25,
        "start_time": "2022-01-16T19:53:56.360Z"
      },
      {
        "duration": 11,
        "start_time": "2022-01-16T19:53:56.389Z"
      },
      {
        "duration": 57,
        "start_time": "2022-01-16T19:53:56.403Z"
      },
      {
        "duration": 6,
        "start_time": "2022-01-16T19:53:56.462Z"
      },
      {
        "duration": 19,
        "start_time": "2022-01-16T19:53:56.471Z"
      },
      {
        "duration": 8,
        "start_time": "2022-01-16T19:53:56.493Z"
      },
      {
        "duration": 20,
        "start_time": "2022-01-16T19:53:56.503Z"
      },
      {
        "duration": 346,
        "start_time": "2022-01-16T19:53:56.559Z"
      },
      {
        "duration": 168,
        "start_time": "2022-01-16T19:53:56.908Z"
      },
      {
        "duration": 9,
        "start_time": "2022-01-16T19:53:57.079Z"
      },
      {
        "duration": 377,
        "start_time": "2022-01-16T19:53:57.091Z"
      },
      {
        "duration": 427,
        "start_time": "2022-01-16T19:53:57.470Z"
      },
      {
        "duration": 293,
        "start_time": "2022-01-16T19:53:57.900Z"
      },
      {
        "duration": 15,
        "start_time": "2022-01-16T19:53:58.195Z"
      },
      {
        "duration": 633,
        "start_time": "2022-01-16T19:53:58.212Z"
      },
      {
        "duration": 52,
        "start_time": "2022-01-16T19:53:58.848Z"
      },
      {
        "duration": 12,
        "start_time": "2022-01-16T19:53:58.905Z"
      },
      {
        "duration": 11,
        "start_time": "2022-01-16T19:53:58.920Z"
      },
      {
        "duration": 72,
        "start_time": "2022-01-16T19:53:58.934Z"
      },
      {
        "duration": 18,
        "start_time": "2022-01-16T19:53:59.009Z"
      },
      {
        "duration": 671,
        "start_time": "2022-01-16T19:53:59.029Z"
      },
      {
        "duration": 14,
        "start_time": "2022-01-16T19:53:59.703Z"
      },
      {
        "duration": 40,
        "start_time": "2022-01-16T19:53:59.720Z"
      },
      {
        "duration": 18,
        "start_time": "2022-01-16T19:53:59.764Z"
      },
      {
        "duration": 153,
        "start_time": "2022-01-16T19:53:59.785Z"
      },
      {
        "duration": 1331,
        "start_time": "2022-01-16T19:53:59.941Z"
      },
      {
        "duration": 8,
        "start_time": "2022-01-16T19:54:01.274Z"
      },
      {
        "duration": 22,
        "start_time": "2022-01-16T19:54:01.285Z"
      },
      {
        "duration": 26,
        "start_time": "2022-01-16T19:54:01.309Z"
      },
      {
        "duration": 24,
        "start_time": "2022-01-16T19:54:01.337Z"
      },
      {
        "duration": 12,
        "start_time": "2022-01-16T19:56:25.026Z"
      },
      {
        "duration": 17,
        "start_time": "2022-01-16T19:56:28.653Z"
      },
      {
        "duration": 9,
        "start_time": "2022-01-16T20:03:39.767Z"
      },
      {
        "duration": 17,
        "start_time": "2022-01-16T20:03:40.877Z"
      },
      {
        "duration": 10,
        "start_time": "2022-01-16T20:04:27.980Z"
      },
      {
        "duration": 15,
        "start_time": "2022-01-16T20:04:29.464Z"
      },
      {
        "duration": 614,
        "start_time": "2022-01-16T20:05:20.570Z"
      },
      {
        "duration": 12,
        "start_time": "2022-01-16T20:05:30.386Z"
      },
      {
        "duration": 12,
        "start_time": "2022-01-16T20:06:20.863Z"
      },
      {
        "duration": 1942,
        "start_time": "2022-01-16T20:16:13.970Z"
      },
      {
        "duration": 73,
        "start_time": "2022-01-16T20:16:15.915Z"
      },
      {
        "duration": 12,
        "start_time": "2022-01-16T20:16:15.991Z"
      },
      {
        "duration": 18,
        "start_time": "2022-01-16T20:16:16.006Z"
      },
      {
        "duration": 35,
        "start_time": "2022-01-16T20:16:16.026Z"
      },
      {
        "duration": 10,
        "start_time": "2022-01-16T20:16:16.064Z"
      },
      {
        "duration": 28,
        "start_time": "2022-01-16T20:16:16.076Z"
      },
      {
        "duration": 51,
        "start_time": "2022-01-16T20:16:16.108Z"
      },
      {
        "duration": 34,
        "start_time": "2022-01-16T20:16:16.162Z"
      },
      {
        "duration": 11,
        "start_time": "2022-01-16T20:16:16.199Z"
      },
      {
        "duration": 20,
        "start_time": "2022-01-16T20:16:16.212Z"
      },
      {
        "duration": 12,
        "start_time": "2022-01-16T20:16:16.261Z"
      },
      {
        "duration": 21,
        "start_time": "2022-01-16T20:16:16.276Z"
      },
      {
        "duration": 401,
        "start_time": "2022-01-16T20:16:16.300Z"
      },
      {
        "duration": 180,
        "start_time": "2022-01-16T20:16:16.704Z"
      },
      {
        "duration": 10,
        "start_time": "2022-01-16T20:16:16.886Z"
      },
      {
        "duration": 389,
        "start_time": "2022-01-16T20:16:16.899Z"
      },
      {
        "duration": 398,
        "start_time": "2022-01-16T20:16:17.290Z"
      },
      {
        "duration": 294,
        "start_time": "2022-01-16T20:16:17.690Z"
      },
      {
        "duration": 14,
        "start_time": "2022-01-16T20:16:17.987Z"
      },
      {
        "duration": 649,
        "start_time": "2022-01-16T20:16:18.004Z"
      },
      {
        "duration": 48,
        "start_time": "2022-01-16T20:16:18.659Z"
      },
      {
        "duration": 46,
        "start_time": "2022-01-16T20:16:18.713Z"
      },
      {
        "duration": 7,
        "start_time": "2022-01-16T20:16:18.762Z"
      },
      {
        "duration": 49,
        "start_time": "2022-01-16T20:16:18.771Z"
      },
      {
        "duration": 37,
        "start_time": "2022-01-16T20:16:18.823Z"
      },
      {
        "duration": 643,
        "start_time": "2022-01-16T20:16:18.863Z"
      },
      {
        "duration": 14,
        "start_time": "2022-01-16T20:16:19.508Z"
      },
      {
        "duration": 10,
        "start_time": "2022-01-16T20:16:19.524Z"
      },
      {
        "duration": 17,
        "start_time": "2022-01-16T20:16:19.560Z"
      },
      {
        "duration": 151,
        "start_time": "2022-01-16T20:16:19.579Z"
      },
      {
        "duration": 1457,
        "start_time": "2022-01-16T20:16:19.733Z"
      },
      {
        "duration": 8,
        "start_time": "2022-01-16T20:16:21.192Z"
      },
      {
        "duration": 16,
        "start_time": "2022-01-16T20:16:21.203Z"
      },
      {
        "duration": 39,
        "start_time": "2022-01-16T20:16:21.222Z"
      },
      {
        "duration": 11,
        "start_time": "2022-01-16T20:16:21.264Z"
      },
      {
        "duration": 14,
        "start_time": "2022-01-16T20:16:21.277Z"
      },
      {
        "duration": 11,
        "start_time": "2022-01-16T20:17:19.201Z"
      },
      {
        "duration": 10,
        "start_time": "2022-01-16T20:17:43.024Z"
      },
      {
        "duration": 11,
        "start_time": "2022-01-16T20:18:23.987Z"
      },
      {
        "duration": 11,
        "start_time": "2022-01-16T20:18:30.149Z"
      },
      {
        "duration": 13,
        "start_time": "2022-01-16T20:18:36.880Z"
      },
      {
        "duration": 2001,
        "start_time": "2022-01-16T20:29:00.675Z"
      },
      {
        "duration": 67,
        "start_time": "2022-01-16T20:29:02.679Z"
      },
      {
        "duration": 12,
        "start_time": "2022-01-16T20:29:02.749Z"
      },
      {
        "duration": 19,
        "start_time": "2022-01-16T20:29:02.764Z"
      },
      {
        "duration": 10,
        "start_time": "2022-01-16T20:29:02.786Z"
      },
      {
        "duration": 9,
        "start_time": "2022-01-16T20:29:02.799Z"
      },
      {
        "duration": 69,
        "start_time": "2022-01-16T20:29:02.811Z"
      },
      {
        "duration": 11,
        "start_time": "2022-01-16T20:29:02.885Z"
      },
      {
        "duration": 60,
        "start_time": "2022-01-16T20:29:02.899Z"
      },
      {
        "duration": 6,
        "start_time": "2022-01-16T20:29:02.962Z"
      },
      {
        "duration": 20,
        "start_time": "2022-01-16T20:29:02.971Z"
      },
      {
        "duration": 10,
        "start_time": "2022-01-16T20:29:02.993Z"
      },
      {
        "duration": 56,
        "start_time": "2022-01-16T20:29:03.005Z"
      },
      {
        "duration": 341,
        "start_time": "2022-01-16T20:29:03.063Z"
      },
      {
        "duration": 163,
        "start_time": "2022-01-16T20:29:03.406Z"
      },
      {
        "duration": 9,
        "start_time": "2022-01-16T20:29:03.571Z"
      },
      {
        "duration": 411,
        "start_time": "2022-01-16T20:29:03.582Z"
      },
      {
        "duration": 438,
        "start_time": "2022-01-16T20:29:03.995Z"
      },
      {
        "duration": 299,
        "start_time": "2022-01-16T20:29:04.436Z"
      },
      {
        "duration": 23,
        "start_time": "2022-01-16T20:29:04.738Z"
      },
      {
        "duration": 670,
        "start_time": "2022-01-16T20:29:04.764Z"
      },
      {
        "duration": 57,
        "start_time": "2022-01-16T20:29:05.437Z"
      },
      {
        "duration": 12,
        "start_time": "2022-01-16T20:29:05.499Z"
      },
      {
        "duration": 5,
        "start_time": "2022-01-16T20:29:05.514Z"
      },
      {
        "duration": 70,
        "start_time": "2022-01-16T20:29:05.521Z"
      },
      {
        "duration": 21,
        "start_time": "2022-01-16T20:29:05.594Z"
      },
      {
        "duration": 757,
        "start_time": "2022-01-16T20:29:05.618Z"
      },
      {
        "duration": 13,
        "start_time": "2022-01-16T20:29:06.377Z"
      },
      {
        "duration": 11,
        "start_time": "2022-01-16T20:29:06.392Z"
      },
      {
        "duration": 17,
        "start_time": "2022-01-16T20:29:06.406Z"
      },
      {
        "duration": 138,
        "start_time": "2022-01-16T20:29:06.460Z"
      },
      {
        "duration": 1307,
        "start_time": "2022-01-16T20:29:06.601Z"
      },
      {
        "duration": 10,
        "start_time": "2022-01-16T20:29:07.911Z"
      },
      {
        "duration": 37,
        "start_time": "2022-01-16T20:29:07.924Z"
      },
      {
        "duration": 13,
        "start_time": "2022-01-16T20:29:07.964Z"
      },
      {
        "duration": 13,
        "start_time": "2022-01-16T20:29:07.980Z"
      },
      {
        "duration": 17,
        "start_time": "2022-01-16T20:29:07.996Z"
      },
      {
        "duration": 558,
        "start_time": "2022-01-16T20:29:41.332Z"
      },
      {
        "duration": 15,
        "start_time": "2022-01-16T20:30:41.143Z"
      },
      {
        "duration": 18,
        "start_time": "2022-01-16T20:30:42.719Z"
      },
      {
        "duration": 8,
        "start_time": "2022-01-16T20:31:43.768Z"
      },
      {
        "duration": 1953,
        "start_time": "2022-01-17T06:22:45.210Z"
      },
      {
        "duration": 69,
        "start_time": "2022-01-17T06:22:47.165Z"
      },
      {
        "duration": 12,
        "start_time": "2022-01-17T06:22:47.237Z"
      },
      {
        "duration": 15,
        "start_time": "2022-01-17T06:22:47.252Z"
      },
      {
        "duration": 10,
        "start_time": "2022-01-17T06:22:47.269Z"
      },
      {
        "duration": 40,
        "start_time": "2022-01-17T06:22:47.281Z"
      },
      {
        "duration": 29,
        "start_time": "2022-01-17T06:22:47.324Z"
      },
      {
        "duration": 10,
        "start_time": "2022-01-17T06:22:47.357Z"
      },
      {
        "duration": 60,
        "start_time": "2022-01-17T06:22:47.370Z"
      },
      {
        "duration": 7,
        "start_time": "2022-01-17T06:22:47.432Z"
      },
      {
        "duration": 19,
        "start_time": "2022-01-17T06:22:47.442Z"
      },
      {
        "duration": 9,
        "start_time": "2022-01-17T06:22:47.464Z"
      },
      {
        "duration": 49,
        "start_time": "2022-01-17T06:22:47.475Z"
      },
      {
        "duration": 355,
        "start_time": "2022-01-17T06:22:47.526Z"
      },
      {
        "duration": 165,
        "start_time": "2022-01-17T06:22:47.883Z"
      },
      {
        "duration": 10,
        "start_time": "2022-01-17T06:22:48.050Z"
      },
      {
        "duration": 371,
        "start_time": "2022-01-17T06:22:48.062Z"
      },
      {
        "duration": 403,
        "start_time": "2022-01-17T06:22:48.436Z"
      },
      {
        "duration": 299,
        "start_time": "2022-01-17T06:22:48.841Z"
      },
      {
        "duration": 14,
        "start_time": "2022-01-17T06:22:49.142Z"
      },
      {
        "duration": 666,
        "start_time": "2022-01-17T06:22:49.159Z"
      },
      {
        "duration": 45,
        "start_time": "2022-01-17T06:22:49.828Z"
      },
      {
        "duration": 12,
        "start_time": "2022-01-17T06:22:49.878Z"
      },
      {
        "duration": 5,
        "start_time": "2022-01-17T06:22:49.917Z"
      },
      {
        "duration": 42,
        "start_time": "2022-01-17T06:22:49.924Z"
      },
      {
        "duration": 18,
        "start_time": "2022-01-17T06:22:49.969Z"
      },
      {
        "duration": 650,
        "start_time": "2022-01-17T06:22:49.989Z"
      },
      {
        "duration": 15,
        "start_time": "2022-01-17T06:22:50.641Z"
      },
      {
        "duration": 11,
        "start_time": "2022-01-17T06:22:50.658Z"
      },
      {
        "duration": 44,
        "start_time": "2022-01-17T06:22:50.672Z"
      },
      {
        "duration": 133,
        "start_time": "2022-01-17T06:22:50.719Z"
      },
      {
        "duration": 1436,
        "start_time": "2022-01-17T06:22:50.855Z"
      },
      {
        "duration": 7,
        "start_time": "2022-01-17T06:22:52.293Z"
      },
      {
        "duration": 21,
        "start_time": "2022-01-17T06:22:52.302Z"
      },
      {
        "duration": 10,
        "start_time": "2022-01-17T06:22:52.326Z"
      },
      {
        "duration": 13,
        "start_time": "2022-01-17T06:22:52.338Z"
      },
      {
        "duration": 12,
        "start_time": "2022-01-17T06:22:52.353Z"
      },
      {
        "duration": 7,
        "start_time": "2022-01-17T06:22:52.368Z"
      },
      {
        "duration": 1525,
        "start_time": "2022-01-17T15:01:05.687Z"
      },
      {
        "duration": 52,
        "start_time": "2022-01-17T15:01:07.214Z"
      },
      {
        "duration": 8,
        "start_time": "2022-01-17T15:01:07.268Z"
      },
      {
        "duration": 12,
        "start_time": "2022-01-17T15:01:07.278Z"
      },
      {
        "duration": 6,
        "start_time": "2022-01-17T15:01:07.292Z"
      },
      {
        "duration": 9,
        "start_time": "2022-01-17T15:01:07.299Z"
      },
      {
        "duration": 16,
        "start_time": "2022-01-17T15:01:07.327Z"
      },
      {
        "duration": 7,
        "start_time": "2022-01-17T15:01:07.345Z"
      },
      {
        "duration": 22,
        "start_time": "2022-01-17T15:01:07.354Z"
      },
      {
        "duration": 6,
        "start_time": "2022-01-17T15:01:07.378Z"
      },
      {
        "duration": 12,
        "start_time": "2022-01-17T15:01:07.386Z"
      },
      {
        "duration": 31,
        "start_time": "2022-01-17T15:01:07.399Z"
      },
      {
        "duration": 13,
        "start_time": "2022-01-17T15:01:07.432Z"
      },
      {
        "duration": 204,
        "start_time": "2022-01-17T15:01:07.447Z"
      },
      {
        "duration": 101,
        "start_time": "2022-01-17T15:01:07.653Z"
      },
      {
        "duration": 8,
        "start_time": "2022-01-17T15:01:07.756Z"
      },
      {
        "duration": 212,
        "start_time": "2022-01-17T15:01:07.765Z"
      },
      {
        "duration": 227,
        "start_time": "2022-01-17T15:01:07.979Z"
      },
      {
        "duration": 166,
        "start_time": "2022-01-17T15:01:08.208Z"
      },
      {
        "duration": 9,
        "start_time": "2022-01-17T15:01:08.376Z"
      },
      {
        "duration": 371,
        "start_time": "2022-01-17T15:01:08.387Z"
      },
      {
        "duration": 28,
        "start_time": "2022-01-17T15:01:08.759Z"
      },
      {
        "duration": 7,
        "start_time": "2022-01-17T15:01:08.789Z"
      },
      {
        "duration": 29,
        "start_time": "2022-01-17T15:01:08.798Z"
      },
      {
        "duration": 36,
        "start_time": "2022-01-17T15:01:08.829Z"
      },
      {
        "duration": 16,
        "start_time": "2022-01-17T15:01:08.867Z"
      },
      {
        "duration": 382,
        "start_time": "2022-01-17T15:01:08.887Z"
      },
      {
        "duration": 8,
        "start_time": "2022-01-17T15:01:09.271Z"
      },
      {
        "duration": 6,
        "start_time": "2022-01-17T15:01:09.281Z"
      },
      {
        "duration": 12,
        "start_time": "2022-01-17T15:01:09.288Z"
      },
      {
        "duration": 94,
        "start_time": "2022-01-17T15:01:09.301Z"
      },
      {
        "duration": 1257,
        "start_time": "2022-01-17T15:01:09.396Z"
      },
      {
        "duration": 5,
        "start_time": "2022-01-17T15:01:10.654Z"
      },
      {
        "duration": 11,
        "start_time": "2022-01-17T15:01:10.661Z"
      },
      {
        "duration": 10,
        "start_time": "2022-01-17T15:01:10.673Z"
      },
      {
        "duration": 9,
        "start_time": "2022-01-17T15:01:10.684Z"
      },
      {
        "duration": 35,
        "start_time": "2022-01-17T15:01:10.694Z"
      },
      {
        "duration": 7,
        "start_time": "2022-01-17T15:01:10.731Z"
      },
      {
        "duration": 6,
        "start_time": "2022-01-17T15:09:29.558Z"
      },
      {
        "duration": 5,
        "start_time": "2022-01-17T15:19:53.109Z"
      },
      {
        "duration": 4,
        "start_time": "2022-01-17T15:21:05.307Z"
      },
      {
        "duration": 6,
        "start_time": "2022-01-17T15:21:21.401Z"
      },
      {
        "duration": 6,
        "start_time": "2022-01-17T15:21:33.296Z"
      },
      {
        "duration": 9,
        "start_time": "2022-01-17T15:28:41.685Z"
      },
      {
        "duration": 3,
        "start_time": "2022-01-17T15:29:18.719Z"
      },
      {
        "duration": 3,
        "start_time": "2022-01-17T15:29:33.880Z"
      },
      {
        "duration": 4,
        "start_time": "2022-01-17T15:29:40.802Z"
      },
      {
        "duration": 7,
        "start_time": "2022-01-17T15:32:15.140Z"
      },
      {
        "duration": 13,
        "start_time": "2022-01-17T15:32:27.928Z"
      },
      {
        "duration": 16,
        "start_time": "2022-01-17T15:32:36.724Z"
      },
      {
        "duration": 419,
        "start_time": "2022-01-17T15:39:38.810Z"
      },
      {
        "duration": 402,
        "start_time": "2022-01-17T15:39:54.794Z"
      },
      {
        "duration": 479,
        "start_time": "2022-01-17T15:41:06.401Z"
      },
      {
        "duration": 396,
        "start_time": "2022-01-17T15:41:34.510Z"
      },
      {
        "duration": 500,
        "start_time": "2022-01-17T15:41:54.141Z"
      },
      {
        "duration": 391,
        "start_time": "2022-01-17T15:44:45.320Z"
      },
      {
        "duration": 28,
        "start_time": "2022-01-17T15:45:45.400Z"
      },
      {
        "duration": 118,
        "start_time": "2022-01-17T16:46:00.127Z"
      },
      {
        "duration": 461,
        "start_time": "2022-01-17T16:46:24.476Z"
      },
      {
        "duration": 337,
        "start_time": "2022-01-17T16:48:04.871Z"
      },
      {
        "duration": 345,
        "start_time": "2022-01-17T16:48:53.023Z"
      },
      {
        "duration": 325,
        "start_time": "2022-01-17T16:49:14.621Z"
      },
      {
        "duration": 334,
        "start_time": "2022-01-17T16:51:08.646Z"
      },
      {
        "duration": 12,
        "start_time": "2022-01-17T16:52:42.634Z"
      },
      {
        "duration": 9,
        "start_time": "2022-01-17T16:53:04.893Z"
      },
      {
        "duration": 6,
        "start_time": "2022-01-17T16:53:24.675Z"
      },
      {
        "duration": 5,
        "start_time": "2022-01-17T16:53:47.878Z"
      },
      {
        "duration": 12,
        "start_time": "2022-01-17T16:54:12.653Z"
      },
      {
        "duration": 345,
        "start_time": "2022-01-17T16:54:40.092Z"
      },
      {
        "duration": 117,
        "start_time": "2022-01-17T16:54:56.793Z"
      },
      {
        "duration": 11,
        "start_time": "2022-01-17T16:55:03.524Z"
      },
      {
        "duration": 11,
        "start_time": "2022-01-17T16:58:18.517Z"
      },
      {
        "duration": 10,
        "start_time": "2022-01-17T16:58:53.278Z"
      },
      {
        "duration": 10,
        "start_time": "2022-01-17T17:00:06.838Z"
      },
      {
        "duration": 10,
        "start_time": "2022-01-17T17:00:46.891Z"
      },
      {
        "duration": 28,
        "start_time": "2022-01-17T17:03:22.930Z"
      },
      {
        "duration": 23,
        "start_time": "2022-01-17T17:04:58.588Z"
      },
      {
        "duration": 1387,
        "start_time": "2022-01-17T20:19:35.064Z"
      },
      {
        "duration": 49,
        "start_time": "2022-01-17T20:19:36.452Z"
      },
      {
        "duration": 8,
        "start_time": "2022-01-17T20:19:36.503Z"
      },
      {
        "duration": 10,
        "start_time": "2022-01-17T20:19:36.512Z"
      },
      {
        "duration": 8,
        "start_time": "2022-01-17T20:19:36.523Z"
      },
      {
        "duration": 7,
        "start_time": "2022-01-17T20:19:36.532Z"
      },
      {
        "duration": 18,
        "start_time": "2022-01-17T20:19:36.540Z"
      },
      {
        "duration": 6,
        "start_time": "2022-01-17T20:19:36.560Z"
      },
      {
        "duration": 21,
        "start_time": "2022-01-17T20:19:36.568Z"
      },
      {
        "duration": 7,
        "start_time": "2022-01-17T20:19:36.590Z"
      },
      {
        "duration": 33,
        "start_time": "2022-01-17T20:19:36.598Z"
      },
      {
        "duration": 8,
        "start_time": "2022-01-17T20:19:36.633Z"
      },
      {
        "duration": 12,
        "start_time": "2022-01-17T20:19:36.643Z"
      },
      {
        "duration": 201,
        "start_time": "2022-01-17T20:19:36.657Z"
      },
      {
        "duration": 23,
        "start_time": "2022-01-17T20:19:36.860Z"
      },
      {
        "duration": 98,
        "start_time": "2022-01-17T20:19:36.884Z"
      },
      {
        "duration": 6,
        "start_time": "2022-01-17T20:19:36.984Z"
      },
      {
        "duration": 202,
        "start_time": "2022-01-17T20:19:36.991Z"
      },
      {
        "duration": 217,
        "start_time": "2022-01-17T20:19:37.194Z"
      },
      {
        "duration": 157,
        "start_time": "2022-01-17T20:19:37.413Z"
      },
      {
        "duration": 9,
        "start_time": "2022-01-17T20:19:37.571Z"
      },
      {
        "duration": 346,
        "start_time": "2022-01-17T20:19:37.582Z"
      },
      {
        "duration": 26,
        "start_time": "2022-01-17T20:19:37.931Z"
      },
      {
        "duration": 6,
        "start_time": "2022-01-17T20:19:37.959Z"
      },
      {
        "duration": 5,
        "start_time": "2022-01-17T20:19:37.967Z"
      },
      {
        "duration": 22,
        "start_time": "2022-01-17T20:19:37.973Z"
      },
      {
        "duration": 31,
        "start_time": "2022-01-17T20:19:37.997Z"
      },
      {
        "duration": 366,
        "start_time": "2022-01-17T20:19:38.029Z"
      },
      {
        "duration": 9,
        "start_time": "2022-01-17T20:19:38.396Z"
      },
      {
        "duration": 9,
        "start_time": "2022-01-17T20:19:38.406Z"
      },
      {
        "duration": 10,
        "start_time": "2022-01-17T20:19:38.427Z"
      },
      {
        "duration": 88,
        "start_time": "2022-01-17T20:19:38.438Z"
      },
      {
        "duration": 1105,
        "start_time": "2022-01-17T20:19:38.528Z"
      },
      {
        "duration": 5,
        "start_time": "2022-01-17T20:19:39.634Z"
      },
      {
        "duration": 9,
        "start_time": "2022-01-17T20:19:39.641Z"
      },
      {
        "duration": 9,
        "start_time": "2022-01-17T20:19:39.651Z"
      },
      {
        "duration": 6,
        "start_time": "2022-01-17T20:19:39.661Z"
      },
      {
        "duration": 5,
        "start_time": "2022-01-17T20:19:39.669Z"
      },
      {
        "duration": 5,
        "start_time": "2022-01-17T20:19:39.676Z"
      },
      {
        "duration": 16,
        "start_time": "2022-01-17T20:19:39.682Z"
      },
      {
        "duration": 408,
        "start_time": "2022-01-17T20:19:39.727Z"
      },
      {
        "duration": 26,
        "start_time": "2022-01-17T20:19:40.137Z"
      },
      {
        "duration": 2024,
        "start_time": "2022-01-18T05:45:43.564Z"
      },
      {
        "duration": 68,
        "start_time": "2022-01-18T05:45:45.590Z"
      },
      {
        "duration": 12,
        "start_time": "2022-01-18T05:45:45.661Z"
      },
      {
        "duration": 16,
        "start_time": "2022-01-18T05:45:45.678Z"
      },
      {
        "duration": 8,
        "start_time": "2022-01-18T05:45:45.724Z"
      },
      {
        "duration": 11,
        "start_time": "2022-01-18T05:45:45.735Z"
      },
      {
        "duration": 24,
        "start_time": "2022-01-18T05:45:45.749Z"
      },
      {
        "duration": 9,
        "start_time": "2022-01-18T05:45:45.776Z"
      },
      {
        "duration": 63,
        "start_time": "2022-01-18T05:45:45.789Z"
      },
      {
        "duration": 10,
        "start_time": "2022-01-18T05:45:45.855Z"
      },
      {
        "duration": 20,
        "start_time": "2022-01-18T05:45:45.867Z"
      },
      {
        "duration": 34,
        "start_time": "2022-01-18T05:45:45.889Z"
      },
      {
        "duration": 19,
        "start_time": "2022-01-18T05:45:45.925Z"
      },
      {
        "duration": 346,
        "start_time": "2022-01-18T05:45:45.947Z"
      },
      {
        "duration": 49,
        "start_time": "2022-01-18T05:45:46.296Z"
      },
      {
        "duration": 157,
        "start_time": "2022-01-18T05:45:46.348Z"
      },
      {
        "duration": 18,
        "start_time": "2022-01-18T05:45:46.507Z"
      },
      {
        "duration": 335,
        "start_time": "2022-01-18T05:45:46.528Z"
      },
      {
        "duration": 380,
        "start_time": "2022-01-18T05:45:46.866Z"
      },
      {
        "duration": 280,
        "start_time": "2022-01-18T05:45:47.249Z"
      },
      {
        "duration": 14,
        "start_time": "2022-01-18T05:45:47.531Z"
      },
      {
        "duration": 626,
        "start_time": "2022-01-18T05:45:47.547Z"
      },
      {
        "duration": 63,
        "start_time": "2022-01-18T05:45:48.175Z"
      },
      {
        "duration": 14,
        "start_time": "2022-01-18T05:45:48.240Z"
      },
      {
        "duration": 6,
        "start_time": "2022-01-18T05:45:48.256Z"
      },
      {
        "duration": 63,
        "start_time": "2022-01-18T05:45:48.264Z"
      },
      {
        "duration": 17,
        "start_time": "2022-01-18T05:45:48.332Z"
      },
      {
        "duration": 591,
        "start_time": "2022-01-18T05:45:48.352Z"
      },
      {
        "duration": 13,
        "start_time": "2022-01-18T05:45:48.946Z"
      },
      {
        "duration": 9,
        "start_time": "2022-01-18T05:45:48.961Z"
      },
      {
        "duration": 16,
        "start_time": "2022-01-18T05:45:48.973Z"
      },
      {
        "duration": 156,
        "start_time": "2022-01-18T05:45:48.991Z"
      },
      {
        "duration": 1341,
        "start_time": "2022-01-18T05:45:49.149Z"
      },
      {
        "duration": 8,
        "start_time": "2022-01-18T05:45:50.493Z"
      },
      {
        "duration": 24,
        "start_time": "2022-01-18T05:45:50.503Z"
      },
      {
        "duration": 20,
        "start_time": "2022-01-18T05:45:50.530Z"
      },
      {
        "duration": 9,
        "start_time": "2022-01-18T05:45:50.553Z"
      },
      {
        "duration": 9,
        "start_time": "2022-01-18T05:45:50.564Z"
      },
      {
        "duration": 6,
        "start_time": "2022-01-18T05:45:50.575Z"
      },
      {
        "duration": 57,
        "start_time": "2022-01-18T05:45:50.584Z"
      },
      {
        "duration": 717,
        "start_time": "2022-01-18T05:45:50.643Z"
      },
      {
        "duration": 71,
        "start_time": "2022-01-18T05:45:51.362Z"
      },
      {
        "duration": 2156,
        "start_time": "2022-01-18T09:54:30.651Z"
      },
      {
        "duration": 73,
        "start_time": "2022-01-18T09:54:32.810Z"
      },
      {
        "duration": 13,
        "start_time": "2022-01-18T09:54:32.886Z"
      },
      {
        "duration": 42,
        "start_time": "2022-01-18T09:54:32.901Z"
      },
      {
        "duration": 31,
        "start_time": "2022-01-18T09:54:32.946Z"
      },
      {
        "duration": 20,
        "start_time": "2022-01-18T09:54:32.979Z"
      },
      {
        "duration": 36,
        "start_time": "2022-01-18T09:54:33.001Z"
      },
      {
        "duration": 10,
        "start_time": "2022-01-18T09:54:33.040Z"
      },
      {
        "duration": 30,
        "start_time": "2022-01-18T09:54:33.052Z"
      },
      {
        "duration": 7,
        "start_time": "2022-01-18T09:54:33.085Z"
      },
      {
        "duration": 52,
        "start_time": "2022-01-18T09:54:33.094Z"
      },
      {
        "duration": 10,
        "start_time": "2022-01-18T09:54:33.148Z"
      },
      {
        "duration": 23,
        "start_time": "2022-01-18T09:54:33.161Z"
      },
      {
        "duration": 415,
        "start_time": "2022-01-18T09:54:33.187Z"
      },
      {
        "duration": 56,
        "start_time": "2022-01-18T09:54:33.605Z"
      },
      {
        "duration": 175,
        "start_time": "2022-01-18T09:54:33.664Z"
      },
      {
        "duration": 11,
        "start_time": "2022-01-18T09:54:33.841Z"
      },
      {
        "duration": 391,
        "start_time": "2022-01-18T09:54:33.855Z"
      },
      {
        "duration": 14,
        "start_time": "2022-01-18T09:54:45.452Z"
      },
      {
        "duration": 11,
        "start_time": "2022-01-18T09:59:00.752Z"
      },
      {
        "duration": 11,
        "start_time": "2022-01-18T09:59:07.840Z"
      },
      {
        "duration": 12,
        "start_time": "2022-01-18T10:01:20.384Z"
      },
      {
        "duration": 11,
        "start_time": "2022-01-18T10:03:41.819Z"
      },
      {
        "duration": 20,
        "start_time": "2022-01-18T10:05:23.664Z"
      },
      {
        "duration": 9,
        "start_time": "2022-01-18T10:05:47.394Z"
      },
      {
        "duration": 9,
        "start_time": "2022-01-18T10:07:31.740Z"
      },
      {
        "duration": 487,
        "start_time": "2022-01-18T10:07:43.961Z"
      },
      {
        "duration": 10,
        "start_time": "2022-01-18T10:07:49.944Z"
      },
      {
        "duration": 108,
        "start_time": "2022-01-18T10:08:15.570Z"
      },
      {
        "duration": 21,
        "start_time": "2022-01-18T10:08:36.323Z"
      },
      {
        "duration": 10,
        "start_time": "2022-01-18T10:09:33.259Z"
      },
      {
        "duration": 17,
        "start_time": "2022-01-18T10:10:37.499Z"
      },
      {
        "duration": 15,
        "start_time": "2022-01-18T10:10:48.763Z"
      },
      {
        "duration": 8,
        "start_time": "2022-01-18T10:13:01.818Z"
      },
      {
        "duration": 12,
        "start_time": "2022-01-18T10:13:08.092Z"
      },
      {
        "duration": 15,
        "start_time": "2022-01-18T10:13:14.106Z"
      },
      {
        "duration": 5,
        "start_time": "2022-01-18T10:13:36.245Z"
      },
      {
        "duration": 66,
        "start_time": "2022-01-18T10:13:36.252Z"
      },
      {
        "duration": 16,
        "start_time": "2022-01-18T10:13:36.321Z"
      },
      {
        "duration": 21,
        "start_time": "2022-01-18T10:13:36.341Z"
      },
      {
        "duration": 9,
        "start_time": "2022-01-18T10:13:36.364Z"
      },
      {
        "duration": 14,
        "start_time": "2022-01-18T10:13:36.375Z"
      },
      {
        "duration": 69,
        "start_time": "2022-01-18T10:13:36.391Z"
      },
      {
        "duration": 12,
        "start_time": "2022-01-18T10:13:36.463Z"
      },
      {
        "duration": 78,
        "start_time": "2022-01-18T10:13:36.481Z"
      },
      {
        "duration": 7,
        "start_time": "2022-01-18T10:13:36.562Z"
      },
      {
        "duration": 22,
        "start_time": "2022-01-18T10:13:36.572Z"
      },
      {
        "duration": 35,
        "start_time": "2022-01-18T10:13:36.597Z"
      },
      {
        "duration": 28,
        "start_time": "2022-01-18T10:13:36.636Z"
      },
      {
        "duration": 390,
        "start_time": "2022-01-18T10:13:36.666Z"
      },
      {
        "duration": 35,
        "start_time": "2022-01-18T10:13:37.058Z"
      },
      {
        "duration": 200,
        "start_time": "2022-01-18T10:13:37.095Z"
      },
      {
        "duration": 9,
        "start_time": "2022-01-18T10:13:37.298Z"
      },
      {
        "duration": 380,
        "start_time": "2022-01-18T10:13:37.309Z"
      },
      {
        "duration": 16,
        "start_time": "2022-01-18T10:13:37.691Z"
      },
      {
        "duration": 27,
        "start_time": "2022-01-18T10:13:37.709Z"
      },
      {
        "duration": 14,
        "start_time": "2022-01-18T10:13:45.667Z"
      },
      {
        "duration": 361,
        "start_time": "2022-01-18T10:18:35.878Z"
      },
      {
        "duration": 12,
        "start_time": "2022-01-18T10:18:56.374Z"
      },
      {
        "duration": 19,
        "start_time": "2022-01-18T10:19:05.957Z"
      },
      {
        "duration": 357,
        "start_time": "2022-01-18T10:23:07.006Z"
      },
      {
        "duration": 386,
        "start_time": "2022-01-18T10:24:24.381Z"
      },
      {
        "duration": 2263,
        "start_time": "2022-01-18T10:34:15.954Z"
      },
      {
        "duration": 375,
        "start_time": "2022-01-18T10:34:25.115Z"
      },
      {
        "duration": 4,
        "start_time": "2022-01-18T10:34:45.201Z"
      },
      {
        "duration": 71,
        "start_time": "2022-01-18T10:34:45.211Z"
      },
      {
        "duration": 10,
        "start_time": "2022-01-18T10:34:45.285Z"
      },
      {
        "duration": 20,
        "start_time": "2022-01-18T10:34:45.323Z"
      },
      {
        "duration": 14,
        "start_time": "2022-01-18T10:34:45.347Z"
      },
      {
        "duration": 16,
        "start_time": "2022-01-18T10:34:45.364Z"
      },
      {
        "duration": 53,
        "start_time": "2022-01-18T10:34:45.382Z"
      },
      {
        "duration": 10,
        "start_time": "2022-01-18T10:34:45.438Z"
      },
      {
        "duration": 29,
        "start_time": "2022-01-18T10:34:45.452Z"
      },
      {
        "duration": 16,
        "start_time": "2022-01-18T10:34:45.484Z"
      },
      {
        "duration": 43,
        "start_time": "2022-01-18T10:34:45.502Z"
      },
      {
        "duration": 15,
        "start_time": "2022-01-18T10:34:45.548Z"
      },
      {
        "duration": 18,
        "start_time": "2022-01-18T10:34:45.565Z"
      },
      {
        "duration": 391,
        "start_time": "2022-01-18T10:34:45.585Z"
      },
      {
        "duration": 47,
        "start_time": "2022-01-18T10:34:45.978Z"
      },
      {
        "duration": 167,
        "start_time": "2022-01-18T10:34:46.028Z"
      },
      {
        "duration": 8,
        "start_time": "2022-01-18T10:34:46.198Z"
      },
      {
        "duration": 388,
        "start_time": "2022-01-18T10:34:46.208Z"
      },
      {
        "duration": 28,
        "start_time": "2022-01-18T10:34:46.598Z"
      },
      {
        "duration": 21,
        "start_time": "2022-01-18T10:34:46.630Z"
      },
      {
        "duration": 394,
        "start_time": "2022-01-18T10:34:46.653Z"
      },
      {
        "duration": 405,
        "start_time": "2022-01-18T10:34:47.050Z"
      },
      {
        "duration": 297,
        "start_time": "2022-01-18T10:34:47.457Z"
      },
      {
        "duration": 16,
        "start_time": "2022-01-18T10:34:47.759Z"
      },
      {
        "duration": 297,
        "start_time": "2022-01-18T10:34:53.688Z"
      },
      {
        "duration": 348,
        "start_time": "2022-01-18T10:35:01.441Z"
      },
      {
        "duration": 314,
        "start_time": "2022-01-18T10:35:44.569Z"
      },
      {
        "duration": 312,
        "start_time": "2022-01-18T10:35:51.770Z"
      },
      {
        "duration": 1245,
        "start_time": "2022-01-18T10:36:02.665Z"
      },
      {
        "duration": 319,
        "start_time": "2022-01-18T10:36:55.542Z"
      },
      {
        "duration": 4,
        "start_time": "2022-01-18T10:43:40.664Z"
      },
      {
        "duration": 80,
        "start_time": "2022-01-18T10:43:40.670Z"
      },
      {
        "duration": 12,
        "start_time": "2022-01-18T10:43:40.753Z"
      },
      {
        "duration": 24,
        "start_time": "2022-01-18T10:43:40.768Z"
      },
      {
        "duration": 39,
        "start_time": "2022-01-18T10:43:40.794Z"
      },
      {
        "duration": 14,
        "start_time": "2022-01-18T10:43:40.838Z"
      },
      {
        "duration": 26,
        "start_time": "2022-01-18T10:43:40.857Z"
      },
      {
        "duration": 39,
        "start_time": "2022-01-18T10:43:40.886Z"
      },
      {
        "duration": 37,
        "start_time": "2022-01-18T10:43:40.928Z"
      },
      {
        "duration": 6,
        "start_time": "2022-01-18T10:43:40.968Z"
      },
      {
        "duration": 49,
        "start_time": "2022-01-18T10:43:40.976Z"
      },
      {
        "duration": 13,
        "start_time": "2022-01-18T10:43:41.028Z"
      },
      {
        "duration": 18,
        "start_time": "2022-01-18T10:43:41.043Z"
      },
      {
        "duration": 373,
        "start_time": "2022-01-18T10:43:41.064Z"
      },
      {
        "duration": 42,
        "start_time": "2022-01-18T10:43:41.440Z"
      },
      {
        "duration": 186,
        "start_time": "2022-01-18T10:43:41.484Z"
      },
      {
        "duration": 9,
        "start_time": "2022-01-18T10:43:41.672Z"
      },
      {
        "duration": 367,
        "start_time": "2022-01-18T10:43:41.683Z"
      },
      {
        "duration": 17,
        "start_time": "2022-01-18T10:43:42.054Z"
      },
      {
        "duration": 19,
        "start_time": "2022-01-18T10:43:42.074Z"
      },
      {
        "duration": 398,
        "start_time": "2022-01-18T10:43:42.128Z"
      },
      {
        "duration": 424,
        "start_time": "2022-01-18T10:43:42.530Z"
      },
      {
        "duration": 439,
        "start_time": "2022-01-18T10:43:42.957Z"
      },
      {
        "duration": 28,
        "start_time": "2022-01-18T10:43:43.399Z"
      },
      {
        "duration": 1686,
        "start_time": "2022-01-18T10:43:46.498Z"
      },
      {
        "duration": 335,
        "start_time": "2022-01-18T10:47:49.870Z"
      },
      {
        "duration": 45,
        "start_time": "2022-01-18T10:47:57.716Z"
      },
      {
        "duration": 1827,
        "start_time": "2022-01-18T10:48:18.206Z"
      },
      {
        "duration": 1730,
        "start_time": "2022-01-18T10:49:54.710Z"
      },
      {
        "duration": 1458,
        "start_time": "2022-01-18T14:08:01.604Z"
      },
      {
        "duration": 51,
        "start_time": "2022-01-18T14:08:03.063Z"
      },
      {
        "duration": 8,
        "start_time": "2022-01-18T14:08:03.116Z"
      },
      {
        "duration": 10,
        "start_time": "2022-01-18T14:08:03.126Z"
      },
      {
        "duration": 6,
        "start_time": "2022-01-18T14:08:03.137Z"
      },
      {
        "duration": 6,
        "start_time": "2022-01-18T14:08:03.144Z"
      },
      {
        "duration": 24,
        "start_time": "2022-01-18T14:08:03.152Z"
      },
      {
        "duration": 20,
        "start_time": "2022-01-18T14:08:03.179Z"
      },
      {
        "duration": 5,
        "start_time": "2022-01-18T14:08:03.200Z"
      },
      {
        "duration": 13,
        "start_time": "2022-01-18T14:08:03.206Z"
      },
      {
        "duration": 10,
        "start_time": "2022-01-18T14:08:03.221Z"
      },
      {
        "duration": 11,
        "start_time": "2022-01-18T14:08:03.232Z"
      },
      {
        "duration": 217,
        "start_time": "2022-01-18T14:08:03.244Z"
      },
      {
        "duration": 42,
        "start_time": "2022-01-18T14:08:03.463Z"
      },
      {
        "duration": 4,
        "start_time": "2022-01-18T15:04:10.851Z"
      },
      {
        "duration": 51,
        "start_time": "2022-01-18T15:04:10.857Z"
      },
      {
        "duration": 8,
        "start_time": "2022-01-18T15:04:10.910Z"
      },
      {
        "duration": 11,
        "start_time": "2022-01-18T15:04:10.920Z"
      },
      {
        "duration": 6,
        "start_time": "2022-01-18T15:04:10.932Z"
      },
      {
        "duration": 9,
        "start_time": "2022-01-18T15:04:10.940Z"
      },
      {
        "duration": 7,
        "start_time": "2022-01-18T15:04:10.972Z"
      },
      {
        "duration": 20,
        "start_time": "2022-01-18T15:04:10.981Z"
      },
      {
        "duration": 4,
        "start_time": "2022-01-18T15:04:11.003Z"
      },
      {
        "duration": 12,
        "start_time": "2022-01-18T15:04:11.009Z"
      },
      {
        "duration": 9,
        "start_time": "2022-01-18T15:04:11.022Z"
      },
      {
        "duration": 40,
        "start_time": "2022-01-18T15:04:11.032Z"
      },
      {
        "duration": 192,
        "start_time": "2022-01-18T15:04:11.073Z"
      },
      {
        "duration": 42,
        "start_time": "2022-01-18T15:04:11.271Z"
      },
      {
        "duration": 104,
        "start_time": "2022-01-18T15:04:11.314Z"
      },
      {
        "duration": 6,
        "start_time": "2022-01-18T15:04:11.420Z"
      },
      {
        "duration": 203,
        "start_time": "2022-01-18T15:04:11.427Z"
      },
      {
        "duration": 11,
        "start_time": "2022-01-18T15:04:11.632Z"
      },
      {
        "duration": 12,
        "start_time": "2022-01-18T15:04:11.644Z"
      },
      {
        "duration": 218,
        "start_time": "2022-01-18T15:04:11.671Z"
      },
      {
        "duration": 221,
        "start_time": "2022-01-18T15:04:11.891Z"
      },
      {
        "duration": 233,
        "start_time": "2022-01-18T15:04:12.113Z"
      },
      {
        "duration": 9,
        "start_time": "2022-01-18T15:04:12.347Z"
      },
      {
        "duration": 983,
        "start_time": "2022-01-18T15:04:12.357Z"
      },
      {
        "duration": 31,
        "start_time": "2022-01-18T15:04:13.341Z"
      },
      {
        "duration": 7,
        "start_time": "2022-01-18T15:04:13.374Z"
      },
      {
        "duration": 16,
        "start_time": "2022-01-18T15:04:13.383Z"
      },
      {
        "duration": 42,
        "start_time": "2022-01-18T15:04:13.401Z"
      },
      {
        "duration": 10,
        "start_time": "2022-01-18T15:04:13.445Z"
      },
      {
        "duration": 309,
        "start_time": "2022-01-18T15:04:13.457Z"
      },
      {
        "duration": 9,
        "start_time": "2022-01-18T15:04:23.579Z"
      },
      {
        "duration": 6,
        "start_time": "2022-01-18T15:04:30.021Z"
      },
      {
        "duration": 397,
        "start_time": "2022-01-18T15:06:19.112Z"
      },
      {
        "duration": 2,
        "start_time": "2022-01-18T15:06:28.235Z"
      },
      {
        "duration": 45,
        "start_time": "2022-01-18T15:06:28.245Z"
      },
      {
        "duration": 7,
        "start_time": "2022-01-18T15:06:28.292Z"
      },
      {
        "duration": 11,
        "start_time": "2022-01-18T15:06:28.300Z"
      },
      {
        "duration": 6,
        "start_time": "2022-01-18T15:06:28.312Z"
      },
      {
        "duration": 7,
        "start_time": "2022-01-18T15:06:28.319Z"
      },
      {
        "duration": 8,
        "start_time": "2022-01-18T15:06:28.327Z"
      },
      {
        "duration": 49,
        "start_time": "2022-01-18T15:06:28.336Z"
      },
      {
        "duration": 5,
        "start_time": "2022-01-18T15:06:28.387Z"
      },
      {
        "duration": 14,
        "start_time": "2022-01-18T15:06:28.394Z"
      },
      {
        "duration": 7,
        "start_time": "2022-01-18T15:06:28.409Z"
      },
      {
        "duration": 13,
        "start_time": "2022-01-18T15:06:28.417Z"
      },
      {
        "duration": 223,
        "start_time": "2022-01-18T15:06:28.431Z"
      },
      {
        "duration": 55,
        "start_time": "2022-01-18T15:06:28.655Z"
      },
      {
        "duration": 92,
        "start_time": "2022-01-18T15:06:28.712Z"
      },
      {
        "duration": 6,
        "start_time": "2022-01-18T15:06:28.806Z"
      },
      {
        "duration": 203,
        "start_time": "2022-01-18T15:06:28.814Z"
      },
      {
        "duration": 11,
        "start_time": "2022-01-18T15:06:29.019Z"
      },
      {
        "duration": 11,
        "start_time": "2022-01-18T15:06:29.032Z"
      },
      {
        "duration": 214,
        "start_time": "2022-01-18T15:06:29.045Z"
      },
      {
        "duration": 216,
        "start_time": "2022-01-18T15:06:29.261Z"
      },
      {
        "duration": 173,
        "start_time": "2022-01-18T15:06:29.480Z"
      },
      {
        "duration": 17,
        "start_time": "2022-01-18T15:06:29.655Z"
      },
      {
        "duration": 972,
        "start_time": "2022-01-18T15:06:29.674Z"
      },
      {
        "duration": 35,
        "start_time": "2022-01-18T15:06:30.648Z"
      },
      {
        "duration": 8,
        "start_time": "2022-01-18T15:06:30.685Z"
      },
      {
        "duration": 20,
        "start_time": "2022-01-18T15:06:30.695Z"
      },
      {
        "duration": 25,
        "start_time": "2022-01-18T15:06:30.716Z"
      },
      {
        "duration": 11,
        "start_time": "2022-01-18T15:06:30.742Z"
      },
      {
        "duration": 304,
        "start_time": "2022-01-18T15:06:30.755Z"
      },
      {
        "duration": 14,
        "start_time": "2022-01-18T15:06:31.061Z"
      },
      {
        "duration": 10,
        "start_time": "2022-01-18T15:06:31.078Z"
      },
      {
        "duration": 171,
        "start_time": "2022-01-18T15:06:31.089Z"
      },
      {
        "duration": 1356,
        "start_time": "2022-01-18T15:06:31.261Z"
      },
      {
        "duration": 6,
        "start_time": "2022-01-18T15:06:32.619Z"
      },
      {
        "duration": 6,
        "start_time": "2022-01-18T15:06:38.191Z"
      },
      {
        "duration": 12,
        "start_time": "2022-01-18T15:06:47.504Z"
      },
      {
        "duration": 3,
        "start_time": "2022-01-18T15:11:17.478Z"
      },
      {
        "duration": 59,
        "start_time": "2022-01-18T15:11:17.484Z"
      },
      {
        "duration": 8,
        "start_time": "2022-01-18T15:11:17.545Z"
      },
      {
        "duration": 17,
        "start_time": "2022-01-18T15:11:17.555Z"
      },
      {
        "duration": 17,
        "start_time": "2022-01-18T15:11:17.573Z"
      },
      {
        "duration": 15,
        "start_time": "2022-01-18T15:11:17.592Z"
      },
      {
        "duration": 10,
        "start_time": "2022-01-18T15:11:17.609Z"
      },
      {
        "duration": 28,
        "start_time": "2022-01-18T15:11:17.620Z"
      },
      {
        "duration": 4,
        "start_time": "2022-01-18T15:11:17.651Z"
      },
      {
        "duration": 18,
        "start_time": "2022-01-18T15:11:17.656Z"
      },
      {
        "duration": 6,
        "start_time": "2022-01-18T15:11:17.675Z"
      },
      {
        "duration": 12,
        "start_time": "2022-01-18T15:11:17.683Z"
      },
      {
        "duration": 215,
        "start_time": "2022-01-18T15:11:17.697Z"
      },
      {
        "duration": 44,
        "start_time": "2022-01-18T15:11:17.914Z"
      },
      {
        "duration": 84,
        "start_time": "2022-01-18T15:11:17.971Z"
      },
      {
        "duration": 6,
        "start_time": "2022-01-18T15:11:18.056Z"
      },
      {
        "duration": 190,
        "start_time": "2022-01-18T15:11:18.072Z"
      },
      {
        "duration": 14,
        "start_time": "2022-01-18T15:11:18.263Z"
      },
      {
        "duration": 20,
        "start_time": "2022-01-18T15:11:18.279Z"
      },
      {
        "duration": 215,
        "start_time": "2022-01-18T15:11:18.301Z"
      },
      {
        "duration": 210,
        "start_time": "2022-01-18T15:11:18.517Z"
      },
      {
        "duration": 167,
        "start_time": "2022-01-18T15:11:18.730Z"
      },
      {
        "duration": 10,
        "start_time": "2022-01-18T15:11:18.898Z"
      },
      {
        "duration": 958,
        "start_time": "2022-01-18T15:11:18.909Z"
      },
      {
        "duration": 25,
        "start_time": "2022-01-18T15:11:19.872Z"
      },
      {
        "duration": 7,
        "start_time": "2022-01-18T15:11:19.899Z"
      },
      {
        "duration": 5,
        "start_time": "2022-01-18T15:11:19.907Z"
      },
      {
        "duration": 23,
        "start_time": "2022-01-18T15:11:19.913Z"
      },
      {
        "duration": 9,
        "start_time": "2022-01-18T15:11:19.938Z"
      },
      {
        "duration": 300,
        "start_time": "2022-01-18T15:11:19.971Z"
      },
      {
        "duration": 9,
        "start_time": "2022-01-18T15:11:20.273Z"
      },
      {
        "duration": 7,
        "start_time": "2022-01-18T15:11:20.283Z"
      },
      {
        "duration": 4,
        "start_time": "2022-01-18T15:11:20.292Z"
      },
      {
        "duration": 1203,
        "start_time": "2022-01-18T15:11:20.297Z"
      },
      {
        "duration": 7,
        "start_time": "2022-01-18T15:11:21.502Z"
      },
      {
        "duration": 16,
        "start_time": "2022-01-18T15:11:21.511Z"
      },
      {
        "duration": 319,
        "start_time": "2022-01-18T15:15:18.343Z"
      },
      {
        "duration": 292,
        "start_time": "2022-01-18T15:15:39.739Z"
      },
      {
        "duration": 310,
        "start_time": "2022-01-18T15:16:47.289Z"
      },
      {
        "duration": 3,
        "start_time": "2022-01-18T15:17:07.051Z"
      },
      {
        "duration": 11,
        "start_time": "2022-01-18T15:17:11.278Z"
      },
      {
        "duration": 8,
        "start_time": "2022-01-18T15:17:38.726Z"
      },
      {
        "duration": 10,
        "start_time": "2022-01-18T15:19:54.056Z"
      },
      {
        "duration": 9,
        "start_time": "2022-01-18T15:20:21.290Z"
      },
      {
        "duration": 12,
        "start_time": "2022-01-18T15:22:09.830Z"
      },
      {
        "duration": 1885,
        "start_time": "2022-01-18T15:28:59.776Z"
      },
      {
        "duration": 53,
        "start_time": "2022-01-18T15:29:01.663Z"
      },
      {
        "duration": 7,
        "start_time": "2022-01-18T15:29:01.718Z"
      },
      {
        "duration": 11,
        "start_time": "2022-01-18T15:29:01.727Z"
      },
      {
        "duration": 10,
        "start_time": "2022-01-18T15:29:01.739Z"
      },
      {
        "duration": 17,
        "start_time": "2022-01-18T15:29:01.750Z"
      },
      {
        "duration": 11,
        "start_time": "2022-01-18T15:29:01.771Z"
      },
      {
        "duration": 32,
        "start_time": "2022-01-18T15:29:01.784Z"
      },
      {
        "duration": 4,
        "start_time": "2022-01-18T15:29:01.818Z"
      },
      {
        "duration": 16,
        "start_time": "2022-01-18T15:29:01.823Z"
      },
      {
        "duration": 9,
        "start_time": "2022-01-18T15:29:01.840Z"
      },
      {
        "duration": 34,
        "start_time": "2022-01-18T15:29:01.850Z"
      },
      {
        "duration": 200,
        "start_time": "2022-01-18T15:29:01.886Z"
      },
      {
        "duration": 52,
        "start_time": "2022-01-18T15:29:02.088Z"
      },
      {
        "duration": 104,
        "start_time": "2022-01-18T15:29:02.142Z"
      },
      {
        "duration": 6,
        "start_time": "2022-01-18T15:29:02.248Z"
      },
      {
        "duration": 201,
        "start_time": "2022-01-18T15:29:02.256Z"
      },
      {
        "duration": 15,
        "start_time": "2022-01-18T15:29:02.459Z"
      },
      {
        "duration": 16,
        "start_time": "2022-01-18T15:29:02.475Z"
      },
      {
        "duration": 228,
        "start_time": "2022-01-18T15:29:02.493Z"
      },
      {
        "duration": 229,
        "start_time": "2022-01-18T15:29:02.722Z"
      },
      {
        "duration": 170,
        "start_time": "2022-01-18T15:29:02.953Z"
      },
      {
        "duration": 9,
        "start_time": "2022-01-18T15:29:03.126Z"
      },
      {
        "duration": 1075,
        "start_time": "2022-01-18T15:29:03.137Z"
      },
      {
        "duration": 30,
        "start_time": "2022-01-18T15:29:04.214Z"
      },
      {
        "duration": 27,
        "start_time": "2022-01-18T15:29:04.246Z"
      },
      {
        "duration": 4,
        "start_time": "2022-01-18T15:29:04.274Z"
      },
      {
        "duration": 24,
        "start_time": "2022-01-18T15:29:04.280Z"
      },
      {
        "duration": 12,
        "start_time": "2022-01-18T15:29:04.306Z"
      },
      {
        "duration": 314,
        "start_time": "2022-01-18T15:29:04.320Z"
      },
      {
        "duration": 10,
        "start_time": "2022-01-18T15:29:04.635Z"
      },
      {
        "duration": 7,
        "start_time": "2022-01-18T15:29:04.646Z"
      },
      {
        "duration": 93,
        "start_time": "2022-01-18T15:29:04.655Z"
      },
      {
        "duration": 1580,
        "start_time": "2022-01-18T15:29:04.749Z"
      },
      {
        "duration": 3,
        "start_time": "2022-01-18T15:29:06.331Z"
      },
      {
        "duration": 12,
        "start_time": "2022-01-18T15:29:06.336Z"
      },
      {
        "duration": 23,
        "start_time": "2022-01-18T15:29:06.350Z"
      },
      {
        "duration": 7,
        "start_time": "2022-01-18T15:29:06.375Z"
      },
      {
        "duration": 5,
        "start_time": "2022-01-18T15:29:06.384Z"
      },
      {
        "duration": 6,
        "start_time": "2022-01-18T15:29:06.391Z"
      },
      {
        "duration": 5,
        "start_time": "2022-01-18T15:29:06.399Z"
      },
      {
        "duration": 6,
        "start_time": "2022-01-18T15:29:06.405Z"
      },
      {
        "duration": 19,
        "start_time": "2022-01-18T15:29:06.412Z"
      },
      {
        "duration": 447,
        "start_time": "2022-01-18T15:29:06.433Z"
      },
      {
        "duration": 29,
        "start_time": "2022-01-18T15:29:06.881Z"
      }
    ],
    "kernelspec": {
      "display_name": "Python 3 (ipykernel)",
      "language": "python",
      "name": "python3"
    },
    "language_info": {
      "codemirror_mode": {
        "name": "ipython",
        "version": 3
      },
      "file_extension": ".py",
      "mimetype": "text/x-python",
      "name": "python",
      "nbconvert_exporter": "python",
      "pygments_lexer": "ipython3",
      "version": "3.9.5"
    },
    "toc": {
      "base_numbering": 1,
      "nav_menu": {},
      "number_sections": true,
      "sideBar": true,
      "skip_h1_title": true,
      "title_cell": "Table of Contents",
      "title_sidebar": "Contents",
      "toc_cell": false,
      "toc_position": {},
      "toc_section_display": true,
      "toc_window_display": false
    },
    "colab": {
      "provenance": [],
      "collapsed_sections": []
    }
  },
  "nbformat": 4,
  "nbformat_minor": 0
}