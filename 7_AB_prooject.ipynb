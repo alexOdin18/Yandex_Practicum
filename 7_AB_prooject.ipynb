{
  "cells": [
    {
      "cell_type": "markdown",
      "metadata": {
        "id": "y9hdGdKDiKAQ"
      },
      "source": [
        "Цели проекта: \n",
        "1. Приоритизировать гипотизы по методам ICE и RICE.\n",
        "2. Проанализировать результаты A/B теста и сделать выводы относительно проведенного эксперемента."
      ]
    },
    {
      "cell_type": "markdown",
      "metadata": {
        "id": "dXFTZABFiKAR"
      },
      "source": [
        "Импортируем необходимые для работы библиотеки."
      ]
    },
    {
      "cell_type": "code",
      "execution_count": null,
      "metadata": {
        "id": "Rtsnhy6OiKAS"
      },
      "outputs": [],
      "source": [
        "import pandas as pd\n",
        "import numpy  as np\n",
        "import matplotlib.pyplot as plt\n",
        "from scipy import stats as st\n",
        "pd.options.display.float_format ='{:,.2f}'.format\n",
        "import warnings\n",
        "warnings.filterwarnings(\"ignore\", category=np.VisibleDeprecationWarning) \n",
        "pd.set_option('display.max_colwidth', 200)\n",
        "from pandas.plotting import register_matplotlib_converters\n",
        "register_matplotlib_converters()\n"
      ]
    },
    {
      "cell_type": "markdown",
      "metadata": {
        "id": "s3D03SK-iKAT"
      },
      "source": [
        "# Часть 1. Приоритизация гипотез."
      ]
    },
    {
      "cell_type": "markdown",
      "metadata": {
        "id": "vJNK0nPLiKAU"
      },
      "source": [
        "Загрузим файл и посмотрим на структуру таблицы."
      ]
    },
    {
      "cell_type": "code",
      "execution_count": null,
      "metadata": {
        "id": "9Mb_3f7fiKAW",
        "outputId": "b4ee2772-cda0-4317-a9fe-059ea37181e5"
      },
      "outputs": [
        {
          "data": {
            "text/html": [
              "<div>\n",
              "<style scoped>\n",
              "    .dataframe tbody tr th:only-of-type {\n",
              "        vertical-align: middle;\n",
              "    }\n",
              "\n",
              "    .dataframe tbody tr th {\n",
              "        vertical-align: top;\n",
              "    }\n",
              "\n",
              "    .dataframe thead th {\n",
              "        text-align: right;\n",
              "    }\n",
              "</style>\n",
              "<table border=\"1\" class=\"dataframe\">\n",
              "  <thead>\n",
              "    <tr style=\"text-align: right;\">\n",
              "      <th></th>\n",
              "      <th>Hypothesis</th>\n",
              "      <th>Reach</th>\n",
              "      <th>Impact</th>\n",
              "      <th>Confidence</th>\n",
              "      <th>Efforts</th>\n",
              "    </tr>\n",
              "  </thead>\n",
              "  <tbody>\n",
              "    <tr>\n",
              "      <td>0</td>\n",
              "      <td>Добавить два новых канала привлечения трафика, что позволит привлекать на 30% больше пользователей</td>\n",
              "      <td>3</td>\n",
              "      <td>10</td>\n",
              "      <td>8</td>\n",
              "      <td>6</td>\n",
              "    </tr>\n",
              "    <tr>\n",
              "      <td>1</td>\n",
              "      <td>Запустить собственную службу доставки, что сократит срок доставки заказов</td>\n",
              "      <td>2</td>\n",
              "      <td>5</td>\n",
              "      <td>4</td>\n",
              "      <td>10</td>\n",
              "    </tr>\n",
              "    <tr>\n",
              "      <td>2</td>\n",
              "      <td>Добавить блоки рекомендаций товаров на сайт интернет магазина, чтобы повысить конверсию и средний чек заказа</td>\n",
              "      <td>8</td>\n",
              "      <td>3</td>\n",
              "      <td>7</td>\n",
              "      <td>3</td>\n",
              "    </tr>\n",
              "    <tr>\n",
              "      <td>3</td>\n",
              "      <td>Изменить структура категорий, что увеличит конверсию, т.к. пользователи быстрее найдут нужный товар</td>\n",
              "      <td>8</td>\n",
              "      <td>3</td>\n",
              "      <td>3</td>\n",
              "      <td>8</td>\n",
              "    </tr>\n",
              "    <tr>\n",
              "      <td>4</td>\n",
              "      <td>Изменить цвет фона главной страницы, чтобы увеличить вовлеченность пользователей</td>\n",
              "      <td>3</td>\n",
              "      <td>1</td>\n",
              "      <td>1</td>\n",
              "      <td>1</td>\n",
              "    </tr>\n",
              "  </tbody>\n",
              "</table>\n",
              "</div>"
            ],
            "text/plain": [
              "                                                                                                     Hypothesis  \\\n",
              "0            Добавить два новых канала привлечения трафика, что позволит привлекать на 30% больше пользователей   \n",
              "1                                     Запустить собственную службу доставки, что сократит срок доставки заказов   \n",
              "2  Добавить блоки рекомендаций товаров на сайт интернет магазина, чтобы повысить конверсию и средний чек заказа   \n",
              "3           Изменить структура категорий, что увеличит конверсию, т.к. пользователи быстрее найдут нужный товар   \n",
              "4                              Изменить цвет фона главной страницы, чтобы увеличить вовлеченность пользователей   \n",
              "\n",
              "   Reach  Impact  Confidence  Efforts  \n",
              "0      3      10           8        6  \n",
              "1      2       5           4       10  \n",
              "2      8       3           7        3  \n",
              "3      8       3           3        8  \n",
              "4      3       1           1        1  "
            ]
          },
          "execution_count": 2,
          "metadata": {},
          "output_type": "execute_result"
        }
      ],
      "source": [
        "data_hyp = pd.read_csv('/datasets/hypothesis.csv')\n",
        "data_hyp.head()"
      ]
    },
    {
      "cell_type": "code",
      "execution_count": null,
      "metadata": {
        "scrolled": true,
        "id": "awHFKV3OiKAY",
        "outputId": "736250e1-b0a4-4e16-af5d-86c7f6e1b6bb"
      },
      "outputs": [
        {
          "name": "stdout",
          "output_type": "stream",
          "text": [
            "<class 'pandas.core.frame.DataFrame'>\n",
            "RangeIndex: 9 entries, 0 to 8\n",
            "Data columns (total 5 columns):\n",
            "Hypothesis    9 non-null object\n",
            "Reach         9 non-null int64\n",
            "Impact        9 non-null int64\n",
            "Confidence    9 non-null int64\n",
            "Efforts       9 non-null int64\n",
            "dtypes: int64(4), object(1)\n",
            "memory usage: 488.0+ bytes\n"
          ]
        }
      ],
      "source": [
        "data_hyp.info()"
      ]
    },
    {
      "cell_type": "markdown",
      "metadata": {
        "id": "690BS__TiKAZ"
      },
      "source": [
        "* Применим фреймворк ICE для приоритизации гипотез. Отсортируем их по убыванию приоритета."
      ]
    },
    {
      "cell_type": "code",
      "execution_count": null,
      "metadata": {
        "id": "-s7TajDZiKAa",
        "outputId": "d6f97dd2-f3c4-46d6-c966-c5a98ea565fa"
      },
      "outputs": [
        {
          "data": {
            "text/html": [
              "<div>\n",
              "<style scoped>\n",
              "    .dataframe tbody tr th:only-of-type {\n",
              "        vertical-align: middle;\n",
              "    }\n",
              "\n",
              "    .dataframe tbody tr th {\n",
              "        vertical-align: top;\n",
              "    }\n",
              "\n",
              "    .dataframe thead th {\n",
              "        text-align: right;\n",
              "    }\n",
              "</style>\n",
              "<table border=\"1\" class=\"dataframe\">\n",
              "  <thead>\n",
              "    <tr style=\"text-align: right;\">\n",
              "      <th></th>\n",
              "      <th>Hypothesis</th>\n",
              "      <th>Reach</th>\n",
              "      <th>Impact</th>\n",
              "      <th>Confidence</th>\n",
              "      <th>Efforts</th>\n",
              "      <th>ice</th>\n",
              "    </tr>\n",
              "  </thead>\n",
              "  <tbody>\n",
              "    <tr>\n",
              "      <td>8</td>\n",
              "      <td>Запустить акцию, дающую скидку на товар в день рождения</td>\n",
              "      <td>1</td>\n",
              "      <td>9</td>\n",
              "      <td>9</td>\n",
              "      <td>5</td>\n",
              "      <td>16.20</td>\n",
              "    </tr>\n",
              "    <tr>\n",
              "      <td>0</td>\n",
              "      <td>Добавить два новых канала привлечения трафика, что позволит привлекать на 30% больше пользователей</td>\n",
              "      <td>3</td>\n",
              "      <td>10</td>\n",
              "      <td>8</td>\n",
              "      <td>6</td>\n",
              "      <td>13.33</td>\n",
              "    </tr>\n",
              "    <tr>\n",
              "      <td>7</td>\n",
              "      <td>Добавить форму подписки на все основные страницы, чтобы собрать базу клиентов для email-рассылок</td>\n",
              "      <td>10</td>\n",
              "      <td>7</td>\n",
              "      <td>8</td>\n",
              "      <td>5</td>\n",
              "      <td>11.20</td>\n",
              "    </tr>\n",
              "    <tr>\n",
              "      <td>6</td>\n",
              "      <td>Показать на главной странице баннеры с актуальными акциями и распродажами, чтобы увеличить конверсию</td>\n",
              "      <td>5</td>\n",
              "      <td>3</td>\n",
              "      <td>8</td>\n",
              "      <td>3</td>\n",
              "      <td>8.00</td>\n",
              "    </tr>\n",
              "    <tr>\n",
              "      <td>2</td>\n",
              "      <td>Добавить блоки рекомендаций товаров на сайт интернет магазина, чтобы повысить конверсию и средний чек заказа</td>\n",
              "      <td>8</td>\n",
              "      <td>3</td>\n",
              "      <td>7</td>\n",
              "      <td>3</td>\n",
              "      <td>7.00</td>\n",
              "    </tr>\n",
              "    <tr>\n",
              "      <td>1</td>\n",
              "      <td>Запустить собственную службу доставки, что сократит срок доставки заказов</td>\n",
              "      <td>2</td>\n",
              "      <td>5</td>\n",
              "      <td>4</td>\n",
              "      <td>10</td>\n",
              "      <td>2.00</td>\n",
              "    </tr>\n",
              "    <tr>\n",
              "      <td>5</td>\n",
              "      <td>Добавить страницу отзывов клиентов о магазине, что позволит увеличить количество заказов</td>\n",
              "      <td>3</td>\n",
              "      <td>2</td>\n",
              "      <td>2</td>\n",
              "      <td>3</td>\n",
              "      <td>1.33</td>\n",
              "    </tr>\n",
              "    <tr>\n",
              "      <td>3</td>\n",
              "      <td>Изменить структура категорий, что увеличит конверсию, т.к. пользователи быстрее найдут нужный товар</td>\n",
              "      <td>8</td>\n",
              "      <td>3</td>\n",
              "      <td>3</td>\n",
              "      <td>8</td>\n",
              "      <td>1.12</td>\n",
              "    </tr>\n",
              "    <tr>\n",
              "      <td>4</td>\n",
              "      <td>Изменить цвет фона главной страницы, чтобы увеличить вовлеченность пользователей</td>\n",
              "      <td>3</td>\n",
              "      <td>1</td>\n",
              "      <td>1</td>\n",
              "      <td>1</td>\n",
              "      <td>1.00</td>\n",
              "    </tr>\n",
              "  </tbody>\n",
              "</table>\n",
              "</div>"
            ],
            "text/plain": [
              "                                                                                                     Hypothesis  \\\n",
              "8                                                       Запустить акцию, дающую скидку на товар в день рождения   \n",
              "0            Добавить два новых канала привлечения трафика, что позволит привлекать на 30% больше пользователей   \n",
              "7              Добавить форму подписки на все основные страницы, чтобы собрать базу клиентов для email-рассылок   \n",
              "6          Показать на главной странице баннеры с актуальными акциями и распродажами, чтобы увеличить конверсию   \n",
              "2  Добавить блоки рекомендаций товаров на сайт интернет магазина, чтобы повысить конверсию и средний чек заказа   \n",
              "1                                     Запустить собственную службу доставки, что сократит срок доставки заказов   \n",
              "5                      Добавить страницу отзывов клиентов о магазине, что позволит увеличить количество заказов   \n",
              "3           Изменить структура категорий, что увеличит конверсию, т.к. пользователи быстрее найдут нужный товар   \n",
              "4                              Изменить цвет фона главной страницы, чтобы увеличить вовлеченность пользователей   \n",
              "\n",
              "   Reach  Impact  Confidence  Efforts   ice  \n",
              "8      1       9           9        5 16.20  \n",
              "0      3      10           8        6 13.33  \n",
              "7     10       7           8        5 11.20  \n",
              "6      5       3           8        3  8.00  \n",
              "2      8       3           7        3  7.00  \n",
              "1      2       5           4       10  2.00  \n",
              "5      3       2           2        3  1.33  \n",
              "3      8       3           3        8  1.12  \n",
              "4      3       1           1        1  1.00  "
            ]
          },
          "execution_count": 4,
          "metadata": {},
          "output_type": "execute_result"
        }
      ],
      "source": [
        "data_hyp['ice'] = data_hyp['Impact'] * data_hyp['Confidence'] / data_hyp['Efforts']\n",
        "data_hyp.sort_values('ice', ascending=False)"
      ]
    },
    {
      "cell_type": "markdown",
      "metadata": {
        "id": "PUxDrU93iKAa"
      },
      "source": [
        "Как видно из таблицы главной задачей по фреймворку ICE является \"запустить акцию, дающую скидку на товар в день рождения\""
      ]
    },
    {
      "cell_type": "markdown",
      "metadata": {
        "id": "duxte2b3iKAb"
      },
      "source": [
        "Теперь посмотрим как отличаются результаты, если приоритизировать по методу RICE."
      ]
    },
    {
      "cell_type": "code",
      "execution_count": null,
      "metadata": {
        "id": "LqrNfYZGiKAb",
        "outputId": "0a9ba2a7-b886-4d68-d942-25de77de757e"
      },
      "outputs": [
        {
          "data": {
            "text/html": [
              "<div>\n",
              "<style scoped>\n",
              "    .dataframe tbody tr th:only-of-type {\n",
              "        vertical-align: middle;\n",
              "    }\n",
              "\n",
              "    .dataframe tbody tr th {\n",
              "        vertical-align: top;\n",
              "    }\n",
              "\n",
              "    .dataframe thead th {\n",
              "        text-align: right;\n",
              "    }\n",
              "</style>\n",
              "<table border=\"1\" class=\"dataframe\">\n",
              "  <thead>\n",
              "    <tr style=\"text-align: right;\">\n",
              "      <th></th>\n",
              "      <th>Hypothesis</th>\n",
              "      <th>Reach</th>\n",
              "      <th>Impact</th>\n",
              "      <th>Confidence</th>\n",
              "      <th>Efforts</th>\n",
              "      <th>ice</th>\n",
              "      <th>rice</th>\n",
              "    </tr>\n",
              "  </thead>\n",
              "  <tbody>\n",
              "    <tr>\n",
              "      <td>7</td>\n",
              "      <td>Добавить форму подписки на все основные страницы, чтобы собрать базу клиентов для email-рассылок</td>\n",
              "      <td>10</td>\n",
              "      <td>7</td>\n",
              "      <td>8</td>\n",
              "      <td>5</td>\n",
              "      <td>11.20</td>\n",
              "      <td>112.00</td>\n",
              "    </tr>\n",
              "    <tr>\n",
              "      <td>2</td>\n",
              "      <td>Добавить блоки рекомендаций товаров на сайт интернет магазина, чтобы повысить конверсию и средний чек заказа</td>\n",
              "      <td>8</td>\n",
              "      <td>3</td>\n",
              "      <td>7</td>\n",
              "      <td>3</td>\n",
              "      <td>7.00</td>\n",
              "      <td>56.00</td>\n",
              "    </tr>\n",
              "    <tr>\n",
              "      <td>0</td>\n",
              "      <td>Добавить два новых канала привлечения трафика, что позволит привлекать на 30% больше пользователей</td>\n",
              "      <td>3</td>\n",
              "      <td>10</td>\n",
              "      <td>8</td>\n",
              "      <td>6</td>\n",
              "      <td>13.33</td>\n",
              "      <td>40.00</td>\n",
              "    </tr>\n",
              "    <tr>\n",
              "      <td>6</td>\n",
              "      <td>Показать на главной странице баннеры с актуальными акциями и распродажами, чтобы увеличить конверсию</td>\n",
              "      <td>5</td>\n",
              "      <td>3</td>\n",
              "      <td>8</td>\n",
              "      <td>3</td>\n",
              "      <td>8.00</td>\n",
              "      <td>40.00</td>\n",
              "    </tr>\n",
              "    <tr>\n",
              "      <td>8</td>\n",
              "      <td>Запустить акцию, дающую скидку на товар в день рождения</td>\n",
              "      <td>1</td>\n",
              "      <td>9</td>\n",
              "      <td>9</td>\n",
              "      <td>5</td>\n",
              "      <td>16.20</td>\n",
              "      <td>16.20</td>\n",
              "    </tr>\n",
              "    <tr>\n",
              "      <td>3</td>\n",
              "      <td>Изменить структура категорий, что увеличит конверсию, т.к. пользователи быстрее найдут нужный товар</td>\n",
              "      <td>8</td>\n",
              "      <td>3</td>\n",
              "      <td>3</td>\n",
              "      <td>8</td>\n",
              "      <td>1.12</td>\n",
              "      <td>9.00</td>\n",
              "    </tr>\n",
              "    <tr>\n",
              "      <td>1</td>\n",
              "      <td>Запустить собственную службу доставки, что сократит срок доставки заказов</td>\n",
              "      <td>2</td>\n",
              "      <td>5</td>\n",
              "      <td>4</td>\n",
              "      <td>10</td>\n",
              "      <td>2.00</td>\n",
              "      <td>4.00</td>\n",
              "    </tr>\n",
              "    <tr>\n",
              "      <td>5</td>\n",
              "      <td>Добавить страницу отзывов клиентов о магазине, что позволит увеличить количество заказов</td>\n",
              "      <td>3</td>\n",
              "      <td>2</td>\n",
              "      <td>2</td>\n",
              "      <td>3</td>\n",
              "      <td>1.33</td>\n",
              "      <td>4.00</td>\n",
              "    </tr>\n",
              "    <tr>\n",
              "      <td>4</td>\n",
              "      <td>Изменить цвет фона главной страницы, чтобы увеличить вовлеченность пользователей</td>\n",
              "      <td>3</td>\n",
              "      <td>1</td>\n",
              "      <td>1</td>\n",
              "      <td>1</td>\n",
              "      <td>1.00</td>\n",
              "      <td>3.00</td>\n",
              "    </tr>\n",
              "  </tbody>\n",
              "</table>\n",
              "</div>"
            ],
            "text/plain": [
              "                                                                                                     Hypothesis  \\\n",
              "7              Добавить форму подписки на все основные страницы, чтобы собрать базу клиентов для email-рассылок   \n",
              "2  Добавить блоки рекомендаций товаров на сайт интернет магазина, чтобы повысить конверсию и средний чек заказа   \n",
              "0            Добавить два новых канала привлечения трафика, что позволит привлекать на 30% больше пользователей   \n",
              "6          Показать на главной странице баннеры с актуальными акциями и распродажами, чтобы увеличить конверсию   \n",
              "8                                                       Запустить акцию, дающую скидку на товар в день рождения   \n",
              "3           Изменить структура категорий, что увеличит конверсию, т.к. пользователи быстрее найдут нужный товар   \n",
              "1                                     Запустить собственную службу доставки, что сократит срок доставки заказов   \n",
              "5                      Добавить страницу отзывов клиентов о магазине, что позволит увеличить количество заказов   \n",
              "4                              Изменить цвет фона главной страницы, чтобы увеличить вовлеченность пользователей   \n",
              "\n",
              "   Reach  Impact  Confidence  Efforts   ice   rice  \n",
              "7     10       7           8        5 11.20 112.00  \n",
              "2      8       3           7        3  7.00  56.00  \n",
              "0      3      10           8        6 13.33  40.00  \n",
              "6      5       3           8        3  8.00  40.00  \n",
              "8      1       9           9        5 16.20  16.20  \n",
              "3      8       3           3        8  1.12   9.00  \n",
              "1      2       5           4       10  2.00   4.00  \n",
              "5      3       2           2        3  1.33   4.00  \n",
              "4      3       1           1        1  1.00   3.00  "
            ]
          },
          "execution_count": 5,
          "metadata": {},
          "output_type": "execute_result"
        }
      ],
      "source": [
        "data_hyp['rice'] = data_hyp['Reach'] * data_hyp['Impact'] * data_hyp['Confidence'] / data_hyp['Efforts']\n",
        "data_hyp.sort_values('rice', ascending=False)"
      ]
    },
    {
      "cell_type": "markdown",
      "metadata": {
        "id": "nQbk26-ZiKAc"
      },
      "source": [
        "Результаты отличаются. Оно и понятно в формулу добавляется новая переменная Reach, которая отвечает за оценку охватата пользователей, которых затронет изменение. "
      ]
    },
    {
      "cell_type": "markdown",
      "metadata": {
        "id": "ZYJOGd4oiKAd"
      },
      "source": [
        "# Часть 2. Анализ A/B теста."
      ]
    },
    {
      "cell_type": "markdown",
      "metadata": {
        "id": "BbLiuU2biKAd"
      },
      "source": [
        "Прочитаем данные для анализа и запишем их в соответствующие переменные. А также посмотрим на структуру таблицы и типы данных. "
      ]
    },
    {
      "cell_type": "code",
      "execution_count": null,
      "metadata": {
        "id": "oFbEdSrxiKAe",
        "outputId": "aeb96b02-312d-4a91-b2e9-ff84aef8302b"
      },
      "outputs": [
        {
          "data": {
            "text/html": [
              "<div>\n",
              "<style scoped>\n",
              "    .dataframe tbody tr th:only-of-type {\n",
              "        vertical-align: middle;\n",
              "    }\n",
              "\n",
              "    .dataframe tbody tr th {\n",
              "        vertical-align: top;\n",
              "    }\n",
              "\n",
              "    .dataframe thead th {\n",
              "        text-align: right;\n",
              "    }\n",
              "</style>\n",
              "<table border=\"1\" class=\"dataframe\">\n",
              "  <thead>\n",
              "    <tr style=\"text-align: right;\">\n",
              "      <th></th>\n",
              "      <th>transactionId</th>\n",
              "      <th>visitorId</th>\n",
              "      <th>date</th>\n",
              "      <th>revenue</th>\n",
              "      <th>group</th>\n",
              "    </tr>\n",
              "  </thead>\n",
              "  <tbody>\n",
              "    <tr>\n",
              "      <td>0</td>\n",
              "      <td>3667963787</td>\n",
              "      <td>3312258926</td>\n",
              "      <td>2019-08-15</td>\n",
              "      <td>1650</td>\n",
              "      <td>B</td>\n",
              "    </tr>\n",
              "    <tr>\n",
              "      <td>1</td>\n",
              "      <td>2804400009</td>\n",
              "      <td>3642806036</td>\n",
              "      <td>2019-08-15</td>\n",
              "      <td>730</td>\n",
              "      <td>B</td>\n",
              "    </tr>\n",
              "    <tr>\n",
              "      <td>2</td>\n",
              "      <td>2961555356</td>\n",
              "      <td>4069496402</td>\n",
              "      <td>2019-08-15</td>\n",
              "      <td>400</td>\n",
              "      <td>A</td>\n",
              "    </tr>\n",
              "    <tr>\n",
              "      <td>3</td>\n",
              "      <td>3797467345</td>\n",
              "      <td>1196621759</td>\n",
              "      <td>2019-08-15</td>\n",
              "      <td>9759</td>\n",
              "      <td>B</td>\n",
              "    </tr>\n",
              "    <tr>\n",
              "      <td>4</td>\n",
              "      <td>2282983706</td>\n",
              "      <td>2322279887</td>\n",
              "      <td>2019-08-15</td>\n",
              "      <td>2308</td>\n",
              "      <td>B</td>\n",
              "    </tr>\n",
              "  </tbody>\n",
              "</table>\n",
              "</div>"
            ],
            "text/plain": [
              "   transactionId   visitorId        date  revenue group\n",
              "0     3667963787  3312258926  2019-08-15     1650     B\n",
              "1     2804400009  3642806036  2019-08-15      730     B\n",
              "2     2961555356  4069496402  2019-08-15      400     A\n",
              "3     3797467345  1196621759  2019-08-15     9759     B\n",
              "4     2282983706  2322279887  2019-08-15     2308     B"
            ]
          },
          "execution_count": 6,
          "metadata": {},
          "output_type": "execute_result"
        }
      ],
      "source": [
        "orders = pd.read_csv('/datasets/orders.csv')\n",
        "orders.head()"
      ]
    },
    {
      "cell_type": "code",
      "execution_count": null,
      "metadata": {
        "id": "_xz_DyD6iKAf",
        "outputId": "6b125430-beff-49c5-dc97-46dd3fab7cf6"
      },
      "outputs": [
        {
          "data": {
            "text/html": [
              "<div>\n",
              "<style scoped>\n",
              "    .dataframe tbody tr th:only-of-type {\n",
              "        vertical-align: middle;\n",
              "    }\n",
              "\n",
              "    .dataframe tbody tr th {\n",
              "        vertical-align: top;\n",
              "    }\n",
              "\n",
              "    .dataframe thead th {\n",
              "        text-align: right;\n",
              "    }\n",
              "</style>\n",
              "<table border=\"1\" class=\"dataframe\">\n",
              "  <thead>\n",
              "    <tr style=\"text-align: right;\">\n",
              "      <th></th>\n",
              "      <th>orderId</th>\n",
              "      <th>userId</th>\n",
              "      <th>date</th>\n",
              "      <th>revenue</th>\n",
              "      <th>group</th>\n",
              "    </tr>\n",
              "  </thead>\n",
              "  <tbody>\n",
              "    <tr>\n",
              "      <td>0</td>\n",
              "      <td>3667963787</td>\n",
              "      <td>3312258926</td>\n",
              "      <td>2019-08-15</td>\n",
              "      <td>1650</td>\n",
              "      <td>B</td>\n",
              "    </tr>\n",
              "    <tr>\n",
              "      <td>1</td>\n",
              "      <td>2804400009</td>\n",
              "      <td>3642806036</td>\n",
              "      <td>2019-08-15</td>\n",
              "      <td>730</td>\n",
              "      <td>B</td>\n",
              "    </tr>\n",
              "    <tr>\n",
              "      <td>2</td>\n",
              "      <td>2961555356</td>\n",
              "      <td>4069496402</td>\n",
              "      <td>2019-08-15</td>\n",
              "      <td>400</td>\n",
              "      <td>A</td>\n",
              "    </tr>\n",
              "    <tr>\n",
              "      <td>3</td>\n",
              "      <td>3797467345</td>\n",
              "      <td>1196621759</td>\n",
              "      <td>2019-08-15</td>\n",
              "      <td>9759</td>\n",
              "      <td>B</td>\n",
              "    </tr>\n",
              "    <tr>\n",
              "      <td>4</td>\n",
              "      <td>2282983706</td>\n",
              "      <td>2322279887</td>\n",
              "      <td>2019-08-15</td>\n",
              "      <td>2308</td>\n",
              "      <td>B</td>\n",
              "    </tr>\n",
              "  </tbody>\n",
              "</table>\n",
              "</div>"
            ],
            "text/plain": [
              "      orderId      userId        date  revenue group\n",
              "0  3667963787  3312258926  2019-08-15     1650     B\n",
              "1  2804400009  3642806036  2019-08-15      730     B\n",
              "2  2961555356  4069496402  2019-08-15      400     A\n",
              "3  3797467345  1196621759  2019-08-15     9759     B\n",
              "4  2282983706  2322279887  2019-08-15     2308     B"
            ]
          },
          "execution_count": 7,
          "metadata": {},
          "output_type": "execute_result"
        }
      ],
      "source": [
        "orders = orders.rename(columns={'transactionId': 'orderId', 'visitorId': 'userId'})\n",
        "orders.head()"
      ]
    },
    {
      "cell_type": "code",
      "execution_count": null,
      "metadata": {
        "scrolled": true,
        "id": "mcOPetLjiKAf",
        "outputId": "0dfb6096-d13c-4d09-fcc6-4dd326225122"
      },
      "outputs": [
        {
          "name": "stdout",
          "output_type": "stream",
          "text": [
            "<class 'pandas.core.frame.DataFrame'>\n",
            "RangeIndex: 1197 entries, 0 to 1196\n",
            "Data columns (total 5 columns):\n",
            "orderId    1197 non-null int64\n",
            "userId     1197 non-null int64\n",
            "date       1197 non-null object\n",
            "revenue    1197 non-null int64\n",
            "group      1197 non-null object\n",
            "dtypes: int64(3), object(2)\n",
            "memory usage: 46.9+ KB\n"
          ]
        }
      ],
      "source": [
        " orders.info()"
      ]
    },
    {
      "cell_type": "markdown",
      "metadata": {
        "id": "9T1uDrUxiKAf"
      },
      "source": [
        "Изменим тип данных у столбца с датой заказа на datetime"
      ]
    },
    {
      "cell_type": "code",
      "execution_count": null,
      "metadata": {
        "id": "3zJYtuAgiKAg"
      },
      "outputs": [],
      "source": [
        "orders['date'] = pd.to_datetime(orders['date'])"
      ]
    },
    {
      "cell_type": "markdown",
      "metadata": {
        "id": "EPU1qjX9iKAh"
      },
      "source": [
        "Проделаем тоже самое для второго набора данных с данными по визитам."
      ]
    },
    {
      "cell_type": "code",
      "execution_count": null,
      "metadata": {
        "id": "UenpiZwAiKAh",
        "outputId": "d1da2455-63d0-43f0-e45a-db4af714b2ba"
      },
      "outputs": [
        {
          "data": {
            "text/html": [
              "<div>\n",
              "<style scoped>\n",
              "    .dataframe tbody tr th:only-of-type {\n",
              "        vertical-align: middle;\n",
              "    }\n",
              "\n",
              "    .dataframe tbody tr th {\n",
              "        vertical-align: top;\n",
              "    }\n",
              "\n",
              "    .dataframe thead th {\n",
              "        text-align: right;\n",
              "    }\n",
              "</style>\n",
              "<table border=\"1\" class=\"dataframe\">\n",
              "  <thead>\n",
              "    <tr style=\"text-align: right;\">\n",
              "      <th></th>\n",
              "      <th>date</th>\n",
              "      <th>group</th>\n",
              "      <th>visitors</th>\n",
              "    </tr>\n",
              "  </thead>\n",
              "  <tbody>\n",
              "    <tr>\n",
              "      <td>0</td>\n",
              "      <td>2019-08-01</td>\n",
              "      <td>A</td>\n",
              "      <td>719</td>\n",
              "    </tr>\n",
              "    <tr>\n",
              "      <td>1</td>\n",
              "      <td>2019-08-02</td>\n",
              "      <td>A</td>\n",
              "      <td>619</td>\n",
              "    </tr>\n",
              "    <tr>\n",
              "      <td>2</td>\n",
              "      <td>2019-08-03</td>\n",
              "      <td>A</td>\n",
              "      <td>507</td>\n",
              "    </tr>\n",
              "    <tr>\n",
              "      <td>3</td>\n",
              "      <td>2019-08-04</td>\n",
              "      <td>A</td>\n",
              "      <td>717</td>\n",
              "    </tr>\n",
              "    <tr>\n",
              "      <td>4</td>\n",
              "      <td>2019-08-05</td>\n",
              "      <td>A</td>\n",
              "      <td>756</td>\n",
              "    </tr>\n",
              "  </tbody>\n",
              "</table>\n",
              "</div>"
            ],
            "text/plain": [
              "         date group  visitors\n",
              "0  2019-08-01     A       719\n",
              "1  2019-08-02     A       619\n",
              "2  2019-08-03     A       507\n",
              "3  2019-08-04     A       717\n",
              "4  2019-08-05     A       756"
            ]
          },
          "execution_count": 10,
          "metadata": {},
          "output_type": "execute_result"
        }
      ],
      "source": [
        "visitors = pd.read_csv('/datasets/visitors.csv')\n",
        "visitors.head()"
      ]
    },
    {
      "cell_type": "code",
      "execution_count": null,
      "metadata": {
        "id": "ERPacg5WiKAi"
      },
      "outputs": [],
      "source": [
        "visitors['date'] = pd.to_datetime(visitors['date'])"
      ]
    },
    {
      "cell_type": "markdown",
      "metadata": {
        "id": "n-QF3pYAiKAi"
      },
      "source": [
        "Проверим на дубликаты."
      ]
    },
    {
      "cell_type": "code",
      "execution_count": null,
      "metadata": {
        "id": "-eW2TLwXiKAi",
        "outputId": "23ea0e45-2de5-432f-d1c2-2fa5122f3ecc"
      },
      "outputs": [
        {
          "data": {
            "text/plain": [
              "0"
            ]
          },
          "execution_count": 12,
          "metadata": {},
          "output_type": "execute_result"
        }
      ],
      "source": [
        "visitors.duplicated().sum()"
      ]
    },
    {
      "cell_type": "code",
      "execution_count": null,
      "metadata": {
        "id": "Yu1WtYD0iKAj",
        "outputId": "1e287691-7f14-4732-8689-f9710c2d9733"
      },
      "outputs": [
        {
          "data": {
            "text/plain": [
              "0"
            ]
          },
          "execution_count": 13,
          "metadata": {},
          "output_type": "execute_result"
        }
      ],
      "source": [
        "orders.duplicated().sum()"
      ]
    },
    {
      "cell_type": "markdown",
      "metadata": {
        "id": "8uO5v66OiKAl"
      },
      "source": [
        "* <strong> Построим график кумулятивной выручки по группам.</strong>"
      ]
    },
    {
      "cell_type": "code",
      "execution_count": null,
      "metadata": {
        "id": "EwOsX-rtiKAm",
        "outputId": "8ff2fffa-9efa-4506-8d1d-4a1fbf4a9792"
      },
      "outputs": [
        {
          "name": "stdout",
          "output_type": "stream",
          "text": [
            "        date group  orders  buyers  revenue  visitors\n",
            "0 2019-08-01     A      24      20   148579       719\n",
            "1 2019-08-01     B      21      20   101217       713\n",
            "2 2019-08-02     A      44      38   242401      1338\n",
            "3 2019-08-02     B      45      43   266748      1294\n",
            "4 2019-08-03     A      68      62   354874      1845\n"
          ]
        }
      ],
      "source": [
        "# создаем массив уникальных пар значений дат и групп теста\n",
        "datesGroups = orders[['date','group']].drop_duplicates()\n",
        "\n",
        "# получаем агрегированные кумулятивные по дням данные о заказах \n",
        "ordersAggregated = datesGroups.apply(lambda x: orders[np.logical_and(orders['date'] <= x['date'], orders['group'] == x['group'])].agg({'date' : 'max', 'group' : 'max', 'orderId' : 'nunique', 'userId' : 'nunique', 'revenue' : 'sum'}), axis=1).sort_values(by=['date','group'])\n",
        "\n",
        "# получаем агрегированные кумулятивные по дням данные о посетителях интернет-магазина \n",
        "visitorsAggregated = datesGroups.apply(lambda x: visitors[np.logical_and(visitors['date'] <= x['date'], visitors['group'] == x['group'])].agg({'date' : 'max', 'group' : 'max', 'visitors' : 'sum'}), axis=1).sort_values(by=['date','group'])\n",
        "\n",
        "# объединяем кумулятивные данные в одной таблице и присваиваем ее столбцам понятные названия\n",
        "cumulativeData = ordersAggregated.merge(visitorsAggregated, left_on=['date', 'group'], right_on=['date', 'group'])\n",
        "cumulativeData.columns = ['date', 'group', 'orders', 'buyers', 'revenue', 'visitors']\n",
        "\n",
        "print(cumulativeData.head(5))"
      ]
    },
    {
      "cell_type": "markdown",
      "metadata": {
        "id": "1ND_Rhn5iKAm"
      },
      "source": [
        "Сравним графики для группы А и B по кумулятивной выручке."
      ]
    },
    {
      "cell_type": "code",
      "execution_count": null,
      "metadata": {
        "scrolled": true,
        "id": "KYXwRliTiKAm",
        "outputId": "eeb5931d-c893-43c4-9aff-843c8d43fd57"
      },
      "outputs": [
        {
          "data": {
            "text/plain": [
              "<matplotlib.legend.Legend at 0x7f5899c56490>"
            ]
          },
          "execution_count": 15,
          "metadata": {},
          "output_type": "execute_result"
        },
        {
          "data": {
            "image/png": "[encoded data removed]",
            "text/plain": [
              "<Figure size 432x288 with 1 Axes>"
            ]
          },
          "metadata": {
            "needs_background": "light"
          },
          "output_type": "display_data"
        }
      ],
      "source": [
        "# датафрейм с кумулятивным количеством заказов и кумулятивной выручкой по дням в группе А\n",
        "cumulativeRevenueA = cumulativeData[cumulativeData['group']=='A'][['date','revenue', 'orders']]\n",
        "\n",
        "# датафрейм с кумулятивным количеством заказов и кумулятивной выручкой по дням в группе B\n",
        "cumulativeRevenueB = cumulativeData[cumulativeData['group']=='B'][['date','revenue', 'orders']]\n",
        "\n",
        "# Строим график выручки группы А\n",
        "plt.plot(cumulativeRevenueA['date'], cumulativeRevenueA['revenue'], label='A')\n",
        "\n",
        "# Строим график выручки группы B\n",
        "plt.plot(cumulativeRevenueB['date'], cumulativeRevenueB['revenue'], label='B')\n",
        "plt.title('График динамики кумулятивной выручки по группам сравнения')\n",
        "plt.xticks(rotation=45)\n",
        "\n",
        "plt.legend() "
      ]
    },
    {
      "cell_type": "markdown",
      "metadata": {
        "id": "8baH_fTziKAn"
      },
      "source": [
        "Выручка растет в течении всего времени теста. Также видим, что в определенный день выручка группы B стала резко возрастать, что наводит на мысль о том, что в наборе данных есть выбросы - заказы с аномально высоким чеком, которые искажают общую картину. Мы это проверим. Сейчас посмотрим как изменялся средний чек в течении теста."
      ]
    },
    {
      "cell_type": "markdown",
      "metadata": {
        "id": "lNgvNBL_iKAo"
      },
      "source": [
        "* <strong> Построим график кумулятивного среднего чека по группам. </strong>"
      ]
    },
    {
      "cell_type": "code",
      "execution_count": null,
      "metadata": {
        "scrolled": true,
        "id": "2HdK7Dw0iKAo",
        "outputId": "b932815d-29ed-4047-9e67-8abad39ac890"
      },
      "outputs": [
        {
          "data": {
            "text/plain": [
              "<matplotlib.legend.Legend at 0x7f589954ca90>"
            ]
          },
          "execution_count": 16,
          "metadata": {},
          "output_type": "execute_result"
        },
        {
          "data": {
            "image/png": "[encoded data removed]",
            "text/plain": [
              "<Figure size 432x288 with 1 Axes>"
            ]
          },
          "metadata": {
            "needs_background": "light"
          },
          "output_type": "display_data"
        }
      ],
      "source": [
        "plt.plot(cumulativeRevenueA['date'], cumulativeRevenueA['revenue']/cumulativeRevenueA['orders'], label='A')\n",
        "plt.plot(cumulativeRevenueB['date'], cumulativeRevenueB['revenue']/cumulativeRevenueB['orders'], label='B')\n",
        "plt.xticks(rotation=45)\n",
        "plt.title('Динамика кумулятивного среднего чека по группам сравнения')\n",
        "plt.legend()"
      ]
    },
    {
      "cell_type": "markdown",
      "metadata": {
        "id": "ZJKtAWQAiKAo"
      },
      "source": [
        "Здесь видим похожую картину: резкое возрастание среднего чека в группе B около даты 2019-08-17. Теперь это явно указывает на то, что в наборе данных группы B присутствут выбросы аномально высоких по стоимости заказов. Средний чек группы А к концу теста стабилизировался, в то время как для группы B необходимы еще данные, чтобы выровнять средний чек к реальному. "
      ]
    },
    {
      "cell_type": "markdown",
      "metadata": {
        "id": "YqZS11GciKAp"
      },
      "source": [
        "* <strong> Построим график относительного изменения кумулятивного среднего чека группы B к группе A. </strong>"
      ]
    },
    {
      "cell_type": "code",
      "execution_count": null,
      "metadata": {
        "id": "4_OTGXRYiKAp",
        "outputId": "4e0d26c4-d6be-48e7-c917-c9101c799415"
      },
      "outputs": [
        {
          "data": {
            "text/plain": [
              "Text(0.5, 1.0, 'График относительного изменения среднего чека группы B от группы А')"
            ]
          },
          "execution_count": 17,
          "metadata": {},
          "output_type": "execute_result"
        },
        {
          "data": {
            "image/png": "[encoded data removed]",
            "text/plain": [
              "<Figure size 432x288 with 1 Axes>"
            ]
          },
          "metadata": {
            "needs_background": "light"
          },
          "output_type": "display_data"
        }
      ],
      "source": [
        "# собираем данные в одном датафрейме\n",
        "mergedCumulativeRevenue = cumulativeRevenueA.merge(cumulativeRevenueB, left_on='date', right_on='date', how='left', suffixes=['A', 'B'])\n",
        "\n",
        "# cтроим отношение средних чеков\n",
        "plt.plot(mergedCumulativeRevenue['date'], (mergedCumulativeRevenue['revenueB']/mergedCumulativeRevenue['ordersB'])/(mergedCumulativeRevenue['revenueA']/mergedCumulativeRevenue['ordersA'])-1)\n",
        "\n",
        "# добавляем ось X\n",
        "plt.axhline(y=0, color='black', linestyle='--')\n",
        "plt.xticks(rotation=45)\n",
        "plt.title('График относительного изменения среднего чека группы B от группы А')"
      ]
    },
    {
      "cell_type": "markdown",
      "metadata": {
        "id": "CqstxatViKAq"
      },
      "source": [
        "Резкие всплекски опять же подтверждают наличие выбросов и аномалий в данных. По сырым данным группа B лучше по выручке и среднему чеку. Посмотрим как изменяться выводы в фильтрованных данных."
      ]
    },
    {
      "cell_type": "markdown",
      "metadata": {
        "id": "4rJN1RTxiKAq"
      },
      "source": [
        "* <strong>Построим график кумулятивной конверсии по группам."
      ]
    },
    {
      "cell_type": "code",
      "execution_count": null,
      "metadata": {
        "scrolled": true,
        "id": "-yPtnUC4iKAq",
        "outputId": "5e5bad3f-cccf-412e-8e12-e9052c24a52b"
      },
      "outputs": [
        {
          "data": {
            "text/plain": [
              "['2019-08-01', '2019-08-29', 0, 0.05]"
            ]
          },
          "execution_count": 18,
          "metadata": {},
          "output_type": "execute_result"
        },
        {
          "data": {
            "image/png": "[encoded data removed]",
            "text/plain": [
              "<Figure size 432x288 with 1 Axes>"
            ]
          },
          "metadata": {
            "needs_background": "light"
          },
          "output_type": "display_data"
        }
      ],
      "source": [
        "# считаем кумулятивную конверсию\n",
        "cumulativeData['conversion'] = cumulativeData['orders']/cumulativeData['visitors']\n",
        "\n",
        "# отделяем данные по группе A\n",
        "cumulativeDataA = cumulativeData[cumulativeData['group']=='A']\n",
        "\n",
        "# отделяем данные по группе B\n",
        "cumulativeDataB = cumulativeData[cumulativeData['group']=='B']\n",
        "\n",
        "# строим графики\n",
        "plt.plot(cumulativeDataA['date'], cumulativeDataA['conversion'], label='A')\n",
        "plt.plot(cumulativeDataB['date'], cumulativeDataB['conversion'], label='B')\n",
        "plt.xticks(rotation=45)\n",
        "plt.legend()\n",
        "plt.title('График конверсии для групп A и B')\n",
        "\n",
        "# задаем масштаб осей\n",
        "plt.axis([\"2019-08-01\", '2019-08-29', 0, 0.05])"
      ]
    },
    {
      "cell_type": "markdown",
      "metadata": {
        "id": "ffwiHoV1iKAr"
      },
      "source": [
        "Высокие колебания конверсии вначале были выше у группы A. Однако потом они симметрично разошлись, группа А вниз, а группа B вверх и так до окончания теста конверсия группы B оказалась выше."
      ]
    },
    {
      "cell_type": "markdown",
      "metadata": {
        "id": "Rmdr_EC9iKAr"
      },
      "source": [
        "* <strong>Построим график относительного изменения кумулятивной конверсии группы B к группе A."
      ]
    },
    {
      "cell_type": "code",
      "execution_count": null,
      "metadata": {
        "scrolled": false,
        "id": "EbjmAjYsiKAs",
        "outputId": "9a0e3d36-c065-4a24-ac80-5c517a6bdd06"
      },
      "outputs": [
        {
          "data": {
            "text/plain": [
              "(array([737272., 737276., 737280., 737284., 737288., 737292., 737296.,\n",
              "        737300.]),\n",
              " <a list of 8 Text xticklabel objects>)"
            ]
          },
          "execution_count": 19,
          "metadata": {},
          "output_type": "execute_result"
        },
        {
          "data": {
            "image/png": "[encoded data removed]",
            "text/plain": [
              "<Figure size 432x288 with 1 Axes>"
            ]
          },
          "metadata": {
            "needs_background": "light"
          },
          "output_type": "display_data"
        }
      ],
      "source": [
        "mergedCumulativeConversions = cumulativeDataA[['date','conversion']].merge(cumulativeDataB[['date','conversion']], left_on='date', right_on='date', how='left', suffixes=['A', 'B'])\n",
        "\n",
        "plt.plot(mergedCumulativeConversions['date'], mergedCumulativeConversions['conversionB']/mergedCumulativeConversions['conversionA']-1)\n",
        "#plt.legend()\n",
        "plt.title('Относительный прирост конверсии группы B относительно группы A')\n",
        "plt.axhline(y=0, color='black', linestyle='--')\n",
        "#plt.axhline(y=-0.1, color='grey', linestyle='--')\n",
        "plt.axis([\"2019-08-01\", '2019-08-29', -0.3, 0.3])\n",
        "plt.xticks(rotation=45)"
      ]
    },
    {
      "cell_type": "markdown",
      "metadata": {
        "id": "_FAGbQ1FiKAt"
      },
      "source": [
        "Вначале группа A показывала выше конверсию, но потом где-то с 2019-08-06 группа B показывала значительный прирост в конверсии, хотя и имеет тренд на снижение, начиная с 2019-08-17. Возможно требуются еще данные, чтобы стабилизировать показания и выйти на реальный показатель."
      ]
    },
    {
      "cell_type": "markdown",
      "metadata": {
        "id": "-vFpVdeHiKAu"
      },
      "source": [
        "* <strong> Построим точечный график количества заказов по пользователям."
      ]
    },
    {
      "cell_type": "code",
      "execution_count": null,
      "metadata": {
        "id": "1U2S9ZjziKAu",
        "outputId": "9cd356ae-1e3b-4dfc-cb3d-c92f6f93510e"
      },
      "outputs": [
        {
          "data": {
            "text/html": [
              "<div>\n",
              "<style scoped>\n",
              "    .dataframe tbody tr th:only-of-type {\n",
              "        vertical-align: middle;\n",
              "    }\n",
              "\n",
              "    .dataframe tbody tr th {\n",
              "        vertical-align: top;\n",
              "    }\n",
              "\n",
              "    .dataframe thead th {\n",
              "        text-align: right;\n",
              "    }\n",
              "</style>\n",
              "<table border=\"1\" class=\"dataframe\">\n",
              "  <thead>\n",
              "    <tr style=\"text-align: right;\">\n",
              "      <th></th>\n",
              "      <th>orderId</th>\n",
              "      <th>userId</th>\n",
              "      <th>date</th>\n",
              "      <th>revenue</th>\n",
              "      <th>group</th>\n",
              "    </tr>\n",
              "  </thead>\n",
              "  <tbody>\n",
              "    <tr>\n",
              "      <td>0</td>\n",
              "      <td>3667963787</td>\n",
              "      <td>3312258926</td>\n",
              "      <td>2019-08-15</td>\n",
              "      <td>1650</td>\n",
              "      <td>B</td>\n",
              "    </tr>\n",
              "    <tr>\n",
              "      <td>1</td>\n",
              "      <td>2804400009</td>\n",
              "      <td>3642806036</td>\n",
              "      <td>2019-08-15</td>\n",
              "      <td>730</td>\n",
              "      <td>B</td>\n",
              "    </tr>\n",
              "    <tr>\n",
              "      <td>2</td>\n",
              "      <td>2961555356</td>\n",
              "      <td>4069496402</td>\n",
              "      <td>2019-08-15</td>\n",
              "      <td>400</td>\n",
              "      <td>A</td>\n",
              "    </tr>\n",
              "    <tr>\n",
              "      <td>3</td>\n",
              "      <td>3797467345</td>\n",
              "      <td>1196621759</td>\n",
              "      <td>2019-08-15</td>\n",
              "      <td>9759</td>\n",
              "      <td>B</td>\n",
              "    </tr>\n",
              "    <tr>\n",
              "      <td>4</td>\n",
              "      <td>2282983706</td>\n",
              "      <td>2322279887</td>\n",
              "      <td>2019-08-15</td>\n",
              "      <td>2308</td>\n",
              "      <td>B</td>\n",
              "    </tr>\n",
              "  </tbody>\n",
              "</table>\n",
              "</div>"
            ],
            "text/plain": [
              "      orderId      userId       date  revenue group\n",
              "0  3667963787  3312258926 2019-08-15     1650     B\n",
              "1  2804400009  3642806036 2019-08-15      730     B\n",
              "2  2961555356  4069496402 2019-08-15      400     A\n",
              "3  3797467345  1196621759 2019-08-15     9759     B\n",
              "4  2282983706  2322279887 2019-08-15     2308     B"
            ]
          },
          "execution_count": 20,
          "metadata": {},
          "output_type": "execute_result"
        }
      ],
      "source": [
        "orders.head()"
      ]
    },
    {
      "cell_type": "code",
      "execution_count": null,
      "metadata": {
        "id": "Uxb2oY-uiKAu"
      },
      "outputs": [],
      "source": [
        "amount_orders = orders.groupby('userId').agg({'orderId': 'count'}).rename(columns={'orderId': 'amount_orders'})\n",
        "x_values = pd.Series(range(len(amount_orders['amount_orders'])))"
      ]
    },
    {
      "cell_type": "code",
      "execution_count": null,
      "metadata": {
        "id": "upXpVLHriKAv",
        "outputId": "c835ba63-a1fc-4f33-9331-c1c9fbec3c27"
      },
      "outputs": [
        {
          "data": {
            "text/plain": [
              "Text(0.5, 1.0, 'Количество заказов на одного пользователя')"
            ]
          },
          "execution_count": 22,
          "metadata": {},
          "output_type": "execute_result"
        },
        {
          "data": {
            "image/png": "[encoded data removed]",
            "text/plain": [
              "<Figure size 432x288 with 1 Axes>"
            ]
          },
          "metadata": {
            "needs_background": "light"
          },
          "output_type": "display_data"
        }
      ],
      "source": [
        "plt.scatter(x_values, amount_orders['amount_orders'])\n",
        "plt.title('Количество заказов на одного пользователя')"
      ]
    },
    {
      "cell_type": "markdown",
      "metadata": {
        "id": "SuPQXvOjiKAv"
      },
      "source": [
        "График показывает, что большая часть пользователей ограничиваются одним заказом, 2 заказа тоже бывает довольно часто, 3 и выше уже довольно редко. Посмотрим на количественную оценку."
      ]
    },
    {
      "cell_type": "markdown",
      "metadata": {
        "id": "vsyD-G90iKAv"
      },
      "source": [
        "* <strong> Посчитаем 95-й и 99-й перцентили количества заказов на пользователя. Определим границу для аномальных пользователей."
      ]
    },
    {
      "cell_type": "code",
      "execution_count": null,
      "metadata": {
        "scrolled": true,
        "id": "nloPfqLfiKAw",
        "outputId": "1a5dcc34-a3da-43ad-dd34-09abf7ae0897"
      },
      "outputs": [
        {
          "name": "stdout",
          "output_type": "stream",
          "text": [
            "[1. 2. 4.]\n"
          ]
        }
      ],
      "source": [
        "print(np.percentile(amount_orders['amount_orders'], [90, 95, 99]))"
      ]
    },
    {
      "cell_type": "markdown",
      "metadata": {
        "id": "hE8HXdf9iKAw"
      },
      "source": [
        "5 % пользователей заказывают больше 2-х раз. Возьмем границу в 3 заказа. Все что выше будем считать за аномалию."
      ]
    },
    {
      "cell_type": "markdown",
      "metadata": {
        "id": "xRIIRROIiKAw"
      },
      "source": [
        "* <strong> Построим точечный график стоимостей заказов."
      ]
    },
    {
      "cell_type": "code",
      "execution_count": null,
      "metadata": {
        "id": "TJn0xUKQiKAx",
        "outputId": "da9ef84d-8465-4bf6-9a4d-349dd9f8bdad"
      },
      "outputs": [
        {
          "data": {
            "text/plain": [
              "Text(0.5, 1.0, 'Сумма заказов на одного пользователя')"
            ]
          },
          "execution_count": 24,
          "metadata": {},
          "output_type": "execute_result"
        },
        {
          "data": {
            "image/png": "[encoded data removed]",
            "text/plain": [
              "<Figure size 432x288 with 1 Axes>"
            ]
          },
          "metadata": {
            "needs_background": "light"
          },
          "output_type": "display_data"
        }
      ],
      "source": [
        "x_values = pd.Series(range(0,len(orders['revenue'])))\n",
        "plt.scatter(x_values, orders['revenue'])\n",
        "plt.ylim(0, 200000)\n",
        "plt.title('Сумма заказов на одного пользователя')"
      ]
    },
    {
      "cell_type": "markdown",
      "metadata": {
        "id": "u82pJa0RiKAx"
      },
      "source": [
        "Видим, что большая часть заказов со стоимостью не превышающей 25 000. Посмотрим на количественную оценку."
      ]
    },
    {
      "cell_type": "markdown",
      "metadata": {
        "id": "06976qq2iKAx"
      },
      "source": [
        "* <strong> Посчитаем 95-й и 99-й перцентили стоимости заказов. Определим границу для определения аномальных заказов."
      ]
    },
    {
      "cell_type": "code",
      "execution_count": null,
      "metadata": {
        "id": "5G5U_0jeiKAy",
        "outputId": "fc7d8b21-9be6-4a4b-b2f9-4d42c34a0b87"
      },
      "outputs": [
        {
          "name": "stdout",
          "output_type": "stream",
          "text": [
            "[18168.  28000.  58233.2]\n"
          ]
        }
      ],
      "source": [
        "print(np.percentile(orders['revenue'], [90, 95, 99]))"
      ]
    },
    {
      "cell_type": "markdown",
      "metadata": {
        "id": "5h_euN9ZiKAy"
      },
      "source": [
        "Возьмем границу отсечения в 28 000. Все что выше будем считать выбросами."
      ]
    },
    {
      "cell_type": "markdown",
      "metadata": {
        "id": "NOCNF_h5iKAy"
      },
      "source": [
        "* <strong> Посчитаем статистическую значимость различий в конверсии между группами по «сырым» данным."
      ]
    },
    {
      "cell_type": "markdown",
      "metadata": {
        "id": "RSThl4lFiKAy"
      },
      "source": [
        "Зададим статистическую значимость в 0.05 и сравним группы. Сначала сгруппируем данные по заказам и создадим переменные, содержащие кумулятивную информацию по соответствующей дате."
      ]
    },
    {
      "cell_type": "code",
      "execution_count": null,
      "metadata": {
        "scrolled": true,
        "id": "zYGGsP4viKAz",
        "outputId": "9a4cc873-9c37-4814-ac2b-daa2b933bfa5"
      },
      "outputs": [
        {
          "name": "stdout",
          "output_type": "stream",
          "text": [
            "        date  ordersPerDateA  revenuePerDateA  ordersPerDateB  \\\n",
            "0 2019-08-01              24           148579              21   \n",
            "1 2019-08-02              20            93822              24   \n",
            "2 2019-08-03              24           112473              16   \n",
            "3 2019-08-04              16            70825              17   \n",
            "4 2019-08-05              25           124218              23   \n",
            "\n",
            "   revenuePerDateB  ordersCummulativeA  revenueCummulativeA  \\\n",
            "0           101217                  24               148579   \n",
            "1           165531                  44               242401   \n",
            "2           114248                  68               354874   \n",
            "3           108571                  84               425699   \n",
            "4            92428                 109               549917   \n",
            "\n",
            "   ordersCummulativeB  revenueCummulativeB  visitorsPerDateA  \\\n",
            "0                  21               101217               719   \n",
            "1                  45               266748               619   \n",
            "2                  61               380996               507   \n",
            "3                  78               489567               717   \n",
            "4                 101               581995               756   \n",
            "\n",
            "   visitorsPerDateB  visitorsCummulativeA  visitorsCummulativeB  \n",
            "0               713                   719                   713  \n",
            "1               581                  1338                  1294  \n",
            "2               509                  1845                  1803  \n",
            "3               770                  2562                  2573  \n",
            "4               707                  3318                  3280  \n"
          ]
        }
      ],
      "source": [
        "visitorsADaily = visitors[visitors['group'] == 'A'][['date', 'visitors']]\n",
        "visitorsADaily.columns = ['date', 'visitorsPerDateA']\n",
        "\n",
        "visitorsACummulative = visitorsADaily.apply(\n",
        "    lambda x: visitorsADaily[visitorsADaily['date'] <= x['date']].agg(\n",
        "        {'date': 'max', 'visitorsPerDateA': 'sum'}\n",
        "    ),\n",
        "    axis=1,\n",
        ")\n",
        "visitorsACummulative.columns = ['date', 'visitorsCummulativeA']\n",
        "\n",
        "visitorsBDaily = visitors[visitors['group'] == 'B'][['date', 'visitors']]\n",
        "visitorsBDaily.columns = ['date', 'visitorsPerDateB']\n",
        "\n",
        "visitorsBCummulative = visitorsBDaily.apply(\n",
        "    lambda x: visitorsBDaily[visitorsBDaily['date'] <= x['date']].agg(\n",
        "        {'date': 'max', 'visitorsPerDateB': 'sum'}\n",
        "    ),\n",
        "    axis=1,\n",
        ")\n",
        "visitorsBCummulative.columns = ['date', 'visitorsCummulativeB']\n",
        "\n",
        "ordersADaily = (\n",
        "    orders[orders['group'] == 'A'][['date', 'orderId', 'userId', 'revenue']]\n",
        "    .groupby('date', as_index=False)\n",
        "    .agg({'orderId': pd.Series.nunique, 'revenue': 'sum'})\n",
        ")\n",
        "ordersADaily.columns = ['date', 'ordersPerDateA', 'revenuePerDateA']\n",
        "\n",
        "ordersACummulative = ordersADaily.apply(\n",
        "    lambda x: ordersADaily[ordersADaily['date'] <= x['date']].agg(\n",
        "        {'date': 'max', 'ordersPerDateA': 'sum', 'revenuePerDateA': 'sum'}\n",
        "    ),\n",
        "    axis=1,\n",
        ").sort_values(by=['date'])\n",
        "ordersACummulative.columns = [\n",
        "    'date',\n",
        "    'ordersCummulativeA',\n",
        "    'revenueCummulativeA',\n",
        "]\n",
        "\n",
        "ordersBDaily = (\n",
        "    orders[orders['group'] == 'B'][['date', 'orderId', 'userId', 'revenue']]\n",
        "    .groupby('date', as_index=False)\n",
        "    .agg({'orderId': pd.Series.nunique, 'revenue': 'sum'})\n",
        ")\n",
        "ordersBDaily.columns = ['date', 'ordersPerDateB', 'revenuePerDateB']\n",
        "\n",
        "ordersBCummulative = ordersBDaily.apply(\n",
        "    lambda x: ordersBDaily[ordersBDaily['date'] <= x['date']].agg(\n",
        "        {'date': 'max', 'ordersPerDateB': 'sum', 'revenuePerDateB': 'sum'}\n",
        "    ),\n",
        "    axis=1,\n",
        ").sort_values(by=['date'])\n",
        "ordersBCummulative.columns = [\n",
        "    'date',\n",
        "    'ordersCummulativeB',\n",
        "    'revenueCummulativeB',\n",
        "]\n",
        "\n",
        "data = (\n",
        "    ordersADaily.merge(\n",
        "        ordersBDaily, left_on='date', right_on='date', how='left'\n",
        "    )\n",
        "    .merge(ordersACummulative, left_on='date', right_on='date', how='left')\n",
        "    .merge(ordersBCummulative, left_on='date', right_on='date', how='left')\n",
        "    .merge(visitorsADaily, left_on='date', right_on='date', how='left')\n",
        "    .merge(visitorsBDaily, left_on='date', right_on='date', how='left')\n",
        "    .merge(visitorsACummulative, left_on='date', right_on='date', how='left')\n",
        "    .merge(visitorsBCummulative, left_on='date', right_on='date', how='left')\n",
        ")\n",
        "\n",
        "print(data.head(5))"
      ]
    },
    {
      "cell_type": "markdown",
      "metadata": {
        "id": "hlla7vpBiKAz"
      },
      "source": [
        "Сформулируем нулевую и альтернативную гипотезы:\n",
        "<p>H0: конверсия группы A равна конверсии группы B</p>\n",
        "<p>H1: конверсия группы A не равна конверсии группы B</p>"
      ]
    },
    {
      "cell_type": "code",
      "execution_count": null,
      "metadata": {
        "id": "DxM5QlbAiKA0",
        "outputId": "3230db66-afa1-426f-ce1c-27e321fb1117"
      },
      "outputs": [
        {
          "name": "stdout",
          "output_type": "stream",
          "text": [
            "p_value: 0.008\n",
            "Относительный прирост конверсии группы B относительно группы A: 0.138\n",
            "Отвергаем нулевую гипотезу: разница статистически значима\n"
          ]
        }
      ],
      "source": [
        "ordersByUsersA = (\n",
        "    orders[orders['group'] == 'A']\n",
        "    .groupby('userId', as_index=False)\n",
        "    .agg({'orderId': pd.Series.nunique})\n",
        ")\n",
        "ordersByUsersA.columns = ['userId', 'orders']\n",
        "\n",
        "ordersByUsersB = (\n",
        "    orders[orders['group'] == 'B']\n",
        "    .groupby('userId', as_index=False)\n",
        "    .agg({'orderId': pd.Series.nunique})\n",
        ")\n",
        "ordersByUsersB.columns = ['userId', 'orders']\n",
        "\n",
        "sampleA = pd.concat(\n",
        "    [\n",
        "        ordersByUsersA['orders'],\n",
        "        pd.Series(\n",
        "            0,\n",
        "            index=np.arange(\n",
        "                data['visitorsPerDateA'].sum() - len(ordersByUsersA['orders'])\n",
        "            ),\n",
        "            name='orders',\n",
        "        ),\n",
        "    ],\n",
        "    axis=0,\n",
        ")\n",
        "\n",
        "sampleB = pd.concat(\n",
        "    [\n",
        "        ordersByUsersB['orders'],\n",
        "        pd.Series(\n",
        "            0,\n",
        "            index=np.arange(\n",
        "                data['visitorsPerDateB'].sum() - len(ordersByUsersB['orders'])\n",
        "            ),\n",
        "            name='orders',\n",
        "        ),\n",
        "    ],\n",
        "    axis=0,\n",
        ")\n",
        "# уровень статистической значимости\n",
        "alpha = 0.05\n",
        "\n",
        "print('p_value: ' + \"{0:.3f}\".format(st.mannwhitneyu(sampleA, sampleB)[1]))\n",
        "\n",
        "print('Относительный прирост конверсии группы B относительно группы A: ' + \"{0:.3f}\".format(sampleB.mean() / sampleA.mean() - 1))\n",
        "\n",
        "if st.mannwhitneyu(sampleA, sampleB)[1] < alpha:\n",
        "    print('Отвергаем нулевую гипотезу: разница статистически значима')\n",
        "else:\n",
        "    print('Не получилось отвергнуть нулевую гипотезу')"
      ]
    },
    {
      "cell_type": "markdown",
      "metadata": {
        "id": "6NtDNE3ZiKA1"
      },
      "source": [
        "Видим, что по \"сырым\" данным конверсии двух групп различаются, причем прирост по конверсии составил почти 14 %."
      ]
    },
    {
      "cell_type": "markdown",
      "metadata": {
        "id": "IlPfYa0diKA1"
      },
      "source": [
        "* <strong> Посчитаем статистическую значимость различий в среднем чеке заказа между группами по «сырым» данным."
      ]
    },
    {
      "cell_type": "code",
      "execution_count": null,
      "metadata": {
        "id": "QajxsUJhiKA2",
        "outputId": "dddbe522-1409-47a3-b8e6-542974f15417"
      },
      "outputs": [
        {
          "name": "stdout",
          "output_type": "stream",
          "text": [
            "p_value: 0.365\n",
            "Относительное различие в среднем чеке: 0.259\n"
          ]
        }
      ],
      "source": [
        "print('p_value: ' + '{0:.3f}'.format(st.mannwhitneyu(orders[orders['group']=='A']['revenue'], orders[orders['group']=='B']['revenue'])[1]))\n",
        "print('Относительное различие в среднем чеке: ' + '{0:.3f}'.format(orders[orders['group']=='B']['revenue'].mean()/orders[orders['group']=='A']['revenue'].mean()-1))"
      ]
    },
    {
      "cell_type": "markdown",
      "metadata": {
        "id": "AJCeCtR0iKA2"
      },
      "source": [
        "Разницы в среднем чеке между группами нет. А вот относительный прирост показывает, что в группе B средний чек выше. Это как раз влияние выбросов. Далее посмотрим на очищеннные данные и их статистические показатели и как они отличаются от \"сырых\"."
      ]
    },
    {
      "cell_type": "markdown",
      "metadata": {
        "id": "7-JRlyAYiKA2"
      },
      "source": [
        "* <strong> Посчитаем статистическую значимость различий в конверсии между группами по «очищенным» данным. "
      ]
    },
    {
      "cell_type": "markdown",
      "metadata": {
        "id": "EHVHkH3HiKA3"
      },
      "source": [
        "Ранее мы определили границу для фильтрации дла количества заказов и сумме заказа: кол-во заказов от 3-х и сумма заказа от 28 000"
      ]
    },
    {
      "cell_type": "code",
      "execution_count": null,
      "metadata": {
        "id": "nNHFeH0LiKA3",
        "outputId": "66c0979a-e1fa-467f-a8fc-8de51e04dbb7"
      },
      "outputs": [
        {
          "name": "stdout",
          "output_type": "stream",
          "text": [
            "1099    148427295\n",
            "18      199603092\n",
            "928     204675465\n",
            "23      237748145\n",
            "684     358944393\n",
            "Name: userId, dtype: int64\n",
            "(63,)\n"
          ]
        }
      ],
      "source": [
        "usersWithManyOrders = pd.concat(\n",
        "    [\n",
        "        ordersByUsersA[ordersByUsersA['orders'] > 3]['userId'],\n",
        "        ordersByUsersB[ordersByUsersB['orders'] > 3]['userId'],\n",
        "    ],\n",
        "    axis=0,\n",
        ")\n",
        "usersWithExpensiveOrders = orders[orders['revenue'] > 28000]['userId']\n",
        "abnormalUsers = (\n",
        "    pd.concat([usersWithManyOrders, usersWithExpensiveOrders], axis=0)\n",
        "    .drop_duplicates()\n",
        "    .sort_values()\n",
        ")\n",
        "print(abnormalUsers.head(5))\n",
        "print(abnormalUsers.shape)"
      ]
    },
    {
      "cell_type": "markdown",
      "metadata": {
        "id": "PEApu76JiKA3"
      },
      "source": [
        "63 пользователя с аномальными данными. Узнаем, как их действия повлияли на результаты теста. Посчитаем статистическую значимость различий в конверсии между группами теста по очищенным данным. Сначала подготовим выборки количества заказов по пользователям по группам теста:"
      ]
    },
    {
      "cell_type": "code",
      "execution_count": null,
      "metadata": {
        "id": "7xBDF59FiKA4"
      },
      "outputs": [],
      "source": [
        "sampleAFiltered = pd.concat(\n",
        "    [\n",
        "        ordersByUsersA[\n",
        "            np.logical_not(ordersByUsersA['userId'].isin(abnormalUsers))\n",
        "        ]['orders'],\n",
        "        pd.Series(\n",
        "            0,\n",
        "            index=np.arange(\n",
        "                data['visitorsPerDateA'].sum() - len(ordersByUsersA['orders'])\n",
        "            ),\n",
        "            name='orders',\n",
        "        ),\n",
        "    ],\n",
        "    axis=0,\n",
        ")\n",
        "\n",
        "sampleBFiltered = pd.concat(\n",
        "    [\n",
        "        ordersByUsersB[\n",
        "            np.logical_not(ordersByUsersB['userId'].isin(abnormalUsers))\n",
        "        ]['orders'],\n",
        "        pd.Series(\n",
        "            0,\n",
        "            index=np.arange(\n",
        "                data['visitorsPerDateB'].sum() - len(ordersByUsersB['orders'])\n",
        "            ),\n",
        "            name='orders',\n",
        "        ),\n",
        "    ],\n",
        "    axis=0,\n",
        ")"
      ]
    },
    {
      "cell_type": "code",
      "execution_count": null,
      "metadata": {
        "id": "uFY2DsUPiKA4",
        "outputId": "7c2e1454-b424-46c9-b50b-21c9e2ecf641"
      },
      "outputs": [
        {
          "name": "stdout",
          "output_type": "stream",
          "text": [
            "p_value: 0.009\n",
            "Относительный прирост конверсии группы B относительно группы A по очищеным данным: 0.148\n",
            "Отвергаем нулевую гипотезу: разница статистически значема\n"
          ]
        }
      ],
      "source": [
        "print('p_value: ' + '{0:.3f}'.format(st.mannwhitneyu(sampleAFiltered, sampleBFiltered)[1]))\n",
        "print('Относительный прирост конверсии группы B относительно группы A по очищеным данным: ' + '{0:.3f}'.format(sampleBFiltered.mean()/sampleAFiltered.mean()-1))\n",
        "if st.mannwhitneyu(sampleAFiltered, sampleBFiltered)[1] < alpha:\n",
        "    print('Отвергаем нулевую гипотезу: разница статистически значема')\n",
        "else:\n",
        "    print('Не отвергаем нулевую гипотезу')"
      ]
    },
    {
      "cell_type": "markdown",
      "metadata": {
        "id": "4NJ7Dt-aiKA4"
      },
      "source": [
        "Напомним, что нулевая гипотеза о равенстве конверсий групп A и B. Все таки различия существенны и группа B действительно лучше покупает, чем группа A. Весомый аргумент для того, чтобы признать эксперимент успешным. Теперь посмотрим на различия в среднем чеке."
      ]
    },
    {
      "cell_type": "markdown",
      "metadata": {
        "id": "Rk1H3QL-iKA5"
      },
      "source": [
        "* <strong> Посчитаем статистическую значимость различий в среднем чеке заказа между группами по «очищенным» данным. "
      ]
    },
    {
      "cell_type": "code",
      "execution_count": null,
      "metadata": {
        "scrolled": true,
        "id": "96Rr8AuSiKA5",
        "outputId": "07e624f0-a920-40fd-f662-82409066385b"
      },
      "outputs": [
        {
          "name": "stdout",
          "output_type": "stream",
          "text": [
            "p_value: 0.488\n",
            "Относительный прирост конверсии группы B относительно группы A по очищеным данным: -0.017\n"
          ]
        }
      ],
      "source": [
        "print('p_value: ' + \n",
        "    '{0:.3f}'.format(\n",
        "        st.mannwhitneyu(\n",
        "            orders[\n",
        "                np.logical_and(\n",
        "                    orders['group'] == 'A',\n",
        "                    np.logical_not(orders['userId'].isin(abnormalUsers)),\n",
        "                )\n",
        "            ]['revenue'],\n",
        "            orders[\n",
        "                np.logical_and(\n",
        "                    orders['group'] == 'B',\n",
        "                    np.logical_not(orders['userId'].isin(abnormalUsers)),\n",
        "                )\n",
        "            ]['revenue'],\n",
        "        )[1]\n",
        "    )\n",
        ")\n",
        "\n",
        "print('Относительный прирост конверсии группы B относительно группы A по очищеным данным: ' + \n",
        "    \"{0:.3f}\".format(\n",
        "        orders[\n",
        "            np.logical_and(\n",
        "                orders['group'] == 'B',\n",
        "                np.logical_not(orders['userId'].isin(abnormalUsers)),\n",
        "            )\n",
        "        ]['revenue'].mean()\n",
        "        / orders[\n",
        "            np.logical_and(\n",
        "                orders['group'] == 'A',\n",
        "                np.logical_not(orders['userId'].isin(abnormalUsers)),\n",
        "            )\n",
        "        ]['revenue'].mean()\n",
        "        - 1\n",
        "    )\n",
        ")"
      ]
    },
    {
      "cell_type": "markdown",
      "metadata": {
        "id": "2GBvIB51iKA6"
      },
      "source": [
        "Теперь все сходится и прирост в среднем чеке отсутствует, так как мы убрали аномальные данные. Разницы в среднем чеке между группами нет."
      ]
    },
    {
      "cell_type": "markdown",
      "metadata": {
        "id": "OyiK9WXdiKA6"
      },
      "source": [
        "# Выводы"
      ]
    },
    {
      "cell_type": "markdown",
      "metadata": {
        "id": "yabVsK9qiKA7"
      },
      "source": [
        "Исходя из проведенного анализа можно сделать следующие выводы:"
      ]
    },
    {
      "cell_type": "markdown",
      "metadata": {
        "id": "XWtwlD7NiKA7"
      },
      "source": [
        "1. Разница в конверсии между группами существенна и статистически значема, что позволяет утверждать, что изменения в продукте повлияли на пользователей в группе B в позитивную сторону и это главный аргумент, чтобы реализовать эти изменения уже на основном продукте.\n",
        "2. Нет статистически значимого различия по среднему чеку между группами ни по «сырым», ни по данным после фильтрации аномалий.\n",
        "3. График различия конверсии между группами сообщает, что результаты группы B лучше группы A и данные стабилизаровались, что сигнализирует о том, что тест можно прекращать."
      ]
    },
    {
      "cell_type": "markdown",
      "metadata": {
        "id": "GFgp3sZ_iKA7"
      },
      "source": [
        "Результаты эксперимента можно признать успешными и вносить изменения в основной продукт. "
      ]
    }
  ],
  "metadata": {
    "ExecuteTimeLog": [
      {
        "duration": 1323,
        "start_time": "2021-12-24T16:47:02.398Z"
      },
      {
        "duration": 32,
        "start_time": "2021-12-24T16:50:34.800Z"
      },
      {
        "duration": 9,
        "start_time": "2021-12-24T16:50:57.468Z"
      },
      {
        "duration": 494,
        "start_time": "2021-12-24T16:55:39.814Z"
      },
      {
        "duration": 6,
        "start_time": "2021-12-24T16:56:10.359Z"
      },
      {
        "duration": 16,
        "start_time": "2021-12-24T16:56:31.699Z"
      },
      {
        "duration": 385,
        "start_time": "2021-12-24T16:58:18.123Z"
      },
      {
        "duration": 101,
        "start_time": "2021-12-24T16:58:18.410Z"
      },
      {
        "duration": 99,
        "start_time": "2021-12-24T16:58:18.414Z"
      },
      {
        "duration": 97,
        "start_time": "2021-12-24T16:58:18.417Z"
      },
      {
        "duration": 1866,
        "start_time": "2021-12-24T16:59:24.424Z"
      },
      {
        "duration": 112,
        "start_time": "2021-12-24T16:59:26.180Z"
      },
      {
        "duration": 111,
        "start_time": "2021-12-24T16:59:26.183Z"
      },
      {
        "duration": 109,
        "start_time": "2021-12-24T16:59:26.186Z"
      },
      {
        "duration": 5,
        "start_time": "2021-12-24T17:00:56.092Z"
      },
      {
        "duration": 6,
        "start_time": "2021-12-24T17:01:02.053Z"
      },
      {
        "duration": 37,
        "start_time": "2021-12-24T17:01:02.061Z"
      },
      {
        "duration": 10,
        "start_time": "2021-12-24T17:01:02.101Z"
      },
      {
        "duration": 23,
        "start_time": "2021-12-24T17:01:02.114Z"
      },
      {
        "duration": 5,
        "start_time": "2021-12-24T17:01:17.808Z"
      },
      {
        "duration": 29,
        "start_time": "2021-12-24T17:01:17.815Z"
      },
      {
        "duration": 9,
        "start_time": "2021-12-24T17:01:17.847Z"
      },
      {
        "duration": 15,
        "start_time": "2021-12-24T17:01:17.858Z"
      },
      {
        "duration": 5,
        "start_time": "2021-12-24T17:01:52.028Z"
      },
      {
        "duration": 5,
        "start_time": "2021-12-24T17:01:56.741Z"
      },
      {
        "duration": 28,
        "start_time": "2021-12-24T17:01:56.749Z"
      },
      {
        "duration": 8,
        "start_time": "2021-12-24T17:01:56.780Z"
      },
      {
        "duration": 15,
        "start_time": "2021-12-24T17:01:56.790Z"
      },
      {
        "duration": 5,
        "start_time": "2021-12-24T17:02:20.241Z"
      },
      {
        "duration": 990,
        "start_time": "2021-12-27T12:41:52.572Z"
      },
      {
        "duration": 23,
        "start_time": "2021-12-27T12:41:53.564Z"
      },
      {
        "duration": 7,
        "start_time": "2021-12-27T12:41:53.588Z"
      },
      {
        "duration": 15,
        "start_time": "2021-12-27T12:41:53.597Z"
      },
      {
        "duration": 11,
        "start_time": "2021-12-27T12:41:56.633Z"
      },
      {
        "duration": 57,
        "start_time": "2021-12-27T12:59:37.620Z"
      },
      {
        "duration": 7,
        "start_time": "2021-12-27T13:51:04.899Z"
      },
      {
        "duration": 5,
        "start_time": "2021-12-27T13:53:09.553Z"
      },
      {
        "duration": 6,
        "start_time": "2021-12-27T13:53:17.256Z"
      },
      {
        "duration": 8,
        "start_time": "2021-12-27T13:53:26.262Z"
      },
      {
        "duration": 17,
        "start_time": "2021-12-27T13:58:59.654Z"
      },
      {
        "duration": 19,
        "start_time": "2021-12-27T13:59:08.882Z"
      },
      {
        "duration": 6,
        "start_time": "2021-12-27T13:59:19.338Z"
      },
      {
        "duration": 4,
        "start_time": "2021-12-27T14:00:02.526Z"
      },
      {
        "duration": 3,
        "start_time": "2021-12-27T14:36:46.631Z"
      },
      {
        "duration": 5,
        "start_time": "2021-12-27T14:37:03.707Z"
      },
      {
        "duration": 435,
        "start_time": "2021-12-27T14:37:39.759Z"
      },
      {
        "duration": 324,
        "start_time": "2021-12-27T14:37:58.342Z"
      },
      {
        "duration": 313,
        "start_time": "2021-12-27T14:38:05.507Z"
      },
      {
        "duration": 4,
        "start_time": "2021-12-27T14:38:14.152Z"
      },
      {
        "duration": 3,
        "start_time": "2021-12-27T14:38:28.551Z"
      },
      {
        "duration": 4,
        "start_time": "2021-12-27T14:40:34.647Z"
      },
      {
        "duration": 9,
        "start_time": "2021-12-27T14:40:52.458Z"
      },
      {
        "duration": 4,
        "start_time": "2021-12-27T14:43:18.074Z"
      },
      {
        "duration": 29,
        "start_time": "2021-12-27T14:43:18.080Z"
      },
      {
        "duration": 7,
        "start_time": "2021-12-27T14:43:18.111Z"
      },
      {
        "duration": 11,
        "start_time": "2021-12-27T14:43:18.120Z"
      },
      {
        "duration": 14,
        "start_time": "2021-12-27T14:43:18.133Z"
      },
      {
        "duration": 72,
        "start_time": "2021-12-27T14:43:18.148Z"
      },
      {
        "duration": 8,
        "start_time": "2021-12-27T14:43:18.222Z"
      },
      {
        "duration": 6,
        "start_time": "2021-12-27T14:43:18.232Z"
      },
      {
        "duration": 6,
        "start_time": "2021-12-27T14:43:18.239Z"
      },
      {
        "duration": 21,
        "start_time": "2021-12-27T14:43:18.247Z"
      },
      {
        "duration": 7,
        "start_time": "2021-12-27T14:43:18.269Z"
      },
      {
        "duration": 5,
        "start_time": "2021-12-27T14:43:18.278Z"
      },
      {
        "duration": 686,
        "start_time": "2021-12-27T14:45:09.812Z"
      },
      {
        "duration": 3,
        "start_time": "2021-12-27T14:46:50.882Z"
      },
      {
        "duration": 24,
        "start_time": "2021-12-27T14:46:50.889Z"
      },
      {
        "duration": 6,
        "start_time": "2021-12-27T14:46:50.915Z"
      },
      {
        "duration": 12,
        "start_time": "2021-12-27T14:46:50.923Z"
      },
      {
        "duration": 12,
        "start_time": "2021-12-27T14:46:50.936Z"
      },
      {
        "duration": 61,
        "start_time": "2021-12-27T14:46:50.949Z"
      },
      {
        "duration": 8,
        "start_time": "2021-12-27T14:46:51.011Z"
      },
      {
        "duration": 8,
        "start_time": "2021-12-27T14:46:51.020Z"
      },
      {
        "duration": 8,
        "start_time": "2021-12-27T14:46:51.030Z"
      },
      {
        "duration": 20,
        "start_time": "2021-12-27T14:46:51.040Z"
      },
      {
        "duration": 9,
        "start_time": "2021-12-27T14:46:51.062Z"
      },
      {
        "duration": 309,
        "start_time": "2021-12-27T14:46:51.072Z"
      },
      {
        "duration": 186,
        "start_time": "2021-12-27T15:00:14.302Z"
      },
      {
        "duration": 101,
        "start_time": "2021-12-27T15:03:51.546Z"
      },
      {
        "duration": 996,
        "start_time": "2021-12-27T15:03:50.653Z"
      },
      {
        "duration": 992,
        "start_time": "2021-12-27T15:03:50.658Z"
      },
      {
        "duration": 989,
        "start_time": "2021-12-27T15:03:50.662Z"
      },
      {
        "duration": 983,
        "start_time": "2021-12-27T15:03:50.669Z"
      },
      {
        "duration": 980,
        "start_time": "2021-12-27T15:03:50.673Z"
      },
      {
        "duration": 976,
        "start_time": "2021-12-27T15:03:50.678Z"
      },
      {
        "duration": 973,
        "start_time": "2021-12-27T15:03:50.682Z"
      },
      {
        "duration": 969,
        "start_time": "2021-12-27T15:03:50.687Z"
      },
      {
        "duration": 965,
        "start_time": "2021-12-27T15:03:50.691Z"
      },
      {
        "duration": 961,
        "start_time": "2021-12-27T15:03:50.696Z"
      },
      {
        "duration": 958,
        "start_time": "2021-12-27T15:03:50.700Z"
      },
      {
        "duration": 205,
        "start_time": "2021-12-27T15:03:51.660Z"
      },
      {
        "duration": 569,
        "start_time": "2021-12-27T15:09:53.840Z"
      },
      {
        "duration": 181,
        "start_time": "2021-12-27T15:10:07.030Z"
      },
      {
        "duration": 190,
        "start_time": "2021-12-27T15:12:54.398Z"
      },
      {
        "duration": 121,
        "start_time": "2021-12-27T15:32:05.236Z"
      },
      {
        "duration": 1062,
        "start_time": "2021-12-27T15:32:04.297Z"
      },
      {
        "duration": 1055,
        "start_time": "2021-12-27T15:32:04.305Z"
      },
      {
        "duration": 1052,
        "start_time": "2021-12-27T15:32:04.310Z"
      },
      {
        "duration": 1048,
        "start_time": "2021-12-27T15:32:04.315Z"
      },
      {
        "duration": 1042,
        "start_time": "2021-12-27T15:32:04.322Z"
      },
      {
        "duration": 1039,
        "start_time": "2021-12-27T15:32:04.327Z"
      },
      {
        "duration": 1035,
        "start_time": "2021-12-27T15:32:04.332Z"
      },
      {
        "duration": 1029,
        "start_time": "2021-12-27T15:32:04.340Z"
      },
      {
        "duration": 1025,
        "start_time": "2021-12-27T15:32:04.345Z"
      },
      {
        "duration": 1021,
        "start_time": "2021-12-27T15:32:04.350Z"
      },
      {
        "duration": 1018,
        "start_time": "2021-12-27T15:32:04.355Z"
      },
      {
        "duration": 1013,
        "start_time": "2021-12-27T15:32:04.361Z"
      },
      {
        "duration": 1010,
        "start_time": "2021-12-27T15:32:04.365Z"
      },
      {
        "duration": 110,
        "start_time": "2021-12-27T15:39:48.970Z"
      },
      {
        "duration": 1075,
        "start_time": "2021-12-27T15:39:48.007Z"
      },
      {
        "duration": 1070,
        "start_time": "2021-12-27T15:39:48.013Z"
      },
      {
        "duration": 1056,
        "start_time": "2021-12-27T15:39:48.028Z"
      },
      {
        "duration": 1053,
        "start_time": "2021-12-27T15:39:48.032Z"
      },
      {
        "duration": 1045,
        "start_time": "2021-12-27T15:39:48.041Z"
      },
      {
        "duration": 1043,
        "start_time": "2021-12-27T15:39:48.045Z"
      },
      {
        "duration": 1040,
        "start_time": "2021-12-27T15:39:48.049Z"
      },
      {
        "duration": 1036,
        "start_time": "2021-12-27T15:39:48.054Z"
      },
      {
        "duration": 1033,
        "start_time": "2021-12-27T15:39:48.058Z"
      },
      {
        "duration": 1030,
        "start_time": "2021-12-27T15:39:48.062Z"
      },
      {
        "duration": 1027,
        "start_time": "2021-12-27T15:39:48.066Z"
      },
      {
        "duration": 1016,
        "start_time": "2021-12-27T15:39:48.078Z"
      },
      {
        "duration": 1007,
        "start_time": "2021-12-27T15:40:29.210Z"
      },
      {
        "duration": 23,
        "start_time": "2021-12-27T15:40:30.219Z"
      },
      {
        "duration": 17,
        "start_time": "2021-12-27T15:40:30.244Z"
      },
      {
        "duration": 17,
        "start_time": "2021-12-27T15:40:30.262Z"
      },
      {
        "duration": 10,
        "start_time": "2021-12-27T15:40:30.280Z"
      },
      {
        "duration": 53,
        "start_time": "2021-12-27T15:40:30.292Z"
      },
      {
        "duration": 8,
        "start_time": "2021-12-27T15:40:30.347Z"
      },
      {
        "duration": 9,
        "start_time": "2021-12-27T15:40:30.357Z"
      },
      {
        "duration": 7,
        "start_time": "2021-12-27T15:40:30.368Z"
      },
      {
        "duration": 23,
        "start_time": "2021-12-27T15:40:30.376Z"
      },
      {
        "duration": 572,
        "start_time": "2021-12-27T15:40:30.401Z"
      },
      {
        "duration": 1080,
        "start_time": "2021-12-27T15:40:29.894Z"
      },
      {
        "duration": 1052,
        "start_time": "2021-12-27T15:40:29.923Z"
      },
      {
        "duration": 5,
        "start_time": "2021-12-27T15:40:54.398Z"
      },
      {
        "duration": 300,
        "start_time": "2021-12-27T15:40:57.154Z"
      },
      {
        "duration": 506,
        "start_time": "2021-12-27T15:41:01.831Z"
      },
      {
        "duration": 1631,
        "start_time": "2021-12-27T15:42:01.878Z"
      },
      {
        "duration": 1071,
        "start_time": "2021-12-27T15:42:02.440Z"
      },
      {
        "duration": 1068,
        "start_time": "2021-12-27T15:42:02.444Z"
      },
      {
        "duration": 1066,
        "start_time": "2021-12-27T15:42:02.448Z"
      },
      {
        "duration": 1063,
        "start_time": "2021-12-27T15:42:02.452Z"
      },
      {
        "duration": 1060,
        "start_time": "2021-12-27T15:42:02.456Z"
      },
      {
        "duration": 1057,
        "start_time": "2021-12-27T15:42:02.460Z"
      },
      {
        "duration": 1055,
        "start_time": "2021-12-27T15:42:02.463Z"
      },
      {
        "duration": 1051,
        "start_time": "2021-12-27T15:42:02.468Z"
      },
      {
        "duration": 1047,
        "start_time": "2021-12-27T15:42:02.472Z"
      },
      {
        "duration": 1044,
        "start_time": "2021-12-27T15:42:02.476Z"
      },
      {
        "duration": 1043,
        "start_time": "2021-12-27T15:42:02.479Z"
      },
      {
        "duration": 1039,
        "start_time": "2021-12-27T15:42:02.484Z"
      },
      {
        "duration": 3,
        "start_time": "2021-12-27T15:42:30.490Z"
      },
      {
        "duration": 24,
        "start_time": "2021-12-27T15:42:30.497Z"
      },
      {
        "duration": 11,
        "start_time": "2021-12-27T15:42:30.523Z"
      },
      {
        "duration": 15,
        "start_time": "2021-12-27T15:42:30.536Z"
      },
      {
        "duration": 13,
        "start_time": "2021-12-27T15:42:30.552Z"
      },
      {
        "duration": 54,
        "start_time": "2021-12-27T15:42:30.567Z"
      },
      {
        "duration": 8,
        "start_time": "2021-12-27T15:42:30.622Z"
      },
      {
        "duration": 10,
        "start_time": "2021-12-27T15:42:30.631Z"
      },
      {
        "duration": 13,
        "start_time": "2021-12-27T15:42:30.643Z"
      },
      {
        "duration": 24,
        "start_time": "2021-12-27T15:42:30.658Z"
      },
      {
        "duration": 7,
        "start_time": "2021-12-27T15:42:30.684Z"
      },
      {
        "duration": 304,
        "start_time": "2021-12-27T15:42:30.692Z"
      },
      {
        "duration": 490,
        "start_time": "2021-12-27T15:42:30.998Z"
      },
      {
        "duration": 191,
        "start_time": "2021-12-27T15:42:51.810Z"
      },
      {
        "duration": 196,
        "start_time": "2021-12-27T15:45:43.156Z"
      },
      {
        "duration": 189,
        "start_time": "2021-12-27T15:48:51.823Z"
      },
      {
        "duration": 202,
        "start_time": "2021-12-27T15:48:58.127Z"
      },
      {
        "duration": 164,
        "start_time": "2021-12-27T15:49:31.282Z"
      },
      {
        "duration": 170,
        "start_time": "2021-12-27T15:49:45.340Z"
      },
      {
        "duration": 182,
        "start_time": "2021-12-27T16:07:52.160Z"
      },
      {
        "duration": 344,
        "start_time": "2021-12-27T16:08:14.667Z"
      },
      {
        "duration": 279,
        "start_time": "2021-12-27T16:08:54.490Z"
      },
      {
        "duration": 299,
        "start_time": "2021-12-27T16:10:37.259Z"
      },
      {
        "duration": 4,
        "start_time": "2021-12-27T18:02:41.346Z"
      },
      {
        "duration": 23,
        "start_time": "2021-12-27T18:02:41.352Z"
      },
      {
        "duration": 5,
        "start_time": "2021-12-27T18:02:41.377Z"
      },
      {
        "duration": 9,
        "start_time": "2021-12-27T18:02:41.384Z"
      },
      {
        "duration": 10,
        "start_time": "2021-12-27T18:02:41.395Z"
      },
      {
        "duration": 61,
        "start_time": "2021-12-27T18:02:41.406Z"
      },
      {
        "duration": 8,
        "start_time": "2021-12-27T18:02:41.468Z"
      },
      {
        "duration": 7,
        "start_time": "2021-12-27T18:02:41.477Z"
      },
      {
        "duration": 6,
        "start_time": "2021-12-27T18:02:41.486Z"
      },
      {
        "duration": 21,
        "start_time": "2021-12-27T18:02:41.494Z"
      },
      {
        "duration": 5,
        "start_time": "2021-12-27T18:02:41.516Z"
      },
      {
        "duration": 304,
        "start_time": "2021-12-27T18:02:41.523Z"
      },
      {
        "duration": 206,
        "start_time": "2021-12-27T18:02:41.828Z"
      },
      {
        "duration": 200,
        "start_time": "2021-12-27T18:02:42.035Z"
      },
      {
        "duration": 302,
        "start_time": "2021-12-27T18:02:42.236Z"
      },
      {
        "duration": 191,
        "start_time": "2021-12-27T18:02:42.540Z"
      },
      {
        "duration": 185,
        "start_time": "2021-12-27T18:03:33.846Z"
      },
      {
        "duration": 191,
        "start_time": "2021-12-27T18:04:40.139Z"
      },
      {
        "duration": 185,
        "start_time": "2021-12-27T18:09:46.876Z"
      },
      {
        "duration": 179,
        "start_time": "2021-12-27T18:10:04.298Z"
      },
      {
        "duration": 364,
        "start_time": "2021-12-27T18:47:04.721Z"
      },
      {
        "duration": 3,
        "start_time": "2021-12-27T18:47:18.910Z"
      },
      {
        "duration": 25,
        "start_time": "2021-12-27T18:47:18.915Z"
      },
      {
        "duration": 8,
        "start_time": "2021-12-27T18:47:18.942Z"
      },
      {
        "duration": 16,
        "start_time": "2021-12-27T18:47:18.952Z"
      },
      {
        "duration": 16,
        "start_time": "2021-12-27T18:47:18.969Z"
      },
      {
        "duration": 69,
        "start_time": "2021-12-27T18:47:18.986Z"
      },
      {
        "duration": 12,
        "start_time": "2021-12-27T18:47:19.058Z"
      },
      {
        "duration": 17,
        "start_time": "2021-12-27T18:47:19.072Z"
      },
      {
        "duration": 8,
        "start_time": "2021-12-27T18:47:19.090Z"
      },
      {
        "duration": 28,
        "start_time": "2021-12-27T18:47:19.099Z"
      },
      {
        "duration": 6,
        "start_time": "2021-12-27T18:47:19.129Z"
      },
      {
        "duration": 329,
        "start_time": "2021-12-27T18:47:19.137Z"
      },
      {
        "duration": 210,
        "start_time": "2021-12-27T18:47:19.468Z"
      },
      {
        "duration": 194,
        "start_time": "2021-12-27T18:47:19.679Z"
      },
      {
        "duration": 300,
        "start_time": "2021-12-27T18:47:19.875Z"
      },
      {
        "duration": 167,
        "start_time": "2021-12-27T18:47:20.177Z"
      },
      {
        "duration": 1173,
        "start_time": "2021-12-27T18:47:19.173Z"
      },
      {
        "duration": 179,
        "start_time": "2021-12-27T18:47:34.080Z"
      },
      {
        "duration": 265,
        "start_time": "2021-12-27T18:47:38.575Z"
      },
      {
        "duration": 311,
        "start_time": "2021-12-27T18:48:19.133Z"
      },
      {
        "duration": 307,
        "start_time": "2021-12-27T18:49:32.038Z"
      },
      {
        "duration": 283,
        "start_time": "2021-12-27T18:50:31.246Z"
      },
      {
        "duration": 292,
        "start_time": "2021-12-27T18:50:47.594Z"
      },
      {
        "duration": 1409,
        "start_time": "2021-12-28T14:12:23.982Z"
      },
      {
        "duration": 28,
        "start_time": "2021-12-28T14:12:25.393Z"
      },
      {
        "duration": 8,
        "start_time": "2021-12-28T14:12:25.425Z"
      },
      {
        "duration": 21,
        "start_time": "2021-12-28T14:12:25.436Z"
      },
      {
        "duration": 16,
        "start_time": "2021-12-28T14:12:25.459Z"
      },
      {
        "duration": 47,
        "start_time": "2021-12-28T14:12:25.478Z"
      },
      {
        "duration": 13,
        "start_time": "2021-12-28T14:12:25.527Z"
      },
      {
        "duration": 8,
        "start_time": "2021-12-28T14:12:25.542Z"
      },
      {
        "duration": 8,
        "start_time": "2021-12-28T14:12:25.554Z"
      },
      {
        "duration": 22,
        "start_time": "2021-12-28T14:12:25.565Z"
      },
      {
        "duration": 6,
        "start_time": "2021-12-28T14:12:25.618Z"
      },
      {
        "duration": 575,
        "start_time": "2021-12-28T14:12:25.626Z"
      },
      {
        "duration": 369,
        "start_time": "2021-12-28T14:12:26.204Z"
      },
      {
        "duration": 355,
        "start_time": "2021-12-28T14:12:26.575Z"
      },
      {
        "duration": 439,
        "start_time": "2021-12-28T14:12:26.932Z"
      },
      {
        "duration": 343,
        "start_time": "2021-12-28T14:12:27.374Z"
      },
      {
        "duration": 424,
        "start_time": "2021-12-28T14:12:27.719Z"
      },
      {
        "duration": 13,
        "start_time": "2021-12-28T14:12:37.292Z"
      },
      {
        "duration": 447,
        "start_time": "2021-12-28T14:21:35.136Z"
      },
      {
        "duration": 686,
        "start_time": "2021-12-28T14:22:10.753Z"
      },
      {
        "duration": 413,
        "start_time": "2021-12-28T14:23:14.665Z"
      },
      {
        "duration": 510,
        "start_time": "2021-12-28T14:23:25.258Z"
      },
      {
        "duration": 12,
        "start_time": "2021-12-28T14:26:06.820Z"
      },
      {
        "duration": 8,
        "start_time": "2021-12-28T14:29:49.654Z"
      },
      {
        "duration": 419,
        "start_time": "2021-12-28T14:34:43.916Z"
      },
      {
        "duration": 8,
        "start_time": "2021-12-28T14:35:02.950Z"
      },
      {
        "duration": 403,
        "start_time": "2021-12-28T14:36:13.201Z"
      },
      {
        "duration": 6,
        "start_time": "2021-12-28T14:44:10.659Z"
      },
      {
        "duration": 6,
        "start_time": "2021-12-28T14:44:27.486Z"
      },
      {
        "duration": 6936,
        "start_time": "2021-12-28T14:51:58.713Z"
      },
      {
        "duration": 11,
        "start_time": "2021-12-28T14:52:39.958Z"
      },
      {
        "duration": 511,
        "start_time": "2021-12-28T14:53:36.683Z"
      },
      {
        "duration": 416,
        "start_time": "2021-12-28T14:54:04.327Z"
      },
      {
        "duration": 418,
        "start_time": "2021-12-28T14:55:04.111Z"
      },
      {
        "duration": 7,
        "start_time": "2021-12-28T15:04:14.277Z"
      },
      {
        "duration": 5,
        "start_time": "2021-12-28T17:04:11.330Z"
      },
      {
        "duration": 27,
        "start_time": "2021-12-28T17:04:11.337Z"
      },
      {
        "duration": 9,
        "start_time": "2021-12-28T17:04:11.367Z"
      },
      {
        "duration": 39,
        "start_time": "2021-12-28T17:04:11.379Z"
      },
      {
        "duration": 17,
        "start_time": "2021-12-28T17:04:11.421Z"
      },
      {
        "duration": 42,
        "start_time": "2021-12-28T17:04:11.440Z"
      },
      {
        "duration": 13,
        "start_time": "2021-12-28T17:04:11.487Z"
      },
      {
        "duration": 8,
        "start_time": "2021-12-28T17:04:11.518Z"
      },
      {
        "duration": 9,
        "start_time": "2021-12-28T17:04:11.529Z"
      },
      {
        "duration": 28,
        "start_time": "2021-12-28T17:04:11.542Z"
      },
      {
        "duration": 7,
        "start_time": "2021-12-28T17:04:11.573Z"
      },
      {
        "duration": 656,
        "start_time": "2021-12-28T17:04:11.582Z"
      },
      {
        "duration": 380,
        "start_time": "2021-12-28T17:04:12.240Z"
      },
      {
        "duration": 346,
        "start_time": "2021-12-28T17:04:12.622Z"
      },
      {
        "duration": 506,
        "start_time": "2021-12-28T17:04:12.971Z"
      },
      {
        "duration": 377,
        "start_time": "2021-12-28T17:04:13.479Z"
      },
      {
        "duration": 454,
        "start_time": "2021-12-28T17:04:13.858Z"
      },
      {
        "duration": 12,
        "start_time": "2021-12-28T17:04:14.314Z"
      },
      {
        "duration": 8,
        "start_time": "2021-12-28T17:04:14.331Z"
      },
      {
        "duration": 368,
        "start_time": "2021-12-28T17:04:14.342Z"
      },
      {
        "duration": 7,
        "start_time": "2021-12-28T17:04:14.717Z"
      },
      {
        "duration": 426,
        "start_time": "2021-12-28T17:04:14.727Z"
      },
      {
        "duration": 8,
        "start_time": "2021-12-28T17:04:15.156Z"
      },
      {
        "duration": 481,
        "start_time": "2021-12-28T17:04:15.166Z"
      },
      {
        "duration": 654,
        "start_time": "2021-12-28T17:08:25.125Z"
      },
      {
        "duration": 217,
        "start_time": "2021-12-28T17:09:54.081Z"
      },
      {
        "duration": 226,
        "start_time": "2021-12-28T17:30:52.579Z"
      },
      {
        "duration": 216,
        "start_time": "2021-12-28T17:37:16.463Z"
      },
      {
        "duration": 287,
        "start_time": "2021-12-28T17:46:19.045Z"
      },
      {
        "duration": 15,
        "start_time": "2021-12-28T17:46:38.968Z"
      },
      {
        "duration": 1381,
        "start_time": "2021-12-29T11:49:11.328Z"
      },
      {
        "duration": 34,
        "start_time": "2021-12-29T11:49:12.712Z"
      },
      {
        "duration": 14,
        "start_time": "2021-12-29T11:49:12.749Z"
      },
      {
        "duration": 25,
        "start_time": "2021-12-29T11:49:12.766Z"
      },
      {
        "duration": 18,
        "start_time": "2021-12-29T11:49:12.793Z"
      },
      {
        "duration": 54,
        "start_time": "2021-12-29T11:49:12.813Z"
      },
      {
        "duration": 12,
        "start_time": "2021-12-29T11:49:12.869Z"
      },
      {
        "duration": 8,
        "start_time": "2021-12-29T11:49:12.885Z"
      },
      {
        "duration": 7,
        "start_time": "2021-12-29T11:49:12.897Z"
      },
      {
        "duration": 61,
        "start_time": "2021-12-29T11:49:12.906Z"
      },
      {
        "duration": 6,
        "start_time": "2021-12-29T11:49:12.969Z"
      },
      {
        "duration": 563,
        "start_time": "2021-12-29T11:49:12.977Z"
      },
      {
        "duration": 420,
        "start_time": "2021-12-29T11:49:13.542Z"
      },
      {
        "duration": 496,
        "start_time": "2021-12-29T11:49:13.980Z"
      },
      {
        "duration": 421,
        "start_time": "2021-12-29T11:49:14.479Z"
      },
      {
        "duration": 350,
        "start_time": "2021-12-29T11:49:14.902Z"
      },
      {
        "duration": 441,
        "start_time": "2021-12-29T11:49:15.255Z"
      },
      {
        "duration": 12,
        "start_time": "2021-12-29T11:49:15.698Z"
      },
      {
        "duration": 9,
        "start_time": "2021-12-29T11:49:15.712Z"
      },
      {
        "duration": 442,
        "start_time": "2021-12-29T11:49:15.723Z"
      },
      {
        "duration": 6,
        "start_time": "2021-12-29T11:49:16.167Z"
      },
      {
        "duration": 437,
        "start_time": "2021-12-29T11:49:16.176Z"
      },
      {
        "duration": 6,
        "start_time": "2021-12-29T11:49:16.619Z"
      },
      {
        "duration": 499,
        "start_time": "2021-12-29T11:49:16.629Z"
      },
      {
        "duration": 227,
        "start_time": "2021-12-29T11:49:17.132Z"
      },
      {
        "duration": 16,
        "start_time": "2021-12-29T11:49:17.362Z"
      },
      {
        "duration": 17,
        "start_time": "2021-12-29T11:58:04.727Z"
      },
      {
        "duration": 12,
        "start_time": "2021-12-29T12:00:36.131Z"
      },
      {
        "duration": 751,
        "start_time": "2021-12-29T12:00:53.029Z"
      },
      {
        "duration": 10,
        "start_time": "2021-12-29T12:00:59.375Z"
      },
      {
        "duration": 15,
        "start_time": "2021-12-29T12:04:51.423Z"
      },
      {
        "duration": 25,
        "start_time": "2021-12-29T12:12:17.605Z"
      },
      {
        "duration": 388,
        "start_time": "2021-12-29T12:15:30.453Z"
      },
      {
        "duration": 21,
        "start_time": "2021-12-29T12:15:38.944Z"
      },
      {
        "duration": 429,
        "start_time": "2021-12-29T13:39:30.197Z"
      },
      {
        "duration": 1071,
        "start_time": "2021-12-29T13:39:37.650Z"
      },
      {
        "duration": 26,
        "start_time": "2021-12-29T13:39:38.722Z"
      },
      {
        "duration": 6,
        "start_time": "2021-12-29T13:39:38.750Z"
      },
      {
        "duration": 16,
        "start_time": "2021-12-29T13:39:38.758Z"
      },
      {
        "duration": 11,
        "start_time": "2021-12-29T13:39:38.776Z"
      },
      {
        "duration": 46,
        "start_time": "2021-12-29T13:39:38.789Z"
      },
      {
        "duration": 8,
        "start_time": "2021-12-29T13:39:38.837Z"
      },
      {
        "duration": 9,
        "start_time": "2021-12-29T13:39:38.847Z"
      },
      {
        "duration": 8,
        "start_time": "2021-12-29T13:39:38.857Z"
      },
      {
        "duration": 29,
        "start_time": "2021-12-29T13:39:38.867Z"
      },
      {
        "duration": 6,
        "start_time": "2021-12-29T13:39:38.897Z"
      },
      {
        "duration": 292,
        "start_time": "2021-12-29T13:39:42.157Z"
      },
      {
        "duration": 500,
        "start_time": "2021-12-29T13:39:48.712Z"
      },
      {
        "duration": 508,
        "start_time": "2021-12-29T13:39:57.313Z"
      },
      {
        "duration": 6,
        "start_time": "2021-12-29T13:40:01.549Z"
      },
      {
        "duration": 311,
        "start_time": "2021-12-29T13:45:02.277Z"
      },
      {
        "duration": 7,
        "start_time": "2021-12-29T13:45:21.516Z"
      },
      {
        "duration": 1153,
        "start_time": "2021-12-29T13:45:40.469Z"
      },
      {
        "duration": 25,
        "start_time": "2021-12-29T13:45:41.624Z"
      },
      {
        "duration": 9,
        "start_time": "2021-12-29T13:45:41.651Z"
      },
      {
        "duration": 11,
        "start_time": "2021-12-29T13:45:41.662Z"
      },
      {
        "duration": 10,
        "start_time": "2021-12-29T13:45:41.675Z"
      },
      {
        "duration": 53,
        "start_time": "2021-12-29T13:45:41.687Z"
      },
      {
        "duration": 8,
        "start_time": "2021-12-29T13:45:41.741Z"
      },
      {
        "duration": 9,
        "start_time": "2021-12-29T13:45:41.752Z"
      },
      {
        "duration": 9,
        "start_time": "2021-12-29T13:45:41.764Z"
      },
      {
        "duration": 28,
        "start_time": "2021-12-29T13:45:41.775Z"
      },
      {
        "duration": 6,
        "start_time": "2021-12-29T13:45:41.805Z"
      },
      {
        "duration": 10,
        "start_time": "2021-12-29T13:45:41.813Z"
      },
      {
        "duration": 17,
        "start_time": "2021-12-29T13:45:41.825Z"
      },
      {
        "duration": 318,
        "start_time": "2021-12-29T13:45:41.843Z"
      },
      {
        "duration": 308,
        "start_time": "2021-12-29T13:45:42.163Z"
      },
      {
        "duration": 277,
        "start_time": "2021-12-29T13:45:42.473Z"
      },
      {
        "duration": 314,
        "start_time": "2021-12-29T13:45:42.752Z"
      },
      {
        "duration": 181,
        "start_time": "2021-12-29T13:45:43.068Z"
      },
      {
        "duration": 321,
        "start_time": "2021-12-29T13:45:43.251Z"
      },
      {
        "duration": 9,
        "start_time": "2021-12-29T13:45:43.574Z"
      },
      {
        "duration": 9,
        "start_time": "2021-12-29T13:45:43.584Z"
      },
      {
        "duration": 343,
        "start_time": "2021-12-29T13:45:43.595Z"
      },
      {
        "duration": 4,
        "start_time": "2021-12-29T13:45:43.942Z"
      },
      {
        "duration": 352,
        "start_time": "2021-12-29T13:45:43.948Z"
      },
      {
        "duration": 5,
        "start_time": "2021-12-29T13:45:44.302Z"
      },
      {
        "duration": 265,
        "start_time": "2021-12-29T13:45:44.309Z"
      },
      {
        "duration": 121,
        "start_time": "2021-12-29T13:45:44.576Z"
      },
      {
        "duration": 9,
        "start_time": "2021-12-29T13:45:44.699Z"
      },
      {
        "duration": 9,
        "start_time": "2021-12-29T13:45:44.709Z"
      },
      {
        "duration": 28,
        "start_time": "2021-12-29T13:45:44.719Z"
      },
      {
        "duration": 9,
        "start_time": "2021-12-29T13:45:44.749Z"
      },
      {
        "duration": 12,
        "start_time": "2021-12-29T13:45:44.759Z"
      },
      {
        "duration": 11,
        "start_time": "2021-12-29T14:03:59.119Z"
      }
    ],
    "kernelspec": {
      "display_name": "Python 3 (ipykernel)",
      "language": "python",
      "name": "python3"
    },
    "language_info": {
      "codemirror_mode": {
        "name": "ipython",
        "version": 3
      },
      "file_extension": ".py",
      "mimetype": "text/x-python",
      "name": "python",
      "nbconvert_exporter": "python",
      "pygments_lexer": "ipython3",
      "version": "3.9.5"
    },
    "toc": {
      "base_numbering": 1,
      "nav_menu": {},
      "number_sections": true,
      "sideBar": true,
      "skip_h1_title": true,
      "title_cell": "Table of Contents",
      "title_sidebar": "Contents",
      "toc_cell": false,
      "toc_position": {},
      "toc_section_display": true,
      "toc_window_display": false
    },
    "colab": {
      "name": "7.AB prooject.ipynb",
      "provenance": [],
      "collapsed_sections": []
    }
  },
  "nbformat": 4,
  "nbformat_minor": 0
}